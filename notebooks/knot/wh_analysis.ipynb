{
 "cells": [
  {
   "cell_type": "code",
   "execution_count": null,
   "metadata": {},
   "outputs": [],
   "source": [
    "%%javascript\n",
    "IPython.OutputArea.prototype._should_scroll = function(lines) {\n",
    "    return false;\n",
    "}"
   ]
  },
  {
   "cell_type": "code",
   "execution_count": null,
   "metadata": {},
   "outputs": [],
   "source": [
    "# Adding system path\n",
    "import sys, pathlib\n",
    "sys.path.append(str(pathlib.Path.cwd().parent.parent))\n",
    "# sys.path"
   ]
  },
  {
   "cell_type": "code",
   "execution_count": null,
   "metadata": {},
   "outputs": [],
   "source": [
    "# Set to show warnings only once\n",
    "import warnings\n",
    "warnings.filterwarnings('ignore')"
   ]
  },
  {
   "cell_type": "code",
   "execution_count": null,
   "metadata": {},
   "outputs": [],
   "source": [
    "# Setting up displays\n",
    "from IPython.display import display, HTML\n",
    "display(HTML(\"<style>.container { width:100% !important; }</style>\"))\n",
    "\n",
    "import pandas as pd\n",
    "pd.set_option('display.max_rows', 500)\n",
    "pd.set_option('display.max_columns', 500)\n",
    "\n",
    "import math\n",
    "from plotly import tools\n",
    "import plotly.express as px\n",
    "import plotly.graph_objects as go\n",
    "from plotly.subplots import make_subplots\n",
    "from tabulate import tabulate\n",
    "color_scheme=[\"red\",\"blue\",\"green\",\"orange\",\"purple\",\"brown\",\"pink\",\"gray\",\"olive\",\"cyan\",\"darkviolet\",\"goldenrod\",\"darkgreen\",\"chocolate\",\"lawngreen\"]"
   ]
  },
  {
   "cell_type": "code",
   "execution_count": null,
   "metadata": {},
   "outputs": [],
   "source": [
    "# Setting up autoreload for libs\n",
    "%load_ext autoreload\n",
    "%autoreload 2\n",
    "%aimport optiml.backend.warehouse_profile"
   ]
  },
  {
   "cell_type": "code",
   "execution_count": null,
   "metadata": {},
   "outputs": [],
   "source": [
    "# Initialize connection to Snowflake and set analysis date\n",
    "from optiml.connection import SnowflakeConnConfig\n",
    "connection = SnowflakeConnConfig(accountname='jg84276.us-central1.gcp',warehousename=\"XSMALL_WH\").create_connection()\n",
    "# Initialize local environment\n",
    "import os\n",
    "cache_dir = os.path.expanduser('~/data/knot')\n",
    "\n",
    "# Analysis setup\n",
    "sdate = '2022-10-11'\n",
    "edate = '2022-10-21'\n",
    "delta = 'hour'\n",
    "company = 'KNT'\n",
    "account_type = \"enterprise\"\n",
    "\n",
    "# Initialize query library\n",
    "from optiml.backend.warehouse_profile import WarehouseProfile\n",
    "wqlib = WarehouseProfile(connection, company, cache_dir)\n",
    "from optiml.backend.cost_profile import CostProfile, get_previous_dates\n",
    "cqlib = CostProfile(connection, company, cache_dir, account_type)\n",
    "\n",
    "print(f\"The analysis is carried our for date range {sdate} to {edate}\")"
   ]
  },
  {
   "cell_type": "markdown",
   "metadata": {},
   "source": [
    "### Warehouse load analysis"
   ]
  },
  {
   "cell_type": "code",
   "execution_count": null,
   "metadata": {},
   "outputs": [],
   "source": [
    "wh_configs = wqlib.warehouse_config()\n",
    "wh_name = wh_configs[\"name\"].unique().tolist()\n",
    "whs = {}\n",
    "for n in wh_name:\n",
    "    whs[n] = wqlib.wh_queued_load_ts(start_date=sdate,end_date=edate,wh_name=n,delta=delta)\n",
    "    \n",
    "df = whs[wh_name[0]]\n",
    "df.head()"
   ]
  },
  {
   "cell_type": "code",
   "execution_count": null,
   "metadata": {},
   "outputs": [],
   "source": [
    "df_credits = cqlib.cost_by_wh_ts(sdate, edate)\n",
    "df_credits = df_credits[df_credits[\"warehouse_name\"] == wh_name[0]].reset_index(drop=True)\n",
    "df_credits.sort_values(by=[\"hourly_start_time\"],inplace=True)\n",
    "df_credits.head()"
   ]
  },
  {
   "cell_type": "code",
   "execution_count": null,
   "metadata": {},
   "outputs": [],
   "source": [
    "trace1 = go.Bar(\n",
    "    x=df[\"hourly_start_time\"], y=df[\"avg_queued_load\"],\n",
    "    name='Queued Load',marker=dict(color='rgb(222,0,0)')\n",
    ")\n",
    "trace2 = go.Bar(\n",
    "    x=df[\"hourly_start_time\"], y=df[\"avg_running_load\"],\n",
    "    name='Running load',marker=dict(color='rgb(0,0,255)')\n",
    ")\n",
    "trace3 = go.Scatter(\n",
    "  x=df_credits['hourly_start_time']\n",
    "  ,y=df_credits['credits']\n",
    "#   ,fill='tozeroy'\n",
    "  ,name='Credits consumed'\n",
    ")\n",
    "\n",
    "fig=make_subplots(rows=1,cols=1,shared_yaxes=True)\n",
    "fig.append_trace(trace1, 1,1)\n",
    "fig.append_trace(trace2, 1, 1)\n",
    "fig.update_layout(barmode='stack')\n",
    "fig.append_trace(trace3, 1,1)\n",
    "fig.show()"
   ]
  },
  {
   "cell_type": "code",
   "execution_count": null,
   "metadata": {},
   "outputs": [],
   "source": [
    "df_credits.tail()"
   ]
  },
  {
   "cell_type": "code",
   "execution_count": null,
   "metadata": {},
   "outputs": [],
   "source": [
    "df.tail()"
   ]
  },
  {
   "cell_type": "code",
   "execution_count": null,
   "metadata": {},
   "outputs": [],
   "source": []
  }
 ],
 "metadata": {
  "hide_input": false,
  "kernelspec": {
   "display_name": "Python 3 (ipykernel)",
   "language": "python",
   "name": "python3"
  },
  "language_info": {
   "codemirror_mode": {
    "name": "ipython",
    "version": 3
   },
   "file_extension": ".py",
   "mimetype": "text/x-python",
   "name": "python",
   "nbconvert_exporter": "python",
   "pygments_lexer": "ipython3",
   "version": "3.9.15"
  },
  "vscode": {
   "interpreter": {
    "hash": "fcbd4ad66d969ea49516a1cf27383420b67e9e950ebdd1bbb64e01b736f968b6"
   }
  }
 },
 "nbformat": 4,
 "nbformat_minor": 2
}
