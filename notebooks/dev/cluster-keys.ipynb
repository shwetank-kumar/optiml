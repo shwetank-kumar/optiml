{
 "cells": [
  {
   "cell_type": "code",
   "execution_count": null,
   "id": "5d1392d0-fc69-4f48-a8cf-8a98a06cc04f",
   "metadata": {},
   "outputs": [],
   "source": [
    "%pip install sqlglot"
   ]
  },
  {
   "cell_type": "code",
   "execution_count": null,
   "id": "0e552912-e2da-4bff-8002-939aea293f14",
   "metadata": {},
   "outputs": [],
   "source": [
    "import sqlglot\n",
    "from sqlglot import parse_one, exp\n",
    "from sqlglot.lineage import lineage\n",
    "from sqlglot.schema import MappingSchema\n",
    "from sqlglot.dialects import Snowflake\n",
    "from sqlglot.optimizer import optimize"
   ]
  },
  {
   "cell_type": "code",
   "execution_count": null,
   "id": "2c8b6315-08ce-463d-aeae-9222e2c1c436",
   "metadata": {},
   "outputs": [],
   "source": [
    "optimized = optimize(parse_one(sql, dialect=Snowflake), dialect=Snowflake)\n",
    "\n",
    "for predicate in optimized.find_all(exp.Where):\n",
    "    print(predicate)\n"
   ]
  },
  {
   "cell_type": "code",
   "execution_count": null,
   "id": "85936444-2a6c-46a9-960d-2c88d0d19af1",
   "metadata": {},
   "outputs": [],
   "source": [
    "for col in predicate.find_all(exp.Condition):\n",
    "    print(col)"
   ]
  },
  {
   "cell_type": "code",
   "execution_count": null,
   "id": "b9d01f42-6024-4509-9217-83d0d3d3aa9e",
   "metadata": {},
   "outputs": [],
   "source": [
    "col"
   ]
  },
  {
   "cell_type": "code",
   "execution_count": null,
   "id": "3535dec6-0eb5-4363-a18e-9cd10bc186a2",
   "metadata": {},
   "outputs": [],
   "source": [
    "node = lineage(\n",
    "    \"a\",\n",
    "    \"SELECT a FROM z\",\n",
    ")"
   ]
  },
  {
   "cell_type": "code",
   "execution_count": null,
   "id": "06d0de11-3a19-450f-a012-7376ce8b5224",
   "metadata": {},
   "outputs": [],
   "source": [
    "sql = \"\"\"\n",
    "with a as (\n",
    "    select \n",
    "       id,\n",
    "       original as col1, \n",
    "       col2\n",
    "    from \n",
    "       t1\n",
    ")\n",
    "select\n",
    "    col2 as col2_renamed\n",
    "from\n",
    "  a\n",
    "where a.col1 = 3902\n",
    "and id = 123\n",
    "\"\"\"\n",
    "node = lineage(\n",
    "    \"ID\",\n",
    "    sql,\n",
    "    dialect=Snowflake\n",
    ")\n",
    "\n",
    "# source_column_lineage = []\n",
    "# start = node.name\n",
    "\n",
    "# source_column_lineage.append(start)\n",
    "\n",
    "# next_downstream = node.downstream[0]\n",
    "# while True:\n",
    "#     source_column_lineage.append(next_downstream.name)\n",
    "#     if len(next_downstream.downstream) == 0:\n",
    "#         break\n",
    "#     next_downstream = next_downstream.downstream[0]\n",
    "\n",
    "# source_column_lineage"
   ]
  },
  {
   "cell_type": "code",
   "execution_count": null,
   "id": "bef85628-94a3-4f7d-821a-c59307c798d7",
   "metadata": {},
   "outputs": [],
   "source": [
    "sql = \"\"\"\n",
    "SELECT \n",
    "  LOWER(sc.STOREFRONT_ID) AS storefront_id, \n",
    "  c.concept AS pricing \n",
    "FROM \n",
    "  TKWW_ODS.TK_STOREFRONT.STOREFRONT_CONCEPT sc \n",
    "  JOIN TKWW_ODS.TK_TAXONOMY.CONCEPT c ON sc.CONCEPT_ID = c.CONCEPT_id \n",
    "  JOIN TKWW_ODS.TK_TAXONOMY.CONCEPT_HIERARCHY ch ON sc.CONCEPT_ID = ch.CONCEPT_id \n",
    "  JOIN TKWW_ODS.TK_TAXONOMY.CONCEPT_SCHEME_MAPPING csm ON sc.CONCEPT_ID = csm.CONCEPT_id \n",
    "  JOIN TKWW_ODS.TK_TAXONOMY.CONCEPT_SCHEME cs ON csm.CONCEPT_SCHEME_ID = cs.CONCEPT_SCHEME_ID \n",
    "  AND cs.class IS NOT NULL \n",
    "  JOIN (\n",
    "    SELECT \n",
    "      DISTINCT LOWER(STOREFRONT_ID) AS storefront_id \n",
    "    FROM \n",
    "      tkww_dw.tk_dim.dim_storefront_listing s \n",
    "    WHERE \n",
    "      sales_profile_status_code = 'LIVE' -- AND CATEGORY_CODE = 'REC'\n",
    "      ) s ON sc.STOREFRONT_ID = s.STOREFRONT_ID \n",
    "WHERE \n",
    "  ch.parent_concept = 'Price Range'\n",
    "\n",
    "\"\"\""
   ]
  },
  {
   "cell_type": "code",
   "execution_count": null,
   "id": "2d49c185-d513-4209-9425-b91691510738",
   "metadata": {},
   "outputs": [],
   "source": [
    "sql = \"\"\"\n",
    "WITH tk_leads as (\n",
    "  SELECT \n",
    "    distinct 'TK' AS country_code, \n",
    "    -- m.member_id AS member_id,\n",
    "    lower(dl.anonymous_id) as anonymous_id, \n",
    "    mp.vendor_id, \n",
    "    CASE WHEN dl.is_direct = 'true' THEN 1 ELSE 0 END AS direct_flag, \n",
    "    (1 - direct_flag) AS indirect_flag, \n",
    "    l.lead_create_date_key AS lead_day_id, \n",
    "    CASE WHEN l.INITIAL_VENDOR_RESPONSE_TIME_MINS <= 2880 THEN 1 ELSE 0 end AS vendor_response_48_flag, \n",
    "    CASE WHEN l.INITIAL_VENDOR_RESPONSE_TIME_MINS <= 2880 \n",
    "    AND l.INITIAL_BRIDE_RESPONSE_TIME_MINS <= 2880 THEN 1 ELSE 0 end AS rtl_flag \n",
    "  FROM \n",
    "    tkww_dw.tk_fact.f_digital_lead l \n",
    "    JOIN TKWW_DW.TK_DIM.DIM_LEAD dl ON l.lead_key = dl.lead_key \n",
    "    JOIN TKWW_DW.TK_DIM.DIM_CATEGORY c ON l.category_key = c.category_key \n",
    "    JOIN tkww_dw.tk_dim.dim_member m ON l.member_key = m.member_key \n",
    "    JOIN TKWW_DW.TK_DIM.DIM_STOREFRONT s ON s.storefront_key = l.storefront_key \n",
    "    join GPDW.BODAS_DW.MAP_TK_LOCATION_VENDOR mp ON s.location_id = mp.tk_location_id --AND mp.TK_COUNTRY_CODE = 'US' \n",
    "  where \n",
    "    l.lead_create_date_key between 20221128 \n",
    "    and 20221211 \n",
    "    and dl.anonymous_id is not null\n",
    ") \n",
    "select \n",
    "  country_code, \n",
    "  anonymous_id, \n",
    "  vendor_id, \n",
    "  1 as bhva_key, \n",
    "  lead_day_id as bhva_date, \n",
    "  0.07 as bhva_score \n",
    "from \n",
    "  tk_leads \n",
    "where \n",
    "  direct_flag = 1 \n",
    "union \n",
    "select \n",
    "  country_code, \n",
    "  anonymous_id, \n",
    "  vendor_id, \n",
    "  2 as bhva_key, \n",
    "  lead_day_id as bhva_date, \n",
    "  0 as bhva_score \n",
    "from \n",
    "  tk_leads \n",
    "where \n",
    "  indirect_flag = 1 \n",
    "union \n",
    "select \n",
    "  country_code, \n",
    "  anonymous_id, \n",
    "  vendor_id, \n",
    "  3 as bhva_key, \n",
    "  lead_day_id as bhva_date, \n",
    "  0.09 as bhva_score \n",
    "from \n",
    "  tk_leads \n",
    "where \n",
    "  vendor_response_48_flag = 1 \n",
    "union \n",
    "select \n",
    "  country_code, \n",
    "  anonymous_id, \n",
    "  vendor_id, \n",
    "  4 as bhva_key, \n",
    "  lead_day_id as bhva_date, \n",
    "  0.16 as bhva_score \n",
    "from \n",
    "  tk_leads \n",
    "where \n",
    "  rtl_flag = 1\n",
    "\n",
    "\"\"\""
   ]
  },
  {
   "cell_type": "code",
   "execution_count": null,
   "id": "783e887e-f8b3-4f62-8b6d-5c826d17cd42",
   "metadata": {},
   "outputs": [],
   "source": [
    "sql = \"\"\"\n",
    "with qhe as (\n",
    "    select \n",
    "        * \n",
    "    from \n",
    "        query_history_narrowed q\n",
    "    where start_time between $query_start_time_min and $query_start_time_max\n",
    "),\n",
    "query_table_modified as (\n",
    "    select \n",
    "        *\n",
    "    from object_modified_by_query o\n",
    "    where query_start_time between $query_start_time_min and $query_start_time_max\n",
    ")\n",
    "-- enriched as (\n",
    "    select\n",
    "    qhe.col1,\n",
    "    qom.*\n",
    "\n",
    "    from qhe\n",
    "  left join\n",
    "        query_table_modified qom\n",
    "        on qhe.query_id = qom.query_id\n",
    "\"\"\""
   ]
  },
  {
   "cell_type": "code",
   "execution_count": null,
   "id": "b4951bf4-ad53-43ce-b22a-745d85aa2ab9",
   "metadata": {},
   "outputs": [],
   "source": [
    "sql = \"\"\"\n",
    "\n",
    "        SELECT \n",
    "          LOWER(sc.STOREFRONT_ID) AS storefront_id,\n",
    "          c.concept AS pricing\n",
    "        FROM TKWW_ODS.TK_STOREFRONT.STOREFRONT_CONCEPT sc \n",
    "        JOIN TKWW_ODS.TK_TAXONOMY.CONCEPT c ON sc.CONCEPT_ID = c.CONCEPT_id\n",
    "        JOIN TKWW_ODS.TK_TAXONOMY.CONCEPT_HIERARCHY ch ON sc.CONCEPT_ID = ch.CONCEPT_id\n",
    "        JOIN TKWW_ODS.TK_TAXONOMY.CONCEPT_SCHEME_MAPPING csm ON sc.CONCEPT_ID = csm.CONCEPT_id\n",
    "        JOIN TKWW_ODS.TK_TAXONOMY.CONCEPT_SCHEME cs ON csm.CONCEPT_SCHEME_ID = cs.CONCEPT_SCHEME_ID AND cs.class IS NOT NULL\n",
    "        JOIN (        \t\t\n",
    "        \tSELECT \n",
    "        \t\tDISTINCT LOWER(STOREFRONT_ID) AS storefront_id \n",
    "        \tFROM tkww_dw.tk_dim.dim_storefront_listing s         \t\t\n",
    "        \tWHERE sales_profile_status_code = 'LIVE' \n",
    "        \t  -- AND CATEGORY_CODE = 'REC'\n",
    "        \t  ) s ON sc.STOREFRONT_ID = s.STOREFRONT_ID \n",
    "        WHERE ch.parent_concept = 'Price Range'\n",
    "\"\"\"\n",
    "\n"
   ]
  },
  {
   "cell_type": "code",
   "execution_count": null,
   "id": "d6f0226f-1ca2-4cca-9543-79c87174e50a",
   "metadata": {},
   "outputs": [],
   "source": [
    "{\n",
    "   \"filter_predicates\":[\n",
    "      {\n",
    "         \"where_clause\":\"WHERE \\\"s\\\".\\\"sales_profile_status_code\\\" = \\\\'LIVE\\\\'\",\n",
    "         \"filter_columns\":[\n",
    "            {\n",
    "               \"table\":\"s\",\n",
    "               \"column\":\"sales_profile_status_code\"\n",
    "            }\n",
    "         ]\n",
    "      }\n",
    "   ],\n",
    "   \"aliases\":{\n",
    "      \"sc\":\"storefront_concept\",\n",
    "      \"c\":\"concept\",\n",
    "      \"ch\":\"concept_hierarchy\",\n",
    "      \"csm\":\"concept_scheme_mapping\",\n",
    "      \"cs\":\"concept_scheme\",\n",
    "      \"s\":\"dim_storefront_listing\"\n",
    "   },\n",
    "   \"num_optimized_scopes\":2\n",
    "}"
   ]
  },
  {
   "cell_type": "code",
   "execution_count": null,
   "id": "ddedd719-34be-4161-8772-e075e5cb4921",
   "metadata": {},
   "outputs": [],
   "source": [
    "alias.parent.name"
   ]
  },
  {
   "cell_type": "code",
   "execution_count": null,
   "id": "92ed448c-43d3-4e42-b7fc-c375cd66c513",
   "metadata": {},
   "outputs": [],
   "source": [
    "optimized = optimize(parse_one(sql, dialect=Snowflake), dialect=Snowflake)\n",
    "scopes = traverse_scope(optimized)\n",
    "print(f\"number of scopes: {len(scopes)}\")\n",
    "preds = []\n",
    "for scope in traverse_scope(optimized):\n",
    "    # print(f\"scope: {scope}\")\n",
    "    aliases = {}\n",
    "    for alias in scope.find_all(exp.TableAlias):\n",
    "        aliases[alias.name] = alias.parent.name\n",
    "        print(f\"alias: {alias.name}, parent: {alias.parent.name}\")\n",
    "    for clause in scope.find_all(exp.Where):\n",
    "        print(f\"where: {clause}\")\n",
    "        filter_columns = []\n",
    "        for col in clause.find_all(exp.Column):\n",
    "            print(f\"col: {col.name}, table_alias: {col.table}, table: {aliases[col.table]}\")\n",
    "            filter_columns.append({\n",
    "                \"column\": col.name,\n",
    "                \"table_alias\": col.table,\n",
    "                \"table\": aliases.get(col.table)\n",
    "            })\n",
    "        preds.append(\n",
    "            {\n",
    "                \"where_clause\": clause.sql(),\n",
    "                \"filter_columns\": filter_columns\n",
    "            }\n",
    "        )"
   ]
  },
  {
   "cell_type": "code",
   "execution_count": null,
   "id": "6cd8f7b0-0cfc-4e5b-aa19-e4ded6dc45d8",
   "metadata": {},
   "outputs": [],
   "source": [
    "preds"
   ]
  },
  {
   "cell_type": "code",
   "execution_count": null,
   "id": "2d72de2c-12e3-4cd6-950b-46808e30afeb",
   "metadata": {},
   "outputs": [],
   "source": [
    "\n",
    "def filter_predicates(sql):\n",
    "    optimized = optimize(parse_one(sql, dialect=Snowflake), dialect=Snowflake)\n",
    "    scopes = traverse_scope(optimized)\n",
    "    print(f\"number of scopes: {len(scopes)}\")\n",
    "    preds = []\n",
    "    for scope in traverse_scope(optimized):\n",
    "        # print(f\"scope: {scope}\")\n",
    "        aliases = {}\n",
    "        for alias in scope.find_all(exp.TableAlias):\n",
    "            aliases[alias.name] = alias.parent.name\n",
    "            print(f\"alias: {alias.name}, parent: {alias.parent.name}\")\n",
    "        for clause in scope.find_all(exp.Where):\n",
    "            print(f\"where: {clause}\")\n",
    "            filter_columns = []\n",
    "            for col in clause.find_all(exp.Column):\n",
    "                print(f\"col: {col.name}, table_alias: {col.table}, table: {aliases[col.table]}\")\n",
    "                filter_columns.append({\n",
    "                    \"column\": col.name,\n",
    "                    \"table_alias\": col.table,\n",
    "                    \"table\": aliases.get(col.table)\n",
    "                })\n",
    "            preds.append(\n",
    "                {\n",
    "                    \"where_clause\": clause.sql(),\n",
    "                    \"filter_columns\": filter_columns\n",
    "                }\n",
    "            )\n",
    "    return preds\n",
    "\n",
    "f = filter_predicates(sql)\n",
    "\n",
    "print(f)"
   ]
  },
  {
   "cell_type": "code",
   "execution_count": null,
   "id": "1eb4d639-6824-46d2-b549-76eed996bfc5",
   "metadata": {},
   "outputs": [],
   "source": []
  },
  {
   "cell_type": "code",
   "execution_count": null,
   "id": "a28a90ec-dd31-4ce2-862c-c9ee2b19e27c",
   "metadata": {},
   "outputs": [],
   "source": [
    "from sqlglot.optimizer.scope import traverse_scope\n",
    "\n",
    "# ast = sqlglot.parse_one(sql, dialect=Snowflake)\n",
    "optimized = optimize(parse_one(sql, dialect=Snowflake), dialect=Snowflake)\n",
    "print(optimized.sql(pretty=True))\n",
    "ast = optimized\n",
    "physical_columns = [\n",
    "    c\n",
    "    for scope in traverse_scope(ast)\n",
    "    for c in scope.columns\n",
    "    if isinstance(scope.sources.get(c.table), exp.Table)\n",
    "]\n",
    "print(\"======\")\n",
    "print(physical_columns)"
   ]
  },
  {
   "cell_type": "code",
   "execution_count": null,
   "id": "10bb88a5-f72f-4b45-a79b-4e5806b23313",
   "metadata": {},
   "outputs": [],
   "source": [
    "physical_columns"
   ]
  },
  {
   "cell_type": "code",
   "execution_count": null,
   "id": "745aa349-3389-46f1-b129-49c617dcde65",
   "metadata": {},
   "outputs": [],
   "source": [
    "a = node.downstream[0].downstream[0]"
   ]
  },
  {
   "cell_type": "code",
   "execution_count": null,
   "id": "2924304f-345c-41ee-8ce2-8dc6f1c0ce83",
   "metadata": {},
   "outputs": [],
   "source": []
  },
  {
   "cell_type": "code",
   "execution_count": null,
   "id": "ab6af5ea-20ff-4691-b2e9-f9be1a831ab5",
   "metadata": {},
   "outputs": [],
   "source": [
    "parsed = parse_one(sql)\n",
    "\n",
    "for j in parsed.find_all(exp.Where):\n",
    "    print(f\"where: {j}\")\n",
    "    print(repr(j))"
   ]
  },
  {
   "cell_type": "code",
   "execution_count": null,
   "id": "bb24bc53-1e85-4ce2-a8cc-bcf4cbb2dd20",
   "metadata": {},
   "outputs": [],
   "source": [
    "type(node)"
   ]
  },
  {
   "cell_type": "code",
   "execution_count": null,
   "id": "9133fbaa-46cb-480e-a3c5-a3b71cbbd32e",
   "metadata": {},
   "outputs": [],
   "source": [
    "j.find_all(exp.Predicate)"
   ]
  },
  {
   "cell_type": "code",
   "execution_count": null,
   "id": "5845975b-3e2f-4d2a-9ea3-14aeb25da68a",
   "metadata": {},
   "outputs": [],
   "source": [
    "j.flatten()"
   ]
  },
  {
   "cell_type": "code",
   "execution_count": null,
   "id": "2f78b2fb-9df8-44b6-8ff2-87162018b9a5",
   "metadata": {},
   "outputs": [],
   "source": [
    "for i in j.flatten():\n",
    "  print(type(i))\n",
    "  print(i)\n",
    "    \n",
    "for table in j.find_all(exp.Column):\n",
    "  print(f\"table: {table.name}\")\n",
    "\n",
    "    # for cond in j.find_all(exp.Predicate):\n",
    "    #   print(repr(cond))\n",
    "    #   print(f\"cond: {type(cond)}\")\n",
    "    # print(f\"join on: {j.on}\")"
   ]
  },
  {
   "cell_type": "code",
   "execution_count": null,
   "id": "10a56e9a-e838-4444-ad15-af6f1d32b46a",
   "metadata": {},
   "outputs": [],
   "source": [
    "for e in j.find_all(exp.Column):\n",
    "    print(\"hello\")\n",
    "    print(e)"
   ]
  },
  {
   "cell_type": "code",
   "execution_count": null,
   "id": "09c8714a-c220-462f-beaf-4ac653e12043",
   "metadata": {},
   "outputs": [],
   "source": [
    "j"
   ]
  },
  {
   "cell_type": "code",
   "execution_count": null,
   "id": "126fb667-2e64-463d-ae95-18fc3504fa88",
   "metadata": {},
   "outputs": [],
   "source": []
  }
 ],
 "metadata": {
  "kernelspec": {
   "display_name": "Python 3 (ipykernel)",
   "language": "python",
   "name": "python3"
  },
  "language_info": {
   "codemirror_mode": {
    "name": "ipython",
    "version": 3
   },
   "file_extension": ".py",
   "mimetype": "text/x-python",
   "name": "python",
   "nbconvert_exporter": "python",
   "pygments_lexer": "ipython3",
   "version": "3.8.12"
  }
 },
 "nbformat": 4,
 "nbformat_minor": 5
}
