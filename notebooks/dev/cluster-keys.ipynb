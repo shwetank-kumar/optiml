{
 "cells": [
  {
   "cell_type": "code",
   "execution_count": null,
   "id": "5d1392d0-fc69-4f48-a8cf-8a98a06cc04f",
   "metadata": {},
   "outputs": [],
   "source": [
    "%pip install sqlglot"
   ]
  },
  {
   "cell_type": "code",
   "execution_count": null,
   "id": "0e552912-e2da-4bff-8002-939aea293f14",
   "metadata": {},
   "outputs": [],
   "source": [
    "import sqlglot\n",
    "from sqlglot import parse_one, exp\n",
    "from sqlglot.lineage import lineage\n",
    "from sqlglot.schema import MappingSchema\n",
    "from sqlglot.dialects import Snowflake"
   ]
  },
  {
   "cell_type": "code",
   "execution_count": null,
   "id": "06d0de11-3a19-450f-a012-7376ce8b5224",
   "metadata": {},
   "outputs": [],
   "source": [
    "sql = \"\"\"\n",
    "\n",
    "\n",
    "with a as (\n",
    "    select \n",
    "       original as col1, \n",
    "       col2\n",
    "    from \n",
    "       t1\n",
    ")\n",
    "select\n",
    "    col2 as col1\n",
    "from\n",
    "  a\n",
    "where col1 = 3902\n",
    "\"\"\"\n",
    "node = lineage(\n",
    "    \"col1\",\n",
    "    sql,\n",
    "    dialect=Snowflake\n",
    ")\n",
    "\n",
    "source_column_lineage = []\n",
    "start = node.name\n",
    "\n",
    "source_column_lineage.append(start)\n",
    "\n",
    "next_downstream = node.downstream[0]\n",
    "while True:\n",
    "    source_column_lineage.append(next_downstream.name)\n",
    "    if len(next_downstream.downstream) == 0:\n",
    "        break\n",
    "    next_downstream = next_downstream.downstream[0]\n",
    "\n",
    "source_column_lineage"
   ]
  },
  {
   "cell_type": "code",
   "execution_count": null,
   "id": "a28a90ec-dd31-4ce2-862c-c9ee2b19e27c",
   "metadata": {},
   "outputs": [],
   "source": []
  },
  {
   "cell_type": "code",
   "execution_count": null,
   "id": "745aa349-3389-46f1-b129-49c617dcde65",
   "metadata": {},
   "outputs": [],
   "source": [
    "a = node.downstream[0].downstream[0]"
   ]
  },
  {
   "cell_type": "code",
   "execution_count": null,
   "id": "2924304f-345c-41ee-8ce2-8dc6f1c0ce83",
   "metadata": {},
   "outputs": [],
   "source": []
  },
  {
   "cell_type": "code",
   "execution_count": null,
   "id": "ab6af5ea-20ff-4691-b2e9-f9be1a831ab5",
   "metadata": {},
   "outputs": [],
   "source": [
    "parsed = parse_one(sql)\n",
    "\n",
    "for j in parsed.find_all(exp.Where):\n",
    "    print(f\"where: {j}\")\n",
    "    print(repr(j))"
   ]
  },
  {
   "cell_type": "code",
   "execution_count": null,
   "id": "bb24bc53-1e85-4ce2-a8cc-bcf4cbb2dd20",
   "metadata": {},
   "outputs": [],
   "source": [
    "type(node)"
   ]
  },
  {
   "cell_type": "code",
   "execution_count": null,
   "id": "9133fbaa-46cb-480e-a3c5-a3b71cbbd32e",
   "metadata": {},
   "outputs": [],
   "source": [
    "j.find_all(exp.Predicate)"
   ]
  },
  {
   "cell_type": "code",
   "execution_count": null,
   "id": "5845975b-3e2f-4d2a-9ea3-14aeb25da68a",
   "metadata": {},
   "outputs": [],
   "source": [
    "j.flatten()"
   ]
  },
  {
   "cell_type": "code",
   "execution_count": null,
   "id": "2f78b2fb-9df8-44b6-8ff2-87162018b9a5",
   "metadata": {},
   "outputs": [],
   "source": [
    "for i in j.flatten():\n",
    "  print(type(i))\n",
    "  print(i)\n",
    "    \n",
    "for table in j.find_all(exp.Column):\n",
    "  print(f\"table: {table.name}\")\n",
    "\n",
    "    # for cond in j.find_all(exp.Predicate):\n",
    "    #   print(repr(cond))\n",
    "    #   print(f\"cond: {type(cond)}\")\n",
    "    # print(f\"join on: {j.on}\")"
   ]
  },
  {
   "cell_type": "code",
   "execution_count": null,
   "id": "10a56e9a-e838-4444-ad15-af6f1d32b46a",
   "metadata": {},
   "outputs": [],
   "source": [
    "for e in j.find_all(exp.Column):\n",
    "    print(\"hello\")\n",
    "    print(e)"
   ]
  },
  {
   "cell_type": "code",
   "execution_count": null,
   "id": "09c8714a-c220-462f-beaf-4ac653e12043",
   "metadata": {},
   "outputs": [],
   "source": [
    "j"
   ]
  },
  {
   "cell_type": "code",
   "execution_count": null,
   "id": "126fb667-2e64-463d-ae95-18fc3504fa88",
   "metadata": {},
   "outputs": [],
   "source": []
  }
 ],
 "metadata": {
  "kernelspec": {
   "display_name": "Python 3 (ipykernel)",
   "language": "python",
   "name": "python3"
  },
  "language_info": {
   "codemirror_mode": {
    "name": "ipython",
    "version": 3
   },
   "file_extension": ".py",
   "mimetype": "text/x-python",
   "name": "python",
   "nbconvert_exporter": "python",
   "pygments_lexer": "ipython3",
   "version": "3.8.16"
  }
 },
 "nbformat": 4,
 "nbformat_minor": 5
}
