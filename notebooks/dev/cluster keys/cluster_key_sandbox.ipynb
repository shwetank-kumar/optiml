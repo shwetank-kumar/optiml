{
 "cells": [
  {
   "cell_type": "code",
   "execution_count": 4,
   "id": "b0d072b0-25b9-4e88-becf-f05c78ef0d94",
   "metadata": {},
   "outputs": [],
   "source": [
    "import sqlglot\n",
    "from sqlglot import parse_one, exp\n",
    "from sqlglot.lineage import lineage\n",
    "from sqlglot.schema import MappingSchema\n",
    "from sqlglot.dialects import Snowflake\n",
    "from sqlglot.optimizer import optimize\n",
    "from sqlglot.optimizer.scope import traverse_scope\n",
    "import timeout_decorator\n",
    "\n",
    "\n",
    "\n",
    "def filter_predicates(sql, debug=False):\n",
    "    try:\n",
    "        optimized = optimize_within_time(parse_one(sql, dialect=Snowflake), dialect=Snowflake)\n",
    "    except Exception as e:\n",
    "        return e\n",
    "    \n",
    "    if debug:\n",
    "        scopes = traverse_scope(optimized)\n",
    "        print(f\"number of scopes: {len(scopes)}\")\n",
    "    preds = []\n",
    "    for scope in traverse_scope(optimized):\n",
    "        if debug:\n",
    "            print(f\"scope: {scope}\")\n",
    "        aliases = {}\n",
    "        for alias in scope.find_all(exp.TableAlias):\n",
    "            aliases[alias.name] = alias.parent.name\n",
    "            if debug: print(f\"alias: {alias.name}, parent: {alias.parent.name}\")\n",
    "        for clause in scope.find_all(exp.Where):\n",
    "            if debug: print(f\"where: {clause}\")\n",
    "            filter_columns = []\n",
    "            for col in clause.find_all(exp.Column):\n",
    "                if debug: print(f\"col: {col.name}, table_alias: {col.table}, table: {aliases[col.table]}\")\n",
    "                filter_columns.append({\n",
    "                    \"column\": col.name,\n",
    "                    \"table_alias\": col.table,\n",
    "                    \"table\": aliases.get(col.table)\n",
    "                })\n",
    "            preds.append(\n",
    "                {\n",
    "                    \"where_clause\": clause.sql(dialect=Snowflake),\n",
    "                    \"filter_columns\": filter_columns\n",
    "                }\n",
    "            )\n",
    "    return preds\n"
   ]
  },
  {
   "cell_type": "code",
   "execution_count": 22,
   "id": "d52a48b5-4eb0-4e62-a7be-60495e6c1d36",
   "metadata": {},
   "outputs": [
    {
     "name": "stdout",
     "output_type": "stream",
     "text": [
      "17.10.2\n"
     ]
    }
   ],
   "source": [
    "print(sqlglot.__version__)"
   ]
  },
  {
   "cell_type": "code",
   "execution_count": 10,
   "id": "974862ae-c12c-4372-a3cf-c25600077332",
   "metadata": {},
   "outputs": [
    {
     "name": "stdout",
     "output_type": "stream",
     "text": [
      "========= with parens ==========\n",
      "SELECT\n",
      "  \"SF_CONNECTOR_QUERY_ALIAS\".\"KEY\" AS \"SUBQUERY_1_COL_0\"\n",
      "FROM (\n",
      "  (\n",
      "    \"cte\" AS \"cte\"\n",
      "  )\n",
      ") AS \"SF_CONNECTOR_QUERY_ALIAS\"\n",
      "========= without parens ==========\n",
      "SELECT\n",
      "  \"SALES\".\"EVENT_NAME\" AS \"SUBQUERY_1_COL_0\"\n",
      "FROM \"SALES\" AS \"SALES\"\n",
      "WHERE\n",
      "  \"SALES\".\"INSERT_TS\" > '2023-08-07 21:03:35.590 -0700'\n"
     ]
    }
   ],
   "source": [
    "from sqlglot import parse_one\n",
    "from sqlglot.optimizer import optimize\n",
    "from sqlglot.dialects import Snowflake\n",
    "\n",
    "sql = \"\"\"\n",
    "SELECT \n",
    "  (\"SUBQUERY_0\".\"KEY\") AS \"SUBQUERY_1_COL_0\"\n",
    "FROM \n",
    "  (\n",
    "    SELECT \n",
    "      * \n",
    "    FROM \n",
    "      ((( -- <-------------- ***note multiple parens****\n",
    "          select \n",
    "            * \n",
    "          from \n",
    "            (\n",
    "              select \n",
    "                event_name as key, \n",
    "                insert_ts \n",
    "              from \n",
    "                (\n",
    "                  select \n",
    "                    insert_ts, \n",
    "                    event_name \n",
    "                  from \n",
    "                    sales\n",
    "                  where \n",
    "                    insert_ts > '2023-08-07 21:03:35.590 -0700'\n",
    "                )\n",
    "        )\n",
    "      ))) AS \"SF_CONNECTOR_QUERY_ALIAS\"\n",
    "  ) AS \"SUBQUERY_0\"\n",
    "\n",
    "\"\"\"\n",
    "\n",
    "print(\"========= with parens ==========\")\n",
    "optimized = optimize(parse_one(sql, dialect=Snowflake), dialect=Snowflake)\n",
    "print(optimized.sql(pretty=True))\n",
    "\n",
    "print(\"========= without parens ==========\")\n",
    "without_double_parens = sql.replace(\"((\", \"\").replace(\"))\",\"\")\n",
    "optimized = optimize(parse_one(without_double_parens, dialect=Snowflake), dialect=Snowflake)\n",
    "print(optimized.sql(pretty=True))"
   ]
  },
  {
   "cell_type": "code",
   "execution_count": 9,
   "id": "ef2551cc-2b42-43eb-b28c-7200decd86a8",
   "metadata": {},
   "outputs": [
    {
     "data": {
      "text/plain": [
       "(SELECT expressions: \n",
       "  (ALIAS this: \n",
       "    (PAREN this: \n",
       "      (COLUMN this: \n",
       "        (IDENTIFIER this: KEY, quoted: True), table: \n",
       "        (IDENTIFIER this: SUBQUERY_0, quoted: True))), alias: \n",
       "    (IDENTIFIER this: SUBQUERY_1_COL_0, quoted: True)), from: \n",
       "  (FROM this: \n",
       "    (SUBQUERY this: \n",
       "      (SELECT expressions: \n",
       "        (STAR ), from: \n",
       "        (FROM this: \n",
       "          (SUBQUERY this: \n",
       "            (SELECT expressions: \n",
       "              (STAR ), from: \n",
       "              (FROM this: \n",
       "                (SUBQUERY this: \n",
       "                  (SELECT expressions: \n",
       "                    (ALIAS this: \n",
       "                      (COLUMN this: \n",
       "                        (IDENTIFIER this: event_name, quoted: False)), alias: \n",
       "                      (IDENTIFIER this: key, quoted: False)), \n",
       "                    (COLUMN this: \n",
       "                      (IDENTIFIER this: insert_ts, quoted: False)), from: \n",
       "                    (FROM this: \n",
       "                      (SUBQUERY this: \n",
       "                        (SELECT expressions: \n",
       "                          (COLUMN this: \n",
       "                            (IDENTIFIER this: insert_ts, quoted: False)), \n",
       "                          (COLUMN this: \n",
       "                            (IDENTIFIER this: event_name, quoted: False)), from: \n",
       "                          (FROM this: \n",
       "                            (TABLE this: \n",
       "                              (IDENTIFIER this: sales, quoted: False))), where: \n",
       "                          (WHERE this: \n",
       "                            (GT this: \n",
       "                              (COLUMN this: \n",
       "                                (IDENTIFIER this: insert_ts, quoted: False)), expression: \n",
       "                              (LITERAL this: 2023-08-07 21:03:35.590 -0700, is_string: True)))))))))), alias: \n",
       "            (TABLEALIAS this: \n",
       "              (IDENTIFIER this: SF_CONNECTOR_QUERY_ALIAS, quoted: True))))), alias: \n",
       "      (TABLEALIAS this: \n",
       "        (IDENTIFIER this: SUBQUERY_0, quoted: True)))))"
      ]
     },
     "execution_count": 9,
     "metadata": {},
     "output_type": "execute_result"
    }
   ],
   "source": [
    "parse_one(without_double_parens, dialect=Snowflake)"
   ]
  },
  {
   "cell_type": "code",
   "execution_count": 21,
   "id": "86da68d5-d874-4072-a05e-a12e0afdcc03",
   "metadata": {},
   "outputs": [
    {
     "data": {
      "text/plain": [
       "[{'where_clause': 'WHERE \"SALES\".\"INSERT_TS\" > \\'2023-08-07 21:03:35.590 -0700\\'',\n",
       "  'filter_columns': [{'column': 'INSERT_TS',\n",
       "    'table_alias': 'SALES',\n",
       "    'table': 'SALES'}]}]"
      ]
     },
     "execution_count": 21,
     "metadata": {},
     "output_type": "execute_result"
    }
   ],
   "source": [
    "# sql = \"\"\"\n",
    "\n",
    "# select * from (\n",
    "#     SELECT \n",
    "#       MEMBER_GUID as USER_ID, \n",
    "#       CONCAT(\n",
    "#         '| ', \n",
    "#         ARRAY_TO_STRING(GROUP_IDS, ' | '), \n",
    "#         ' |'\n",
    "#       ) AS \"Active Member Groups\" \n",
    "#     FROM \n",
    "#       EBATES_PROD.CAMPAIGN_ASSET.MEMBER_DATA_MODEL_GROUP \n",
    "\n",
    "\n",
    "# \"\"\"\n",
    "\n",
    "sql = \"\"\"\n",
    "with a as ( select x,y,z from b) \n",
    "select z from a\n",
    "\"\"\"\n",
    "\n",
    "sql = \"\"\"\n",
    "with a as (\n",
    "    select \n",
    "       id,\n",
    "       original as col1, \n",
    "       col2\n",
    "    from \n",
    "       t1\n",
    ")\n",
    "select\n",
    "    col2 as col2_renamed\n",
    "from\n",
    "  a\n",
    "where a.col1 = 3902\n",
    "and id = 123\n",
    "\"\"\"\n",
    "\n",
    "sql = \"\"\"\n",
    "SELECT \n",
    "  (\"SUBQUERY_0\".\"KEY\") AS \"SUBQUERY_1_COL_0\"\n",
    "FROM \n",
    "  (\n",
    "    SELECT \n",
    "      * \n",
    "    FROM \n",
    "      (\n",
    "          select \n",
    "            * \n",
    "          from \n",
    "            (\n",
    "              select \n",
    "                event_name as key, \n",
    "                insert_ts \n",
    "              from \n",
    "                (\n",
    "                  select \n",
    "                    insert_ts, \n",
    "                    event_name \n",
    "                  from \n",
    "                    sales\n",
    "                  where \n",
    "                    insert_ts > '2023-08-07 21:03:35.590 -0700'\n",
    "                )\n",
    "        )\n",
    "      ) AS \"SF_CONNECTOR_QUERY_ALIAS\"\n",
    "  ) AS \"SUBQUERY_0\"\n",
    "\n",
    "\"\"\"\n",
    "filter_predicates(sql)"
   ]
  },
  {
   "cell_type": "code",
   "execution_count": 12,
   "id": "443d324e-598d-4143-8d01-bf482291fd35",
   "metadata": {},
   "outputs": [
    {
     "name": "stdout",
     "output_type": "stream",
     "text": [
      "SELECT\n",
      "  \"SF_CONNECTOR_QUERY_ALIAS\".\"KEY\" AS \"SUBQUERY_1_COL_0\",\n",
      "  \"SF_CONNECTOR_QUERY_ALIAS\".\"VALUE\" AS \"SUBQUERY_1_COL_1\"\n",
      "FROM (\n",
      "  \"cte\" AS \"cte\"\n",
      ") AS \"SF_CONNECTOR_QUERY_ALIAS\"\n"
     ]
    }
   ],
   "source": [
    "print(optimized.sql(pretty=True))"
   ]
  },
  {
   "cell_type": "code",
   "execution_count": 8,
   "id": "02ec5e2e-2de5-43c3-8840-d012b20b27f0",
   "metadata": {},
   "outputs": [
    {
     "name": "stdout",
     "output_type": "stream",
     "text": [
      "number of scopes: 2\n",
      "scope: Scope<\"cte\" AS \"cte\">\n",
      "scope: Scope<SELECT \"SF_CONNECTOR_QUERY_ALIAS\".\"KEY\" AS \"SUBQUERY_1_COL_0\", \"SF_CONNECTOR_QUERY_ALIAS\".\"VALUE\" AS \"SUBQUERY_1_COL_1\" FROM (\"cte\" AS \"cte\") AS \"SF_CONNECTOR_QUERY_ALIAS\">\n"
     ]
    }
   ],
   "source": [
    "try:\n",
    "    optimized = optimize(parse_one(sql, dialect=Snowflake), dialect=Snowflake)\n",
    "except Exception as e:\n",
    "    print(e)\n",
    "scopes = traverse_scope(optimized)\n",
    "print(f\"number of scopes: {len(scopes)}\")\n",
    "preds = []\n",
    "for scope in traverse_scope(optimized):\n",
    "    print(f\"scope: {scope}\")\n",
    "    aliases = {}\n",
    "    for alias in scope.find_all(exp.TableAlias):\n",
    "        aliases[alias.name] = alias.parent.name\n",
    "        print(f\"alias: {alias.name}, parent: {alias.parent.name}\")\n",
    "    for clause in scope.find_all(exp.Where):\n",
    "        print(f\"where: {clause}\")\n",
    "        filter_columns = []\n",
    "        for col in clause.find_all(exp.Column):\n",
    "            print(f\"col: {col.name}, table_alias: {col.table}, table: {aliases[col.table]}\")\n",
    "            filter_columns.append({\n",
    "                \"column\": col.name,\n",
    "                \"table_alias\": col.table,\n",
    "                \"table\": aliases.get(col.table)\n",
    "            })\n",
    "        preds.append(\n",
    "            {\n",
    "                \"where_clause\": clause.sql(dialect=Snowflake),\n",
    "                \"filter_columns\": filter_columns\n",
    "            }\n",
    "        )\n",
    "\n"
   ]
  },
  {
   "cell_type": "code",
   "execution_count": 28,
   "id": "cc1146e6-2f17-4236-a254-3e155a2655eb",
   "metadata": {},
   "outputs": [],
   "source": [
    "scopes = traverse_scope(optimized)"
   ]
  },
  {
   "cell_type": "code",
   "execution_count": 13,
   "id": "0da22733-08ea-4495-a4ea-e789facaa3f4",
   "metadata": {},
   "outputs": [
    {
     "data": {
      "text/plain": [
       "0"
      ]
     },
     "execution_count": 13,
     "metadata": {},
     "output_type": "execute_result"
    }
   ],
   "source": [
    "len(scopes)"
   ]
  },
  {
   "cell_type": "code",
   "execution_count": null,
   "id": "116d21b2-47c3-4b2b-a5fc-e0ac90afbdf9",
   "metadata": {},
   "outputs": [],
   "source": []
  }
 ],
 "metadata": {
  "kernelspec": {
   "display_name": "Python 3 (ipykernel)",
   "language": "python",
   "name": "python3"
  },
  "language_info": {
   "codemirror_mode": {
    "name": "ipython",
    "version": 3
   },
   "file_extension": ".py",
   "mimetype": "text/x-python",
   "name": "python",
   "nbconvert_exporter": "python",
   "pygments_lexer": "ipython3",
   "version": "3.8.12"
  }
 },
 "nbformat": 4,
 "nbformat_minor": 5
}
