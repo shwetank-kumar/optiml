{
 "cells": [
  {
   "cell_type": "code",
   "execution_count": 9,
   "id": "92fe9cab-eea5-40c4-b396-28b5c6d60242",
   "metadata": {},
   "outputs": [
    {
     "name": "stdout",
     "output_type": "stream",
     "text": [
      "The autoreload extension is already loaded. To reload it, use:\n",
      "  %reload_ext autoreload\n",
      "time: 140 ms (started: 2023-06-01 19:30:14 -04:00)\n"
     ]
    }
   ],
   "source": [
    "%load_ext autoreload\n",
    "%autoreload 2\n",
    "import sys, pathlib\n",
    "sys.path.append(str(pathlib.Path.cwd().parent.parent))"
   ]
  },
  {
   "cell_type": "code",
   "execution_count": 10,
   "id": "7d472020-1bc3-4001-836f-08a7036c4b78",
   "metadata": {},
   "outputs": [
    {
     "name": "stdout",
     "output_type": "stream",
     "text": [
      "The autotime extension is already loaded. To reload it, use:\n",
      "  %reload_ext autotime\n",
      "time: 80.2 ms (started: 2023-06-01 19:30:14 -04:00)\n"
     ]
    }
   ],
   "source": [
    "%reload_ext dotenv\n",
    "\n",
    "%dotenv ../../env/.env\n",
    "\n",
    "import warnings\n",
    "from pandas import Timedelta\n",
    "# from optiml.utils import sf\n",
    "import time\n",
    "from optiml.utils.sf import logger, sql_to_df, run_sql, conn, session\n",
    "import pandas as pd\n",
    "warnings.filterwarnings('ignore')\n",
    "\n",
    "try:\n",
    "    %load_ext autotime\n",
    "except:\n",
    "    !pip install ipython-autotime\n",
    "    %load_ext autotime\n"
   ]
  },
  {
   "cell_type": "code",
   "execution_count": 5,
   "id": "52d9baab-82fb-4597-8a36-8a0e702e1be5",
   "metadata": {},
   "outputs": [
    {
     "name": "stdout",
     "output_type": "stream",
     "text": [
      "time: 6.37 s (started: 2023-05-23 20:56:35 -04:00)\n"
     ]
    }
   ],
   "source": [
    "# warehouse_id = 101\n",
    "# ts = '2023-01-09 12:00:00.000 -0800'\n",
    "\n",
    "wh = 97\n",
    "ts = '2022-12-13 14:00:00.000 -0800'\n",
    "\n",
    "# warehouse_id = 97\n",
    "# # ts = '2023-01-09 12:00:00.000 -0800'\n",
    "# ts = '2022-11-08 13:00:00.000 -0800'\n",
    "# # 2022-11-08 13:29:39.020 -0800\n",
    "# wh = 1019\n",
    "run_sql(f\"set ts = '{ts}'\")\n",
    "run_sql(f\"set wh = '{wh}'\")\n",
    "# set ts = '2023-01-09 12:00:00.000 -0800';\n",
    "# set wh = 101;\n",
    "\n",
    "# 97\t2022-12-13 14:00:00.000 -0800\n",
    "\n",
    "queries = f\"\"\"\n",
    "select *\n",
    "from query_history_narrowed\n",
    "where warehouse_id = $wh\n",
    "and (start_time between dateadd(hour, -1, $ts) and dateadd(hour, 1, $ts)\n",
    "or end_time between dateadd(hour, -1, $ts) and dateadd(hour, 1, $ts));\n",
    "\n",
    "\"\"\"\n",
    "\n",
    "events = f\"\"\"\n",
    "select *\n",
    "from stg_warehouse_events_history\n",
    "where warehouse_id = $wh\n",
    "and timestamp between dateadd(hour, -1, $ts) and dateadd(hour, 1, $ts);\n",
    "\"\"\"\n",
    "\n",
    "warehouse_eras = f\"\"\"\n",
    "\n",
    "select *\n",
    "from warehouse_era\n",
    "where warehouse_id = $wh\n",
    "and (era_start between dateadd(hour, -1, $ts) and dateadd(hour, 1, $ts)\n",
    "or era_end between dateadd(hour, -1, $ts) and dateadd(hour, 1, $ts));\n",
    "\n",
    "\"\"\"\n",
    "\n",
    "cluster_query_eras = f\"\"\"\n",
    "select *\n",
    "from cluster_query_era\n",
    "where warehouse_id:warehouse_id::number = $wh\n",
    "and (era_start between dateadd(hour, -1, $ts) and dateadd(hour, 1, $ts)\n",
    "or era_end between dateadd(hour, -1, $ts) and dateadd(hour, 1, $ts));\n",
    "\"\"\"\n",
    "\n",
    "spend = f\"\"\"\n",
    "select *\n",
    "from warehouse_metering_history_enriched\n",
    "where warehouse_id = $wh\n",
    "and (start_time between dateadd(hour, -1, $ts) and dateadd(hour, 1, $ts)\n",
    "or end_time between dateadd(hour, -1, $ts) and dateadd(hour, 1, $ts));\n",
    "\"\"\"\n",
    "\n",
    "whe = sql_to_df(events)\n",
    "cqe = sql_to_df(cluster_query_eras)\n",
    "wheras = sql_to_df(warehouse_eras)\n",
    "spend = sql_to_df(spend)"
   ]
  },
  {
   "cell_type": "code",
   "execution_count": 6,
   "id": "143ff4ce-807c-4e93-be6d-d2975fa0dba5",
   "metadata": {},
   "outputs": [
    {
     "data": {
      "application/vnd.plotly.v1+json": {
       "config": {
        "plotlyServerURL": "https://plot.ly"
       },
       "data": [
        {
         "hovertemplate": "event_name=%{y}<br>timestamp=%{x}<extra></extra>",
         "legendgroup": "SUSPEND_WAREHOUSE",
         "marker": {
          "color": "#636efa",
          "symbol": "circle"
         },
         "mode": "markers",
         "name": "SUSPEND_WAREHOUSE",
         "orientation": "v",
         "showlegend": true,
         "type": "scatter",
         "x": [
          "2022-12-13T13:00:24.067000-08:00",
          "2022-12-13T14:29:32.310000-08:00",
          "2022-12-13T14:29:32.003000-08:00",
          "2022-12-13T14:16:56.127000-08:00",
          "2022-12-13T14:16:55.854000-08:00",
          "2022-12-13T14:11:04.069000-08:00",
          "2022-12-13T14:50:02.159000-08:00",
          "2022-12-13T14:50:01.743000-08:00",
          "2022-12-13T14:11:03.830000-08:00",
          "2022-12-13T13:39:29.276000-08:00",
          "2022-12-13T13:24:29.505000-08:00",
          "2022-12-13T13:24:29.149000-08:00",
          "2022-12-13T13:06:01.379000-08:00",
          "2022-12-13T13:39:29.450000-08:00",
          "2022-12-13T13:06:01.186000-08:00",
          "2022-12-13T13:04:22.661000-08:00",
          "2022-12-13T13:04:22.456000-08:00",
          "2022-12-13T13:02:25.606000-08:00",
          "2022-12-13T13:02:25.446000-08:00",
          "2022-12-13T13:58:54.883000-08:00",
          "2022-12-13T13:58:54.607000-08:00",
          "2022-12-13T13:53:03.318000-08:00",
          "2022-12-13T13:53:03.114000-08:00",
          "2022-12-13T13:49:44.890000-08:00",
          "2022-12-13T13:46:37.909000-08:00",
          "2022-12-13T13:46:37.705000-08:00",
          "2022-12-13T13:43:42.672000-08:00",
          "2022-12-13T13:43:42.481000-08:00",
          "2022-12-13T13:49:45.096000-08:00"
         ],
         "xaxis": "x",
         "y": [
          "SUSPEND_WAREHOUSE",
          "SUSPEND_WAREHOUSE",
          "SUSPEND_WAREHOUSE",
          "SUSPEND_WAREHOUSE",
          "SUSPEND_WAREHOUSE",
          "SUSPEND_WAREHOUSE",
          "SUSPEND_WAREHOUSE",
          "SUSPEND_WAREHOUSE",
          "SUSPEND_WAREHOUSE",
          "SUSPEND_WAREHOUSE",
          "SUSPEND_WAREHOUSE",
          "SUSPEND_WAREHOUSE",
          "SUSPEND_WAREHOUSE",
          "SUSPEND_WAREHOUSE",
          "SUSPEND_WAREHOUSE",
          "SUSPEND_WAREHOUSE",
          "SUSPEND_WAREHOUSE",
          "SUSPEND_WAREHOUSE",
          "SUSPEND_WAREHOUSE",
          "SUSPEND_WAREHOUSE",
          "SUSPEND_WAREHOUSE",
          "SUSPEND_WAREHOUSE",
          "SUSPEND_WAREHOUSE",
          "SUSPEND_WAREHOUSE",
          "SUSPEND_WAREHOUSE",
          "SUSPEND_WAREHOUSE",
          "SUSPEND_WAREHOUSE",
          "SUSPEND_WAREHOUSE",
          "SUSPEND_WAREHOUSE"
         ],
         "yaxis": "y"
        },
        {
         "hovertemplate": "event_name=%{y}<br>timestamp=%{x}<extra></extra>",
         "legendgroup": "RESUME_CLUSTER",
         "marker": {
          "color": "#EF553B",
          "symbol": "circle"
         },
         "mode": "markers",
         "name": "RESUME_CLUSTER",
         "orientation": "v",
         "showlegend": true,
         "type": "scatter",
         "x": [
          "2022-12-13T14:33:33.169000-08:00",
          "2022-12-13T14:30:34.004000-08:00",
          "2022-12-13T14:30:05.817000-08:00",
          "2022-12-13T14:29:59.842000-08:00",
          "2022-12-13T14:28:18.601000-08:00",
          "2022-12-13T14:15:27.104000-08:00",
          "2022-12-13T14:59:22.946000-08:00",
          "2022-12-13T14:59:03.044000-08:00",
          "2022-12-13T14:58:43.035000-08:00",
          "2022-12-13T14:58:23.043000-08:00",
          "2022-12-13T14:57:42.840000-08:00",
          "2022-12-13T14:54:50.849000-08:00",
          "2022-12-13T14:58:03.036000-08:00",
          "2022-12-13T14:09:58.744000-08:00",
          "2022-12-13T13:37:58.499000-08:00",
          "2022-12-13T13:23:14.662000-08:00",
          "2022-12-13T13:04:40.038000-08:00",
          "2022-12-13T13:03:12.871000-08:00",
          "2022-12-13T14:59:42.982000-08:00",
          "2022-12-13T13:57:48.246000-08:00",
          "2022-12-13T13:51:58.111000-08:00",
          "2022-12-13T13:41:45.045000-08:00",
          "2022-12-13T13:48:36.938000-08:00",
          "2022-12-13T13:45:03.619000-08:00"
         ],
         "xaxis": "x",
         "y": [
          "RESUME_CLUSTER",
          "RESUME_CLUSTER",
          "RESUME_CLUSTER",
          "RESUME_CLUSTER",
          "RESUME_CLUSTER",
          "RESUME_CLUSTER",
          "RESUME_CLUSTER",
          "RESUME_CLUSTER",
          "RESUME_CLUSTER",
          "RESUME_CLUSTER",
          "RESUME_CLUSTER",
          "RESUME_CLUSTER",
          "RESUME_CLUSTER",
          "RESUME_CLUSTER",
          "RESUME_CLUSTER",
          "RESUME_CLUSTER",
          "RESUME_CLUSTER",
          "RESUME_CLUSTER",
          "RESUME_CLUSTER",
          "RESUME_CLUSTER",
          "RESUME_CLUSTER",
          "RESUME_CLUSTER",
          "RESUME_CLUSTER",
          "RESUME_CLUSTER"
         ],
         "yaxis": "y"
        },
        {
         "hovertemplate": "event_name=%{y}<br>timestamp=%{x}<extra></extra>",
         "legendgroup": "SPINUP_CLUSTER",
         "marker": {
          "color": "#00cc96",
          "symbol": "circle"
         },
         "mode": "markers",
         "name": "SPINUP_CLUSTER",
         "orientation": "v",
         "showlegend": true,
         "type": "scatter",
         "x": [
          "2022-12-13T14:33:32.883000-08:00",
          "2022-12-13T14:30:34.005000-08:00",
          "2022-12-13T14:30:33.705000-08:00",
          "2022-12-13T14:30:05.819000-08:00",
          "2022-12-13T14:30:04.465000-08:00",
          "2022-12-13T14:33:33.170000-08:00",
          "2022-12-13T14:59:42.690000-08:00",
          "2022-12-13T14:59:22.947000-08:00",
          "2022-12-13T14:59:22.697000-08:00",
          "2022-12-13T14:59:03.045000-08:00",
          "2022-12-13T14:59:02.706000-08:00",
          "2022-12-13T14:58:43.036000-08:00",
          "2022-12-13T14:58:42.689000-08:00",
          "2022-12-13T14:58:23.044000-08:00",
          "2022-12-13T14:58:22.691000-08:00",
          "2022-12-13T14:58:03.036000-08:00",
          "2022-12-13T14:58:02.701000-08:00",
          "2022-12-13T14:57:42.841000-08:00",
          "2022-12-13T14:57:42.617000-08:00",
          "2022-12-13T14:59:42.983000-08:00"
         ],
         "xaxis": "x",
         "y": [
          "SPINUP_CLUSTER",
          "SPINUP_CLUSTER",
          "SPINUP_CLUSTER",
          "SPINUP_CLUSTER",
          "SPINUP_CLUSTER",
          "SPINUP_CLUSTER",
          "SPINUP_CLUSTER",
          "SPINUP_CLUSTER",
          "SPINUP_CLUSTER",
          "SPINUP_CLUSTER",
          "SPINUP_CLUSTER",
          "SPINUP_CLUSTER",
          "SPINUP_CLUSTER",
          "SPINUP_CLUSTER",
          "SPINUP_CLUSTER",
          "SPINUP_CLUSTER",
          "SPINUP_CLUSTER",
          "SPINUP_CLUSTER",
          "SPINUP_CLUSTER",
          "SPINUP_CLUSTER"
         ],
         "yaxis": "y"
        },
        {
         "hovertemplate": "event_name=%{y}<br>timestamp=%{x}<extra></extra>",
         "legendgroup": "SPINDOWN_CLUSTER",
         "marker": {
          "color": "#ab63fa",
          "symbol": "circle"
         },
         "mode": "markers",
         "name": "SPINDOWN_CLUSTER",
         "orientation": "v",
         "showlegend": true,
         "type": "scatter",
         "x": [
          "2022-12-13T14:32:51.755000-08:00",
          "2022-12-13T14:32:51.459000-08:00",
          "2022-12-13T14:36:08.346000-08:00",
          "2022-12-13T14:36:08.662000-08:00",
          "2022-12-13T14:38:39.406000-08:00",
          "2022-12-13T14:38:39.249000-08:00"
         ],
         "xaxis": "x",
         "y": [
          "SPINDOWN_CLUSTER",
          "SPINDOWN_CLUSTER",
          "SPINDOWN_CLUSTER",
          "SPINDOWN_CLUSTER",
          "SPINDOWN_CLUSTER",
          "SPINDOWN_CLUSTER"
         ],
         "yaxis": "y"
        },
        {
         "hovertemplate": "event_name=%{y}<br>timestamp=%{x}<extra></extra>",
         "legendgroup": "SUSPEND_CLUSTER",
         "marker": {
          "color": "#FFA15A",
          "symbol": "circle"
         },
         "mode": "markers",
         "name": "SUSPEND_CLUSTER",
         "orientation": "v",
         "showlegend": true,
         "type": "scatter",
         "x": [
          "2022-12-13T14:32:51.755000-08:00",
          "2022-12-13T14:29:32.310000-08:00",
          "2022-12-13T14:16:56.126000-08:00",
          "2022-12-13T14:36:08.662000-08:00",
          "2022-12-13T14:11:04.069000-08:00",
          "2022-12-13T14:50:02.159000-08:00",
          "2022-12-13T14:38:39.405000-08:00",
          "2022-12-13T13:39:29.449000-08:00",
          "2022-12-13T13:24:29.505000-08:00",
          "2022-12-13T13:06:01.379000-08:00",
          "2022-12-13T13:04:22.660000-08:00",
          "2022-12-13T13:02:25.606000-08:00",
          "2022-12-13T13:58:54.883000-08:00",
          "2022-12-13T13:53:03.318000-08:00",
          "2022-12-13T13:49:45.096000-08:00",
          "2022-12-13T13:46:37.909000-08:00",
          "2022-12-13T13:43:42.672000-08:00"
         ],
         "xaxis": "x",
         "y": [
          "SUSPEND_CLUSTER",
          "SUSPEND_CLUSTER",
          "SUSPEND_CLUSTER",
          "SUSPEND_CLUSTER",
          "SUSPEND_CLUSTER",
          "SUSPEND_CLUSTER",
          "SUSPEND_CLUSTER",
          "SUSPEND_CLUSTER",
          "SUSPEND_CLUSTER",
          "SUSPEND_CLUSTER",
          "SUSPEND_CLUSTER",
          "SUSPEND_CLUSTER",
          "SUSPEND_CLUSTER",
          "SUSPEND_CLUSTER",
          "SUSPEND_CLUSTER",
          "SUSPEND_CLUSTER",
          "SUSPEND_CLUSTER"
         ],
         "yaxis": "y"
        },
        {
         "hovertemplate": "event_name=%{y}<br>timestamp=%{x}<extra></extra>",
         "legendgroup": "RESUME_WAREHOUSE",
         "marker": {
          "color": "#19d3f3",
          "symbol": "circle"
         },
         "mode": "markers",
         "name": "RESUME_WAREHOUSE",
         "orientation": "v",
         "showlegend": true,
         "type": "scatter",
         "x": [
          "2022-12-13T14:29:59.843000-08:00",
          "2022-12-13T14:29:59.633000-08:00",
          "2022-12-13T14:28:18.602000-08:00",
          "2022-12-13T14:28:18.271000-08:00",
          "2022-12-13T14:15:27.104000-08:00",
          "2022-12-13T14:15:26.260000-08:00",
          "2022-12-13T14:54:50.849000-08:00",
          "2022-12-13T14:54:50.601000-08:00",
          "2022-12-13T14:09:58.746000-08:00",
          "2022-12-13T13:37:58.500000-08:00",
          "2022-12-13T13:37:58.296000-08:00",
          "2022-12-13T13:23:14.663000-08:00",
          "2022-12-13T13:23:14.397000-08:00",
          "2022-12-13T13:04:39.872000-08:00",
          "2022-12-13T13:03:12.872000-08:00",
          "2022-12-13T13:03:12.690000-08:00",
          "2022-12-13T13:00:33.699000-08:00",
          "2022-12-13T13:00:26.779000-08:00",
          "2022-12-13T13:04:40.039000-08:00",
          "2022-12-13T13:41:44.709000-08:00",
          "2022-12-13T13:41:45.046000-08:00",
          "2022-12-13T14:09:58.521000-08:00",
          "2022-12-13T13:57:48.248000-08:00",
          "2022-12-13T13:57:47.960000-08:00",
          "2022-12-13T13:51:58.112000-08:00",
          "2022-12-13T13:51:57.842000-08:00",
          "2022-12-13T13:48:36.939000-08:00",
          "2022-12-13T13:48:36.767000-08:00",
          "2022-12-13T13:45:03.619000-08:00",
          "2022-12-13T13:45:02.880000-08:00"
         ],
         "xaxis": "x",
         "y": [
          "RESUME_WAREHOUSE",
          "RESUME_WAREHOUSE",
          "RESUME_WAREHOUSE",
          "RESUME_WAREHOUSE",
          "RESUME_WAREHOUSE",
          "RESUME_WAREHOUSE",
          "RESUME_WAREHOUSE",
          "RESUME_WAREHOUSE",
          "RESUME_WAREHOUSE",
          "RESUME_WAREHOUSE",
          "RESUME_WAREHOUSE",
          "RESUME_WAREHOUSE",
          "RESUME_WAREHOUSE",
          "RESUME_WAREHOUSE",
          "RESUME_WAREHOUSE",
          "RESUME_WAREHOUSE",
          "RESUME_WAREHOUSE",
          "RESUME_WAREHOUSE",
          "RESUME_WAREHOUSE",
          "RESUME_WAREHOUSE",
          "RESUME_WAREHOUSE",
          "RESUME_WAREHOUSE",
          "RESUME_WAREHOUSE",
          "RESUME_WAREHOUSE",
          "RESUME_WAREHOUSE",
          "RESUME_WAREHOUSE",
          "RESUME_WAREHOUSE",
          "RESUME_WAREHOUSE",
          "RESUME_WAREHOUSE",
          "RESUME_WAREHOUSE"
         ],
         "yaxis": "y"
        }
       ],
       "layout": {
        "autosize": true,
        "legend": {
         "title": {
          "text": "event_name"
         },
         "tracegroupgap": 0
        },
        "margin": {
         "t": 60
        },
        "template": {
         "data": {
          "bar": [
           {
            "error_x": {
             "color": "#2a3f5f"
            },
            "error_y": {
             "color": "#2a3f5f"
            },
            "marker": {
             "line": {
              "color": "#E5ECF6",
              "width": 0.5
             },
             "pattern": {
              "fillmode": "overlay",
              "size": 10,
              "solidity": 0.2
             }
            },
            "type": "bar"
           }
          ],
          "barpolar": [
           {
            "marker": {
             "line": {
              "color": "#E5ECF6",
              "width": 0.5
             },
             "pattern": {
              "fillmode": "overlay",
              "size": 10,
              "solidity": 0.2
             }
            },
            "type": "barpolar"
           }
          ],
          "carpet": [
           {
            "aaxis": {
             "endlinecolor": "#2a3f5f",
             "gridcolor": "white",
             "linecolor": "white",
             "minorgridcolor": "white",
             "startlinecolor": "#2a3f5f"
            },
            "baxis": {
             "endlinecolor": "#2a3f5f",
             "gridcolor": "white",
             "linecolor": "white",
             "minorgridcolor": "white",
             "startlinecolor": "#2a3f5f"
            },
            "type": "carpet"
           }
          ],
          "choropleth": [
           {
            "colorbar": {
             "outlinewidth": 0,
             "ticks": ""
            },
            "type": "choropleth"
           }
          ],
          "contour": [
           {
            "colorbar": {
             "outlinewidth": 0,
             "ticks": ""
            },
            "colorscale": [
             [
              0,
              "#0d0887"
             ],
             [
              0.1111111111111111,
              "#46039f"
             ],
             [
              0.2222222222222222,
              "#7201a8"
             ],
             [
              0.3333333333333333,
              "#9c179e"
             ],
             [
              0.4444444444444444,
              "#bd3786"
             ],
             [
              0.5555555555555556,
              "#d8576b"
             ],
             [
              0.6666666666666666,
              "#ed7953"
             ],
             [
              0.7777777777777778,
              "#fb9f3a"
             ],
             [
              0.8888888888888888,
              "#fdca26"
             ],
             [
              1,
              "#f0f921"
             ]
            ],
            "type": "contour"
           }
          ],
          "contourcarpet": [
           {
            "colorbar": {
             "outlinewidth": 0,
             "ticks": ""
            },
            "type": "contourcarpet"
           }
          ],
          "heatmap": [
           {
            "colorbar": {
             "outlinewidth": 0,
             "ticks": ""
            },
            "colorscale": [
             [
              0,
              "#0d0887"
             ],
             [
              0.1111111111111111,
              "#46039f"
             ],
             [
              0.2222222222222222,
              "#7201a8"
             ],
             [
              0.3333333333333333,
              "#9c179e"
             ],
             [
              0.4444444444444444,
              "#bd3786"
             ],
             [
              0.5555555555555556,
              "#d8576b"
             ],
             [
              0.6666666666666666,
              "#ed7953"
             ],
             [
              0.7777777777777778,
              "#fb9f3a"
             ],
             [
              0.8888888888888888,
              "#fdca26"
             ],
             [
              1,
              "#f0f921"
             ]
            ],
            "type": "heatmap"
           }
          ],
          "heatmapgl": [
           {
            "colorbar": {
             "outlinewidth": 0,
             "ticks": ""
            },
            "colorscale": [
             [
              0,
              "#0d0887"
             ],
             [
              0.1111111111111111,
              "#46039f"
             ],
             [
              0.2222222222222222,
              "#7201a8"
             ],
             [
              0.3333333333333333,
              "#9c179e"
             ],
             [
              0.4444444444444444,
              "#bd3786"
             ],
             [
              0.5555555555555556,
              "#d8576b"
             ],
             [
              0.6666666666666666,
              "#ed7953"
             ],
             [
              0.7777777777777778,
              "#fb9f3a"
             ],
             [
              0.8888888888888888,
              "#fdca26"
             ],
             [
              1,
              "#f0f921"
             ]
            ],
            "type": "heatmapgl"
           }
          ],
          "histogram": [
           {
            "marker": {
             "pattern": {
              "fillmode": "overlay",
              "size": 10,
              "solidity": 0.2
             }
            },
            "type": "histogram"
           }
          ],
          "histogram2d": [
           {
            "colorbar": {
             "outlinewidth": 0,
             "ticks": ""
            },
            "colorscale": [
             [
              0,
              "#0d0887"
             ],
             [
              0.1111111111111111,
              "#46039f"
             ],
             [
              0.2222222222222222,
              "#7201a8"
             ],
             [
              0.3333333333333333,
              "#9c179e"
             ],
             [
              0.4444444444444444,
              "#bd3786"
             ],
             [
              0.5555555555555556,
              "#d8576b"
             ],
             [
              0.6666666666666666,
              "#ed7953"
             ],
             [
              0.7777777777777778,
              "#fb9f3a"
             ],
             [
              0.8888888888888888,
              "#fdca26"
             ],
             [
              1,
              "#f0f921"
             ]
            ],
            "type": "histogram2d"
           }
          ],
          "histogram2dcontour": [
           {
            "colorbar": {
             "outlinewidth": 0,
             "ticks": ""
            },
            "colorscale": [
             [
              0,
              "#0d0887"
             ],
             [
              0.1111111111111111,
              "#46039f"
             ],
             [
              0.2222222222222222,
              "#7201a8"
             ],
             [
              0.3333333333333333,
              "#9c179e"
             ],
             [
              0.4444444444444444,
              "#bd3786"
             ],
             [
              0.5555555555555556,
              "#d8576b"
             ],
             [
              0.6666666666666666,
              "#ed7953"
             ],
             [
              0.7777777777777778,
              "#fb9f3a"
             ],
             [
              0.8888888888888888,
              "#fdca26"
             ],
             [
              1,
              "#f0f921"
             ]
            ],
            "type": "histogram2dcontour"
           }
          ],
          "mesh3d": [
           {
            "colorbar": {
             "outlinewidth": 0,
             "ticks": ""
            },
            "type": "mesh3d"
           }
          ],
          "parcoords": [
           {
            "line": {
             "colorbar": {
              "outlinewidth": 0,
              "ticks": ""
             }
            },
            "type": "parcoords"
           }
          ],
          "pie": [
           {
            "automargin": true,
            "type": "pie"
           }
          ],
          "scatter": [
           {
            "fillpattern": {
             "fillmode": "overlay",
             "size": 10,
             "solidity": 0.2
            },
            "type": "scatter"
           }
          ],
          "scatter3d": [
           {
            "line": {
             "colorbar": {
              "outlinewidth": 0,
              "ticks": ""
             }
            },
            "marker": {
             "colorbar": {
              "outlinewidth": 0,
              "ticks": ""
             }
            },
            "type": "scatter3d"
           }
          ],
          "scattercarpet": [
           {
            "marker": {
             "colorbar": {
              "outlinewidth": 0,
              "ticks": ""
             }
            },
            "type": "scattercarpet"
           }
          ],
          "scattergeo": [
           {
            "marker": {
             "colorbar": {
              "outlinewidth": 0,
              "ticks": ""
             }
            },
            "type": "scattergeo"
           }
          ],
          "scattergl": [
           {
            "marker": {
             "colorbar": {
              "outlinewidth": 0,
              "ticks": ""
             }
            },
            "type": "scattergl"
           }
          ],
          "scattermapbox": [
           {
            "marker": {
             "colorbar": {
              "outlinewidth": 0,
              "ticks": ""
             }
            },
            "type": "scattermapbox"
           }
          ],
          "scatterpolar": [
           {
            "marker": {
             "colorbar": {
              "outlinewidth": 0,
              "ticks": ""
             }
            },
            "type": "scatterpolar"
           }
          ],
          "scatterpolargl": [
           {
            "marker": {
             "colorbar": {
              "outlinewidth": 0,
              "ticks": ""
             }
            },
            "type": "scatterpolargl"
           }
          ],
          "scatterternary": [
           {
            "marker": {
             "colorbar": {
              "outlinewidth": 0,
              "ticks": ""
             }
            },
            "type": "scatterternary"
           }
          ],
          "surface": [
           {
            "colorbar": {
             "outlinewidth": 0,
             "ticks": ""
            },
            "colorscale": [
             [
              0,
              "#0d0887"
             ],
             [
              0.1111111111111111,
              "#46039f"
             ],
             [
              0.2222222222222222,
              "#7201a8"
             ],
             [
              0.3333333333333333,
              "#9c179e"
             ],
             [
              0.4444444444444444,
              "#bd3786"
             ],
             [
              0.5555555555555556,
              "#d8576b"
             ],
             [
              0.6666666666666666,
              "#ed7953"
             ],
             [
              0.7777777777777778,
              "#fb9f3a"
             ],
             [
              0.8888888888888888,
              "#fdca26"
             ],
             [
              1,
              "#f0f921"
             ]
            ],
            "type": "surface"
           }
          ],
          "table": [
           {
            "cells": {
             "fill": {
              "color": "#EBF0F8"
             },
             "line": {
              "color": "white"
             }
            },
            "header": {
             "fill": {
              "color": "#C8D4E3"
             },
             "line": {
              "color": "white"
             }
            },
            "type": "table"
           }
          ]
         },
         "layout": {
          "annotationdefaults": {
           "arrowcolor": "#2a3f5f",
           "arrowhead": 0,
           "arrowwidth": 1
          },
          "autotypenumbers": "strict",
          "coloraxis": {
           "colorbar": {
            "outlinewidth": 0,
            "ticks": ""
           }
          },
          "colorscale": {
           "diverging": [
            [
             0,
             "#8e0152"
            ],
            [
             0.1,
             "#c51b7d"
            ],
            [
             0.2,
             "#de77ae"
            ],
            [
             0.3,
             "#f1b6da"
            ],
            [
             0.4,
             "#fde0ef"
            ],
            [
             0.5,
             "#f7f7f7"
            ],
            [
             0.6,
             "#e6f5d0"
            ],
            [
             0.7,
             "#b8e186"
            ],
            [
             0.8,
             "#7fbc41"
            ],
            [
             0.9,
             "#4d9221"
            ],
            [
             1,
             "#276419"
            ]
           ],
           "sequential": [
            [
             0,
             "#0d0887"
            ],
            [
             0.1111111111111111,
             "#46039f"
            ],
            [
             0.2222222222222222,
             "#7201a8"
            ],
            [
             0.3333333333333333,
             "#9c179e"
            ],
            [
             0.4444444444444444,
             "#bd3786"
            ],
            [
             0.5555555555555556,
             "#d8576b"
            ],
            [
             0.6666666666666666,
             "#ed7953"
            ],
            [
             0.7777777777777778,
             "#fb9f3a"
            ],
            [
             0.8888888888888888,
             "#fdca26"
            ],
            [
             1,
             "#f0f921"
            ]
           ],
           "sequentialminus": [
            [
             0,
             "#0d0887"
            ],
            [
             0.1111111111111111,
             "#46039f"
            ],
            [
             0.2222222222222222,
             "#7201a8"
            ],
            [
             0.3333333333333333,
             "#9c179e"
            ],
            [
             0.4444444444444444,
             "#bd3786"
            ],
            [
             0.5555555555555556,
             "#d8576b"
            ],
            [
             0.6666666666666666,
             "#ed7953"
            ],
            [
             0.7777777777777778,
             "#fb9f3a"
            ],
            [
             0.8888888888888888,
             "#fdca26"
            ],
            [
             1,
             "#f0f921"
            ]
           ]
          },
          "colorway": [
           "#636efa",
           "#EF553B",
           "#00cc96",
           "#ab63fa",
           "#FFA15A",
           "#19d3f3",
           "#FF6692",
           "#B6E880",
           "#FF97FF",
           "#FECB52"
          ],
          "font": {
           "color": "#2a3f5f"
          },
          "geo": {
           "bgcolor": "white",
           "lakecolor": "white",
           "landcolor": "#E5ECF6",
           "showlakes": true,
           "showland": true,
           "subunitcolor": "white"
          },
          "hoverlabel": {
           "align": "left"
          },
          "hovermode": "closest",
          "mapbox": {
           "style": "light"
          },
          "paper_bgcolor": "white",
          "plot_bgcolor": "#E5ECF6",
          "polar": {
           "angularaxis": {
            "gridcolor": "white",
            "linecolor": "white",
            "ticks": ""
           },
           "bgcolor": "#E5ECF6",
           "radialaxis": {
            "gridcolor": "white",
            "linecolor": "white",
            "ticks": ""
           }
          },
          "scene": {
           "xaxis": {
            "backgroundcolor": "#E5ECF6",
            "gridcolor": "white",
            "gridwidth": 2,
            "linecolor": "white",
            "showbackground": true,
            "ticks": "",
            "zerolinecolor": "white"
           },
           "yaxis": {
            "backgroundcolor": "#E5ECF6",
            "gridcolor": "white",
            "gridwidth": 2,
            "linecolor": "white",
            "showbackground": true,
            "ticks": "",
            "zerolinecolor": "white"
           },
           "zaxis": {
            "backgroundcolor": "#E5ECF6",
            "gridcolor": "white",
            "gridwidth": 2,
            "linecolor": "white",
            "showbackground": true,
            "ticks": "",
            "zerolinecolor": "white"
           }
          },
          "shapedefaults": {
           "line": {
            "color": "#2a3f5f"
           }
          },
          "ternary": {
           "aaxis": {
            "gridcolor": "white",
            "linecolor": "white",
            "ticks": ""
           },
           "baxis": {
            "gridcolor": "white",
            "linecolor": "white",
            "ticks": ""
           },
           "bgcolor": "#E5ECF6",
           "caxis": {
            "gridcolor": "white",
            "linecolor": "white",
            "ticks": ""
           }
          },
          "title": {
           "x": 0.05
          },
          "xaxis": {
           "automargin": true,
           "gridcolor": "white",
           "linecolor": "white",
           "ticks": "",
           "title": {
            "standoff": 15
           },
           "zerolinecolor": "white",
           "zerolinewidth": 2
          },
          "yaxis": {
           "automargin": true,
           "gridcolor": "white",
           "linecolor": "white",
           "ticks": "",
           "title": {
            "standoff": 15
           },
           "zerolinecolor": "white",
           "zerolinewidth": 2
          }
         }
        },
        "xaxis": {
         "anchor": "y",
         "autorange": true,
         "domain": [
          0,
          1
         ],
         "range": [
          "2022-12-13 12:52:40.1514",
          "2022-12-13 15:07:26.8986"
         ],
         "title": {
          "text": "timestamp"
         },
         "type": "date"
        },
        "yaxis": {
         "anchor": "x",
         "autorange": true,
         "categoryarray": [
          "RESUME_WAREHOUSE",
          "SUSPEND_CLUSTER",
          "SPINDOWN_CLUSTER",
          "SPINUP_CLUSTER",
          "RESUME_CLUSTER",
          "SUSPEND_WAREHOUSE"
         ],
         "categoryorder": "array",
         "domain": [
          0,
          1
         ],
         "range": [
          -0.38713910761154857,
          5.3871391076115485
         ],
         "title": {
          "text": "event_name"
         },
         "type": "category"
        }
       }
      },
      "image/png": "[encoded data removed]",
      "text/html": [
       "<div>                            <div id=\"f376c4e2-8df7-43a4-bfdf-80261bec457a\" class=\"plotly-graph-div\" style=\"height:525px; width:100%;\"></div>            <script type=\"text/javascript\">                require([\"plotly\"], function(Plotly) {                    window.PLOTLYENV=window.PLOTLYENV || {};                                    if (document.getElementById(\"f376c4e2-8df7-43a4-bfdf-80261bec457a\")) {                    Plotly.newPlot(                        \"f376c4e2-8df7-43a4-bfdf-80261bec457a\",                        [{\"hovertemplate\":\"event_name=%{y}<br>timestamp=%{x}<extra></extra>\",\"legendgroup\":\"SUSPEND_WAREHOUSE\",\"marker\":{\"color\":\"#636efa\",\"symbol\":\"circle\"},\"mode\":\"markers\",\"name\":\"SUSPEND_WAREHOUSE\",\"orientation\":\"v\",\"showlegend\":true,\"x\":[\"2022-12-13T13:00:24.067000-08:00\",\"2022-12-13T14:29:32.310000-08:00\",\"2022-12-13T14:29:32.003000-08:00\",\"2022-12-13T14:16:56.127000-08:00\",\"2022-12-13T14:16:55.854000-08:00\",\"2022-12-13T14:11:04.069000-08:00\",\"2022-12-13T14:50:02.159000-08:00\",\"2022-12-13T14:50:01.743000-08:00\",\"2022-12-13T14:11:03.830000-08:00\",\"2022-12-13T13:39:29.276000-08:00\",\"2022-12-13T13:24:29.505000-08:00\",\"2022-12-13T13:24:29.149000-08:00\",\"2022-12-13T13:06:01.379000-08:00\",\"2022-12-13T13:39:29.450000-08:00\",\"2022-12-13T13:06:01.186000-08:00\",\"2022-12-13T13:04:22.661000-08:00\",\"2022-12-13T13:04:22.456000-08:00\",\"2022-12-13T13:02:25.606000-08:00\",\"2022-12-13T13:02:25.446000-08:00\",\"2022-12-13T13:58:54.883000-08:00\",\"2022-12-13T13:58:54.607000-08:00\",\"2022-12-13T13:53:03.318000-08:00\",\"2022-12-13T13:53:03.114000-08:00\",\"2022-12-13T13:49:44.890000-08:00\",\"2022-12-13T13:46:37.909000-08:00\",\"2022-12-13T13:46:37.705000-08:00\",\"2022-12-13T13:43:42.672000-08:00\",\"2022-12-13T13:43:42.481000-08:00\",\"2022-12-13T13:49:45.096000-08:00\"],\"xaxis\":\"x\",\"y\":[\"SUSPEND_WAREHOUSE\",\"SUSPEND_WAREHOUSE\",\"SUSPEND_WAREHOUSE\",\"SUSPEND_WAREHOUSE\",\"SUSPEND_WAREHOUSE\",\"SUSPEND_WAREHOUSE\",\"SUSPEND_WAREHOUSE\",\"SUSPEND_WAREHOUSE\",\"SUSPEND_WAREHOUSE\",\"SUSPEND_WAREHOUSE\",\"SUSPEND_WAREHOUSE\",\"SUSPEND_WAREHOUSE\",\"SUSPEND_WAREHOUSE\",\"SUSPEND_WAREHOUSE\",\"SUSPEND_WAREHOUSE\",\"SUSPEND_WAREHOUSE\",\"SUSPEND_WAREHOUSE\",\"SUSPEND_WAREHOUSE\",\"SUSPEND_WAREHOUSE\",\"SUSPEND_WAREHOUSE\",\"SUSPEND_WAREHOUSE\",\"SUSPEND_WAREHOUSE\",\"SUSPEND_WAREHOUSE\",\"SUSPEND_WAREHOUSE\",\"SUSPEND_WAREHOUSE\",\"SUSPEND_WAREHOUSE\",\"SUSPEND_WAREHOUSE\",\"SUSPEND_WAREHOUSE\",\"SUSPEND_WAREHOUSE\"],\"yaxis\":\"y\",\"type\":\"scatter\"},{\"hovertemplate\":\"event_name=%{y}<br>timestamp=%{x}<extra></extra>\",\"legendgroup\":\"RESUME_CLUSTER\",\"marker\":{\"color\":\"#EF553B\",\"symbol\":\"circle\"},\"mode\":\"markers\",\"name\":\"RESUME_CLUSTER\",\"orientation\":\"v\",\"showlegend\":true,\"x\":[\"2022-12-13T14:33:33.169000-08:00\",\"2022-12-13T14:30:34.004000-08:00\",\"2022-12-13T14:30:05.817000-08:00\",\"2022-12-13T14:29:59.842000-08:00\",\"2022-12-13T14:28:18.601000-08:00\",\"2022-12-13T14:15:27.104000-08:00\",\"2022-12-13T14:59:22.946000-08:00\",\"2022-12-13T14:59:03.044000-08:00\",\"2022-12-13T14:58:43.035000-08:00\",\"2022-12-13T14:58:23.043000-08:00\",\"2022-12-13T14:57:42.840000-08:00\",\"2022-12-13T14:54:50.849000-08:00\",\"2022-12-13T14:58:03.036000-08:00\",\"2022-12-13T14:09:58.744000-08:00\",\"2022-12-13T13:37:58.499000-08:00\",\"2022-12-13T13:23:14.662000-08:00\",\"2022-12-13T13:04:40.038000-08:00\",\"2022-12-13T13:03:12.871000-08:00\",\"2022-12-13T14:59:42.982000-08:00\",\"2022-12-13T13:57:48.246000-08:00\",\"2022-12-13T13:51:58.111000-08:00\",\"2022-12-13T13:41:45.045000-08:00\",\"2022-12-13T13:48:36.938000-08:00\",\"2022-12-13T13:45:03.619000-08:00\"],\"xaxis\":\"x\",\"y\":[\"RESUME_CLUSTER\",\"RESUME_CLUSTER\",\"RESUME_CLUSTER\",\"RESUME_CLUSTER\",\"RESUME_CLUSTER\",\"RESUME_CLUSTER\",\"RESUME_CLUSTER\",\"RESUME_CLUSTER\",\"RESUME_CLUSTER\",\"RESUME_CLUSTER\",\"RESUME_CLUSTER\",\"RESUME_CLUSTER\",\"RESUME_CLUSTER\",\"RESUME_CLUSTER\",\"RESUME_CLUSTER\",\"RESUME_CLUSTER\",\"RESUME_CLUSTER\",\"RESUME_CLUSTER\",\"RESUME_CLUSTER\",\"RESUME_CLUSTER\",\"RESUME_CLUSTER\",\"RESUME_CLUSTER\",\"RESUME_CLUSTER\",\"RESUME_CLUSTER\"],\"yaxis\":\"y\",\"type\":\"scatter\"},{\"hovertemplate\":\"event_name=%{y}<br>timestamp=%{x}<extra></extra>\",\"legendgroup\":\"SPINUP_CLUSTER\",\"marker\":{\"color\":\"#00cc96\",\"symbol\":\"circle\"},\"mode\":\"markers\",\"name\":\"SPINUP_CLUSTER\",\"orientation\":\"v\",\"showlegend\":true,\"x\":[\"2022-12-13T14:33:32.883000-08:00\",\"2022-12-13T14:30:34.005000-08:00\",\"2022-12-13T14:30:33.705000-08:00\",\"2022-12-13T14:30:05.819000-08:00\",\"2022-12-13T14:30:04.465000-08:00\",\"2022-12-13T14:33:33.170000-08:00\",\"2022-12-13T14:59:42.690000-08:00\",\"2022-12-13T14:59:22.947000-08:00\",\"2022-12-13T14:59:22.697000-08:00\",\"2022-12-13T14:59:03.045000-08:00\",\"2022-12-13T14:59:02.706000-08:00\",\"2022-12-13T14:58:43.036000-08:00\",\"2022-12-13T14:58:42.689000-08:00\",\"2022-12-13T14:58:23.044000-08:00\",\"2022-12-13T14:58:22.691000-08:00\",\"2022-12-13T14:58:03.036000-08:00\",\"2022-12-13T14:58:02.701000-08:00\",\"2022-12-13T14:57:42.841000-08:00\",\"2022-12-13T14:57:42.617000-08:00\",\"2022-12-13T14:59:42.983000-08:00\"],\"xaxis\":\"x\",\"y\":[\"SPINUP_CLUSTER\",\"SPINUP_CLUSTER\",\"SPINUP_CLUSTER\",\"SPINUP_CLUSTER\",\"SPINUP_CLUSTER\",\"SPINUP_CLUSTER\",\"SPINUP_CLUSTER\",\"SPINUP_CLUSTER\",\"SPINUP_CLUSTER\",\"SPINUP_CLUSTER\",\"SPINUP_CLUSTER\",\"SPINUP_CLUSTER\",\"SPINUP_CLUSTER\",\"SPINUP_CLUSTER\",\"SPINUP_CLUSTER\",\"SPINUP_CLUSTER\",\"SPINUP_CLUSTER\",\"SPINUP_CLUSTER\",\"SPINUP_CLUSTER\",\"SPINUP_CLUSTER\"],\"yaxis\":\"y\",\"type\":\"scatter\"},{\"hovertemplate\":\"event_name=%{y}<br>timestamp=%{x}<extra></extra>\",\"legendgroup\":\"SPINDOWN_CLUSTER\",\"marker\":{\"color\":\"#ab63fa\",\"symbol\":\"circle\"},\"mode\":\"markers\",\"name\":\"SPINDOWN_CLUSTER\",\"orientation\":\"v\",\"showlegend\":true,\"x\":[\"2022-12-13T14:32:51.755000-08:00\",\"2022-12-13T14:32:51.459000-08:00\",\"2022-12-13T14:36:08.346000-08:00\",\"2022-12-13T14:36:08.662000-08:00\",\"2022-12-13T14:38:39.406000-08:00\",\"2022-12-13T14:38:39.249000-08:00\"],\"xaxis\":\"x\",\"y\":[\"SPINDOWN_CLUSTER\",\"SPINDOWN_CLUSTER\",\"SPINDOWN_CLUSTER\",\"SPINDOWN_CLUSTER\",\"SPINDOWN_CLUSTER\",\"SPINDOWN_CLUSTER\"],\"yaxis\":\"y\",\"type\":\"scatter\"},{\"hovertemplate\":\"event_name=%{y}<br>timestamp=%{x}<extra></extra>\",\"legendgroup\":\"SUSPEND_CLUSTER\",\"marker\":{\"color\":\"#FFA15A\",\"symbol\":\"circle\"},\"mode\":\"markers\",\"name\":\"SUSPEND_CLUSTER\",\"orientation\":\"v\",\"showlegend\":true,\"x\":[\"2022-12-13T14:32:51.755000-08:00\",\"2022-12-13T14:29:32.310000-08:00\",\"2022-12-13T14:16:56.126000-08:00\",\"2022-12-13T14:36:08.662000-08:00\",\"2022-12-13T14:11:04.069000-08:00\",\"2022-12-13T14:50:02.159000-08:00\",\"2022-12-13T14:38:39.405000-08:00\",\"2022-12-13T13:39:29.449000-08:00\",\"2022-12-13T13:24:29.505000-08:00\",\"2022-12-13T13:06:01.379000-08:00\",\"2022-12-13T13:04:22.660000-08:00\",\"2022-12-13T13:02:25.606000-08:00\",\"2022-12-13T13:58:54.883000-08:00\",\"2022-12-13T13:53:03.318000-08:00\",\"2022-12-13T13:49:45.096000-08:00\",\"2022-12-13T13:46:37.909000-08:00\",\"2022-12-13T13:43:42.672000-08:00\"],\"xaxis\":\"x\",\"y\":[\"SUSPEND_CLUSTER\",\"SUSPEND_CLUSTER\",\"SUSPEND_CLUSTER\",\"SUSPEND_CLUSTER\",\"SUSPEND_CLUSTER\",\"SUSPEND_CLUSTER\",\"SUSPEND_CLUSTER\",\"SUSPEND_CLUSTER\",\"SUSPEND_CLUSTER\",\"SUSPEND_CLUSTER\",\"SUSPEND_CLUSTER\",\"SUSPEND_CLUSTER\",\"SUSPEND_CLUSTER\",\"SUSPEND_CLUSTER\",\"SUSPEND_CLUSTER\",\"SUSPEND_CLUSTER\",\"SUSPEND_CLUSTER\"],\"yaxis\":\"y\",\"type\":\"scatter\"},{\"hovertemplate\":\"event_name=%{y}<br>timestamp=%{x}<extra></extra>\",\"legendgroup\":\"RESUME_WAREHOUSE\",\"marker\":{\"color\":\"#19d3f3\",\"symbol\":\"circle\"},\"mode\":\"markers\",\"name\":\"RESUME_WAREHOUSE\",\"orientation\":\"v\",\"showlegend\":true,\"x\":[\"2022-12-13T14:29:59.843000-08:00\",\"2022-12-13T14:29:59.633000-08:00\",\"2022-12-13T14:28:18.602000-08:00\",\"2022-12-13T14:28:18.271000-08:00\",\"2022-12-13T14:15:27.104000-08:00\",\"2022-12-13T14:15:26.260000-08:00\",\"2022-12-13T14:54:50.849000-08:00\",\"2022-12-13T14:54:50.601000-08:00\",\"2022-12-13T14:09:58.746000-08:00\",\"2022-12-13T13:37:58.500000-08:00\",\"2022-12-13T13:37:58.296000-08:00\",\"2022-12-13T13:23:14.663000-08:00\",\"2022-12-13T13:23:14.397000-08:00\",\"2022-12-13T13:04:39.872000-08:00\",\"2022-12-13T13:03:12.872000-08:00\",\"2022-12-13T13:03:12.690000-08:00\",\"2022-12-13T13:00:33.699000-08:00\",\"2022-12-13T13:00:26.779000-08:00\",\"2022-12-13T13:04:40.039000-08:00\",\"2022-12-13T13:41:44.709000-08:00\",\"2022-12-13T13:41:45.046000-08:00\",\"2022-12-13T14:09:58.521000-08:00\",\"2022-12-13T13:57:48.248000-08:00\",\"2022-12-13T13:57:47.960000-08:00\",\"2022-12-13T13:51:58.112000-08:00\",\"2022-12-13T13:51:57.842000-08:00\",\"2022-12-13T13:48:36.939000-08:00\",\"2022-12-13T13:48:36.767000-08:00\",\"2022-12-13T13:45:03.619000-08:00\",\"2022-12-13T13:45:02.880000-08:00\"],\"xaxis\":\"x\",\"y\":[\"RESUME_WAREHOUSE\",\"RESUME_WAREHOUSE\",\"RESUME_WAREHOUSE\",\"RESUME_WAREHOUSE\",\"RESUME_WAREHOUSE\",\"RESUME_WAREHOUSE\",\"RESUME_WAREHOUSE\",\"RESUME_WAREHOUSE\",\"RESUME_WAREHOUSE\",\"RESUME_WAREHOUSE\",\"RESUME_WAREHOUSE\",\"RESUME_WAREHOUSE\",\"RESUME_WAREHOUSE\",\"RESUME_WAREHOUSE\",\"RESUME_WAREHOUSE\",\"RESUME_WAREHOUSE\",\"RESUME_WAREHOUSE\",\"RESUME_WAREHOUSE\",\"RESUME_WAREHOUSE\",\"RESUME_WAREHOUSE\",\"RESUME_WAREHOUSE\",\"RESUME_WAREHOUSE\",\"RESUME_WAREHOUSE\",\"RESUME_WAREHOUSE\",\"RESUME_WAREHOUSE\",\"RESUME_WAREHOUSE\",\"RESUME_WAREHOUSE\",\"RESUME_WAREHOUSE\",\"RESUME_WAREHOUSE\",\"RESUME_WAREHOUSE\"],\"yaxis\":\"y\",\"type\":\"scatter\"}],                        {\"template\":{\"data\":{\"histogram2dcontour\":[{\"type\":\"histogram2dcontour\",\"colorbar\":{\"outlinewidth\":0,\"ticks\":\"\"},\"colorscale\":[[0.0,\"#0d0887\"],[0.1111111111111111,\"#46039f\"],[0.2222222222222222,\"#7201a8\"],[0.3333333333333333,\"#9c179e\"],[0.4444444444444444,\"#bd3786\"],[0.5555555555555556,\"#d8576b\"],[0.6666666666666666,\"#ed7953\"],[0.7777777777777778,\"#fb9f3a\"],[0.8888888888888888,\"#fdca26\"],[1.0,\"#f0f921\"]]}],\"choropleth\":[{\"type\":\"choropleth\",\"colorbar\":{\"outlinewidth\":0,\"ticks\":\"\"}}],\"histogram2d\":[{\"type\":\"histogram2d\",\"colorbar\":{\"outlinewidth\":0,\"ticks\":\"\"},\"colorscale\":[[0.0,\"#0d0887\"],[0.1111111111111111,\"#46039f\"],[0.2222222222222222,\"#7201a8\"],[0.3333333333333333,\"#9c179e\"],[0.4444444444444444,\"#bd3786\"],[0.5555555555555556,\"#d8576b\"],[0.6666666666666666,\"#ed7953\"],[0.7777777777777778,\"#fb9f3a\"],[0.8888888888888888,\"#fdca26\"],[1.0,\"#f0f921\"]]}],\"heatmap\":[{\"type\":\"heatmap\",\"colorbar\":{\"outlinewidth\":0,\"ticks\":\"\"},\"colorscale\":[[0.0,\"#0d0887\"],[0.1111111111111111,\"#46039f\"],[0.2222222222222222,\"#7201a8\"],[0.3333333333333333,\"#9c179e\"],[0.4444444444444444,\"#bd3786\"],[0.5555555555555556,\"#d8576b\"],[0.6666666666666666,\"#ed7953\"],[0.7777777777777778,\"#fb9f3a\"],[0.8888888888888888,\"#fdca26\"],[1.0,\"#f0f921\"]]}],\"heatmapgl\":[{\"type\":\"heatmapgl\",\"colorbar\":{\"outlinewidth\":0,\"ticks\":\"\"},\"colorscale\":[[0.0,\"#0d0887\"],[0.1111111111111111,\"#46039f\"],[0.2222222222222222,\"#7201a8\"],[0.3333333333333333,\"#9c179e\"],[0.4444444444444444,\"#bd3786\"],[0.5555555555555556,\"#d8576b\"],[0.6666666666666666,\"#ed7953\"],[0.7777777777777778,\"#fb9f3a\"],[0.8888888888888888,\"#fdca26\"],[1.0,\"#f0f921\"]]}],\"contourcarpet\":[{\"type\":\"contourcarpet\",\"colorbar\":{\"outlinewidth\":0,\"ticks\":\"\"}}],\"contour\":[{\"type\":\"contour\",\"colorbar\":{\"outlinewidth\":0,\"ticks\":\"\"},\"colorscale\":[[0.0,\"#0d0887\"],[0.1111111111111111,\"#46039f\"],[0.2222222222222222,\"#7201a8\"],[0.3333333333333333,\"#9c179e\"],[0.4444444444444444,\"#bd3786\"],[0.5555555555555556,\"#d8576b\"],[0.6666666666666666,\"#ed7953\"],[0.7777777777777778,\"#fb9f3a\"],[0.8888888888888888,\"#fdca26\"],[1.0,\"#f0f921\"]]}],\"surface\":[{\"type\":\"surface\",\"colorbar\":{\"outlinewidth\":0,\"ticks\":\"\"},\"colorscale\":[[0.0,\"#0d0887\"],[0.1111111111111111,\"#46039f\"],[0.2222222222222222,\"#7201a8\"],[0.3333333333333333,\"#9c179e\"],[0.4444444444444444,\"#bd3786\"],[0.5555555555555556,\"#d8576b\"],[0.6666666666666666,\"#ed7953\"],[0.7777777777777778,\"#fb9f3a\"],[0.8888888888888888,\"#fdca26\"],[1.0,\"#f0f921\"]]}],\"mesh3d\":[{\"type\":\"mesh3d\",\"colorbar\":{\"outlinewidth\":0,\"ticks\":\"\"}}],\"scatter\":[{\"fillpattern\":{\"fillmode\":\"overlay\",\"size\":10,\"solidity\":0.2},\"type\":\"scatter\"}],\"parcoords\":[{\"type\":\"parcoords\",\"line\":{\"colorbar\":{\"outlinewidth\":0,\"ticks\":\"\"}}}],\"scatterpolargl\":[{\"type\":\"scatterpolargl\",\"marker\":{\"colorbar\":{\"outlinewidth\":0,\"ticks\":\"\"}}}],\"bar\":[{\"error_x\":{\"color\":\"#2a3f5f\"},\"error_y\":{\"color\":\"#2a3f5f\"},\"marker\":{\"line\":{\"color\":\"#E5ECF6\",\"width\":0.5},\"pattern\":{\"fillmode\":\"overlay\",\"size\":10,\"solidity\":0.2}},\"type\":\"bar\"}],\"scattergeo\":[{\"type\":\"scattergeo\",\"marker\":{\"colorbar\":{\"outlinewidth\":0,\"ticks\":\"\"}}}],\"scatterpolar\":[{\"type\":\"scatterpolar\",\"marker\":{\"colorbar\":{\"outlinewidth\":0,\"ticks\":\"\"}}}],\"histogram\":[{\"marker\":{\"pattern\":{\"fillmode\":\"overlay\",\"size\":10,\"solidity\":0.2}},\"type\":\"histogram\"}],\"scattergl\":[{\"type\":\"scattergl\",\"marker\":{\"colorbar\":{\"outlinewidth\":0,\"ticks\":\"\"}}}],\"scatter3d\":[{\"type\":\"scatter3d\",\"line\":{\"colorbar\":{\"outlinewidth\":0,\"ticks\":\"\"}},\"marker\":{\"colorbar\":{\"outlinewidth\":0,\"ticks\":\"\"}}}],\"scattermapbox\":[{\"type\":\"scattermapbox\",\"marker\":{\"colorbar\":{\"outlinewidth\":0,\"ticks\":\"\"}}}],\"scatterternary\":[{\"type\":\"scatterternary\",\"marker\":{\"colorbar\":{\"outlinewidth\":0,\"ticks\":\"\"}}}],\"scattercarpet\":[{\"type\":\"scattercarpet\",\"marker\":{\"colorbar\":{\"outlinewidth\":0,\"ticks\":\"\"}}}],\"carpet\":[{\"aaxis\":{\"endlinecolor\":\"#2a3f5f\",\"gridcolor\":\"white\",\"linecolor\":\"white\",\"minorgridcolor\":\"white\",\"startlinecolor\":\"#2a3f5f\"},\"baxis\":{\"endlinecolor\":\"#2a3f5f\",\"gridcolor\":\"white\",\"linecolor\":\"white\",\"minorgridcolor\":\"white\",\"startlinecolor\":\"#2a3f5f\"},\"type\":\"carpet\"}],\"table\":[{\"cells\":{\"fill\":{\"color\":\"#EBF0F8\"},\"line\":{\"color\":\"white\"}},\"header\":{\"fill\":{\"color\":\"#C8D4E3\"},\"line\":{\"color\":\"white\"}},\"type\":\"table\"}],\"barpolar\":[{\"marker\":{\"line\":{\"color\":\"#E5ECF6\",\"width\":0.5},\"pattern\":{\"fillmode\":\"overlay\",\"size\":10,\"solidity\":0.2}},\"type\":\"barpolar\"}],\"pie\":[{\"automargin\":true,\"type\":\"pie\"}]},\"layout\":{\"autotypenumbers\":\"strict\",\"colorway\":[\"#636efa\",\"#EF553B\",\"#00cc96\",\"#ab63fa\",\"#FFA15A\",\"#19d3f3\",\"#FF6692\",\"#B6E880\",\"#FF97FF\",\"#FECB52\"],\"font\":{\"color\":\"#2a3f5f\"},\"hovermode\":\"closest\",\"hoverlabel\":{\"align\":\"left\"},\"paper_bgcolor\":\"white\",\"plot_bgcolor\":\"#E5ECF6\",\"polar\":{\"bgcolor\":\"#E5ECF6\",\"angularaxis\":{\"gridcolor\":\"white\",\"linecolor\":\"white\",\"ticks\":\"\"},\"radialaxis\":{\"gridcolor\":\"white\",\"linecolor\":\"white\",\"ticks\":\"\"}},\"ternary\":{\"bgcolor\":\"#E5ECF6\",\"aaxis\":{\"gridcolor\":\"white\",\"linecolor\":\"white\",\"ticks\":\"\"},\"baxis\":{\"gridcolor\":\"white\",\"linecolor\":\"white\",\"ticks\":\"\"},\"caxis\":{\"gridcolor\":\"white\",\"linecolor\":\"white\",\"ticks\":\"\"}},\"coloraxis\":{\"colorbar\":{\"outlinewidth\":0,\"ticks\":\"\"}},\"colorscale\":{\"sequential\":[[0.0,\"#0d0887\"],[0.1111111111111111,\"#46039f\"],[0.2222222222222222,\"#7201a8\"],[0.3333333333333333,\"#9c179e\"],[0.4444444444444444,\"#bd3786\"],[0.5555555555555556,\"#d8576b\"],[0.6666666666666666,\"#ed7953\"],[0.7777777777777778,\"#fb9f3a\"],[0.8888888888888888,\"#fdca26\"],[1.0,\"#f0f921\"]],\"sequentialminus\":[[0.0,\"#0d0887\"],[0.1111111111111111,\"#46039f\"],[0.2222222222222222,\"#7201a8\"],[0.3333333333333333,\"#9c179e\"],[0.4444444444444444,\"#bd3786\"],[0.5555555555555556,\"#d8576b\"],[0.6666666666666666,\"#ed7953\"],[0.7777777777777778,\"#fb9f3a\"],[0.8888888888888888,\"#fdca26\"],[1.0,\"#f0f921\"]],\"diverging\":[[0,\"#8e0152\"],[0.1,\"#c51b7d\"],[0.2,\"#de77ae\"],[0.3,\"#f1b6da\"],[0.4,\"#fde0ef\"],[0.5,\"#f7f7f7\"],[0.6,\"#e6f5d0\"],[0.7,\"#b8e186\"],[0.8,\"#7fbc41\"],[0.9,\"#4d9221\"],[1,\"#276419\"]]},\"xaxis\":{\"gridcolor\":\"white\",\"linecolor\":\"white\",\"ticks\":\"\",\"title\":{\"standoff\":15},\"zerolinecolor\":\"white\",\"automargin\":true,\"zerolinewidth\":2},\"yaxis\":{\"gridcolor\":\"white\",\"linecolor\":\"white\",\"ticks\":\"\",\"title\":{\"standoff\":15},\"zerolinecolor\":\"white\",\"automargin\":true,\"zerolinewidth\":2},\"scene\":{\"xaxis\":{\"backgroundcolor\":\"#E5ECF6\",\"gridcolor\":\"white\",\"linecolor\":\"white\",\"showbackground\":true,\"ticks\":\"\",\"zerolinecolor\":\"white\",\"gridwidth\":2},\"yaxis\":{\"backgroundcolor\":\"#E5ECF6\",\"gridcolor\":\"white\",\"linecolor\":\"white\",\"showbackground\":true,\"ticks\":\"\",\"zerolinecolor\":\"white\",\"gridwidth\":2},\"zaxis\":{\"backgroundcolor\":\"#E5ECF6\",\"gridcolor\":\"white\",\"linecolor\":\"white\",\"showbackground\":true,\"ticks\":\"\",\"zerolinecolor\":\"white\",\"gridwidth\":2}},\"shapedefaults\":{\"line\":{\"color\":\"#2a3f5f\"}},\"annotationdefaults\":{\"arrowcolor\":\"#2a3f5f\",\"arrowhead\":0,\"arrowwidth\":1},\"geo\":{\"bgcolor\":\"white\",\"landcolor\":\"#E5ECF6\",\"subunitcolor\":\"white\",\"showland\":true,\"showlakes\":true,\"lakecolor\":\"white\"},\"title\":{\"x\":0.05},\"mapbox\":{\"style\":\"light\"}}},\"xaxis\":{\"anchor\":\"y\",\"domain\":[0.0,1.0],\"title\":{\"text\":\"timestamp\"}},\"yaxis\":{\"anchor\":\"x\",\"domain\":[0.0,1.0],\"title\":{\"text\":\"event_name\"},\"categoryorder\":\"array\",\"categoryarray\":[\"RESUME_WAREHOUSE\",\"SUSPEND_CLUSTER\",\"SPINDOWN_CLUSTER\",\"SPINUP_CLUSTER\",\"RESUME_CLUSTER\",\"SUSPEND_WAREHOUSE\"]},\"legend\":{\"title\":{\"text\":\"event_name\"},\"tracegroupgap\":0},\"margin\":{\"t\":60}},                        {\"responsive\": true}                    ).then(function(){\n",
       "                            \n",
       "var gd = document.getElementById('f376c4e2-8df7-43a4-bfdf-80261bec457a');\n",
       "var x = new MutationObserver(function (mutations, observer) {{\n",
       "        var display = window.getComputedStyle(gd).display;\n",
       "        if (!display || display === 'none') {{\n",
       "            console.log([gd, 'removed!']);\n",
       "            Plotly.purge(gd);\n",
       "            observer.disconnect();\n",
       "        }}\n",
       "}});\n",
       "\n",
       "// Listen for the removal of the full notebook cells\n",
       "var notebookContainer = gd.closest('#notebook-container');\n",
       "if (notebookContainer) {{\n",
       "    x.observe(notebookContainer, {childList: true});\n",
       "}}\n",
       "\n",
       "// Listen for the clearing of the current output cell\n",
       "var outputEl = gd.closest('.output');\n",
       "if (outputEl) {{\n",
       "    x.observe(outputEl, {childList: true});\n",
       "}}\n",
       "\n",
       "                        })                };                });            </script>        </div>"
      ]
     },
     "metadata": {},
     "output_type": "display_data"
    },
    {
     "name": "stdout",
     "output_type": "stream",
     "text": [
      "time: 82.1 ms (started: 2023-05-23 20:56:42 -04:00)\n"
     ]
    }
   ],
   "source": [
    "import plotly.express as px\n",
    "fig = px.scatter(whe.sort_values('warehouse_name'), x=\"timestamp\", y=\"event_name\", color='event_name')\n",
    "fig.show()"
   ]
  },
  {
   "cell_type": "code",
   "execution_count": 7,
   "id": "8eadfaa2-e9e3-479c-8738-c0b2b6bcedcf",
   "metadata": {},
   "outputs": [
    {
     "data": {
      "application/vnd.plotly.v1+json": {
       "config": {
        "plotlyServerURL": "https://plot.ly"
       },
       "data": [
        {
         "alignmentgroup": "True",
         "base": [
          "2022-12-13T14:47:53.060000-08:00",
          "2022-12-13T13:01:24.050000-08:00",
          "2022-12-13T13:01:12.148000-08:00",
          "2022-12-13T14:47:54.836000-08:00",
          "2022-12-13T14:28:27.080000-08:00",
          "2022-12-13T14:48:23.537000-08:00",
          "2022-12-13T14:31:45.222000-08:00",
          "2022-12-13T14:30:02.203000-08:00",
          "2022-12-13T14:47:46.089000-08:00",
          "2022-12-13T13:48:37.718000-08:00",
          "2022-12-13T13:41:58.149000-08:00",
          "2022-12-13T14:56:13.636000-08:00",
          "2022-12-13T13:45:34.112000-08:00",
          "2022-12-13T14:32:54.124000-08:00",
          "2022-12-13T13:01:00.075000-08:00",
          "2022-12-13T13:00:33.776000-08:00",
          "2022-12-13T14:55:54.508000-08:00",
          "2022-12-13T14:55:24.069000-08:00",
          "2022-12-13T14:33:16.377000-08:00",
          "2022-12-13T14:32:42.859000-08:00",
          "2022-12-13T13:42:10.847000-08:00",
          "2022-12-13T14:57:01.991000-08:00",
          "2022-12-13T14:57:00.300000-08:00",
          "2022-12-13T14:56:28.043000-08:00",
          "2022-12-13T13:38:19.102000-08:00",
          "2022-12-13T14:31:06.572000-08:00",
          "2022-12-13T14:57:01.178000-08:00",
          "2022-12-13T14:31:06.553000-08:00",
          "2022-12-13T13:52:01.119000-08:00",
          "2022-12-13T13:48:39.193000-08:00",
          "2022-12-13T13:45:13.104000-08:00",
          "2022-12-13T13:41:48.154000-08:00",
          "2022-12-13T13:42:40.023000-08:00",
          "2022-12-13T13:42:27.021000-08:00",
          "2022-12-13T13:01:18.151000-08:00",
          "2022-12-13T14:57:02.830000-08:00",
          "2022-12-13T14:47:48.405000-08:00",
          "2022-12-13T14:15:42.983000-08:00",
          "2022-12-13T14:57:30.052000-08:00",
          "2022-12-13T14:33:27.122000-08:00",
          "2022-12-13T14:31:46.343000-08:00",
          "2022-12-13T13:04:53.690000-08:00",
          "2022-12-13T14:57:34.755000-08:00",
          "2022-12-13T14:57:00.630000-08:00",
          "2022-12-13T14:55:17.928000-08:00",
          "2022-12-13T14:56:10.513000-08:00",
          "2022-12-13T14:32:51.325000-08:00",
          "2022-12-13T14:31:54.832000-08:00",
          "2022-12-13T14:55:47.725000-08:00",
          "2022-12-13T14:47:54.160000-08:00",
          "2022-12-13T13:00:44.766000-08:00",
          "2022-12-13T14:57:03.027000-08:00",
          "2022-12-13T14:31:47.589000-08:00",
          "2022-12-13T14:10:01.806000-08:00",
          "2022-12-13T14:47:46.852000-08:00",
          "2022-12-13T14:33:20.399000-08:00",
          "2022-12-13T13:45:06.483000-08:00",
          "2022-12-13T14:57:01.356000-08:00",
          "2022-12-13T14:56:25.927000-08:00",
          "2022-12-13T14:33:00.976000-08:00",
          "2022-12-13T13:01:22.475000-08:00",
          "2022-12-13T13:57:50.845000-08:00",
          "2022-12-13T14:31:48.007000-08:00",
          "2022-12-13T14:56:06.631000-08:00",
          "2022-12-13T14:57:02.223000-08:00",
          "2022-12-13T14:31:06.824000-08:00",
          "2022-12-13T14:55:58.026000-08:00",
          "2022-12-13T14:57:30.922000-08:00",
          "2022-12-13T14:33:16.802000-08:00",
          "2022-12-13T14:56:02.634000-08:00",
          "2022-12-13T13:23:23.758000-08:00",
          "2022-12-13T14:56:19.796000-08:00",
          "2022-12-13T13:42:38.872000-08:00",
          "2022-12-13T13:42:24.158000-08:00",
          "2022-12-13T14:33:09.775000-08:00",
          "2022-12-13T14:56:20.912000-08:00",
          "2022-12-13T14:33:17.007000-08:00",
          "2022-12-13T14:47:49.368000-08:00",
          "2022-12-13T14:54:52.891000-08:00",
          "2022-12-13T13:38:01.710000-08:00",
          "2022-12-13T13:03:21.463000-08:00",
          "2022-12-13T14:57:33.408000-08:00",
          "2022-12-13T14:56:22.933000-08:00",
          "2022-12-13T14:48:14.426000-08:00",
          "2022-12-13T13:01:02.813000-08:00",
          "2022-12-13T14:56:05.707000-08:00",
          "2022-12-13T14:31:09.032000-08:00",
          "2022-12-13T13:38:20.563000-08:00",
          "2022-12-13T14:34:56.861000-08:00",
          "2022-12-13T14:32:42.897000-08:00",
          "2022-12-13T14:35:24.699000-08:00",
          "2022-12-13T14:35:36.778000-08:00",
          "2022-12-13T14:34:48.162000-08:00",
          "2022-12-13T14:31:48.399000-08:00",
          "2022-12-13T14:32:37.041000-08:00",
          "2022-12-13T14:34:47.434000-08:00",
          "2022-12-13T14:30:08.577000-08:00",
          "2022-12-13T14:31:38.137000-08:00",
          "2022-12-13T14:34:33.695000-08:00",
          "2022-12-13T14:35:36.696000-08:00",
          "2022-12-13T14:33:36.650000-08:00",
          "2022-12-13T14:35:36.825000-08:00",
          "2022-12-13T14:57:43.461000-08:00",
          "2022-12-13T14:34:08.046000-08:00",
          "2022-12-13T14:31:06.553000-08:00",
          "2022-12-13T14:30:39.606000-08:00",
          "2022-12-13T14:58:04.224000-08:00",
          "2022-12-13T14:31:10.597000-08:00",
          "2022-12-13T14:33:30.775000-08:00",
          "2022-12-13T14:31:28.147000-08:00",
          "2022-12-13T14:31:51.382000-08:00",
          "2022-12-13T14:34:47.895000-08:00",
          "2022-12-13T14:32:07.534000-08:00",
          "2022-12-13T14:32:37.457000-08:00",
          "2022-12-13T14:32:18.352000-08:00",
          "2022-12-13T14:34:48.329000-08:00",
          "2022-12-13T14:31:57.684000-08:00",
          "2022-12-13T14:34:48.266000-08:00",
          "2022-12-13T14:35:36.795000-08:00",
          "2022-12-13T14:32:00.694000-08:00",
          "2022-12-13T14:33:16.796000-08:00",
          "2022-12-13T14:32:10.695000-08:00",
          "2022-12-13T14:58:24.415000-08:00",
          "2022-12-13T14:58:43.586000-08:00",
          "2022-12-13T14:59:04.545000-08:00",
          "2022-12-13T14:59:23.540000-08:00",
          "2022-12-13T14:59:42.444000-08:00"
         ],
         "hovertemplate": "era_start=%{base}<br>era_end=%{x}<br>warehouse_id=%{y}<extra></extra>",
         "legendgroup": "",
         "marker": {
          "color": "#636efa",
          "pattern": {
           "shape": ""
          }
         },
         "name": "",
         "offsetgroup": "",
         "orientation": "h",
         "showlegend": false,
         "textposition": "auto",
         "type": "bar",
         "x": [
          486,
          1527,
          3199,
          277,
          5341,
          38624,
          1051,
          63107,
          333,
          38,
          12356,
          819,
          3850,
          1174,
          2017,
          8866,
          540,
          725,
          416,
          5753,
          9825,
          54,
          59,
          360,
          14,
          13,
          43,
          13,
          2194,
          5671,
          20685,
          7921,
          2439,
          10961,
          3358,
          40,
          593,
          12844,
          552,
          840725,
          546,
          8281,
          1411329,
          312,
          1934,
          2695,
          832,
          44671,
          1799,
          292,
          11897,
          313,
          238,
          2205,
          385,
          5870,
          2813,
          428,
          548,
          7025,
          11,
          3923,
          5110,
          612,
          396,
          31,
          1154,
          635,
          12,
          302,
          6295,
          553,
          13,
          2321,
          2339,
          620,
          13,
          335,
          1031,
          15434,
          1118,
          1228,
          726,
          249,
          7921,
          466,
          33358,
          8685,
          27123,
          6179,
          9165,
          11,
          191,
          46577,
          3438,
          595,
          83165,
          4399,
          10960,
          9,
          24529,
          14,
          1188394,
          24938,
          12,
          26557,
          1192227,
          312,
          17532,
          4445,
          24,
          96,
          1485,
          29401,
          12368,
          1490,
          1385,
          10,
          1541,
          5043,
          955,
          2284,
          1238165,
          1178275,
          1059121,
          1088014,
          557982
         ],
         "xaxis": "x",
         "y": [
          "{\n  \"cluster_number\": 1,\n  \"warehouse_id\": 97\n}",
          "{\n  \"cluster_number\": 1,\n  \"warehouse_id\": 97\n}",
          "{\n  \"cluster_number\": 1,\n  \"warehouse_id\": 97\n}",
          "{\n  \"cluster_number\": 1,\n  \"warehouse_id\": 97\n}",
          "{\n  \"cluster_number\": 1,\n  \"warehouse_id\": 97\n}",
          "{\n  \"cluster_number\": 1,\n  \"warehouse_id\": 97\n}",
          "{\n  \"cluster_number\": 1,\n  \"warehouse_id\": 97\n}",
          "{\n  \"cluster_number\": 1,\n  \"warehouse_id\": 97\n}",
          "{\n  \"cluster_number\": 1,\n  \"warehouse_id\": 97\n}",
          "{\n  \"cluster_number\": 1,\n  \"warehouse_id\": 97\n}",
          "{\n  \"cluster_number\": 1,\n  \"warehouse_id\": 97\n}",
          "{\n  \"cluster_number\": 1,\n  \"warehouse_id\": 97\n}",
          "{\n  \"cluster_number\": 1,\n  \"warehouse_id\": 97\n}",
          "{\n  \"cluster_number\": 1,\n  \"warehouse_id\": 97\n}",
          "{\n  \"cluster_number\": 1,\n  \"warehouse_id\": 97\n}",
          "{\n  \"cluster_number\": 1,\n  \"warehouse_id\": 97\n}",
          "{\n  \"cluster_number\": 1,\n  \"warehouse_id\": 97\n}",
          "{\n  \"cluster_number\": 1,\n  \"warehouse_id\": 97\n}",
          "{\n  \"cluster_number\": 1,\n  \"warehouse_id\": 97\n}",
          "{\n  \"cluster_number\": 1,\n  \"warehouse_id\": 97\n}",
          "{\n  \"cluster_number\": 1,\n  \"warehouse_id\": 97\n}",
          "{\n  \"cluster_number\": 1,\n  \"warehouse_id\": 97\n}",
          "{\n  \"cluster_number\": 1,\n  \"warehouse_id\": 97\n}",
          "{\n  \"cluster_number\": 1,\n  \"warehouse_id\": 97\n}",
          "{\n  \"cluster_number\": 1,\n  \"warehouse_id\": 97\n}",
          "{\n  \"cluster_number\": 1,\n  \"warehouse_id\": 97\n}",
          "{\n  \"cluster_number\": 1,\n  \"warehouse_id\": 97\n}",
          "{\n  \"cluster_number\": 1,\n  \"warehouse_id\": 97\n}",
          "{\n  \"cluster_number\": 1,\n  \"warehouse_id\": 97\n}",
          "{\n  \"cluster_number\": 1,\n  \"warehouse_id\": 97\n}",
          "{\n  \"cluster_number\": 1,\n  \"warehouse_id\": 97\n}",
          "{\n  \"cluster_number\": 1,\n  \"warehouse_id\": 97\n}",
          "{\n  \"cluster_number\": 1,\n  \"warehouse_id\": 97\n}",
          "{\n  \"cluster_number\": 1,\n  \"warehouse_id\": 97\n}",
          "{\n  \"cluster_number\": 1,\n  \"warehouse_id\": 97\n}",
          "{\n  \"cluster_number\": 1,\n  \"warehouse_id\": 97\n}",
          "{\n  \"cluster_number\": 1,\n  \"warehouse_id\": 97\n}",
          "{\n  \"cluster_number\": 1,\n  \"warehouse_id\": 97\n}",
          "{\n  \"cluster_number\": 1,\n  \"warehouse_id\": 97\n}",
          "{\n  \"cluster_number\": 1,\n  \"warehouse_id\": 97\n}",
          "{\n  \"cluster_number\": 1,\n  \"warehouse_id\": 97\n}",
          "{\n  \"cluster_number\": 1,\n  \"warehouse_id\": 97\n}",
          "{\n  \"cluster_number\": 1,\n  \"warehouse_id\": 97\n}",
          "{\n  \"cluster_number\": 1,\n  \"warehouse_id\": 97\n}",
          "{\n  \"cluster_number\": 1,\n  \"warehouse_id\": 97\n}",
          "{\n  \"cluster_number\": 1,\n  \"warehouse_id\": 97\n}",
          "{\n  \"cluster_number\": 1,\n  \"warehouse_id\": 97\n}",
          "{\n  \"cluster_number\": 1,\n  \"warehouse_id\": 97\n}",
          "{\n  \"cluster_number\": 1,\n  \"warehouse_id\": 97\n}",
          "{\n  \"cluster_number\": 1,\n  \"warehouse_id\": 97\n}",
          "{\n  \"cluster_number\": 1,\n  \"warehouse_id\": 97\n}",
          "{\n  \"cluster_number\": 1,\n  \"warehouse_id\": 97\n}",
          "{\n  \"cluster_number\": 1,\n  \"warehouse_id\": 97\n}",
          "{\n  \"cluster_number\": 1,\n  \"warehouse_id\": 97\n}",
          "{\n  \"cluster_number\": 1,\n  \"warehouse_id\": 97\n}",
          "{\n  \"cluster_number\": 1,\n  \"warehouse_id\": 97\n}",
          "{\n  \"cluster_number\": 1,\n  \"warehouse_id\": 97\n}",
          "{\n  \"cluster_number\": 1,\n  \"warehouse_id\": 97\n}",
          "{\n  \"cluster_number\": 1,\n  \"warehouse_id\": 97\n}",
          "{\n  \"cluster_number\": 1,\n  \"warehouse_id\": 97\n}",
          "{\n  \"cluster_number\": 1,\n  \"warehouse_id\": 97\n}",
          "{\n  \"cluster_number\": 1,\n  \"warehouse_id\": 97\n}",
          "{\n  \"cluster_number\": 1,\n  \"warehouse_id\": 97\n}",
          "{\n  \"cluster_number\": 1,\n  \"warehouse_id\": 97\n}",
          "{\n  \"cluster_number\": 1,\n  \"warehouse_id\": 97\n}",
          "{\n  \"cluster_number\": 1,\n  \"warehouse_id\": 97\n}",
          "{\n  \"cluster_number\": 1,\n  \"warehouse_id\": 97\n}",
          "{\n  \"cluster_number\": 1,\n  \"warehouse_id\": 97\n}",
          "{\n  \"cluster_number\": 1,\n  \"warehouse_id\": 97\n}",
          "{\n  \"cluster_number\": 1,\n  \"warehouse_id\": 97\n}",
          "{\n  \"cluster_number\": 1,\n  \"warehouse_id\": 97\n}",
          "{\n  \"cluster_number\": 1,\n  \"warehouse_id\": 97\n}",
          "{\n  \"cluster_number\": 1,\n  \"warehouse_id\": 97\n}",
          "{\n  \"cluster_number\": 1,\n  \"warehouse_id\": 97\n}",
          "{\n  \"cluster_number\": 1,\n  \"warehouse_id\": 97\n}",
          "{\n  \"cluster_number\": 1,\n  \"warehouse_id\": 97\n}",
          "{\n  \"cluster_number\": 1,\n  \"warehouse_id\": 97\n}",
          "{\n  \"cluster_number\": 1,\n  \"warehouse_id\": 97\n}",
          "{\n  \"cluster_number\": 1,\n  \"warehouse_id\": 97\n}",
          "{\n  \"cluster_number\": 1,\n  \"warehouse_id\": 97\n}",
          "{\n  \"cluster_number\": 1,\n  \"warehouse_id\": 97\n}",
          "{\n  \"cluster_number\": 1,\n  \"warehouse_id\": 97\n}",
          "{\n  \"cluster_number\": 1,\n  \"warehouse_id\": 97\n}",
          "{\n  \"cluster_number\": 1,\n  \"warehouse_id\": 97\n}",
          "{\n  \"cluster_number\": 1,\n  \"warehouse_id\": 97\n}",
          "{\n  \"cluster_number\": 1,\n  \"warehouse_id\": 97\n}",
          "{\n  \"cluster_number\": 1,\n  \"warehouse_id\": 97\n}",
          "{\n  \"cluster_number\": 1,\n  \"warehouse_id\": 97\n}",
          "{\n  \"cluster_number\": 2,\n  \"warehouse_id\": 97\n}",
          "{\n  \"cluster_number\": 2,\n  \"warehouse_id\": 97\n}",
          "{\n  \"cluster_number\": 2,\n  \"warehouse_id\": 97\n}",
          "{\n  \"cluster_number\": 2,\n  \"warehouse_id\": 97\n}",
          "{\n  \"cluster_number\": 2,\n  \"warehouse_id\": 97\n}",
          "{\n  \"cluster_number\": 2,\n  \"warehouse_id\": 97\n}",
          "{\n  \"cluster_number\": 2,\n  \"warehouse_id\": 97\n}",
          "{\n  \"cluster_number\": 2,\n  \"warehouse_id\": 97\n}",
          "{\n  \"cluster_number\": 2,\n  \"warehouse_id\": 97\n}",
          "{\n  \"cluster_number\": 2,\n  \"warehouse_id\": 97\n}",
          "{\n  \"cluster_number\": 2,\n  \"warehouse_id\": 97\n}",
          "{\n  \"cluster_number\": 2,\n  \"warehouse_id\": 97\n}",
          "{\n  \"cluster_number\": 2,\n  \"warehouse_id\": 97\n}",
          "{\n  \"cluster_number\": 2,\n  \"warehouse_id\": 97\n}",
          "{\n  \"cluster_number\": 2,\n  \"warehouse_id\": 97\n}",
          "{\n  \"cluster_number\": 2,\n  \"warehouse_id\": 97\n}",
          "{\n  \"cluster_number\": 3,\n  \"warehouse_id\": 97\n}",
          "{\n  \"cluster_number\": 3,\n  \"warehouse_id\": 97\n}",
          "{\n  \"cluster_number\": 3,\n  \"warehouse_id\": 97\n}",
          "{\n  \"cluster_number\": 3,\n  \"warehouse_id\": 97\n}",
          "{\n  \"cluster_number\": 3,\n  \"warehouse_id\": 97\n}",
          "{\n  \"cluster_number\": 3,\n  \"warehouse_id\": 97\n}",
          "{\n  \"cluster_number\": 3,\n  \"warehouse_id\": 97\n}",
          "{\n  \"cluster_number\": 3,\n  \"warehouse_id\": 97\n}",
          "{\n  \"cluster_number\": 3,\n  \"warehouse_id\": 97\n}",
          "{\n  \"cluster_number\": 3,\n  \"warehouse_id\": 97\n}",
          "{\n  \"cluster_number\": 3,\n  \"warehouse_id\": 97\n}",
          "{\n  \"cluster_number\": 3,\n  \"warehouse_id\": 97\n}",
          "{\n  \"cluster_number\": 3,\n  \"warehouse_id\": 97\n}",
          "{\n  \"cluster_number\": 3,\n  \"warehouse_id\": 97\n}",
          "{\n  \"cluster_number\": 3,\n  \"warehouse_id\": 97\n}",
          "{\n  \"cluster_number\": 3,\n  \"warehouse_id\": 97\n}",
          "{\n  \"cluster_number\": 3,\n  \"warehouse_id\": 97\n}",
          "{\n  \"cluster_number\": 3,\n  \"warehouse_id\": 97\n}",
          "{\n  \"cluster_number\": 4,\n  \"warehouse_id\": 97\n}",
          "{\n  \"cluster_number\": 5,\n  \"warehouse_id\": 97\n}",
          "{\n  \"cluster_number\": 6,\n  \"warehouse_id\": 97\n}",
          "{\n  \"cluster_number\": 7,\n  \"warehouse_id\": 97\n}",
          "{\n  \"cluster_number\": 8,\n  \"warehouse_id\": 97\n}"
         ],
         "yaxis": "y"
        }
       ],
       "layout": {
        "autosize": true,
        "barmode": "overlay",
        "legend": {
         "tracegroupgap": 0
        },
        "margin": {
         "t": 60
        },
        "template": {
         "data": {
          "bar": [
           {
            "error_x": {
             "color": "#2a3f5f"
            },
            "error_y": {
             "color": "#2a3f5f"
            },
            "marker": {
             "line": {
              "color": "#E5ECF6",
              "width": 0.5
             },
             "pattern": {
              "fillmode": "overlay",
              "size": 10,
              "solidity": 0.2
             }
            },
            "type": "bar"
           }
          ],
          "barpolar": [
           {
            "marker": {
             "line": {
              "color": "#E5ECF6",
              "width": 0.5
             },
             "pattern": {
              "fillmode": "overlay",
              "size": 10,
              "solidity": 0.2
             }
            },
            "type": "barpolar"
           }
          ],
          "carpet": [
           {
            "aaxis": {
             "endlinecolor": "#2a3f5f",
             "gridcolor": "white",
             "linecolor": "white",
             "minorgridcolor": "white",
             "startlinecolor": "#2a3f5f"
            },
            "baxis": {
             "endlinecolor": "#2a3f5f",
             "gridcolor": "white",
             "linecolor": "white",
             "minorgridcolor": "white",
             "startlinecolor": "#2a3f5f"
            },
            "type": "carpet"
           }
          ],
          "choropleth": [
           {
            "colorbar": {
             "outlinewidth": 0,
             "ticks": ""
            },
            "type": "choropleth"
           }
          ],
          "contour": [
           {
            "colorbar": {
             "outlinewidth": 0,
             "ticks": ""
            },
            "colorscale": [
             [
              0,
              "#0d0887"
             ],
             [
              0.1111111111111111,
              "#46039f"
             ],
             [
              0.2222222222222222,
              "#7201a8"
             ],
             [
              0.3333333333333333,
              "#9c179e"
             ],
             [
              0.4444444444444444,
              "#bd3786"
             ],
             [
              0.5555555555555556,
              "#d8576b"
             ],
             [
              0.6666666666666666,
              "#ed7953"
             ],
             [
              0.7777777777777778,
              "#fb9f3a"
             ],
             [
              0.8888888888888888,
              "#fdca26"
             ],
             [
              1,
              "#f0f921"
             ]
            ],
            "type": "contour"
           }
          ],
          "contourcarpet": [
           {
            "colorbar": {
             "outlinewidth": 0,
             "ticks": ""
            },
            "type": "contourcarpet"
           }
          ],
          "heatmap": [
           {
            "colorbar": {
             "outlinewidth": 0,
             "ticks": ""
            },
            "colorscale": [
             [
              0,
              "#0d0887"
             ],
             [
              0.1111111111111111,
              "#46039f"
             ],
             [
              0.2222222222222222,
              "#7201a8"
             ],
             [
              0.3333333333333333,
              "#9c179e"
             ],
             [
              0.4444444444444444,
              "#bd3786"
             ],
             [
              0.5555555555555556,
              "#d8576b"
             ],
             [
              0.6666666666666666,
              "#ed7953"
             ],
             [
              0.7777777777777778,
              "#fb9f3a"
             ],
             [
              0.8888888888888888,
              "#fdca26"
             ],
             [
              1,
              "#f0f921"
             ]
            ],
            "type": "heatmap"
           }
          ],
          "heatmapgl": [
           {
            "colorbar": {
             "outlinewidth": 0,
             "ticks": ""
            },
            "colorscale": [
             [
              0,
              "#0d0887"
             ],
             [
              0.1111111111111111,
              "#46039f"
             ],
             [
              0.2222222222222222,
              "#7201a8"
             ],
             [
              0.3333333333333333,
              "#9c179e"
             ],
             [
              0.4444444444444444,
              "#bd3786"
             ],
             [
              0.5555555555555556,
              "#d8576b"
             ],
             [
              0.6666666666666666,
              "#ed7953"
             ],
             [
              0.7777777777777778,
              "#fb9f3a"
             ],
             [
              0.8888888888888888,
              "#fdca26"
             ],
             [
              1,
              "#f0f921"
             ]
            ],
            "type": "heatmapgl"
           }
          ],
          "histogram": [
           {
            "marker": {
             "pattern": {
              "fillmode": "overlay",
              "size": 10,
              "solidity": 0.2
             }
            },
            "type": "histogram"
           }
          ],
          "histogram2d": [
           {
            "colorbar": {
             "outlinewidth": 0,
             "ticks": ""
            },
            "colorscale": [
             [
              0,
              "#0d0887"
             ],
             [
              0.1111111111111111,
              "#46039f"
             ],
             [
              0.2222222222222222,
              "#7201a8"
             ],
             [
              0.3333333333333333,
              "#9c179e"
             ],
             [
              0.4444444444444444,
              "#bd3786"
             ],
             [
              0.5555555555555556,
              "#d8576b"
             ],
             [
              0.6666666666666666,
              "#ed7953"
             ],
             [
              0.7777777777777778,
              "#fb9f3a"
             ],
             [
              0.8888888888888888,
              "#fdca26"
             ],
             [
              1,
              "#f0f921"
             ]
            ],
            "type": "histogram2d"
           }
          ],
          "histogram2dcontour": [
           {
            "colorbar": {
             "outlinewidth": 0,
             "ticks": ""
            },
            "colorscale": [
             [
              0,
              "#0d0887"
             ],
             [
              0.1111111111111111,
              "#46039f"
             ],
             [
              0.2222222222222222,
              "#7201a8"
             ],
             [
              0.3333333333333333,
              "#9c179e"
             ],
             [
              0.4444444444444444,
              "#bd3786"
             ],
             [
              0.5555555555555556,
              "#d8576b"
             ],
             [
              0.6666666666666666,
              "#ed7953"
             ],
             [
              0.7777777777777778,
              "#fb9f3a"
             ],
             [
              0.8888888888888888,
              "#fdca26"
             ],
             [
              1,
              "#f0f921"
             ]
            ],
            "type": "histogram2dcontour"
           }
          ],
          "mesh3d": [
           {
            "colorbar": {
             "outlinewidth": 0,
             "ticks": ""
            },
            "type": "mesh3d"
           }
          ],
          "parcoords": [
           {
            "line": {
             "colorbar": {
              "outlinewidth": 0,
              "ticks": ""
             }
            },
            "type": "parcoords"
           }
          ],
          "pie": [
           {
            "automargin": true,
            "type": "pie"
           }
          ],
          "scatter": [
           {
            "fillpattern": {
             "fillmode": "overlay",
             "size": 10,
             "solidity": 0.2
            },
            "type": "scatter"
           }
          ],
          "scatter3d": [
           {
            "line": {
             "colorbar": {
              "outlinewidth": 0,
              "ticks": ""
             }
            },
            "marker": {
             "colorbar": {
              "outlinewidth": 0,
              "ticks": ""
             }
            },
            "type": "scatter3d"
           }
          ],
          "scattercarpet": [
           {
            "marker": {
             "colorbar": {
              "outlinewidth": 0,
              "ticks": ""
             }
            },
            "type": "scattercarpet"
           }
          ],
          "scattergeo": [
           {
            "marker": {
             "colorbar": {
              "outlinewidth": 0,
              "ticks": ""
             }
            },
            "type": "scattergeo"
           }
          ],
          "scattergl": [
           {
            "marker": {
             "colorbar": {
              "outlinewidth": 0,
              "ticks": ""
             }
            },
            "type": "scattergl"
           }
          ],
          "scattermapbox": [
           {
            "marker": {
             "colorbar": {
              "outlinewidth": 0,
              "ticks": ""
             }
            },
            "type": "scattermapbox"
           }
          ],
          "scatterpolar": [
           {
            "marker": {
             "colorbar": {
              "outlinewidth": 0,
              "ticks": ""
             }
            },
            "type": "scatterpolar"
           }
          ],
          "scatterpolargl": [
           {
            "marker": {
             "colorbar": {
              "outlinewidth": 0,
              "ticks": ""
             }
            },
            "type": "scatterpolargl"
           }
          ],
          "scatterternary": [
           {
            "marker": {
             "colorbar": {
              "outlinewidth": 0,
              "ticks": ""
             }
            },
            "type": "scatterternary"
           }
          ],
          "surface": [
           {
            "colorbar": {
             "outlinewidth": 0,
             "ticks": ""
            },
            "colorscale": [
             [
              0,
              "#0d0887"
             ],
             [
              0.1111111111111111,
              "#46039f"
             ],
             [
              0.2222222222222222,
              "#7201a8"
             ],
             [
              0.3333333333333333,
              "#9c179e"
             ],
             [
              0.4444444444444444,
              "#bd3786"
             ],
             [
              0.5555555555555556,
              "#d8576b"
             ],
             [
              0.6666666666666666,
              "#ed7953"
             ],
             [
              0.7777777777777778,
              "#fb9f3a"
             ],
             [
              0.8888888888888888,
              "#fdca26"
             ],
             [
              1,
              "#f0f921"
             ]
            ],
            "type": "surface"
           }
          ],
          "table": [
           {
            "cells": {
             "fill": {
              "color": "#EBF0F8"
             },
             "line": {
              "color": "white"
             }
            },
            "header": {
             "fill": {
              "color": "#C8D4E3"
             },
             "line": {
              "color": "white"
             }
            },
            "type": "table"
           }
          ]
         },
         "layout": {
          "annotationdefaults": {
           "arrowcolor": "#2a3f5f",
           "arrowhead": 0,
           "arrowwidth": 1
          },
          "autotypenumbers": "strict",
          "coloraxis": {
           "colorbar": {
            "outlinewidth": 0,
            "ticks": ""
           }
          },
          "colorscale": {
           "diverging": [
            [
             0,
             "#8e0152"
            ],
            [
             0.1,
             "#c51b7d"
            ],
            [
             0.2,
             "#de77ae"
            ],
            [
             0.3,
             "#f1b6da"
            ],
            [
             0.4,
             "#fde0ef"
            ],
            [
             0.5,
             "#f7f7f7"
            ],
            [
             0.6,
             "#e6f5d0"
            ],
            [
             0.7,
             "#b8e186"
            ],
            [
             0.8,
             "#7fbc41"
            ],
            [
             0.9,
             "#4d9221"
            ],
            [
             1,
             "#276419"
            ]
           ],
           "sequential": [
            [
             0,
             "#0d0887"
            ],
            [
             0.1111111111111111,
             "#46039f"
            ],
            [
             0.2222222222222222,
             "#7201a8"
            ],
            [
             0.3333333333333333,
             "#9c179e"
            ],
            [
             0.4444444444444444,
             "#bd3786"
            ],
            [
             0.5555555555555556,
             "#d8576b"
            ],
            [
             0.6666666666666666,
             "#ed7953"
            ],
            [
             0.7777777777777778,
             "#fb9f3a"
            ],
            [
             0.8888888888888888,
             "#fdca26"
            ],
            [
             1,
             "#f0f921"
            ]
           ],
           "sequentialminus": [
            [
             0,
             "#0d0887"
            ],
            [
             0.1111111111111111,
             "#46039f"
            ],
            [
             0.2222222222222222,
             "#7201a8"
            ],
            [
             0.3333333333333333,
             "#9c179e"
            ],
            [
             0.4444444444444444,
             "#bd3786"
            ],
            [
             0.5555555555555556,
             "#d8576b"
            ],
            [
             0.6666666666666666,
             "#ed7953"
            ],
            [
             0.7777777777777778,
             "#fb9f3a"
            ],
            [
             0.8888888888888888,
             "#fdca26"
            ],
            [
             1,
             "#f0f921"
            ]
           ]
          },
          "colorway": [
           "#636efa",
           "#EF553B",
           "#00cc96",
           "#ab63fa",
           "#FFA15A",
           "#19d3f3",
           "#FF6692",
           "#B6E880",
           "#FF97FF",
           "#FECB52"
          ],
          "font": {
           "color": "#2a3f5f"
          },
          "geo": {
           "bgcolor": "white",
           "lakecolor": "white",
           "landcolor": "#E5ECF6",
           "showlakes": true,
           "showland": true,
           "subunitcolor": "white"
          },
          "hoverlabel": {
           "align": "left"
          },
          "hovermode": "closest",
          "mapbox": {
           "style": "light"
          },
          "paper_bgcolor": "white",
          "plot_bgcolor": "#E5ECF6",
          "polar": {
           "angularaxis": {
            "gridcolor": "white",
            "linecolor": "white",
            "ticks": ""
           },
           "bgcolor": "#E5ECF6",
           "radialaxis": {
            "gridcolor": "white",
            "linecolor": "white",
            "ticks": ""
           }
          },
          "scene": {
           "xaxis": {
            "backgroundcolor": "#E5ECF6",
            "gridcolor": "white",
            "gridwidth": 2,
            "linecolor": "white",
            "showbackground": true,
            "ticks": "",
            "zerolinecolor": "white"
           },
           "yaxis": {
            "backgroundcolor": "#E5ECF6",
            "gridcolor": "white",
            "gridwidth": 2,
            "linecolor": "white",
            "showbackground": true,
            "ticks": "",
            "zerolinecolor": "white"
           },
           "zaxis": {
            "backgroundcolor": "#E5ECF6",
            "gridcolor": "white",
            "gridwidth": 2,
            "linecolor": "white",
            "showbackground": true,
            "ticks": "",
            "zerolinecolor": "white"
           }
          },
          "shapedefaults": {
           "line": {
            "color": "#2a3f5f"
           }
          },
          "ternary": {
           "aaxis": {
            "gridcolor": "white",
            "linecolor": "white",
            "ticks": ""
           },
           "baxis": {
            "gridcolor": "white",
            "linecolor": "white",
            "ticks": ""
           },
           "bgcolor": "#E5ECF6",
           "caxis": {
            "gridcolor": "white",
            "linecolor": "white",
            "ticks": ""
           }
          },
          "title": {
           "x": 0.05
          },
          "xaxis": {
           "automargin": true,
           "gridcolor": "white",
           "linecolor": "white",
           "ticks": "",
           "title": {
            "standoff": 15
           },
           "zerolinecolor": "white",
           "zerolinewidth": 2
          },
          "yaxis": {
           "automargin": true,
           "gridcolor": "white",
           "linecolor": "white",
           "ticks": "",
           "title": {
            "standoff": 15
           },
           "zerolinecolor": "white",
           "zerolinewidth": 2
          }
         }
        },
        "xaxis": {
         "anchor": "y",
         "autorange": true,
         "domain": [
          0,
          1
         ],
         "range": [
          "2022-12-13 12:52:45.3144",
          "2022-12-13 15:28:54.5456"
         ],
         "type": "date"
        },
        "yaxis": {
         "anchor": "x",
         "autorange": true,
         "domain": [
          0,
          1
         ],
         "range": [
          -0.5,
          7.5
         ],
         "title": {
          "text": "warehouse_id"
         },
         "type": "category"
        }
       }
      },
      "image/png": "[encoded data removed]",
      "text/html": [
       "<div>                            <div id=\"43c6d3a7-344f-4762-9a5e-0e3f0306995c\" class=\"plotly-graph-div\" style=\"height:525px; width:100%;\"></div>            <script type=\"text/javascript\">                require([\"plotly\"], function(Plotly) {                    window.PLOTLYENV=window.PLOTLYENV || {};                                    if (document.getElementById(\"43c6d3a7-344f-4762-9a5e-0e3f0306995c\")) {                    Plotly.newPlot(                        \"43c6d3a7-344f-4762-9a5e-0e3f0306995c\",                        [{\"alignmentgroup\":\"True\",\"base\":[\"2022-12-13T14:47:53.060000-08:00\",\"2022-12-13T13:01:24.050000-08:00\",\"2022-12-13T13:01:12.148000-08:00\",\"2022-12-13T14:47:54.836000-08:00\",\"2022-12-13T14:28:27.080000-08:00\",\"2022-12-13T14:48:23.537000-08:00\",\"2022-12-13T14:31:45.222000-08:00\",\"2022-12-13T14:30:02.203000-08:00\",\"2022-12-13T14:47:46.089000-08:00\",\"2022-12-13T13:48:37.718000-08:00\",\"2022-12-13T13:41:58.149000-08:00\",\"2022-12-13T14:56:13.636000-08:00\",\"2022-12-13T13:45:34.112000-08:00\",\"2022-12-13T14:32:54.124000-08:00\",\"2022-12-13T13:01:00.075000-08:00\",\"2022-12-13T13:00:33.776000-08:00\",\"2022-12-13T14:55:54.508000-08:00\",\"2022-12-13T14:55:24.069000-08:00\",\"2022-12-13T14:33:16.377000-08:00\",\"2022-12-13T14:32:42.859000-08:00\",\"2022-12-13T13:42:10.847000-08:00\",\"2022-12-13T14:57:01.991000-08:00\",\"2022-12-13T14:57:00.300000-08:00\",\"2022-12-13T14:56:28.043000-08:00\",\"2022-12-13T13:38:19.102000-08:00\",\"2022-12-13T14:31:06.572000-08:00\",\"2022-12-13T14:57:01.178000-08:00\",\"2022-12-13T14:31:06.553000-08:00\",\"2022-12-13T13:52:01.119000-08:00\",\"2022-12-13T13:48:39.193000-08:00\",\"2022-12-13T13:45:13.104000-08:00\",\"2022-12-13T13:41:48.154000-08:00\",\"2022-12-13T13:42:40.023000-08:00\",\"2022-12-13T13:42:27.021000-08:00\",\"2022-12-13T13:01:18.151000-08:00\",\"2022-12-13T14:57:02.830000-08:00\",\"2022-12-13T14:47:48.405000-08:00\",\"2022-12-13T14:15:42.983000-08:00\",\"2022-12-13T14:57:30.052000-08:00\",\"2022-12-13T14:33:27.122000-08:00\",\"2022-12-13T14:31:46.343000-08:00\",\"2022-12-13T13:04:53.690000-08:00\",\"2022-12-13T14:57:34.755000-08:00\",\"2022-12-13T14:57:00.630000-08:00\",\"2022-12-13T14:55:17.928000-08:00\",\"2022-12-13T14:56:10.513000-08:00\",\"2022-12-13T14:32:51.325000-08:00\",\"2022-12-13T14:31:54.832000-08:00\",\"2022-12-13T14:55:47.725000-08:00\",\"2022-12-13T14:47:54.160000-08:00\",\"2022-12-13T13:00:44.766000-08:00\",\"2022-12-13T14:57:03.027000-08:00\",\"2022-12-13T14:31:47.589000-08:00\",\"2022-12-13T14:10:01.806000-08:00\",\"2022-12-13T14:47:46.852000-08:00\",\"2022-12-13T14:33:20.399000-08:00\",\"2022-12-13T13:45:06.483000-08:00\",\"2022-12-13T14:57:01.356000-08:00\",\"2022-12-13T14:56:25.927000-08:00\",\"2022-12-13T14:33:00.976000-08:00\",\"2022-12-13T13:01:22.475000-08:00\",\"2022-12-13T13:57:50.845000-08:00\",\"2022-12-13T14:31:48.007000-08:00\",\"2022-12-13T14:56:06.631000-08:00\",\"2022-12-13T14:57:02.223000-08:00\",\"2022-12-13T14:31:06.824000-08:00\",\"2022-12-13T14:55:58.026000-08:00\",\"2022-12-13T14:57:30.922000-08:00\",\"2022-12-13T14:33:16.802000-08:00\",\"2022-12-13T14:56:02.634000-08:00\",\"2022-12-13T13:23:23.758000-08:00\",\"2022-12-13T14:56:19.796000-08:00\",\"2022-12-13T13:42:38.872000-08:00\",\"2022-12-13T13:42:24.158000-08:00\",\"2022-12-13T14:33:09.775000-08:00\",\"2022-12-13T14:56:20.912000-08:00\",\"2022-12-13T14:33:17.007000-08:00\",\"2022-12-13T14:47:49.368000-08:00\",\"2022-12-13T14:54:52.891000-08:00\",\"2022-12-13T13:38:01.710000-08:00\",\"2022-12-13T13:03:21.463000-08:00\",\"2022-12-13T14:57:33.408000-08:00\",\"2022-12-13T14:56:22.933000-08:00\",\"2022-12-13T14:48:14.426000-08:00\",\"2022-12-13T13:01:02.813000-08:00\",\"2022-12-13T14:56:05.707000-08:00\",\"2022-12-13T14:31:09.032000-08:00\",\"2022-12-13T13:38:20.563000-08:00\",\"2022-12-13T14:34:56.861000-08:00\",\"2022-12-13T14:32:42.897000-08:00\",\"2022-12-13T14:35:24.699000-08:00\",\"2022-12-13T14:35:36.778000-08:00\",\"2022-12-13T14:34:48.162000-08:00\",\"2022-12-13T14:31:48.399000-08:00\",\"2022-12-13T14:32:37.041000-08:00\",\"2022-12-13T14:34:47.434000-08:00\",\"2022-12-13T14:30:08.577000-08:00\",\"2022-12-13T14:31:38.137000-08:00\",\"2022-12-13T14:34:33.695000-08:00\",\"2022-12-13T14:35:36.696000-08:00\",\"2022-12-13T14:33:36.650000-08:00\",\"2022-12-13T14:35:36.825000-08:00\",\"2022-12-13T14:57:43.461000-08:00\",\"2022-12-13T14:34:08.046000-08:00\",\"2022-12-13T14:31:06.553000-08:00\",\"2022-12-13T14:30:39.606000-08:00\",\"2022-12-13T14:58:04.224000-08:00\",\"2022-12-13T14:31:10.597000-08:00\",\"2022-12-13T14:33:30.775000-08:00\",\"2022-12-13T14:31:28.147000-08:00\",\"2022-12-13T14:31:51.382000-08:00\",\"2022-12-13T14:34:47.895000-08:00\",\"2022-12-13T14:32:07.534000-08:00\",\"2022-12-13T14:32:37.457000-08:00\",\"2022-12-13T14:32:18.352000-08:00\",\"2022-12-13T14:34:48.329000-08:00\",\"2022-12-13T14:31:57.684000-08:00\",\"2022-12-13T14:34:48.266000-08:00\",\"2022-12-13T14:35:36.795000-08:00\",\"2022-12-13T14:32:00.694000-08:00\",\"2022-12-13T14:33:16.796000-08:00\",\"2022-12-13T14:32:10.695000-08:00\",\"2022-12-13T14:58:24.415000-08:00\",\"2022-12-13T14:58:43.586000-08:00\",\"2022-12-13T14:59:04.545000-08:00\",\"2022-12-13T14:59:23.540000-08:00\",\"2022-12-13T14:59:42.444000-08:00\"],\"hovertemplate\":\"era_start=%{base}<br>era_end=%{x}<br>warehouse_id=%{y}<extra></extra>\",\"legendgroup\":\"\",\"marker\":{\"color\":\"#636efa\",\"pattern\":{\"shape\":\"\"}},\"name\":\"\",\"offsetgroup\":\"\",\"orientation\":\"h\",\"showlegend\":false,\"textposition\":\"auto\",\"x\":[486.0,1527.0,3199.0,277.0,5341.0,38624.0,1051.0,63107.0,333.0,38.0,12356.0,819.0,3850.0,1174.0,2017.0,8866.0,540.0,725.0,416.0,5753.0,9825.0,54.0,59.0,360.0,14.0,13.0,43.0,13.0,2194.0,5671.0,20685.0,7921.0,2439.0,10961.0,3358.0,40.0,593.0,12844.0,552.0,840725.0,546.0,8281.0,1411329.0,312.0,1934.0,2695.0,832.0,44671.0,1799.0,292.0,11897.0,313.0,238.0,2205.0,385.0,5870.0,2813.0,428.0,548.0,7025.0,11.0,3923.0,5110.0,612.0,396.0,31.0,1154.0,635.0,12.0,302.0,6295.0,553.0,13.0,2321.0,2339.0,620.0,13.0,335.0,1031.0,15434.0,1118.0,1228.0,726.0,249.0,7921.0,466.0,33358.0,8685.0,27123.0,6179.0,9165.0,11.0,191.0,46577.0,3438.0,595.0,83165.0,4399.0,10960.0,9.0,24529.0,14.0,1188394.0,24938.0,12.0,26557.0,1192227.0,312.0,17532.0,4445.0,24.0,96.0,1485.0,29401.0,12368.0,1490.0,1385.0,10.0,1541.0,5043.0,955.0,2284.0,1238165.0,1178275.0,1059121.0,1088014.0,557982.0],\"xaxis\":\"x\",\"y\":[\"{\\n  \\\"cluster_number\\\": 1,\\n  \\\"warehouse_id\\\": 97\\n}\",\"{\\n  \\\"cluster_number\\\": 1,\\n  \\\"warehouse_id\\\": 97\\n}\",\"{\\n  \\\"cluster_number\\\": 1,\\n  \\\"warehouse_id\\\": 97\\n}\",\"{\\n  \\\"cluster_number\\\": 1,\\n  \\\"warehouse_id\\\": 97\\n}\",\"{\\n  \\\"cluster_number\\\": 1,\\n  \\\"warehouse_id\\\": 97\\n}\",\"{\\n  \\\"cluster_number\\\": 1,\\n  \\\"warehouse_id\\\": 97\\n}\",\"{\\n  \\\"cluster_number\\\": 1,\\n  \\\"warehouse_id\\\": 97\\n}\",\"{\\n  \\\"cluster_number\\\": 1,\\n  \\\"warehouse_id\\\": 97\\n}\",\"{\\n  \\\"cluster_number\\\": 1,\\n  \\\"warehouse_id\\\": 97\\n}\",\"{\\n  \\\"cluster_number\\\": 1,\\n  \\\"warehouse_id\\\": 97\\n}\",\"{\\n  \\\"cluster_number\\\": 1,\\n  \\\"warehouse_id\\\": 97\\n}\",\"{\\n  \\\"cluster_number\\\": 1,\\n  \\\"warehouse_id\\\": 97\\n}\",\"{\\n  \\\"cluster_number\\\": 1,\\n  \\\"warehouse_id\\\": 97\\n}\",\"{\\n  \\\"cluster_number\\\": 1,\\n  \\\"warehouse_id\\\": 97\\n}\",\"{\\n  \\\"cluster_number\\\": 1,\\n  \\\"warehouse_id\\\": 97\\n}\",\"{\\n  \\\"cluster_number\\\": 1,\\n  \\\"warehouse_id\\\": 97\\n}\",\"{\\n  \\\"cluster_number\\\": 1,\\n  \\\"warehouse_id\\\": 97\\n}\",\"{\\n  \\\"cluster_number\\\": 1,\\n  \\\"warehouse_id\\\": 97\\n}\",\"{\\n  \\\"cluster_number\\\": 1,\\n  \\\"warehouse_id\\\": 97\\n}\",\"{\\n  \\\"cluster_number\\\": 1,\\n  \\\"warehouse_id\\\": 97\\n}\",\"{\\n  \\\"cluster_number\\\": 1,\\n  \\\"warehouse_id\\\": 97\\n}\",\"{\\n  \\\"cluster_number\\\": 1,\\n  \\\"warehouse_id\\\": 97\\n}\",\"{\\n  \\\"cluster_number\\\": 1,\\n  \\\"warehouse_id\\\": 97\\n}\",\"{\\n  \\\"cluster_number\\\": 1,\\n  \\\"warehouse_id\\\": 97\\n}\",\"{\\n  \\\"cluster_number\\\": 1,\\n  \\\"warehouse_id\\\": 97\\n}\",\"{\\n  \\\"cluster_number\\\": 1,\\n  \\\"warehouse_id\\\": 97\\n}\",\"{\\n  \\\"cluster_number\\\": 1,\\n  \\\"warehouse_id\\\": 97\\n}\",\"{\\n  \\\"cluster_number\\\": 1,\\n  \\\"warehouse_id\\\": 97\\n}\",\"{\\n  \\\"cluster_number\\\": 1,\\n  \\\"warehouse_id\\\": 97\\n}\",\"{\\n  \\\"cluster_number\\\": 1,\\n  \\\"warehouse_id\\\": 97\\n}\",\"{\\n  \\\"cluster_number\\\": 1,\\n  \\\"warehouse_id\\\": 97\\n}\",\"{\\n  \\\"cluster_number\\\": 1,\\n  \\\"warehouse_id\\\": 97\\n}\",\"{\\n  \\\"cluster_number\\\": 1,\\n  \\\"warehouse_id\\\": 97\\n}\",\"{\\n  \\\"cluster_number\\\": 1,\\n  \\\"warehouse_id\\\": 97\\n}\",\"{\\n  \\\"cluster_number\\\": 1,\\n  \\\"warehouse_id\\\": 97\\n}\",\"{\\n  \\\"cluster_number\\\": 1,\\n  \\\"warehouse_id\\\": 97\\n}\",\"{\\n  \\\"cluster_number\\\": 1,\\n  \\\"warehouse_id\\\": 97\\n}\",\"{\\n  \\\"cluster_number\\\": 1,\\n  \\\"warehouse_id\\\": 97\\n}\",\"{\\n  \\\"cluster_number\\\": 1,\\n  \\\"warehouse_id\\\": 97\\n}\",\"{\\n  \\\"cluster_number\\\": 1,\\n  \\\"warehouse_id\\\": 97\\n}\",\"{\\n  \\\"cluster_number\\\": 1,\\n  \\\"warehouse_id\\\": 97\\n}\",\"{\\n  \\\"cluster_number\\\": 1,\\n  \\\"warehouse_id\\\": 97\\n}\",\"{\\n  \\\"cluster_number\\\": 1,\\n  \\\"warehouse_id\\\": 97\\n}\",\"{\\n  \\\"cluster_number\\\": 1,\\n  \\\"warehouse_id\\\": 97\\n}\",\"{\\n  \\\"cluster_number\\\": 1,\\n  \\\"warehouse_id\\\": 97\\n}\",\"{\\n  \\\"cluster_number\\\": 1,\\n  \\\"warehouse_id\\\": 97\\n}\",\"{\\n  \\\"cluster_number\\\": 1,\\n  \\\"warehouse_id\\\": 97\\n}\",\"{\\n  \\\"cluster_number\\\": 1,\\n  \\\"warehouse_id\\\": 97\\n}\",\"{\\n  \\\"cluster_number\\\": 1,\\n  \\\"warehouse_id\\\": 97\\n}\",\"{\\n  \\\"cluster_number\\\": 1,\\n  \\\"warehouse_id\\\": 97\\n}\",\"{\\n  \\\"cluster_number\\\": 1,\\n  \\\"warehouse_id\\\": 97\\n}\",\"{\\n  \\\"cluster_number\\\": 1,\\n  \\\"warehouse_id\\\": 97\\n}\",\"{\\n  \\\"cluster_number\\\": 1,\\n  \\\"warehouse_id\\\": 97\\n}\",\"{\\n  \\\"cluster_number\\\": 1,\\n  \\\"warehouse_id\\\": 97\\n}\",\"{\\n  \\\"cluster_number\\\": 1,\\n  \\\"warehouse_id\\\": 97\\n}\",\"{\\n  \\\"cluster_number\\\": 1,\\n  \\\"warehouse_id\\\": 97\\n}\",\"{\\n  \\\"cluster_number\\\": 1,\\n  \\\"warehouse_id\\\": 97\\n}\",\"{\\n  \\\"cluster_number\\\": 1,\\n  \\\"warehouse_id\\\": 97\\n}\",\"{\\n  \\\"cluster_number\\\": 1,\\n  \\\"warehouse_id\\\": 97\\n}\",\"{\\n  \\\"cluster_number\\\": 1,\\n  \\\"warehouse_id\\\": 97\\n}\",\"{\\n  \\\"cluster_number\\\": 1,\\n  \\\"warehouse_id\\\": 97\\n}\",\"{\\n  \\\"cluster_number\\\": 1,\\n  \\\"warehouse_id\\\": 97\\n}\",\"{\\n  \\\"cluster_number\\\": 1,\\n  \\\"warehouse_id\\\": 97\\n}\",\"{\\n  \\\"cluster_number\\\": 1,\\n  \\\"warehouse_id\\\": 97\\n}\",\"{\\n  \\\"cluster_number\\\": 1,\\n  \\\"warehouse_id\\\": 97\\n}\",\"{\\n  \\\"cluster_number\\\": 1,\\n  \\\"warehouse_id\\\": 97\\n}\",\"{\\n  \\\"cluster_number\\\": 1,\\n  \\\"warehouse_id\\\": 97\\n}\",\"{\\n  \\\"cluster_number\\\": 1,\\n  \\\"warehouse_id\\\": 97\\n}\",\"{\\n  \\\"cluster_number\\\": 1,\\n  \\\"warehouse_id\\\": 97\\n}\",\"{\\n  \\\"cluster_number\\\": 1,\\n  \\\"warehouse_id\\\": 97\\n}\",\"{\\n  \\\"cluster_number\\\": 1,\\n  \\\"warehouse_id\\\": 97\\n}\",\"{\\n  \\\"cluster_number\\\": 1,\\n  \\\"warehouse_id\\\": 97\\n}\",\"{\\n  \\\"cluster_number\\\": 1,\\n  \\\"warehouse_id\\\": 97\\n}\",\"{\\n  \\\"cluster_number\\\": 1,\\n  \\\"warehouse_id\\\": 97\\n}\",\"{\\n  \\\"cluster_number\\\": 1,\\n  \\\"warehouse_id\\\": 97\\n}\",\"{\\n  \\\"cluster_number\\\": 1,\\n  \\\"warehouse_id\\\": 97\\n}\",\"{\\n  \\\"cluster_number\\\": 1,\\n  \\\"warehouse_id\\\": 97\\n}\",\"{\\n  \\\"cluster_number\\\": 1,\\n  \\\"warehouse_id\\\": 97\\n}\",\"{\\n  \\\"cluster_number\\\": 1,\\n  \\\"warehouse_id\\\": 97\\n}\",\"{\\n  \\\"cluster_number\\\": 1,\\n  \\\"warehouse_id\\\": 97\\n}\",\"{\\n  \\\"cluster_number\\\": 1,\\n  \\\"warehouse_id\\\": 97\\n}\",\"{\\n  \\\"cluster_number\\\": 1,\\n  \\\"warehouse_id\\\": 97\\n}\",\"{\\n  \\\"cluster_number\\\": 1,\\n  \\\"warehouse_id\\\": 97\\n}\",\"{\\n  \\\"cluster_number\\\": 1,\\n  \\\"warehouse_id\\\": 97\\n}\",\"{\\n  \\\"cluster_number\\\": 1,\\n  \\\"warehouse_id\\\": 97\\n}\",\"{\\n  \\\"cluster_number\\\": 1,\\n  \\\"warehouse_id\\\": 97\\n}\",\"{\\n  \\\"cluster_number\\\": 1,\\n  \\\"warehouse_id\\\": 97\\n}\",\"{\\n  \\\"cluster_number\\\": 1,\\n  \\\"warehouse_id\\\": 97\\n}\",\"{\\n  \\\"cluster_number\\\": 2,\\n  \\\"warehouse_id\\\": 97\\n}\",\"{\\n  \\\"cluster_number\\\": 2,\\n  \\\"warehouse_id\\\": 97\\n}\",\"{\\n  \\\"cluster_number\\\": 2,\\n  \\\"warehouse_id\\\": 97\\n}\",\"{\\n  \\\"cluster_number\\\": 2,\\n  \\\"warehouse_id\\\": 97\\n}\",\"{\\n  \\\"cluster_number\\\": 2,\\n  \\\"warehouse_id\\\": 97\\n}\",\"{\\n  \\\"cluster_number\\\": 2,\\n  \\\"warehouse_id\\\": 97\\n}\",\"{\\n  \\\"cluster_number\\\": 2,\\n  \\\"warehouse_id\\\": 97\\n}\",\"{\\n  \\\"cluster_number\\\": 2,\\n  \\\"warehouse_id\\\": 97\\n}\",\"{\\n  \\\"cluster_number\\\": 2,\\n  \\\"warehouse_id\\\": 97\\n}\",\"{\\n  \\\"cluster_number\\\": 2,\\n  \\\"warehouse_id\\\": 97\\n}\",\"{\\n  \\\"cluster_number\\\": 2,\\n  \\\"warehouse_id\\\": 97\\n}\",\"{\\n  \\\"cluster_number\\\": 2,\\n  \\\"warehouse_id\\\": 97\\n}\",\"{\\n  \\\"cluster_number\\\": 2,\\n  \\\"warehouse_id\\\": 97\\n}\",\"{\\n  \\\"cluster_number\\\": 2,\\n  \\\"warehouse_id\\\": 97\\n}\",\"{\\n  \\\"cluster_number\\\": 2,\\n  \\\"warehouse_id\\\": 97\\n}\",\"{\\n  \\\"cluster_number\\\": 2,\\n  \\\"warehouse_id\\\": 97\\n}\",\"{\\n  \\\"cluster_number\\\": 3,\\n  \\\"warehouse_id\\\": 97\\n}\",\"{\\n  \\\"cluster_number\\\": 3,\\n  \\\"warehouse_id\\\": 97\\n}\",\"{\\n  \\\"cluster_number\\\": 3,\\n  \\\"warehouse_id\\\": 97\\n}\",\"{\\n  \\\"cluster_number\\\": 3,\\n  \\\"warehouse_id\\\": 97\\n}\",\"{\\n  \\\"cluster_number\\\": 3,\\n  \\\"warehouse_id\\\": 97\\n}\",\"{\\n  \\\"cluster_number\\\": 3,\\n  \\\"warehouse_id\\\": 97\\n}\",\"{\\n  \\\"cluster_number\\\": 3,\\n  \\\"warehouse_id\\\": 97\\n}\",\"{\\n  \\\"cluster_number\\\": 3,\\n  \\\"warehouse_id\\\": 97\\n}\",\"{\\n  \\\"cluster_number\\\": 3,\\n  \\\"warehouse_id\\\": 97\\n}\",\"{\\n  \\\"cluster_number\\\": 3,\\n  \\\"warehouse_id\\\": 97\\n}\",\"{\\n  \\\"cluster_number\\\": 3,\\n  \\\"warehouse_id\\\": 97\\n}\",\"{\\n  \\\"cluster_number\\\": 3,\\n  \\\"warehouse_id\\\": 97\\n}\",\"{\\n  \\\"cluster_number\\\": 3,\\n  \\\"warehouse_id\\\": 97\\n}\",\"{\\n  \\\"cluster_number\\\": 3,\\n  \\\"warehouse_id\\\": 97\\n}\",\"{\\n  \\\"cluster_number\\\": 3,\\n  \\\"warehouse_id\\\": 97\\n}\",\"{\\n  \\\"cluster_number\\\": 3,\\n  \\\"warehouse_id\\\": 97\\n}\",\"{\\n  \\\"cluster_number\\\": 3,\\n  \\\"warehouse_id\\\": 97\\n}\",\"{\\n  \\\"cluster_number\\\": 3,\\n  \\\"warehouse_id\\\": 97\\n}\",\"{\\n  \\\"cluster_number\\\": 4,\\n  \\\"warehouse_id\\\": 97\\n}\",\"{\\n  \\\"cluster_number\\\": 5,\\n  \\\"warehouse_id\\\": 97\\n}\",\"{\\n  \\\"cluster_number\\\": 6,\\n  \\\"warehouse_id\\\": 97\\n}\",\"{\\n  \\\"cluster_number\\\": 7,\\n  \\\"warehouse_id\\\": 97\\n}\",\"{\\n  \\\"cluster_number\\\": 8,\\n  \\\"warehouse_id\\\": 97\\n}\"],\"yaxis\":\"y\",\"type\":\"bar\"}],                        {\"template\":{\"data\":{\"histogram2dcontour\":[{\"type\":\"histogram2dcontour\",\"colorbar\":{\"outlinewidth\":0,\"ticks\":\"\"},\"colorscale\":[[0.0,\"#0d0887\"],[0.1111111111111111,\"#46039f\"],[0.2222222222222222,\"#7201a8\"],[0.3333333333333333,\"#9c179e\"],[0.4444444444444444,\"#bd3786\"],[0.5555555555555556,\"#d8576b\"],[0.6666666666666666,\"#ed7953\"],[0.7777777777777778,\"#fb9f3a\"],[0.8888888888888888,\"#fdca26\"],[1.0,\"#f0f921\"]]}],\"choropleth\":[{\"type\":\"choropleth\",\"colorbar\":{\"outlinewidth\":0,\"ticks\":\"\"}}],\"histogram2d\":[{\"type\":\"histogram2d\",\"colorbar\":{\"outlinewidth\":0,\"ticks\":\"\"},\"colorscale\":[[0.0,\"#0d0887\"],[0.1111111111111111,\"#46039f\"],[0.2222222222222222,\"#7201a8\"],[0.3333333333333333,\"#9c179e\"],[0.4444444444444444,\"#bd3786\"],[0.5555555555555556,\"#d8576b\"],[0.6666666666666666,\"#ed7953\"],[0.7777777777777778,\"#fb9f3a\"],[0.8888888888888888,\"#fdca26\"],[1.0,\"#f0f921\"]]}],\"heatmap\":[{\"type\":\"heatmap\",\"colorbar\":{\"outlinewidth\":0,\"ticks\":\"\"},\"colorscale\":[[0.0,\"#0d0887\"],[0.1111111111111111,\"#46039f\"],[0.2222222222222222,\"#7201a8\"],[0.3333333333333333,\"#9c179e\"],[0.4444444444444444,\"#bd3786\"],[0.5555555555555556,\"#d8576b\"],[0.6666666666666666,\"#ed7953\"],[0.7777777777777778,\"#fb9f3a\"],[0.8888888888888888,\"#fdca26\"],[1.0,\"#f0f921\"]]}],\"heatmapgl\":[{\"type\":\"heatmapgl\",\"colorbar\":{\"outlinewidth\":0,\"ticks\":\"\"},\"colorscale\":[[0.0,\"#0d0887\"],[0.1111111111111111,\"#46039f\"],[0.2222222222222222,\"#7201a8\"],[0.3333333333333333,\"#9c179e\"],[0.4444444444444444,\"#bd3786\"],[0.5555555555555556,\"#d8576b\"],[0.6666666666666666,\"#ed7953\"],[0.7777777777777778,\"#fb9f3a\"],[0.8888888888888888,\"#fdca26\"],[1.0,\"#f0f921\"]]}],\"contourcarpet\":[{\"type\":\"contourcarpet\",\"colorbar\":{\"outlinewidth\":0,\"ticks\":\"\"}}],\"contour\":[{\"type\":\"contour\",\"colorbar\":{\"outlinewidth\":0,\"ticks\":\"\"},\"colorscale\":[[0.0,\"#0d0887\"],[0.1111111111111111,\"#46039f\"],[0.2222222222222222,\"#7201a8\"],[0.3333333333333333,\"#9c179e\"],[0.4444444444444444,\"#bd3786\"],[0.5555555555555556,\"#d8576b\"],[0.6666666666666666,\"#ed7953\"],[0.7777777777777778,\"#fb9f3a\"],[0.8888888888888888,\"#fdca26\"],[1.0,\"#f0f921\"]]}],\"surface\":[{\"type\":\"surface\",\"colorbar\":{\"outlinewidth\":0,\"ticks\":\"\"},\"colorscale\":[[0.0,\"#0d0887\"],[0.1111111111111111,\"#46039f\"],[0.2222222222222222,\"#7201a8\"],[0.3333333333333333,\"#9c179e\"],[0.4444444444444444,\"#bd3786\"],[0.5555555555555556,\"#d8576b\"],[0.6666666666666666,\"#ed7953\"],[0.7777777777777778,\"#fb9f3a\"],[0.8888888888888888,\"#fdca26\"],[1.0,\"#f0f921\"]]}],\"mesh3d\":[{\"type\":\"mesh3d\",\"colorbar\":{\"outlinewidth\":0,\"ticks\":\"\"}}],\"scatter\":[{\"fillpattern\":{\"fillmode\":\"overlay\",\"size\":10,\"solidity\":0.2},\"type\":\"scatter\"}],\"parcoords\":[{\"type\":\"parcoords\",\"line\":{\"colorbar\":{\"outlinewidth\":0,\"ticks\":\"\"}}}],\"scatterpolargl\":[{\"type\":\"scatterpolargl\",\"marker\":{\"colorbar\":{\"outlinewidth\":0,\"ticks\":\"\"}}}],\"bar\":[{\"error_x\":{\"color\":\"#2a3f5f\"},\"error_y\":{\"color\":\"#2a3f5f\"},\"marker\":{\"line\":{\"color\":\"#E5ECF6\",\"width\":0.5},\"pattern\":{\"fillmode\":\"overlay\",\"size\":10,\"solidity\":0.2}},\"type\":\"bar\"}],\"scattergeo\":[{\"type\":\"scattergeo\",\"marker\":{\"colorbar\":{\"outlinewidth\":0,\"ticks\":\"\"}}}],\"scatterpolar\":[{\"type\":\"scatterpolar\",\"marker\":{\"colorbar\":{\"outlinewidth\":0,\"ticks\":\"\"}}}],\"histogram\":[{\"marker\":{\"pattern\":{\"fillmode\":\"overlay\",\"size\":10,\"solidity\":0.2}},\"type\":\"histogram\"}],\"scattergl\":[{\"type\":\"scattergl\",\"marker\":{\"colorbar\":{\"outlinewidth\":0,\"ticks\":\"\"}}}],\"scatter3d\":[{\"type\":\"scatter3d\",\"line\":{\"colorbar\":{\"outlinewidth\":0,\"ticks\":\"\"}},\"marker\":{\"colorbar\":{\"outlinewidth\":0,\"ticks\":\"\"}}}],\"scattermapbox\":[{\"type\":\"scattermapbox\",\"marker\":{\"colorbar\":{\"outlinewidth\":0,\"ticks\":\"\"}}}],\"scatterternary\":[{\"type\":\"scatterternary\",\"marker\":{\"colorbar\":{\"outlinewidth\":0,\"ticks\":\"\"}}}],\"scattercarpet\":[{\"type\":\"scattercarpet\",\"marker\":{\"colorbar\":{\"outlinewidth\":0,\"ticks\":\"\"}}}],\"carpet\":[{\"aaxis\":{\"endlinecolor\":\"#2a3f5f\",\"gridcolor\":\"white\",\"linecolor\":\"white\",\"minorgridcolor\":\"white\",\"startlinecolor\":\"#2a3f5f\"},\"baxis\":{\"endlinecolor\":\"#2a3f5f\",\"gridcolor\":\"white\",\"linecolor\":\"white\",\"minorgridcolor\":\"white\",\"startlinecolor\":\"#2a3f5f\"},\"type\":\"carpet\"}],\"table\":[{\"cells\":{\"fill\":{\"color\":\"#EBF0F8\"},\"line\":{\"color\":\"white\"}},\"header\":{\"fill\":{\"color\":\"#C8D4E3\"},\"line\":{\"color\":\"white\"}},\"type\":\"table\"}],\"barpolar\":[{\"marker\":{\"line\":{\"color\":\"#E5ECF6\",\"width\":0.5},\"pattern\":{\"fillmode\":\"overlay\",\"size\":10,\"solidity\":0.2}},\"type\":\"barpolar\"}],\"pie\":[{\"automargin\":true,\"type\":\"pie\"}]},\"layout\":{\"autotypenumbers\":\"strict\",\"colorway\":[\"#636efa\",\"#EF553B\",\"#00cc96\",\"#ab63fa\",\"#FFA15A\",\"#19d3f3\",\"#FF6692\",\"#B6E880\",\"#FF97FF\",\"#FECB52\"],\"font\":{\"color\":\"#2a3f5f\"},\"hovermode\":\"closest\",\"hoverlabel\":{\"align\":\"left\"},\"paper_bgcolor\":\"white\",\"plot_bgcolor\":\"#E5ECF6\",\"polar\":{\"bgcolor\":\"#E5ECF6\",\"angularaxis\":{\"gridcolor\":\"white\",\"linecolor\":\"white\",\"ticks\":\"\"},\"radialaxis\":{\"gridcolor\":\"white\",\"linecolor\":\"white\",\"ticks\":\"\"}},\"ternary\":{\"bgcolor\":\"#E5ECF6\",\"aaxis\":{\"gridcolor\":\"white\",\"linecolor\":\"white\",\"ticks\":\"\"},\"baxis\":{\"gridcolor\":\"white\",\"linecolor\":\"white\",\"ticks\":\"\"},\"caxis\":{\"gridcolor\":\"white\",\"linecolor\":\"white\",\"ticks\":\"\"}},\"coloraxis\":{\"colorbar\":{\"outlinewidth\":0,\"ticks\":\"\"}},\"colorscale\":{\"sequential\":[[0.0,\"#0d0887\"],[0.1111111111111111,\"#46039f\"],[0.2222222222222222,\"#7201a8\"],[0.3333333333333333,\"#9c179e\"],[0.4444444444444444,\"#bd3786\"],[0.5555555555555556,\"#d8576b\"],[0.6666666666666666,\"#ed7953\"],[0.7777777777777778,\"#fb9f3a\"],[0.8888888888888888,\"#fdca26\"],[1.0,\"#f0f921\"]],\"sequentialminus\":[[0.0,\"#0d0887\"],[0.1111111111111111,\"#46039f\"],[0.2222222222222222,\"#7201a8\"],[0.3333333333333333,\"#9c179e\"],[0.4444444444444444,\"#bd3786\"],[0.5555555555555556,\"#d8576b\"],[0.6666666666666666,\"#ed7953\"],[0.7777777777777778,\"#fb9f3a\"],[0.8888888888888888,\"#fdca26\"],[1.0,\"#f0f921\"]],\"diverging\":[[0,\"#8e0152\"],[0.1,\"#c51b7d\"],[0.2,\"#de77ae\"],[0.3,\"#f1b6da\"],[0.4,\"#fde0ef\"],[0.5,\"#f7f7f7\"],[0.6,\"#e6f5d0\"],[0.7,\"#b8e186\"],[0.8,\"#7fbc41\"],[0.9,\"#4d9221\"],[1,\"#276419\"]]},\"xaxis\":{\"gridcolor\":\"white\",\"linecolor\":\"white\",\"ticks\":\"\",\"title\":{\"standoff\":15},\"zerolinecolor\":\"white\",\"automargin\":true,\"zerolinewidth\":2},\"yaxis\":{\"gridcolor\":\"white\",\"linecolor\":\"white\",\"ticks\":\"\",\"title\":{\"standoff\":15},\"zerolinecolor\":\"white\",\"automargin\":true,\"zerolinewidth\":2},\"scene\":{\"xaxis\":{\"backgroundcolor\":\"#E5ECF6\",\"gridcolor\":\"white\",\"linecolor\":\"white\",\"showbackground\":true,\"ticks\":\"\",\"zerolinecolor\":\"white\",\"gridwidth\":2},\"yaxis\":{\"backgroundcolor\":\"#E5ECF6\",\"gridcolor\":\"white\",\"linecolor\":\"white\",\"showbackground\":true,\"ticks\":\"\",\"zerolinecolor\":\"white\",\"gridwidth\":2},\"zaxis\":{\"backgroundcolor\":\"#E5ECF6\",\"gridcolor\":\"white\",\"linecolor\":\"white\",\"showbackground\":true,\"ticks\":\"\",\"zerolinecolor\":\"white\",\"gridwidth\":2}},\"shapedefaults\":{\"line\":{\"color\":\"#2a3f5f\"}},\"annotationdefaults\":{\"arrowcolor\":\"#2a3f5f\",\"arrowhead\":0,\"arrowwidth\":1},\"geo\":{\"bgcolor\":\"white\",\"landcolor\":\"#E5ECF6\",\"subunitcolor\":\"white\",\"showland\":true,\"showlakes\":true,\"lakecolor\":\"white\"},\"title\":{\"x\":0.05},\"mapbox\":{\"style\":\"light\"}}},\"xaxis\":{\"anchor\":\"y\",\"domain\":[0.0,1.0],\"type\":\"date\"},\"yaxis\":{\"anchor\":\"x\",\"domain\":[0.0,1.0],\"title\":{\"text\":\"warehouse_id\"}},\"legend\":{\"tracegroupgap\":0},\"margin\":{\"t\":60},\"barmode\":\"overlay\"},                        {\"responsive\": true}                    ).then(function(){\n",
       "                            \n",
       "var gd = document.getElementById('43c6d3a7-344f-4762-9a5e-0e3f0306995c');\n",
       "var x = new MutationObserver(function (mutations, observer) {{\n",
       "        var display = window.getComputedStyle(gd).display;\n",
       "        if (!display || display === 'none') {{\n",
       "            console.log([gd, 'removed!']);\n",
       "            Plotly.purge(gd);\n",
       "            observer.disconnect();\n",
       "        }}\n",
       "}});\n",
       "\n",
       "// Listen for the removal of the full notebook cells\n",
       "var notebookContainer = gd.closest('#notebook-container');\n",
       "if (notebookContainer) {{\n",
       "    x.observe(notebookContainer, {childList: true});\n",
       "}}\n",
       "\n",
       "// Listen for the clearing of the current output cell\n",
       "var outputEl = gd.closest('.output');\n",
       "if (outputEl) {{\n",
       "    x.observe(outputEl, {childList: true});\n",
       "}}\n",
       "\n",
       "                        })                };                });            </script>        </div>"
      ]
     },
     "metadata": {},
     "output_type": "display_data"
    },
    {
     "name": "stdout",
     "output_type": "stream",
     "text": [
      "time: 80.1 ms (started: 2023-05-23 20:56:56 -04:00)\n"
     ]
    }
   ],
   "source": [
    "import plotly.express as px\n",
    "fig = px.timeline(cqe.sort_values('warehouse_id'), y='warehouse_id', x_start=\"era_start\", x_end=\"era_end\")\n",
    "# fig.update_layout(\n",
    "#     xaxis_range=[cqe.era_start.min(), cqe.era_end.max()]  # Specify your desired minimum and maximum range\n",
    "# )\n",
    "fig.show()"
   ]
  },
  {
   "cell_type": "code",
   "execution_count": 25,
   "id": "bc2ae57b-b588-4263-8e61-349af6e00d3c",
   "metadata": {},
   "outputs": [
    {
     "data": {
      "application/vnd.plotly.v1+json": {
       "config": {
        "plotlyServerURL": "https://plot.ly"
       },
       "data": [
        {
         "hovertemplate": "start_time=%{x}<br>dollars_used_compute=%{y}<extra></extra>",
         "legendgroup": "",
         "line": {
          "color": "#636efa",
          "dash": "solid",
          "shape": "hv"
         },
         "marker": {
          "symbol": "circle"
         },
         "mode": "lines",
         "name": "",
         "orientation": "v",
         "showlegend": false,
         "type": "scatter",
         "x": [
          "2023-01-09T10:00:00-08:00",
          "2023-01-09T11:00:00-08:00",
          "2023-01-09T12:00:00-08:00",
          "2023-01-09T13:00:00-08:00"
         ],
         "xaxis": "x",
         "y": [
          3.8896666662,
          2.7545000007,
          3.5723333331,
          0
         ],
         "yaxis": "y"
        }
       ],
       "layout": {
        "autosize": true,
        "legend": {
         "tracegroupgap": 0
        },
        "margin": {
         "t": 60
        },
        "template": {
         "data": {
          "bar": [
           {
            "error_x": {
             "color": "#2a3f5f"
            },
            "error_y": {
             "color": "#2a3f5f"
            },
            "marker": {
             "line": {
              "color": "#E5ECF6",
              "width": 0.5
             },
             "pattern": {
              "fillmode": "overlay",
              "size": 10,
              "solidity": 0.2
             }
            },
            "type": "bar"
           }
          ],
          "barpolar": [
           {
            "marker": {
             "line": {
              "color": "#E5ECF6",
              "width": 0.5
             },
             "pattern": {
              "fillmode": "overlay",
              "size": 10,
              "solidity": 0.2
             }
            },
            "type": "barpolar"
           }
          ],
          "carpet": [
           {
            "aaxis": {
             "endlinecolor": "#2a3f5f",
             "gridcolor": "white",
             "linecolor": "white",
             "minorgridcolor": "white",
             "startlinecolor": "#2a3f5f"
            },
            "baxis": {
             "endlinecolor": "#2a3f5f",
             "gridcolor": "white",
             "linecolor": "white",
             "minorgridcolor": "white",
             "startlinecolor": "#2a3f5f"
            },
            "type": "carpet"
           }
          ],
          "choropleth": [
           {
            "colorbar": {
             "outlinewidth": 0,
             "ticks": ""
            },
            "type": "choropleth"
           }
          ],
          "contour": [
           {
            "colorbar": {
             "outlinewidth": 0,
             "ticks": ""
            },
            "colorscale": [
             [
              0,
              "#0d0887"
             ],
             [
              0.1111111111111111,
              "#46039f"
             ],
             [
              0.2222222222222222,
              "#7201a8"
             ],
             [
              0.3333333333333333,
              "#9c179e"
             ],
             [
              0.4444444444444444,
              "#bd3786"
             ],
             [
              0.5555555555555556,
              "#d8576b"
             ],
             [
              0.6666666666666666,
              "#ed7953"
             ],
             [
              0.7777777777777778,
              "#fb9f3a"
             ],
             [
              0.8888888888888888,
              "#fdca26"
             ],
             [
              1,
              "#f0f921"
             ]
            ],
            "type": "contour"
           }
          ],
          "contourcarpet": [
           {
            "colorbar": {
             "outlinewidth": 0,
             "ticks": ""
            },
            "type": "contourcarpet"
           }
          ],
          "heatmap": [
           {
            "colorbar": {
             "outlinewidth": 0,
             "ticks": ""
            },
            "colorscale": [
             [
              0,
              "#0d0887"
             ],
             [
              0.1111111111111111,
              "#46039f"
             ],
             [
              0.2222222222222222,
              "#7201a8"
             ],
             [
              0.3333333333333333,
              "#9c179e"
             ],
             [
              0.4444444444444444,
              "#bd3786"
             ],
             [
              0.5555555555555556,
              "#d8576b"
             ],
             [
              0.6666666666666666,
              "#ed7953"
             ],
             [
              0.7777777777777778,
              "#fb9f3a"
             ],
             [
              0.8888888888888888,
              "#fdca26"
             ],
             [
              1,
              "#f0f921"
             ]
            ],
            "type": "heatmap"
           }
          ],
          "heatmapgl": [
           {
            "colorbar": {
             "outlinewidth": 0,
             "ticks": ""
            },
            "colorscale": [
             [
              0,
              "#0d0887"
             ],
             [
              0.1111111111111111,
              "#46039f"
             ],
             [
              0.2222222222222222,
              "#7201a8"
             ],
             [
              0.3333333333333333,
              "#9c179e"
             ],
             [
              0.4444444444444444,
              "#bd3786"
             ],
             [
              0.5555555555555556,
              "#d8576b"
             ],
             [
              0.6666666666666666,
              "#ed7953"
             ],
             [
              0.7777777777777778,
              "#fb9f3a"
             ],
             [
              0.8888888888888888,
              "#fdca26"
             ],
             [
              1,
              "#f0f921"
             ]
            ],
            "type": "heatmapgl"
           }
          ],
          "histogram": [
           {
            "marker": {
             "pattern": {
              "fillmode": "overlay",
              "size": 10,
              "solidity": 0.2
             }
            },
            "type": "histogram"
           }
          ],
          "histogram2d": [
           {
            "colorbar": {
             "outlinewidth": 0,
             "ticks": ""
            },
            "colorscale": [
             [
              0,
              "#0d0887"
             ],
             [
              0.1111111111111111,
              "#46039f"
             ],
             [
              0.2222222222222222,
              "#7201a8"
             ],
             [
              0.3333333333333333,
              "#9c179e"
             ],
             [
              0.4444444444444444,
              "#bd3786"
             ],
             [
              0.5555555555555556,
              "#d8576b"
             ],
             [
              0.6666666666666666,
              "#ed7953"
             ],
             [
              0.7777777777777778,
              "#fb9f3a"
             ],
             [
              0.8888888888888888,
              "#fdca26"
             ],
             [
              1,
              "#f0f921"
             ]
            ],
            "type": "histogram2d"
           }
          ],
          "histogram2dcontour": [
           {
            "colorbar": {
             "outlinewidth": 0,
             "ticks": ""
            },
            "colorscale": [
             [
              0,
              "#0d0887"
             ],
             [
              0.1111111111111111,
              "#46039f"
             ],
             [
              0.2222222222222222,
              "#7201a8"
             ],
             [
              0.3333333333333333,
              "#9c179e"
             ],
             [
              0.4444444444444444,
              "#bd3786"
             ],
             [
              0.5555555555555556,
              "#d8576b"
             ],
             [
              0.6666666666666666,
              "#ed7953"
             ],
             [
              0.7777777777777778,
              "#fb9f3a"
             ],
             [
              0.8888888888888888,
              "#fdca26"
             ],
             [
              1,
              "#f0f921"
             ]
            ],
            "type": "histogram2dcontour"
           }
          ],
          "mesh3d": [
           {
            "colorbar": {
             "outlinewidth": 0,
             "ticks": ""
            },
            "type": "mesh3d"
           }
          ],
          "parcoords": [
           {
            "line": {
             "colorbar": {
              "outlinewidth": 0,
              "ticks": ""
             }
            },
            "type": "parcoords"
           }
          ],
          "pie": [
           {
            "automargin": true,
            "type": "pie"
           }
          ],
          "scatter": [
           {
            "fillpattern": {
             "fillmode": "overlay",
             "size": 10,
             "solidity": 0.2
            },
            "type": "scatter"
           }
          ],
          "scatter3d": [
           {
            "line": {
             "colorbar": {
              "outlinewidth": 0,
              "ticks": ""
             }
            },
            "marker": {
             "colorbar": {
              "outlinewidth": 0,
              "ticks": ""
             }
            },
            "type": "scatter3d"
           }
          ],
          "scattercarpet": [
           {
            "marker": {
             "colorbar": {
              "outlinewidth": 0,
              "ticks": ""
             }
            },
            "type": "scattercarpet"
           }
          ],
          "scattergeo": [
           {
            "marker": {
             "colorbar": {
              "outlinewidth": 0,
              "ticks": ""
             }
            },
            "type": "scattergeo"
           }
          ],
          "scattergl": [
           {
            "marker": {
             "colorbar": {
              "outlinewidth": 0,
              "ticks": ""
             }
            },
            "type": "scattergl"
           }
          ],
          "scattermapbox": [
           {
            "marker": {
             "colorbar": {
              "outlinewidth": 0,
              "ticks": ""
             }
            },
            "type": "scattermapbox"
           }
          ],
          "scatterpolar": [
           {
            "marker": {
             "colorbar": {
              "outlinewidth": 0,
              "ticks": ""
             }
            },
            "type": "scatterpolar"
           }
          ],
          "scatterpolargl": [
           {
            "marker": {
             "colorbar": {
              "outlinewidth": 0,
              "ticks": ""
             }
            },
            "type": "scatterpolargl"
           }
          ],
          "scatterternary": [
           {
            "marker": {
             "colorbar": {
              "outlinewidth": 0,
              "ticks": ""
             }
            },
            "type": "scatterternary"
           }
          ],
          "surface": [
           {
            "colorbar": {
             "outlinewidth": 0,
             "ticks": ""
            },
            "colorscale": [
             [
              0,
              "#0d0887"
             ],
             [
              0.1111111111111111,
              "#46039f"
             ],
             [
              0.2222222222222222,
              "#7201a8"
             ],
             [
              0.3333333333333333,
              "#9c179e"
             ],
             [
              0.4444444444444444,
              "#bd3786"
             ],
             [
              0.5555555555555556,
              "#d8576b"
             ],
             [
              0.6666666666666666,
              "#ed7953"
             ],
             [
              0.7777777777777778,
              "#fb9f3a"
             ],
             [
              0.8888888888888888,
              "#fdca26"
             ],
             [
              1,
              "#f0f921"
             ]
            ],
            "type": "surface"
           }
          ],
          "table": [
           {
            "cells": {
             "fill": {
              "color": "#EBF0F8"
             },
             "line": {
              "color": "white"
             }
            },
            "header": {
             "fill": {
              "color": "#C8D4E3"
             },
             "line": {
              "color": "white"
             }
            },
            "type": "table"
           }
          ]
         },
         "layout": {
          "annotationdefaults": {
           "arrowcolor": "#2a3f5f",
           "arrowhead": 0,
           "arrowwidth": 1
          },
          "autotypenumbers": "strict",
          "coloraxis": {
           "colorbar": {
            "outlinewidth": 0,
            "ticks": ""
           }
          },
          "colorscale": {
           "diverging": [
            [
             0,
             "#8e0152"
            ],
            [
             0.1,
             "#c51b7d"
            ],
            [
             0.2,
             "#de77ae"
            ],
            [
             0.3,
             "#f1b6da"
            ],
            [
             0.4,
             "#fde0ef"
            ],
            [
             0.5,
             "#f7f7f7"
            ],
            [
             0.6,
             "#e6f5d0"
            ],
            [
             0.7,
             "#b8e186"
            ],
            [
             0.8,
             "#7fbc41"
            ],
            [
             0.9,
             "#4d9221"
            ],
            [
             1,
             "#276419"
            ]
           ],
           "sequential": [
            [
             0,
             "#0d0887"
            ],
            [
             0.1111111111111111,
             "#46039f"
            ],
            [
             0.2222222222222222,
             "#7201a8"
            ],
            [
             0.3333333333333333,
             "#9c179e"
            ],
            [
             0.4444444444444444,
             "#bd3786"
            ],
            [
             0.5555555555555556,
             "#d8576b"
            ],
            [
             0.6666666666666666,
             "#ed7953"
            ],
            [
             0.7777777777777778,
             "#fb9f3a"
            ],
            [
             0.8888888888888888,
             "#fdca26"
            ],
            [
             1,
             "#f0f921"
            ]
           ],
           "sequentialminus": [
            [
             0,
             "#0d0887"
            ],
            [
             0.1111111111111111,
             "#46039f"
            ],
            [
             0.2222222222222222,
             "#7201a8"
            ],
            [
             0.3333333333333333,
             "#9c179e"
            ],
            [
             0.4444444444444444,
             "#bd3786"
            ],
            [
             0.5555555555555556,
             "#d8576b"
            ],
            [
             0.6666666666666666,
             "#ed7953"
            ],
            [
             0.7777777777777778,
             "#fb9f3a"
            ],
            [
             0.8888888888888888,
             "#fdca26"
            ],
            [
             1,
             "#f0f921"
            ]
           ]
          },
          "colorway": [
           "#636efa",
           "#EF553B",
           "#00cc96",
           "#ab63fa",
           "#FFA15A",
           "#19d3f3",
           "#FF6692",
           "#B6E880",
           "#FF97FF",
           "#FECB52"
          ],
          "font": {
           "color": "#2a3f5f"
          },
          "geo": {
           "bgcolor": "white",
           "lakecolor": "white",
           "landcolor": "#E5ECF6",
           "showlakes": true,
           "showland": true,
           "subunitcolor": "white"
          },
          "hoverlabel": {
           "align": "left"
          },
          "hovermode": "closest",
          "mapbox": {
           "style": "light"
          },
          "paper_bgcolor": "white",
          "plot_bgcolor": "#E5ECF6",
          "polar": {
           "angularaxis": {
            "gridcolor": "white",
            "linecolor": "white",
            "ticks": ""
           },
           "bgcolor": "#E5ECF6",
           "radialaxis": {
            "gridcolor": "white",
            "linecolor": "white",
            "ticks": ""
           }
          },
          "scene": {
           "xaxis": {
            "backgroundcolor": "#E5ECF6",
            "gridcolor": "white",
            "gridwidth": 2,
            "linecolor": "white",
            "showbackground": true,
            "ticks": "",
            "zerolinecolor": "white"
           },
           "yaxis": {
            "backgroundcolor": "#E5ECF6",
            "gridcolor": "white",
            "gridwidth": 2,
            "linecolor": "white",
            "showbackground": true,
            "ticks": "",
            "zerolinecolor": "white"
           },
           "zaxis": {
            "backgroundcolor": "#E5ECF6",
            "gridcolor": "white",
            "gridwidth": 2,
            "linecolor": "white",
            "showbackground": true,
            "ticks": "",
            "zerolinecolor": "white"
           }
          },
          "shapedefaults": {
           "line": {
            "color": "#2a3f5f"
           }
          },
          "ternary": {
           "aaxis": {
            "gridcolor": "white",
            "linecolor": "white",
            "ticks": ""
           },
           "baxis": {
            "gridcolor": "white",
            "linecolor": "white",
            "ticks": ""
           },
           "bgcolor": "#E5ECF6",
           "caxis": {
            "gridcolor": "white",
            "linecolor": "white",
            "ticks": ""
           }
          },
          "title": {
           "x": 0.05
          },
          "xaxis": {
           "automargin": true,
           "gridcolor": "white",
           "linecolor": "white",
           "ticks": "",
           "title": {
            "standoff": 15
           },
           "zerolinecolor": "white",
           "zerolinewidth": 2
          },
          "yaxis": {
           "automargin": true,
           "gridcolor": "white",
           "linecolor": "white",
           "ticks": "",
           "title": {
            "standoff": 15
           },
           "zerolinecolor": "white",
           "zerolinewidth": 2
          }
         }
        },
        "xaxis": {
         "anchor": "y",
         "autorange": true,
         "domain": [
          0,
          1
         ],
         "range": [
          "2023-01-09 10:00",
          "2023-01-09 13:00"
         ],
         "title": {
          "text": "start_time"
         },
         "type": "date"
        },
        "yaxis": {
         "anchor": "x",
         "autorange": true,
         "domain": [
          0,
          1
         ],
         "range": [
          -0.21609259256666666,
          4.105759258766667
         ],
         "title": {
          "text": "dollars_used_compute"
         },
         "type": "linear"
        }
       }
      },
      "image/png": "[encoded data removed]",
      "text/html": [
       "<div>                            <div id=\"aca0047a-4a82-49d4-b006-e0cdf6057589\" class=\"plotly-graph-div\" style=\"height:525px; width:100%;\"></div>            <script type=\"text/javascript\">                require([\"plotly\"], function(Plotly) {                    window.PLOTLYENV=window.PLOTLYENV || {};                                    if (document.getElementById(\"aca0047a-4a82-49d4-b006-e0cdf6057589\")) {                    Plotly.newPlot(                        \"aca0047a-4a82-49d4-b006-e0cdf6057589\",                        [{\"hovertemplate\":\"start_time=%{x}<br>dollars_used_compute=%{y}<extra></extra>\",\"legendgroup\":\"\",\"line\":{\"color\":\"#636efa\",\"dash\":\"solid\",\"shape\":\"hv\"},\"marker\":{\"symbol\":\"circle\"},\"mode\":\"lines\",\"name\":\"\",\"orientation\":\"v\",\"showlegend\":false,\"x\":[\"2023-01-09T10:00:00-08:00\",\"2023-01-09T11:00:00-08:00\",\"2023-01-09T12:00:00-08:00\",\"2023-01-09T13:00:00-08:00\"],\"xaxis\":\"x\",\"y\":[3.8896666662,2.7545000007,3.5723333331,0.0],\"yaxis\":\"y\",\"type\":\"scatter\"}],                        {\"template\":{\"data\":{\"histogram2dcontour\":[{\"type\":\"histogram2dcontour\",\"colorbar\":{\"outlinewidth\":0,\"ticks\":\"\"},\"colorscale\":[[0.0,\"#0d0887\"],[0.1111111111111111,\"#46039f\"],[0.2222222222222222,\"#7201a8\"],[0.3333333333333333,\"#9c179e\"],[0.4444444444444444,\"#bd3786\"],[0.5555555555555556,\"#d8576b\"],[0.6666666666666666,\"#ed7953\"],[0.7777777777777778,\"#fb9f3a\"],[0.8888888888888888,\"#fdca26\"],[1.0,\"#f0f921\"]]}],\"choropleth\":[{\"type\":\"choropleth\",\"colorbar\":{\"outlinewidth\":0,\"ticks\":\"\"}}],\"histogram2d\":[{\"type\":\"histogram2d\",\"colorbar\":{\"outlinewidth\":0,\"ticks\":\"\"},\"colorscale\":[[0.0,\"#0d0887\"],[0.1111111111111111,\"#46039f\"],[0.2222222222222222,\"#7201a8\"],[0.3333333333333333,\"#9c179e\"],[0.4444444444444444,\"#bd3786\"],[0.5555555555555556,\"#d8576b\"],[0.6666666666666666,\"#ed7953\"],[0.7777777777777778,\"#fb9f3a\"],[0.8888888888888888,\"#fdca26\"],[1.0,\"#f0f921\"]]}],\"heatmap\":[{\"type\":\"heatmap\",\"colorbar\":{\"outlinewidth\":0,\"ticks\":\"\"},\"colorscale\":[[0.0,\"#0d0887\"],[0.1111111111111111,\"#46039f\"],[0.2222222222222222,\"#7201a8\"],[0.3333333333333333,\"#9c179e\"],[0.4444444444444444,\"#bd3786\"],[0.5555555555555556,\"#d8576b\"],[0.6666666666666666,\"#ed7953\"],[0.7777777777777778,\"#fb9f3a\"],[0.8888888888888888,\"#fdca26\"],[1.0,\"#f0f921\"]]}],\"heatmapgl\":[{\"type\":\"heatmapgl\",\"colorbar\":{\"outlinewidth\":0,\"ticks\":\"\"},\"colorscale\":[[0.0,\"#0d0887\"],[0.1111111111111111,\"#46039f\"],[0.2222222222222222,\"#7201a8\"],[0.3333333333333333,\"#9c179e\"],[0.4444444444444444,\"#bd3786\"],[0.5555555555555556,\"#d8576b\"],[0.6666666666666666,\"#ed7953\"],[0.7777777777777778,\"#fb9f3a\"],[0.8888888888888888,\"#fdca26\"],[1.0,\"#f0f921\"]]}],\"contourcarpet\":[{\"type\":\"contourcarpet\",\"colorbar\":{\"outlinewidth\":0,\"ticks\":\"\"}}],\"contour\":[{\"type\":\"contour\",\"colorbar\":{\"outlinewidth\":0,\"ticks\":\"\"},\"colorscale\":[[0.0,\"#0d0887\"],[0.1111111111111111,\"#46039f\"],[0.2222222222222222,\"#7201a8\"],[0.3333333333333333,\"#9c179e\"],[0.4444444444444444,\"#bd3786\"],[0.5555555555555556,\"#d8576b\"],[0.6666666666666666,\"#ed7953\"],[0.7777777777777778,\"#fb9f3a\"],[0.8888888888888888,\"#fdca26\"],[1.0,\"#f0f921\"]]}],\"surface\":[{\"type\":\"surface\",\"colorbar\":{\"outlinewidth\":0,\"ticks\":\"\"},\"colorscale\":[[0.0,\"#0d0887\"],[0.1111111111111111,\"#46039f\"],[0.2222222222222222,\"#7201a8\"],[0.3333333333333333,\"#9c179e\"],[0.4444444444444444,\"#bd3786\"],[0.5555555555555556,\"#d8576b\"],[0.6666666666666666,\"#ed7953\"],[0.7777777777777778,\"#fb9f3a\"],[0.8888888888888888,\"#fdca26\"],[1.0,\"#f0f921\"]]}],\"mesh3d\":[{\"type\":\"mesh3d\",\"colorbar\":{\"outlinewidth\":0,\"ticks\":\"\"}}],\"scatter\":[{\"fillpattern\":{\"fillmode\":\"overlay\",\"size\":10,\"solidity\":0.2},\"type\":\"scatter\"}],\"parcoords\":[{\"type\":\"parcoords\",\"line\":{\"colorbar\":{\"outlinewidth\":0,\"ticks\":\"\"}}}],\"scatterpolargl\":[{\"type\":\"scatterpolargl\",\"marker\":{\"colorbar\":{\"outlinewidth\":0,\"ticks\":\"\"}}}],\"bar\":[{\"error_x\":{\"color\":\"#2a3f5f\"},\"error_y\":{\"color\":\"#2a3f5f\"},\"marker\":{\"line\":{\"color\":\"#E5ECF6\",\"width\":0.5},\"pattern\":{\"fillmode\":\"overlay\",\"size\":10,\"solidity\":0.2}},\"type\":\"bar\"}],\"scattergeo\":[{\"type\":\"scattergeo\",\"marker\":{\"colorbar\":{\"outlinewidth\":0,\"ticks\":\"\"}}}],\"scatterpolar\":[{\"type\":\"scatterpolar\",\"marker\":{\"colorbar\":{\"outlinewidth\":0,\"ticks\":\"\"}}}],\"histogram\":[{\"marker\":{\"pattern\":{\"fillmode\":\"overlay\",\"size\":10,\"solidity\":0.2}},\"type\":\"histogram\"}],\"scattergl\":[{\"type\":\"scattergl\",\"marker\":{\"colorbar\":{\"outlinewidth\":0,\"ticks\":\"\"}}}],\"scatter3d\":[{\"type\":\"scatter3d\",\"line\":{\"colorbar\":{\"outlinewidth\":0,\"ticks\":\"\"}},\"marker\":{\"colorbar\":{\"outlinewidth\":0,\"ticks\":\"\"}}}],\"scattermapbox\":[{\"type\":\"scattermapbox\",\"marker\":{\"colorbar\":{\"outlinewidth\":0,\"ticks\":\"\"}}}],\"scatterternary\":[{\"type\":\"scatterternary\",\"marker\":{\"colorbar\":{\"outlinewidth\":0,\"ticks\":\"\"}}}],\"scattercarpet\":[{\"type\":\"scattercarpet\",\"marker\":{\"colorbar\":{\"outlinewidth\":0,\"ticks\":\"\"}}}],\"carpet\":[{\"aaxis\":{\"endlinecolor\":\"#2a3f5f\",\"gridcolor\":\"white\",\"linecolor\":\"white\",\"minorgridcolor\":\"white\",\"startlinecolor\":\"#2a3f5f\"},\"baxis\":{\"endlinecolor\":\"#2a3f5f\",\"gridcolor\":\"white\",\"linecolor\":\"white\",\"minorgridcolor\":\"white\",\"startlinecolor\":\"#2a3f5f\"},\"type\":\"carpet\"}],\"table\":[{\"cells\":{\"fill\":{\"color\":\"#EBF0F8\"},\"line\":{\"color\":\"white\"}},\"header\":{\"fill\":{\"color\":\"#C8D4E3\"},\"line\":{\"color\":\"white\"}},\"type\":\"table\"}],\"barpolar\":[{\"marker\":{\"line\":{\"color\":\"#E5ECF6\",\"width\":0.5},\"pattern\":{\"fillmode\":\"overlay\",\"size\":10,\"solidity\":0.2}},\"type\":\"barpolar\"}],\"pie\":[{\"automargin\":true,\"type\":\"pie\"}]},\"layout\":{\"autotypenumbers\":\"strict\",\"colorway\":[\"#636efa\",\"#EF553B\",\"#00cc96\",\"#ab63fa\",\"#FFA15A\",\"#19d3f3\",\"#FF6692\",\"#B6E880\",\"#FF97FF\",\"#FECB52\"],\"font\":{\"color\":\"#2a3f5f\"},\"hovermode\":\"closest\",\"hoverlabel\":{\"align\":\"left\"},\"paper_bgcolor\":\"white\",\"plot_bgcolor\":\"#E5ECF6\",\"polar\":{\"bgcolor\":\"#E5ECF6\",\"angularaxis\":{\"gridcolor\":\"white\",\"linecolor\":\"white\",\"ticks\":\"\"},\"radialaxis\":{\"gridcolor\":\"white\",\"linecolor\":\"white\",\"ticks\":\"\"}},\"ternary\":{\"bgcolor\":\"#E5ECF6\",\"aaxis\":{\"gridcolor\":\"white\",\"linecolor\":\"white\",\"ticks\":\"\"},\"baxis\":{\"gridcolor\":\"white\",\"linecolor\":\"white\",\"ticks\":\"\"},\"caxis\":{\"gridcolor\":\"white\",\"linecolor\":\"white\",\"ticks\":\"\"}},\"coloraxis\":{\"colorbar\":{\"outlinewidth\":0,\"ticks\":\"\"}},\"colorscale\":{\"sequential\":[[0.0,\"#0d0887\"],[0.1111111111111111,\"#46039f\"],[0.2222222222222222,\"#7201a8\"],[0.3333333333333333,\"#9c179e\"],[0.4444444444444444,\"#bd3786\"],[0.5555555555555556,\"#d8576b\"],[0.6666666666666666,\"#ed7953\"],[0.7777777777777778,\"#fb9f3a\"],[0.8888888888888888,\"#fdca26\"],[1.0,\"#f0f921\"]],\"sequentialminus\":[[0.0,\"#0d0887\"],[0.1111111111111111,\"#46039f\"],[0.2222222222222222,\"#7201a8\"],[0.3333333333333333,\"#9c179e\"],[0.4444444444444444,\"#bd3786\"],[0.5555555555555556,\"#d8576b\"],[0.6666666666666666,\"#ed7953\"],[0.7777777777777778,\"#fb9f3a\"],[0.8888888888888888,\"#fdca26\"],[1.0,\"#f0f921\"]],\"diverging\":[[0,\"#8e0152\"],[0.1,\"#c51b7d\"],[0.2,\"#de77ae\"],[0.3,\"#f1b6da\"],[0.4,\"#fde0ef\"],[0.5,\"#f7f7f7\"],[0.6,\"#e6f5d0\"],[0.7,\"#b8e186\"],[0.8,\"#7fbc41\"],[0.9,\"#4d9221\"],[1,\"#276419\"]]},\"xaxis\":{\"gridcolor\":\"white\",\"linecolor\":\"white\",\"ticks\":\"\",\"title\":{\"standoff\":15},\"zerolinecolor\":\"white\",\"automargin\":true,\"zerolinewidth\":2},\"yaxis\":{\"gridcolor\":\"white\",\"linecolor\":\"white\",\"ticks\":\"\",\"title\":{\"standoff\":15},\"zerolinecolor\":\"white\",\"automargin\":true,\"zerolinewidth\":2},\"scene\":{\"xaxis\":{\"backgroundcolor\":\"#E5ECF6\",\"gridcolor\":\"white\",\"linecolor\":\"white\",\"showbackground\":true,\"ticks\":\"\",\"zerolinecolor\":\"white\",\"gridwidth\":2},\"yaxis\":{\"backgroundcolor\":\"#E5ECF6\",\"gridcolor\":\"white\",\"linecolor\":\"white\",\"showbackground\":true,\"ticks\":\"\",\"zerolinecolor\":\"white\",\"gridwidth\":2},\"zaxis\":{\"backgroundcolor\":\"#E5ECF6\",\"gridcolor\":\"white\",\"linecolor\":\"white\",\"showbackground\":true,\"ticks\":\"\",\"zerolinecolor\":\"white\",\"gridwidth\":2}},\"shapedefaults\":{\"line\":{\"color\":\"#2a3f5f\"}},\"annotationdefaults\":{\"arrowcolor\":\"#2a3f5f\",\"arrowhead\":0,\"arrowwidth\":1},\"geo\":{\"bgcolor\":\"white\",\"landcolor\":\"#E5ECF6\",\"subunitcolor\":\"white\",\"showland\":true,\"showlakes\":true,\"lakecolor\":\"white\"},\"title\":{\"x\":0.05},\"mapbox\":{\"style\":\"light\"}}},\"xaxis\":{\"anchor\":\"y\",\"domain\":[0.0,1.0],\"title\":{\"text\":\"start_time\"}},\"yaxis\":{\"anchor\":\"x\",\"domain\":[0.0,1.0],\"title\":{\"text\":\"dollars_used_compute\"}},\"legend\":{\"tracegroupgap\":0},\"margin\":{\"t\":60}},                        {\"responsive\": true}                    ).then(function(){\n",
       "                            \n",
       "var gd = document.getElementById('aca0047a-4a82-49d4-b006-e0cdf6057589');\n",
       "var x = new MutationObserver(function (mutations, observer) {{\n",
       "        var display = window.getComputedStyle(gd).display;\n",
       "        if (!display || display === 'none') {{\n",
       "            console.log([gd, 'removed!']);\n",
       "            Plotly.purge(gd);\n",
       "            observer.disconnect();\n",
       "        }}\n",
       "}});\n",
       "\n",
       "// Listen for the removal of the full notebook cells\n",
       "var notebookContainer = gd.closest('#notebook-container');\n",
       "if (notebookContainer) {{\n",
       "    x.observe(notebookContainer, {childList: true});\n",
       "}}\n",
       "\n",
       "// Listen for the clearing of the current output cell\n",
       "var outputEl = gd.closest('.output');\n",
       "if (outputEl) {{\n",
       "    x.observe(outputEl, {childList: true});\n",
       "}}\n",
       "\n",
       "                        })                };                });            </script>        </div>"
      ]
     },
     "metadata": {},
     "output_type": "display_data"
    },
    {
     "name": "stdout",
     "output_type": "stream",
     "text": [
      "time: 37.5 ms (started: 2023-05-22 20:19:33 -04:00)\n"
     ]
    }
   ],
   "source": [
    "spend\n",
    "\n",
    "fig = px.line(spend, x = 'start_time', y='dollars_used_compute', line_shape='hv')\n",
    "fig.show()"
   ]
  },
  {
   "cell_type": "code",
   "execution_count": 8,
   "id": "b6a638a8-d857-4ab0-afb4-b32c98bbd4d6",
   "metadata": {},
   "outputs": [
    {
     "data": {
      "application/vnd.plotly.v1+json": {
       "config": {
        "plotlyServerURL": "https://plot.ly"
       },
       "data": [
        {
         "hovertemplate": "event_name=%{y}<br>timestamp=%{x}<extra></extra>",
         "legendgroup": "SUSPEND_WAREHOUSE",
         "marker": {
          "color": "#636efa",
          "symbol": "circle"
         },
         "mode": "markers",
         "name": "SUSPEND_WAREHOUSE",
         "orientation": "v",
         "showlegend": true,
         "type": "scatter",
         "x": [
          "2022-12-13T13:00:24.067000-08:00",
          "2022-12-13T14:29:32.310000-08:00",
          "2022-12-13T14:29:32.003000-08:00",
          "2022-12-13T14:16:56.127000-08:00",
          "2022-12-13T14:16:55.854000-08:00",
          "2022-12-13T14:11:04.069000-08:00",
          "2022-12-13T14:50:02.159000-08:00",
          "2022-12-13T14:50:01.743000-08:00",
          "2022-12-13T14:11:03.830000-08:00",
          "2022-12-13T13:39:29.276000-08:00",
          "2022-12-13T13:24:29.505000-08:00",
          "2022-12-13T13:24:29.149000-08:00",
          "2022-12-13T13:06:01.379000-08:00",
          "2022-12-13T13:39:29.450000-08:00",
          "2022-12-13T13:06:01.186000-08:00",
          "2022-12-13T13:04:22.661000-08:00",
          "2022-12-13T13:04:22.456000-08:00",
          "2022-12-13T13:02:25.606000-08:00",
          "2022-12-13T13:02:25.446000-08:00",
          "2022-12-13T13:58:54.883000-08:00",
          "2022-12-13T13:58:54.607000-08:00",
          "2022-12-13T13:53:03.318000-08:00",
          "2022-12-13T13:53:03.114000-08:00",
          "2022-12-13T13:49:44.890000-08:00",
          "2022-12-13T13:46:37.909000-08:00",
          "2022-12-13T13:46:37.705000-08:00",
          "2022-12-13T13:43:42.672000-08:00",
          "2022-12-13T13:43:42.481000-08:00",
          "2022-12-13T13:49:45.096000-08:00"
         ],
         "xaxis": "x",
         "y": [
          "SUSPEND_WAREHOUSE",
          "SUSPEND_WAREHOUSE",
          "SUSPEND_WAREHOUSE",
          "SUSPEND_WAREHOUSE",
          "SUSPEND_WAREHOUSE",
          "SUSPEND_WAREHOUSE",
          "SUSPEND_WAREHOUSE",
          "SUSPEND_WAREHOUSE",
          "SUSPEND_WAREHOUSE",
          "SUSPEND_WAREHOUSE",
          "SUSPEND_WAREHOUSE",
          "SUSPEND_WAREHOUSE",
          "SUSPEND_WAREHOUSE",
          "SUSPEND_WAREHOUSE",
          "SUSPEND_WAREHOUSE",
          "SUSPEND_WAREHOUSE",
          "SUSPEND_WAREHOUSE",
          "SUSPEND_WAREHOUSE",
          "SUSPEND_WAREHOUSE",
          "SUSPEND_WAREHOUSE",
          "SUSPEND_WAREHOUSE",
          "SUSPEND_WAREHOUSE",
          "SUSPEND_WAREHOUSE",
          "SUSPEND_WAREHOUSE",
          "SUSPEND_WAREHOUSE",
          "SUSPEND_WAREHOUSE",
          "SUSPEND_WAREHOUSE",
          "SUSPEND_WAREHOUSE",
          "SUSPEND_WAREHOUSE"
         ],
         "yaxis": "y"
        },
        {
         "hovertemplate": "event_name=%{y}<br>timestamp=%{x}<extra></extra>",
         "legendgroup": "RESUME_CLUSTER",
         "marker": {
          "color": "#EF553B",
          "symbol": "circle"
         },
         "mode": "markers",
         "name": "RESUME_CLUSTER",
         "orientation": "v",
         "showlegend": true,
         "type": "scatter",
         "x": [
          "2022-12-13T14:33:33.169000-08:00",
          "2022-12-13T14:30:34.004000-08:00",
          "2022-12-13T14:30:05.817000-08:00",
          "2022-12-13T14:29:59.842000-08:00",
          "2022-12-13T14:28:18.601000-08:00",
          "2022-12-13T14:15:27.104000-08:00",
          "2022-12-13T14:59:22.946000-08:00",
          "2022-12-13T14:59:03.044000-08:00",
          "2022-12-13T14:58:43.035000-08:00",
          "2022-12-13T14:58:23.043000-08:00",
          "2022-12-13T14:57:42.840000-08:00",
          "2022-12-13T14:54:50.849000-08:00",
          "2022-12-13T14:58:03.036000-08:00",
          "2022-12-13T14:09:58.744000-08:00",
          "2022-12-13T13:37:58.499000-08:00",
          "2022-12-13T13:23:14.662000-08:00",
          "2022-12-13T13:04:40.038000-08:00",
          "2022-12-13T13:03:12.871000-08:00",
          "2022-12-13T14:59:42.982000-08:00",
          "2022-12-13T13:57:48.246000-08:00",
          "2022-12-13T13:51:58.111000-08:00",
          "2022-12-13T13:41:45.045000-08:00",
          "2022-12-13T13:48:36.938000-08:00",
          "2022-12-13T13:45:03.619000-08:00"
         ],
         "xaxis": "x",
         "y": [
          "RESUME_CLUSTER",
          "RESUME_CLUSTER",
          "RESUME_CLUSTER",
          "RESUME_CLUSTER",
          "RESUME_CLUSTER",
          "RESUME_CLUSTER",
          "RESUME_CLUSTER",
          "RESUME_CLUSTER",
          "RESUME_CLUSTER",
          "RESUME_CLUSTER",
          "RESUME_CLUSTER",
          "RESUME_CLUSTER",
          "RESUME_CLUSTER",
          "RESUME_CLUSTER",
          "RESUME_CLUSTER",
          "RESUME_CLUSTER",
          "RESUME_CLUSTER",
          "RESUME_CLUSTER",
          "RESUME_CLUSTER",
          "RESUME_CLUSTER",
          "RESUME_CLUSTER",
          "RESUME_CLUSTER",
          "RESUME_CLUSTER",
          "RESUME_CLUSTER"
         ],
         "yaxis": "y"
        },
        {
         "hovertemplate": "event_name=%{y}<br>timestamp=%{x}<extra></extra>",
         "legendgroup": "SPINUP_CLUSTER",
         "marker": {
          "color": "#00cc96",
          "symbol": "circle"
         },
         "mode": "markers",
         "name": "SPINUP_CLUSTER",
         "orientation": "v",
         "showlegend": true,
         "type": "scatter",
         "x": [
          "2022-12-13T14:33:32.883000-08:00",
          "2022-12-13T14:30:34.005000-08:00",
          "2022-12-13T14:30:33.705000-08:00",
          "2022-12-13T14:30:05.819000-08:00",
          "2022-12-13T14:30:04.465000-08:00",
          "2022-12-13T14:33:33.170000-08:00",
          "2022-12-13T14:59:42.690000-08:00",
          "2022-12-13T14:59:22.947000-08:00",
          "2022-12-13T14:59:22.697000-08:00",
          "2022-12-13T14:59:03.045000-08:00",
          "2022-12-13T14:59:02.706000-08:00",
          "2022-12-13T14:58:43.036000-08:00",
          "2022-12-13T14:58:42.689000-08:00",
          "2022-12-13T14:58:23.044000-08:00",
          "2022-12-13T14:58:22.691000-08:00",
          "2022-12-13T14:58:03.036000-08:00",
          "2022-12-13T14:58:02.701000-08:00",
          "2022-12-13T14:57:42.841000-08:00",
          "2022-12-13T14:57:42.617000-08:00",
          "2022-12-13T14:59:42.983000-08:00"
         ],
         "xaxis": "x",
         "y": [
          "SPINUP_CLUSTER",
          "SPINUP_CLUSTER",
          "SPINUP_CLUSTER",
          "SPINUP_CLUSTER",
          "SPINUP_CLUSTER",
          "SPINUP_CLUSTER",
          "SPINUP_CLUSTER",
          "SPINUP_CLUSTER",
          "SPINUP_CLUSTER",
          "SPINUP_CLUSTER",
          "SPINUP_CLUSTER",
          "SPINUP_CLUSTER",
          "SPINUP_CLUSTER",
          "SPINUP_CLUSTER",
          "SPINUP_CLUSTER",
          "SPINUP_CLUSTER",
          "SPINUP_CLUSTER",
          "SPINUP_CLUSTER",
          "SPINUP_CLUSTER",
          "SPINUP_CLUSTER"
         ],
         "yaxis": "y"
        },
        {
         "hovertemplate": "event_name=%{y}<br>timestamp=%{x}<extra></extra>",
         "legendgroup": "SPINDOWN_CLUSTER",
         "marker": {
          "color": "#ab63fa",
          "symbol": "circle"
         },
         "mode": "markers",
         "name": "SPINDOWN_CLUSTER",
         "orientation": "v",
         "showlegend": true,
         "type": "scatter",
         "x": [
          "2022-12-13T14:32:51.755000-08:00",
          "2022-12-13T14:32:51.459000-08:00",
          "2022-12-13T14:36:08.346000-08:00",
          "2022-12-13T14:36:08.662000-08:00",
          "2022-12-13T14:38:39.406000-08:00",
          "2022-12-13T14:38:39.249000-08:00"
         ],
         "xaxis": "x",
         "y": [
          "SPINDOWN_CLUSTER",
          "SPINDOWN_CLUSTER",
          "SPINDOWN_CLUSTER",
          "SPINDOWN_CLUSTER",
          "SPINDOWN_CLUSTER",
          "SPINDOWN_CLUSTER"
         ],
         "yaxis": "y"
        },
        {
         "hovertemplate": "event_name=%{y}<br>timestamp=%{x}<extra></extra>",
         "legendgroup": "SUSPEND_CLUSTER",
         "marker": {
          "color": "#FFA15A",
          "symbol": "circle"
         },
         "mode": "markers",
         "name": "SUSPEND_CLUSTER",
         "orientation": "v",
         "showlegend": true,
         "type": "scatter",
         "x": [
          "2022-12-13T14:32:51.755000-08:00",
          "2022-12-13T14:29:32.310000-08:00",
          "2022-12-13T14:16:56.126000-08:00",
          "2022-12-13T14:36:08.662000-08:00",
          "2022-12-13T14:11:04.069000-08:00",
          "2022-12-13T14:50:02.159000-08:00",
          "2022-12-13T14:38:39.405000-08:00",
          "2022-12-13T13:39:29.449000-08:00",
          "2022-12-13T13:24:29.505000-08:00",
          "2022-12-13T13:06:01.379000-08:00",
          "2022-12-13T13:04:22.660000-08:00",
          "2022-12-13T13:02:25.606000-08:00",
          "2022-12-13T13:58:54.883000-08:00",
          "2022-12-13T13:53:03.318000-08:00",
          "2022-12-13T13:49:45.096000-08:00",
          "2022-12-13T13:46:37.909000-08:00",
          "2022-12-13T13:43:42.672000-08:00"
         ],
         "xaxis": "x",
         "y": [
          "SUSPEND_CLUSTER",
          "SUSPEND_CLUSTER",
          "SUSPEND_CLUSTER",
          "SUSPEND_CLUSTER",
          "SUSPEND_CLUSTER",
          "SUSPEND_CLUSTER",
          "SUSPEND_CLUSTER",
          "SUSPEND_CLUSTER",
          "SUSPEND_CLUSTER",
          "SUSPEND_CLUSTER",
          "SUSPEND_CLUSTER",
          "SUSPEND_CLUSTER",
          "SUSPEND_CLUSTER",
          "SUSPEND_CLUSTER",
          "SUSPEND_CLUSTER",
          "SUSPEND_CLUSTER",
          "SUSPEND_CLUSTER"
         ],
         "yaxis": "y"
        },
        {
         "hovertemplate": "event_name=%{y}<br>timestamp=%{x}<extra></extra>",
         "legendgroup": "RESUME_WAREHOUSE",
         "marker": {
          "color": "#19d3f3",
          "symbol": "circle"
         },
         "mode": "markers",
         "name": "RESUME_WAREHOUSE",
         "orientation": "v",
         "showlegend": true,
         "type": "scatter",
         "x": [
          "2022-12-13T14:29:59.843000-08:00",
          "2022-12-13T14:29:59.633000-08:00",
          "2022-12-13T14:28:18.602000-08:00",
          "2022-12-13T14:28:18.271000-08:00",
          "2022-12-13T14:15:27.104000-08:00",
          "2022-12-13T14:15:26.260000-08:00",
          "2022-12-13T14:54:50.849000-08:00",
          "2022-12-13T14:54:50.601000-08:00",
          "2022-12-13T14:09:58.746000-08:00",
          "2022-12-13T13:37:58.500000-08:00",
          "2022-12-13T13:37:58.296000-08:00",
          "2022-12-13T13:23:14.663000-08:00",
          "2022-12-13T13:23:14.397000-08:00",
          "2022-12-13T13:04:39.872000-08:00",
          "2022-12-13T13:03:12.872000-08:00",
          "2022-12-13T13:03:12.690000-08:00",
          "2022-12-13T13:00:33.699000-08:00",
          "2022-12-13T13:00:26.779000-08:00",
          "2022-12-13T13:04:40.039000-08:00",
          "2022-12-13T13:41:44.709000-08:00",
          "2022-12-13T13:41:45.046000-08:00",
          "2022-12-13T14:09:58.521000-08:00",
          "2022-12-13T13:57:48.248000-08:00",
          "2022-12-13T13:57:47.960000-08:00",
          "2022-12-13T13:51:58.112000-08:00",
          "2022-12-13T13:51:57.842000-08:00",
          "2022-12-13T13:48:36.939000-08:00",
          "2022-12-13T13:48:36.767000-08:00",
          "2022-12-13T13:45:03.619000-08:00",
          "2022-12-13T13:45:02.880000-08:00"
         ],
         "xaxis": "x",
         "y": [
          "RESUME_WAREHOUSE",
          "RESUME_WAREHOUSE",
          "RESUME_WAREHOUSE",
          "RESUME_WAREHOUSE",
          "RESUME_WAREHOUSE",
          "RESUME_WAREHOUSE",
          "RESUME_WAREHOUSE",
          "RESUME_WAREHOUSE",
          "RESUME_WAREHOUSE",
          "RESUME_WAREHOUSE",
          "RESUME_WAREHOUSE",
          "RESUME_WAREHOUSE",
          "RESUME_WAREHOUSE",
          "RESUME_WAREHOUSE",
          "RESUME_WAREHOUSE",
          "RESUME_WAREHOUSE",
          "RESUME_WAREHOUSE",
          "RESUME_WAREHOUSE",
          "RESUME_WAREHOUSE",
          "RESUME_WAREHOUSE",
          "RESUME_WAREHOUSE",
          "RESUME_WAREHOUSE",
          "RESUME_WAREHOUSE",
          "RESUME_WAREHOUSE",
          "RESUME_WAREHOUSE",
          "RESUME_WAREHOUSE",
          "RESUME_WAREHOUSE",
          "RESUME_WAREHOUSE",
          "RESUME_WAREHOUSE",
          "RESUME_WAREHOUSE"
         ],
         "yaxis": "y"
        },
        {
         "hovertemplate": "era_start=%{x}<br>warehouse_id=%{y}<extra></extra>",
         "legendgroup": "",
         "marker": {
          "color": "#636efa",
          "symbol": "circle"
         },
         "mode": "markers",
         "name": "",
         "orientation": "v",
         "showlegend": false,
         "type": "scatter",
         "x": [
          "2022-12-13T14:47:53.060000-08:00",
          "2022-12-13T13:01:24.050000-08:00",
          "2022-12-13T13:01:12.148000-08:00",
          "2022-12-13T14:47:54.836000-08:00",
          "2022-12-13T14:28:27.080000-08:00",
          "2022-12-13T14:48:23.537000-08:00",
          "2022-12-13T14:31:45.222000-08:00",
          "2022-12-13T14:30:02.203000-08:00",
          "2022-12-13T14:47:46.089000-08:00",
          "2022-12-13T13:48:37.718000-08:00",
          "2022-12-13T13:41:58.149000-08:00",
          "2022-12-13T14:56:13.636000-08:00",
          "2022-12-13T13:45:34.112000-08:00",
          "2022-12-13T14:32:54.124000-08:00",
          "2022-12-13T13:01:00.075000-08:00",
          "2022-12-13T13:00:33.776000-08:00",
          "2022-12-13T14:55:54.508000-08:00",
          "2022-12-13T14:55:24.069000-08:00",
          "2022-12-13T14:33:16.377000-08:00",
          "2022-12-13T14:32:42.859000-08:00",
          "2022-12-13T13:42:10.847000-08:00",
          "2022-12-13T14:57:01.991000-08:00",
          "2022-12-13T14:57:00.300000-08:00",
          "2022-12-13T14:56:28.043000-08:00",
          "2022-12-13T13:38:19.102000-08:00",
          "2022-12-13T14:31:06.572000-08:00",
          "2022-12-13T14:57:01.178000-08:00",
          "2022-12-13T14:31:06.553000-08:00",
          "2022-12-13T13:52:01.119000-08:00",
          "2022-12-13T13:48:39.193000-08:00",
          "2022-12-13T13:45:13.104000-08:00",
          "2022-12-13T13:41:48.154000-08:00",
          "2022-12-13T13:42:40.023000-08:00",
          "2022-12-13T13:42:27.021000-08:00",
          "2022-12-13T13:01:18.151000-08:00",
          "2022-12-13T14:57:02.830000-08:00",
          "2022-12-13T14:47:48.405000-08:00",
          "2022-12-13T14:15:42.983000-08:00",
          "2022-12-13T14:57:30.052000-08:00",
          "2022-12-13T14:33:27.122000-08:00",
          "2022-12-13T14:31:46.343000-08:00",
          "2022-12-13T13:04:53.690000-08:00",
          "2022-12-13T14:57:34.755000-08:00",
          "2022-12-13T14:57:00.630000-08:00",
          "2022-12-13T14:55:17.928000-08:00",
          "2022-12-13T14:56:10.513000-08:00",
          "2022-12-13T14:32:51.325000-08:00",
          "2022-12-13T14:31:54.832000-08:00",
          "2022-12-13T14:55:47.725000-08:00",
          "2022-12-13T14:47:54.160000-08:00",
          "2022-12-13T13:00:44.766000-08:00",
          "2022-12-13T14:57:03.027000-08:00",
          "2022-12-13T14:31:47.589000-08:00",
          "2022-12-13T14:10:01.806000-08:00",
          "2022-12-13T14:47:46.852000-08:00",
          "2022-12-13T14:33:20.399000-08:00",
          "2022-12-13T13:45:06.483000-08:00",
          "2022-12-13T14:57:01.356000-08:00",
          "2022-12-13T14:56:25.927000-08:00",
          "2022-12-13T14:33:00.976000-08:00",
          "2022-12-13T13:01:22.475000-08:00",
          "2022-12-13T13:57:50.845000-08:00",
          "2022-12-13T14:31:48.007000-08:00",
          "2022-12-13T14:56:06.631000-08:00",
          "2022-12-13T14:57:02.223000-08:00",
          "2022-12-13T14:31:06.824000-08:00",
          "2022-12-13T14:55:58.026000-08:00",
          "2022-12-13T14:57:30.922000-08:00",
          "2022-12-13T14:33:16.802000-08:00",
          "2022-12-13T14:56:02.634000-08:00",
          "2022-12-13T13:23:23.758000-08:00",
          "2022-12-13T14:56:19.796000-08:00",
          "2022-12-13T13:42:38.872000-08:00",
          "2022-12-13T13:42:24.158000-08:00",
          "2022-12-13T14:33:09.775000-08:00",
          "2022-12-13T14:56:20.912000-08:00",
          "2022-12-13T14:33:17.007000-08:00",
          "2022-12-13T14:47:49.368000-08:00",
          "2022-12-13T14:54:52.891000-08:00",
          "2022-12-13T13:38:01.710000-08:00",
          "2022-12-13T13:03:21.463000-08:00",
          "2022-12-13T14:57:33.408000-08:00",
          "2022-12-13T14:56:22.933000-08:00",
          "2022-12-13T14:48:14.426000-08:00",
          "2022-12-13T13:01:02.813000-08:00",
          "2022-12-13T14:56:05.707000-08:00",
          "2022-12-13T14:31:09.032000-08:00",
          "2022-12-13T13:38:20.563000-08:00",
          "2022-12-13T14:34:56.861000-08:00",
          "2022-12-13T14:32:42.897000-08:00",
          "2022-12-13T14:35:24.699000-08:00",
          "2022-12-13T14:35:36.778000-08:00",
          "2022-12-13T14:34:48.162000-08:00",
          "2022-12-13T14:31:48.399000-08:00",
          "2022-12-13T14:32:37.041000-08:00",
          "2022-12-13T14:34:47.434000-08:00",
          "2022-12-13T14:30:08.577000-08:00",
          "2022-12-13T14:31:38.137000-08:00",
          "2022-12-13T14:34:33.695000-08:00",
          "2022-12-13T14:35:36.696000-08:00",
          "2022-12-13T14:33:36.650000-08:00",
          "2022-12-13T14:35:36.825000-08:00",
          "2022-12-13T14:57:43.461000-08:00",
          "2022-12-13T14:34:08.046000-08:00",
          "2022-12-13T14:31:06.553000-08:00",
          "2022-12-13T14:30:39.606000-08:00",
          "2022-12-13T14:58:04.224000-08:00",
          "2022-12-13T14:31:10.597000-08:00",
          "2022-12-13T14:33:30.775000-08:00",
          "2022-12-13T14:31:28.147000-08:00",
          "2022-12-13T14:31:51.382000-08:00",
          "2022-12-13T14:34:47.895000-08:00",
          "2022-12-13T14:32:07.534000-08:00",
          "2022-12-13T14:32:37.457000-08:00",
          "2022-12-13T14:32:18.352000-08:00",
          "2022-12-13T14:34:48.329000-08:00",
          "2022-12-13T14:31:57.684000-08:00",
          "2022-12-13T14:34:48.266000-08:00",
          "2022-12-13T14:35:36.795000-08:00",
          "2022-12-13T14:32:00.694000-08:00",
          "2022-12-13T14:33:16.796000-08:00",
          "2022-12-13T14:32:10.695000-08:00",
          "2022-12-13T14:58:24.415000-08:00",
          "2022-12-13T14:58:43.586000-08:00",
          "2022-12-13T14:59:04.545000-08:00",
          "2022-12-13T14:59:23.540000-08:00",
          "2022-12-13T14:59:42.444000-08:00"
         ],
         "xaxis": "x2",
         "y": [
          "{\n  \"cluster_number\": 1,\n  \"warehouse_id\": 97\n}",
          "{\n  \"cluster_number\": 1,\n  \"warehouse_id\": 97\n}",
          "{\n  \"cluster_number\": 1,\n  \"warehouse_id\": 97\n}",
          "{\n  \"cluster_number\": 1,\n  \"warehouse_id\": 97\n}",
          "{\n  \"cluster_number\": 1,\n  \"warehouse_id\": 97\n}",
          "{\n  \"cluster_number\": 1,\n  \"warehouse_id\": 97\n}",
          "{\n  \"cluster_number\": 1,\n  \"warehouse_id\": 97\n}",
          "{\n  \"cluster_number\": 1,\n  \"warehouse_id\": 97\n}",
          "{\n  \"cluster_number\": 1,\n  \"warehouse_id\": 97\n}",
          "{\n  \"cluster_number\": 1,\n  \"warehouse_id\": 97\n}",
          "{\n  \"cluster_number\": 1,\n  \"warehouse_id\": 97\n}",
          "{\n  \"cluster_number\": 1,\n  \"warehouse_id\": 97\n}",
          "{\n  \"cluster_number\": 1,\n  \"warehouse_id\": 97\n}",
          "{\n  \"cluster_number\": 1,\n  \"warehouse_id\": 97\n}",
          "{\n  \"cluster_number\": 1,\n  \"warehouse_id\": 97\n}",
          "{\n  \"cluster_number\": 1,\n  \"warehouse_id\": 97\n}",
          "{\n  \"cluster_number\": 1,\n  \"warehouse_id\": 97\n}",
          "{\n  \"cluster_number\": 1,\n  \"warehouse_id\": 97\n}",
          "{\n  \"cluster_number\": 1,\n  \"warehouse_id\": 97\n}",
          "{\n  \"cluster_number\": 1,\n  \"warehouse_id\": 97\n}",
          "{\n  \"cluster_number\": 1,\n  \"warehouse_id\": 97\n}",
          "{\n  \"cluster_number\": 1,\n  \"warehouse_id\": 97\n}",
          "{\n  \"cluster_number\": 1,\n  \"warehouse_id\": 97\n}",
          "{\n  \"cluster_number\": 1,\n  \"warehouse_id\": 97\n}",
          "{\n  \"cluster_number\": 1,\n  \"warehouse_id\": 97\n}",
          "{\n  \"cluster_number\": 1,\n  \"warehouse_id\": 97\n}",
          "{\n  \"cluster_number\": 1,\n  \"warehouse_id\": 97\n}",
          "{\n  \"cluster_number\": 1,\n  \"warehouse_id\": 97\n}",
          "{\n  \"cluster_number\": 1,\n  \"warehouse_id\": 97\n}",
          "{\n  \"cluster_number\": 1,\n  \"warehouse_id\": 97\n}",
          "{\n  \"cluster_number\": 1,\n  \"warehouse_id\": 97\n}",
          "{\n  \"cluster_number\": 1,\n  \"warehouse_id\": 97\n}",
          "{\n  \"cluster_number\": 1,\n  \"warehouse_id\": 97\n}",
          "{\n  \"cluster_number\": 1,\n  \"warehouse_id\": 97\n}",
          "{\n  \"cluster_number\": 1,\n  \"warehouse_id\": 97\n}",
          "{\n  \"cluster_number\": 1,\n  \"warehouse_id\": 97\n}",
          "{\n  \"cluster_number\": 1,\n  \"warehouse_id\": 97\n}",
          "{\n  \"cluster_number\": 1,\n  \"warehouse_id\": 97\n}",
          "{\n  \"cluster_number\": 1,\n  \"warehouse_id\": 97\n}",
          "{\n  \"cluster_number\": 1,\n  \"warehouse_id\": 97\n}",
          "{\n  \"cluster_number\": 1,\n  \"warehouse_id\": 97\n}",
          "{\n  \"cluster_number\": 1,\n  \"warehouse_id\": 97\n}",
          "{\n  \"cluster_number\": 1,\n  \"warehouse_id\": 97\n}",
          "{\n  \"cluster_number\": 1,\n  \"warehouse_id\": 97\n}",
          "{\n  \"cluster_number\": 1,\n  \"warehouse_id\": 97\n}",
          "{\n  \"cluster_number\": 1,\n  \"warehouse_id\": 97\n}",
          "{\n  \"cluster_number\": 1,\n  \"warehouse_id\": 97\n}",
          "{\n  \"cluster_number\": 1,\n  \"warehouse_id\": 97\n}",
          "{\n  \"cluster_number\": 1,\n  \"warehouse_id\": 97\n}",
          "{\n  \"cluster_number\": 1,\n  \"warehouse_id\": 97\n}",
          "{\n  \"cluster_number\": 1,\n  \"warehouse_id\": 97\n}",
          "{\n  \"cluster_number\": 1,\n  \"warehouse_id\": 97\n}",
          "{\n  \"cluster_number\": 1,\n  \"warehouse_id\": 97\n}",
          "{\n  \"cluster_number\": 1,\n  \"warehouse_id\": 97\n}",
          "{\n  \"cluster_number\": 1,\n  \"warehouse_id\": 97\n}",
          "{\n  \"cluster_number\": 1,\n  \"warehouse_id\": 97\n}",
          "{\n  \"cluster_number\": 1,\n  \"warehouse_id\": 97\n}",
          "{\n  \"cluster_number\": 1,\n  \"warehouse_id\": 97\n}",
          "{\n  \"cluster_number\": 1,\n  \"warehouse_id\": 97\n}",
          "{\n  \"cluster_number\": 1,\n  \"warehouse_id\": 97\n}",
          "{\n  \"cluster_number\": 1,\n  \"warehouse_id\": 97\n}",
          "{\n  \"cluster_number\": 1,\n  \"warehouse_id\": 97\n}",
          "{\n  \"cluster_number\": 1,\n  \"warehouse_id\": 97\n}",
          "{\n  \"cluster_number\": 1,\n  \"warehouse_id\": 97\n}",
          "{\n  \"cluster_number\": 1,\n  \"warehouse_id\": 97\n}",
          "{\n  \"cluster_number\": 1,\n  \"warehouse_id\": 97\n}",
          "{\n  \"cluster_number\": 1,\n  \"warehouse_id\": 97\n}",
          "{\n  \"cluster_number\": 1,\n  \"warehouse_id\": 97\n}",
          "{\n  \"cluster_number\": 1,\n  \"warehouse_id\": 97\n}",
          "{\n  \"cluster_number\": 1,\n  \"warehouse_id\": 97\n}",
          "{\n  \"cluster_number\": 1,\n  \"warehouse_id\": 97\n}",
          "{\n  \"cluster_number\": 1,\n  \"warehouse_id\": 97\n}",
          "{\n  \"cluster_number\": 1,\n  \"warehouse_id\": 97\n}",
          "{\n  \"cluster_number\": 1,\n  \"warehouse_id\": 97\n}",
          "{\n  \"cluster_number\": 1,\n  \"warehouse_id\": 97\n}",
          "{\n  \"cluster_number\": 1,\n  \"warehouse_id\": 97\n}",
          "{\n  \"cluster_number\": 1,\n  \"warehouse_id\": 97\n}",
          "{\n  \"cluster_number\": 1,\n  \"warehouse_id\": 97\n}",
          "{\n  \"cluster_number\": 1,\n  \"warehouse_id\": 97\n}",
          "{\n  \"cluster_number\": 1,\n  \"warehouse_id\": 97\n}",
          "{\n  \"cluster_number\": 1,\n  \"warehouse_id\": 97\n}",
          "{\n  \"cluster_number\": 1,\n  \"warehouse_id\": 97\n}",
          "{\n  \"cluster_number\": 1,\n  \"warehouse_id\": 97\n}",
          "{\n  \"cluster_number\": 1,\n  \"warehouse_id\": 97\n}",
          "{\n  \"cluster_number\": 1,\n  \"warehouse_id\": 97\n}",
          "{\n  \"cluster_number\": 1,\n  \"warehouse_id\": 97\n}",
          "{\n  \"cluster_number\": 1,\n  \"warehouse_id\": 97\n}",
          "{\n  \"cluster_number\": 1,\n  \"warehouse_id\": 97\n}",
          "{\n  \"cluster_number\": 2,\n  \"warehouse_id\": 97\n}",
          "{\n  \"cluster_number\": 2,\n  \"warehouse_id\": 97\n}",
          "{\n  \"cluster_number\": 2,\n  \"warehouse_id\": 97\n}",
          "{\n  \"cluster_number\": 2,\n  \"warehouse_id\": 97\n}",
          "{\n  \"cluster_number\": 2,\n  \"warehouse_id\": 97\n}",
          "{\n  \"cluster_number\": 2,\n  \"warehouse_id\": 97\n}",
          "{\n  \"cluster_number\": 2,\n  \"warehouse_id\": 97\n}",
          "{\n  \"cluster_number\": 2,\n  \"warehouse_id\": 97\n}",
          "{\n  \"cluster_number\": 2,\n  \"warehouse_id\": 97\n}",
          "{\n  \"cluster_number\": 2,\n  \"warehouse_id\": 97\n}",
          "{\n  \"cluster_number\": 2,\n  \"warehouse_id\": 97\n}",
          "{\n  \"cluster_number\": 2,\n  \"warehouse_id\": 97\n}",
          "{\n  \"cluster_number\": 2,\n  \"warehouse_id\": 97\n}",
          "{\n  \"cluster_number\": 2,\n  \"warehouse_id\": 97\n}",
          "{\n  \"cluster_number\": 2,\n  \"warehouse_id\": 97\n}",
          "{\n  \"cluster_number\": 2,\n  \"warehouse_id\": 97\n}",
          "{\n  \"cluster_number\": 3,\n  \"warehouse_id\": 97\n}",
          "{\n  \"cluster_number\": 3,\n  \"warehouse_id\": 97\n}",
          "{\n  \"cluster_number\": 3,\n  \"warehouse_id\": 97\n}",
          "{\n  \"cluster_number\": 3,\n  \"warehouse_id\": 97\n}",
          "{\n  \"cluster_number\": 3,\n  \"warehouse_id\": 97\n}",
          "{\n  \"cluster_number\": 3,\n  \"warehouse_id\": 97\n}",
          "{\n  \"cluster_number\": 3,\n  \"warehouse_id\": 97\n}",
          "{\n  \"cluster_number\": 3,\n  \"warehouse_id\": 97\n}",
          "{\n  \"cluster_number\": 3,\n  \"warehouse_id\": 97\n}",
          "{\n  \"cluster_number\": 3,\n  \"warehouse_id\": 97\n}",
          "{\n  \"cluster_number\": 3,\n  \"warehouse_id\": 97\n}",
          "{\n  \"cluster_number\": 3,\n  \"warehouse_id\": 97\n}",
          "{\n  \"cluster_number\": 3,\n  \"warehouse_id\": 97\n}",
          "{\n  \"cluster_number\": 3,\n  \"warehouse_id\": 97\n}",
          "{\n  \"cluster_number\": 3,\n  \"warehouse_id\": 97\n}",
          "{\n  \"cluster_number\": 3,\n  \"warehouse_id\": 97\n}",
          "{\n  \"cluster_number\": 3,\n  \"warehouse_id\": 97\n}",
          "{\n  \"cluster_number\": 3,\n  \"warehouse_id\": 97\n}",
          "{\n  \"cluster_number\": 4,\n  \"warehouse_id\": 97\n}",
          "{\n  \"cluster_number\": 5,\n  \"warehouse_id\": 97\n}",
          "{\n  \"cluster_number\": 6,\n  \"warehouse_id\": 97\n}",
          "{\n  \"cluster_number\": 7,\n  \"warehouse_id\": 97\n}",
          "{\n  \"cluster_number\": 8,\n  \"warehouse_id\": 97\n}"
         ],
         "yaxis": "y2"
        },
        {
         "alignmentgroup": "True",
         "base": [
          "2022-12-13T14:47:53.060000-08:00",
          "2022-12-13T13:01:24.050000-08:00",
          "2022-12-13T13:01:12.148000-08:00",
          "2022-12-13T14:47:54.836000-08:00",
          "2022-12-13T14:28:27.080000-08:00",
          "2022-12-13T14:48:23.537000-08:00",
          "2022-12-13T14:31:45.222000-08:00",
          "2022-12-13T14:30:02.203000-08:00",
          "2022-12-13T14:47:46.089000-08:00",
          "2022-12-13T13:48:37.718000-08:00",
          "2022-12-13T13:41:58.149000-08:00",
          "2022-12-13T14:56:13.636000-08:00",
          "2022-12-13T13:45:34.112000-08:00",
          "2022-12-13T14:32:54.124000-08:00",
          "2022-12-13T13:01:00.075000-08:00",
          "2022-12-13T13:00:33.776000-08:00",
          "2022-12-13T14:55:54.508000-08:00",
          "2022-12-13T14:55:24.069000-08:00",
          "2022-12-13T14:33:16.377000-08:00",
          "2022-12-13T14:32:42.859000-08:00",
          "2022-12-13T13:42:10.847000-08:00",
          "2022-12-13T14:57:01.991000-08:00",
          "2022-12-13T14:57:00.300000-08:00",
          "2022-12-13T14:56:28.043000-08:00",
          "2022-12-13T13:38:19.102000-08:00",
          "2022-12-13T14:31:06.572000-08:00",
          "2022-12-13T14:57:01.178000-08:00",
          "2022-12-13T14:31:06.553000-08:00",
          "2022-12-13T13:52:01.119000-08:00",
          "2022-12-13T13:48:39.193000-08:00",
          "2022-12-13T13:45:13.104000-08:00",
          "2022-12-13T13:41:48.154000-08:00",
          "2022-12-13T13:42:40.023000-08:00",
          "2022-12-13T13:42:27.021000-08:00",
          "2022-12-13T13:01:18.151000-08:00",
          "2022-12-13T14:57:02.830000-08:00",
          "2022-12-13T14:47:48.405000-08:00",
          "2022-12-13T14:15:42.983000-08:00",
          "2022-12-13T14:57:30.052000-08:00",
          "2022-12-13T14:33:27.122000-08:00",
          "2022-12-13T14:31:46.343000-08:00",
          "2022-12-13T13:04:53.690000-08:00",
          "2022-12-13T14:57:34.755000-08:00",
          "2022-12-13T14:57:00.630000-08:00",
          "2022-12-13T14:55:17.928000-08:00",
          "2022-12-13T14:56:10.513000-08:00",
          "2022-12-13T14:32:51.325000-08:00",
          "2022-12-13T14:31:54.832000-08:00",
          "2022-12-13T14:55:47.725000-08:00",
          "2022-12-13T14:47:54.160000-08:00",
          "2022-12-13T13:00:44.766000-08:00",
          "2022-12-13T14:57:03.027000-08:00",
          "2022-12-13T14:31:47.589000-08:00",
          "2022-12-13T14:10:01.806000-08:00",
          "2022-12-13T14:47:46.852000-08:00",
          "2022-12-13T14:33:20.399000-08:00",
          "2022-12-13T13:45:06.483000-08:00",
          "2022-12-13T14:57:01.356000-08:00",
          "2022-12-13T14:56:25.927000-08:00",
          "2022-12-13T14:33:00.976000-08:00",
          "2022-12-13T13:01:22.475000-08:00",
          "2022-12-13T13:57:50.845000-08:00",
          "2022-12-13T14:31:48.007000-08:00",
          "2022-12-13T14:56:06.631000-08:00",
          "2022-12-13T14:57:02.223000-08:00",
          "2022-12-13T14:31:06.824000-08:00",
          "2022-12-13T14:55:58.026000-08:00",
          "2022-12-13T14:57:30.922000-08:00",
          "2022-12-13T14:33:16.802000-08:00",
          "2022-12-13T14:56:02.634000-08:00",
          "2022-12-13T13:23:23.758000-08:00",
          "2022-12-13T14:56:19.796000-08:00",
          "2022-12-13T13:42:38.872000-08:00",
          "2022-12-13T13:42:24.158000-08:00",
          "2022-12-13T14:33:09.775000-08:00",
          "2022-12-13T14:56:20.912000-08:00",
          "2022-12-13T14:33:17.007000-08:00",
          "2022-12-13T14:47:49.368000-08:00",
          "2022-12-13T14:54:52.891000-08:00",
          "2022-12-13T13:38:01.710000-08:00",
          "2022-12-13T13:03:21.463000-08:00",
          "2022-12-13T14:57:33.408000-08:00",
          "2022-12-13T14:56:22.933000-08:00",
          "2022-12-13T14:48:14.426000-08:00",
          "2022-12-13T13:01:02.813000-08:00",
          "2022-12-13T14:56:05.707000-08:00",
          "2022-12-13T14:31:09.032000-08:00",
          "2022-12-13T13:38:20.563000-08:00",
          "2022-12-13T14:34:56.861000-08:00",
          "2022-12-13T14:32:42.897000-08:00",
          "2022-12-13T14:35:24.699000-08:00",
          "2022-12-13T14:35:36.778000-08:00",
          "2022-12-13T14:34:48.162000-08:00",
          "2022-12-13T14:31:48.399000-08:00",
          "2022-12-13T14:32:37.041000-08:00",
          "2022-12-13T14:34:47.434000-08:00",
          "2022-12-13T14:30:08.577000-08:00",
          "2022-12-13T14:31:38.137000-08:00",
          "2022-12-13T14:34:33.695000-08:00",
          "2022-12-13T14:35:36.696000-08:00",
          "2022-12-13T14:33:36.650000-08:00",
          "2022-12-13T14:35:36.825000-08:00",
          "2022-12-13T14:57:43.461000-08:00",
          "2022-12-13T14:34:08.046000-08:00",
          "2022-12-13T14:31:06.553000-08:00",
          "2022-12-13T14:30:39.606000-08:00",
          "2022-12-13T14:58:04.224000-08:00",
          "2022-12-13T14:31:10.597000-08:00",
          "2022-12-13T14:33:30.775000-08:00",
          "2022-12-13T14:31:28.147000-08:00",
          "2022-12-13T14:31:51.382000-08:00",
          "2022-12-13T14:34:47.895000-08:00",
          "2022-12-13T14:32:07.534000-08:00",
          "2022-12-13T14:32:37.457000-08:00",
          "2022-12-13T14:32:18.352000-08:00",
          "2022-12-13T14:34:48.329000-08:00",
          "2022-12-13T14:31:57.684000-08:00",
          "2022-12-13T14:34:48.266000-08:00",
          "2022-12-13T14:35:36.795000-08:00",
          "2022-12-13T14:32:00.694000-08:00",
          "2022-12-13T14:33:16.796000-08:00",
          "2022-12-13T14:32:10.695000-08:00",
          "2022-12-13T14:58:24.415000-08:00",
          "2022-12-13T14:58:43.586000-08:00",
          "2022-12-13T14:59:04.545000-08:00",
          "2022-12-13T14:59:23.540000-08:00",
          "2022-12-13T14:59:42.444000-08:00"
         ],
         "hovertemplate": "era_start=%{base}<br>era_end=%{x}<br>warehouse_id=%{y}<extra></extra>",
         "legendgroup": "",
         "marker": {
          "color": "#636efa",
          "pattern": {
           "shape": ""
          }
         },
         "name": "",
         "offsetgroup": "",
         "orientation": "h",
         "showlegend": false,
         "textposition": "auto",
         "type": "bar",
         "x": [
          486,
          1527,
          3199,
          277,
          5341,
          38624,
          1051,
          63107,
          333,
          38,
          12356,
          819,
          3850,
          1174,
          2017,
          8866,
          540,
          725,
          416,
          5753,
          9825,
          54,
          59,
          360,
          14,
          13,
          43,
          13,
          2194,
          5671,
          20685,
          7921,
          2439,
          10961,
          3358,
          40,
          593,
          12844,
          552,
          840725,
          546,
          8281,
          1411329,
          312,
          1934,
          2695,
          832,
          44671,
          1799,
          292,
          11897,
          313,
          238,
          2205,
          385,
          5870,
          2813,
          428,
          548,
          7025,
          11,
          3923,
          5110,
          612,
          396,
          31,
          1154,
          635,
          12,
          302,
          6295,
          553,
          13,
          2321,
          2339,
          620,
          13,
          335,
          1031,
          15434,
          1118,
          1228,
          726,
          249,
          7921,
          466,
          33358,
          8685,
          27123,
          6179,
          9165,
          11,
          191,
          46577,
          3438,
          595,
          83165,
          4399,
          10960,
          9,
          24529,
          14,
          1188394,
          24938,
          12,
          26557,
          1192227,
          312,
          17532,
          4445,
          24,
          96,
          1485,
          29401,
          12368,
          1490,
          1385,
          10,
          1541,
          5043,
          955,
          2284,
          1238165,
          1178275,
          1059121,
          1088014,
          557982
         ],
         "xaxis": "x3",
         "y": [
          "{\n  \"cluster_number\": 1,\n  \"warehouse_id\": 97\n}",
          "{\n  \"cluster_number\": 1,\n  \"warehouse_id\": 97\n}",
          "{\n  \"cluster_number\": 1,\n  \"warehouse_id\": 97\n}",
          "{\n  \"cluster_number\": 1,\n  \"warehouse_id\": 97\n}",
          "{\n  \"cluster_number\": 1,\n  \"warehouse_id\": 97\n}",
          "{\n  \"cluster_number\": 1,\n  \"warehouse_id\": 97\n}",
          "{\n  \"cluster_number\": 1,\n  \"warehouse_id\": 97\n}",
          "{\n  \"cluster_number\": 1,\n  \"warehouse_id\": 97\n}",
          "{\n  \"cluster_number\": 1,\n  \"warehouse_id\": 97\n}",
          "{\n  \"cluster_number\": 1,\n  \"warehouse_id\": 97\n}",
          "{\n  \"cluster_number\": 1,\n  \"warehouse_id\": 97\n}",
          "{\n  \"cluster_number\": 1,\n  \"warehouse_id\": 97\n}",
          "{\n  \"cluster_number\": 1,\n  \"warehouse_id\": 97\n}",
          "{\n  \"cluster_number\": 1,\n  \"warehouse_id\": 97\n}",
          "{\n  \"cluster_number\": 1,\n  \"warehouse_id\": 97\n}",
          "{\n  \"cluster_number\": 1,\n  \"warehouse_id\": 97\n}",
          "{\n  \"cluster_number\": 1,\n  \"warehouse_id\": 97\n}",
          "{\n  \"cluster_number\": 1,\n  \"warehouse_id\": 97\n}",
          "{\n  \"cluster_number\": 1,\n  \"warehouse_id\": 97\n}",
          "{\n  \"cluster_number\": 1,\n  \"warehouse_id\": 97\n}",
          "{\n  \"cluster_number\": 1,\n  \"warehouse_id\": 97\n}",
          "{\n  \"cluster_number\": 1,\n  \"warehouse_id\": 97\n}",
          "{\n  \"cluster_number\": 1,\n  \"warehouse_id\": 97\n}",
          "{\n  \"cluster_number\": 1,\n  \"warehouse_id\": 97\n}",
          "{\n  \"cluster_number\": 1,\n  \"warehouse_id\": 97\n}",
          "{\n  \"cluster_number\": 1,\n  \"warehouse_id\": 97\n}",
          "{\n  \"cluster_number\": 1,\n  \"warehouse_id\": 97\n}",
          "{\n  \"cluster_number\": 1,\n  \"warehouse_id\": 97\n}",
          "{\n  \"cluster_number\": 1,\n  \"warehouse_id\": 97\n}",
          "{\n  \"cluster_number\": 1,\n  \"warehouse_id\": 97\n}",
          "{\n  \"cluster_number\": 1,\n  \"warehouse_id\": 97\n}",
          "{\n  \"cluster_number\": 1,\n  \"warehouse_id\": 97\n}",
          "{\n  \"cluster_number\": 1,\n  \"warehouse_id\": 97\n}",
          "{\n  \"cluster_number\": 1,\n  \"warehouse_id\": 97\n}",
          "{\n  \"cluster_number\": 1,\n  \"warehouse_id\": 97\n}",
          "{\n  \"cluster_number\": 1,\n  \"warehouse_id\": 97\n}",
          "{\n  \"cluster_number\": 1,\n  \"warehouse_id\": 97\n}",
          "{\n  \"cluster_number\": 1,\n  \"warehouse_id\": 97\n}",
          "{\n  \"cluster_number\": 1,\n  \"warehouse_id\": 97\n}",
          "{\n  \"cluster_number\": 1,\n  \"warehouse_id\": 97\n}",
          "{\n  \"cluster_number\": 1,\n  \"warehouse_id\": 97\n}",
          "{\n  \"cluster_number\": 1,\n  \"warehouse_id\": 97\n}",
          "{\n  \"cluster_number\": 1,\n  \"warehouse_id\": 97\n}",
          "{\n  \"cluster_number\": 1,\n  \"warehouse_id\": 97\n}",
          "{\n  \"cluster_number\": 1,\n  \"warehouse_id\": 97\n}",
          "{\n  \"cluster_number\": 1,\n  \"warehouse_id\": 97\n}",
          "{\n  \"cluster_number\": 1,\n  \"warehouse_id\": 97\n}",
          "{\n  \"cluster_number\": 1,\n  \"warehouse_id\": 97\n}",
          "{\n  \"cluster_number\": 1,\n  \"warehouse_id\": 97\n}",
          "{\n  \"cluster_number\": 1,\n  \"warehouse_id\": 97\n}",
          "{\n  \"cluster_number\": 1,\n  \"warehouse_id\": 97\n}",
          "{\n  \"cluster_number\": 1,\n  \"warehouse_id\": 97\n}",
          "{\n  \"cluster_number\": 1,\n  \"warehouse_id\": 97\n}",
          "{\n  \"cluster_number\": 1,\n  \"warehouse_id\": 97\n}",
          "{\n  \"cluster_number\": 1,\n  \"warehouse_id\": 97\n}",
          "{\n  \"cluster_number\": 1,\n  \"warehouse_id\": 97\n}",
          "{\n  \"cluster_number\": 1,\n  \"warehouse_id\": 97\n}",
          "{\n  \"cluster_number\": 1,\n  \"warehouse_id\": 97\n}",
          "{\n  \"cluster_number\": 1,\n  \"warehouse_id\": 97\n}",
          "{\n  \"cluster_number\": 1,\n  \"warehouse_id\": 97\n}",
          "{\n  \"cluster_number\": 1,\n  \"warehouse_id\": 97\n}",
          "{\n  \"cluster_number\": 1,\n  \"warehouse_id\": 97\n}",
          "{\n  \"cluster_number\": 1,\n  \"warehouse_id\": 97\n}",
          "{\n  \"cluster_number\": 1,\n  \"warehouse_id\": 97\n}",
          "{\n  \"cluster_number\": 1,\n  \"warehouse_id\": 97\n}",
          "{\n  \"cluster_number\": 1,\n  \"warehouse_id\": 97\n}",
          "{\n  \"cluster_number\": 1,\n  \"warehouse_id\": 97\n}",
          "{\n  \"cluster_number\": 1,\n  \"warehouse_id\": 97\n}",
          "{\n  \"cluster_number\": 1,\n  \"warehouse_id\": 97\n}",
          "{\n  \"cluster_number\": 1,\n  \"warehouse_id\": 97\n}",
          "{\n  \"cluster_number\": 1,\n  \"warehouse_id\": 97\n}",
          "{\n  \"cluster_number\": 1,\n  \"warehouse_id\": 97\n}",
          "{\n  \"cluster_number\": 1,\n  \"warehouse_id\": 97\n}",
          "{\n  \"cluster_number\": 1,\n  \"warehouse_id\": 97\n}",
          "{\n  \"cluster_number\": 1,\n  \"warehouse_id\": 97\n}",
          "{\n  \"cluster_number\": 1,\n  \"warehouse_id\": 97\n}",
          "{\n  \"cluster_number\": 1,\n  \"warehouse_id\": 97\n}",
          "{\n  \"cluster_number\": 1,\n  \"warehouse_id\": 97\n}",
          "{\n  \"cluster_number\": 1,\n  \"warehouse_id\": 97\n}",
          "{\n  \"cluster_number\": 1,\n  \"warehouse_id\": 97\n}",
          "{\n  \"cluster_number\": 1,\n  \"warehouse_id\": 97\n}",
          "{\n  \"cluster_number\": 1,\n  \"warehouse_id\": 97\n}",
          "{\n  \"cluster_number\": 1,\n  \"warehouse_id\": 97\n}",
          "{\n  \"cluster_number\": 1,\n  \"warehouse_id\": 97\n}",
          "{\n  \"cluster_number\": 1,\n  \"warehouse_id\": 97\n}",
          "{\n  \"cluster_number\": 1,\n  \"warehouse_id\": 97\n}",
          "{\n  \"cluster_number\": 1,\n  \"warehouse_id\": 97\n}",
          "{\n  \"cluster_number\": 1,\n  \"warehouse_id\": 97\n}",
          "{\n  \"cluster_number\": 2,\n  \"warehouse_id\": 97\n}",
          "{\n  \"cluster_number\": 2,\n  \"warehouse_id\": 97\n}",
          "{\n  \"cluster_number\": 2,\n  \"warehouse_id\": 97\n}",
          "{\n  \"cluster_number\": 2,\n  \"warehouse_id\": 97\n}",
          "{\n  \"cluster_number\": 2,\n  \"warehouse_id\": 97\n}",
          "{\n  \"cluster_number\": 2,\n  \"warehouse_id\": 97\n}",
          "{\n  \"cluster_number\": 2,\n  \"warehouse_id\": 97\n}",
          "{\n  \"cluster_number\": 2,\n  \"warehouse_id\": 97\n}",
          "{\n  \"cluster_number\": 2,\n  \"warehouse_id\": 97\n}",
          "{\n  \"cluster_number\": 2,\n  \"warehouse_id\": 97\n}",
          "{\n  \"cluster_number\": 2,\n  \"warehouse_id\": 97\n}",
          "{\n  \"cluster_number\": 2,\n  \"warehouse_id\": 97\n}",
          "{\n  \"cluster_number\": 2,\n  \"warehouse_id\": 97\n}",
          "{\n  \"cluster_number\": 2,\n  \"warehouse_id\": 97\n}",
          "{\n  \"cluster_number\": 2,\n  \"warehouse_id\": 97\n}",
          "{\n  \"cluster_number\": 2,\n  \"warehouse_id\": 97\n}",
          "{\n  \"cluster_number\": 3,\n  \"warehouse_id\": 97\n}",
          "{\n  \"cluster_number\": 3,\n  \"warehouse_id\": 97\n}",
          "{\n  \"cluster_number\": 3,\n  \"warehouse_id\": 97\n}",
          "{\n  \"cluster_number\": 3,\n  \"warehouse_id\": 97\n}",
          "{\n  \"cluster_number\": 3,\n  \"warehouse_id\": 97\n}",
          "{\n  \"cluster_number\": 3,\n  \"warehouse_id\": 97\n}",
          "{\n  \"cluster_number\": 3,\n  \"warehouse_id\": 97\n}",
          "{\n  \"cluster_number\": 3,\n  \"warehouse_id\": 97\n}",
          "{\n  \"cluster_number\": 3,\n  \"warehouse_id\": 97\n}",
          "{\n  \"cluster_number\": 3,\n  \"warehouse_id\": 97\n}",
          "{\n  \"cluster_number\": 3,\n  \"warehouse_id\": 97\n}",
          "{\n  \"cluster_number\": 3,\n  \"warehouse_id\": 97\n}",
          "{\n  \"cluster_number\": 3,\n  \"warehouse_id\": 97\n}",
          "{\n  \"cluster_number\": 3,\n  \"warehouse_id\": 97\n}",
          "{\n  \"cluster_number\": 3,\n  \"warehouse_id\": 97\n}",
          "{\n  \"cluster_number\": 3,\n  \"warehouse_id\": 97\n}",
          "{\n  \"cluster_number\": 3,\n  \"warehouse_id\": 97\n}",
          "{\n  \"cluster_number\": 3,\n  \"warehouse_id\": 97\n}",
          "{\n  \"cluster_number\": 4,\n  \"warehouse_id\": 97\n}",
          "{\n  \"cluster_number\": 5,\n  \"warehouse_id\": 97\n}",
          "{\n  \"cluster_number\": 6,\n  \"warehouse_id\": 97\n}",
          "{\n  \"cluster_number\": 7,\n  \"warehouse_id\": 97\n}",
          "{\n  \"cluster_number\": 8,\n  \"warehouse_id\": 97\n}"
         ],
         "yaxis": "y3"
        },
        {
         "hovertemplate": "start_time=%{x}<br>dollars_used_compute=%{y}<extra></extra>",
         "legendgroup": "",
         "line": {
          "color": "#636efa",
          "dash": "solid",
          "shape": "hv"
         },
         "marker": {
          "symbol": "circle"
         },
         "mode": "lines",
         "name": "",
         "orientation": "v",
         "showlegend": false,
         "type": "scatter",
         "x": [
          "2022-12-13T12:00:00-08:00",
          "2022-12-13T13:00:00-08:00",
          "2022-12-13T14:00:00-08:00",
          "2022-12-13T15:00:00-08:00"
         ],
         "xaxis": "x4",
         "y": [
          231.8755833324,
          55.0468333338,
          525.8755833324,
          645.3335000007
         ],
         "yaxis": "y4"
        }
       ],
       "layout": {
        "autosize": true,
        "template": {
         "data": {
          "bar": [
           {
            "error_x": {
             "color": "#2a3f5f"
            },
            "error_y": {
             "color": "#2a3f5f"
            },
            "marker": {
             "line": {
              "color": "#E5ECF6",
              "width": 0.5
             },
             "pattern": {
              "fillmode": "overlay",
              "size": 10,
              "solidity": 0.2
             }
            },
            "type": "bar"
           }
          ],
          "barpolar": [
           {
            "marker": {
             "line": {
              "color": "#E5ECF6",
              "width": 0.5
             },
             "pattern": {
              "fillmode": "overlay",
              "size": 10,
              "solidity": 0.2
             }
            },
            "type": "barpolar"
           }
          ],
          "carpet": [
           {
            "aaxis": {
             "endlinecolor": "#2a3f5f",
             "gridcolor": "white",
             "linecolor": "white",
             "minorgridcolor": "white",
             "startlinecolor": "#2a3f5f"
            },
            "baxis": {
             "endlinecolor": "#2a3f5f",
             "gridcolor": "white",
             "linecolor": "white",
             "minorgridcolor": "white",
             "startlinecolor": "#2a3f5f"
            },
            "type": "carpet"
           }
          ],
          "choropleth": [
           {
            "colorbar": {
             "outlinewidth": 0,
             "ticks": ""
            },
            "type": "choropleth"
           }
          ],
          "contour": [
           {
            "colorbar": {
             "outlinewidth": 0,
             "ticks": ""
            },
            "colorscale": [
             [
              0,
              "#0d0887"
             ],
             [
              0.1111111111111111,
              "#46039f"
             ],
             [
              0.2222222222222222,
              "#7201a8"
             ],
             [
              0.3333333333333333,
              "#9c179e"
             ],
             [
              0.4444444444444444,
              "#bd3786"
             ],
             [
              0.5555555555555556,
              "#d8576b"
             ],
             [
              0.6666666666666666,
              "#ed7953"
             ],
             [
              0.7777777777777778,
              "#fb9f3a"
             ],
             [
              0.8888888888888888,
              "#fdca26"
             ],
             [
              1,
              "#f0f921"
             ]
            ],
            "type": "contour"
           }
          ],
          "contourcarpet": [
           {
            "colorbar": {
             "outlinewidth": 0,
             "ticks": ""
            },
            "type": "contourcarpet"
           }
          ],
          "heatmap": [
           {
            "colorbar": {
             "outlinewidth": 0,
             "ticks": ""
            },
            "colorscale": [
             [
              0,
              "#0d0887"
             ],
             [
              0.1111111111111111,
              "#46039f"
             ],
             [
              0.2222222222222222,
              "#7201a8"
             ],
             [
              0.3333333333333333,
              "#9c179e"
             ],
             [
              0.4444444444444444,
              "#bd3786"
             ],
             [
              0.5555555555555556,
              "#d8576b"
             ],
             [
              0.6666666666666666,
              "#ed7953"
             ],
             [
              0.7777777777777778,
              "#fb9f3a"
             ],
             [
              0.8888888888888888,
              "#fdca26"
             ],
             [
              1,
              "#f0f921"
             ]
            ],
            "type": "heatmap"
           }
          ],
          "heatmapgl": [
           {
            "colorbar": {
             "outlinewidth": 0,
             "ticks": ""
            },
            "colorscale": [
             [
              0,
              "#0d0887"
             ],
             [
              0.1111111111111111,
              "#46039f"
             ],
             [
              0.2222222222222222,
              "#7201a8"
             ],
             [
              0.3333333333333333,
              "#9c179e"
             ],
             [
              0.4444444444444444,
              "#bd3786"
             ],
             [
              0.5555555555555556,
              "#d8576b"
             ],
             [
              0.6666666666666666,
              "#ed7953"
             ],
             [
              0.7777777777777778,
              "#fb9f3a"
             ],
             [
              0.8888888888888888,
              "#fdca26"
             ],
             [
              1,
              "#f0f921"
             ]
            ],
            "type": "heatmapgl"
           }
          ],
          "histogram": [
           {
            "marker": {
             "pattern": {
              "fillmode": "overlay",
              "size": 10,
              "solidity": 0.2
             }
            },
            "type": "histogram"
           }
          ],
          "histogram2d": [
           {
            "colorbar": {
             "outlinewidth": 0,
             "ticks": ""
            },
            "colorscale": [
             [
              0,
              "#0d0887"
             ],
             [
              0.1111111111111111,
              "#46039f"
             ],
             [
              0.2222222222222222,
              "#7201a8"
             ],
             [
              0.3333333333333333,
              "#9c179e"
             ],
             [
              0.4444444444444444,
              "#bd3786"
             ],
             [
              0.5555555555555556,
              "#d8576b"
             ],
             [
              0.6666666666666666,
              "#ed7953"
             ],
             [
              0.7777777777777778,
              "#fb9f3a"
             ],
             [
              0.8888888888888888,
              "#fdca26"
             ],
             [
              1,
              "#f0f921"
             ]
            ],
            "type": "histogram2d"
           }
          ],
          "histogram2dcontour": [
           {
            "colorbar": {
             "outlinewidth": 0,
             "ticks": ""
            },
            "colorscale": [
             [
              0,
              "#0d0887"
             ],
             [
              0.1111111111111111,
              "#46039f"
             ],
             [
              0.2222222222222222,
              "#7201a8"
             ],
             [
              0.3333333333333333,
              "#9c179e"
             ],
             [
              0.4444444444444444,
              "#bd3786"
             ],
             [
              0.5555555555555556,
              "#d8576b"
             ],
             [
              0.6666666666666666,
              "#ed7953"
             ],
             [
              0.7777777777777778,
              "#fb9f3a"
             ],
             [
              0.8888888888888888,
              "#fdca26"
             ],
             [
              1,
              "#f0f921"
             ]
            ],
            "type": "histogram2dcontour"
           }
          ],
          "mesh3d": [
           {
            "colorbar": {
             "outlinewidth": 0,
             "ticks": ""
            },
            "type": "mesh3d"
           }
          ],
          "parcoords": [
           {
            "line": {
             "colorbar": {
              "outlinewidth": 0,
              "ticks": ""
             }
            },
            "type": "parcoords"
           }
          ],
          "pie": [
           {
            "automargin": true,
            "type": "pie"
           }
          ],
          "scatter": [
           {
            "fillpattern": {
             "fillmode": "overlay",
             "size": 10,
             "solidity": 0.2
            },
            "type": "scatter"
           }
          ],
          "scatter3d": [
           {
            "line": {
             "colorbar": {
              "outlinewidth": 0,
              "ticks": ""
             }
            },
            "marker": {
             "colorbar": {
              "outlinewidth": 0,
              "ticks": ""
             }
            },
            "type": "scatter3d"
           }
          ],
          "scattercarpet": [
           {
            "marker": {
             "colorbar": {
              "outlinewidth": 0,
              "ticks": ""
             }
            },
            "type": "scattercarpet"
           }
          ],
          "scattergeo": [
           {
            "marker": {
             "colorbar": {
              "outlinewidth": 0,
              "ticks": ""
             }
            },
            "type": "scattergeo"
           }
          ],
          "scattergl": [
           {
            "marker": {
             "colorbar": {
              "outlinewidth": 0,
              "ticks": ""
             }
            },
            "type": "scattergl"
           }
          ],
          "scattermapbox": [
           {
            "marker": {
             "colorbar": {
              "outlinewidth": 0,
              "ticks": ""
             }
            },
            "type": "scattermapbox"
           }
          ],
          "scatterpolar": [
           {
            "marker": {
             "colorbar": {
              "outlinewidth": 0,
              "ticks": ""
             }
            },
            "type": "scatterpolar"
           }
          ],
          "scatterpolargl": [
           {
            "marker": {
             "colorbar": {
              "outlinewidth": 0,
              "ticks": ""
             }
            },
            "type": "scatterpolargl"
           }
          ],
          "scatterternary": [
           {
            "marker": {
             "colorbar": {
              "outlinewidth": 0,
              "ticks": ""
             }
            },
            "type": "scatterternary"
           }
          ],
          "surface": [
           {
            "colorbar": {
             "outlinewidth": 0,
             "ticks": ""
            },
            "colorscale": [
             [
              0,
              "#0d0887"
             ],
             [
              0.1111111111111111,
              "#46039f"
             ],
             [
              0.2222222222222222,
              "#7201a8"
             ],
             [
              0.3333333333333333,
              "#9c179e"
             ],
             [
              0.4444444444444444,
              "#bd3786"
             ],
             [
              0.5555555555555556,
              "#d8576b"
             ],
             [
              0.6666666666666666,
              "#ed7953"
             ],
             [
              0.7777777777777778,
              "#fb9f3a"
             ],
             [
              0.8888888888888888,
              "#fdca26"
             ],
             [
              1,
              "#f0f921"
             ]
            ],
            "type": "surface"
           }
          ],
          "table": [
           {
            "cells": {
             "fill": {
              "color": "#EBF0F8"
             },
             "line": {
              "color": "white"
             }
            },
            "header": {
             "fill": {
              "color": "#C8D4E3"
             },
             "line": {
              "color": "white"
             }
            },
            "type": "table"
           }
          ]
         },
         "layout": {
          "annotationdefaults": {
           "arrowcolor": "#2a3f5f",
           "arrowhead": 0,
           "arrowwidth": 1
          },
          "autotypenumbers": "strict",
          "coloraxis": {
           "colorbar": {
            "outlinewidth": 0,
            "ticks": ""
           }
          },
          "colorscale": {
           "diverging": [
            [
             0,
             "#8e0152"
            ],
            [
             0.1,
             "#c51b7d"
            ],
            [
             0.2,
             "#de77ae"
            ],
            [
             0.3,
             "#f1b6da"
            ],
            [
             0.4,
             "#fde0ef"
            ],
            [
             0.5,
             "#f7f7f7"
            ],
            [
             0.6,
             "#e6f5d0"
            ],
            [
             0.7,
             "#b8e186"
            ],
            [
             0.8,
             "#7fbc41"
            ],
            [
             0.9,
             "#4d9221"
            ],
            [
             1,
             "#276419"
            ]
           ],
           "sequential": [
            [
             0,
             "#0d0887"
            ],
            [
             0.1111111111111111,
             "#46039f"
            ],
            [
             0.2222222222222222,
             "#7201a8"
            ],
            [
             0.3333333333333333,
             "#9c179e"
            ],
            [
             0.4444444444444444,
             "#bd3786"
            ],
            [
             0.5555555555555556,
             "#d8576b"
            ],
            [
             0.6666666666666666,
             "#ed7953"
            ],
            [
             0.7777777777777778,
             "#fb9f3a"
            ],
            [
             0.8888888888888888,
             "#fdca26"
            ],
            [
             1,
             "#f0f921"
            ]
           ],
           "sequentialminus": [
            [
             0,
             "#0d0887"
            ],
            [
             0.1111111111111111,
             "#46039f"
            ],
            [
             0.2222222222222222,
             "#7201a8"
            ],
            [
             0.3333333333333333,
             "#9c179e"
            ],
            [
             0.4444444444444444,
             "#bd3786"
            ],
            [
             0.5555555555555556,
             "#d8576b"
            ],
            [
             0.6666666666666666,
             "#ed7953"
            ],
            [
             0.7777777777777778,
             "#fb9f3a"
            ],
            [
             0.8888888888888888,
             "#fdca26"
            ],
            [
             1,
             "#f0f921"
            ]
           ]
          },
          "colorway": [
           "#636efa",
           "#EF553B",
           "#00cc96",
           "#ab63fa",
           "#FFA15A",
           "#19d3f3",
           "#FF6692",
           "#B6E880",
           "#FF97FF",
           "#FECB52"
          ],
          "font": {
           "color": "#2a3f5f"
          },
          "geo": {
           "bgcolor": "white",
           "lakecolor": "white",
           "landcolor": "#E5ECF6",
           "showlakes": true,
           "showland": true,
           "subunitcolor": "white"
          },
          "hoverlabel": {
           "align": "left"
          },
          "hovermode": "closest",
          "mapbox": {
           "style": "light"
          },
          "paper_bgcolor": "white",
          "plot_bgcolor": "#E5ECF6",
          "polar": {
           "angularaxis": {
            "gridcolor": "white",
            "linecolor": "white",
            "ticks": ""
           },
           "bgcolor": "#E5ECF6",
           "radialaxis": {
            "gridcolor": "white",
            "linecolor": "white",
            "ticks": ""
           }
          },
          "scene": {
           "xaxis": {
            "backgroundcolor": "#E5ECF6",
            "gridcolor": "white",
            "gridwidth": 2,
            "linecolor": "white",
            "showbackground": true,
            "ticks": "",
            "zerolinecolor": "white"
           },
           "yaxis": {
            "backgroundcolor": "#E5ECF6",
            "gridcolor": "white",
            "gridwidth": 2,
            "linecolor": "white",
            "showbackground": true,
            "ticks": "",
            "zerolinecolor": "white"
           },
           "zaxis": {
            "backgroundcolor": "#E5ECF6",
            "gridcolor": "white",
            "gridwidth": 2,
            "linecolor": "white",
            "showbackground": true,
            "ticks": "",
            "zerolinecolor": "white"
           }
          },
          "shapedefaults": {
           "line": {
            "color": "#2a3f5f"
           }
          },
          "ternary": {
           "aaxis": {
            "gridcolor": "white",
            "linecolor": "white",
            "ticks": ""
           },
           "baxis": {
            "gridcolor": "white",
            "linecolor": "white",
            "ticks": ""
           },
           "bgcolor": "#E5ECF6",
           "caxis": {
            "gridcolor": "white",
            "linecolor": "white",
            "ticks": ""
           }
          },
          "title": {
           "x": 0.05
          },
          "xaxis": {
           "automargin": true,
           "gridcolor": "white",
           "linecolor": "white",
           "ticks": "",
           "title": {
            "standoff": 15
           },
           "zerolinecolor": "white",
           "zerolinewidth": 2
          },
          "yaxis": {
           "automargin": true,
           "gridcolor": "white",
           "linecolor": "white",
           "ticks": "",
           "title": {
            "standoff": 15
           },
           "zerolinecolor": "white",
           "zerolinewidth": 2
          }
         }
        },
        "xaxis": {
         "anchor": "y",
         "autorange": false,
         "domain": [
          0,
          1
         ],
         "matches": "x4",
         "minor": {
          "showgrid": true
         },
         "range": [
          "2022-12-13 14:28:38.4153",
          "2022-12-13 14:49:47.7693"
         ],
         "showgrid": true,
         "showspikes": false,
         "showticklabels": false,
         "title": {
          "text": "warehouse events"
         },
         "type": "date"
        },
        "xaxis2": {
         "anchor": "y2",
         "autorange": false,
         "domain": [
          0,
          1
         ],
         "matches": "x4",
         "minor": {
          "showgrid": true
         },
         "range": [
          "2022-12-13 14:28:38.4153",
          "2022-12-13 14:49:47.7693"
         ],
         "showgrid": true,
         "showspikes": false,
         "showticklabels": false,
         "title": {
          "text": "warehouse cluster era starts"
         },
         "type": "date"
        },
        "xaxis3": {
         "anchor": "y3",
         "autorange": false,
         "domain": [
          0,
          1
         ],
         "matches": "x4",
         "minor": {
          "showgrid": true
         },
         "range": [
          "2022-12-13 14:28:38.4153",
          "2022-12-13 14:49:47.7693"
         ],
         "showgrid": true,
         "showspikes": false,
         "showticklabels": false,
         "title": {
          "text": "query eras"
         },
         "type": "date"
        },
        "xaxis4": {
         "anchor": "y4",
         "autorange": false,
         "domain": [
          0,
          1
         ],
         "minor": {
          "showgrid": true
         },
         "range": [
          "2022-12-13 14:28:38.4153",
          "2022-12-13 14:49:47.7693"
         ],
         "showgrid": true,
         "showspikes": false,
         "type": "date"
        },
        "yaxis": {
         "anchor": "x",
         "autorange": true,
         "domain": [
          0.7875,
          1
         ],
         "minor": {
          "showgrid": true
         },
         "range": [
          -0.46533873508890394,
          5.4653387350889036
         ],
         "showgrid": true,
         "showspikes": false,
         "type": "category"
        },
        "yaxis2": {
         "anchor": "x2",
         "autorange": true,
         "domain": [
          0.525,
          0.7375
         ],
         "minor": {
          "showgrid": true
         },
         "range": [
          -0.6514742291244655,
          7.6514742291244655
         ],
         "showgrid": true,
         "showspikes": false,
         "type": "category"
        },
        "yaxis3": {
         "anchor": "x3",
         "autorange": false,
         "domain": [
          0.2625,
          0.475
         ],
         "minor": {
          "showgrid": true
         },
         "range": [
          -0.5,
          6.518345291745731
         ],
         "showgrid": true,
         "showspikes": false,
         "type": "category"
        },
        "yaxis4": {
         "anchor": "x4",
         "autorange": true,
         "domain": [
          0,
          0.2125
         ],
         "minor": {
          "showgrid": true
         },
         "range": [
          22.25312963008333,
          678.1272037044167
         ],
         "showgrid": true,
         "showspikes": false,
         "type": "linear"
        }
       }
      },
      "image/png": "[encoded data removed]",
      "text/html": [
       "<div>                            <div id=\"d29d0e32-2ce5-486e-a94e-adc01b3d69b9\" class=\"plotly-graph-div\" style=\"height:800px; width:100%;\"></div>            <script type=\"text/javascript\">                require([\"plotly\"], function(Plotly) {                    window.PLOTLYENV=window.PLOTLYENV || {};                                    if (document.getElementById(\"d29d0e32-2ce5-486e-a94e-adc01b3d69b9\")) {                    Plotly.newPlot(                        \"d29d0e32-2ce5-486e-a94e-adc01b3d69b9\",                        [{\"hovertemplate\":\"event_name=%{y}<br>timestamp=%{x}<extra></extra>\",\"legendgroup\":\"SUSPEND_WAREHOUSE\",\"marker\":{\"color\":\"#636efa\",\"symbol\":\"circle\"},\"mode\":\"markers\",\"name\":\"SUSPEND_WAREHOUSE\",\"orientation\":\"v\",\"showlegend\":true,\"x\":[\"2022-12-13T13:00:24.067000-08:00\",\"2022-12-13T14:29:32.310000-08:00\",\"2022-12-13T14:29:32.003000-08:00\",\"2022-12-13T14:16:56.127000-08:00\",\"2022-12-13T14:16:55.854000-08:00\",\"2022-12-13T14:11:04.069000-08:00\",\"2022-12-13T14:50:02.159000-08:00\",\"2022-12-13T14:50:01.743000-08:00\",\"2022-12-13T14:11:03.830000-08:00\",\"2022-12-13T13:39:29.276000-08:00\",\"2022-12-13T13:24:29.505000-08:00\",\"2022-12-13T13:24:29.149000-08:00\",\"2022-12-13T13:06:01.379000-08:00\",\"2022-12-13T13:39:29.450000-08:00\",\"2022-12-13T13:06:01.186000-08:00\",\"2022-12-13T13:04:22.661000-08:00\",\"2022-12-13T13:04:22.456000-08:00\",\"2022-12-13T13:02:25.606000-08:00\",\"2022-12-13T13:02:25.446000-08:00\",\"2022-12-13T13:58:54.883000-08:00\",\"2022-12-13T13:58:54.607000-08:00\",\"2022-12-13T13:53:03.318000-08:00\",\"2022-12-13T13:53:03.114000-08:00\",\"2022-12-13T13:49:44.890000-08:00\",\"2022-12-13T13:46:37.909000-08:00\",\"2022-12-13T13:46:37.705000-08:00\",\"2022-12-13T13:43:42.672000-08:00\",\"2022-12-13T13:43:42.481000-08:00\",\"2022-12-13T13:49:45.096000-08:00\"],\"xaxis\":\"x\",\"y\":[\"SUSPEND_WAREHOUSE\",\"SUSPEND_WAREHOUSE\",\"SUSPEND_WAREHOUSE\",\"SUSPEND_WAREHOUSE\",\"SUSPEND_WAREHOUSE\",\"SUSPEND_WAREHOUSE\",\"SUSPEND_WAREHOUSE\",\"SUSPEND_WAREHOUSE\",\"SUSPEND_WAREHOUSE\",\"SUSPEND_WAREHOUSE\",\"SUSPEND_WAREHOUSE\",\"SUSPEND_WAREHOUSE\",\"SUSPEND_WAREHOUSE\",\"SUSPEND_WAREHOUSE\",\"SUSPEND_WAREHOUSE\",\"SUSPEND_WAREHOUSE\",\"SUSPEND_WAREHOUSE\",\"SUSPEND_WAREHOUSE\",\"SUSPEND_WAREHOUSE\",\"SUSPEND_WAREHOUSE\",\"SUSPEND_WAREHOUSE\",\"SUSPEND_WAREHOUSE\",\"SUSPEND_WAREHOUSE\",\"SUSPEND_WAREHOUSE\",\"SUSPEND_WAREHOUSE\",\"SUSPEND_WAREHOUSE\",\"SUSPEND_WAREHOUSE\",\"SUSPEND_WAREHOUSE\",\"SUSPEND_WAREHOUSE\"],\"yaxis\":\"y\",\"type\":\"scatter\"},{\"hovertemplate\":\"event_name=%{y}<br>timestamp=%{x}<extra></extra>\",\"legendgroup\":\"RESUME_CLUSTER\",\"marker\":{\"color\":\"#EF553B\",\"symbol\":\"circle\"},\"mode\":\"markers\",\"name\":\"RESUME_CLUSTER\",\"orientation\":\"v\",\"showlegend\":true,\"x\":[\"2022-12-13T14:33:33.169000-08:00\",\"2022-12-13T14:30:34.004000-08:00\",\"2022-12-13T14:30:05.817000-08:00\",\"2022-12-13T14:29:59.842000-08:00\",\"2022-12-13T14:28:18.601000-08:00\",\"2022-12-13T14:15:27.104000-08:00\",\"2022-12-13T14:59:22.946000-08:00\",\"2022-12-13T14:59:03.044000-08:00\",\"2022-12-13T14:58:43.035000-08:00\",\"2022-12-13T14:58:23.043000-08:00\",\"2022-12-13T14:57:42.840000-08:00\",\"2022-12-13T14:54:50.849000-08:00\",\"2022-12-13T14:58:03.036000-08:00\",\"2022-12-13T14:09:58.744000-08:00\",\"2022-12-13T13:37:58.499000-08:00\",\"2022-12-13T13:23:14.662000-08:00\",\"2022-12-13T13:04:40.038000-08:00\",\"2022-12-13T13:03:12.871000-08:00\",\"2022-12-13T14:59:42.982000-08:00\",\"2022-12-13T13:57:48.246000-08:00\",\"2022-12-13T13:51:58.111000-08:00\",\"2022-12-13T13:41:45.045000-08:00\",\"2022-12-13T13:48:36.938000-08:00\",\"2022-12-13T13:45:03.619000-08:00\"],\"xaxis\":\"x\",\"y\":[\"RESUME_CLUSTER\",\"RESUME_CLUSTER\",\"RESUME_CLUSTER\",\"RESUME_CLUSTER\",\"RESUME_CLUSTER\",\"RESUME_CLUSTER\",\"RESUME_CLUSTER\",\"RESUME_CLUSTER\",\"RESUME_CLUSTER\",\"RESUME_CLUSTER\",\"RESUME_CLUSTER\",\"RESUME_CLUSTER\",\"RESUME_CLUSTER\",\"RESUME_CLUSTER\",\"RESUME_CLUSTER\",\"RESUME_CLUSTER\",\"RESUME_CLUSTER\",\"RESUME_CLUSTER\",\"RESUME_CLUSTER\",\"RESUME_CLUSTER\",\"RESUME_CLUSTER\",\"RESUME_CLUSTER\",\"RESUME_CLUSTER\",\"RESUME_CLUSTER\"],\"yaxis\":\"y\",\"type\":\"scatter\"},{\"hovertemplate\":\"event_name=%{y}<br>timestamp=%{x}<extra></extra>\",\"legendgroup\":\"SPINUP_CLUSTER\",\"marker\":{\"color\":\"#00cc96\",\"symbol\":\"circle\"},\"mode\":\"markers\",\"name\":\"SPINUP_CLUSTER\",\"orientation\":\"v\",\"showlegend\":true,\"x\":[\"2022-12-13T14:33:32.883000-08:00\",\"2022-12-13T14:30:34.005000-08:00\",\"2022-12-13T14:30:33.705000-08:00\",\"2022-12-13T14:30:05.819000-08:00\",\"2022-12-13T14:30:04.465000-08:00\",\"2022-12-13T14:33:33.170000-08:00\",\"2022-12-13T14:59:42.690000-08:00\",\"2022-12-13T14:59:22.947000-08:00\",\"2022-12-13T14:59:22.697000-08:00\",\"2022-12-13T14:59:03.045000-08:00\",\"2022-12-13T14:59:02.706000-08:00\",\"2022-12-13T14:58:43.036000-08:00\",\"2022-12-13T14:58:42.689000-08:00\",\"2022-12-13T14:58:23.044000-08:00\",\"2022-12-13T14:58:22.691000-08:00\",\"2022-12-13T14:58:03.036000-08:00\",\"2022-12-13T14:58:02.701000-08:00\",\"2022-12-13T14:57:42.841000-08:00\",\"2022-12-13T14:57:42.617000-08:00\",\"2022-12-13T14:59:42.983000-08:00\"],\"xaxis\":\"x\",\"y\":[\"SPINUP_CLUSTER\",\"SPINUP_CLUSTER\",\"SPINUP_CLUSTER\",\"SPINUP_CLUSTER\",\"SPINUP_CLUSTER\",\"SPINUP_CLUSTER\",\"SPINUP_CLUSTER\",\"SPINUP_CLUSTER\",\"SPINUP_CLUSTER\",\"SPINUP_CLUSTER\",\"SPINUP_CLUSTER\",\"SPINUP_CLUSTER\",\"SPINUP_CLUSTER\",\"SPINUP_CLUSTER\",\"SPINUP_CLUSTER\",\"SPINUP_CLUSTER\",\"SPINUP_CLUSTER\",\"SPINUP_CLUSTER\",\"SPINUP_CLUSTER\",\"SPINUP_CLUSTER\"],\"yaxis\":\"y\",\"type\":\"scatter\"},{\"hovertemplate\":\"event_name=%{y}<br>timestamp=%{x}<extra></extra>\",\"legendgroup\":\"SPINDOWN_CLUSTER\",\"marker\":{\"color\":\"#ab63fa\",\"symbol\":\"circle\"},\"mode\":\"markers\",\"name\":\"SPINDOWN_CLUSTER\",\"orientation\":\"v\",\"showlegend\":true,\"x\":[\"2022-12-13T14:32:51.755000-08:00\",\"2022-12-13T14:32:51.459000-08:00\",\"2022-12-13T14:36:08.346000-08:00\",\"2022-12-13T14:36:08.662000-08:00\",\"2022-12-13T14:38:39.406000-08:00\",\"2022-12-13T14:38:39.249000-08:00\"],\"xaxis\":\"x\",\"y\":[\"SPINDOWN_CLUSTER\",\"SPINDOWN_CLUSTER\",\"SPINDOWN_CLUSTER\",\"SPINDOWN_CLUSTER\",\"SPINDOWN_CLUSTER\",\"SPINDOWN_CLUSTER\"],\"yaxis\":\"y\",\"type\":\"scatter\"},{\"hovertemplate\":\"event_name=%{y}<br>timestamp=%{x}<extra></extra>\",\"legendgroup\":\"SUSPEND_CLUSTER\",\"marker\":{\"color\":\"#FFA15A\",\"symbol\":\"circle\"},\"mode\":\"markers\",\"name\":\"SUSPEND_CLUSTER\",\"orientation\":\"v\",\"showlegend\":true,\"x\":[\"2022-12-13T14:32:51.755000-08:00\",\"2022-12-13T14:29:32.310000-08:00\",\"2022-12-13T14:16:56.126000-08:00\",\"2022-12-13T14:36:08.662000-08:00\",\"2022-12-13T14:11:04.069000-08:00\",\"2022-12-13T14:50:02.159000-08:00\",\"2022-12-13T14:38:39.405000-08:00\",\"2022-12-13T13:39:29.449000-08:00\",\"2022-12-13T13:24:29.505000-08:00\",\"2022-12-13T13:06:01.379000-08:00\",\"2022-12-13T13:04:22.660000-08:00\",\"2022-12-13T13:02:25.606000-08:00\",\"2022-12-13T13:58:54.883000-08:00\",\"2022-12-13T13:53:03.318000-08:00\",\"2022-12-13T13:49:45.096000-08:00\",\"2022-12-13T13:46:37.909000-08:00\",\"2022-12-13T13:43:42.672000-08:00\"],\"xaxis\":\"x\",\"y\":[\"SUSPEND_CLUSTER\",\"SUSPEND_CLUSTER\",\"SUSPEND_CLUSTER\",\"SUSPEND_CLUSTER\",\"SUSPEND_CLUSTER\",\"SUSPEND_CLUSTER\",\"SUSPEND_CLUSTER\",\"SUSPEND_CLUSTER\",\"SUSPEND_CLUSTER\",\"SUSPEND_CLUSTER\",\"SUSPEND_CLUSTER\",\"SUSPEND_CLUSTER\",\"SUSPEND_CLUSTER\",\"SUSPEND_CLUSTER\",\"SUSPEND_CLUSTER\",\"SUSPEND_CLUSTER\",\"SUSPEND_CLUSTER\"],\"yaxis\":\"y\",\"type\":\"scatter\"},{\"hovertemplate\":\"event_name=%{y}<br>timestamp=%{x}<extra></extra>\",\"legendgroup\":\"RESUME_WAREHOUSE\",\"marker\":{\"color\":\"#19d3f3\",\"symbol\":\"circle\"},\"mode\":\"markers\",\"name\":\"RESUME_WAREHOUSE\",\"orientation\":\"v\",\"showlegend\":true,\"x\":[\"2022-12-13T14:29:59.843000-08:00\",\"2022-12-13T14:29:59.633000-08:00\",\"2022-12-13T14:28:18.602000-08:00\",\"2022-12-13T14:28:18.271000-08:00\",\"2022-12-13T14:15:27.104000-08:00\",\"2022-12-13T14:15:26.260000-08:00\",\"2022-12-13T14:54:50.849000-08:00\",\"2022-12-13T14:54:50.601000-08:00\",\"2022-12-13T14:09:58.746000-08:00\",\"2022-12-13T13:37:58.500000-08:00\",\"2022-12-13T13:37:58.296000-08:00\",\"2022-12-13T13:23:14.663000-08:00\",\"2022-12-13T13:23:14.397000-08:00\",\"2022-12-13T13:04:39.872000-08:00\",\"2022-12-13T13:03:12.872000-08:00\",\"2022-12-13T13:03:12.690000-08:00\",\"2022-12-13T13:00:33.699000-08:00\",\"2022-12-13T13:00:26.779000-08:00\",\"2022-12-13T13:04:40.039000-08:00\",\"2022-12-13T13:41:44.709000-08:00\",\"2022-12-13T13:41:45.046000-08:00\",\"2022-12-13T14:09:58.521000-08:00\",\"2022-12-13T13:57:48.248000-08:00\",\"2022-12-13T13:57:47.960000-08:00\",\"2022-12-13T13:51:58.112000-08:00\",\"2022-12-13T13:51:57.842000-08:00\",\"2022-12-13T13:48:36.939000-08:00\",\"2022-12-13T13:48:36.767000-08:00\",\"2022-12-13T13:45:03.619000-08:00\",\"2022-12-13T13:45:02.880000-08:00\"],\"xaxis\":\"x\",\"y\":[\"RESUME_WAREHOUSE\",\"RESUME_WAREHOUSE\",\"RESUME_WAREHOUSE\",\"RESUME_WAREHOUSE\",\"RESUME_WAREHOUSE\",\"RESUME_WAREHOUSE\",\"RESUME_WAREHOUSE\",\"RESUME_WAREHOUSE\",\"RESUME_WAREHOUSE\",\"RESUME_WAREHOUSE\",\"RESUME_WAREHOUSE\",\"RESUME_WAREHOUSE\",\"RESUME_WAREHOUSE\",\"RESUME_WAREHOUSE\",\"RESUME_WAREHOUSE\",\"RESUME_WAREHOUSE\",\"RESUME_WAREHOUSE\",\"RESUME_WAREHOUSE\",\"RESUME_WAREHOUSE\",\"RESUME_WAREHOUSE\",\"RESUME_WAREHOUSE\",\"RESUME_WAREHOUSE\",\"RESUME_WAREHOUSE\",\"RESUME_WAREHOUSE\",\"RESUME_WAREHOUSE\",\"RESUME_WAREHOUSE\",\"RESUME_WAREHOUSE\",\"RESUME_WAREHOUSE\",\"RESUME_WAREHOUSE\",\"RESUME_WAREHOUSE\"],\"yaxis\":\"y\",\"type\":\"scatter\"},{\"hovertemplate\":\"era_start=%{x}<br>warehouse_id=%{y}<extra></extra>\",\"legendgroup\":\"\",\"marker\":{\"color\":\"#636efa\",\"symbol\":\"circle\"},\"mode\":\"markers\",\"name\":\"\",\"orientation\":\"v\",\"showlegend\":false,\"x\":[\"2022-12-13T14:47:53.060000-08:00\",\"2022-12-13T13:01:24.050000-08:00\",\"2022-12-13T13:01:12.148000-08:00\",\"2022-12-13T14:47:54.836000-08:00\",\"2022-12-13T14:28:27.080000-08:00\",\"2022-12-13T14:48:23.537000-08:00\",\"2022-12-13T14:31:45.222000-08:00\",\"2022-12-13T14:30:02.203000-08:00\",\"2022-12-13T14:47:46.089000-08:00\",\"2022-12-13T13:48:37.718000-08:00\",\"2022-12-13T13:41:58.149000-08:00\",\"2022-12-13T14:56:13.636000-08:00\",\"2022-12-13T13:45:34.112000-08:00\",\"2022-12-13T14:32:54.124000-08:00\",\"2022-12-13T13:01:00.075000-08:00\",\"2022-12-13T13:00:33.776000-08:00\",\"2022-12-13T14:55:54.508000-08:00\",\"2022-12-13T14:55:24.069000-08:00\",\"2022-12-13T14:33:16.377000-08:00\",\"2022-12-13T14:32:42.859000-08:00\",\"2022-12-13T13:42:10.847000-08:00\",\"2022-12-13T14:57:01.991000-08:00\",\"2022-12-13T14:57:00.300000-08:00\",\"2022-12-13T14:56:28.043000-08:00\",\"2022-12-13T13:38:19.102000-08:00\",\"2022-12-13T14:31:06.572000-08:00\",\"2022-12-13T14:57:01.178000-08:00\",\"2022-12-13T14:31:06.553000-08:00\",\"2022-12-13T13:52:01.119000-08:00\",\"2022-12-13T13:48:39.193000-08:00\",\"2022-12-13T13:45:13.104000-08:00\",\"2022-12-13T13:41:48.154000-08:00\",\"2022-12-13T13:42:40.023000-08:00\",\"2022-12-13T13:42:27.021000-08:00\",\"2022-12-13T13:01:18.151000-08:00\",\"2022-12-13T14:57:02.830000-08:00\",\"2022-12-13T14:47:48.405000-08:00\",\"2022-12-13T14:15:42.983000-08:00\",\"2022-12-13T14:57:30.052000-08:00\",\"2022-12-13T14:33:27.122000-08:00\",\"2022-12-13T14:31:46.343000-08:00\",\"2022-12-13T13:04:53.690000-08:00\",\"2022-12-13T14:57:34.755000-08:00\",\"2022-12-13T14:57:00.630000-08:00\",\"2022-12-13T14:55:17.928000-08:00\",\"2022-12-13T14:56:10.513000-08:00\",\"2022-12-13T14:32:51.325000-08:00\",\"2022-12-13T14:31:54.832000-08:00\",\"2022-12-13T14:55:47.725000-08:00\",\"2022-12-13T14:47:54.160000-08:00\",\"2022-12-13T13:00:44.766000-08:00\",\"2022-12-13T14:57:03.027000-08:00\",\"2022-12-13T14:31:47.589000-08:00\",\"2022-12-13T14:10:01.806000-08:00\",\"2022-12-13T14:47:46.852000-08:00\",\"2022-12-13T14:33:20.399000-08:00\",\"2022-12-13T13:45:06.483000-08:00\",\"2022-12-13T14:57:01.356000-08:00\",\"2022-12-13T14:56:25.927000-08:00\",\"2022-12-13T14:33:00.976000-08:00\",\"2022-12-13T13:01:22.475000-08:00\",\"2022-12-13T13:57:50.845000-08:00\",\"2022-12-13T14:31:48.007000-08:00\",\"2022-12-13T14:56:06.631000-08:00\",\"2022-12-13T14:57:02.223000-08:00\",\"2022-12-13T14:31:06.824000-08:00\",\"2022-12-13T14:55:58.026000-08:00\",\"2022-12-13T14:57:30.922000-08:00\",\"2022-12-13T14:33:16.802000-08:00\",\"2022-12-13T14:56:02.634000-08:00\",\"2022-12-13T13:23:23.758000-08:00\",\"2022-12-13T14:56:19.796000-08:00\",\"2022-12-13T13:42:38.872000-08:00\",\"2022-12-13T13:42:24.158000-08:00\",\"2022-12-13T14:33:09.775000-08:00\",\"2022-12-13T14:56:20.912000-08:00\",\"2022-12-13T14:33:17.007000-08:00\",\"2022-12-13T14:47:49.368000-08:00\",\"2022-12-13T14:54:52.891000-08:00\",\"2022-12-13T13:38:01.710000-08:00\",\"2022-12-13T13:03:21.463000-08:00\",\"2022-12-13T14:57:33.408000-08:00\",\"2022-12-13T14:56:22.933000-08:00\",\"2022-12-13T14:48:14.426000-08:00\",\"2022-12-13T13:01:02.813000-08:00\",\"2022-12-13T14:56:05.707000-08:00\",\"2022-12-13T14:31:09.032000-08:00\",\"2022-12-13T13:38:20.563000-08:00\",\"2022-12-13T14:34:56.861000-08:00\",\"2022-12-13T14:32:42.897000-08:00\",\"2022-12-13T14:35:24.699000-08:00\",\"2022-12-13T14:35:36.778000-08:00\",\"2022-12-13T14:34:48.162000-08:00\",\"2022-12-13T14:31:48.399000-08:00\",\"2022-12-13T14:32:37.041000-08:00\",\"2022-12-13T14:34:47.434000-08:00\",\"2022-12-13T14:30:08.577000-08:00\",\"2022-12-13T14:31:38.137000-08:00\",\"2022-12-13T14:34:33.695000-08:00\",\"2022-12-13T14:35:36.696000-08:00\",\"2022-12-13T14:33:36.650000-08:00\",\"2022-12-13T14:35:36.825000-08:00\",\"2022-12-13T14:57:43.461000-08:00\",\"2022-12-13T14:34:08.046000-08:00\",\"2022-12-13T14:31:06.553000-08:00\",\"2022-12-13T14:30:39.606000-08:00\",\"2022-12-13T14:58:04.224000-08:00\",\"2022-12-13T14:31:10.597000-08:00\",\"2022-12-13T14:33:30.775000-08:00\",\"2022-12-13T14:31:28.147000-08:00\",\"2022-12-13T14:31:51.382000-08:00\",\"2022-12-13T14:34:47.895000-08:00\",\"2022-12-13T14:32:07.534000-08:00\",\"2022-12-13T14:32:37.457000-08:00\",\"2022-12-13T14:32:18.352000-08:00\",\"2022-12-13T14:34:48.329000-08:00\",\"2022-12-13T14:31:57.684000-08:00\",\"2022-12-13T14:34:48.266000-08:00\",\"2022-12-13T14:35:36.795000-08:00\",\"2022-12-13T14:32:00.694000-08:00\",\"2022-12-13T14:33:16.796000-08:00\",\"2022-12-13T14:32:10.695000-08:00\",\"2022-12-13T14:58:24.415000-08:00\",\"2022-12-13T14:58:43.586000-08:00\",\"2022-12-13T14:59:04.545000-08:00\",\"2022-12-13T14:59:23.540000-08:00\",\"2022-12-13T14:59:42.444000-08:00\"],\"xaxis\":\"x2\",\"y\":[\"{\\n  \\\"cluster_number\\\": 1,\\n  \\\"warehouse_id\\\": 97\\n}\",\"{\\n  \\\"cluster_number\\\": 1,\\n  \\\"warehouse_id\\\": 97\\n}\",\"{\\n  \\\"cluster_number\\\": 1,\\n  \\\"warehouse_id\\\": 97\\n}\",\"{\\n  \\\"cluster_number\\\": 1,\\n  \\\"warehouse_id\\\": 97\\n}\",\"{\\n  \\\"cluster_number\\\": 1,\\n  \\\"warehouse_id\\\": 97\\n}\",\"{\\n  \\\"cluster_number\\\": 1,\\n  \\\"warehouse_id\\\": 97\\n}\",\"{\\n  \\\"cluster_number\\\": 1,\\n  \\\"warehouse_id\\\": 97\\n}\",\"{\\n  \\\"cluster_number\\\": 1,\\n  \\\"warehouse_id\\\": 97\\n}\",\"{\\n  \\\"cluster_number\\\": 1,\\n  \\\"warehouse_id\\\": 97\\n}\",\"{\\n  \\\"cluster_number\\\": 1,\\n  \\\"warehouse_id\\\": 97\\n}\",\"{\\n  \\\"cluster_number\\\": 1,\\n  \\\"warehouse_id\\\": 97\\n}\",\"{\\n  \\\"cluster_number\\\": 1,\\n  \\\"warehouse_id\\\": 97\\n}\",\"{\\n  \\\"cluster_number\\\": 1,\\n  \\\"warehouse_id\\\": 97\\n}\",\"{\\n  \\\"cluster_number\\\": 1,\\n  \\\"warehouse_id\\\": 97\\n}\",\"{\\n  \\\"cluster_number\\\": 1,\\n  \\\"warehouse_id\\\": 97\\n}\",\"{\\n  \\\"cluster_number\\\": 1,\\n  \\\"warehouse_id\\\": 97\\n}\",\"{\\n  \\\"cluster_number\\\": 1,\\n  \\\"warehouse_id\\\": 97\\n}\",\"{\\n  \\\"cluster_number\\\": 1,\\n  \\\"warehouse_id\\\": 97\\n}\",\"{\\n  \\\"cluster_number\\\": 1,\\n  \\\"warehouse_id\\\": 97\\n}\",\"{\\n  \\\"cluster_number\\\": 1,\\n  \\\"warehouse_id\\\": 97\\n}\",\"{\\n  \\\"cluster_number\\\": 1,\\n  \\\"warehouse_id\\\": 97\\n}\",\"{\\n  \\\"cluster_number\\\": 1,\\n  \\\"warehouse_id\\\": 97\\n}\",\"{\\n  \\\"cluster_number\\\": 1,\\n  \\\"warehouse_id\\\": 97\\n}\",\"{\\n  \\\"cluster_number\\\": 1,\\n  \\\"warehouse_id\\\": 97\\n}\",\"{\\n  \\\"cluster_number\\\": 1,\\n  \\\"warehouse_id\\\": 97\\n}\",\"{\\n  \\\"cluster_number\\\": 1,\\n  \\\"warehouse_id\\\": 97\\n}\",\"{\\n  \\\"cluster_number\\\": 1,\\n  \\\"warehouse_id\\\": 97\\n}\",\"{\\n  \\\"cluster_number\\\": 1,\\n  \\\"warehouse_id\\\": 97\\n}\",\"{\\n  \\\"cluster_number\\\": 1,\\n  \\\"warehouse_id\\\": 97\\n}\",\"{\\n  \\\"cluster_number\\\": 1,\\n  \\\"warehouse_id\\\": 97\\n}\",\"{\\n  \\\"cluster_number\\\": 1,\\n  \\\"warehouse_id\\\": 97\\n}\",\"{\\n  \\\"cluster_number\\\": 1,\\n  \\\"warehouse_id\\\": 97\\n}\",\"{\\n  \\\"cluster_number\\\": 1,\\n  \\\"warehouse_id\\\": 97\\n}\",\"{\\n  \\\"cluster_number\\\": 1,\\n  \\\"warehouse_id\\\": 97\\n}\",\"{\\n  \\\"cluster_number\\\": 1,\\n  \\\"warehouse_id\\\": 97\\n}\",\"{\\n  \\\"cluster_number\\\": 1,\\n  \\\"warehouse_id\\\": 97\\n}\",\"{\\n  \\\"cluster_number\\\": 1,\\n  \\\"warehouse_id\\\": 97\\n}\",\"{\\n  \\\"cluster_number\\\": 1,\\n  \\\"warehouse_id\\\": 97\\n}\",\"{\\n  \\\"cluster_number\\\": 1,\\n  \\\"warehouse_id\\\": 97\\n}\",\"{\\n  \\\"cluster_number\\\": 1,\\n  \\\"warehouse_id\\\": 97\\n}\",\"{\\n  \\\"cluster_number\\\": 1,\\n  \\\"warehouse_id\\\": 97\\n}\",\"{\\n  \\\"cluster_number\\\": 1,\\n  \\\"warehouse_id\\\": 97\\n}\",\"{\\n  \\\"cluster_number\\\": 1,\\n  \\\"warehouse_id\\\": 97\\n}\",\"{\\n  \\\"cluster_number\\\": 1,\\n  \\\"warehouse_id\\\": 97\\n}\",\"{\\n  \\\"cluster_number\\\": 1,\\n  \\\"warehouse_id\\\": 97\\n}\",\"{\\n  \\\"cluster_number\\\": 1,\\n  \\\"warehouse_id\\\": 97\\n}\",\"{\\n  \\\"cluster_number\\\": 1,\\n  \\\"warehouse_id\\\": 97\\n}\",\"{\\n  \\\"cluster_number\\\": 1,\\n  \\\"warehouse_id\\\": 97\\n}\",\"{\\n  \\\"cluster_number\\\": 1,\\n  \\\"warehouse_id\\\": 97\\n}\",\"{\\n  \\\"cluster_number\\\": 1,\\n  \\\"warehouse_id\\\": 97\\n}\",\"{\\n  \\\"cluster_number\\\": 1,\\n  \\\"warehouse_id\\\": 97\\n}\",\"{\\n  \\\"cluster_number\\\": 1,\\n  \\\"warehouse_id\\\": 97\\n}\",\"{\\n  \\\"cluster_number\\\": 1,\\n  \\\"warehouse_id\\\": 97\\n}\",\"{\\n  \\\"cluster_number\\\": 1,\\n  \\\"warehouse_id\\\": 97\\n}\",\"{\\n  \\\"cluster_number\\\": 1,\\n  \\\"warehouse_id\\\": 97\\n}\",\"{\\n  \\\"cluster_number\\\": 1,\\n  \\\"warehouse_id\\\": 97\\n}\",\"{\\n  \\\"cluster_number\\\": 1,\\n  \\\"warehouse_id\\\": 97\\n}\",\"{\\n  \\\"cluster_number\\\": 1,\\n  \\\"warehouse_id\\\": 97\\n}\",\"{\\n  \\\"cluster_number\\\": 1,\\n  \\\"warehouse_id\\\": 97\\n}\",\"{\\n  \\\"cluster_number\\\": 1,\\n  \\\"warehouse_id\\\": 97\\n}\",\"{\\n  \\\"cluster_number\\\": 1,\\n  \\\"warehouse_id\\\": 97\\n}\",\"{\\n  \\\"cluster_number\\\": 1,\\n  \\\"warehouse_id\\\": 97\\n}\",\"{\\n  \\\"cluster_number\\\": 1,\\n  \\\"warehouse_id\\\": 97\\n}\",\"{\\n  \\\"cluster_number\\\": 1,\\n  \\\"warehouse_id\\\": 97\\n}\",\"{\\n  \\\"cluster_number\\\": 1,\\n  \\\"warehouse_id\\\": 97\\n}\",\"{\\n  \\\"cluster_number\\\": 1,\\n  \\\"warehouse_id\\\": 97\\n}\",\"{\\n  \\\"cluster_number\\\": 1,\\n  \\\"warehouse_id\\\": 97\\n}\",\"{\\n  \\\"cluster_number\\\": 1,\\n  \\\"warehouse_id\\\": 97\\n}\",\"{\\n  \\\"cluster_number\\\": 1,\\n  \\\"warehouse_id\\\": 97\\n}\",\"{\\n  \\\"cluster_number\\\": 1,\\n  \\\"warehouse_id\\\": 97\\n}\",\"{\\n  \\\"cluster_number\\\": 1,\\n  \\\"warehouse_id\\\": 97\\n}\",\"{\\n  \\\"cluster_number\\\": 1,\\n  \\\"warehouse_id\\\": 97\\n}\",\"{\\n  \\\"cluster_number\\\": 1,\\n  \\\"warehouse_id\\\": 97\\n}\",\"{\\n  \\\"cluster_number\\\": 1,\\n  \\\"warehouse_id\\\": 97\\n}\",\"{\\n  \\\"cluster_number\\\": 1,\\n  \\\"warehouse_id\\\": 97\\n}\",\"{\\n  \\\"cluster_number\\\": 1,\\n  \\\"warehouse_id\\\": 97\\n}\",\"{\\n  \\\"cluster_number\\\": 1,\\n  \\\"warehouse_id\\\": 97\\n}\",\"{\\n  \\\"cluster_number\\\": 1,\\n  \\\"warehouse_id\\\": 97\\n}\",\"{\\n  \\\"cluster_number\\\": 1,\\n  \\\"warehouse_id\\\": 97\\n}\",\"{\\n  \\\"cluster_number\\\": 1,\\n  \\\"warehouse_id\\\": 97\\n}\",\"{\\n  \\\"cluster_number\\\": 1,\\n  \\\"warehouse_id\\\": 97\\n}\",\"{\\n  \\\"cluster_number\\\": 1,\\n  \\\"warehouse_id\\\": 97\\n}\",\"{\\n  \\\"cluster_number\\\": 1,\\n  \\\"warehouse_id\\\": 97\\n}\",\"{\\n  \\\"cluster_number\\\": 1,\\n  \\\"warehouse_id\\\": 97\\n}\",\"{\\n  \\\"cluster_number\\\": 1,\\n  \\\"warehouse_id\\\": 97\\n}\",\"{\\n  \\\"cluster_number\\\": 1,\\n  \\\"warehouse_id\\\": 97\\n}\",\"{\\n  \\\"cluster_number\\\": 1,\\n  \\\"warehouse_id\\\": 97\\n}\",\"{\\n  \\\"cluster_number\\\": 1,\\n  \\\"warehouse_id\\\": 97\\n}\",\"{\\n  \\\"cluster_number\\\": 2,\\n  \\\"warehouse_id\\\": 97\\n}\",\"{\\n  \\\"cluster_number\\\": 2,\\n  \\\"warehouse_id\\\": 97\\n}\",\"{\\n  \\\"cluster_number\\\": 2,\\n  \\\"warehouse_id\\\": 97\\n}\",\"{\\n  \\\"cluster_number\\\": 2,\\n  \\\"warehouse_id\\\": 97\\n}\",\"{\\n  \\\"cluster_number\\\": 2,\\n  \\\"warehouse_id\\\": 97\\n}\",\"{\\n  \\\"cluster_number\\\": 2,\\n  \\\"warehouse_id\\\": 97\\n}\",\"{\\n  \\\"cluster_number\\\": 2,\\n  \\\"warehouse_id\\\": 97\\n}\",\"{\\n  \\\"cluster_number\\\": 2,\\n  \\\"warehouse_id\\\": 97\\n}\",\"{\\n  \\\"cluster_number\\\": 2,\\n  \\\"warehouse_id\\\": 97\\n}\",\"{\\n  \\\"cluster_number\\\": 2,\\n  \\\"warehouse_id\\\": 97\\n}\",\"{\\n  \\\"cluster_number\\\": 2,\\n  \\\"warehouse_id\\\": 97\\n}\",\"{\\n  \\\"cluster_number\\\": 2,\\n  \\\"warehouse_id\\\": 97\\n}\",\"{\\n  \\\"cluster_number\\\": 2,\\n  \\\"warehouse_id\\\": 97\\n}\",\"{\\n  \\\"cluster_number\\\": 2,\\n  \\\"warehouse_id\\\": 97\\n}\",\"{\\n  \\\"cluster_number\\\": 2,\\n  \\\"warehouse_id\\\": 97\\n}\",\"{\\n  \\\"cluster_number\\\": 2,\\n  \\\"warehouse_id\\\": 97\\n}\",\"{\\n  \\\"cluster_number\\\": 3,\\n  \\\"warehouse_id\\\": 97\\n}\",\"{\\n  \\\"cluster_number\\\": 3,\\n  \\\"warehouse_id\\\": 97\\n}\",\"{\\n  \\\"cluster_number\\\": 3,\\n  \\\"warehouse_id\\\": 97\\n}\",\"{\\n  \\\"cluster_number\\\": 3,\\n  \\\"warehouse_id\\\": 97\\n}\",\"{\\n  \\\"cluster_number\\\": 3,\\n  \\\"warehouse_id\\\": 97\\n}\",\"{\\n  \\\"cluster_number\\\": 3,\\n  \\\"warehouse_id\\\": 97\\n}\",\"{\\n  \\\"cluster_number\\\": 3,\\n  \\\"warehouse_id\\\": 97\\n}\",\"{\\n  \\\"cluster_number\\\": 3,\\n  \\\"warehouse_id\\\": 97\\n}\",\"{\\n  \\\"cluster_number\\\": 3,\\n  \\\"warehouse_id\\\": 97\\n}\",\"{\\n  \\\"cluster_number\\\": 3,\\n  \\\"warehouse_id\\\": 97\\n}\",\"{\\n  \\\"cluster_number\\\": 3,\\n  \\\"warehouse_id\\\": 97\\n}\",\"{\\n  \\\"cluster_number\\\": 3,\\n  \\\"warehouse_id\\\": 97\\n}\",\"{\\n  \\\"cluster_number\\\": 3,\\n  \\\"warehouse_id\\\": 97\\n}\",\"{\\n  \\\"cluster_number\\\": 3,\\n  \\\"warehouse_id\\\": 97\\n}\",\"{\\n  \\\"cluster_number\\\": 3,\\n  \\\"warehouse_id\\\": 97\\n}\",\"{\\n  \\\"cluster_number\\\": 3,\\n  \\\"warehouse_id\\\": 97\\n}\",\"{\\n  \\\"cluster_number\\\": 3,\\n  \\\"warehouse_id\\\": 97\\n}\",\"{\\n  \\\"cluster_number\\\": 3,\\n  \\\"warehouse_id\\\": 97\\n}\",\"{\\n  \\\"cluster_number\\\": 4,\\n  \\\"warehouse_id\\\": 97\\n}\",\"{\\n  \\\"cluster_number\\\": 5,\\n  \\\"warehouse_id\\\": 97\\n}\",\"{\\n  \\\"cluster_number\\\": 6,\\n  \\\"warehouse_id\\\": 97\\n}\",\"{\\n  \\\"cluster_number\\\": 7,\\n  \\\"warehouse_id\\\": 97\\n}\",\"{\\n  \\\"cluster_number\\\": 8,\\n  \\\"warehouse_id\\\": 97\\n}\"],\"yaxis\":\"y2\",\"type\":\"scatter\"},{\"alignmentgroup\":\"True\",\"base\":[\"2022-12-13T14:47:53.060000-08:00\",\"2022-12-13T13:01:24.050000-08:00\",\"2022-12-13T13:01:12.148000-08:00\",\"2022-12-13T14:47:54.836000-08:00\",\"2022-12-13T14:28:27.080000-08:00\",\"2022-12-13T14:48:23.537000-08:00\",\"2022-12-13T14:31:45.222000-08:00\",\"2022-12-13T14:30:02.203000-08:00\",\"2022-12-13T14:47:46.089000-08:00\",\"2022-12-13T13:48:37.718000-08:00\",\"2022-12-13T13:41:58.149000-08:00\",\"2022-12-13T14:56:13.636000-08:00\",\"2022-12-13T13:45:34.112000-08:00\",\"2022-12-13T14:32:54.124000-08:00\",\"2022-12-13T13:01:00.075000-08:00\",\"2022-12-13T13:00:33.776000-08:00\",\"2022-12-13T14:55:54.508000-08:00\",\"2022-12-13T14:55:24.069000-08:00\",\"2022-12-13T14:33:16.377000-08:00\",\"2022-12-13T14:32:42.859000-08:00\",\"2022-12-13T13:42:10.847000-08:00\",\"2022-12-13T14:57:01.991000-08:00\",\"2022-12-13T14:57:00.300000-08:00\",\"2022-12-13T14:56:28.043000-08:00\",\"2022-12-13T13:38:19.102000-08:00\",\"2022-12-13T14:31:06.572000-08:00\",\"2022-12-13T14:57:01.178000-08:00\",\"2022-12-13T14:31:06.553000-08:00\",\"2022-12-13T13:52:01.119000-08:00\",\"2022-12-13T13:48:39.193000-08:00\",\"2022-12-13T13:45:13.104000-08:00\",\"2022-12-13T13:41:48.154000-08:00\",\"2022-12-13T13:42:40.023000-08:00\",\"2022-12-13T13:42:27.021000-08:00\",\"2022-12-13T13:01:18.151000-08:00\",\"2022-12-13T14:57:02.830000-08:00\",\"2022-12-13T14:47:48.405000-08:00\",\"2022-12-13T14:15:42.983000-08:00\",\"2022-12-13T14:57:30.052000-08:00\",\"2022-12-13T14:33:27.122000-08:00\",\"2022-12-13T14:31:46.343000-08:00\",\"2022-12-13T13:04:53.690000-08:00\",\"2022-12-13T14:57:34.755000-08:00\",\"2022-12-13T14:57:00.630000-08:00\",\"2022-12-13T14:55:17.928000-08:00\",\"2022-12-13T14:56:10.513000-08:00\",\"2022-12-13T14:32:51.325000-08:00\",\"2022-12-13T14:31:54.832000-08:00\",\"2022-12-13T14:55:47.725000-08:00\",\"2022-12-13T14:47:54.160000-08:00\",\"2022-12-13T13:00:44.766000-08:00\",\"2022-12-13T14:57:03.027000-08:00\",\"2022-12-13T14:31:47.589000-08:00\",\"2022-12-13T14:10:01.806000-08:00\",\"2022-12-13T14:47:46.852000-08:00\",\"2022-12-13T14:33:20.399000-08:00\",\"2022-12-13T13:45:06.483000-08:00\",\"2022-12-13T14:57:01.356000-08:00\",\"2022-12-13T14:56:25.927000-08:00\",\"2022-12-13T14:33:00.976000-08:00\",\"2022-12-13T13:01:22.475000-08:00\",\"2022-12-13T13:57:50.845000-08:00\",\"2022-12-13T14:31:48.007000-08:00\",\"2022-12-13T14:56:06.631000-08:00\",\"2022-12-13T14:57:02.223000-08:00\",\"2022-12-13T14:31:06.824000-08:00\",\"2022-12-13T14:55:58.026000-08:00\",\"2022-12-13T14:57:30.922000-08:00\",\"2022-12-13T14:33:16.802000-08:00\",\"2022-12-13T14:56:02.634000-08:00\",\"2022-12-13T13:23:23.758000-08:00\",\"2022-12-13T14:56:19.796000-08:00\",\"2022-12-13T13:42:38.872000-08:00\",\"2022-12-13T13:42:24.158000-08:00\",\"2022-12-13T14:33:09.775000-08:00\",\"2022-12-13T14:56:20.912000-08:00\",\"2022-12-13T14:33:17.007000-08:00\",\"2022-12-13T14:47:49.368000-08:00\",\"2022-12-13T14:54:52.891000-08:00\",\"2022-12-13T13:38:01.710000-08:00\",\"2022-12-13T13:03:21.463000-08:00\",\"2022-12-13T14:57:33.408000-08:00\",\"2022-12-13T14:56:22.933000-08:00\",\"2022-12-13T14:48:14.426000-08:00\",\"2022-12-13T13:01:02.813000-08:00\",\"2022-12-13T14:56:05.707000-08:00\",\"2022-12-13T14:31:09.032000-08:00\",\"2022-12-13T13:38:20.563000-08:00\",\"2022-12-13T14:34:56.861000-08:00\",\"2022-12-13T14:32:42.897000-08:00\",\"2022-12-13T14:35:24.699000-08:00\",\"2022-12-13T14:35:36.778000-08:00\",\"2022-12-13T14:34:48.162000-08:00\",\"2022-12-13T14:31:48.399000-08:00\",\"2022-12-13T14:32:37.041000-08:00\",\"2022-12-13T14:34:47.434000-08:00\",\"2022-12-13T14:30:08.577000-08:00\",\"2022-12-13T14:31:38.137000-08:00\",\"2022-12-13T14:34:33.695000-08:00\",\"2022-12-13T14:35:36.696000-08:00\",\"2022-12-13T14:33:36.650000-08:00\",\"2022-12-13T14:35:36.825000-08:00\",\"2022-12-13T14:57:43.461000-08:00\",\"2022-12-13T14:34:08.046000-08:00\",\"2022-12-13T14:31:06.553000-08:00\",\"2022-12-13T14:30:39.606000-08:00\",\"2022-12-13T14:58:04.224000-08:00\",\"2022-12-13T14:31:10.597000-08:00\",\"2022-12-13T14:33:30.775000-08:00\",\"2022-12-13T14:31:28.147000-08:00\",\"2022-12-13T14:31:51.382000-08:00\",\"2022-12-13T14:34:47.895000-08:00\",\"2022-12-13T14:32:07.534000-08:00\",\"2022-12-13T14:32:37.457000-08:00\",\"2022-12-13T14:32:18.352000-08:00\",\"2022-12-13T14:34:48.329000-08:00\",\"2022-12-13T14:31:57.684000-08:00\",\"2022-12-13T14:34:48.266000-08:00\",\"2022-12-13T14:35:36.795000-08:00\",\"2022-12-13T14:32:00.694000-08:00\",\"2022-12-13T14:33:16.796000-08:00\",\"2022-12-13T14:32:10.695000-08:00\",\"2022-12-13T14:58:24.415000-08:00\",\"2022-12-13T14:58:43.586000-08:00\",\"2022-12-13T14:59:04.545000-08:00\",\"2022-12-13T14:59:23.540000-08:00\",\"2022-12-13T14:59:42.444000-08:00\"],\"hovertemplate\":\"era_start=%{base}<br>era_end=%{x}<br>warehouse_id=%{y}<extra></extra>\",\"legendgroup\":\"\",\"marker\":{\"color\":\"#636efa\",\"pattern\":{\"shape\":\"\"}},\"name\":\"\",\"offsetgroup\":\"\",\"orientation\":\"h\",\"showlegend\":false,\"textposition\":\"auto\",\"x\":[486.0,1527.0,3199.0,277.0,5341.0,38624.0,1051.0,63107.0,333.0,38.0,12356.0,819.0,3850.0,1174.0,2017.0,8866.0,540.0,725.0,416.0,5753.0,9825.0,54.0,59.0,360.0,14.0,13.0,43.0,13.0,2194.0,5671.0,20685.0,7921.0,2439.0,10961.0,3358.0,40.0,593.0,12844.0,552.0,840725.0,546.0,8281.0,1411329.0,312.0,1934.0,2695.0,832.0,44671.0,1799.0,292.0,11897.0,313.0,238.0,2205.0,385.0,5870.0,2813.0,428.0,548.0,7025.0,11.0,3923.0,5110.0,612.0,396.0,31.0,1154.0,635.0,12.0,302.0,6295.0,553.0,13.0,2321.0,2339.0,620.0,13.0,335.0,1031.0,15434.0,1118.0,1228.0,726.0,249.0,7921.0,466.0,33358.0,8685.0,27123.0,6179.0,9165.0,11.0,191.0,46577.0,3438.0,595.0,83165.0,4399.0,10960.0,9.0,24529.0,14.0,1188394.0,24938.0,12.0,26557.0,1192227.0,312.0,17532.0,4445.0,24.0,96.0,1485.0,29401.0,12368.0,1490.0,1385.0,10.0,1541.0,5043.0,955.0,2284.0,1238165.0,1178275.0,1059121.0,1088014.0,557982.0],\"xaxis\":\"x3\",\"y\":[\"{\\n  \\\"cluster_number\\\": 1,\\n  \\\"warehouse_id\\\": 97\\n}\",\"{\\n  \\\"cluster_number\\\": 1,\\n  \\\"warehouse_id\\\": 97\\n}\",\"{\\n  \\\"cluster_number\\\": 1,\\n  \\\"warehouse_id\\\": 97\\n}\",\"{\\n  \\\"cluster_number\\\": 1,\\n  \\\"warehouse_id\\\": 97\\n}\",\"{\\n  \\\"cluster_number\\\": 1,\\n  \\\"warehouse_id\\\": 97\\n}\",\"{\\n  \\\"cluster_number\\\": 1,\\n  \\\"warehouse_id\\\": 97\\n}\",\"{\\n  \\\"cluster_number\\\": 1,\\n  \\\"warehouse_id\\\": 97\\n}\",\"{\\n  \\\"cluster_number\\\": 1,\\n  \\\"warehouse_id\\\": 97\\n}\",\"{\\n  \\\"cluster_number\\\": 1,\\n  \\\"warehouse_id\\\": 97\\n}\",\"{\\n  \\\"cluster_number\\\": 1,\\n  \\\"warehouse_id\\\": 97\\n}\",\"{\\n  \\\"cluster_number\\\": 1,\\n  \\\"warehouse_id\\\": 97\\n}\",\"{\\n  \\\"cluster_number\\\": 1,\\n  \\\"warehouse_id\\\": 97\\n}\",\"{\\n  \\\"cluster_number\\\": 1,\\n  \\\"warehouse_id\\\": 97\\n}\",\"{\\n  \\\"cluster_number\\\": 1,\\n  \\\"warehouse_id\\\": 97\\n}\",\"{\\n  \\\"cluster_number\\\": 1,\\n  \\\"warehouse_id\\\": 97\\n}\",\"{\\n  \\\"cluster_number\\\": 1,\\n  \\\"warehouse_id\\\": 97\\n}\",\"{\\n  \\\"cluster_number\\\": 1,\\n  \\\"warehouse_id\\\": 97\\n}\",\"{\\n  \\\"cluster_number\\\": 1,\\n  \\\"warehouse_id\\\": 97\\n}\",\"{\\n  \\\"cluster_number\\\": 1,\\n  \\\"warehouse_id\\\": 97\\n}\",\"{\\n  \\\"cluster_number\\\": 1,\\n  \\\"warehouse_id\\\": 97\\n}\",\"{\\n  \\\"cluster_number\\\": 1,\\n  \\\"warehouse_id\\\": 97\\n}\",\"{\\n  \\\"cluster_number\\\": 1,\\n  \\\"warehouse_id\\\": 97\\n}\",\"{\\n  \\\"cluster_number\\\": 1,\\n  \\\"warehouse_id\\\": 97\\n}\",\"{\\n  \\\"cluster_number\\\": 1,\\n  \\\"warehouse_id\\\": 97\\n}\",\"{\\n  \\\"cluster_number\\\": 1,\\n  \\\"warehouse_id\\\": 97\\n}\",\"{\\n  \\\"cluster_number\\\": 1,\\n  \\\"warehouse_id\\\": 97\\n}\",\"{\\n  \\\"cluster_number\\\": 1,\\n  \\\"warehouse_id\\\": 97\\n}\",\"{\\n  \\\"cluster_number\\\": 1,\\n  \\\"warehouse_id\\\": 97\\n}\",\"{\\n  \\\"cluster_number\\\": 1,\\n  \\\"warehouse_id\\\": 97\\n}\",\"{\\n  \\\"cluster_number\\\": 1,\\n  \\\"warehouse_id\\\": 97\\n}\",\"{\\n  \\\"cluster_number\\\": 1,\\n  \\\"warehouse_id\\\": 97\\n}\",\"{\\n  \\\"cluster_number\\\": 1,\\n  \\\"warehouse_id\\\": 97\\n}\",\"{\\n  \\\"cluster_number\\\": 1,\\n  \\\"warehouse_id\\\": 97\\n}\",\"{\\n  \\\"cluster_number\\\": 1,\\n  \\\"warehouse_id\\\": 97\\n}\",\"{\\n  \\\"cluster_number\\\": 1,\\n  \\\"warehouse_id\\\": 97\\n}\",\"{\\n  \\\"cluster_number\\\": 1,\\n  \\\"warehouse_id\\\": 97\\n}\",\"{\\n  \\\"cluster_number\\\": 1,\\n  \\\"warehouse_id\\\": 97\\n}\",\"{\\n  \\\"cluster_number\\\": 1,\\n  \\\"warehouse_id\\\": 97\\n}\",\"{\\n  \\\"cluster_number\\\": 1,\\n  \\\"warehouse_id\\\": 97\\n}\",\"{\\n  \\\"cluster_number\\\": 1,\\n  \\\"warehouse_id\\\": 97\\n}\",\"{\\n  \\\"cluster_number\\\": 1,\\n  \\\"warehouse_id\\\": 97\\n}\",\"{\\n  \\\"cluster_number\\\": 1,\\n  \\\"warehouse_id\\\": 97\\n}\",\"{\\n  \\\"cluster_number\\\": 1,\\n  \\\"warehouse_id\\\": 97\\n}\",\"{\\n  \\\"cluster_number\\\": 1,\\n  \\\"warehouse_id\\\": 97\\n}\",\"{\\n  \\\"cluster_number\\\": 1,\\n  \\\"warehouse_id\\\": 97\\n}\",\"{\\n  \\\"cluster_number\\\": 1,\\n  \\\"warehouse_id\\\": 97\\n}\",\"{\\n  \\\"cluster_number\\\": 1,\\n  \\\"warehouse_id\\\": 97\\n}\",\"{\\n  \\\"cluster_number\\\": 1,\\n  \\\"warehouse_id\\\": 97\\n}\",\"{\\n  \\\"cluster_number\\\": 1,\\n  \\\"warehouse_id\\\": 97\\n}\",\"{\\n  \\\"cluster_number\\\": 1,\\n  \\\"warehouse_id\\\": 97\\n}\",\"{\\n  \\\"cluster_number\\\": 1,\\n  \\\"warehouse_id\\\": 97\\n}\",\"{\\n  \\\"cluster_number\\\": 1,\\n  \\\"warehouse_id\\\": 97\\n}\",\"{\\n  \\\"cluster_number\\\": 1,\\n  \\\"warehouse_id\\\": 97\\n}\",\"{\\n  \\\"cluster_number\\\": 1,\\n  \\\"warehouse_id\\\": 97\\n}\",\"{\\n  \\\"cluster_number\\\": 1,\\n  \\\"warehouse_id\\\": 97\\n}\",\"{\\n  \\\"cluster_number\\\": 1,\\n  \\\"warehouse_id\\\": 97\\n}\",\"{\\n  \\\"cluster_number\\\": 1,\\n  \\\"warehouse_id\\\": 97\\n}\",\"{\\n  \\\"cluster_number\\\": 1,\\n  \\\"warehouse_id\\\": 97\\n}\",\"{\\n  \\\"cluster_number\\\": 1,\\n  \\\"warehouse_id\\\": 97\\n}\",\"{\\n  \\\"cluster_number\\\": 1,\\n  \\\"warehouse_id\\\": 97\\n}\",\"{\\n  \\\"cluster_number\\\": 1,\\n  \\\"warehouse_id\\\": 97\\n}\",\"{\\n  \\\"cluster_number\\\": 1,\\n  \\\"warehouse_id\\\": 97\\n}\",\"{\\n  \\\"cluster_number\\\": 1,\\n  \\\"warehouse_id\\\": 97\\n}\",\"{\\n  \\\"cluster_number\\\": 1,\\n  \\\"warehouse_id\\\": 97\\n}\",\"{\\n  \\\"cluster_number\\\": 1,\\n  \\\"warehouse_id\\\": 97\\n}\",\"{\\n  \\\"cluster_number\\\": 1,\\n  \\\"warehouse_id\\\": 97\\n}\",\"{\\n  \\\"cluster_number\\\": 1,\\n  \\\"warehouse_id\\\": 97\\n}\",\"{\\n  \\\"cluster_number\\\": 1,\\n  \\\"warehouse_id\\\": 97\\n}\",\"{\\n  \\\"cluster_number\\\": 1,\\n  \\\"warehouse_id\\\": 97\\n}\",\"{\\n  \\\"cluster_number\\\": 1,\\n  \\\"warehouse_id\\\": 97\\n}\",\"{\\n  \\\"cluster_number\\\": 1,\\n  \\\"warehouse_id\\\": 97\\n}\",\"{\\n  \\\"cluster_number\\\": 1,\\n  \\\"warehouse_id\\\": 97\\n}\",\"{\\n  \\\"cluster_number\\\": 1,\\n  \\\"warehouse_id\\\": 97\\n}\",\"{\\n  \\\"cluster_number\\\": 1,\\n  \\\"warehouse_id\\\": 97\\n}\",\"{\\n  \\\"cluster_number\\\": 1,\\n  \\\"warehouse_id\\\": 97\\n}\",\"{\\n  \\\"cluster_number\\\": 1,\\n  \\\"warehouse_id\\\": 97\\n}\",\"{\\n  \\\"cluster_number\\\": 1,\\n  \\\"warehouse_id\\\": 97\\n}\",\"{\\n  \\\"cluster_number\\\": 1,\\n  \\\"warehouse_id\\\": 97\\n}\",\"{\\n  \\\"cluster_number\\\": 1,\\n  \\\"warehouse_id\\\": 97\\n}\",\"{\\n  \\\"cluster_number\\\": 1,\\n  \\\"warehouse_id\\\": 97\\n}\",\"{\\n  \\\"cluster_number\\\": 1,\\n  \\\"warehouse_id\\\": 97\\n}\",\"{\\n  \\\"cluster_number\\\": 1,\\n  \\\"warehouse_id\\\": 97\\n}\",\"{\\n  \\\"cluster_number\\\": 1,\\n  \\\"warehouse_id\\\": 97\\n}\",\"{\\n  \\\"cluster_number\\\": 1,\\n  \\\"warehouse_id\\\": 97\\n}\",\"{\\n  \\\"cluster_number\\\": 1,\\n  \\\"warehouse_id\\\": 97\\n}\",\"{\\n  \\\"cluster_number\\\": 1,\\n  \\\"warehouse_id\\\": 97\\n}\",\"{\\n  \\\"cluster_number\\\": 1,\\n  \\\"warehouse_id\\\": 97\\n}\",\"{\\n  \\\"cluster_number\\\": 1,\\n  \\\"warehouse_id\\\": 97\\n}\",\"{\\n  \\\"cluster_number\\\": 2,\\n  \\\"warehouse_id\\\": 97\\n}\",\"{\\n  \\\"cluster_number\\\": 2,\\n  \\\"warehouse_id\\\": 97\\n}\",\"{\\n  \\\"cluster_number\\\": 2,\\n  \\\"warehouse_id\\\": 97\\n}\",\"{\\n  \\\"cluster_number\\\": 2,\\n  \\\"warehouse_id\\\": 97\\n}\",\"{\\n  \\\"cluster_number\\\": 2,\\n  \\\"warehouse_id\\\": 97\\n}\",\"{\\n  \\\"cluster_number\\\": 2,\\n  \\\"warehouse_id\\\": 97\\n}\",\"{\\n  \\\"cluster_number\\\": 2,\\n  \\\"warehouse_id\\\": 97\\n}\",\"{\\n  \\\"cluster_number\\\": 2,\\n  \\\"warehouse_id\\\": 97\\n}\",\"{\\n  \\\"cluster_number\\\": 2,\\n  \\\"warehouse_id\\\": 97\\n}\",\"{\\n  \\\"cluster_number\\\": 2,\\n  \\\"warehouse_id\\\": 97\\n}\",\"{\\n  \\\"cluster_number\\\": 2,\\n  \\\"warehouse_id\\\": 97\\n}\",\"{\\n  \\\"cluster_number\\\": 2,\\n  \\\"warehouse_id\\\": 97\\n}\",\"{\\n  \\\"cluster_number\\\": 2,\\n  \\\"warehouse_id\\\": 97\\n}\",\"{\\n  \\\"cluster_number\\\": 2,\\n  \\\"warehouse_id\\\": 97\\n}\",\"{\\n  \\\"cluster_number\\\": 2,\\n  \\\"warehouse_id\\\": 97\\n}\",\"{\\n  \\\"cluster_number\\\": 2,\\n  \\\"warehouse_id\\\": 97\\n}\",\"{\\n  \\\"cluster_number\\\": 3,\\n  \\\"warehouse_id\\\": 97\\n}\",\"{\\n  \\\"cluster_number\\\": 3,\\n  \\\"warehouse_id\\\": 97\\n}\",\"{\\n  \\\"cluster_number\\\": 3,\\n  \\\"warehouse_id\\\": 97\\n}\",\"{\\n  \\\"cluster_number\\\": 3,\\n  \\\"warehouse_id\\\": 97\\n}\",\"{\\n  \\\"cluster_number\\\": 3,\\n  \\\"warehouse_id\\\": 97\\n}\",\"{\\n  \\\"cluster_number\\\": 3,\\n  \\\"warehouse_id\\\": 97\\n}\",\"{\\n  \\\"cluster_number\\\": 3,\\n  \\\"warehouse_id\\\": 97\\n}\",\"{\\n  \\\"cluster_number\\\": 3,\\n  \\\"warehouse_id\\\": 97\\n}\",\"{\\n  \\\"cluster_number\\\": 3,\\n  \\\"warehouse_id\\\": 97\\n}\",\"{\\n  \\\"cluster_number\\\": 3,\\n  \\\"warehouse_id\\\": 97\\n}\",\"{\\n  \\\"cluster_number\\\": 3,\\n  \\\"warehouse_id\\\": 97\\n}\",\"{\\n  \\\"cluster_number\\\": 3,\\n  \\\"warehouse_id\\\": 97\\n}\",\"{\\n  \\\"cluster_number\\\": 3,\\n  \\\"warehouse_id\\\": 97\\n}\",\"{\\n  \\\"cluster_number\\\": 3,\\n  \\\"warehouse_id\\\": 97\\n}\",\"{\\n  \\\"cluster_number\\\": 3,\\n  \\\"warehouse_id\\\": 97\\n}\",\"{\\n  \\\"cluster_number\\\": 3,\\n  \\\"warehouse_id\\\": 97\\n}\",\"{\\n  \\\"cluster_number\\\": 3,\\n  \\\"warehouse_id\\\": 97\\n}\",\"{\\n  \\\"cluster_number\\\": 3,\\n  \\\"warehouse_id\\\": 97\\n}\",\"{\\n  \\\"cluster_number\\\": 4,\\n  \\\"warehouse_id\\\": 97\\n}\",\"{\\n  \\\"cluster_number\\\": 5,\\n  \\\"warehouse_id\\\": 97\\n}\",\"{\\n  \\\"cluster_number\\\": 6,\\n  \\\"warehouse_id\\\": 97\\n}\",\"{\\n  \\\"cluster_number\\\": 7,\\n  \\\"warehouse_id\\\": 97\\n}\",\"{\\n  \\\"cluster_number\\\": 8,\\n  \\\"warehouse_id\\\": 97\\n}\"],\"yaxis\":\"y3\",\"type\":\"bar\"},{\"hovertemplate\":\"start_time=%{x}<br>dollars_used_compute=%{y}<extra></extra>\",\"legendgroup\":\"\",\"line\":{\"color\":\"#636efa\",\"dash\":\"solid\",\"shape\":\"hv\"},\"marker\":{\"symbol\":\"circle\"},\"mode\":\"lines\",\"name\":\"\",\"orientation\":\"v\",\"showlegend\":false,\"x\":[\"2022-12-13T12:00:00-08:00\",\"2022-12-13T13:00:00-08:00\",\"2022-12-13T14:00:00-08:00\",\"2022-12-13T15:00:00-08:00\"],\"xaxis\":\"x4\",\"y\":[231.8755833324,55.0468333338,525.8755833324,645.3335000007],\"yaxis\":\"y4\",\"type\":\"scatter\"}],                        {\"template\":{\"data\":{\"histogram2dcontour\":[{\"type\":\"histogram2dcontour\",\"colorbar\":{\"outlinewidth\":0,\"ticks\":\"\"},\"colorscale\":[[0.0,\"#0d0887\"],[0.1111111111111111,\"#46039f\"],[0.2222222222222222,\"#7201a8\"],[0.3333333333333333,\"#9c179e\"],[0.4444444444444444,\"#bd3786\"],[0.5555555555555556,\"#d8576b\"],[0.6666666666666666,\"#ed7953\"],[0.7777777777777778,\"#fb9f3a\"],[0.8888888888888888,\"#fdca26\"],[1.0,\"#f0f921\"]]}],\"choropleth\":[{\"type\":\"choropleth\",\"colorbar\":{\"outlinewidth\":0,\"ticks\":\"\"}}],\"histogram2d\":[{\"type\":\"histogram2d\",\"colorbar\":{\"outlinewidth\":0,\"ticks\":\"\"},\"colorscale\":[[0.0,\"#0d0887\"],[0.1111111111111111,\"#46039f\"],[0.2222222222222222,\"#7201a8\"],[0.3333333333333333,\"#9c179e\"],[0.4444444444444444,\"#bd3786\"],[0.5555555555555556,\"#d8576b\"],[0.6666666666666666,\"#ed7953\"],[0.7777777777777778,\"#fb9f3a\"],[0.8888888888888888,\"#fdca26\"],[1.0,\"#f0f921\"]]}],\"heatmap\":[{\"type\":\"heatmap\",\"colorbar\":{\"outlinewidth\":0,\"ticks\":\"\"},\"colorscale\":[[0.0,\"#0d0887\"],[0.1111111111111111,\"#46039f\"],[0.2222222222222222,\"#7201a8\"],[0.3333333333333333,\"#9c179e\"],[0.4444444444444444,\"#bd3786\"],[0.5555555555555556,\"#d8576b\"],[0.6666666666666666,\"#ed7953\"],[0.7777777777777778,\"#fb9f3a\"],[0.8888888888888888,\"#fdca26\"],[1.0,\"#f0f921\"]]}],\"heatmapgl\":[{\"type\":\"heatmapgl\",\"colorbar\":{\"outlinewidth\":0,\"ticks\":\"\"},\"colorscale\":[[0.0,\"#0d0887\"],[0.1111111111111111,\"#46039f\"],[0.2222222222222222,\"#7201a8\"],[0.3333333333333333,\"#9c179e\"],[0.4444444444444444,\"#bd3786\"],[0.5555555555555556,\"#d8576b\"],[0.6666666666666666,\"#ed7953\"],[0.7777777777777778,\"#fb9f3a\"],[0.8888888888888888,\"#fdca26\"],[1.0,\"#f0f921\"]]}],\"contourcarpet\":[{\"type\":\"contourcarpet\",\"colorbar\":{\"outlinewidth\":0,\"ticks\":\"\"}}],\"contour\":[{\"type\":\"contour\",\"colorbar\":{\"outlinewidth\":0,\"ticks\":\"\"},\"colorscale\":[[0.0,\"#0d0887\"],[0.1111111111111111,\"#46039f\"],[0.2222222222222222,\"#7201a8\"],[0.3333333333333333,\"#9c179e\"],[0.4444444444444444,\"#bd3786\"],[0.5555555555555556,\"#d8576b\"],[0.6666666666666666,\"#ed7953\"],[0.7777777777777778,\"#fb9f3a\"],[0.8888888888888888,\"#fdca26\"],[1.0,\"#f0f921\"]]}],\"surface\":[{\"type\":\"surface\",\"colorbar\":{\"outlinewidth\":0,\"ticks\":\"\"},\"colorscale\":[[0.0,\"#0d0887\"],[0.1111111111111111,\"#46039f\"],[0.2222222222222222,\"#7201a8\"],[0.3333333333333333,\"#9c179e\"],[0.4444444444444444,\"#bd3786\"],[0.5555555555555556,\"#d8576b\"],[0.6666666666666666,\"#ed7953\"],[0.7777777777777778,\"#fb9f3a\"],[0.8888888888888888,\"#fdca26\"],[1.0,\"#f0f921\"]]}],\"mesh3d\":[{\"type\":\"mesh3d\",\"colorbar\":{\"outlinewidth\":0,\"ticks\":\"\"}}],\"scatter\":[{\"fillpattern\":{\"fillmode\":\"overlay\",\"size\":10,\"solidity\":0.2},\"type\":\"scatter\"}],\"parcoords\":[{\"type\":\"parcoords\",\"line\":{\"colorbar\":{\"outlinewidth\":0,\"ticks\":\"\"}}}],\"scatterpolargl\":[{\"type\":\"scatterpolargl\",\"marker\":{\"colorbar\":{\"outlinewidth\":0,\"ticks\":\"\"}}}],\"bar\":[{\"error_x\":{\"color\":\"#2a3f5f\"},\"error_y\":{\"color\":\"#2a3f5f\"},\"marker\":{\"line\":{\"color\":\"#E5ECF6\",\"width\":0.5},\"pattern\":{\"fillmode\":\"overlay\",\"size\":10,\"solidity\":0.2}},\"type\":\"bar\"}],\"scattergeo\":[{\"type\":\"scattergeo\",\"marker\":{\"colorbar\":{\"outlinewidth\":0,\"ticks\":\"\"}}}],\"scatterpolar\":[{\"type\":\"scatterpolar\",\"marker\":{\"colorbar\":{\"outlinewidth\":0,\"ticks\":\"\"}}}],\"histogram\":[{\"marker\":{\"pattern\":{\"fillmode\":\"overlay\",\"size\":10,\"solidity\":0.2}},\"type\":\"histogram\"}],\"scattergl\":[{\"type\":\"scattergl\",\"marker\":{\"colorbar\":{\"outlinewidth\":0,\"ticks\":\"\"}}}],\"scatter3d\":[{\"type\":\"scatter3d\",\"line\":{\"colorbar\":{\"outlinewidth\":0,\"ticks\":\"\"}},\"marker\":{\"colorbar\":{\"outlinewidth\":0,\"ticks\":\"\"}}}],\"scattermapbox\":[{\"type\":\"scattermapbox\",\"marker\":{\"colorbar\":{\"outlinewidth\":0,\"ticks\":\"\"}}}],\"scatterternary\":[{\"type\":\"scatterternary\",\"marker\":{\"colorbar\":{\"outlinewidth\":0,\"ticks\":\"\"}}}],\"scattercarpet\":[{\"type\":\"scattercarpet\",\"marker\":{\"colorbar\":{\"outlinewidth\":0,\"ticks\":\"\"}}}],\"carpet\":[{\"aaxis\":{\"endlinecolor\":\"#2a3f5f\",\"gridcolor\":\"white\",\"linecolor\":\"white\",\"minorgridcolor\":\"white\",\"startlinecolor\":\"#2a3f5f\"},\"baxis\":{\"endlinecolor\":\"#2a3f5f\",\"gridcolor\":\"white\",\"linecolor\":\"white\",\"minorgridcolor\":\"white\",\"startlinecolor\":\"#2a3f5f\"},\"type\":\"carpet\"}],\"table\":[{\"cells\":{\"fill\":{\"color\":\"#EBF0F8\"},\"line\":{\"color\":\"white\"}},\"header\":{\"fill\":{\"color\":\"#C8D4E3\"},\"line\":{\"color\":\"white\"}},\"type\":\"table\"}],\"barpolar\":[{\"marker\":{\"line\":{\"color\":\"#E5ECF6\",\"width\":0.5},\"pattern\":{\"fillmode\":\"overlay\",\"size\":10,\"solidity\":0.2}},\"type\":\"barpolar\"}],\"pie\":[{\"automargin\":true,\"type\":\"pie\"}]},\"layout\":{\"autotypenumbers\":\"strict\",\"colorway\":[\"#636efa\",\"#EF553B\",\"#00cc96\",\"#ab63fa\",\"#FFA15A\",\"#19d3f3\",\"#FF6692\",\"#B6E880\",\"#FF97FF\",\"#FECB52\"],\"font\":{\"color\":\"#2a3f5f\"},\"hovermode\":\"closest\",\"hoverlabel\":{\"align\":\"left\"},\"paper_bgcolor\":\"white\",\"plot_bgcolor\":\"#E5ECF6\",\"polar\":{\"bgcolor\":\"#E5ECF6\",\"angularaxis\":{\"gridcolor\":\"white\",\"linecolor\":\"white\",\"ticks\":\"\"},\"radialaxis\":{\"gridcolor\":\"white\",\"linecolor\":\"white\",\"ticks\":\"\"}},\"ternary\":{\"bgcolor\":\"#E5ECF6\",\"aaxis\":{\"gridcolor\":\"white\",\"linecolor\":\"white\",\"ticks\":\"\"},\"baxis\":{\"gridcolor\":\"white\",\"linecolor\":\"white\",\"ticks\":\"\"},\"caxis\":{\"gridcolor\":\"white\",\"linecolor\":\"white\",\"ticks\":\"\"}},\"coloraxis\":{\"colorbar\":{\"outlinewidth\":0,\"ticks\":\"\"}},\"colorscale\":{\"sequential\":[[0.0,\"#0d0887\"],[0.1111111111111111,\"#46039f\"],[0.2222222222222222,\"#7201a8\"],[0.3333333333333333,\"#9c179e\"],[0.4444444444444444,\"#bd3786\"],[0.5555555555555556,\"#d8576b\"],[0.6666666666666666,\"#ed7953\"],[0.7777777777777778,\"#fb9f3a\"],[0.8888888888888888,\"#fdca26\"],[1.0,\"#f0f921\"]],\"sequentialminus\":[[0.0,\"#0d0887\"],[0.1111111111111111,\"#46039f\"],[0.2222222222222222,\"#7201a8\"],[0.3333333333333333,\"#9c179e\"],[0.4444444444444444,\"#bd3786\"],[0.5555555555555556,\"#d8576b\"],[0.6666666666666666,\"#ed7953\"],[0.7777777777777778,\"#fb9f3a\"],[0.8888888888888888,\"#fdca26\"],[1.0,\"#f0f921\"]],\"diverging\":[[0,\"#8e0152\"],[0.1,\"#c51b7d\"],[0.2,\"#de77ae\"],[0.3,\"#f1b6da\"],[0.4,\"#fde0ef\"],[0.5,\"#f7f7f7\"],[0.6,\"#e6f5d0\"],[0.7,\"#b8e186\"],[0.8,\"#7fbc41\"],[0.9,\"#4d9221\"],[1,\"#276419\"]]},\"xaxis\":{\"gridcolor\":\"white\",\"linecolor\":\"white\",\"ticks\":\"\",\"title\":{\"standoff\":15},\"zerolinecolor\":\"white\",\"automargin\":true,\"zerolinewidth\":2},\"yaxis\":{\"gridcolor\":\"white\",\"linecolor\":\"white\",\"ticks\":\"\",\"title\":{\"standoff\":15},\"zerolinecolor\":\"white\",\"automargin\":true,\"zerolinewidth\":2},\"scene\":{\"xaxis\":{\"backgroundcolor\":\"#E5ECF6\",\"gridcolor\":\"white\",\"linecolor\":\"white\",\"showbackground\":true,\"ticks\":\"\",\"zerolinecolor\":\"white\",\"gridwidth\":2},\"yaxis\":{\"backgroundcolor\":\"#E5ECF6\",\"gridcolor\":\"white\",\"linecolor\":\"white\",\"showbackground\":true,\"ticks\":\"\",\"zerolinecolor\":\"white\",\"gridwidth\":2},\"zaxis\":{\"backgroundcolor\":\"#E5ECF6\",\"gridcolor\":\"white\",\"linecolor\":\"white\",\"showbackground\":true,\"ticks\":\"\",\"zerolinecolor\":\"white\",\"gridwidth\":2}},\"shapedefaults\":{\"line\":{\"color\":\"#2a3f5f\"}},\"annotationdefaults\":{\"arrowcolor\":\"#2a3f5f\",\"arrowhead\":0,\"arrowwidth\":1},\"geo\":{\"bgcolor\":\"white\",\"landcolor\":\"#E5ECF6\",\"subunitcolor\":\"white\",\"showland\":true,\"showlakes\":true,\"lakecolor\":\"white\"},\"title\":{\"x\":0.05},\"mapbox\":{\"style\":\"light\"}}},\"xaxis\":{\"anchor\":\"y\",\"domain\":[0.0,1.0],\"matches\":\"x4\",\"showticklabels\":false,\"title\":{\"text\":\"warehouse events\"},\"minor\":{\"showgrid\":true},\"showgrid\":true,\"autorange\":true,\"type\":\"date\"},\"yaxis\":{\"anchor\":\"x\",\"domain\":[0.7875,1.0],\"minor\":{\"showgrid\":true},\"showgrid\":true},\"xaxis2\":{\"anchor\":\"y2\",\"domain\":[0.0,1.0],\"matches\":\"x4\",\"showticklabels\":false,\"title\":{\"text\":\"warehouse cluster era starts\"},\"minor\":{\"showgrid\":true},\"showgrid\":true,\"autorange\":true,\"type\":\"date\"},\"yaxis2\":{\"anchor\":\"x2\",\"domain\":[0.525,0.7375],\"minor\":{\"showgrid\":true},\"showgrid\":true},\"xaxis3\":{\"anchor\":\"y3\",\"domain\":[0.0,1.0],\"matches\":\"x4\",\"showticklabels\":false,\"title\":{\"text\":\"query eras\"},\"minor\":{\"showgrid\":true},\"showgrid\":true,\"autorange\":true,\"type\":\"date\"},\"yaxis3\":{\"anchor\":\"x3\",\"domain\":[0.2625,0.475],\"minor\":{\"showgrid\":true},\"showgrid\":true},\"xaxis4\":{\"anchor\":\"y4\",\"domain\":[0.0,1.0],\"minor\":{\"showgrid\":true},\"showgrid\":true,\"autorange\":true,\"type\":\"date\"},\"yaxis4\":{\"anchor\":\"x4\",\"domain\":[0.0,0.2125],\"minor\":{\"showgrid\":true},\"showgrid\":true},\"height\":800},                        {\"responsive\": true}                    ).then(function(){\n",
       "                            \n",
       "var gd = document.getElementById('d29d0e32-2ce5-486e-a94e-adc01b3d69b9');\n",
       "var x = new MutationObserver(function (mutations, observer) {{\n",
       "        var display = window.getComputedStyle(gd).display;\n",
       "        if (!display || display === 'none') {{\n",
       "            console.log([gd, 'removed!']);\n",
       "            Plotly.purge(gd);\n",
       "            observer.disconnect();\n",
       "        }}\n",
       "}});\n",
       "\n",
       "// Listen for the removal of the full notebook cells\n",
       "var notebookContainer = gd.closest('#notebook-container');\n",
       "if (notebookContainer) {{\n",
       "    x.observe(notebookContainer, {childList: true});\n",
       "}}\n",
       "\n",
       "// Listen for the clearing of the current output cell\n",
       "var outputEl = gd.closest('.output');\n",
       "if (outputEl) {{\n",
       "    x.observe(outputEl, {childList: true});\n",
       "}}\n",
       "\n",
       "                        })                };                });            </script>        </div>"
      ]
     },
     "metadata": {},
     "output_type": "display_data"
    },
    {
     "ename": "NameError",
     "evalue": "name 'whm' is not defined",
     "output_type": "error",
     "traceback": [
      "\u001b[0;31m---------------------------------------------------------------------------\u001b[0m",
      "\u001b[0;31mNameError\u001b[0m                                 Traceback (most recent call last)",
      "Cell \u001b[0;32mIn[8], line 35\u001b[0m\n\u001b[1;32m     30\u001b[0m \u001b[38;5;66;03m# fig.update_layout(\u001b[39;00m\n\u001b[1;32m     31\u001b[0m \u001b[38;5;66;03m#     xaxis_range=[cqe.era_start.min(), cqe.era_end.max()]  # Specify your desired minimum and maximum range\u001b[39;00m\n\u001b[1;32m     32\u001b[0m \u001b[38;5;66;03m# )\u001b[39;00m\n\u001b[1;32m     33\u001b[0m fig\u001b[38;5;241m.\u001b[39mshow()\n\u001b[0;32m---> 35\u001b[0m fig \u001b[38;5;241m=\u001b[39m px\u001b[38;5;241m.\u001b[39mbar(\u001b[43mwhm\u001b[49m[whm\u001b[38;5;241m.\u001b[39mwarehouse_name \u001b[38;5;241m!=\u001b[39m \u001b[38;5;124m'\u001b[39m\u001b[38;5;124mOPS\u001b[39m\u001b[38;5;124m'\u001b[39m], y\u001b[38;5;241m=\u001b[39m\u001b[38;5;124m'\u001b[39m\u001b[38;5;124mwarehouse_name\u001b[39m\u001b[38;5;124m'\u001b[39m, x \u001b[38;5;241m=\u001b[39m [\u001b[38;5;124m'\u001b[39m\u001b[38;5;124mcredits_used_compute\u001b[39m\u001b[38;5;124m'\u001b[39m], orientation \u001b[38;5;241m=\u001b[39m \u001b[38;5;124m'\u001b[39m\u001b[38;5;124mh\u001b[39m\u001b[38;5;124m'\u001b[39m, title\u001b[38;5;241m=\u001b[39m\u001b[38;5;124m'\u001b[39m\u001b[38;5;124mcredits x warehouse\u001b[39m\u001b[38;5;124m'\u001b[39m)\n\u001b[1;32m     36\u001b[0m fig\u001b[38;5;241m.\u001b[39mshow()\n\u001b[1;32m     37\u001b[0m fig \u001b[38;5;241m=\u001b[39m px\u001b[38;5;241m.\u001b[39mbar(whm, y\u001b[38;5;241m=\u001b[39m\u001b[38;5;124m'\u001b[39m\u001b[38;5;124mwarehouse_name\u001b[39m\u001b[38;5;124m'\u001b[39m, x \u001b[38;5;241m=\u001b[39m [\u001b[38;5;124m'\u001b[39m\u001b[38;5;124mcredits_used_compute\u001b[39m\u001b[38;5;124m'\u001b[39m, \u001b[38;5;124m'\u001b[39m\u001b[38;5;124mcredits_used_cloud_services\u001b[39m\u001b[38;5;124m'\u001b[39m], orientation \u001b[38;5;241m=\u001b[39m \u001b[38;5;124m'\u001b[39m\u001b[38;5;124mh\u001b[39m\u001b[38;5;124m'\u001b[39m)\n",
      "\u001b[0;31mNameError\u001b[0m: name 'whm' is not defined"
     ]
    },
    {
     "name": "stdout",
     "output_type": "stream",
     "text": [
      "time: 3.01 s (started: 2023-05-23 20:57:37 -04:00)\n"
     ]
    }
   ],
   "source": [
    "from plotly.subplots import make_subplots\n",
    "\n",
    "# qdf['warehouse_query'] = qdf.warehouse_name + \" : \" + qdf.query_id\n",
    "\n",
    "figures = [\n",
    "px.scatter(whe.sort_values('warehouse_name'), x=\"timestamp\", y=\"event_name\", color='event_name'),\n",
    "px.scatter(cqe.sort_values('warehouse_id'), x=\"era_start\", y=\"warehouse_id\"),\n",
    "px.timeline(cqe.sort_values('warehouse_id'), y='warehouse_id', x_start=\"era_start\", x_end=\"era_end\"),\n",
    "px.line(spend, x = 'start_time', y='dollars_used_compute', line_shape='hv')\n",
    "    ]\n",
    "\n",
    "fig = make_subplots(rows=len(figures), cols=1, shared_xaxes=True, vertical_spacing=0.05) \n",
    "\n",
    "for i, figure in enumerate(figures):\n",
    "    for trace in range(len(figure[\"data\"])):\n",
    "        fig.append_trace(figure[\"data\"][trace], row=i+1, col=1)\n",
    "\n",
    "fig.update_xaxes(title_text=\"warehouse events\", row=1, col=1)\n",
    "fig.update_xaxes(title_text=\"warehouse cluster era starts\", row=2, col=1)\n",
    "fig.update_xaxes(title_text=\"query eras\", row=3, col=1)\n",
    "\n",
    "fig.update_xaxes(showgrid=True,minor=dict(showgrid=True))\n",
    "fig.update_yaxes(showgrid=True,minor=dict(showgrid=True))\n",
    "fig.update_xaxes(autorange=True)\n",
    "fig.update_layout(\n",
    "    height=800,\n",
    ")\n",
    "fig.update_xaxes(type='date', autorange=True)\n",
    "\n",
    "# fig.update_layout(\n",
    "#     xaxis_range=[cqe.era_start.min(), cqe.era_end.max()]  # Specify your desired minimum and maximum range\n",
    "# )\n",
    "fig.show()\n",
    "\n",
    "fig = px.bar(whm[whm.warehouse_name != 'OPS'], y='warehouse_name', x = ['credits_used_compute'], orientation = 'h', title='credits x warehouse')\n",
    "fig.show()\n",
    "fig = px.bar(whm, y='warehouse_name', x = ['credits_used_compute', 'credits_used_cloud_services'], orientation = 'h')\n",
    "fig.show()"
   ]
  },
  {
   "cell_type": "code",
   "execution_count": null,
   "id": "b3de28ed-0a45-442b-b8ec-b32639fcc246",
   "metadata": {},
   "outputs": [],
   "source": [
    "# todo: \n",
    "# - show expected spend from cluster active eras\n",
    "# - show spend on query time\n",
    "# - show cluster active eras (can be trusted if expected spend ~ real spend)\n",
    "# - show stats per cluster/warehouse-second (num queries running, num queued, total load, warehouse active or not, cumulative seconds active, cumulative billed secs)"
   ]
  }
 ],
 "metadata": {
  "kernelspec": {
   "display_name": "Python 3 (ipykernel)",
   "language": "python",
   "name": "python3"
  },
  "language_info": {
   "codemirror_mode": {
    "name": "ipython",
    "version": 3
   },
   "file_extension": ".py",
   "mimetype": "text/x-python",
   "name": "python",
   "nbconvert_exporter": "python",
   "pygments_lexer": "ipython3",
   "version": "3.10.9"
  }
 },
 "nbformat": 4,
 "nbformat_minor": 5
}
