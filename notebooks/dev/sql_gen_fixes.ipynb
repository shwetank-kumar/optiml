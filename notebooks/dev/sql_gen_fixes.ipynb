{
 "cells": [
  {
   "cell_type": "code",
   "execution_count": null,
   "id": "2a098356-4e0c-4f47-83ab-8d4b31692de7",
   "metadata": {},
   "outputs": [],
   "source": [
    "%load_ext autoreload\n",
    "%autoreload 2\n",
    "import sys, pathlib\n",
    "sys.path.append(str(pathlib.Path.cwd().parent.parent))"
   ]
  },
  {
   "cell_type": "code",
   "execution_count": null,
   "id": "9ba4bbcc-1f29-4466-aa91-61fbf82e0cbe",
   "metadata": {},
   "outputs": [],
   "source": [
    "%reload_ext dotenv\n",
    "\n",
    "%dotenv ../../env/.env\n",
    "\n",
    "import warnings\n",
    "from pandas import Timedelta\n",
    "# from optiml.utils import sf\n",
    "import time\n",
    "from optiml.utils.sf import logger, sql_to_df, run_sql, conn, session\n",
    "import pandas as pd\n",
    "warnings.filterwarnings('ignore')\n",
    "\n",
    "try:\n",
    "    %load_ext autotime\n",
    "except:\n",
    "    !pip install ipython-autotime\n",
    "    %load_ext autotime\n",
    "\n",
    "import plotly\n",
    "plotly.offline.init_notebook_mode()"
   ]
  },
  {
   "cell_type": "code",
   "execution_count": null,
   "id": "01361601-9fd3-433a-8739-64bb9297ce4c",
   "metadata": {},
   "outputs": [],
   "source": [
    "df = sql_to_df(\"select * from sandbox.stg_wh_params\")\n",
    "\n",
    "print(df.iloc[0][0])"
   ]
  },
  {
   "cell_type": "code",
   "execution_count": null,
   "id": "53e2a822-cfe9-4aa4-9535-aed219e65bc7",
   "metadata": {},
   "outputs": [],
   "source": []
  },
  {
   "cell_type": "code",
   "execution_count": null,
   "id": "6a4e961d-64c0-4011-a43d-c5daf22a1cf7",
   "metadata": {},
   "outputs": [],
   "source": [
    "pre_hooks = [\n",
    "            \"\"\"\n",
    "            CREATE OR REPLACE PROCEDURE json_results(SQL VARCHAR)\n",
    "            RETURNS VARIANT NOT NULL\n",
    "            LANGUAGE JAVASCRIPT\n",
    "            EXECUTE AS CALLER\n",
    "\n",
    "            AS\n",
    "            $$\n",
    "            // This variable will hold a JSON data structure that holds ONE row.\n",
    "            var row_as_json = {};\n",
    "            // This array will contain all the rows.\n",
    "            var array_of_rows = [];\n",
    "            // This variable will hold a JSON data structure that we can return as\n",
    "            // a VARIANT.\n",
    "            // This will contain ALL the rows in a single \"value\".\n",
    "            var table_as_json = {};\n",
    "\n",
    "            // Run SQL statement(s) and get a resultSet.\n",
    "            var command = SQL;\n",
    "            var cmd1_dict = {sqlText: command};\n",
    "            var stmt = snowflake.createStatement(cmd1_dict);\n",
    "\n",
    "            try {\n",
    "                var rs = stmt.execute();\n",
    "            }\n",
    "            catch (err)  {\n",
    "                return { \"error\": err}\n",
    "            }\n",
    "            // Read each row and add it to the array we will return.\n",
    "            var row_num = 1;\n",
    "            while (rs.next())  {\n",
    "                // Put each row in a variable of type JSON.\n",
    "                row_as_json = {};\n",
    "                // For each column in the row...\n",
    "                for (var col_num = 0; col_num < rs.getColumnCount(); col_num = col_num + 1) {\n",
    "                //var col_name = COL_NAMES[col_num];\n",
    "                var col_name = rs.getColumnName(col_num + 1);\n",
    "                \n",
    "                row_as_json[col_name] = rs.getColumnValue(col_num + 1);\n",
    "                }\n",
    "                // Add the row to the array of rows.\n",
    "                array_of_rows.push(row_as_json);\n",
    "                ++row_num;\n",
    "\n",
    "                }\n",
    "            // Put the array in a JSON variable (so it looks like a VARIANT to\n",
    "            // Snowflake).  The key is \"key1\", and the value is the array that has\n",
    "            // the rows we want.\n",
    "            table_as_json = { \"rows\" : array_of_rows };\n",
    "\n",
    "            // Return the rows to Snowflake, which expects a JSON-compatible VARIANT.\n",
    "            return table_as_json;\n",
    "            $$\n",
    "            ;\n",
    "            \"\"\",\n",
    "            \"\"\"\n",
    "            create or replace procedure batch_sql_results(SQLCOMMAND String)\n",
    "                returns variant not null\n",
    "                language JavaScript\n",
    "                EXECUTE AS CALLER\n",
    "            as\n",
    "            $$\n",
    "            /**\n",
    "            * Stored procedure to execute multiple SQL statements generated from a SQL query\n",
    "            */\n",
    "                cmd1_dict = {sqlText: SQLCOMMAND};\n",
    "                stmt = snowflake.createStatement(cmd1_dict);\n",
    "                rs = stmt.execute();\n",
    "                var results = [];\n",
    "                while (rs.next())  {\n",
    "                    cmd2_dict = {sqlText: rs.getColumnValue(\"SQL_COMMAND\")};\n",
    "                    cmd = rs.getColumnValue(\"SQL_COMMAND\");\n",
    "                    //stmtEx = snowflake.createStatement(cmd2_dict);\n",
    "                    var stmt = snowflake.createStatement({\n",
    "                            sqlText: \\'CALL json_results(:1)\\',\n",
    "                            binds: [cmd]\n",
    "                    });\n",
    "                    rs2 = stmt.execute();\n",
    "                    rs2.next()\n",
    "                    var s = rs2.getColumnValue(1);\n",
    "\n",
    "                    table_as_json = {\"sql\": cmd, \"results\" : s };\n",
    "                    results.push(table_as_json);\n",
    "\n",
    "                    \n",
    "                }\n",
    "\n",
    "                return results;  \n",
    "            $$\n",
    "            \"\"\",\n",
    "            \"\"\"call batch_sql_results('select * from wh_param_ddl')\"\"\"\n",
    "    ]\n",
    "\n",
    "model_sql = \"\"\"\n",
    "create or replace table stg_warehouse_params_test as\n",
    "select * \n",
    "from TABLE(RESULT_SCAN(LAST_QUERY_ID()))\n",
    "\"\"\""
   ]
  },
  {
   "cell_type": "code",
   "execution_count": null,
   "id": "5e38218a-8ab2-4cf6-a6dd-0cf2863eba71",
   "metadata": {},
   "outputs": [],
   "source": [
    "all_sql = pre_hooks\n",
    "all_sql.append(model_sql)\n",
    "all_sql"
   ]
  },
  {
   "cell_type": "code",
   "execution_count": null,
   "id": "93d9ebbc-b06e-42cb-b89b-ea6e35d0a8f9",
   "metadata": {},
   "outputs": [],
   "source": [
    "run_sql_sproc_sql = \"\"\"\n",
    "CREATE OR REPLACE PROCEDURE run_sql_commands(SQLCOMMANDS ARRAY)\n",
    "                    RETURNS STRING\n",
    "                    LANGUAGE JAVASCRIPT\n",
    "                    EXECUTE AS CALLER\n",
    "                        AS\n",
    "                        $$\n",
    "                            var results = [];\n",
    "                            for (var i = 0; i < SQLCOMMANDS.length; i++) {\n",
    "                                var cmd = SQLCOMMANDS[i];\n",
    "                                var stmt = snowflake.createStatement({sqlText: cmd});\n",
    "                                var rs = stmt.execute();\n",
    "                                results.push(cmd + \" executed successfully\");\n",
    "                            }\n",
    "                            return results.join(\"\");\n",
    "                        $$;\n",
    "\"\"\""
   ]
  },
  {
   "cell_type": "code",
   "execution_count": null,
   "id": "c2068f84-8d96-44cf-ab5b-6ef90bd4d12c",
   "metadata": {},
   "outputs": [],
   "source": [
    "run_sql(run_sql_sproc_sql)"
   ]
  },
  {
   "cell_type": "code",
   "execution_count": null,
   "id": "a839dc17-067f-467a-bbdc-53708d9df987",
   "metadata": {},
   "outputs": [],
   "source": [
    "def escape(sql):\n",
    "    return sql.replace(\"'\", \"\\\\'\")\n",
    "\n",
    "joined_sql_statements = '\\n,\\n'.join(f\"'{escape(item)}'\" for item in all_sql)\n",
    "\n",
    "run_all_sql = f\"\"\"\n",
    "CALL run_sql_commands(ARRAY_CONSTRUCT({joined_sql_statements}))\n",
    "\"\"\"\n",
    "print(run_all_sql)"
   ]
  },
  {
   "cell_type": "code",
   "execution_count": null,
   "id": "9864fe68-b0ce-4a25-83e4-94bb9db5b5be",
   "metadata": {},
   "outputs": [],
   "source": [
    "# a = \"\"\"call batch_sql_results('select * from wh_param_ddl')\"\"\"\n",
    "# print(a.replace(\"'\",\"\\\\'\"))"
   ]
  },
  {
   "cell_type": "code",
   "execution_count": null,
   "id": "771c3638-dc79-4086-aa01-b5ad1c3f3e52",
   "metadata": {},
   "outputs": [],
   "source": [
    "# run_sql(run_all_sql)"
   ]
  },
  {
   "cell_type": "code",
   "execution_count": null,
   "id": "e70f8479-19e6-4298-8b3d-1b74aded7701",
   "metadata": {},
   "outputs": [],
   "source": [
    "def wrap_task(sql):\n",
    "    return f\"\"\"\n",
    "    CREATE OR REPLACE TASK test_task \n",
    "    WAREHOUSE = DEMO\n",
    "    AS\\n{sql};\n",
    "    \"\"\"\n",
    "\n",
    "display(sql_to_df(wrap_task(run_all_sql)))\n",
    "display(sql_to_df(\"execute task test_task\"))"
   ]
  },
  {
   "cell_type": "code",
   "execution_count": null,
   "id": "713cf706-2c4e-41d4-8dea-52a9ef50b0d8",
   "metadata": {},
   "outputs": [],
   "source": [
    "sql_to_df(\"show tasks\")"
   ]
  },
  {
   "cell_type": "code",
   "execution_count": null,
   "id": "fc91e0cb-e40f-406a-98e7-91b397e46f8e",
   "metadata": {},
   "outputs": [],
   "source": [
    "run_sql(\"drop table sandbox.stg_warehouse_params_test\")"
   ]
  },
  {
   "cell_type": "code",
   "execution_count": null,
   "id": "7fbcfee5-036b-426c-a512-608a83764924",
   "metadata": {},
   "outputs": [],
   "source": [
    "run_sql(\"drop table sandbox.stg_warehouse_params_test\")"
   ]
  },
  {
   "cell_type": "code",
   "execution_count": null,
   "id": "cc515695-71c8-411d-bfb5-7cc76d083749",
   "metadata": {},
   "outputs": [],
   "source": [
    "df = sql_to_df(\"select * from sandbox.stg_warehouse_params_test\")\n",
    "\n",
    "print(df.iloc[0][0])"
   ]
  },
  {
   "cell_type": "code",
   "execution_count": null,
   "id": "4d1c283d-29cf-40ec-bcb6-e014faaf7d09",
   "metadata": {},
   "outputs": [],
   "source": []
  }
 ],
 "metadata": {
  "kernelspec": {
   "display_name": "Python 3 (ipykernel)",
   "language": "python",
   "name": "python3"
  },
  "language_info": {
   "codemirror_mode": {
    "name": "ipython",
    "version": 3
   },
   "file_extension": ".py",
   "mimetype": "text/x-python",
   "name": "python",
   "nbconvert_exporter": "python",
   "pygments_lexer": "ipython3",
   "version": "3.8.16"
  }
 },
 "nbformat": 4,
 "nbformat_minor": 5
}
