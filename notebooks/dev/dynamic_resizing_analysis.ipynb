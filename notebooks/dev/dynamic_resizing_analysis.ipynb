{
 "cells": [
  {
   "cell_type": "code",
   "execution_count": null,
   "id": "0786d9d3-a4c0-47a4-a971-8c26ce3d0db8",
   "metadata": {},
   "outputs": [],
   "source": [
    "%load_ext autoreload\n",
    "%autoreload 2\n",
    "import sys, pathlib\n",
    "sys.path.append(str(pathlib.Path.cwd().parent.parent))"
   ]
  },
  {
   "cell_type": "code",
   "execution_count": null,
   "id": "71cb5d4b-0329-4c3c-a365-d4bdfef7f8d8",
   "metadata": {},
   "outputs": [],
   "source": [
    "%reload_ext dotenv\n",
    "\n",
    "%dotenv ../../env/.env\n",
    "\n",
    "import warnings\n",
    "from pandas import Timedelta\n",
    "# from optiml.utils import sf\n",
    "import time\n",
    "from optiml.utils.sf import logger, sql_to_df, run_sql, conn, session\n",
    "import pandas as pd\n",
    "warnings.filterwarnings('ignore')\n",
    "\n",
    "try:\n",
    "    %load_ext autotime\n",
    "except:\n",
    "    !pip install ipython-autotime\n",
    "    %load_ext autotime\n",
    "\n",
    "import plotly\n",
    "plotly.offline.init_notebook_mode()"
   ]
  },
  {
   "cell_type": "code",
   "execution_count": null,
   "id": "869ed92b-775b-4956-908f-bb59948a833f",
   "metadata": {},
   "outputs": [],
   "source": [
    "run_sql(\"set lookback_days=300\")\n",
    "\n",
    "sql = \"\"\"\n",
    "with qhe as (\n",
    "select \n",
    "    *    \n",
    "from\n",
    "    qhe_lookback\n",
    ")\n",
    ",\n",
    "stats as (\n",
    "select\n",
    "    hour(start_time) as hour_start,\n",
    "    warehouse_name,\n",
    "    wh_utilization_status,\n",
    "    count(*) num_queries,\n",
    "    sum(query_cost) total_query_cost,\n",
    "    max_by(start_time, warehouse_size) as latest_size\n",
    "from qhe\n",
    "group by \n",
    "    hour_start,\n",
    "    warehouse_name,\n",
    "    wh_utilization_status\n",
    ")\n",
    "select \n",
    "    *,\n",
    "    100*ratio_to_report(num_queries) over (partition by warehouse_name, hour_start) as pct_of_total_queries,\n",
    "    100*ratio_to_report(total_query_cost) over (partition by warehouse_name, hour_start) as pct_total_query_cost,\n",
    "    sum(num_queries) over (partition by warehouse_name, hour_start) as total_warehouse_queries,\n",
    "    sum(total_query_cost) over (partition by warehouse_name, hour_start) as total_warehouse_query_cost\n",
    "    \n",
    "from stats\n",
    "order by (wh_utilization_status != 'right-sized') desc, total_query_cost desc;\n",
    "\"\"\"\n",
    "\n",
    "import itables\n",
    "\n",
    "\n",
    "utilization_by_hour = sql_to_df(sql)\n",
    "itables.show(utilization_by_hour)"
   ]
  },
  {
   "cell_type": "code",
   "execution_count": null,
   "id": "002ff0e8-aafd-45ae-a3f3-9ee40802749b",
   "metadata": {},
   "outputs": [],
   "source": [
    "df = utilization_by_hour[utilization_by_hour.warehouse_name == 'DATA_CLEANSING_WH']\n",
    "import plotly.express as px\n",
    "\n",
    "fig = px.bar(df, x='hour_start', y='num_queries', color='wh_utilization_status')\n",
    "fig.show()\n",
    "\n",
    "fig = px.bar(df, x='hour_start', y='pct_of_total_queries', color='wh_utilization_status')\n",
    "fig.show()\n",
    "\n",
    "fig = px.bar(df, x='hour_start', y='pct_total_query_cost', color='wh_utilization_status')\n",
    "fig.show()\n"
   ]
  },
  {
   "cell_type": "code",
   "execution_count": null,
   "id": "2b1054e4-73dc-4765-861a-8e69fcf854d5",
   "metadata": {},
   "outputs": [],
   "source": [
    "df"
   ]
  },
  {
   "cell_type": "code",
   "execution_count": null,
   "id": "bdc4a063-4f08-4450-a27b-1f0f713e11da",
   "metadata": {},
   "outputs": [],
   "source": []
  }
 ],
 "metadata": {
  "kernelspec": {
   "display_name": "Python 3 (ipykernel)",
   "language": "python",
   "name": "python3"
  },
  "language_info": {
   "codemirror_mode": {
    "name": "ipython",
    "version": 3
   },
   "file_extension": ".py",
   "mimetype": "text/x-python",
   "name": "python",
   "nbconvert_exporter": "python",
   "pygments_lexer": "ipython3",
   "version": "3.8.16"
  }
 },
 "nbformat": 4,
 "nbformat_minor": 5
}
