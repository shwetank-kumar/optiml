{
 "cells": [
  {
   "cell_type": "code",
   "execution_count": 1,
   "id": "92fe9cab-eea5-40c4-b396-28b5c6d60242",
   "metadata": {},
   "outputs": [],
   "source": [
    "%load_ext autoreload\n",
    "%autoreload 2\n",
    "import sys, pathlib\n",
    "sys.path.append(str(pathlib.Path.cwd().parent.parent))"
   ]
  },
  {
   "cell_type": "code",
   "execution_count": 2,
   "id": "7d472020-1bc3-4001-836f-08a7036c4b78",
   "metadata": {},
   "outputs": [
    {
     "name": "stdout",
     "output_type": "stream",
     "text": [
      "connected to account OMWYKHW-ENTERPRISE wh DEMO db SANDBOX schema PUBLIC with role DEV\n",
      "time: 18.4 ms (started: 2023-06-01 12:28:47 -04:00)\n"
     ]
    }
   ],
   "source": [
    "%reload_ext dotenv\n",
    "\n",
    "%dotenv ../../env/.env\n",
    "\n",
    "import warnings\n",
    "from pandas import Timedelta\n",
    "# from optiml.utils import sf\n",
    "import time\n",
    "from optiml.utils.sf import logger, sql_to_df, run_sql, conn, session\n",
    "import pandas as pd\n",
    "warnings.filterwarnings('ignore')\n",
    "\n",
    "try:\n",
    "    %load_ext autotime\n",
    "except:\n",
    "    !pip install ipython-autotime\n",
    "    %load_ext autotime\n"
   ]
  },
  {
   "cell_type": "code",
   "execution_count": 23,
   "id": "675e1e88-278b-4e6b-b232-d66cda2b995e",
   "metadata": {},
   "outputs": [
    {
     "data": {
      "text/plain": [
       "<snowflake.connector.cursor.SnowflakeCursor at 0x7fa5e309e1c0>"
      ]
     },
     "execution_count": 23,
     "metadata": {},
     "output_type": "execute_result"
    },
    {
     "name": "stdout",
     "output_type": "stream",
     "text": [
      "time: 552 ms (started: 2023-06-01 19:40:20 -04:00)\n"
     ]
    }
   ],
   "source": [
    "# import uuid\n",
    "# uuid = str(uuid.uuid4()).replace(\"-\", \"_\")\n",
    "# print(uuid)\n",
    "# wh_name = f\"test_{uuid}\"\n",
    "\n",
    "# create = f\"\"\"\n",
    "# create or replace warehouse {wh_name}\n",
    "# auto_suspend = 60\n",
    "# SCALING_POLICY=STANDARD\n",
    "# INITIALLY_SUSPENDED=true\n",
    "# MAX_CLUSTER_COUNT = 4;\n",
    "# \"\"\"\n",
    "\n",
    "# run_sql(create)\n",
    "\n",
    "wh_name = 'test_bc9a9691_c770_4eb7_96e9_278aac7db0c6'\n",
    "run_sql(f\"use warehouse {wh_name}\")\n"
   ]
  },
  {
   "cell_type": "code",
   "execution_count": 43,
   "id": "a822f6e2-6cc9-4a10-aa58-69529538575f",
   "metadata": {},
   "outputs": [
    {
     "name": "stdout",
     "output_type": "stream",
     "text": [
      "Event(time=1685680441.262434, priority=1, action=<function run_query at 0x7fa5e5e31040>, argument=(1.0,), kwargs={})\n",
      "Event(time=1685680441.2624488, priority=1, action=<function run_query at 0x7fa5e5e31040>, argument=(1.0,), kwargs={})\n",
      "Event(time=1685680441.262455, priority=1, action=<function run_query at 0x7fa5e5e31040>, argument=(1.0,), kwargs={})\n",
      "Event(time=1685680441.262461, priority=1, action=<function run_query at 0x7fa5e5e31040>, argument=(1.0,), kwargs={})\n",
      "Event(time=1685680441.2624671, priority=1, action=<function run_query at 0x7fa5e5e31040>, argument=(1.0,), kwargs={})\n",
      "Event(time=1685680441.2624729, priority=1, action=<function run_query at 0x7fa5e5e31040>, argument=(1.0,), kwargs={})\n",
      "Event(time=1685680441.262479, priority=1, action=<function run_query at 0x7fa5e5e31040>, argument=(1.0,), kwargs={})\n",
      "Event(time=1685680441.262486, priority=1, action=<function run_query at 0x7fa5e5e31040>, argument=(1.0,), kwargs={})\n",
      "Event(time=1685680441.262491, priority=1, action=<function run_query at 0x7fa5e5e31040>, argument=(1.0,), kwargs={})\n",
      "Event(time=1685680441.262497, priority=1, action=<function run_query at 0x7fa5e5e31040>, argument=(1.0,), kwargs={})\n",
      "Event(time=1685680451.262441, priority=1, action=<function run_query at 0x7fa5e5e31040>, argument=(3.0,), kwargs={})\n",
      "Event(time=1685680451.262451, priority=1, action=<function run_query at 0x7fa5e5e31040>, argument=(3.0,), kwargs={})\n",
      "Event(time=1685680451.2624571, priority=1, action=<function run_query at 0x7fa5e5e31040>, argument=(3.0,), kwargs={})\n",
      "Event(time=1685680451.262463, priority=1, action=<function run_query at 0x7fa5e5e31040>, argument=(3.0,), kwargs={})\n",
      "Event(time=1685680451.262469, priority=1, action=<function run_query at 0x7fa5e5e31040>, argument=(3.0,), kwargs={})\n",
      "Event(time=1685680451.262475, priority=1, action=<function run_query at 0x7fa5e5e31040>, argument=(3.0,), kwargs={})\n",
      "Event(time=1685680451.262481, priority=1, action=<function run_query at 0x7fa5e5e31040>, argument=(3.0,), kwargs={})\n",
      "Event(time=1685680451.262487, priority=1, action=<function run_query at 0x7fa5e5e31040>, argument=(3.0,), kwargs={})\n",
      "Event(time=1685680451.262493, priority=1, action=<function run_query at 0x7fa5e5e31040>, argument=(3.0,), kwargs={})\n",
      "Event(time=1685680451.2624981, priority=1, action=<function run_query at 0x7fa5e5e31040>, argument=(3.0,), kwargs={})\n",
      "Event(time=1685680461.262445, priority=1, action=<function run_query at 0x7fa5e5e31040>, argument=(5.0,), kwargs={})\n",
      "Event(time=1685680461.262452, priority=1, action=<function run_query at 0x7fa5e5e31040>, argument=(5.0,), kwargs={})\n",
      "Event(time=1685680461.262458, priority=1, action=<function run_query at 0x7fa5e5e31040>, argument=(5.0,), kwargs={})\n",
      "Event(time=1685680461.262464, priority=1, action=<function run_query at 0x7fa5e5e31040>, argument=(5.0,), kwargs={})\n",
      "Event(time=1685680461.26247, priority=1, action=<function run_query at 0x7fa5e5e31040>, argument=(5.0,), kwargs={})\n",
      "Event(time=1685680461.2624772, priority=1, action=<function run_query at 0x7fa5e5e31040>, argument=(5.0,), kwargs={})\n",
      "Event(time=1685680461.262483, priority=1, action=<function run_query at 0x7fa5e5e31040>, argument=(5.0,), kwargs={})\n",
      "Event(time=1685680461.262489, priority=1, action=<function run_query at 0x7fa5e5e31040>, argument=(5.0,), kwargs={})\n",
      "Event(time=1685680461.2624938, priority=1, action=<function run_query at 0x7fa5e5e31040>, argument=(5.0,), kwargs={})\n",
      "Event(time=1685680461.2625, priority=1, action=<function run_query at 0x7fa5e5e31040>, argument=(5.0,), kwargs={})\n",
      "Event(time=1685680471.262447, priority=1, action=<function run_query at 0x7fa5e5e31040>, argument=(7.0,), kwargs={})\n",
      "Event(time=1685680471.262453, priority=1, action=<function run_query at 0x7fa5e5e31040>, argument=(7.0,), kwargs={})\n",
      "Event(time=1685680471.2624588, priority=1, action=<function run_query at 0x7fa5e5e31040>, argument=(7.0,), kwargs={})\n",
      "Event(time=1685680471.262465, priority=1, action=<function run_query at 0x7fa5e5e31040>, argument=(7.0,), kwargs={})\n",
      "Event(time=1685680471.262471, priority=1, action=<function run_query at 0x7fa5e5e31040>, argument=(7.0,), kwargs={})\n",
      "Event(time=1685680471.262478, priority=1, action=<function run_query at 0x7fa5e5e31040>, argument=(7.0,), kwargs={})\n",
      "Event(time=1685680471.262484, priority=1, action=<function run_query at 0x7fa5e5e31040>, argument=(7.0,), kwargs={})\n",
      "Event(time=1685680471.26249, priority=1, action=<function run_query at 0x7fa5e5e31040>, argument=(7.0,), kwargs={})\n",
      "Event(time=1685680471.262495, priority=1, action=<function run_query at 0x7fa5e5e31040>, argument=(7.0,), kwargs={})\n",
      "Event(time=1685680471.262501, priority=1, action=<function run_query at 0x7fa5e5e31040>, argument=(7.0,), kwargs={})\n",
      "time: 2.65 ms (started: 2023-06-02 00:33:56 -04:00)\n"
     ]
    }
   ],
   "source": [
    "#    |-------------------------|------------------------------------------------------|\n",
    "#   start                    60 sec\n",
    "\n",
    "#    |--|                   |--|                                \n",
    "\n",
    "#    |------|       |---------|    \n",
    "\n",
    "\n",
    "#    |------|              |---------|\n",
    "\n",
    "\n",
    "#    |-------------------------------|    \n",
    "\n",
    "#    |------------------------------------------|      |-------|                |60sec\n",
    "#                                                   S  R                        |S\n",
    "#                                                                  S        \n",
    "#                                                    ===        =================  \n",
    "#    |-----------------------|     |---|\n",
    "#   greedy after one minute:      SR                      S\n",
    "# slightly less greedy                    S\n",
    "\n",
    "import uuid\n",
    "\n",
    "\n",
    "import sched , time\n",
    "\n",
    "def print_time(a='default'):\n",
    "    print(\"From print_time\", time.time(), a)\n",
    "\n",
    "def test_query(table_name, multiplier):\n",
    "    # return f\"\"\"\n",
    "    # create or replace table {table_name} as \n",
    "    # SELECT seq4() col1 , uniform(1, 10, RANDOM(12)) col2 \n",
    "    # FROM TABLE(GENERATOR(ROWCOUNT => {multiplier} * 10000000)) v \n",
    "    # ORDER BY 2;\n",
    "    # \"\"\"\n",
    "    return f\"\"\"\n",
    "    create or replace table {table_name} as \n",
    "    with a as (\n",
    "    SELECT seq4() col1 , uniform(1, 1000000000, RANDOM(12)) col2 \n",
    "    FROM TABLE(GENERATOR(ROWCOUNT => {multiplier} * 10000000)) v\n",
    "    )\n",
    "    select a1.*, a2.col2 as col3\n",
    "    from a a1\n",
    "    left join a a2\n",
    "    on a1.col1 = a2.col2\n",
    "    ORDER BY a1.col2;\n",
    "    \"\"\"\n",
    "import uuid\n",
    "def run_query(multiplier, warehouse=None):\n",
    "    print(\"running query\")\n",
    "    if warehouse:\n",
    "        run_sql(f\"use warehouse {warehouse};\", wait=True)\n",
    "    random_id = str(uuid.uuid4()).replace(\"-\", \"_\")\n",
    "    q = test_query(f\"test_table_{random_id}\", multiplier)\n",
    "    run_sql(q, wait=False)\n",
    "\n",
    "    \n",
    "# def run_query(sec=10, warehouse=None):\n",
    "#     print(\"running query\")\n",
    "#     if warehouse:\n",
    "#         run_sql(f\"use warehouse {warehouse};\", wait=True)\n",
    "#     run_sql(f\"call test_query({sec});\", wait=False)\n",
    "\n",
    "\n",
    "    # PREPARE QUERY SCHEDULE\n",
    "\n",
    "            #    |-------------------------|-------------------------|-------------------------|-------------------------|\n",
    "            #   start                    60 sec\n",
    "\n",
    "            #    |--|                   |--|                         |--|                   |--|\n",
    "\n",
    "# Control        R                          S                   R                         S\n",
    "# Test           R                                                                                                   S\n",
    "\n",
    "initial_offset = 5\n",
    "\n",
    "# QUERY_LENGTH = 10\n",
    "NUM_PARALLEL_QUERIES = 10\n",
    "\n",
    "workload_start_times = [0, 10, 20, 30] \n",
    "\n",
    "\n",
    "s = sched.scheduler(time.time, time.sleep)\n",
    "\n",
    "for i in range(NUM_PARALLEL_QUERIES):\n",
    "    for t in workload_start_times:\n",
    "        offset = initial_offset + t\n",
    "        # QUERY_WAIT = 0 if t < 30 else 10\n",
    "        multiplier = t/5 + 1\n",
    "        s.enter(offset,1,run_query,argument=(multiplier,))\n",
    "\n",
    "for job in s.queue:\n",
    "    print(job)\n"
   ]
  },
  {
   "cell_type": "code",
   "execution_count": 44,
   "id": "c993d1ea-34f8-4137-a3f5-170aae86d839",
   "metadata": {},
   "outputs": [
    {
     "name": "stdout",
     "output_type": "stream",
     "text": [
      "running query\n",
      "running query\n",
      "running query\n",
      "running query\n",
      "running query\n",
      "running query\n",
      "running query\n",
      "running query\n",
      "running query\n",
      "running query\n",
      "running query\n",
      "running query\n",
      "running query\n",
      "running query\n",
      "running query\n",
      "running query\n",
      "running query\n",
      "running query\n",
      "running query\n",
      "running query\n",
      "running query\n",
      "running query\n",
      "running query\n",
      "running query\n",
      "running query\n",
      "running query\n",
      "running query\n",
      "running query\n",
      "running query\n",
      "running query\n",
      "running query\n",
      "running query\n",
      "running query\n",
      "running query\n",
      "running query\n",
      "running query\n",
      "running query\n",
      "running query\n",
      "running query\n",
      "running query\n",
      "time: 35.7 s (started: 2023-06-02 00:33:56 -04:00)\n"
     ]
    }
   ],
   "source": [
    "s.run()"
   ]
  },
  {
   "cell_type": "code",
   "execution_count": null,
   "id": "d8549694-8dbc-4da9-bebf-15aa67c5e919",
   "metadata": {},
   "outputs": [
    {
     "name": "stderr",
     "output_type": "stream",
     "text": [
      "02:22:59 INFO:query: [drop warehouse test_248cb963_a182_4b59_9b2c_c82802ef6548]\n",
      "02:22:59 INFO:query execution done\n"
     ]
    },
    {
     "ename": "ProgrammingError",
     "evalue": "002003 (02000): 01ac735e-0001-1d07-0000-0003f276b721: SQL compilation error:\nWarehouse 'TEST_248CB963_A182_4B59_9B2C_C82802EF6548' does not exist or not authorized.",
     "output_type": "error",
     "traceback": [
      "\u001b[0;31m---------------------------------------------------------------------------\u001b[0m",
      "\u001b[0;31mProgrammingError\u001b[0m                          Traceback (most recent call last)",
      "Cell \u001b[0;32mIn[90], line 1\u001b[0m\n\u001b[0;32m----> 1\u001b[0m \u001b[43mrun_sql\u001b[49m\u001b[43m(\u001b[49m\u001b[38;5;124;43mf\u001b[39;49m\u001b[38;5;124;43m\"\u001b[39;49m\u001b[38;5;124;43mdrop warehouse \u001b[39;49m\u001b[38;5;132;43;01m{\u001b[39;49;00m\u001b[43mwh_name\u001b[49m\u001b[38;5;132;43;01m}\u001b[39;49;00m\u001b[38;5;124;43m\"\u001b[39;49m\u001b[43m)\u001b[49m\n",
      "File \u001b[0;32m~/Documents/code/optiml/optiml/utils/sf.py:49\u001b[0m, in \u001b[0;36mrun_sql\u001b[0;34m(sql, ctx, wait)\u001b[0m\n\u001b[1;32m     47\u001b[0m \u001b[38;5;28;01mdef\u001b[39;00m \u001b[38;5;21mrun_sql\u001b[39m(sql: \u001b[38;5;28mstr\u001b[39m, ctx\u001b[38;5;241m=\u001b[39mconn, wait\u001b[38;5;241m=\u001b[39m\u001b[38;5;28;01mTrue\u001b[39;00m):\n\u001b[1;32m     48\u001b[0m     logging\u001b[38;5;241m.\u001b[39mdebug(\u001b[38;5;124mf\u001b[39m\u001b[38;5;124m\"\u001b[39m\u001b[38;5;124mrunning sql: \u001b[39m\u001b[38;5;132;01m{\u001b[39;00msql\u001b[38;5;132;01m}\u001b[39;00m\u001b[38;5;124m\"\u001b[39m)\n\u001b[0;32m---> 49\u001b[0m     \u001b[38;5;28;01mreturn\u001b[39;00m \u001b[43mconn\u001b[49m\u001b[38;5;241;43m.\u001b[39;49m\u001b[43mcursor\u001b[49m\u001b[43m(\u001b[49m\u001b[43m)\u001b[49m\u001b[38;5;241;43m.\u001b[39;49m\u001b[43mexecute\u001b[49m\u001b[43m(\u001b[49m\u001b[43msql\u001b[49m\u001b[43m,\u001b[49m\u001b[43m \u001b[49m\u001b[43m_no_results\u001b[49m\u001b[38;5;241;43m=\u001b[39;49m\u001b[43m(\u001b[49m\u001b[38;5;129;43;01mnot\u001b[39;49;00m\u001b[43m \u001b[49m\u001b[43mwait\u001b[49m\u001b[43m)\u001b[49m\u001b[43m)\u001b[49m\n",
      "File \u001b[0;32m/usr/local/anaconda3/envs/optiml38/lib/python3.8/site-packages/snowflake/connector/cursor.py:804\u001b[0m, in \u001b[0;36mSnowflakeCursor.execute\u001b[0;34m(self, command, params, _bind_stage, timeout, _exec_async, _no_retry, _do_reset, _put_callback, _put_azure_callback, _put_callback_output_stream, _get_callback, _get_azure_callback, _get_callback_output_stream, _show_progress_bar, _statement_params, _is_internal, _describe_only, _no_results, _is_put_get, _raise_put_get_error, _force_put_overwrite, file_stream)\u001b[0m\n\u001b[1;32m    800\u001b[0m     is_integrity_error \u001b[38;5;241m=\u001b[39m (\n\u001b[1;32m    801\u001b[0m         code \u001b[38;5;241m==\u001b[39m \u001b[38;5;124m\"\u001b[39m\u001b[38;5;124m100072\u001b[39m\u001b[38;5;124m\"\u001b[39m\n\u001b[1;32m    802\u001b[0m     )  \u001b[38;5;66;03m# NULL result in a non-nullable column\u001b[39;00m\n\u001b[1;32m    803\u001b[0m     error_class \u001b[38;5;241m=\u001b[39m IntegrityError \u001b[38;5;28;01mif\u001b[39;00m is_integrity_error \u001b[38;5;28;01melse\u001b[39;00m ProgrammingError\n\u001b[0;32m--> 804\u001b[0m     \u001b[43mError\u001b[49m\u001b[38;5;241;43m.\u001b[39;49m\u001b[43merrorhandler_wrapper\u001b[49m\u001b[43m(\u001b[49m\u001b[38;5;28;43mself\u001b[39;49m\u001b[38;5;241;43m.\u001b[39;49m\u001b[43mconnection\u001b[49m\u001b[43m,\u001b[49m\u001b[43m \u001b[49m\u001b[38;5;28;43mself\u001b[39;49m\u001b[43m,\u001b[49m\u001b[43m \u001b[49m\u001b[43merror_class\u001b[49m\u001b[43m,\u001b[49m\u001b[43m \u001b[49m\u001b[43merrvalue\u001b[49m\u001b[43m)\u001b[49m\n\u001b[1;32m    805\u001b[0m \u001b[38;5;28;01mreturn\u001b[39;00m \u001b[38;5;28mself\u001b[39m\n",
      "File \u001b[0;32m/usr/local/anaconda3/envs/optiml38/lib/python3.8/site-packages/snowflake/connector/errors.py:276\u001b[0m, in \u001b[0;36mError.errorhandler_wrapper\u001b[0;34m(connection, cursor, error_class, error_value)\u001b[0m\n\u001b[1;32m    253\u001b[0m \u001b[38;5;129m@staticmethod\u001b[39m\n\u001b[1;32m    254\u001b[0m \u001b[38;5;28;01mdef\u001b[39;00m \u001b[38;5;21merrorhandler_wrapper\u001b[39m(\n\u001b[1;32m    255\u001b[0m     connection: SnowflakeConnection \u001b[38;5;241m|\u001b[39m \u001b[38;5;28;01mNone\u001b[39;00m,\n\u001b[0;32m   (...)\u001b[0m\n\u001b[1;32m    258\u001b[0m     error_value: \u001b[38;5;28mdict\u001b[39m[\u001b[38;5;28mstr\u001b[39m, \u001b[38;5;28mstr\u001b[39m \u001b[38;5;241m|\u001b[39m \u001b[38;5;28mbool\u001b[39m \u001b[38;5;241m|\u001b[39m \u001b[38;5;28mint\u001b[39m],\n\u001b[1;32m    259\u001b[0m ) \u001b[38;5;241m-\u001b[39m\u001b[38;5;241m>\u001b[39m \u001b[38;5;28;01mNone\u001b[39;00m:\n\u001b[1;32m    260\u001b[0m \u001b[38;5;250m    \u001b[39m\u001b[38;5;124;03m\"\"\"Error handler wrapper that calls the errorhandler method.\u001b[39;00m\n\u001b[1;32m    261\u001b[0m \n\u001b[1;32m    262\u001b[0m \u001b[38;5;124;03m    Args:\u001b[39;00m\n\u001b[0;32m   (...)\u001b[0m\n\u001b[1;32m    273\u001b[0m \u001b[38;5;124;03m        exception to the first handler in that order.\u001b[39;00m\n\u001b[1;32m    274\u001b[0m \u001b[38;5;124;03m    \"\"\"\u001b[39;00m\n\u001b[0;32m--> 276\u001b[0m     handed_over \u001b[38;5;241m=\u001b[39m \u001b[43mError\u001b[49m\u001b[38;5;241;43m.\u001b[39;49m\u001b[43mhand_to_other_handler\u001b[49m\u001b[43m(\u001b[49m\n\u001b[1;32m    277\u001b[0m \u001b[43m        \u001b[49m\u001b[43mconnection\u001b[49m\u001b[43m,\u001b[49m\n\u001b[1;32m    278\u001b[0m \u001b[43m        \u001b[49m\u001b[43mcursor\u001b[49m\u001b[43m,\u001b[49m\n\u001b[1;32m    279\u001b[0m \u001b[43m        \u001b[49m\u001b[43merror_class\u001b[49m\u001b[43m,\u001b[49m\n\u001b[1;32m    280\u001b[0m \u001b[43m        \u001b[49m\u001b[43merror_value\u001b[49m\u001b[43m,\u001b[49m\n\u001b[1;32m    281\u001b[0m \u001b[43m    \u001b[49m\u001b[43m)\u001b[49m\n\u001b[1;32m    282\u001b[0m     \u001b[38;5;28;01mif\u001b[39;00m \u001b[38;5;129;01mnot\u001b[39;00m handed_over:\n\u001b[1;32m    283\u001b[0m         \u001b[38;5;28;01mraise\u001b[39;00m Error\u001b[38;5;241m.\u001b[39merrorhandler_make_exception(\n\u001b[1;32m    284\u001b[0m             error_class,\n\u001b[1;32m    285\u001b[0m             error_value,\n\u001b[1;32m    286\u001b[0m         )\n",
      "File \u001b[0;32m/usr/local/anaconda3/envs/optiml38/lib/python3.8/site-packages/snowflake/connector/errors.py:331\u001b[0m, in \u001b[0;36mError.hand_to_other_handler\u001b[0;34m(connection, cursor, error_class, error_value)\u001b[0m\n\u001b[1;32m    329\u001b[0m \u001b[38;5;28;01mif\u001b[39;00m cursor \u001b[38;5;129;01mis\u001b[39;00m \u001b[38;5;129;01mnot\u001b[39;00m \u001b[38;5;28;01mNone\u001b[39;00m:\n\u001b[1;32m    330\u001b[0m     cursor\u001b[38;5;241m.\u001b[39mmessages\u001b[38;5;241m.\u001b[39mappend((error_class, error_value))\n\u001b[0;32m--> 331\u001b[0m     \u001b[43mcursor\u001b[49m\u001b[38;5;241;43m.\u001b[39;49m\u001b[43merrorhandler\u001b[49m\u001b[43m(\u001b[49m\u001b[43mconnection\u001b[49m\u001b[43m,\u001b[49m\u001b[43m \u001b[49m\u001b[43mcursor\u001b[49m\u001b[43m,\u001b[49m\u001b[43m \u001b[49m\u001b[43merror_class\u001b[49m\u001b[43m,\u001b[49m\u001b[43m \u001b[49m\u001b[43merror_value\u001b[49m\u001b[43m)\u001b[49m\n\u001b[1;32m    332\u001b[0m     \u001b[38;5;28;01mreturn\u001b[39;00m \u001b[38;5;28;01mTrue\u001b[39;00m\n\u001b[1;32m    333\u001b[0m \u001b[38;5;28;01melif\u001b[39;00m connection \u001b[38;5;129;01mis\u001b[39;00m \u001b[38;5;129;01mnot\u001b[39;00m \u001b[38;5;28;01mNone\u001b[39;00m:\n",
      "File \u001b[0;32m/usr/local/anaconda3/envs/optiml38/lib/python3.8/site-packages/snowflake/connector/errors.py:210\u001b[0m, in \u001b[0;36mError.default_errorhandler\u001b[0;34m(connection, cursor, error_class, error_value)\u001b[0m\n\u001b[1;32m    192\u001b[0m \u001b[38;5;129m@staticmethod\u001b[39m\n\u001b[1;32m    193\u001b[0m \u001b[38;5;28;01mdef\u001b[39;00m \u001b[38;5;21mdefault_errorhandler\u001b[39m(\n\u001b[1;32m    194\u001b[0m     connection: SnowflakeConnection,\n\u001b[0;32m   (...)\u001b[0m\n\u001b[1;32m    197\u001b[0m     error_value: \u001b[38;5;28mdict\u001b[39m[\u001b[38;5;28mstr\u001b[39m, \u001b[38;5;28mstr\u001b[39m],\n\u001b[1;32m    198\u001b[0m ) \u001b[38;5;241m-\u001b[39m\u001b[38;5;241m>\u001b[39m \u001b[38;5;28;01mNone\u001b[39;00m:\n\u001b[1;32m    199\u001b[0m \u001b[38;5;250m    \u001b[39m\u001b[38;5;124;03m\"\"\"Default error handler that raises an error.\u001b[39;00m\n\u001b[1;32m    200\u001b[0m \n\u001b[1;32m    201\u001b[0m \u001b[38;5;124;03m    Args:\u001b[39;00m\n\u001b[0;32m   (...)\u001b[0m\n\u001b[1;32m    208\u001b[0m \u001b[38;5;124;03m        A Snowflake error.\u001b[39;00m\n\u001b[1;32m    209\u001b[0m \u001b[38;5;124;03m    \"\"\"\u001b[39;00m\n\u001b[0;32m--> 210\u001b[0m     \u001b[38;5;28;01mraise\u001b[39;00m error_class(\n\u001b[1;32m    211\u001b[0m         msg\u001b[38;5;241m=\u001b[39merror_value\u001b[38;5;241m.\u001b[39mget(\u001b[38;5;124m\"\u001b[39m\u001b[38;5;124mmsg\u001b[39m\u001b[38;5;124m\"\u001b[39m),\n\u001b[1;32m    212\u001b[0m         errno\u001b[38;5;241m=\u001b[39merror_value\u001b[38;5;241m.\u001b[39mget(\u001b[38;5;124m\"\u001b[39m\u001b[38;5;124merrno\u001b[39m\u001b[38;5;124m\"\u001b[39m),\n\u001b[1;32m    213\u001b[0m         sqlstate\u001b[38;5;241m=\u001b[39merror_value\u001b[38;5;241m.\u001b[39mget(\u001b[38;5;124m\"\u001b[39m\u001b[38;5;124msqlstate\u001b[39m\u001b[38;5;124m\"\u001b[39m),\n\u001b[1;32m    214\u001b[0m         sfqid\u001b[38;5;241m=\u001b[39merror_value\u001b[38;5;241m.\u001b[39mget(\u001b[38;5;124m\"\u001b[39m\u001b[38;5;124msfqid\u001b[39m\u001b[38;5;124m\"\u001b[39m),\n\u001b[1;32m    215\u001b[0m         done_format_msg\u001b[38;5;241m=\u001b[39merror_value\u001b[38;5;241m.\u001b[39mget(\u001b[38;5;124m\"\u001b[39m\u001b[38;5;124mdone_format_msg\u001b[39m\u001b[38;5;124m\"\u001b[39m),\n\u001b[1;32m    216\u001b[0m         connection\u001b[38;5;241m=\u001b[39mconnection,\n\u001b[1;32m    217\u001b[0m         cursor\u001b[38;5;241m=\u001b[39mcursor,\n\u001b[1;32m    218\u001b[0m     )\n",
      "\u001b[0;31mProgrammingError\u001b[0m: 002003 (02000): 01ac735e-0001-1d07-0000-0003f276b721: SQL compilation error:\nWarehouse 'TEST_248CB963_A182_4B59_9B2C_C82802EF6548' does not exist or not authorized."
     ]
    },
    {
     "name": "stdout",
     "output_type": "stream",
     "text": [
      "time: 333 ms (started: 2023-05-22 02:22:59 -04:00)\n"
     ]
    }
   ],
   "source": [
    "run_sql(f\"drop warehouse {wh_name}\")"
   ]
  },
  {
   "cell_type": "code",
   "execution_count": null,
   "id": "071002f5-3616-4f3f-b4b5-e0e213c05995",
   "metadata": {},
   "outputs": [
    {
     "data": {
      "text/html": [
       "<div>\n",
       "<style scoped>\n",
       "    .dataframe tbody tr th:only-of-type {\n",
       "        vertical-align: middle;\n",
       "    }\n",
       "\n",
       "    .dataframe tbody tr th {\n",
       "        vertical-align: top;\n",
       "    }\n",
       "\n",
       "    .dataframe thead th {\n",
       "        text-align: right;\n",
       "    }\n",
       "</style>\n",
       "<table border=\"1\" class=\"dataframe\">\n",
       "  <thead>\n",
       "    <tr style=\"text-align: right;\">\n",
       "      <th></th>\n",
       "      <th>warehouse_name</th>\n",
       "      <th>cluster_number</th>\n",
       "      <th>start_time</th>\n",
       "      <th>exec_start_time</th>\n",
       "      <th>end_time</th>\n",
       "      <th>query_text</th>\n",
       "      <th>query_id</th>\n",
       "    </tr>\n",
       "  </thead>\n",
       "  <tbody>\n",
       "    <tr>\n",
       "      <th>0</th>\n",
       "      <td>TEST_1C01F24E_3523_47E8_97B2_1C3759C0ED0E</td>\n",
       "      <td>1</td>\n",
       "      <td>2023-05-22 08:00:02.192000-07:00</td>\n",
       "      <td>2023-05-22 08:00:02.527000-07:00</td>\n",
       "      <td>2023-05-22 08:00:02.879000-07:00</td>\n",
       "      <td>select \\n    *\\nfrom table(information_schema....</td>\n",
       "      <td>01ac7564-0001-1d07-0000-0003f276bca5</td>\n",
       "    </tr>\n",
       "    <tr>\n",
       "      <th>1</th>\n",
       "      <td>TEST_1C01F24E_3523_47E8_97B2_1C3759C0ED0E</td>\n",
       "      <td>1</td>\n",
       "      <td>2023-05-22 07:59:45.030000-07:00</td>\n",
       "      <td>2023-05-22 07:59:45.688000-07:00</td>\n",
       "      <td>2023-05-22 07:59:45.923000-07:00</td>\n",
       "      <td>select \\n    *\\nfrom table(information_schema....</td>\n",
       "      <td>01ac7563-0001-1d85-0000-0003f276c6fd</td>\n",
       "    </tr>\n",
       "    <tr>\n",
       "      <th>2</th>\n",
       "      <td>TEST_1C01F24E_3523_47E8_97B2_1C3759C0ED0E</td>\n",
       "      <td>1</td>\n",
       "      <td>2023-05-22 07:56:39.544000-07:00</td>\n",
       "      <td>2023-05-22 07:56:39.677000-07:00</td>\n",
       "      <td>2023-05-22 07:56:39.949000-07:00</td>\n",
       "      <td>select \\n    *\\nfrom table(information_schema....</td>\n",
       "      <td>01ac7560-0001-1dbf-0000-0003f276e33d</td>\n",
       "    </tr>\n",
       "    <tr>\n",
       "      <th>3</th>\n",
       "      <td>TEST_1C01F24E_3523_47E8_97B2_1C3759C0ED0E</td>\n",
       "      <td>1</td>\n",
       "      <td>2023-05-22 07:56:10.554000-07:00</td>\n",
       "      <td>2023-05-22 07:56:11.474000-07:00</td>\n",
       "      <td>2023-05-22 07:56:12.426000-07:00</td>\n",
       "      <td>select \\n    *\\nfrom table(information_schema....</td>\n",
       "      <td>01ac7560-0001-1dbf-0000-0003f276e339</td>\n",
       "    </tr>\n",
       "    <tr>\n",
       "      <th>4</th>\n",
       "      <td>TEST_1C01F24E_3523_47E8_97B2_1C3759C0ED0E</td>\n",
       "      <td>1</td>\n",
       "      <td>2023-05-22 07:54:41.151000-07:00</td>\n",
       "      <td>2023-05-22 07:54:41.275000-07:00</td>\n",
       "      <td>2023-05-22 07:54:41.512000-07:00</td>\n",
       "      <td>select \\n    *\\nfrom table(information_schema....</td>\n",
       "      <td>01ac755e-0001-1e2f-0000-0003f276d321</td>\n",
       "    </tr>\n",
       "    <tr>\n",
       "      <th>...</th>\n",
       "      <td>...</td>\n",
       "      <td>...</td>\n",
       "      <td>...</td>\n",
       "      <td>...</td>\n",
       "      <td>...</td>\n",
       "      <td>...</td>\n",
       "      <td>...</td>\n",
       "    </tr>\n",
       "    <tr>\n",
       "      <th>70</th>\n",
       "      <td>TEST_1C01F24E_3523_47E8_97B2_1C3759C0ED0E</td>\n",
       "      <td>3</td>\n",
       "      <td>2023-05-22 07:29:34.434000-07:00</td>\n",
       "      <td>2023-05-22 07:29:34.945000-07:00</td>\n",
       "      <td>2023-05-22 07:32:40.399000-07:00</td>\n",
       "      <td>create or replace table test as SELECT seq4() ...</td>\n",
       "      <td>01ac7545-0001-1dbf-0000-0003f276e0b5</td>\n",
       "    </tr>\n",
       "    <tr>\n",
       "      <th>71</th>\n",
       "      <td>TEST_1C01F24E_3523_47E8_97B2_1C3759C0ED0E</td>\n",
       "      <td>2</td>\n",
       "      <td>2023-05-22 07:29:34.235000-07:00</td>\n",
       "      <td>2023-05-22 07:29:34.406000-07:00</td>\n",
       "      <td>2023-05-22 07:33:00.168000-07:00</td>\n",
       "      <td>call test_query(10);</td>\n",
       "      <td>01ac7545-0001-1d85-0000-0003f276c43d</td>\n",
       "    </tr>\n",
       "    <tr>\n",
       "      <th>72</th>\n",
       "      <td>TEST_1C01F24E_3523_47E8_97B2_1C3759C0ED0E</td>\n",
       "      <td>2</td>\n",
       "      <td>2023-05-22 07:29:33.810000-07:00</td>\n",
       "      <td>2023-05-22 07:29:34.023000-07:00</td>\n",
       "      <td>2023-05-22 07:32:59.902000-07:00</td>\n",
       "      <td>call test_query(10);</td>\n",
       "      <td>01ac7545-0001-1dbf-0000-0003f276e0a9</td>\n",
       "    </tr>\n",
       "    <tr>\n",
       "      <th>73</th>\n",
       "      <td>TEST_1C01F24E_3523_47E8_97B2_1C3759C0ED0E</td>\n",
       "      <td>4</td>\n",
       "      <td>2023-05-22 07:29:33.349000-07:00</td>\n",
       "      <td>2023-05-22 07:29:34.693000-07:00</td>\n",
       "      <td>2023-05-22 07:32:40.363000-07:00</td>\n",
       "      <td>create or replace table test as SELECT seq4() ...</td>\n",
       "      <td>01ac7545-0001-1dbf-0000-0003f276e0a1</td>\n",
       "    </tr>\n",
       "    <tr>\n",
       "      <th>74</th>\n",
       "      <td>TEST_1C01F24E_3523_47E8_97B2_1C3759C0ED0E</td>\n",
       "      <td>1</td>\n",
       "      <td>2023-05-22 07:29:33.195000-07:00</td>\n",
       "      <td>2023-05-22 07:29:33.260000-07:00</td>\n",
       "      <td>2023-05-22 07:32:59.875000-07:00</td>\n",
       "      <td>call test_query(10);</td>\n",
       "      <td>01ac7545-0001-1dbf-0000-0003f276e09d</td>\n",
       "    </tr>\n",
       "  </tbody>\n",
       "</table>\n",
       "<p>75 rows × 7 columns</p>\n",
       "</div>"
      ],
      "text/plain": [
       "                               warehouse_name cluster_number  \\\n",
       "0   TEST_1C01F24E_3523_47E8_97B2_1C3759C0ED0E              1   \n",
       "1   TEST_1C01F24E_3523_47E8_97B2_1C3759C0ED0E              1   \n",
       "2   TEST_1C01F24E_3523_47E8_97B2_1C3759C0ED0E              1   \n",
       "3   TEST_1C01F24E_3523_47E8_97B2_1C3759C0ED0E              1   \n",
       "4   TEST_1C01F24E_3523_47E8_97B2_1C3759C0ED0E              1   \n",
       "..                                        ...            ...   \n",
       "70  TEST_1C01F24E_3523_47E8_97B2_1C3759C0ED0E              3   \n",
       "71  TEST_1C01F24E_3523_47E8_97B2_1C3759C0ED0E              2   \n",
       "72  TEST_1C01F24E_3523_47E8_97B2_1C3759C0ED0E              2   \n",
       "73  TEST_1C01F24E_3523_47E8_97B2_1C3759C0ED0E              4   \n",
       "74  TEST_1C01F24E_3523_47E8_97B2_1C3759C0ED0E              1   \n",
       "\n",
       "                         start_time                  exec_start_time  \\\n",
       "0  2023-05-22 08:00:02.192000-07:00 2023-05-22 08:00:02.527000-07:00   \n",
       "1  2023-05-22 07:59:45.030000-07:00 2023-05-22 07:59:45.688000-07:00   \n",
       "2  2023-05-22 07:56:39.544000-07:00 2023-05-22 07:56:39.677000-07:00   \n",
       "3  2023-05-22 07:56:10.554000-07:00 2023-05-22 07:56:11.474000-07:00   \n",
       "4  2023-05-22 07:54:41.151000-07:00 2023-05-22 07:54:41.275000-07:00   \n",
       "..                              ...                              ...   \n",
       "70 2023-05-22 07:29:34.434000-07:00 2023-05-22 07:29:34.945000-07:00   \n",
       "71 2023-05-22 07:29:34.235000-07:00 2023-05-22 07:29:34.406000-07:00   \n",
       "72 2023-05-22 07:29:33.810000-07:00 2023-05-22 07:29:34.023000-07:00   \n",
       "73 2023-05-22 07:29:33.349000-07:00 2023-05-22 07:29:34.693000-07:00   \n",
       "74 2023-05-22 07:29:33.195000-07:00 2023-05-22 07:29:33.260000-07:00   \n",
       "\n",
       "                           end_time  \\\n",
       "0  2023-05-22 08:00:02.879000-07:00   \n",
       "1  2023-05-22 07:59:45.923000-07:00   \n",
       "2  2023-05-22 07:56:39.949000-07:00   \n",
       "3  2023-05-22 07:56:12.426000-07:00   \n",
       "4  2023-05-22 07:54:41.512000-07:00   \n",
       "..                              ...   \n",
       "70 2023-05-22 07:32:40.399000-07:00   \n",
       "71 2023-05-22 07:33:00.168000-07:00   \n",
       "72 2023-05-22 07:32:59.902000-07:00   \n",
       "73 2023-05-22 07:32:40.363000-07:00   \n",
       "74 2023-05-22 07:32:59.875000-07:00   \n",
       "\n",
       "                                           query_text  \\\n",
       "0   select \\n    *\\nfrom table(information_schema....   \n",
       "1   select \\n    *\\nfrom table(information_schema....   \n",
       "2   select \\n    *\\nfrom table(information_schema....   \n",
       "3   select \\n    *\\nfrom table(information_schema....   \n",
       "4   select \\n    *\\nfrom table(information_schema....   \n",
       "..                                                ...   \n",
       "70  create or replace table test as SELECT seq4() ...   \n",
       "71                               call test_query(10);   \n",
       "72                               call test_query(10);   \n",
       "73  create or replace table test as SELECT seq4() ...   \n",
       "74                               call test_query(10);   \n",
       "\n",
       "                                query_id  \n",
       "0   01ac7564-0001-1d07-0000-0003f276bca5  \n",
       "1   01ac7563-0001-1d85-0000-0003f276c6fd  \n",
       "2   01ac7560-0001-1dbf-0000-0003f276e33d  \n",
       "3   01ac7560-0001-1dbf-0000-0003f276e339  \n",
       "4   01ac755e-0001-1e2f-0000-0003f276d321  \n",
       "..                                   ...  \n",
       "70  01ac7545-0001-1dbf-0000-0003f276e0b5  \n",
       "71  01ac7545-0001-1d85-0000-0003f276c43d  \n",
       "72  01ac7545-0001-1dbf-0000-0003f276e0a9  \n",
       "73  01ac7545-0001-1dbf-0000-0003f276e0a1  \n",
       "74  01ac7545-0001-1dbf-0000-0003f276e09d  \n",
       "\n",
       "[75 rows x 7 columns]"
      ]
     },
     "execution_count": 23,
     "metadata": {},
     "output_type": "execute_result"
    },
    {
     "name": "stdout",
     "output_type": "stream",
     "text": [
      "time: 731 ms (started: 2023-05-22 11:59:01 -04:00)\n"
     ]
    }
   ],
   "source": [
    "qdf[['warehouse_name', 'cluster_number', 'start_time', 'exec_start_time', 'end_time', 'query_text', 'query_id']]"
   ]
  },
  {
   "cell_type": "code",
   "execution_count": 18,
   "id": "54652af3-a8b1-4bf2-8693-8aae0e17df8d",
   "metadata": {},
   "outputs": [
    {
     "name": "stdout",
     "output_type": "stream",
     "text": [
      "\n",
      "with q as (\n",
      "select \n",
      "    *,\n",
      "      warehouse_name || ':' || cluster_number || ':' || query_id as warehouse_query,\n",
      "    TIMESTAMPADD( millisecond , -execution_time,end_time) as exec_start_time\n",
      "from table(information_schema.query_history_by_warehouse('test_bc9a9691_c770_4eb7_96e9_278aac7db0c6'))\n",
      "where execution_status != 'RUNNING'\n",
      "and warehouse_size is not null\n",
      "order by start_time desc\n",
      "limit 100\n",
      ")\n",
      "select\n",
      "  'running' as status,\n",
      "  warehouse_query,\n",
      "  warehouse_name,\n",
      "  cluster_number,\n",
      "  exec_start_time as start_time,\n",
      "  end_time,\n",
      "  query_text,\n",
      "  query_id\n",
      "from q\n",
      "union\n",
      "select\n",
      "  'queued' as status,\n",
      "  warehouse_query,\n",
      "  warehouse_name,\n",
      "  cluster_number,\n",
      "  start_time,\n",
      "  exec_start_time as end_time,\n",
      "  query_text,\n",
      "  query_id\n",
      "from q\n",
      "\n",
      "time: 7 ms (started: 2023-06-01 13:21:26 -04:00)\n"
     ]
    }
   ],
   "source": [
    "print(queries)"
   ]
  },
  {
   "cell_type": "code",
   "execution_count": 26,
   "id": "aaa3818f-0aa1-48ca-845b-9fcfc7f1c4aa",
   "metadata": {},
   "outputs": [
    {
     "data": {
      "text/html": [
       "<div>\n",
       "<style scoped>\n",
       "    .dataframe tbody tr th:only-of-type {\n",
       "        vertical-align: middle;\n",
       "    }\n",
       "\n",
       "    .dataframe tbody tr th {\n",
       "        vertical-align: top;\n",
       "    }\n",
       "\n",
       "    .dataframe thead th {\n",
       "        text-align: right;\n",
       "    }\n",
       "</style>\n",
       "<table border=\"1\" class=\"dataframe\">\n",
       "  <thead>\n",
       "    <tr style=\"text-align: right;\">\n",
       "      <th></th>\n",
       "      <th>status</th>\n",
       "      <th>warehouse_query</th>\n",
       "      <th>warehouse_name</th>\n",
       "      <th>cluster_number</th>\n",
       "      <th>start_time</th>\n",
       "      <th>end_time</th>\n",
       "      <th>query_text</th>\n",
       "      <th>query_id</th>\n",
       "    </tr>\n",
       "  </thead>\n",
       "  <tbody>\n",
       "    <tr>\n",
       "      <th>0</th>\n",
       "      <td>running</td>\n",
       "      <td>TEST_BC9A9691_C770_4EB7_96E9_278AAC7DB0C6:3:01...</td>\n",
       "      <td>TEST_BC9A9691_C770_4EB7_96E9_278AAC7DB0C6</td>\n",
       "      <td>3</td>\n",
       "      <td>2023-06-01 16:41:59.407000-07:00</td>\n",
       "      <td>2023-06-01 16:42:41.714000-07:00</td>\n",
       "      <td>create or replace table test as SELECT seq4() ...</td>\n",
       "      <td>01acafad-0001-217d-0003-f2760001f406</td>\n",
       "    </tr>\n",
       "    <tr>\n",
       "      <th>1</th>\n",
       "      <td>running</td>\n",
       "      <td>TEST_BC9A9691_C770_4EB7_96E9_278AAC7DB0C6:3:01...</td>\n",
       "      <td>TEST_BC9A9691_C770_4EB7_96E9_278AAC7DB0C6</td>\n",
       "      <td>3</td>\n",
       "      <td>2023-06-01 16:41:58.029000-07:00</td>\n",
       "      <td>2023-06-01 16:42:41.220000-07:00</td>\n",
       "      <td>create or replace table test as SELECT seq4() ...</td>\n",
       "      <td>01acafad-0001-217d-0003-f2760001f402</td>\n",
       "    </tr>\n",
       "    <tr>\n",
       "      <th>2</th>\n",
       "      <td>running</td>\n",
       "      <td>TEST_BC9A9691_C770_4EB7_96E9_278AAC7DB0C6:3:01...</td>\n",
       "      <td>TEST_BC9A9691_C770_4EB7_96E9_278AAC7DB0C6</td>\n",
       "      <td>3</td>\n",
       "      <td>2023-06-01 16:41:06.658000-07:00</td>\n",
       "      <td>2023-06-01 16:42:51.780000-07:00</td>\n",
       "      <td>call test_query(10);</td>\n",
       "      <td>01acafad-0001-217d-0003-f2760001f3fe</td>\n",
       "    </tr>\n",
       "    <tr>\n",
       "      <th>3</th>\n",
       "      <td>running</td>\n",
       "      <td>TEST_BC9A9691_C770_4EB7_96E9_278AAC7DB0C6:3:01...</td>\n",
       "      <td>TEST_BC9A9691_C770_4EB7_96E9_278AAC7DB0C6</td>\n",
       "      <td>3</td>\n",
       "      <td>2023-06-01 16:41:57.587000-07:00</td>\n",
       "      <td>2023-06-01 16:42:41.487000-07:00</td>\n",
       "      <td>create or replace table test as SELECT seq4() ...</td>\n",
       "      <td>01acafad-0001-2143-0003-f2760001d41a</td>\n",
       "    </tr>\n",
       "    <tr>\n",
       "      <th>4</th>\n",
       "      <td>running</td>\n",
       "      <td>TEST_BC9A9691_C770_4EB7_96E9_278AAC7DB0C6:2:01...</td>\n",
       "      <td>TEST_BC9A9691_C770_4EB7_96E9_278AAC7DB0C6</td>\n",
       "      <td>2</td>\n",
       "      <td>2023-06-01 16:41:06.545000-07:00</td>\n",
       "      <td>2023-06-01 16:42:51.288000-07:00</td>\n",
       "      <td>call test_query(10);</td>\n",
       "      <td>01acafad-0001-217d-0003-f2760001f3fa</td>\n",
       "    </tr>\n",
       "    <tr>\n",
       "      <th>...</th>\n",
       "      <td>...</td>\n",
       "      <td>...</td>\n",
       "      <td>...</td>\n",
       "      <td>...</td>\n",
       "      <td>...</td>\n",
       "      <td>...</td>\n",
       "      <td>...</td>\n",
       "      <td>...</td>\n",
       "    </tr>\n",
       "    <tr>\n",
       "      <th>127</th>\n",
       "      <td>queued</td>\n",
       "      <td>TEST_BC9A9691_C770_4EB7_96E9_278AAC7DB0C6:2:01...</td>\n",
       "      <td>TEST_BC9A9691_C770_4EB7_96E9_278AAC7DB0C6</td>\n",
       "      <td>2</td>\n",
       "      <td>2023-06-01 16:40:46.097000-07:00</td>\n",
       "      <td>2023-06-01 16:40:46.152000-07:00</td>\n",
       "      <td>call test_query(0);</td>\n",
       "      <td>01acafac-0001-217d-0003-f2760001f37a</td>\n",
       "    </tr>\n",
       "    <tr>\n",
       "      <th>128</th>\n",
       "      <td>queued</td>\n",
       "      <td>TEST_BC9A9691_C770_4EB7_96E9_278AAC7DB0C6:3:01...</td>\n",
       "      <td>TEST_BC9A9691_C770_4EB7_96E9_278AAC7DB0C6</td>\n",
       "      <td>3</td>\n",
       "      <td>2023-06-01 16:40:36.488000-07:00</td>\n",
       "      <td>2023-06-01 16:40:36.963000-07:00</td>\n",
       "      <td>create or replace table test as SELECT seq4() ...</td>\n",
       "      <td>01acafac-0001-217d-0003-f2760001f34e</td>\n",
       "    </tr>\n",
       "    <tr>\n",
       "      <th>129</th>\n",
       "      <td>queued</td>\n",
       "      <td>TEST_BC9A9691_C770_4EB7_96E9_278AAC7DB0C6:1:01...</td>\n",
       "      <td>TEST_BC9A9691_C770_4EB7_96E9_278AAC7DB0C6</td>\n",
       "      <td>1</td>\n",
       "      <td>2023-06-01 16:40:36.005000-07:00</td>\n",
       "      <td>2023-06-01 16:40:36.290000-07:00</td>\n",
       "      <td>call test_query(0);</td>\n",
       "      <td>01acafac-0001-217d-0003-f2760001f342</td>\n",
       "    </tr>\n",
       "    <tr>\n",
       "      <th>130</th>\n",
       "      <td>queued</td>\n",
       "      <td>TEST_BC9A9691_C770_4EB7_96E9_278AAC7DB0C6:2:01...</td>\n",
       "      <td>TEST_BC9A9691_C770_4EB7_96E9_278AAC7DB0C6</td>\n",
       "      <td>2</td>\n",
       "      <td>2023-06-01 16:40:56.460000-07:00</td>\n",
       "      <td>2023-06-01 16:41:32.937000-07:00</td>\n",
       "      <td>create or replace table test as SELECT seq4() ...</td>\n",
       "      <td>01acafac-0001-217d-0003-f2760001f3c6</td>\n",
       "    </tr>\n",
       "    <tr>\n",
       "      <th>131</th>\n",
       "      <td>queued</td>\n",
       "      <td>TEST_BC9A9691_C770_4EB7_96E9_278AAC7DB0C6:2:01...</td>\n",
       "      <td>TEST_BC9A9691_C770_4EB7_96E9_278AAC7DB0C6</td>\n",
       "      <td>2</td>\n",
       "      <td>2023-06-01 16:40:46.049000-07:00</td>\n",
       "      <td>2023-06-01 16:40:46.134000-07:00</td>\n",
       "      <td>call test_query(0);</td>\n",
       "      <td>01acafac-0001-2143-0003-f2760001d38a</td>\n",
       "    </tr>\n",
       "  </tbody>\n",
       "</table>\n",
       "<p>132 rows × 8 columns</p>\n",
       "</div>"
      ],
      "text/plain": [
       "      status                                    warehouse_query  \\\n",
       "0    running  TEST_BC9A9691_C770_4EB7_96E9_278AAC7DB0C6:3:01...   \n",
       "1    running  TEST_BC9A9691_C770_4EB7_96E9_278AAC7DB0C6:3:01...   \n",
       "2    running  TEST_BC9A9691_C770_4EB7_96E9_278AAC7DB0C6:3:01...   \n",
       "3    running  TEST_BC9A9691_C770_4EB7_96E9_278AAC7DB0C6:3:01...   \n",
       "4    running  TEST_BC9A9691_C770_4EB7_96E9_278AAC7DB0C6:2:01...   \n",
       "..       ...                                                ...   \n",
       "127   queued  TEST_BC9A9691_C770_4EB7_96E9_278AAC7DB0C6:2:01...   \n",
       "128   queued  TEST_BC9A9691_C770_4EB7_96E9_278AAC7DB0C6:3:01...   \n",
       "129   queued  TEST_BC9A9691_C770_4EB7_96E9_278AAC7DB0C6:1:01...   \n",
       "130   queued  TEST_BC9A9691_C770_4EB7_96E9_278AAC7DB0C6:2:01...   \n",
       "131   queued  TEST_BC9A9691_C770_4EB7_96E9_278AAC7DB0C6:2:01...   \n",
       "\n",
       "                                warehouse_name cluster_number  \\\n",
       "0    TEST_BC9A9691_C770_4EB7_96E9_278AAC7DB0C6              3   \n",
       "1    TEST_BC9A9691_C770_4EB7_96E9_278AAC7DB0C6              3   \n",
       "2    TEST_BC9A9691_C770_4EB7_96E9_278AAC7DB0C6              3   \n",
       "3    TEST_BC9A9691_C770_4EB7_96E9_278AAC7DB0C6              3   \n",
       "4    TEST_BC9A9691_C770_4EB7_96E9_278AAC7DB0C6              2   \n",
       "..                                         ...            ...   \n",
       "127  TEST_BC9A9691_C770_4EB7_96E9_278AAC7DB0C6              2   \n",
       "128  TEST_BC9A9691_C770_4EB7_96E9_278AAC7DB0C6              3   \n",
       "129  TEST_BC9A9691_C770_4EB7_96E9_278AAC7DB0C6              1   \n",
       "130  TEST_BC9A9691_C770_4EB7_96E9_278AAC7DB0C6              2   \n",
       "131  TEST_BC9A9691_C770_4EB7_96E9_278AAC7DB0C6              2   \n",
       "\n",
       "                          start_time                         end_time  \\\n",
       "0   2023-06-01 16:41:59.407000-07:00 2023-06-01 16:42:41.714000-07:00   \n",
       "1   2023-06-01 16:41:58.029000-07:00 2023-06-01 16:42:41.220000-07:00   \n",
       "2   2023-06-01 16:41:06.658000-07:00 2023-06-01 16:42:51.780000-07:00   \n",
       "3   2023-06-01 16:41:57.587000-07:00 2023-06-01 16:42:41.487000-07:00   \n",
       "4   2023-06-01 16:41:06.545000-07:00 2023-06-01 16:42:51.288000-07:00   \n",
       "..                               ...                              ...   \n",
       "127 2023-06-01 16:40:46.097000-07:00 2023-06-01 16:40:46.152000-07:00   \n",
       "128 2023-06-01 16:40:36.488000-07:00 2023-06-01 16:40:36.963000-07:00   \n",
       "129 2023-06-01 16:40:36.005000-07:00 2023-06-01 16:40:36.290000-07:00   \n",
       "130 2023-06-01 16:40:56.460000-07:00 2023-06-01 16:41:32.937000-07:00   \n",
       "131 2023-06-01 16:40:46.049000-07:00 2023-06-01 16:40:46.134000-07:00   \n",
       "\n",
       "                                            query_text  \\\n",
       "0    create or replace table test as SELECT seq4() ...   \n",
       "1    create or replace table test as SELECT seq4() ...   \n",
       "2                                 call test_query(10);   \n",
       "3    create or replace table test as SELECT seq4() ...   \n",
       "4                                 call test_query(10);   \n",
       "..                                                 ...   \n",
       "127                                call test_query(0);   \n",
       "128  create or replace table test as SELECT seq4() ...   \n",
       "129                                call test_query(0);   \n",
       "130  create or replace table test as SELECT seq4() ...   \n",
       "131                                call test_query(0);   \n",
       "\n",
       "                                 query_id  \n",
       "0    01acafad-0001-217d-0003-f2760001f406  \n",
       "1    01acafad-0001-217d-0003-f2760001f402  \n",
       "2    01acafad-0001-217d-0003-f2760001f3fe  \n",
       "3    01acafad-0001-2143-0003-f2760001d41a  \n",
       "4    01acafad-0001-217d-0003-f2760001f3fa  \n",
       "..                                    ...  \n",
       "127  01acafac-0001-217d-0003-f2760001f37a  \n",
       "128  01acafac-0001-217d-0003-f2760001f34e  \n",
       "129  01acafac-0001-217d-0003-f2760001f342  \n",
       "130  01acafac-0001-217d-0003-f2760001f3c6  \n",
       "131  01acafac-0001-2143-0003-f2760001d38a  \n",
       "\n",
       "[132 rows x 8 columns]"
      ]
     },
     "metadata": {},
     "output_type": "display_data"
    },
    {
     "name": "stdout",
     "output_type": "stream",
     "text": [
      "time: 1.47 s (started: 2023-06-01 19:50:47 -04:00)\n"
     ]
    }
   ],
   "source": [
    "import plotly.express as px\n",
    "\n",
    "queries = f\"\"\"\n",
    "with q as (\n",
    "select \n",
    "    *,\n",
    "      warehouse_name || ':' || cluster_number || ':' || query_id as warehouse_query,\n",
    "    TIMESTAMPADD( millisecond , -execution_time,end_time) as exec_start_time\n",
    "from table(information_schema.query_history_by_warehouse('{wh_name}'))\n",
    "where execution_status != 'RUNNING'\n",
    "and warehouse_size is not null\n",
    "order by start_time desc\n",
    "limit 100\n",
    ")\n",
    "select\n",
    "  'running' as status,\n",
    "  warehouse_query,\n",
    "  warehouse_name,\n",
    "  cluster_number,\n",
    "  exec_start_time as start_time,\n",
    "  end_time,\n",
    "  query_text,\n",
    "  query_id\n",
    "from q\n",
    "union\n",
    "select\n",
    "  'queued' as status,\n",
    "  warehouse_query,\n",
    "  warehouse_name,\n",
    "  cluster_number,\n",
    "  start_time,\n",
    "  exec_start_time as end_time,\n",
    "  query_text,\n",
    "  query_id\n",
    "from q\n",
    "\"\"\"\n",
    "\n",
    "qdf = sql_to_df(queries)\n",
    "display(qdf)"
   ]
  },
  {
   "cell_type": "code",
   "execution_count": 16,
   "id": "c341c726-b877-46da-9682-d33c4c662a9c",
   "metadata": {},
   "outputs": [
    {
     "data": {
      "text/plain": [
       "[Timestamp('2023-05-30 12:21:10.778000-0700', tz='America/Los_Angeles'),\n",
       " Timestamp('2023-05-30 13:50:22.246000-0700', tz='America/Los_Angeles')]"
      ]
     },
     "execution_count": 16,
     "metadata": {},
     "output_type": "execute_result"
    },
    {
     "name": "stdout",
     "output_type": "stream",
     "text": [
      "time: 4.41 ms (started: 2023-06-01 12:44:30 -04:00)\n"
     ]
    }
   ],
   "source": [
    "[qdf.start_time.min(),qdf.end_time.max()]"
   ]
  },
  {
   "cell_type": "code",
   "execution_count": 32,
   "id": "3a01d017-b86b-4a9e-923b-00fec571f9f4",
   "metadata": {},
   "outputs": [
    {
     "data": {
      "application/vnd.plotly.v1+json": {
       "config": {
        "plotlyServerURL": "https://plot.ly"
       },
       "data": [
        {
         "alignmentgroup": "True",
         "base": [
          "2023-06-01T16:40:35.811000-07:00",
          "2023-06-01T16:40:36.005000-07:00",
          "2023-06-01T16:40:36.473000-07:00",
          "2023-06-01T16:40:46.230000-07:00",
          "2023-06-01T16:40:46.241000-07:00",
          "2023-06-01T16:40:55.813000-07:00",
          "2023-06-01T16:40:55.919000-07:00",
          "2023-06-01T16:40:56.040000-07:00",
          "2023-06-01T16:40:56.157000-07:00",
          "2023-06-01T16:40:56.161000-07:00",
          "2023-06-01T16:40:56.278000-07:00",
          "2023-06-01T16:40:56.298000-07:00",
          "2023-06-01T16:41:06.032000-07:00",
          "2023-06-01T16:41:06.045000-07:00",
          "2023-06-01T16:41:06.127000-07:00",
          "2023-06-01T16:41:06.277000-07:00",
          "2023-06-01T16:41:06.394000-07:00",
          "2023-06-01T16:40:36.884000-07:00",
          "2023-06-01T16:40:45.811000-07:00",
          "2023-06-01T16:40:45.872000-07:00",
          "2023-06-01T16:40:45.929000-07:00",
          "2023-06-01T16:40:45.957000-07:00",
          "2023-06-01T16:40:46.002000-07:00",
          "2023-06-01T16:40:46.049000-07:00",
          "2023-06-01T16:40:46.097000-07:00",
          "2023-06-01T16:40:46.151000-07:00",
          "2023-06-01T16:40:46.206000-07:00",
          "2023-06-01T16:40:46.260000-07:00",
          "2023-06-01T16:40:46.319000-07:00",
          "2023-06-01T16:40:46.324000-07:00",
          "2023-06-01T16:40:55.866000-07:00",
          "2023-06-01T16:40:55.971000-07:00",
          "2023-06-01T16:40:56.096000-07:00",
          "2023-06-01T16:40:56.212000-07:00",
          "2023-06-01T16:40:56.325000-07:00",
          "2023-06-01T16:40:56.363000-07:00",
          "2023-06-01T16:40:56.372000-07:00",
          "2023-06-01T16:40:56.460000-07:00",
          "2023-06-01T16:41:06.283000-07:00",
          "2023-06-01T16:41:06.367000-07:00",
          "2023-06-01T16:41:06.494000-07:00",
          "2023-06-01T16:40:36.488000-07:00",
          "2023-06-01T16:40:46.166000-07:00",
          "2023-06-01T16:40:46.210000-07:00",
          "2023-06-01T16:40:46.362000-07:00",
          "2023-06-01T16:40:46.379000-07:00",
          "2023-06-01T16:40:56.236000-07:00",
          "2023-06-01T16:41:05.809000-07:00",
          "2023-06-01T16:41:05.863000-07:00",
          "2023-06-01T16:41:05.964000-07:00",
          "2023-06-01T16:41:06.070000-07:00",
          "2023-06-01T16:41:06.136000-07:00",
          "2023-06-01T16:41:06.213000-07:00",
          "2023-06-01T16:41:06.329000-07:00",
          "2023-06-01T16:41:06.447000-07:00",
          "2023-06-01T16:41:06.534000-07:00",
          "2023-06-01T16:41:06.580000-07:00",
          "2023-06-01T16:41:06.679000-07:00",
          "2023-06-01T16:41:06.735000-07:00",
          "2023-06-01T16:40:36.867000-07:00",
          "2023-06-01T16:40:45.976000-07:00",
          "2023-06-01T16:40:46.497000-07:00",
          "2023-06-01T16:40:55.941000-07:00",
          "2023-06-01T16:40:56.033000-07:00",
          "2023-06-01T16:40:56.048000-07:00",
          "2023-06-01T16:40:56.137000-07:00"
         ],
         "customdata": [
          [
           "call test_query(0);",
           "01acafac-0001-217d-0003-f2760001f336"
          ],
          [
           "call test_query(0);",
           "01acafac-0001-217d-0003-f2760001f342"
          ],
          [
           "call test_query(0);",
           "01acafac-0001-2143-0003-f2760001d35a"
          ],
          [
           "create or replace table test as SELECT seq4() col1 , uniform(1, 10, RANDOM(12)) col2 FROM TABLE(GENERATOR(ROWCOUNT => 100000000)) v ORDER BY 2;",
           "01acafac-0001-2143-0003-f2760001d396"
          ],
          [
           "create or replace table test as SELECT seq4() col1 , uniform(1, 10, RANDOM(12)) col2 FROM TABLE(GENERATOR(ROWCOUNT => 100000000)) v ORDER BY 2;",
           "01acafac-0001-217d-0003-f2760001f386"
          ],
          [
           "call test_query(0);",
           "01acafac-0001-217d-0003-f2760001f39e"
          ],
          [
           "call test_query(0);",
           "01acafac-0001-2143-0003-f2760001d3c6"
          ],
          [
           "call test_query(0);",
           "01acafac-0001-2143-0003-f2760001d3d2"
          ],
          [
           "call test_query(0);",
           "01acafac-0001-217d-0003-f2760001f3aa"
          ],
          [
           "create or replace table test as SELECT seq4() col1 , uniform(1, 10, RANDOM(12)) col2 FROM TABLE(GENERATOR(ROWCOUNT => 100000000)) v ORDER BY 2;",
           "01acafac-0001-2143-0003-f2760001d3de"
          ],
          [
           "call test_query(0);",
           "01acafac-0001-217d-0003-f2760001f3b2"
          ],
          [
           "create or replace table test as SELECT seq4() col1 , uniform(1, 10, RANDOM(12)) col2 FROM TABLE(GENERATOR(ROWCOUNT => 100000000)) v ORDER BY 2;",
           "01acafac-0001-217d-0003-f2760001f3b6"
          ],
          [
           "create or replace table test as SELECT seq4() col1 , uniform(1, 10, RANDOM(12)) col2 FROM TABLE(GENERATOR(ROWCOUNT => 100000000)) v ORDER BY 2;",
           "01acafad-0001-217d-0003-f2760001f3e2"
          ],
          [
           "create or replace table test as SELECT seq4() col1 , uniform(1, 10, RANDOM(12)) col2 FROM TABLE(GENERATOR(ROWCOUNT => 100000000)) v ORDER BY 2;",
           "01acafad-0001-2143-0003-f2760001d3fe"
          ],
          [
           "create or replace table test as SELECT seq4() col1 , uniform(1, 10, RANDOM(12)) col2 FROM TABLE(GENERATOR(ROWCOUNT => 100000000)) v ORDER BY 2;",
           "01acafad-0001-2143-0003-f2760001d402"
          ],
          [
           "create or replace table test as SELECT seq4() col1 , uniform(1, 10, RANDOM(12)) col2 FROM TABLE(GENERATOR(ROWCOUNT => 100000000)) v ORDER BY 2;",
           "01acafad-0001-2143-0003-f2760001d40a"
          ],
          [
           "call test_query(10);",
           "01acafad-0001-2143-0003-f2760001d412"
          ],
          [
           "create or replace table test as SELECT seq4() col1 , uniform(1, 10, RANDOM(12)) col2 FROM TABLE(GENERATOR(ROWCOUNT => 100000000)) v ORDER BY 2;",
           "01acafac-0001-2143-0003-f2760001d366"
          ],
          [
           "call test_query(0);",
           "01acafac-0001-2143-0003-f2760001d37a"
          ],
          [
           "call test_query(0);",
           "01acafac-0001-2143-0003-f2760001d37e"
          ],
          [
           "call test_query(0);",
           "01acafac-0001-217d-0003-f2760001f372"
          ],
          [
           "create or replace table test as SELECT seq4() col1 , uniform(1, 10, RANDOM(12)) col2 FROM TABLE(GENERATOR(ROWCOUNT => 100000000)) v ORDER BY 2;",
           "01acafac-0001-2143-0003-f2760001d382"
          ],
          [
           "call test_query(0);",
           "01acafac-0001-217d-0003-f2760001f376"
          ],
          [
           "call test_query(0);",
           "01acafac-0001-2143-0003-f2760001d38a"
          ],
          [
           "call test_query(0);",
           "01acafac-0001-217d-0003-f2760001f37a"
          ],
          [
           "call test_query(0);",
           "01acafac-0001-2143-0003-f2760001d38e"
          ],
          [
           "call test_query(0);",
           "01acafac-0001-2143-0003-f2760001d392"
          ],
          [
           "call test_query(0);",
           "01acafac-0001-2143-0003-f2760001d39e"
          ],
          [
           "call test_query(0);",
           "01acafac-0001-217d-0003-f2760001f38a"
          ],
          [
           "create or replace table test as SELECT seq4() col1 , uniform(1, 10, RANDOM(12)) col2 FROM TABLE(GENERATOR(ROWCOUNT => 100000000)) v ORDER BY 2;",
           "01acafac-0001-2143-0003-f2760001d3a2"
          ],
          [
           "call test_query(0);",
           "01acafac-0001-2143-0003-f2760001d3c2"
          ],
          [
           "call test_query(0);",
           "01acafac-0001-2143-0003-f2760001d3ca"
          ],
          [
           "call test_query(0);",
           "01acafac-0001-217d-0003-f2760001f3a6"
          ],
          [
           "call test_query(0);",
           "01acafac-0001-2143-0003-f2760001d3e2"
          ],
          [
           "call test_query(0);",
           "01acafac-0001-217d-0003-f2760001f3ba"
          ],
          [
           "create or replace table test as SELECT seq4() col1 , uniform(1, 10, RANDOM(12)) col2 FROM TABLE(GENERATOR(ROWCOUNT => 100000000)) v ORDER BY 2;",
           "01acafac-0001-2143-0003-f2760001d3e6"
          ],
          [
           "create or replace table test as SELECT seq4() col1 , uniform(1, 10, RANDOM(12)) col2 FROM TABLE(GENERATOR(ROWCOUNT => 100000000)) v ORDER BY 2;",
           "01acafac-0001-217d-0003-f2760001f3be"
          ],
          [
           "create or replace table test as SELECT seq4() col1 , uniform(1, 10, RANDOM(12)) col2 FROM TABLE(GENERATOR(ROWCOUNT => 100000000)) v ORDER BY 2;",
           "01acafac-0001-217d-0003-f2760001f3c6"
          ],
          [
           "create or replace table test as SELECT seq4() col1 , uniform(1, 10, RANDOM(12)) col2 FROM TABLE(GENERATOR(ROWCOUNT => 100000000)) v ORDER BY 2;",
           "01acafad-0001-217d-0003-f2760001f3ee"
          ],
          [
           "create or replace table test as SELECT seq4() col1 , uniform(1, 10, RANDOM(12)) col2 FROM TABLE(GENERATOR(ROWCOUNT => 100000000)) v ORDER BY 2;",
           "01acafad-0001-217d-0003-f2760001f3f2"
          ],
          [
           "call test_query(10);",
           "01acafad-0001-217d-0003-f2760001f3fa"
          ],
          [
           "create or replace table test as SELECT seq4() col1 , uniform(1, 10, RANDOM(12)) col2 FROM TABLE(GENERATOR(ROWCOUNT => 100000000)) v ORDER BY 2;",
           "01acafac-0001-217d-0003-f2760001f34e"
          ],
          [
           "create or replace table test as SELECT seq4() col1 , uniform(1, 10, RANDOM(12)) col2 FROM TABLE(GENERATOR(ROWCOUNT => 100000000)) v ORDER BY 2;",
           "01acafac-0001-217d-0003-f2760001f37e"
          ],
          [
           "create or replace table test as SELECT seq4() col1 , uniform(1, 10, RANDOM(12)) col2 FROM TABLE(GENERATOR(ROWCOUNT => 100000000)) v ORDER BY 2;",
           "01acafac-0001-217d-0003-f2760001f382"
          ],
          [
           "create or replace table test as SELECT seq4() col1 , uniform(1, 10, RANDOM(12)) col2 FROM TABLE(GENERATOR(ROWCOUNT => 100000000)) v ORDER BY 2;",
           "01acafac-0001-2143-0003-f2760001d3a6"
          ],
          [
           "create or replace table test as SELECT seq4() col1 , uniform(1, 10, RANDOM(12)) col2 FROM TABLE(GENERATOR(ROWCOUNT => 100000000)) v ORDER BY 2;",
           "01acafac-0001-2143-0003-f2760001d3aa"
          ],
          [
           "create or replace table test as SELECT seq4() col1 , uniform(1, 10, RANDOM(12)) col2 FROM TABLE(GENERATOR(ROWCOUNT => 100000000)) v ORDER BY 2;",
           "01acafac-0001-217d-0003-f2760001f3ae"
          ],
          [
           "call test_query(10);",
           "01acafad-0001-2143-0003-f2760001d3f6"
          ],
          [
           "call test_query(10);",
           "01acafad-0001-217d-0003-f2760001f3de"
          ],
          [
           "call test_query(10);",
           "01acafad-0001-2143-0003-f2760001d3fa"
          ],
          [
           "call test_query(10);",
           "01acafad-0001-217d-0003-f2760001f3e6"
          ],
          [
           "call test_query(10);",
           "01acafad-0001-2143-0003-f2760001d406"
          ],
          [
           "call test_query(10);",
           "01acafad-0001-217d-0003-f2760001f3ea"
          ],
          [
           "call test_query(10);",
           "01acafad-0001-2143-0003-f2760001d40e"
          ],
          [
           "create or replace table test as SELECT seq4() col1 , uniform(1, 10, RANDOM(12)) col2 FROM TABLE(GENERATOR(ROWCOUNT => 100000000)) v ORDER BY 2;",
           "01acafad-0001-2143-0003-f2760001d416"
          ],
          [
           "create or replace table test as SELECT seq4() col1 , uniform(1, 10, RANDOM(12)) col2 FROM TABLE(GENERATOR(ROWCOUNT => 100000000)) v ORDER BY 2;",
           "01acafad-0001-2143-0003-f2760001d41a"
          ],
          [
           "call test_query(10);",
           "01acafad-0001-217d-0003-f2760001f3fe"
          ],
          [
           "create or replace table test as SELECT seq4() col1 , uniform(1, 10, RANDOM(12)) col2 FROM TABLE(GENERATOR(ROWCOUNT => 100000000)) v ORDER BY 2;",
           "01acafad-0001-217d-0003-f2760001f402"
          ],
          [
           "create or replace table test as SELECT seq4() col1 , uniform(1, 10, RANDOM(12)) col2 FROM TABLE(GENERATOR(ROWCOUNT => 100000000)) v ORDER BY 2;",
           "01acafad-0001-217d-0003-f2760001f406"
          ],
          [
           "create or replace table test as SELECT seq4() col1 , uniform(1, 10, RANDOM(12)) col2 FROM TABLE(GENERATOR(ROWCOUNT => 100000000)) v ORDER BY 2;",
           "01acafac-0001-217d-0003-f2760001f356"
          ],
          [
           "create or replace table test as SELECT seq4() col1 , uniform(1, 10, RANDOM(12)) col2 FROM TABLE(GENERATOR(ROWCOUNT => 100000000)) v ORDER BY 2;",
           "01acafac-0001-2143-0003-f2760001d386"
          ],
          [
           "create or replace table test as SELECT seq4() col1 , uniform(1, 10, RANDOM(12)) col2 FROM TABLE(GENERATOR(ROWCOUNT => 100000000)) v ORDER BY 2;",
           "01acafac-0001-217d-0003-f2760001f38e"
          ],
          [
           "create or replace table test as SELECT seq4() col1 , uniform(1, 10, RANDOM(12)) col2 FROM TABLE(GENERATOR(ROWCOUNT => 100000000)) v ORDER BY 2;",
           "01acafac-0001-217d-0003-f2760001f3a2"
          ],
          [
           "create or replace table test as SELECT seq4() col1 , uniform(1, 10, RANDOM(12)) col2 FROM TABLE(GENERATOR(ROWCOUNT => 100000000)) v ORDER BY 2;",
           "01acafac-0001-2143-0003-f2760001d3ce"
          ],
          [
           "create or replace table test as SELECT seq4() col1 , uniform(1, 10, RANDOM(12)) col2 FROM TABLE(GENERATOR(ROWCOUNT => 100000000)) v ORDER BY 2;",
           "01acafac-0001-2143-0003-f2760001d3d6"
          ],
          [
           "create or replace table test as SELECT seq4() col1 , uniform(1, 10, RANDOM(12)) col2 FROM TABLE(GENERATOR(ROWCOUNT => 100000000)) v ORDER BY 2;",
           "01acafac-0001-2143-0003-f2760001d3da"
          ]
         ],
         "hovertemplate": "status=queued<br>start_time=%{base}<br>end_time=%{x}<br>warehouse_query=%{y}<br>query_text=%{customdata[0]}<br>query_id=%{customdata[1]}<extra></extra>",
         "legendgroup": "queued",
         "marker": {
          "color": "#636efa",
          "pattern": {
           "shape": ""
          }
         },
         "name": "queued",
         "offsetgroup": "queued",
         "orientation": "h",
         "showlegend": true,
         "textposition": "auto",
         "type": "bar",
         "x": [
          553,
          285,
          364,
          11664,
          11430,
          67,
          58,
          58,
          79,
          21576,
          44,
          32703,
          27714,
          27788,
          28010,
          29122,
          78,
          498,
          58,
          59,
          170,
          107,
          79,
          85,
          55,
          78,
          84,
          59,
          63,
          11311,
          54,
          69,
          58,
          78,
          63,
          35886,
          34115,
          36477,
          28668,
          37550,
          51,
          475,
          11263,
          11344,
          11256,
          11073,
          21571,
          102,
          65,
          95,
          80,
          45,
          55,
          69,
          50548,
          51053,
          78,
          51350,
          52672,
          397,
          427,
          30792,
          21468,
          21298,
          21746,
          21490
         ],
         "xaxis": "x",
         "y": [
          "TEST_BC9A9691_C770_4EB7_96E9_278AAC7DB0C6 : 1 : 01acafac-0001-217d-0003-f2760001f336",
          "TEST_BC9A9691_C770_4EB7_96E9_278AAC7DB0C6 : 1 : 01acafac-0001-217d-0003-f2760001f342",
          "TEST_BC9A9691_C770_4EB7_96E9_278AAC7DB0C6 : 1 : 01acafac-0001-2143-0003-f2760001d35a",
          "TEST_BC9A9691_C770_4EB7_96E9_278AAC7DB0C6 : 1 : 01acafac-0001-2143-0003-f2760001d396",
          "TEST_BC9A9691_C770_4EB7_96E9_278AAC7DB0C6 : 1 : 01acafac-0001-217d-0003-f2760001f386",
          "TEST_BC9A9691_C770_4EB7_96E9_278AAC7DB0C6 : 1 : 01acafac-0001-217d-0003-f2760001f39e",
          "TEST_BC9A9691_C770_4EB7_96E9_278AAC7DB0C6 : 1 : 01acafac-0001-2143-0003-f2760001d3c6",
          "TEST_BC9A9691_C770_4EB7_96E9_278AAC7DB0C6 : 1 : 01acafac-0001-2143-0003-f2760001d3d2",
          "TEST_BC9A9691_C770_4EB7_96E9_278AAC7DB0C6 : 1 : 01acafac-0001-217d-0003-f2760001f3aa",
          "TEST_BC9A9691_C770_4EB7_96E9_278AAC7DB0C6 : 1 : 01acafac-0001-2143-0003-f2760001d3de",
          "TEST_BC9A9691_C770_4EB7_96E9_278AAC7DB0C6 : 1 : 01acafac-0001-217d-0003-f2760001f3b2",
          "TEST_BC9A9691_C770_4EB7_96E9_278AAC7DB0C6 : 1 : 01acafac-0001-217d-0003-f2760001f3b6",
          "TEST_BC9A9691_C770_4EB7_96E9_278AAC7DB0C6 : 1 : 01acafad-0001-217d-0003-f2760001f3e2",
          "TEST_BC9A9691_C770_4EB7_96E9_278AAC7DB0C6 : 1 : 01acafad-0001-2143-0003-f2760001d3fe",
          "TEST_BC9A9691_C770_4EB7_96E9_278AAC7DB0C6 : 1 : 01acafad-0001-2143-0003-f2760001d402",
          "TEST_BC9A9691_C770_4EB7_96E9_278AAC7DB0C6 : 1 : 01acafad-0001-2143-0003-f2760001d40a",
          "TEST_BC9A9691_C770_4EB7_96E9_278AAC7DB0C6 : 1 : 01acafad-0001-2143-0003-f2760001d412",
          "TEST_BC9A9691_C770_4EB7_96E9_278AAC7DB0C6 : 2 : 01acafac-0001-2143-0003-f2760001d366",
          "TEST_BC9A9691_C770_4EB7_96E9_278AAC7DB0C6 : 2 : 01acafac-0001-2143-0003-f2760001d37a",
          "TEST_BC9A9691_C770_4EB7_96E9_278AAC7DB0C6 : 2 : 01acafac-0001-2143-0003-f2760001d37e",
          "TEST_BC9A9691_C770_4EB7_96E9_278AAC7DB0C6 : 2 : 01acafac-0001-217d-0003-f2760001f372",
          "TEST_BC9A9691_C770_4EB7_96E9_278AAC7DB0C6 : 2 : 01acafac-0001-2143-0003-f2760001d382",
          "TEST_BC9A9691_C770_4EB7_96E9_278AAC7DB0C6 : 2 : 01acafac-0001-217d-0003-f2760001f376",
          "TEST_BC9A9691_C770_4EB7_96E9_278AAC7DB0C6 : 2 : 01acafac-0001-2143-0003-f2760001d38a",
          "TEST_BC9A9691_C770_4EB7_96E9_278AAC7DB0C6 : 2 : 01acafac-0001-217d-0003-f2760001f37a",
          "TEST_BC9A9691_C770_4EB7_96E9_278AAC7DB0C6 : 2 : 01acafac-0001-2143-0003-f2760001d38e",
          "TEST_BC9A9691_C770_4EB7_96E9_278AAC7DB0C6 : 2 : 01acafac-0001-2143-0003-f2760001d392",
          "TEST_BC9A9691_C770_4EB7_96E9_278AAC7DB0C6 : 2 : 01acafac-0001-2143-0003-f2760001d39e",
          "TEST_BC9A9691_C770_4EB7_96E9_278AAC7DB0C6 : 2 : 01acafac-0001-217d-0003-f2760001f38a",
          "TEST_BC9A9691_C770_4EB7_96E9_278AAC7DB0C6 : 2 : 01acafac-0001-2143-0003-f2760001d3a2",
          "TEST_BC9A9691_C770_4EB7_96E9_278AAC7DB0C6 : 2 : 01acafac-0001-2143-0003-f2760001d3c2",
          "TEST_BC9A9691_C770_4EB7_96E9_278AAC7DB0C6 : 2 : 01acafac-0001-2143-0003-f2760001d3ca",
          "TEST_BC9A9691_C770_4EB7_96E9_278AAC7DB0C6 : 2 : 01acafac-0001-217d-0003-f2760001f3a6",
          "TEST_BC9A9691_C770_4EB7_96E9_278AAC7DB0C6 : 2 : 01acafac-0001-2143-0003-f2760001d3e2",
          "TEST_BC9A9691_C770_4EB7_96E9_278AAC7DB0C6 : 2 : 01acafac-0001-217d-0003-f2760001f3ba",
          "TEST_BC9A9691_C770_4EB7_96E9_278AAC7DB0C6 : 2 : 01acafac-0001-2143-0003-f2760001d3e6",
          "TEST_BC9A9691_C770_4EB7_96E9_278AAC7DB0C6 : 2 : 01acafac-0001-217d-0003-f2760001f3be",
          "TEST_BC9A9691_C770_4EB7_96E9_278AAC7DB0C6 : 2 : 01acafac-0001-217d-0003-f2760001f3c6",
          "TEST_BC9A9691_C770_4EB7_96E9_278AAC7DB0C6 : 2 : 01acafad-0001-217d-0003-f2760001f3ee",
          "TEST_BC9A9691_C770_4EB7_96E9_278AAC7DB0C6 : 2 : 01acafad-0001-217d-0003-f2760001f3f2",
          "TEST_BC9A9691_C770_4EB7_96E9_278AAC7DB0C6 : 2 : 01acafad-0001-217d-0003-f2760001f3fa",
          "TEST_BC9A9691_C770_4EB7_96E9_278AAC7DB0C6 : 3 : 01acafac-0001-217d-0003-f2760001f34e",
          "TEST_BC9A9691_C770_4EB7_96E9_278AAC7DB0C6 : 3 : 01acafac-0001-217d-0003-f2760001f37e",
          "TEST_BC9A9691_C770_4EB7_96E9_278AAC7DB0C6 : 3 : 01acafac-0001-217d-0003-f2760001f382",
          "TEST_BC9A9691_C770_4EB7_96E9_278AAC7DB0C6 : 3 : 01acafac-0001-2143-0003-f2760001d3a6",
          "TEST_BC9A9691_C770_4EB7_96E9_278AAC7DB0C6 : 3 : 01acafac-0001-2143-0003-f2760001d3aa",
          "TEST_BC9A9691_C770_4EB7_96E9_278AAC7DB0C6 : 3 : 01acafac-0001-217d-0003-f2760001f3ae",
          "TEST_BC9A9691_C770_4EB7_96E9_278AAC7DB0C6 : 3 : 01acafad-0001-2143-0003-f2760001d3f6",
          "TEST_BC9A9691_C770_4EB7_96E9_278AAC7DB0C6 : 3 : 01acafad-0001-217d-0003-f2760001f3de",
          "TEST_BC9A9691_C770_4EB7_96E9_278AAC7DB0C6 : 3 : 01acafad-0001-2143-0003-f2760001d3fa",
          "TEST_BC9A9691_C770_4EB7_96E9_278AAC7DB0C6 : 3 : 01acafad-0001-217d-0003-f2760001f3e6",
          "TEST_BC9A9691_C770_4EB7_96E9_278AAC7DB0C6 : 3 : 01acafad-0001-2143-0003-f2760001d406",
          "TEST_BC9A9691_C770_4EB7_96E9_278AAC7DB0C6 : 3 : 01acafad-0001-217d-0003-f2760001f3ea",
          "TEST_BC9A9691_C770_4EB7_96E9_278AAC7DB0C6 : 3 : 01acafad-0001-2143-0003-f2760001d40e",
          "TEST_BC9A9691_C770_4EB7_96E9_278AAC7DB0C6 : 3 : 01acafad-0001-2143-0003-f2760001d416",
          "TEST_BC9A9691_C770_4EB7_96E9_278AAC7DB0C6 : 3 : 01acafad-0001-2143-0003-f2760001d41a",
          "TEST_BC9A9691_C770_4EB7_96E9_278AAC7DB0C6 : 3 : 01acafad-0001-217d-0003-f2760001f3fe",
          "TEST_BC9A9691_C770_4EB7_96E9_278AAC7DB0C6 : 3 : 01acafad-0001-217d-0003-f2760001f402",
          "TEST_BC9A9691_C770_4EB7_96E9_278AAC7DB0C6 : 3 : 01acafad-0001-217d-0003-f2760001f406",
          "TEST_BC9A9691_C770_4EB7_96E9_278AAC7DB0C6 : 4 : 01acafac-0001-217d-0003-f2760001f356",
          "TEST_BC9A9691_C770_4EB7_96E9_278AAC7DB0C6 : 4 : 01acafac-0001-2143-0003-f2760001d386",
          "TEST_BC9A9691_C770_4EB7_96E9_278AAC7DB0C6 : 4 : 01acafac-0001-217d-0003-f2760001f38e",
          "TEST_BC9A9691_C770_4EB7_96E9_278AAC7DB0C6 : 4 : 01acafac-0001-217d-0003-f2760001f3a2",
          "TEST_BC9A9691_C770_4EB7_96E9_278AAC7DB0C6 : 4 : 01acafac-0001-2143-0003-f2760001d3ce",
          "TEST_BC9A9691_C770_4EB7_96E9_278AAC7DB0C6 : 4 : 01acafac-0001-2143-0003-f2760001d3d6",
          "TEST_BC9A9691_C770_4EB7_96E9_278AAC7DB0C6 : 4 : 01acafac-0001-2143-0003-f2760001d3da"
         ],
         "yaxis": "y"
        },
        {
         "alignmentgroup": "True",
         "base": [
          "2023-06-01T16:40:36.290000-07:00",
          "2023-06-01T16:40:36.364000-07:00",
          "2023-06-01T16:40:36.837000-07:00",
          "2023-06-01T16:40:55.880000-07:00",
          "2023-06-01T16:40:55.977000-07:00",
          "2023-06-01T16:40:56.098000-07:00",
          "2023-06-01T16:40:56.236000-07:00",
          "2023-06-01T16:40:56.322000-07:00",
          "2023-06-01T16:40:57.671000-07:00",
          "2023-06-01T16:40:57.894000-07:00",
          "2023-06-01T16:41:06.472000-07:00",
          "2023-06-01T16:41:17.737000-07:00",
          "2023-06-01T16:41:29.001000-07:00",
          "2023-06-01T16:41:33.746000-07:00",
          "2023-06-01T16:41:33.833000-07:00",
          "2023-06-01T16:41:34.137000-07:00",
          "2023-06-01T16:41:35.399000-07:00",
          "2023-06-01T16:40:37.382000-07:00",
          "2023-06-01T16:40:45.869000-07:00",
          "2023-06-01T16:40:45.931000-07:00",
          "2023-06-01T16:40:46.064000-07:00",
          "2023-06-01T16:40:46.081000-07:00",
          "2023-06-01T16:40:46.099000-07:00",
          "2023-06-01T16:40:46.134000-07:00",
          "2023-06-01T16:40:46.152000-07:00",
          "2023-06-01T16:40:46.229000-07:00",
          "2023-06-01T16:40:46.290000-07:00",
          "2023-06-01T16:40:46.319000-07:00",
          "2023-06-01T16:40:46.382000-07:00",
          "2023-06-01T16:40:55.920000-07:00",
          "2023-06-01T16:40:56.040000-07:00",
          "2023-06-01T16:40:56.154000-07:00",
          "2023-06-01T16:40:56.290000-07:00",
          "2023-06-01T16:40:56.388000-07:00",
          "2023-06-01T16:40:57.635000-07:00",
          "2023-06-01T16:41:06.545000-07:00",
          "2023-06-01T16:41:30.487000-07:00",
          "2023-06-01T16:41:32.249000-07:00",
          "2023-06-01T16:41:32.937000-07:00",
          "2023-06-01T16:41:34.951000-07:00",
          "2023-06-01T16:41:43.917000-07:00",
          "2023-06-01T16:40:36.963000-07:00",
          "2023-06-01T16:40:57.429000-07:00",
          "2023-06-01T16:40:57.452000-07:00",
          "2023-06-01T16:40:57.554000-07:00",
          "2023-06-01T16:40:57.618000-07:00",
          "2023-06-01T16:41:05.911000-07:00",
          "2023-06-01T16:41:05.928000-07:00",
          "2023-06-01T16:41:06.059000-07:00",
          "2023-06-01T16:41:06.150000-07:00",
          "2023-06-01T16:41:06.181000-07:00",
          "2023-06-01T16:41:06.268000-07:00",
          "2023-06-01T16:41:06.398000-07:00",
          "2023-06-01T16:41:06.658000-07:00",
          "2023-06-01T16:41:17.807000-07:00",
          "2023-06-01T16:41:56.995000-07:00",
          "2023-06-01T16:41:57.587000-07:00",
          "2023-06-01T16:41:58.029000-07:00",
          "2023-06-01T16:41:59.407000-07:00",
          "2023-06-01T16:40:37.264000-07:00",
          "2023-06-01T16:40:46.403000-07:00",
          "2023-06-01T16:41:17.289000-07:00",
          "2023-06-01T16:41:17.331000-07:00",
          "2023-06-01T16:41:17.409000-07:00",
          "2023-06-01T16:41:17.627000-07:00",
          "2023-06-01T16:41:17.794000-07:00"
         ],
         "customdata": [
          [
           "call test_query(0);",
           "01acafac-0001-217d-0003-f2760001f342"
          ],
          [
           "call test_query(0);",
           "01acafac-0001-217d-0003-f2760001f336"
          ],
          [
           "call test_query(0);",
           "01acafac-0001-2143-0003-f2760001d35a"
          ],
          [
           "call test_query(0);",
           "01acafac-0001-217d-0003-f2760001f39e"
          ],
          [
           "call test_query(0);",
           "01acafac-0001-2143-0003-f2760001d3c6"
          ],
          [
           "call test_query(0);",
           "01acafac-0001-2143-0003-f2760001d3d2"
          ],
          [
           "call test_query(0);",
           "01acafac-0001-217d-0003-f2760001f3aa"
          ],
          [
           "call test_query(0);",
           "01acafac-0001-217d-0003-f2760001f3b2"
          ],
          [
           "create or replace table test as SELECT seq4() col1 , uniform(1, 10, RANDOM(12)) col2 FROM TABLE(GENERATOR(ROWCOUNT => 100000000)) v ORDER BY 2;",
           "01acafac-0001-217d-0003-f2760001f386"
          ],
          [
           "create or replace table test as SELECT seq4() col1 , uniform(1, 10, RANDOM(12)) col2 FROM TABLE(GENERATOR(ROWCOUNT => 100000000)) v ORDER BY 2;",
           "01acafac-0001-2143-0003-f2760001d396"
          ],
          [
           "call test_query(10);",
           "01acafad-0001-2143-0003-f2760001d412"
          ],
          [
           "create or replace table test as SELECT seq4() col1 , uniform(1, 10, RANDOM(12)) col2 FROM TABLE(GENERATOR(ROWCOUNT => 100000000)) v ORDER BY 2;",
           "01acafac-0001-2143-0003-f2760001d3de"
          ],
          [
           "create or replace table test as SELECT seq4() col1 , uniform(1, 10, RANDOM(12)) col2 FROM TABLE(GENERATOR(ROWCOUNT => 100000000)) v ORDER BY 2;",
           "01acafac-0001-217d-0003-f2760001f3b6"
          ],
          [
           "create or replace table test as SELECT seq4() col1 , uniform(1, 10, RANDOM(12)) col2 FROM TABLE(GENERATOR(ROWCOUNT => 100000000)) v ORDER BY 2;",
           "01acafad-0001-217d-0003-f2760001f3e2"
          ],
          [
           "create or replace table test as SELECT seq4() col1 , uniform(1, 10, RANDOM(12)) col2 FROM TABLE(GENERATOR(ROWCOUNT => 100000000)) v ORDER BY 2;",
           "01acafad-0001-2143-0003-f2760001d3fe"
          ],
          [
           "create or replace table test as SELECT seq4() col1 , uniform(1, 10, RANDOM(12)) col2 FROM TABLE(GENERATOR(ROWCOUNT => 100000000)) v ORDER BY 2;",
           "01acafad-0001-2143-0003-f2760001d402"
          ],
          [
           "create or replace table test as SELECT seq4() col1 , uniform(1, 10, RANDOM(12)) col2 FROM TABLE(GENERATOR(ROWCOUNT => 100000000)) v ORDER BY 2;",
           "01acafad-0001-2143-0003-f2760001d40a"
          ],
          [
           "create or replace table test as SELECT seq4() col1 , uniform(1, 10, RANDOM(12)) col2 FROM TABLE(GENERATOR(ROWCOUNT => 100000000)) v ORDER BY 2;",
           "01acafac-0001-2143-0003-f2760001d366"
          ],
          [
           "call test_query(0);",
           "01acafac-0001-2143-0003-f2760001d37a"
          ],
          [
           "call test_query(0);",
           "01acafac-0001-2143-0003-f2760001d37e"
          ],
          [
           "create or replace table test as SELECT seq4() col1 , uniform(1, 10, RANDOM(12)) col2 FROM TABLE(GENERATOR(ROWCOUNT => 100000000)) v ORDER BY 2;",
           "01acafac-0001-2143-0003-f2760001d382"
          ],
          [
           "call test_query(0);",
           "01acafac-0001-217d-0003-f2760001f376"
          ],
          [
           "call test_query(0);",
           "01acafac-0001-217d-0003-f2760001f372"
          ],
          [
           "call test_query(0);",
           "01acafac-0001-2143-0003-f2760001d38a"
          ],
          [
           "call test_query(0);",
           "01acafac-0001-217d-0003-f2760001f37a"
          ],
          [
           "call test_query(0);",
           "01acafac-0001-2143-0003-f2760001d38e"
          ],
          [
           "call test_query(0);",
           "01acafac-0001-2143-0003-f2760001d392"
          ],
          [
           "call test_query(0);",
           "01acafac-0001-2143-0003-f2760001d39e"
          ],
          [
           "call test_query(0);",
           "01acafac-0001-217d-0003-f2760001f38a"
          ],
          [
           "call test_query(0);",
           "01acafac-0001-2143-0003-f2760001d3c2"
          ],
          [
           "call test_query(0);",
           "01acafac-0001-2143-0003-f2760001d3ca"
          ],
          [
           "call test_query(0);",
           "01acafac-0001-217d-0003-f2760001f3a6"
          ],
          [
           "call test_query(0);",
           "01acafac-0001-2143-0003-f2760001d3e2"
          ],
          [
           "call test_query(0);",
           "01acafac-0001-217d-0003-f2760001f3ba"
          ],
          [
           "create or replace table test as SELECT seq4() col1 , uniform(1, 10, RANDOM(12)) col2 FROM TABLE(GENERATOR(ROWCOUNT => 100000000)) v ORDER BY 2;",
           "01acafac-0001-2143-0003-f2760001d3a2"
          ],
          [
           "call test_query(10);",
           "01acafad-0001-217d-0003-f2760001f3fa"
          ],
          [
           "create or replace table test as SELECT seq4() col1 , uniform(1, 10, RANDOM(12)) col2 FROM TABLE(GENERATOR(ROWCOUNT => 100000000)) v ORDER BY 2;",
           "01acafac-0001-217d-0003-f2760001f3be"
          ],
          [
           "create or replace table test as SELECT seq4() col1 , uniform(1, 10, RANDOM(12)) col2 FROM TABLE(GENERATOR(ROWCOUNT => 100000000)) v ORDER BY 2;",
           "01acafac-0001-2143-0003-f2760001d3e6"
          ],
          [
           "create or replace table test as SELECT seq4() col1 , uniform(1, 10, RANDOM(12)) col2 FROM TABLE(GENERATOR(ROWCOUNT => 100000000)) v ORDER BY 2;",
           "01acafac-0001-217d-0003-f2760001f3c6"
          ],
          [
           "create or replace table test as SELECT seq4() col1 , uniform(1, 10, RANDOM(12)) col2 FROM TABLE(GENERATOR(ROWCOUNT => 100000000)) v ORDER BY 2;",
           "01acafad-0001-217d-0003-f2760001f3ee"
          ],
          [
           "create or replace table test as SELECT seq4() col1 , uniform(1, 10, RANDOM(12)) col2 FROM TABLE(GENERATOR(ROWCOUNT => 100000000)) v ORDER BY 2;",
           "01acafad-0001-217d-0003-f2760001f3f2"
          ],
          [
           "create or replace table test as SELECT seq4() col1 , uniform(1, 10, RANDOM(12)) col2 FROM TABLE(GENERATOR(ROWCOUNT => 100000000)) v ORDER BY 2;",
           "01acafac-0001-217d-0003-f2760001f34e"
          ],
          [
           "create or replace table test as SELECT seq4() col1 , uniform(1, 10, RANDOM(12)) col2 FROM TABLE(GENERATOR(ROWCOUNT => 100000000)) v ORDER BY 2;",
           "01acafac-0001-217d-0003-f2760001f37e"
          ],
          [
           "create or replace table test as SELECT seq4() col1 , uniform(1, 10, RANDOM(12)) col2 FROM TABLE(GENERATOR(ROWCOUNT => 100000000)) v ORDER BY 2;",
           "01acafac-0001-2143-0003-f2760001d3aa"
          ],
          [
           "create or replace table test as SELECT seq4() col1 , uniform(1, 10, RANDOM(12)) col2 FROM TABLE(GENERATOR(ROWCOUNT => 100000000)) v ORDER BY 2;",
           "01acafac-0001-217d-0003-f2760001f382"
          ],
          [
           "create or replace table test as SELECT seq4() col1 , uniform(1, 10, RANDOM(12)) col2 FROM TABLE(GENERATOR(ROWCOUNT => 100000000)) v ORDER BY 2;",
           "01acafac-0001-2143-0003-f2760001d3a6"
          ],
          [
           "call test_query(10);",
           "01acafad-0001-2143-0003-f2760001d3f6"
          ],
          [
           "call test_query(10);",
           "01acafad-0001-217d-0003-f2760001f3de"
          ],
          [
           "call test_query(10);",
           "01acafad-0001-2143-0003-f2760001d3fa"
          ],
          [
           "call test_query(10);",
           "01acafad-0001-217d-0003-f2760001f3e6"
          ],
          [
           "call test_query(10);",
           "01acafad-0001-2143-0003-f2760001d406"
          ],
          [
           "call test_query(10);",
           "01acafad-0001-217d-0003-f2760001f3ea"
          ],
          [
           "call test_query(10);",
           "01acafad-0001-2143-0003-f2760001d40e"
          ],
          [
           "call test_query(10);",
           "01acafad-0001-217d-0003-f2760001f3fe"
          ],
          [
           "create or replace table test as SELECT seq4() col1 , uniform(1, 10, RANDOM(12)) col2 FROM TABLE(GENERATOR(ROWCOUNT => 100000000)) v ORDER BY 2;",
           "01acafac-0001-217d-0003-f2760001f3ae"
          ],
          [
           "create or replace table test as SELECT seq4() col1 , uniform(1, 10, RANDOM(12)) col2 FROM TABLE(GENERATOR(ROWCOUNT => 100000000)) v ORDER BY 2;",
           "01acafad-0001-2143-0003-f2760001d416"
          ],
          [
           "create or replace table test as SELECT seq4() col1 , uniform(1, 10, RANDOM(12)) col2 FROM TABLE(GENERATOR(ROWCOUNT => 100000000)) v ORDER BY 2;",
           "01acafad-0001-2143-0003-f2760001d41a"
          ],
          [
           "create or replace table test as SELECT seq4() col1 , uniform(1, 10, RANDOM(12)) col2 FROM TABLE(GENERATOR(ROWCOUNT => 100000000)) v ORDER BY 2;",
           "01acafad-0001-217d-0003-f2760001f402"
          ],
          [
           "create or replace table test as SELECT seq4() col1 , uniform(1, 10, RANDOM(12)) col2 FROM TABLE(GENERATOR(ROWCOUNT => 100000000)) v ORDER BY 2;",
           "01acafad-0001-217d-0003-f2760001f406"
          ],
          [
           "create or replace table test as SELECT seq4() col1 , uniform(1, 10, RANDOM(12)) col2 FROM TABLE(GENERATOR(ROWCOUNT => 100000000)) v ORDER BY 2;",
           "01acafac-0001-217d-0003-f2760001f356"
          ],
          [
           "create or replace table test as SELECT seq4() col1 , uniform(1, 10, RANDOM(12)) col2 FROM TABLE(GENERATOR(ROWCOUNT => 100000000)) v ORDER BY 2;",
           "01acafac-0001-2143-0003-f2760001d386"
          ],
          [
           "create or replace table test as SELECT seq4() col1 , uniform(1, 10, RANDOM(12)) col2 FROM TABLE(GENERATOR(ROWCOUNT => 100000000)) v ORDER BY 2;",
           "01acafac-0001-217d-0003-f2760001f38e"
          ],
          [
           "create or replace table test as SELECT seq4() col1 , uniform(1, 10, RANDOM(12)) col2 FROM TABLE(GENERATOR(ROWCOUNT => 100000000)) v ORDER BY 2;",
           "01acafac-0001-2143-0003-f2760001d3ce"
          ],
          [
           "create or replace table test as SELECT seq4() col1 , uniform(1, 10, RANDOM(12)) col2 FROM TABLE(GENERATOR(ROWCOUNT => 100000000)) v ORDER BY 2;",
           "01acafac-0001-217d-0003-f2760001f3a2"
          ],
          [
           "create or replace table test as SELECT seq4() col1 , uniform(1, 10, RANDOM(12)) col2 FROM TABLE(GENERATOR(ROWCOUNT => 100000000)) v ORDER BY 2;",
           "01acafac-0001-2143-0003-f2760001d3da"
          ],
          [
           "create or replace table test as SELECT seq4() col1 , uniform(1, 10, RANDOM(12)) col2 FROM TABLE(GENERATOR(ROWCOUNT => 100000000)) v ORDER BY 2;",
           "01acafac-0001-2143-0003-f2760001d3d6"
          ]
         ],
         "hovertemplate": "status=running<br>start_time=%{base}<br>end_time=%{x}<br>warehouse_query=%{y}<br>query_text=%{customdata[0]}<br>query_id=%{customdata[1]}<extra></extra>",
         "legendgroup": "running",
         "marker": {
          "color": "#EF553B",
          "pattern": {
           "shape": ""
          }
         },
         "name": "running",
         "offsetgroup": "running",
         "orientation": "h",
         "showlegend": true,
         "textposition": "auto",
         "type": "bar",
         "x": [
          204541,
          210512,
          58720,
          87696,
          87727,
          230520,
          85909,
          90767,
          208971,
          215455,
          105071,
          208794,
          52925,
          54855,
          52996,
          54850,
          52765,
          58022,
          58708,
          192359,
          58315,
          71354,
          72380,
          227314,
          220586,
          220357,
          73614,
          71886,
          96968,
          88385,
          87995,
          225432,
          90064,
          92425,
          208837,
          104743,
          56430,
          53953,
          55754,
          54666,
          47678,
          203771,
          60921,
          60620,
          59788,
          62131,
          91037,
          92831,
          93082,
          93602,
          92112,
          95407,
          106578,
          105122,
          203699,
          45924,
          43900,
          43191,
          42307,
          209488,
          191791,
          65884,
          66805,
          66019,
          66282,
          65777
         ],
         "xaxis": "x",
         "y": [
          "TEST_BC9A9691_C770_4EB7_96E9_278AAC7DB0C6 : 1 : 01acafac-0001-217d-0003-f2760001f342",
          "TEST_BC9A9691_C770_4EB7_96E9_278AAC7DB0C6 : 1 : 01acafac-0001-217d-0003-f2760001f336",
          "TEST_BC9A9691_C770_4EB7_96E9_278AAC7DB0C6 : 1 : 01acafac-0001-2143-0003-f2760001d35a",
          "TEST_BC9A9691_C770_4EB7_96E9_278AAC7DB0C6 : 1 : 01acafac-0001-217d-0003-f2760001f39e",
          "TEST_BC9A9691_C770_4EB7_96E9_278AAC7DB0C6 : 1 : 01acafac-0001-2143-0003-f2760001d3c6",
          "TEST_BC9A9691_C770_4EB7_96E9_278AAC7DB0C6 : 1 : 01acafac-0001-2143-0003-f2760001d3d2",
          "TEST_BC9A9691_C770_4EB7_96E9_278AAC7DB0C6 : 1 : 01acafac-0001-217d-0003-f2760001f3aa",
          "TEST_BC9A9691_C770_4EB7_96E9_278AAC7DB0C6 : 1 : 01acafac-0001-217d-0003-f2760001f3b2",
          "TEST_BC9A9691_C770_4EB7_96E9_278AAC7DB0C6 : 1 : 01acafac-0001-217d-0003-f2760001f386",
          "TEST_BC9A9691_C770_4EB7_96E9_278AAC7DB0C6 : 1 : 01acafac-0001-2143-0003-f2760001d396",
          "TEST_BC9A9691_C770_4EB7_96E9_278AAC7DB0C6 : 1 : 01acafad-0001-2143-0003-f2760001d412",
          "TEST_BC9A9691_C770_4EB7_96E9_278AAC7DB0C6 : 1 : 01acafac-0001-2143-0003-f2760001d3de",
          "TEST_BC9A9691_C770_4EB7_96E9_278AAC7DB0C6 : 1 : 01acafac-0001-217d-0003-f2760001f3b6",
          "TEST_BC9A9691_C770_4EB7_96E9_278AAC7DB0C6 : 1 : 01acafad-0001-217d-0003-f2760001f3e2",
          "TEST_BC9A9691_C770_4EB7_96E9_278AAC7DB0C6 : 1 : 01acafad-0001-2143-0003-f2760001d3fe",
          "TEST_BC9A9691_C770_4EB7_96E9_278AAC7DB0C6 : 1 : 01acafad-0001-2143-0003-f2760001d402",
          "TEST_BC9A9691_C770_4EB7_96E9_278AAC7DB0C6 : 1 : 01acafad-0001-2143-0003-f2760001d40a",
          "TEST_BC9A9691_C770_4EB7_96E9_278AAC7DB0C6 : 2 : 01acafac-0001-2143-0003-f2760001d366",
          "TEST_BC9A9691_C770_4EB7_96E9_278AAC7DB0C6 : 2 : 01acafac-0001-2143-0003-f2760001d37a",
          "TEST_BC9A9691_C770_4EB7_96E9_278AAC7DB0C6 : 2 : 01acafac-0001-2143-0003-f2760001d37e",
          "TEST_BC9A9691_C770_4EB7_96E9_278AAC7DB0C6 : 2 : 01acafac-0001-2143-0003-f2760001d382",
          "TEST_BC9A9691_C770_4EB7_96E9_278AAC7DB0C6 : 2 : 01acafac-0001-217d-0003-f2760001f376",
          "TEST_BC9A9691_C770_4EB7_96E9_278AAC7DB0C6 : 2 : 01acafac-0001-217d-0003-f2760001f372",
          "TEST_BC9A9691_C770_4EB7_96E9_278AAC7DB0C6 : 2 : 01acafac-0001-2143-0003-f2760001d38a",
          "TEST_BC9A9691_C770_4EB7_96E9_278AAC7DB0C6 : 2 : 01acafac-0001-217d-0003-f2760001f37a",
          "TEST_BC9A9691_C770_4EB7_96E9_278AAC7DB0C6 : 2 : 01acafac-0001-2143-0003-f2760001d38e",
          "TEST_BC9A9691_C770_4EB7_96E9_278AAC7DB0C6 : 2 : 01acafac-0001-2143-0003-f2760001d392",
          "TEST_BC9A9691_C770_4EB7_96E9_278AAC7DB0C6 : 2 : 01acafac-0001-2143-0003-f2760001d39e",
          "TEST_BC9A9691_C770_4EB7_96E9_278AAC7DB0C6 : 2 : 01acafac-0001-217d-0003-f2760001f38a",
          "TEST_BC9A9691_C770_4EB7_96E9_278AAC7DB0C6 : 2 : 01acafac-0001-2143-0003-f2760001d3c2",
          "TEST_BC9A9691_C770_4EB7_96E9_278AAC7DB0C6 : 2 : 01acafac-0001-2143-0003-f2760001d3ca",
          "TEST_BC9A9691_C770_4EB7_96E9_278AAC7DB0C6 : 2 : 01acafac-0001-217d-0003-f2760001f3a6",
          "TEST_BC9A9691_C770_4EB7_96E9_278AAC7DB0C6 : 2 : 01acafac-0001-2143-0003-f2760001d3e2",
          "TEST_BC9A9691_C770_4EB7_96E9_278AAC7DB0C6 : 2 : 01acafac-0001-217d-0003-f2760001f3ba",
          "TEST_BC9A9691_C770_4EB7_96E9_278AAC7DB0C6 : 2 : 01acafac-0001-2143-0003-f2760001d3a2",
          "TEST_BC9A9691_C770_4EB7_96E9_278AAC7DB0C6 : 2 : 01acafad-0001-217d-0003-f2760001f3fa",
          "TEST_BC9A9691_C770_4EB7_96E9_278AAC7DB0C6 : 2 : 01acafac-0001-217d-0003-f2760001f3be",
          "TEST_BC9A9691_C770_4EB7_96E9_278AAC7DB0C6 : 2 : 01acafac-0001-2143-0003-f2760001d3e6",
          "TEST_BC9A9691_C770_4EB7_96E9_278AAC7DB0C6 : 2 : 01acafac-0001-217d-0003-f2760001f3c6",
          "TEST_BC9A9691_C770_4EB7_96E9_278AAC7DB0C6 : 2 : 01acafad-0001-217d-0003-f2760001f3ee",
          "TEST_BC9A9691_C770_4EB7_96E9_278AAC7DB0C6 : 2 : 01acafad-0001-217d-0003-f2760001f3f2",
          "TEST_BC9A9691_C770_4EB7_96E9_278AAC7DB0C6 : 3 : 01acafac-0001-217d-0003-f2760001f34e",
          "TEST_BC9A9691_C770_4EB7_96E9_278AAC7DB0C6 : 3 : 01acafac-0001-217d-0003-f2760001f37e",
          "TEST_BC9A9691_C770_4EB7_96E9_278AAC7DB0C6 : 3 : 01acafac-0001-2143-0003-f2760001d3aa",
          "TEST_BC9A9691_C770_4EB7_96E9_278AAC7DB0C6 : 3 : 01acafac-0001-217d-0003-f2760001f382",
          "TEST_BC9A9691_C770_4EB7_96E9_278AAC7DB0C6 : 3 : 01acafac-0001-2143-0003-f2760001d3a6",
          "TEST_BC9A9691_C770_4EB7_96E9_278AAC7DB0C6 : 3 : 01acafad-0001-2143-0003-f2760001d3f6",
          "TEST_BC9A9691_C770_4EB7_96E9_278AAC7DB0C6 : 3 : 01acafad-0001-217d-0003-f2760001f3de",
          "TEST_BC9A9691_C770_4EB7_96E9_278AAC7DB0C6 : 3 : 01acafad-0001-2143-0003-f2760001d3fa",
          "TEST_BC9A9691_C770_4EB7_96E9_278AAC7DB0C6 : 3 : 01acafad-0001-217d-0003-f2760001f3e6",
          "TEST_BC9A9691_C770_4EB7_96E9_278AAC7DB0C6 : 3 : 01acafad-0001-2143-0003-f2760001d406",
          "TEST_BC9A9691_C770_4EB7_96E9_278AAC7DB0C6 : 3 : 01acafad-0001-217d-0003-f2760001f3ea",
          "TEST_BC9A9691_C770_4EB7_96E9_278AAC7DB0C6 : 3 : 01acafad-0001-2143-0003-f2760001d40e",
          "TEST_BC9A9691_C770_4EB7_96E9_278AAC7DB0C6 : 3 : 01acafad-0001-217d-0003-f2760001f3fe",
          "TEST_BC9A9691_C770_4EB7_96E9_278AAC7DB0C6 : 3 : 01acafac-0001-217d-0003-f2760001f3ae",
          "TEST_BC9A9691_C770_4EB7_96E9_278AAC7DB0C6 : 3 : 01acafad-0001-2143-0003-f2760001d416",
          "TEST_BC9A9691_C770_4EB7_96E9_278AAC7DB0C6 : 3 : 01acafad-0001-2143-0003-f2760001d41a",
          "TEST_BC9A9691_C770_4EB7_96E9_278AAC7DB0C6 : 3 : 01acafad-0001-217d-0003-f2760001f402",
          "TEST_BC9A9691_C770_4EB7_96E9_278AAC7DB0C6 : 3 : 01acafad-0001-217d-0003-f2760001f406",
          "TEST_BC9A9691_C770_4EB7_96E9_278AAC7DB0C6 : 4 : 01acafac-0001-217d-0003-f2760001f356",
          "TEST_BC9A9691_C770_4EB7_96E9_278AAC7DB0C6 : 4 : 01acafac-0001-2143-0003-f2760001d386",
          "TEST_BC9A9691_C770_4EB7_96E9_278AAC7DB0C6 : 4 : 01acafac-0001-217d-0003-f2760001f38e",
          "TEST_BC9A9691_C770_4EB7_96E9_278AAC7DB0C6 : 4 : 01acafac-0001-2143-0003-f2760001d3ce",
          "TEST_BC9A9691_C770_4EB7_96E9_278AAC7DB0C6 : 4 : 01acafac-0001-217d-0003-f2760001f3a2",
          "TEST_BC9A9691_C770_4EB7_96E9_278AAC7DB0C6 : 4 : 01acafac-0001-2143-0003-f2760001d3da",
          "TEST_BC9A9691_C770_4EB7_96E9_278AAC7DB0C6 : 4 : 01acafac-0001-2143-0003-f2760001d3d6"
         ],
         "yaxis": "y"
        }
       ],
       "layout": {
        "autosize": true,
        "barmode": "overlay",
        "legend": {
         "title": {
          "text": "status"
         },
         "tracegroupgap": 0
        },
        "margin": {
         "t": 60
        },
        "template": {
         "data": {
          "bar": [
           {
            "error_x": {
             "color": "#2a3f5f"
            },
            "error_y": {
             "color": "#2a3f5f"
            },
            "marker": {
             "line": {
              "color": "#E5ECF6",
              "width": 0.5
             },
             "pattern": {
              "fillmode": "overlay",
              "size": 10,
              "solidity": 0.2
             }
            },
            "type": "bar"
           }
          ],
          "barpolar": [
           {
            "marker": {
             "line": {
              "color": "#E5ECF6",
              "width": 0.5
             },
             "pattern": {
              "fillmode": "overlay",
              "size": 10,
              "solidity": 0.2
             }
            },
            "type": "barpolar"
           }
          ],
          "carpet": [
           {
            "aaxis": {
             "endlinecolor": "#2a3f5f",
             "gridcolor": "white",
             "linecolor": "white",
             "minorgridcolor": "white",
             "startlinecolor": "#2a3f5f"
            },
            "baxis": {
             "endlinecolor": "#2a3f5f",
             "gridcolor": "white",
             "linecolor": "white",
             "minorgridcolor": "white",
             "startlinecolor": "#2a3f5f"
            },
            "type": "carpet"
           }
          ],
          "choropleth": [
           {
            "colorbar": {
             "outlinewidth": 0,
             "ticks": ""
            },
            "type": "choropleth"
           }
          ],
          "contour": [
           {
            "colorbar": {
             "outlinewidth": 0,
             "ticks": ""
            },
            "colorscale": [
             [
              0,
              "#0d0887"
             ],
             [
              0.1111111111111111,
              "#46039f"
             ],
             [
              0.2222222222222222,
              "#7201a8"
             ],
             [
              0.3333333333333333,
              "#9c179e"
             ],
             [
              0.4444444444444444,
              "#bd3786"
             ],
             [
              0.5555555555555556,
              "#d8576b"
             ],
             [
              0.6666666666666666,
              "#ed7953"
             ],
             [
              0.7777777777777778,
              "#fb9f3a"
             ],
             [
              0.8888888888888888,
              "#fdca26"
             ],
             [
              1,
              "#f0f921"
             ]
            ],
            "type": "contour"
           }
          ],
          "contourcarpet": [
           {
            "colorbar": {
             "outlinewidth": 0,
             "ticks": ""
            },
            "type": "contourcarpet"
           }
          ],
          "heatmap": [
           {
            "colorbar": {
             "outlinewidth": 0,
             "ticks": ""
            },
            "colorscale": [
             [
              0,
              "#0d0887"
             ],
             [
              0.1111111111111111,
              "#46039f"
             ],
             [
              0.2222222222222222,
              "#7201a8"
             ],
             [
              0.3333333333333333,
              "#9c179e"
             ],
             [
              0.4444444444444444,
              "#bd3786"
             ],
             [
              0.5555555555555556,
              "#d8576b"
             ],
             [
              0.6666666666666666,
              "#ed7953"
             ],
             [
              0.7777777777777778,
              "#fb9f3a"
             ],
             [
              0.8888888888888888,
              "#fdca26"
             ],
             [
              1,
              "#f0f921"
             ]
            ],
            "type": "heatmap"
           }
          ],
          "heatmapgl": [
           {
            "colorbar": {
             "outlinewidth": 0,
             "ticks": ""
            },
            "colorscale": [
             [
              0,
              "#0d0887"
             ],
             [
              0.1111111111111111,
              "#46039f"
             ],
             [
              0.2222222222222222,
              "#7201a8"
             ],
             [
              0.3333333333333333,
              "#9c179e"
             ],
             [
              0.4444444444444444,
              "#bd3786"
             ],
             [
              0.5555555555555556,
              "#d8576b"
             ],
             [
              0.6666666666666666,
              "#ed7953"
             ],
             [
              0.7777777777777778,
              "#fb9f3a"
             ],
             [
              0.8888888888888888,
              "#fdca26"
             ],
             [
              1,
              "#f0f921"
             ]
            ],
            "type": "heatmapgl"
           }
          ],
          "histogram": [
           {
            "marker": {
             "pattern": {
              "fillmode": "overlay",
              "size": 10,
              "solidity": 0.2
             }
            },
            "type": "histogram"
           }
          ],
          "histogram2d": [
           {
            "colorbar": {
             "outlinewidth": 0,
             "ticks": ""
            },
            "colorscale": [
             [
              0,
              "#0d0887"
             ],
             [
              0.1111111111111111,
              "#46039f"
             ],
             [
              0.2222222222222222,
              "#7201a8"
             ],
             [
              0.3333333333333333,
              "#9c179e"
             ],
             [
              0.4444444444444444,
              "#bd3786"
             ],
             [
              0.5555555555555556,
              "#d8576b"
             ],
             [
              0.6666666666666666,
              "#ed7953"
             ],
             [
              0.7777777777777778,
              "#fb9f3a"
             ],
             [
              0.8888888888888888,
              "#fdca26"
             ],
             [
              1,
              "#f0f921"
             ]
            ],
            "type": "histogram2d"
           }
          ],
          "histogram2dcontour": [
           {
            "colorbar": {
             "outlinewidth": 0,
             "ticks": ""
            },
            "colorscale": [
             [
              0,
              "#0d0887"
             ],
             [
              0.1111111111111111,
              "#46039f"
             ],
             [
              0.2222222222222222,
              "#7201a8"
             ],
             [
              0.3333333333333333,
              "#9c179e"
             ],
             [
              0.4444444444444444,
              "#bd3786"
             ],
             [
              0.5555555555555556,
              "#d8576b"
             ],
             [
              0.6666666666666666,
              "#ed7953"
             ],
             [
              0.7777777777777778,
              "#fb9f3a"
             ],
             [
              0.8888888888888888,
              "#fdca26"
             ],
             [
              1,
              "#f0f921"
             ]
            ],
            "type": "histogram2dcontour"
           }
          ],
          "mesh3d": [
           {
            "colorbar": {
             "outlinewidth": 0,
             "ticks": ""
            },
            "type": "mesh3d"
           }
          ],
          "parcoords": [
           {
            "line": {
             "colorbar": {
              "outlinewidth": 0,
              "ticks": ""
             }
            },
            "type": "parcoords"
           }
          ],
          "pie": [
           {
            "automargin": true,
            "type": "pie"
           }
          ],
          "scatter": [
           {
            "fillpattern": {
             "fillmode": "overlay",
             "size": 10,
             "solidity": 0.2
            },
            "type": "scatter"
           }
          ],
          "scatter3d": [
           {
            "line": {
             "colorbar": {
              "outlinewidth": 0,
              "ticks": ""
             }
            },
            "marker": {
             "colorbar": {
              "outlinewidth": 0,
              "ticks": ""
             }
            },
            "type": "scatter3d"
           }
          ],
          "scattercarpet": [
           {
            "marker": {
             "colorbar": {
              "outlinewidth": 0,
              "ticks": ""
             }
            },
            "type": "scattercarpet"
           }
          ],
          "scattergeo": [
           {
            "marker": {
             "colorbar": {
              "outlinewidth": 0,
              "ticks": ""
             }
            },
            "type": "scattergeo"
           }
          ],
          "scattergl": [
           {
            "marker": {
             "colorbar": {
              "outlinewidth": 0,
              "ticks": ""
             }
            },
            "type": "scattergl"
           }
          ],
          "scattermapbox": [
           {
            "marker": {
             "colorbar": {
              "outlinewidth": 0,
              "ticks": ""
             }
            },
            "type": "scattermapbox"
           }
          ],
          "scatterpolar": [
           {
            "marker": {
             "colorbar": {
              "outlinewidth": 0,
              "ticks": ""
             }
            },
            "type": "scatterpolar"
           }
          ],
          "scatterpolargl": [
           {
            "marker": {
             "colorbar": {
              "outlinewidth": 0,
              "ticks": ""
             }
            },
            "type": "scatterpolargl"
           }
          ],
          "scatterternary": [
           {
            "marker": {
             "colorbar": {
              "outlinewidth": 0,
              "ticks": ""
             }
            },
            "type": "scatterternary"
           }
          ],
          "surface": [
           {
            "colorbar": {
             "outlinewidth": 0,
             "ticks": ""
            },
            "colorscale": [
             [
              0,
              "#0d0887"
             ],
             [
              0.1111111111111111,
              "#46039f"
             ],
             [
              0.2222222222222222,
              "#7201a8"
             ],
             [
              0.3333333333333333,
              "#9c179e"
             ],
             [
              0.4444444444444444,
              "#bd3786"
             ],
             [
              0.5555555555555556,
              "#d8576b"
             ],
             [
              0.6666666666666666,
              "#ed7953"
             ],
             [
              0.7777777777777778,
              "#fb9f3a"
             ],
             [
              0.8888888888888888,
              "#fdca26"
             ],
             [
              1,
              "#f0f921"
             ]
            ],
            "type": "surface"
           }
          ],
          "table": [
           {
            "cells": {
             "fill": {
              "color": "#EBF0F8"
             },
             "line": {
              "color": "white"
             }
            },
            "header": {
             "fill": {
              "color": "#C8D4E3"
             },
             "line": {
              "color": "white"
             }
            },
            "type": "table"
           }
          ]
         },
         "layout": {
          "annotationdefaults": {
           "arrowcolor": "#2a3f5f",
           "arrowhead": 0,
           "arrowwidth": 1
          },
          "autotypenumbers": "strict",
          "coloraxis": {
           "colorbar": {
            "outlinewidth": 0,
            "ticks": ""
           }
          },
          "colorscale": {
           "diverging": [
            [
             0,
             "#8e0152"
            ],
            [
             0.1,
             "#c51b7d"
            ],
            [
             0.2,
             "#de77ae"
            ],
            [
             0.3,
             "#f1b6da"
            ],
            [
             0.4,
             "#fde0ef"
            ],
            [
             0.5,
             "#f7f7f7"
            ],
            [
             0.6,
             "#e6f5d0"
            ],
            [
             0.7,
             "#b8e186"
            ],
            [
             0.8,
             "#7fbc41"
            ],
            [
             0.9,
             "#4d9221"
            ],
            [
             1,
             "#276419"
            ]
           ],
           "sequential": [
            [
             0,
             "#0d0887"
            ],
            [
             0.1111111111111111,
             "#46039f"
            ],
            [
             0.2222222222222222,
             "#7201a8"
            ],
            [
             0.3333333333333333,
             "#9c179e"
            ],
            [
             0.4444444444444444,
             "#bd3786"
            ],
            [
             0.5555555555555556,
             "#d8576b"
            ],
            [
             0.6666666666666666,
             "#ed7953"
            ],
            [
             0.7777777777777778,
             "#fb9f3a"
            ],
            [
             0.8888888888888888,
             "#fdca26"
            ],
            [
             1,
             "#f0f921"
            ]
           ],
           "sequentialminus": [
            [
             0,
             "#0d0887"
            ],
            [
             0.1111111111111111,
             "#46039f"
            ],
            [
             0.2222222222222222,
             "#7201a8"
            ],
            [
             0.3333333333333333,
             "#9c179e"
            ],
            [
             0.4444444444444444,
             "#bd3786"
            ],
            [
             0.5555555555555556,
             "#d8576b"
            ],
            [
             0.6666666666666666,
             "#ed7953"
            ],
            [
             0.7777777777777778,
             "#fb9f3a"
            ],
            [
             0.8888888888888888,
             "#fdca26"
            ],
            [
             1,
             "#f0f921"
            ]
           ]
          },
          "colorway": [
           "#636efa",
           "#EF553B",
           "#00cc96",
           "#ab63fa",
           "#FFA15A",
           "#19d3f3",
           "#FF6692",
           "#B6E880",
           "#FF97FF",
           "#FECB52"
          ],
          "font": {
           "color": "#2a3f5f"
          },
          "geo": {
           "bgcolor": "white",
           "lakecolor": "white",
           "landcolor": "#E5ECF6",
           "showlakes": true,
           "showland": true,
           "subunitcolor": "white"
          },
          "hoverlabel": {
           "align": "left"
          },
          "hovermode": "closest",
          "mapbox": {
           "style": "light"
          },
          "paper_bgcolor": "white",
          "plot_bgcolor": "#E5ECF6",
          "polar": {
           "angularaxis": {
            "gridcolor": "white",
            "linecolor": "white",
            "ticks": ""
           },
           "bgcolor": "#E5ECF6",
           "radialaxis": {
            "gridcolor": "white",
            "linecolor": "white",
            "ticks": ""
           }
          },
          "scene": {
           "xaxis": {
            "backgroundcolor": "#E5ECF6",
            "gridcolor": "white",
            "gridwidth": 2,
            "linecolor": "white",
            "showbackground": true,
            "ticks": "",
            "zerolinecolor": "white"
           },
           "yaxis": {
            "backgroundcolor": "#E5ECF6",
            "gridcolor": "white",
            "gridwidth": 2,
            "linecolor": "white",
            "showbackground": true,
            "ticks": "",
            "zerolinecolor": "white"
           },
           "zaxis": {
            "backgroundcolor": "#E5ECF6",
            "gridcolor": "white",
            "gridwidth": 2,
            "linecolor": "white",
            "showbackground": true,
            "ticks": "",
            "zerolinecolor": "white"
           }
          },
          "shapedefaults": {
           "line": {
            "color": "#2a3f5f"
           }
          },
          "ternary": {
           "aaxis": {
            "gridcolor": "white",
            "linecolor": "white",
            "ticks": ""
           },
           "baxis": {
            "gridcolor": "white",
            "linecolor": "white",
            "ticks": ""
           },
           "bgcolor": "#E5ECF6",
           "caxis": {
            "gridcolor": "white",
            "linecolor": "white",
            "ticks": ""
           }
          },
          "title": {
           "x": 0.05
          },
          "xaxis": {
           "automargin": true,
           "gridcolor": "white",
           "linecolor": "white",
           "ticks": "",
           "title": {
            "standoff": 15
           },
           "zerolinecolor": "white",
           "zerolinewidth": 2
          },
          "yaxis": {
           "automargin": true,
           "gridcolor": "white",
           "linecolor": "white",
           "ticks": "",
           "title": {
            "standoff": 15
           },
           "zerolinecolor": "white",
           "zerolinewidth": 2
          }
         }
        },
        "xaxis": {
         "anchor": "y",
         "domain": [
          0,
          1
         ],
         "range": [
          "2023-06-01T16:40:35.811000-07:00",
          "2023-06-01T16:44:46.618000-07:00"
         ],
         "type": "date"
        },
        "yaxis": {
         "anchor": "x",
         "autorange": true,
         "domain": [
          0,
          1
         ],
         "range": [
          -0.5,
          65.5
         ],
         "title": {
          "text": "warehouse_query"
         },
         "type": "category"
        }
       }
      },
      "image/png": "[encoded data removed]",
      "text/html": [
       "<div>                            <div id=\"1e1ee62a-27e6-43ca-9d4b-0933f77bedc6\" class=\"plotly-graph-div\" style=\"height:1000px; width:100%;\"></div>            <script type=\"text/javascript\">                require([\"plotly\"], function(Plotly) {                    window.PLOTLYENV=window.PLOTLYENV || {};                                    if (document.getElementById(\"1e1ee62a-27e6-43ca-9d4b-0933f77bedc6\")) {                    Plotly.newPlot(                        \"1e1ee62a-27e6-43ca-9d4b-0933f77bedc6\",                        [{\"alignmentgroup\":\"True\",\"base\":[\"2023-06-01T16:40:35.811000-07:00\",\"2023-06-01T16:40:36.005000-07:00\",\"2023-06-01T16:40:36.473000-07:00\",\"2023-06-01T16:40:46.230000-07:00\",\"2023-06-01T16:40:46.241000-07:00\",\"2023-06-01T16:40:55.813000-07:00\",\"2023-06-01T16:40:55.919000-07:00\",\"2023-06-01T16:40:56.040000-07:00\",\"2023-06-01T16:40:56.157000-07:00\",\"2023-06-01T16:40:56.161000-07:00\",\"2023-06-01T16:40:56.278000-07:00\",\"2023-06-01T16:40:56.298000-07:00\",\"2023-06-01T16:41:06.032000-07:00\",\"2023-06-01T16:41:06.045000-07:00\",\"2023-06-01T16:41:06.127000-07:00\",\"2023-06-01T16:41:06.277000-07:00\",\"2023-06-01T16:41:06.394000-07:00\",\"2023-06-01T16:40:36.884000-07:00\",\"2023-06-01T16:40:45.811000-07:00\",\"2023-06-01T16:40:45.872000-07:00\",\"2023-06-01T16:40:45.929000-07:00\",\"2023-06-01T16:40:45.957000-07:00\",\"2023-06-01T16:40:46.002000-07:00\",\"2023-06-01T16:40:46.049000-07:00\",\"2023-06-01T16:40:46.097000-07:00\",\"2023-06-01T16:40:46.151000-07:00\",\"2023-06-01T16:40:46.206000-07:00\",\"2023-06-01T16:40:46.260000-07:00\",\"2023-06-01T16:40:46.319000-07:00\",\"2023-06-01T16:40:46.324000-07:00\",\"2023-06-01T16:40:55.866000-07:00\",\"2023-06-01T16:40:55.971000-07:00\",\"2023-06-01T16:40:56.096000-07:00\",\"2023-06-01T16:40:56.212000-07:00\",\"2023-06-01T16:40:56.325000-07:00\",\"2023-06-01T16:40:56.363000-07:00\",\"2023-06-01T16:40:56.372000-07:00\",\"2023-06-01T16:40:56.460000-07:00\",\"2023-06-01T16:41:06.283000-07:00\",\"2023-06-01T16:41:06.367000-07:00\",\"2023-06-01T16:41:06.494000-07:00\",\"2023-06-01T16:40:36.488000-07:00\",\"2023-06-01T16:40:46.166000-07:00\",\"2023-06-01T16:40:46.210000-07:00\",\"2023-06-01T16:40:46.362000-07:00\",\"2023-06-01T16:40:46.379000-07:00\",\"2023-06-01T16:40:56.236000-07:00\",\"2023-06-01T16:41:05.809000-07:00\",\"2023-06-01T16:41:05.863000-07:00\",\"2023-06-01T16:41:05.964000-07:00\",\"2023-06-01T16:41:06.070000-07:00\",\"2023-06-01T16:41:06.136000-07:00\",\"2023-06-01T16:41:06.213000-07:00\",\"2023-06-01T16:41:06.329000-07:00\",\"2023-06-01T16:41:06.447000-07:00\",\"2023-06-01T16:41:06.534000-07:00\",\"2023-06-01T16:41:06.580000-07:00\",\"2023-06-01T16:41:06.679000-07:00\",\"2023-06-01T16:41:06.735000-07:00\",\"2023-06-01T16:40:36.867000-07:00\",\"2023-06-01T16:40:45.976000-07:00\",\"2023-06-01T16:40:46.497000-07:00\",\"2023-06-01T16:40:55.941000-07:00\",\"2023-06-01T16:40:56.033000-07:00\",\"2023-06-01T16:40:56.048000-07:00\",\"2023-06-01T16:40:56.137000-07:00\"],\"customdata\":[[\"call test_query(0);\",\"01acafac-0001-217d-0003-f2760001f336\"],[\"call test_query(0);\",\"01acafac-0001-217d-0003-f2760001f342\"],[\"call test_query(0);\",\"01acafac-0001-2143-0003-f2760001d35a\"],[\"create or replace table test as SELECT seq4() col1 , uniform(1, 10, RANDOM(12)) col2 FROM TABLE(GENERATOR(ROWCOUNT => 100000000)) v ORDER BY 2;\",\"01acafac-0001-2143-0003-f2760001d396\"],[\"create or replace table test as SELECT seq4() col1 , uniform(1, 10, RANDOM(12)) col2 FROM TABLE(GENERATOR(ROWCOUNT => 100000000)) v ORDER BY 2;\",\"01acafac-0001-217d-0003-f2760001f386\"],[\"call test_query(0);\",\"01acafac-0001-217d-0003-f2760001f39e\"],[\"call test_query(0);\",\"01acafac-0001-2143-0003-f2760001d3c6\"],[\"call test_query(0);\",\"01acafac-0001-2143-0003-f2760001d3d2\"],[\"call test_query(0);\",\"01acafac-0001-217d-0003-f2760001f3aa\"],[\"create or replace table test as SELECT seq4() col1 , uniform(1, 10, RANDOM(12)) col2 FROM TABLE(GENERATOR(ROWCOUNT => 100000000)) v ORDER BY 2;\",\"01acafac-0001-2143-0003-f2760001d3de\"],[\"call test_query(0);\",\"01acafac-0001-217d-0003-f2760001f3b2\"],[\"create or replace table test as SELECT seq4() col1 , uniform(1, 10, RANDOM(12)) col2 FROM TABLE(GENERATOR(ROWCOUNT => 100000000)) v ORDER BY 2;\",\"01acafac-0001-217d-0003-f2760001f3b6\"],[\"create or replace table test as SELECT seq4() col1 , uniform(1, 10, RANDOM(12)) col2 FROM TABLE(GENERATOR(ROWCOUNT => 100000000)) v ORDER BY 2;\",\"01acafad-0001-217d-0003-f2760001f3e2\"],[\"create or replace table test as SELECT seq4() col1 , uniform(1, 10, RANDOM(12)) col2 FROM TABLE(GENERATOR(ROWCOUNT => 100000000)) v ORDER BY 2;\",\"01acafad-0001-2143-0003-f2760001d3fe\"],[\"create or replace table test as SELECT seq4() col1 , uniform(1, 10, RANDOM(12)) col2 FROM TABLE(GENERATOR(ROWCOUNT => 100000000)) v ORDER BY 2;\",\"01acafad-0001-2143-0003-f2760001d402\"],[\"create or replace table test as SELECT seq4() col1 , uniform(1, 10, RANDOM(12)) col2 FROM TABLE(GENERATOR(ROWCOUNT => 100000000)) v ORDER BY 2;\",\"01acafad-0001-2143-0003-f2760001d40a\"],[\"call test_query(10);\",\"01acafad-0001-2143-0003-f2760001d412\"],[\"create or replace table test as SELECT seq4() col1 , uniform(1, 10, RANDOM(12)) col2 FROM TABLE(GENERATOR(ROWCOUNT => 100000000)) v ORDER BY 2;\",\"01acafac-0001-2143-0003-f2760001d366\"],[\"call test_query(0);\",\"01acafac-0001-2143-0003-f2760001d37a\"],[\"call test_query(0);\",\"01acafac-0001-2143-0003-f2760001d37e\"],[\"call test_query(0);\",\"01acafac-0001-217d-0003-f2760001f372\"],[\"create or replace table test as SELECT seq4() col1 , uniform(1, 10, RANDOM(12)) col2 FROM TABLE(GENERATOR(ROWCOUNT => 100000000)) v ORDER BY 2;\",\"01acafac-0001-2143-0003-f2760001d382\"],[\"call test_query(0);\",\"01acafac-0001-217d-0003-f2760001f376\"],[\"call test_query(0);\",\"01acafac-0001-2143-0003-f2760001d38a\"],[\"call test_query(0);\",\"01acafac-0001-217d-0003-f2760001f37a\"],[\"call test_query(0);\",\"01acafac-0001-2143-0003-f2760001d38e\"],[\"call test_query(0);\",\"01acafac-0001-2143-0003-f2760001d392\"],[\"call test_query(0);\",\"01acafac-0001-2143-0003-f2760001d39e\"],[\"call test_query(0);\",\"01acafac-0001-217d-0003-f2760001f38a\"],[\"create or replace table test as SELECT seq4() col1 , uniform(1, 10, RANDOM(12)) col2 FROM TABLE(GENERATOR(ROWCOUNT => 100000000)) v ORDER BY 2;\",\"01acafac-0001-2143-0003-f2760001d3a2\"],[\"call test_query(0);\",\"01acafac-0001-2143-0003-f2760001d3c2\"],[\"call test_query(0);\",\"01acafac-0001-2143-0003-f2760001d3ca\"],[\"call test_query(0);\",\"01acafac-0001-217d-0003-f2760001f3a6\"],[\"call test_query(0);\",\"01acafac-0001-2143-0003-f2760001d3e2\"],[\"call test_query(0);\",\"01acafac-0001-217d-0003-f2760001f3ba\"],[\"create or replace table test as SELECT seq4() col1 , uniform(1, 10, RANDOM(12)) col2 FROM TABLE(GENERATOR(ROWCOUNT => 100000000)) v ORDER BY 2;\",\"01acafac-0001-2143-0003-f2760001d3e6\"],[\"create or replace table test as SELECT seq4() col1 , uniform(1, 10, RANDOM(12)) col2 FROM TABLE(GENERATOR(ROWCOUNT => 100000000)) v ORDER BY 2;\",\"01acafac-0001-217d-0003-f2760001f3be\"],[\"create or replace table test as SELECT seq4() col1 , uniform(1, 10, RANDOM(12)) col2 FROM TABLE(GENERATOR(ROWCOUNT => 100000000)) v ORDER BY 2;\",\"01acafac-0001-217d-0003-f2760001f3c6\"],[\"create or replace table test as SELECT seq4() col1 , uniform(1, 10, RANDOM(12)) col2 FROM TABLE(GENERATOR(ROWCOUNT => 100000000)) v ORDER BY 2;\",\"01acafad-0001-217d-0003-f2760001f3ee\"],[\"create or replace table test as SELECT seq4() col1 , uniform(1, 10, RANDOM(12)) col2 FROM TABLE(GENERATOR(ROWCOUNT => 100000000)) v ORDER BY 2;\",\"01acafad-0001-217d-0003-f2760001f3f2\"],[\"call test_query(10);\",\"01acafad-0001-217d-0003-f2760001f3fa\"],[\"create or replace table test as SELECT seq4() col1 , uniform(1, 10, RANDOM(12)) col2 FROM TABLE(GENERATOR(ROWCOUNT => 100000000)) v ORDER BY 2;\",\"01acafac-0001-217d-0003-f2760001f34e\"],[\"create or replace table test as SELECT seq4() col1 , uniform(1, 10, RANDOM(12)) col2 FROM TABLE(GENERATOR(ROWCOUNT => 100000000)) v ORDER BY 2;\",\"01acafac-0001-217d-0003-f2760001f37e\"],[\"create or replace table test as SELECT seq4() col1 , uniform(1, 10, RANDOM(12)) col2 FROM TABLE(GENERATOR(ROWCOUNT => 100000000)) v ORDER BY 2;\",\"01acafac-0001-217d-0003-f2760001f382\"],[\"create or replace table test as SELECT seq4() col1 , uniform(1, 10, RANDOM(12)) col2 FROM TABLE(GENERATOR(ROWCOUNT => 100000000)) v ORDER BY 2;\",\"01acafac-0001-2143-0003-f2760001d3a6\"],[\"create or replace table test as SELECT seq4() col1 , uniform(1, 10, RANDOM(12)) col2 FROM TABLE(GENERATOR(ROWCOUNT => 100000000)) v ORDER BY 2;\",\"01acafac-0001-2143-0003-f2760001d3aa\"],[\"create or replace table test as SELECT seq4() col1 , uniform(1, 10, RANDOM(12)) col2 FROM TABLE(GENERATOR(ROWCOUNT => 100000000)) v ORDER BY 2;\",\"01acafac-0001-217d-0003-f2760001f3ae\"],[\"call test_query(10);\",\"01acafad-0001-2143-0003-f2760001d3f6\"],[\"call test_query(10);\",\"01acafad-0001-217d-0003-f2760001f3de\"],[\"call test_query(10);\",\"01acafad-0001-2143-0003-f2760001d3fa\"],[\"call test_query(10);\",\"01acafad-0001-217d-0003-f2760001f3e6\"],[\"call test_query(10);\",\"01acafad-0001-2143-0003-f2760001d406\"],[\"call test_query(10);\",\"01acafad-0001-217d-0003-f2760001f3ea\"],[\"call test_query(10);\",\"01acafad-0001-2143-0003-f2760001d40e\"],[\"create or replace table test as SELECT seq4() col1 , uniform(1, 10, RANDOM(12)) col2 FROM TABLE(GENERATOR(ROWCOUNT => 100000000)) v ORDER BY 2;\",\"01acafad-0001-2143-0003-f2760001d416\"],[\"create or replace table test as SELECT seq4() col1 , uniform(1, 10, RANDOM(12)) col2 FROM TABLE(GENERATOR(ROWCOUNT => 100000000)) v ORDER BY 2;\",\"01acafad-0001-2143-0003-f2760001d41a\"],[\"call test_query(10);\",\"01acafad-0001-217d-0003-f2760001f3fe\"],[\"create or replace table test as SELECT seq4() col1 , uniform(1, 10, RANDOM(12)) col2 FROM TABLE(GENERATOR(ROWCOUNT => 100000000)) v ORDER BY 2;\",\"01acafad-0001-217d-0003-f2760001f402\"],[\"create or replace table test as SELECT seq4() col1 , uniform(1, 10, RANDOM(12)) col2 FROM TABLE(GENERATOR(ROWCOUNT => 100000000)) v ORDER BY 2;\",\"01acafad-0001-217d-0003-f2760001f406\"],[\"create or replace table test as SELECT seq4() col1 , uniform(1, 10, RANDOM(12)) col2 FROM TABLE(GENERATOR(ROWCOUNT => 100000000)) v ORDER BY 2;\",\"01acafac-0001-217d-0003-f2760001f356\"],[\"create or replace table test as SELECT seq4() col1 , uniform(1, 10, RANDOM(12)) col2 FROM TABLE(GENERATOR(ROWCOUNT => 100000000)) v ORDER BY 2;\",\"01acafac-0001-2143-0003-f2760001d386\"],[\"create or replace table test as SELECT seq4() col1 , uniform(1, 10, RANDOM(12)) col2 FROM TABLE(GENERATOR(ROWCOUNT => 100000000)) v ORDER BY 2;\",\"01acafac-0001-217d-0003-f2760001f38e\"],[\"create or replace table test as SELECT seq4() col1 , uniform(1, 10, RANDOM(12)) col2 FROM TABLE(GENERATOR(ROWCOUNT => 100000000)) v ORDER BY 2;\",\"01acafac-0001-217d-0003-f2760001f3a2\"],[\"create or replace table test as SELECT seq4() col1 , uniform(1, 10, RANDOM(12)) col2 FROM TABLE(GENERATOR(ROWCOUNT => 100000000)) v ORDER BY 2;\",\"01acafac-0001-2143-0003-f2760001d3ce\"],[\"create or replace table test as SELECT seq4() col1 , uniform(1, 10, RANDOM(12)) col2 FROM TABLE(GENERATOR(ROWCOUNT => 100000000)) v ORDER BY 2;\",\"01acafac-0001-2143-0003-f2760001d3d6\"],[\"create or replace table test as SELECT seq4() col1 , uniform(1, 10, RANDOM(12)) col2 FROM TABLE(GENERATOR(ROWCOUNT => 100000000)) v ORDER BY 2;\",\"01acafac-0001-2143-0003-f2760001d3da\"]],\"hovertemplate\":\"status=queued<br>start_time=%{base}<br>end_time=%{x}<br>warehouse_query=%{y}<br>query_text=%{customdata[0]}<br>query_id=%{customdata[1]}<extra></extra>\",\"legendgroup\":\"queued\",\"marker\":{\"color\":\"#636efa\",\"pattern\":{\"shape\":\"\"}},\"name\":\"queued\",\"offsetgroup\":\"queued\",\"orientation\":\"h\",\"showlegend\":true,\"textposition\":\"auto\",\"x\":[553.0,285.0,364.0,11664.0,11430.0,67.0,58.0,58.0,79.0,21576.0,44.0,32703.0,27714.0,27788.0,28010.0,29122.0,78.0,498.0,58.0,59.0,170.0,107.0,79.0,85.0,55.0,78.0,84.0,59.0,63.0,11311.0,54.0,69.0,58.0,78.0,63.0,35886.0,34115.0,36477.0,28668.0,37550.0,51.0,475.0,11263.0,11344.0,11256.0,11073.0,21571.0,102.0,65.0,95.0,80.0,45.0,55.0,69.0,50548.0,51053.0,78.0,51350.0,52672.0,397.0,427.0,30792.0,21468.0,21298.0,21746.0,21490.0],\"xaxis\":\"x\",\"y\":[\"TEST_BC9A9691_C770_4EB7_96E9_278AAC7DB0C6 : 1 : 01acafac-0001-217d-0003-f2760001f336\",\"TEST_BC9A9691_C770_4EB7_96E9_278AAC7DB0C6 : 1 : 01acafac-0001-217d-0003-f2760001f342\",\"TEST_BC9A9691_C770_4EB7_96E9_278AAC7DB0C6 : 1 : 01acafac-0001-2143-0003-f2760001d35a\",\"TEST_BC9A9691_C770_4EB7_96E9_278AAC7DB0C6 : 1 : 01acafac-0001-2143-0003-f2760001d396\",\"TEST_BC9A9691_C770_4EB7_96E9_278AAC7DB0C6 : 1 : 01acafac-0001-217d-0003-f2760001f386\",\"TEST_BC9A9691_C770_4EB7_96E9_278AAC7DB0C6 : 1 : 01acafac-0001-217d-0003-f2760001f39e\",\"TEST_BC9A9691_C770_4EB7_96E9_278AAC7DB0C6 : 1 : 01acafac-0001-2143-0003-f2760001d3c6\",\"TEST_BC9A9691_C770_4EB7_96E9_278AAC7DB0C6 : 1 : 01acafac-0001-2143-0003-f2760001d3d2\",\"TEST_BC9A9691_C770_4EB7_96E9_278AAC7DB0C6 : 1 : 01acafac-0001-217d-0003-f2760001f3aa\",\"TEST_BC9A9691_C770_4EB7_96E9_278AAC7DB0C6 : 1 : 01acafac-0001-2143-0003-f2760001d3de\",\"TEST_BC9A9691_C770_4EB7_96E9_278AAC7DB0C6 : 1 : 01acafac-0001-217d-0003-f2760001f3b2\",\"TEST_BC9A9691_C770_4EB7_96E9_278AAC7DB0C6 : 1 : 01acafac-0001-217d-0003-f2760001f3b6\",\"TEST_BC9A9691_C770_4EB7_96E9_278AAC7DB0C6 : 1 : 01acafad-0001-217d-0003-f2760001f3e2\",\"TEST_BC9A9691_C770_4EB7_96E9_278AAC7DB0C6 : 1 : 01acafad-0001-2143-0003-f2760001d3fe\",\"TEST_BC9A9691_C770_4EB7_96E9_278AAC7DB0C6 : 1 : 01acafad-0001-2143-0003-f2760001d402\",\"TEST_BC9A9691_C770_4EB7_96E9_278AAC7DB0C6 : 1 : 01acafad-0001-2143-0003-f2760001d40a\",\"TEST_BC9A9691_C770_4EB7_96E9_278AAC7DB0C6 : 1 : 01acafad-0001-2143-0003-f2760001d412\",\"TEST_BC9A9691_C770_4EB7_96E9_278AAC7DB0C6 : 2 : 01acafac-0001-2143-0003-f2760001d366\",\"TEST_BC9A9691_C770_4EB7_96E9_278AAC7DB0C6 : 2 : 01acafac-0001-2143-0003-f2760001d37a\",\"TEST_BC9A9691_C770_4EB7_96E9_278AAC7DB0C6 : 2 : 01acafac-0001-2143-0003-f2760001d37e\",\"TEST_BC9A9691_C770_4EB7_96E9_278AAC7DB0C6 : 2 : 01acafac-0001-217d-0003-f2760001f372\",\"TEST_BC9A9691_C770_4EB7_96E9_278AAC7DB0C6 : 2 : 01acafac-0001-2143-0003-f2760001d382\",\"TEST_BC9A9691_C770_4EB7_96E9_278AAC7DB0C6 : 2 : 01acafac-0001-217d-0003-f2760001f376\",\"TEST_BC9A9691_C770_4EB7_96E9_278AAC7DB0C6 : 2 : 01acafac-0001-2143-0003-f2760001d38a\",\"TEST_BC9A9691_C770_4EB7_96E9_278AAC7DB0C6 : 2 : 01acafac-0001-217d-0003-f2760001f37a\",\"TEST_BC9A9691_C770_4EB7_96E9_278AAC7DB0C6 : 2 : 01acafac-0001-2143-0003-f2760001d38e\",\"TEST_BC9A9691_C770_4EB7_96E9_278AAC7DB0C6 : 2 : 01acafac-0001-2143-0003-f2760001d392\",\"TEST_BC9A9691_C770_4EB7_96E9_278AAC7DB0C6 : 2 : 01acafac-0001-2143-0003-f2760001d39e\",\"TEST_BC9A9691_C770_4EB7_96E9_278AAC7DB0C6 : 2 : 01acafac-0001-217d-0003-f2760001f38a\",\"TEST_BC9A9691_C770_4EB7_96E9_278AAC7DB0C6 : 2 : 01acafac-0001-2143-0003-f2760001d3a2\",\"TEST_BC9A9691_C770_4EB7_96E9_278AAC7DB0C6 : 2 : 01acafac-0001-2143-0003-f2760001d3c2\",\"TEST_BC9A9691_C770_4EB7_96E9_278AAC7DB0C6 : 2 : 01acafac-0001-2143-0003-f2760001d3ca\",\"TEST_BC9A9691_C770_4EB7_96E9_278AAC7DB0C6 : 2 : 01acafac-0001-217d-0003-f2760001f3a6\",\"TEST_BC9A9691_C770_4EB7_96E9_278AAC7DB0C6 : 2 : 01acafac-0001-2143-0003-f2760001d3e2\",\"TEST_BC9A9691_C770_4EB7_96E9_278AAC7DB0C6 : 2 : 01acafac-0001-217d-0003-f2760001f3ba\",\"TEST_BC9A9691_C770_4EB7_96E9_278AAC7DB0C6 : 2 : 01acafac-0001-2143-0003-f2760001d3e6\",\"TEST_BC9A9691_C770_4EB7_96E9_278AAC7DB0C6 : 2 : 01acafac-0001-217d-0003-f2760001f3be\",\"TEST_BC9A9691_C770_4EB7_96E9_278AAC7DB0C6 : 2 : 01acafac-0001-217d-0003-f2760001f3c6\",\"TEST_BC9A9691_C770_4EB7_96E9_278AAC7DB0C6 : 2 : 01acafad-0001-217d-0003-f2760001f3ee\",\"TEST_BC9A9691_C770_4EB7_96E9_278AAC7DB0C6 : 2 : 01acafad-0001-217d-0003-f2760001f3f2\",\"TEST_BC9A9691_C770_4EB7_96E9_278AAC7DB0C6 : 2 : 01acafad-0001-217d-0003-f2760001f3fa\",\"TEST_BC9A9691_C770_4EB7_96E9_278AAC7DB0C6 : 3 : 01acafac-0001-217d-0003-f2760001f34e\",\"TEST_BC9A9691_C770_4EB7_96E9_278AAC7DB0C6 : 3 : 01acafac-0001-217d-0003-f2760001f37e\",\"TEST_BC9A9691_C770_4EB7_96E9_278AAC7DB0C6 : 3 : 01acafac-0001-217d-0003-f2760001f382\",\"TEST_BC9A9691_C770_4EB7_96E9_278AAC7DB0C6 : 3 : 01acafac-0001-2143-0003-f2760001d3a6\",\"TEST_BC9A9691_C770_4EB7_96E9_278AAC7DB0C6 : 3 : 01acafac-0001-2143-0003-f2760001d3aa\",\"TEST_BC9A9691_C770_4EB7_96E9_278AAC7DB0C6 : 3 : 01acafac-0001-217d-0003-f2760001f3ae\",\"TEST_BC9A9691_C770_4EB7_96E9_278AAC7DB0C6 : 3 : 01acafad-0001-2143-0003-f2760001d3f6\",\"TEST_BC9A9691_C770_4EB7_96E9_278AAC7DB0C6 : 3 : 01acafad-0001-217d-0003-f2760001f3de\",\"TEST_BC9A9691_C770_4EB7_96E9_278AAC7DB0C6 : 3 : 01acafad-0001-2143-0003-f2760001d3fa\",\"TEST_BC9A9691_C770_4EB7_96E9_278AAC7DB0C6 : 3 : 01acafad-0001-217d-0003-f2760001f3e6\",\"TEST_BC9A9691_C770_4EB7_96E9_278AAC7DB0C6 : 3 : 01acafad-0001-2143-0003-f2760001d406\",\"TEST_BC9A9691_C770_4EB7_96E9_278AAC7DB0C6 : 3 : 01acafad-0001-217d-0003-f2760001f3ea\",\"TEST_BC9A9691_C770_4EB7_96E9_278AAC7DB0C6 : 3 : 01acafad-0001-2143-0003-f2760001d40e\",\"TEST_BC9A9691_C770_4EB7_96E9_278AAC7DB0C6 : 3 : 01acafad-0001-2143-0003-f2760001d416\",\"TEST_BC9A9691_C770_4EB7_96E9_278AAC7DB0C6 : 3 : 01acafad-0001-2143-0003-f2760001d41a\",\"TEST_BC9A9691_C770_4EB7_96E9_278AAC7DB0C6 : 3 : 01acafad-0001-217d-0003-f2760001f3fe\",\"TEST_BC9A9691_C770_4EB7_96E9_278AAC7DB0C6 : 3 : 01acafad-0001-217d-0003-f2760001f402\",\"TEST_BC9A9691_C770_4EB7_96E9_278AAC7DB0C6 : 3 : 01acafad-0001-217d-0003-f2760001f406\",\"TEST_BC9A9691_C770_4EB7_96E9_278AAC7DB0C6 : 4 : 01acafac-0001-217d-0003-f2760001f356\",\"TEST_BC9A9691_C770_4EB7_96E9_278AAC7DB0C6 : 4 : 01acafac-0001-2143-0003-f2760001d386\",\"TEST_BC9A9691_C770_4EB7_96E9_278AAC7DB0C6 : 4 : 01acafac-0001-217d-0003-f2760001f38e\",\"TEST_BC9A9691_C770_4EB7_96E9_278AAC7DB0C6 : 4 : 01acafac-0001-217d-0003-f2760001f3a2\",\"TEST_BC9A9691_C770_4EB7_96E9_278AAC7DB0C6 : 4 : 01acafac-0001-2143-0003-f2760001d3ce\",\"TEST_BC9A9691_C770_4EB7_96E9_278AAC7DB0C6 : 4 : 01acafac-0001-2143-0003-f2760001d3d6\",\"TEST_BC9A9691_C770_4EB7_96E9_278AAC7DB0C6 : 4 : 01acafac-0001-2143-0003-f2760001d3da\"],\"yaxis\":\"y\",\"type\":\"bar\"},{\"alignmentgroup\":\"True\",\"base\":[\"2023-06-01T16:40:36.290000-07:00\",\"2023-06-01T16:40:36.364000-07:00\",\"2023-06-01T16:40:36.837000-07:00\",\"2023-06-01T16:40:55.880000-07:00\",\"2023-06-01T16:40:55.977000-07:00\",\"2023-06-01T16:40:56.098000-07:00\",\"2023-06-01T16:40:56.236000-07:00\",\"2023-06-01T16:40:56.322000-07:00\",\"2023-06-01T16:40:57.671000-07:00\",\"2023-06-01T16:40:57.894000-07:00\",\"2023-06-01T16:41:06.472000-07:00\",\"2023-06-01T16:41:17.737000-07:00\",\"2023-06-01T16:41:29.001000-07:00\",\"2023-06-01T16:41:33.746000-07:00\",\"2023-06-01T16:41:33.833000-07:00\",\"2023-06-01T16:41:34.137000-07:00\",\"2023-06-01T16:41:35.399000-07:00\",\"2023-06-01T16:40:37.382000-07:00\",\"2023-06-01T16:40:45.869000-07:00\",\"2023-06-01T16:40:45.931000-07:00\",\"2023-06-01T16:40:46.064000-07:00\",\"2023-06-01T16:40:46.081000-07:00\",\"2023-06-01T16:40:46.099000-07:00\",\"2023-06-01T16:40:46.134000-07:00\",\"2023-06-01T16:40:46.152000-07:00\",\"2023-06-01T16:40:46.229000-07:00\",\"2023-06-01T16:40:46.290000-07:00\",\"2023-06-01T16:40:46.319000-07:00\",\"2023-06-01T16:40:46.382000-07:00\",\"2023-06-01T16:40:55.920000-07:00\",\"2023-06-01T16:40:56.040000-07:00\",\"2023-06-01T16:40:56.154000-07:00\",\"2023-06-01T16:40:56.290000-07:00\",\"2023-06-01T16:40:56.388000-07:00\",\"2023-06-01T16:40:57.635000-07:00\",\"2023-06-01T16:41:06.545000-07:00\",\"2023-06-01T16:41:30.487000-07:00\",\"2023-06-01T16:41:32.249000-07:00\",\"2023-06-01T16:41:32.937000-07:00\",\"2023-06-01T16:41:34.951000-07:00\",\"2023-06-01T16:41:43.917000-07:00\",\"2023-06-01T16:40:36.963000-07:00\",\"2023-06-01T16:40:57.429000-07:00\",\"2023-06-01T16:40:57.452000-07:00\",\"2023-06-01T16:40:57.554000-07:00\",\"2023-06-01T16:40:57.618000-07:00\",\"2023-06-01T16:41:05.911000-07:00\",\"2023-06-01T16:41:05.928000-07:00\",\"2023-06-01T16:41:06.059000-07:00\",\"2023-06-01T16:41:06.150000-07:00\",\"2023-06-01T16:41:06.181000-07:00\",\"2023-06-01T16:41:06.268000-07:00\",\"2023-06-01T16:41:06.398000-07:00\",\"2023-06-01T16:41:06.658000-07:00\",\"2023-06-01T16:41:17.807000-07:00\",\"2023-06-01T16:41:56.995000-07:00\",\"2023-06-01T16:41:57.587000-07:00\",\"2023-06-01T16:41:58.029000-07:00\",\"2023-06-01T16:41:59.407000-07:00\",\"2023-06-01T16:40:37.264000-07:00\",\"2023-06-01T16:40:46.403000-07:00\",\"2023-06-01T16:41:17.289000-07:00\",\"2023-06-01T16:41:17.331000-07:00\",\"2023-06-01T16:41:17.409000-07:00\",\"2023-06-01T16:41:17.627000-07:00\",\"2023-06-01T16:41:17.794000-07:00\"],\"customdata\":[[\"call test_query(0);\",\"01acafac-0001-217d-0003-f2760001f342\"],[\"call test_query(0);\",\"01acafac-0001-217d-0003-f2760001f336\"],[\"call test_query(0);\",\"01acafac-0001-2143-0003-f2760001d35a\"],[\"call test_query(0);\",\"01acafac-0001-217d-0003-f2760001f39e\"],[\"call test_query(0);\",\"01acafac-0001-2143-0003-f2760001d3c6\"],[\"call test_query(0);\",\"01acafac-0001-2143-0003-f2760001d3d2\"],[\"call test_query(0);\",\"01acafac-0001-217d-0003-f2760001f3aa\"],[\"call test_query(0);\",\"01acafac-0001-217d-0003-f2760001f3b2\"],[\"create or replace table test as SELECT seq4() col1 , uniform(1, 10, RANDOM(12)) col2 FROM TABLE(GENERATOR(ROWCOUNT => 100000000)) v ORDER BY 2;\",\"01acafac-0001-217d-0003-f2760001f386\"],[\"create or replace table test as SELECT seq4() col1 , uniform(1, 10, RANDOM(12)) col2 FROM TABLE(GENERATOR(ROWCOUNT => 100000000)) v ORDER BY 2;\",\"01acafac-0001-2143-0003-f2760001d396\"],[\"call test_query(10);\",\"01acafad-0001-2143-0003-f2760001d412\"],[\"create or replace table test as SELECT seq4() col1 , uniform(1, 10, RANDOM(12)) col2 FROM TABLE(GENERATOR(ROWCOUNT => 100000000)) v ORDER BY 2;\",\"01acafac-0001-2143-0003-f2760001d3de\"],[\"create or replace table test as SELECT seq4() col1 , uniform(1, 10, RANDOM(12)) col2 FROM TABLE(GENERATOR(ROWCOUNT => 100000000)) v ORDER BY 2;\",\"01acafac-0001-217d-0003-f2760001f3b6\"],[\"create or replace table test as SELECT seq4() col1 , uniform(1, 10, RANDOM(12)) col2 FROM TABLE(GENERATOR(ROWCOUNT => 100000000)) v ORDER BY 2;\",\"01acafad-0001-217d-0003-f2760001f3e2\"],[\"create or replace table test as SELECT seq4() col1 , uniform(1, 10, RANDOM(12)) col2 FROM TABLE(GENERATOR(ROWCOUNT => 100000000)) v ORDER BY 2;\",\"01acafad-0001-2143-0003-f2760001d3fe\"],[\"create or replace table test as SELECT seq4() col1 , uniform(1, 10, RANDOM(12)) col2 FROM TABLE(GENERATOR(ROWCOUNT => 100000000)) v ORDER BY 2;\",\"01acafad-0001-2143-0003-f2760001d402\"],[\"create or replace table test as SELECT seq4() col1 , uniform(1, 10, RANDOM(12)) col2 FROM TABLE(GENERATOR(ROWCOUNT => 100000000)) v ORDER BY 2;\",\"01acafad-0001-2143-0003-f2760001d40a\"],[\"create or replace table test as SELECT seq4() col1 , uniform(1, 10, RANDOM(12)) col2 FROM TABLE(GENERATOR(ROWCOUNT => 100000000)) v ORDER BY 2;\",\"01acafac-0001-2143-0003-f2760001d366\"],[\"call test_query(0);\",\"01acafac-0001-2143-0003-f2760001d37a\"],[\"call test_query(0);\",\"01acafac-0001-2143-0003-f2760001d37e\"],[\"create or replace table test as SELECT seq4() col1 , uniform(1, 10, RANDOM(12)) col2 FROM TABLE(GENERATOR(ROWCOUNT => 100000000)) v ORDER BY 2;\",\"01acafac-0001-2143-0003-f2760001d382\"],[\"call test_query(0);\",\"01acafac-0001-217d-0003-f2760001f376\"],[\"call test_query(0);\",\"01acafac-0001-217d-0003-f2760001f372\"],[\"call test_query(0);\",\"01acafac-0001-2143-0003-f2760001d38a\"],[\"call test_query(0);\",\"01acafac-0001-217d-0003-f2760001f37a\"],[\"call test_query(0);\",\"01acafac-0001-2143-0003-f2760001d38e\"],[\"call test_query(0);\",\"01acafac-0001-2143-0003-f2760001d392\"],[\"call test_query(0);\",\"01acafac-0001-2143-0003-f2760001d39e\"],[\"call test_query(0);\",\"01acafac-0001-217d-0003-f2760001f38a\"],[\"call test_query(0);\",\"01acafac-0001-2143-0003-f2760001d3c2\"],[\"call test_query(0);\",\"01acafac-0001-2143-0003-f2760001d3ca\"],[\"call test_query(0);\",\"01acafac-0001-217d-0003-f2760001f3a6\"],[\"call test_query(0);\",\"01acafac-0001-2143-0003-f2760001d3e2\"],[\"call test_query(0);\",\"01acafac-0001-217d-0003-f2760001f3ba\"],[\"create or replace table test as SELECT seq4() col1 , uniform(1, 10, RANDOM(12)) col2 FROM TABLE(GENERATOR(ROWCOUNT => 100000000)) v ORDER BY 2;\",\"01acafac-0001-2143-0003-f2760001d3a2\"],[\"call test_query(10);\",\"01acafad-0001-217d-0003-f2760001f3fa\"],[\"create or replace table test as SELECT seq4() col1 , uniform(1, 10, RANDOM(12)) col2 FROM TABLE(GENERATOR(ROWCOUNT => 100000000)) v ORDER BY 2;\",\"01acafac-0001-217d-0003-f2760001f3be\"],[\"create or replace table test as SELECT seq4() col1 , uniform(1, 10, RANDOM(12)) col2 FROM TABLE(GENERATOR(ROWCOUNT => 100000000)) v ORDER BY 2;\",\"01acafac-0001-2143-0003-f2760001d3e6\"],[\"create or replace table test as SELECT seq4() col1 , uniform(1, 10, RANDOM(12)) col2 FROM TABLE(GENERATOR(ROWCOUNT => 100000000)) v ORDER BY 2;\",\"01acafac-0001-217d-0003-f2760001f3c6\"],[\"create or replace table test as SELECT seq4() col1 , uniform(1, 10, RANDOM(12)) col2 FROM TABLE(GENERATOR(ROWCOUNT => 100000000)) v ORDER BY 2;\",\"01acafad-0001-217d-0003-f2760001f3ee\"],[\"create or replace table test as SELECT seq4() col1 , uniform(1, 10, RANDOM(12)) col2 FROM TABLE(GENERATOR(ROWCOUNT => 100000000)) v ORDER BY 2;\",\"01acafad-0001-217d-0003-f2760001f3f2\"],[\"create or replace table test as SELECT seq4() col1 , uniform(1, 10, RANDOM(12)) col2 FROM TABLE(GENERATOR(ROWCOUNT => 100000000)) v ORDER BY 2;\",\"01acafac-0001-217d-0003-f2760001f34e\"],[\"create or replace table test as SELECT seq4() col1 , uniform(1, 10, RANDOM(12)) col2 FROM TABLE(GENERATOR(ROWCOUNT => 100000000)) v ORDER BY 2;\",\"01acafac-0001-217d-0003-f2760001f37e\"],[\"create or replace table test as SELECT seq4() col1 , uniform(1, 10, RANDOM(12)) col2 FROM TABLE(GENERATOR(ROWCOUNT => 100000000)) v ORDER BY 2;\",\"01acafac-0001-2143-0003-f2760001d3aa\"],[\"create or replace table test as SELECT seq4() col1 , uniform(1, 10, RANDOM(12)) col2 FROM TABLE(GENERATOR(ROWCOUNT => 100000000)) v ORDER BY 2;\",\"01acafac-0001-217d-0003-f2760001f382\"],[\"create or replace table test as SELECT seq4() col1 , uniform(1, 10, RANDOM(12)) col2 FROM TABLE(GENERATOR(ROWCOUNT => 100000000)) v ORDER BY 2;\",\"01acafac-0001-2143-0003-f2760001d3a6\"],[\"call test_query(10);\",\"01acafad-0001-2143-0003-f2760001d3f6\"],[\"call test_query(10);\",\"01acafad-0001-217d-0003-f2760001f3de\"],[\"call test_query(10);\",\"01acafad-0001-2143-0003-f2760001d3fa\"],[\"call test_query(10);\",\"01acafad-0001-217d-0003-f2760001f3e6\"],[\"call test_query(10);\",\"01acafad-0001-2143-0003-f2760001d406\"],[\"call test_query(10);\",\"01acafad-0001-217d-0003-f2760001f3ea\"],[\"call test_query(10);\",\"01acafad-0001-2143-0003-f2760001d40e\"],[\"call test_query(10);\",\"01acafad-0001-217d-0003-f2760001f3fe\"],[\"create or replace table test as SELECT seq4() col1 , uniform(1, 10, RANDOM(12)) col2 FROM TABLE(GENERATOR(ROWCOUNT => 100000000)) v ORDER BY 2;\",\"01acafac-0001-217d-0003-f2760001f3ae\"],[\"create or replace table test as SELECT seq4() col1 , uniform(1, 10, RANDOM(12)) col2 FROM TABLE(GENERATOR(ROWCOUNT => 100000000)) v ORDER BY 2;\",\"01acafad-0001-2143-0003-f2760001d416\"],[\"create or replace table test as SELECT seq4() col1 , uniform(1, 10, RANDOM(12)) col2 FROM TABLE(GENERATOR(ROWCOUNT => 100000000)) v ORDER BY 2;\",\"01acafad-0001-2143-0003-f2760001d41a\"],[\"create or replace table test as SELECT seq4() col1 , uniform(1, 10, RANDOM(12)) col2 FROM TABLE(GENERATOR(ROWCOUNT => 100000000)) v ORDER BY 2;\",\"01acafad-0001-217d-0003-f2760001f402\"],[\"create or replace table test as SELECT seq4() col1 , uniform(1, 10, RANDOM(12)) col2 FROM TABLE(GENERATOR(ROWCOUNT => 100000000)) v ORDER BY 2;\",\"01acafad-0001-217d-0003-f2760001f406\"],[\"create or replace table test as SELECT seq4() col1 , uniform(1, 10, RANDOM(12)) col2 FROM TABLE(GENERATOR(ROWCOUNT => 100000000)) v ORDER BY 2;\",\"01acafac-0001-217d-0003-f2760001f356\"],[\"create or replace table test as SELECT seq4() col1 , uniform(1, 10, RANDOM(12)) col2 FROM TABLE(GENERATOR(ROWCOUNT => 100000000)) v ORDER BY 2;\",\"01acafac-0001-2143-0003-f2760001d386\"],[\"create or replace table test as SELECT seq4() col1 , uniform(1, 10, RANDOM(12)) col2 FROM TABLE(GENERATOR(ROWCOUNT => 100000000)) v ORDER BY 2;\",\"01acafac-0001-217d-0003-f2760001f38e\"],[\"create or replace table test as SELECT seq4() col1 , uniform(1, 10, RANDOM(12)) col2 FROM TABLE(GENERATOR(ROWCOUNT => 100000000)) v ORDER BY 2;\",\"01acafac-0001-2143-0003-f2760001d3ce\"],[\"create or replace table test as SELECT seq4() col1 , uniform(1, 10, RANDOM(12)) col2 FROM TABLE(GENERATOR(ROWCOUNT => 100000000)) v ORDER BY 2;\",\"01acafac-0001-217d-0003-f2760001f3a2\"],[\"create or replace table test as SELECT seq4() col1 , uniform(1, 10, RANDOM(12)) col2 FROM TABLE(GENERATOR(ROWCOUNT => 100000000)) v ORDER BY 2;\",\"01acafac-0001-2143-0003-f2760001d3da\"],[\"create or replace table test as SELECT seq4() col1 , uniform(1, 10, RANDOM(12)) col2 FROM TABLE(GENERATOR(ROWCOUNT => 100000000)) v ORDER BY 2;\",\"01acafac-0001-2143-0003-f2760001d3d6\"]],\"hovertemplate\":\"status=running<br>start_time=%{base}<br>end_time=%{x}<br>warehouse_query=%{y}<br>query_text=%{customdata[0]}<br>query_id=%{customdata[1]}<extra></extra>\",\"legendgroup\":\"running\",\"marker\":{\"color\":\"#EF553B\",\"pattern\":{\"shape\":\"\"}},\"name\":\"running\",\"offsetgroup\":\"running\",\"orientation\":\"h\",\"showlegend\":true,\"textposition\":\"auto\",\"x\":[204541.0,210512.0,58720.0,87696.0,87727.0,230520.0,85909.0,90767.0,208971.0,215455.0,105071.0,208794.0,52925.0,54855.0,52996.0,54850.0,52765.0,58022.0,58708.0,192359.0,58315.0,71354.0,72380.0,227314.0,220586.0,220357.0,73614.0,71886.0,96968.0,88385.0,87995.0,225432.0,90064.0,92425.0,208837.0,104743.0,56430.0,53953.0,55754.0,54666.0,47678.0,203771.0,60921.0,60620.0,59788.0,62131.0,91037.0,92831.0,93082.0,93602.0,92112.0,95407.0,106578.0,105122.0,203699.0,45924.0,43900.0,43191.0,42307.0,209488.0,191791.0,65884.0,66805.0,66019.0,66282.0,65777.0],\"xaxis\":\"x\",\"y\":[\"TEST_BC9A9691_C770_4EB7_96E9_278AAC7DB0C6 : 1 : 01acafac-0001-217d-0003-f2760001f342\",\"TEST_BC9A9691_C770_4EB7_96E9_278AAC7DB0C6 : 1 : 01acafac-0001-217d-0003-f2760001f336\",\"TEST_BC9A9691_C770_4EB7_96E9_278AAC7DB0C6 : 1 : 01acafac-0001-2143-0003-f2760001d35a\",\"TEST_BC9A9691_C770_4EB7_96E9_278AAC7DB0C6 : 1 : 01acafac-0001-217d-0003-f2760001f39e\",\"TEST_BC9A9691_C770_4EB7_96E9_278AAC7DB0C6 : 1 : 01acafac-0001-2143-0003-f2760001d3c6\",\"TEST_BC9A9691_C770_4EB7_96E9_278AAC7DB0C6 : 1 : 01acafac-0001-2143-0003-f2760001d3d2\",\"TEST_BC9A9691_C770_4EB7_96E9_278AAC7DB0C6 : 1 : 01acafac-0001-217d-0003-f2760001f3aa\",\"TEST_BC9A9691_C770_4EB7_96E9_278AAC7DB0C6 : 1 : 01acafac-0001-217d-0003-f2760001f3b2\",\"TEST_BC9A9691_C770_4EB7_96E9_278AAC7DB0C6 : 1 : 01acafac-0001-217d-0003-f2760001f386\",\"TEST_BC9A9691_C770_4EB7_96E9_278AAC7DB0C6 : 1 : 01acafac-0001-2143-0003-f2760001d396\",\"TEST_BC9A9691_C770_4EB7_96E9_278AAC7DB0C6 : 1 : 01acafad-0001-2143-0003-f2760001d412\",\"TEST_BC9A9691_C770_4EB7_96E9_278AAC7DB0C6 : 1 : 01acafac-0001-2143-0003-f2760001d3de\",\"TEST_BC9A9691_C770_4EB7_96E9_278AAC7DB0C6 : 1 : 01acafac-0001-217d-0003-f2760001f3b6\",\"TEST_BC9A9691_C770_4EB7_96E9_278AAC7DB0C6 : 1 : 01acafad-0001-217d-0003-f2760001f3e2\",\"TEST_BC9A9691_C770_4EB7_96E9_278AAC7DB0C6 : 1 : 01acafad-0001-2143-0003-f2760001d3fe\",\"TEST_BC9A9691_C770_4EB7_96E9_278AAC7DB0C6 : 1 : 01acafad-0001-2143-0003-f2760001d402\",\"TEST_BC9A9691_C770_4EB7_96E9_278AAC7DB0C6 : 1 : 01acafad-0001-2143-0003-f2760001d40a\",\"TEST_BC9A9691_C770_4EB7_96E9_278AAC7DB0C6 : 2 : 01acafac-0001-2143-0003-f2760001d366\",\"TEST_BC9A9691_C770_4EB7_96E9_278AAC7DB0C6 : 2 : 01acafac-0001-2143-0003-f2760001d37a\",\"TEST_BC9A9691_C770_4EB7_96E9_278AAC7DB0C6 : 2 : 01acafac-0001-2143-0003-f2760001d37e\",\"TEST_BC9A9691_C770_4EB7_96E9_278AAC7DB0C6 : 2 : 01acafac-0001-2143-0003-f2760001d382\",\"TEST_BC9A9691_C770_4EB7_96E9_278AAC7DB0C6 : 2 : 01acafac-0001-217d-0003-f2760001f376\",\"TEST_BC9A9691_C770_4EB7_96E9_278AAC7DB0C6 : 2 : 01acafac-0001-217d-0003-f2760001f372\",\"TEST_BC9A9691_C770_4EB7_96E9_278AAC7DB0C6 : 2 : 01acafac-0001-2143-0003-f2760001d38a\",\"TEST_BC9A9691_C770_4EB7_96E9_278AAC7DB0C6 : 2 : 01acafac-0001-217d-0003-f2760001f37a\",\"TEST_BC9A9691_C770_4EB7_96E9_278AAC7DB0C6 : 2 : 01acafac-0001-2143-0003-f2760001d38e\",\"TEST_BC9A9691_C770_4EB7_96E9_278AAC7DB0C6 : 2 : 01acafac-0001-2143-0003-f2760001d392\",\"TEST_BC9A9691_C770_4EB7_96E9_278AAC7DB0C6 : 2 : 01acafac-0001-2143-0003-f2760001d39e\",\"TEST_BC9A9691_C770_4EB7_96E9_278AAC7DB0C6 : 2 : 01acafac-0001-217d-0003-f2760001f38a\",\"TEST_BC9A9691_C770_4EB7_96E9_278AAC7DB0C6 : 2 : 01acafac-0001-2143-0003-f2760001d3c2\",\"TEST_BC9A9691_C770_4EB7_96E9_278AAC7DB0C6 : 2 : 01acafac-0001-2143-0003-f2760001d3ca\",\"TEST_BC9A9691_C770_4EB7_96E9_278AAC7DB0C6 : 2 : 01acafac-0001-217d-0003-f2760001f3a6\",\"TEST_BC9A9691_C770_4EB7_96E9_278AAC7DB0C6 : 2 : 01acafac-0001-2143-0003-f2760001d3e2\",\"TEST_BC9A9691_C770_4EB7_96E9_278AAC7DB0C6 : 2 : 01acafac-0001-217d-0003-f2760001f3ba\",\"TEST_BC9A9691_C770_4EB7_96E9_278AAC7DB0C6 : 2 : 01acafac-0001-2143-0003-f2760001d3a2\",\"TEST_BC9A9691_C770_4EB7_96E9_278AAC7DB0C6 : 2 : 01acafad-0001-217d-0003-f2760001f3fa\",\"TEST_BC9A9691_C770_4EB7_96E9_278AAC7DB0C6 : 2 : 01acafac-0001-217d-0003-f2760001f3be\",\"TEST_BC9A9691_C770_4EB7_96E9_278AAC7DB0C6 : 2 : 01acafac-0001-2143-0003-f2760001d3e6\",\"TEST_BC9A9691_C770_4EB7_96E9_278AAC7DB0C6 : 2 : 01acafac-0001-217d-0003-f2760001f3c6\",\"TEST_BC9A9691_C770_4EB7_96E9_278AAC7DB0C6 : 2 : 01acafad-0001-217d-0003-f2760001f3ee\",\"TEST_BC9A9691_C770_4EB7_96E9_278AAC7DB0C6 : 2 : 01acafad-0001-217d-0003-f2760001f3f2\",\"TEST_BC9A9691_C770_4EB7_96E9_278AAC7DB0C6 : 3 : 01acafac-0001-217d-0003-f2760001f34e\",\"TEST_BC9A9691_C770_4EB7_96E9_278AAC7DB0C6 : 3 : 01acafac-0001-217d-0003-f2760001f37e\",\"TEST_BC9A9691_C770_4EB7_96E9_278AAC7DB0C6 : 3 : 01acafac-0001-2143-0003-f2760001d3aa\",\"TEST_BC9A9691_C770_4EB7_96E9_278AAC7DB0C6 : 3 : 01acafac-0001-217d-0003-f2760001f382\",\"TEST_BC9A9691_C770_4EB7_96E9_278AAC7DB0C6 : 3 : 01acafac-0001-2143-0003-f2760001d3a6\",\"TEST_BC9A9691_C770_4EB7_96E9_278AAC7DB0C6 : 3 : 01acafad-0001-2143-0003-f2760001d3f6\",\"TEST_BC9A9691_C770_4EB7_96E9_278AAC7DB0C6 : 3 : 01acafad-0001-217d-0003-f2760001f3de\",\"TEST_BC9A9691_C770_4EB7_96E9_278AAC7DB0C6 : 3 : 01acafad-0001-2143-0003-f2760001d3fa\",\"TEST_BC9A9691_C770_4EB7_96E9_278AAC7DB0C6 : 3 : 01acafad-0001-217d-0003-f2760001f3e6\",\"TEST_BC9A9691_C770_4EB7_96E9_278AAC7DB0C6 : 3 : 01acafad-0001-2143-0003-f2760001d406\",\"TEST_BC9A9691_C770_4EB7_96E9_278AAC7DB0C6 : 3 : 01acafad-0001-217d-0003-f2760001f3ea\",\"TEST_BC9A9691_C770_4EB7_96E9_278AAC7DB0C6 : 3 : 01acafad-0001-2143-0003-f2760001d40e\",\"TEST_BC9A9691_C770_4EB7_96E9_278AAC7DB0C6 : 3 : 01acafad-0001-217d-0003-f2760001f3fe\",\"TEST_BC9A9691_C770_4EB7_96E9_278AAC7DB0C6 : 3 : 01acafac-0001-217d-0003-f2760001f3ae\",\"TEST_BC9A9691_C770_4EB7_96E9_278AAC7DB0C6 : 3 : 01acafad-0001-2143-0003-f2760001d416\",\"TEST_BC9A9691_C770_4EB7_96E9_278AAC7DB0C6 : 3 : 01acafad-0001-2143-0003-f2760001d41a\",\"TEST_BC9A9691_C770_4EB7_96E9_278AAC7DB0C6 : 3 : 01acafad-0001-217d-0003-f2760001f402\",\"TEST_BC9A9691_C770_4EB7_96E9_278AAC7DB0C6 : 3 : 01acafad-0001-217d-0003-f2760001f406\",\"TEST_BC9A9691_C770_4EB7_96E9_278AAC7DB0C6 : 4 : 01acafac-0001-217d-0003-f2760001f356\",\"TEST_BC9A9691_C770_4EB7_96E9_278AAC7DB0C6 : 4 : 01acafac-0001-2143-0003-f2760001d386\",\"TEST_BC9A9691_C770_4EB7_96E9_278AAC7DB0C6 : 4 : 01acafac-0001-217d-0003-f2760001f38e\",\"TEST_BC9A9691_C770_4EB7_96E9_278AAC7DB0C6 : 4 : 01acafac-0001-2143-0003-f2760001d3ce\",\"TEST_BC9A9691_C770_4EB7_96E9_278AAC7DB0C6 : 4 : 01acafac-0001-217d-0003-f2760001f3a2\",\"TEST_BC9A9691_C770_4EB7_96E9_278AAC7DB0C6 : 4 : 01acafac-0001-2143-0003-f2760001d3da\",\"TEST_BC9A9691_C770_4EB7_96E9_278AAC7DB0C6 : 4 : 01acafac-0001-2143-0003-f2760001d3d6\"],\"yaxis\":\"y\",\"type\":\"bar\"}],                        {\"template\":{\"data\":{\"histogram2dcontour\":[{\"type\":\"histogram2dcontour\",\"colorbar\":{\"outlinewidth\":0,\"ticks\":\"\"},\"colorscale\":[[0.0,\"#0d0887\"],[0.1111111111111111,\"#46039f\"],[0.2222222222222222,\"#7201a8\"],[0.3333333333333333,\"#9c179e\"],[0.4444444444444444,\"#bd3786\"],[0.5555555555555556,\"#d8576b\"],[0.6666666666666666,\"#ed7953\"],[0.7777777777777778,\"#fb9f3a\"],[0.8888888888888888,\"#fdca26\"],[1.0,\"#f0f921\"]]}],\"choropleth\":[{\"type\":\"choropleth\",\"colorbar\":{\"outlinewidth\":0,\"ticks\":\"\"}}],\"histogram2d\":[{\"type\":\"histogram2d\",\"colorbar\":{\"outlinewidth\":0,\"ticks\":\"\"},\"colorscale\":[[0.0,\"#0d0887\"],[0.1111111111111111,\"#46039f\"],[0.2222222222222222,\"#7201a8\"],[0.3333333333333333,\"#9c179e\"],[0.4444444444444444,\"#bd3786\"],[0.5555555555555556,\"#d8576b\"],[0.6666666666666666,\"#ed7953\"],[0.7777777777777778,\"#fb9f3a\"],[0.8888888888888888,\"#fdca26\"],[1.0,\"#f0f921\"]]}],\"heatmap\":[{\"type\":\"heatmap\",\"colorbar\":{\"outlinewidth\":0,\"ticks\":\"\"},\"colorscale\":[[0.0,\"#0d0887\"],[0.1111111111111111,\"#46039f\"],[0.2222222222222222,\"#7201a8\"],[0.3333333333333333,\"#9c179e\"],[0.4444444444444444,\"#bd3786\"],[0.5555555555555556,\"#d8576b\"],[0.6666666666666666,\"#ed7953\"],[0.7777777777777778,\"#fb9f3a\"],[0.8888888888888888,\"#fdca26\"],[1.0,\"#f0f921\"]]}],\"heatmapgl\":[{\"type\":\"heatmapgl\",\"colorbar\":{\"outlinewidth\":0,\"ticks\":\"\"},\"colorscale\":[[0.0,\"#0d0887\"],[0.1111111111111111,\"#46039f\"],[0.2222222222222222,\"#7201a8\"],[0.3333333333333333,\"#9c179e\"],[0.4444444444444444,\"#bd3786\"],[0.5555555555555556,\"#d8576b\"],[0.6666666666666666,\"#ed7953\"],[0.7777777777777778,\"#fb9f3a\"],[0.8888888888888888,\"#fdca26\"],[1.0,\"#f0f921\"]]}],\"contourcarpet\":[{\"type\":\"contourcarpet\",\"colorbar\":{\"outlinewidth\":0,\"ticks\":\"\"}}],\"contour\":[{\"type\":\"contour\",\"colorbar\":{\"outlinewidth\":0,\"ticks\":\"\"},\"colorscale\":[[0.0,\"#0d0887\"],[0.1111111111111111,\"#46039f\"],[0.2222222222222222,\"#7201a8\"],[0.3333333333333333,\"#9c179e\"],[0.4444444444444444,\"#bd3786\"],[0.5555555555555556,\"#d8576b\"],[0.6666666666666666,\"#ed7953\"],[0.7777777777777778,\"#fb9f3a\"],[0.8888888888888888,\"#fdca26\"],[1.0,\"#f0f921\"]]}],\"surface\":[{\"type\":\"surface\",\"colorbar\":{\"outlinewidth\":0,\"ticks\":\"\"},\"colorscale\":[[0.0,\"#0d0887\"],[0.1111111111111111,\"#46039f\"],[0.2222222222222222,\"#7201a8\"],[0.3333333333333333,\"#9c179e\"],[0.4444444444444444,\"#bd3786\"],[0.5555555555555556,\"#d8576b\"],[0.6666666666666666,\"#ed7953\"],[0.7777777777777778,\"#fb9f3a\"],[0.8888888888888888,\"#fdca26\"],[1.0,\"#f0f921\"]]}],\"mesh3d\":[{\"type\":\"mesh3d\",\"colorbar\":{\"outlinewidth\":0,\"ticks\":\"\"}}],\"scatter\":[{\"fillpattern\":{\"fillmode\":\"overlay\",\"size\":10,\"solidity\":0.2},\"type\":\"scatter\"}],\"parcoords\":[{\"type\":\"parcoords\",\"line\":{\"colorbar\":{\"outlinewidth\":0,\"ticks\":\"\"}}}],\"scatterpolargl\":[{\"type\":\"scatterpolargl\",\"marker\":{\"colorbar\":{\"outlinewidth\":0,\"ticks\":\"\"}}}],\"bar\":[{\"error_x\":{\"color\":\"#2a3f5f\"},\"error_y\":{\"color\":\"#2a3f5f\"},\"marker\":{\"line\":{\"color\":\"#E5ECF6\",\"width\":0.5},\"pattern\":{\"fillmode\":\"overlay\",\"size\":10,\"solidity\":0.2}},\"type\":\"bar\"}],\"scattergeo\":[{\"type\":\"scattergeo\",\"marker\":{\"colorbar\":{\"outlinewidth\":0,\"ticks\":\"\"}}}],\"scatterpolar\":[{\"type\":\"scatterpolar\",\"marker\":{\"colorbar\":{\"outlinewidth\":0,\"ticks\":\"\"}}}],\"histogram\":[{\"marker\":{\"pattern\":{\"fillmode\":\"overlay\",\"size\":10,\"solidity\":0.2}},\"type\":\"histogram\"}],\"scattergl\":[{\"type\":\"scattergl\",\"marker\":{\"colorbar\":{\"outlinewidth\":0,\"ticks\":\"\"}}}],\"scatter3d\":[{\"type\":\"scatter3d\",\"line\":{\"colorbar\":{\"outlinewidth\":0,\"ticks\":\"\"}},\"marker\":{\"colorbar\":{\"outlinewidth\":0,\"ticks\":\"\"}}}],\"scattermapbox\":[{\"type\":\"scattermapbox\",\"marker\":{\"colorbar\":{\"outlinewidth\":0,\"ticks\":\"\"}}}],\"scatterternary\":[{\"type\":\"scatterternary\",\"marker\":{\"colorbar\":{\"outlinewidth\":0,\"ticks\":\"\"}}}],\"scattercarpet\":[{\"type\":\"scattercarpet\",\"marker\":{\"colorbar\":{\"outlinewidth\":0,\"ticks\":\"\"}}}],\"carpet\":[{\"aaxis\":{\"endlinecolor\":\"#2a3f5f\",\"gridcolor\":\"white\",\"linecolor\":\"white\",\"minorgridcolor\":\"white\",\"startlinecolor\":\"#2a3f5f\"},\"baxis\":{\"endlinecolor\":\"#2a3f5f\",\"gridcolor\":\"white\",\"linecolor\":\"white\",\"minorgridcolor\":\"white\",\"startlinecolor\":\"#2a3f5f\"},\"type\":\"carpet\"}],\"table\":[{\"cells\":{\"fill\":{\"color\":\"#EBF0F8\"},\"line\":{\"color\":\"white\"}},\"header\":{\"fill\":{\"color\":\"#C8D4E3\"},\"line\":{\"color\":\"white\"}},\"type\":\"table\"}],\"barpolar\":[{\"marker\":{\"line\":{\"color\":\"#E5ECF6\",\"width\":0.5},\"pattern\":{\"fillmode\":\"overlay\",\"size\":10,\"solidity\":0.2}},\"type\":\"barpolar\"}],\"pie\":[{\"automargin\":true,\"type\":\"pie\"}]},\"layout\":{\"autotypenumbers\":\"strict\",\"colorway\":[\"#636efa\",\"#EF553B\",\"#00cc96\",\"#ab63fa\",\"#FFA15A\",\"#19d3f3\",\"#FF6692\",\"#B6E880\",\"#FF97FF\",\"#FECB52\"],\"font\":{\"color\":\"#2a3f5f\"},\"hovermode\":\"closest\",\"hoverlabel\":{\"align\":\"left\"},\"paper_bgcolor\":\"white\",\"plot_bgcolor\":\"#E5ECF6\",\"polar\":{\"bgcolor\":\"#E5ECF6\",\"angularaxis\":{\"gridcolor\":\"white\",\"linecolor\":\"white\",\"ticks\":\"\"},\"radialaxis\":{\"gridcolor\":\"white\",\"linecolor\":\"white\",\"ticks\":\"\"}},\"ternary\":{\"bgcolor\":\"#E5ECF6\",\"aaxis\":{\"gridcolor\":\"white\",\"linecolor\":\"white\",\"ticks\":\"\"},\"baxis\":{\"gridcolor\":\"white\",\"linecolor\":\"white\",\"ticks\":\"\"},\"caxis\":{\"gridcolor\":\"white\",\"linecolor\":\"white\",\"ticks\":\"\"}},\"coloraxis\":{\"colorbar\":{\"outlinewidth\":0,\"ticks\":\"\"}},\"colorscale\":{\"sequential\":[[0.0,\"#0d0887\"],[0.1111111111111111,\"#46039f\"],[0.2222222222222222,\"#7201a8\"],[0.3333333333333333,\"#9c179e\"],[0.4444444444444444,\"#bd3786\"],[0.5555555555555556,\"#d8576b\"],[0.6666666666666666,\"#ed7953\"],[0.7777777777777778,\"#fb9f3a\"],[0.8888888888888888,\"#fdca26\"],[1.0,\"#f0f921\"]],\"sequentialminus\":[[0.0,\"#0d0887\"],[0.1111111111111111,\"#46039f\"],[0.2222222222222222,\"#7201a8\"],[0.3333333333333333,\"#9c179e\"],[0.4444444444444444,\"#bd3786\"],[0.5555555555555556,\"#d8576b\"],[0.6666666666666666,\"#ed7953\"],[0.7777777777777778,\"#fb9f3a\"],[0.8888888888888888,\"#fdca26\"],[1.0,\"#f0f921\"]],\"diverging\":[[0,\"#8e0152\"],[0.1,\"#c51b7d\"],[0.2,\"#de77ae\"],[0.3,\"#f1b6da\"],[0.4,\"#fde0ef\"],[0.5,\"#f7f7f7\"],[0.6,\"#e6f5d0\"],[0.7,\"#b8e186\"],[0.8,\"#7fbc41\"],[0.9,\"#4d9221\"],[1,\"#276419\"]]},\"xaxis\":{\"gridcolor\":\"white\",\"linecolor\":\"white\",\"ticks\":\"\",\"title\":{\"standoff\":15},\"zerolinecolor\":\"white\",\"automargin\":true,\"zerolinewidth\":2},\"yaxis\":{\"gridcolor\":\"white\",\"linecolor\":\"white\",\"ticks\":\"\",\"title\":{\"standoff\":15},\"zerolinecolor\":\"white\",\"automargin\":true,\"zerolinewidth\":2},\"scene\":{\"xaxis\":{\"backgroundcolor\":\"#E5ECF6\",\"gridcolor\":\"white\",\"linecolor\":\"white\",\"showbackground\":true,\"ticks\":\"\",\"zerolinecolor\":\"white\",\"gridwidth\":2},\"yaxis\":{\"backgroundcolor\":\"#E5ECF6\",\"gridcolor\":\"white\",\"linecolor\":\"white\",\"showbackground\":true,\"ticks\":\"\",\"zerolinecolor\":\"white\",\"gridwidth\":2},\"zaxis\":{\"backgroundcolor\":\"#E5ECF6\",\"gridcolor\":\"white\",\"linecolor\":\"white\",\"showbackground\":true,\"ticks\":\"\",\"zerolinecolor\":\"white\",\"gridwidth\":2}},\"shapedefaults\":{\"line\":{\"color\":\"#2a3f5f\"}},\"annotationdefaults\":{\"arrowcolor\":\"#2a3f5f\",\"arrowhead\":0,\"arrowwidth\":1},\"geo\":{\"bgcolor\":\"white\",\"landcolor\":\"#E5ECF6\",\"subunitcolor\":\"white\",\"showland\":true,\"showlakes\":true,\"lakecolor\":\"white\"},\"title\":{\"x\":0.05},\"mapbox\":{\"style\":\"light\"}}},\"xaxis\":{\"anchor\":\"y\",\"domain\":[0.0,1.0],\"type\":\"date\",\"range\":[\"2023-06-01T16:40:35.811000-07:00\",\"2023-06-01T16:44:46.618000-07:00\"]},\"yaxis\":{\"anchor\":\"x\",\"domain\":[0.0,1.0],\"title\":{\"text\":\"warehouse_query\"}},\"legend\":{\"title\":{\"text\":\"status\"},\"tracegroupgap\":0},\"margin\":{\"t\":60},\"barmode\":\"overlay\",\"height\":1000},                        {\"responsive\": true}                    ).then(function(){\n",
       "                            \n",
       "var gd = document.getElementById('1e1ee62a-27e6-43ca-9d4b-0933f77bedc6');\n",
       "var x = new MutationObserver(function (mutations, observer) {{\n",
       "        var display = window.getComputedStyle(gd).display;\n",
       "        if (!display || display === 'none') {{\n",
       "            console.log([gd, 'removed!']);\n",
       "            Plotly.purge(gd);\n",
       "            observer.disconnect();\n",
       "        }}\n",
       "}});\n",
       "\n",
       "// Listen for the removal of the full notebook cells\n",
       "var notebookContainer = gd.closest('#notebook-container');\n",
       "if (notebookContainer) {{\n",
       "    x.observe(notebookContainer, {childList: true});\n",
       "}}\n",
       "\n",
       "// Listen for the clearing of the current output cell\n",
       "var outputEl = gd.closest('.output');\n",
       "if (outputEl) {{\n",
       "    x.observe(outputEl, {childList: true});\n",
       "}}\n",
       "\n",
       "                        })                };                });            </script>        </div>"
      ]
     },
     "metadata": {},
     "output_type": "display_data"
    },
    {
     "name": "stdout",
     "output_type": "stream",
     "text": [
      "time: 69.4 ms (started: 2023-06-01 20:34:56 -04:00)\n"
     ]
    }
   ],
   "source": [
    "import plotly.express as px\n",
    "\n",
    "\n",
    "\n",
    "qdf['warehouse_query'] = qdf.warehouse_name + \" : \" + qdf.cluster_number.map(str) + \" : \" + qdf.query_id\n",
    "\n",
    "fig = px.timeline(qdf.sort_values(['warehouse_name', 'cluster_number', 'start_time']), \n",
    "                  x_start=\"start_time\", x_end=\"end_time\", y=\"warehouse_query\", \n",
    "                  color='status', \n",
    "                  hover_data=['query_text', 'query_id'])\n",
    "\n",
    "fig.update_layout(\n",
    "    height=1000,\n",
    ")\n",
    "fig.update_xaxes(range = [qdf.start_time.min(),qdf.end_time.max()])\n",
    "\n",
    "fig.show()\n",
    "\n",
    "\n",
    "# figures = [\n",
    "#         px.scatter(whe.sort_values('warehouse_name'), x=\"timestamp\", y=\"warehouse_name\", color='event_name'),\n",
    "#         px.timeline(qdf.sort_values(['warehouse_name', 'start_time']), x_start=\"start_time\", x_end=\"end_time\", y=\"warehouse_query\", hover_data=['query_text', 'query_id']),\n",
    "#     ]\n",
    "\n",
    "# fig = make_subplots(rows=len(figures), cols=1, shared_xaxes=True, vertical_spacing=0.05) \n",
    "\n",
    "# for i, figure in enumerate(figures):\n",
    "#     for trace in range(len(figure[\"data\"])):\n",
    "#         fig.append_trace(figure[\"data\"][trace], row=i+1, col=1)\n",
    "\n",
    "# fig.update_xaxes(title_text=\"warehouse events\", row=1, col=1)\n",
    "# fig.update_xaxes(title_text=\"queries\", row=2, col=1)\n",
    "# fig.update_xaxes(showgrid=True,minor=dict(showgrid=True))\n",
    "# fig.update_yaxes(showgrid=True,minor=dict(showgrid=True))\n",
    "# fig.update_xaxes(autorange=True)\n",
    "# fig.update_layout(\n",
    "#     height=800,\n",
    "# )\n",
    "# fig.update_xaxes(type='date', autorange=True)\n",
    "\n",
    "# fig.show()\n",
    "\n",
    "# fig = px.bar(whm[whm.warehouse_name != 'OPS'], y='warehouse_name', x = ['credits_used_compute'], orientation = 'h', title='credits x warehouse')\n",
    "# fig.show()\n",
    "# fig = px.bar(whm, y='warehouse_name', x = ['credits_used_compute', 'credits_used_cloud_services'], orientation = 'h')\n",
    "# fig.show()"
   ]
  },
  {
   "cell_type": "code",
   "execution_count": 34,
   "id": "b6e03312-7d23-43ba-8cb1-b691f8fd76d2",
   "metadata": {},
   "outputs": [
    {
     "data": {
      "text/plain": [
       "66"
      ]
     },
     "execution_count": 34,
     "metadata": {},
     "output_type": "execute_result"
    },
    {
     "name": "stdout",
     "output_type": "stream",
     "text": [
      "time: 5.76 ms (started: 2023-06-01 20:35:26 -04:00)\n"
     ]
    }
   ],
   "source": [
    "qdf.query_id.nunique()"
   ]
  },
  {
   "cell_type": "code",
   "execution_count": null,
   "id": "0a259a72-ee47-4ee2-baa5-5c7db21fa9ef",
   "metadata": {},
   "outputs": [
    {
     "name": "stderr",
     "output_type": "stream",
     "text": [
      "11:52:35 INFO:Snowflake Connector for Python Version: 2.7.12, Python Version: 3.8.16, Platform: macOS-10.15.7-x86_64-i386-64bit\n",
      "11:52:35 INFO:This connection is in OCSP Fail Open Mode. TLS Certificates would be checked for validity and revocation status. Any other Certificate Revocation related exceptions or OCSP Responder failures would be disregarded in favor of connectivity.\n",
      "11:52:35 INFO:closed\n",
      "11:52:35 INFO:No async queries seem to be running, deleting session\n",
      "11:52:37 INFO:closed\n",
      "11:52:37 INFO:No async queries seem to be running, deleting session\n",
      "11:52:37 INFO:closed\n",
      "11:52:37 INFO:No async queries seem to be running, deleting session\n",
      "11:52:38 INFO:query: [USE WAREHOUSE demo]\n"
     ]
    },
    {
     "name": "stdout",
     "output_type": "stream",
     "text": [
      "connected to account OMWYKHW-ENTERPRISE wh DEMO db SANDBOX schema PUBLIC with role DEV\n"
     ]
    },
    {
     "name": "stderr",
     "output_type": "stream",
     "text": [
      "11:52:39 INFO:query execution done\n",
      "11:52:39 INFO:query: [show warehouses]\n",
      "11:52:39 INFO:query execution done\n",
      "11:52:39 INFO:query: [show warehouses]\n",
      "11:52:39 INFO:query execution done\n",
      "11:52:39 INFO:query: [select * from table(information_schema.query_history_by_warehouse('test')) order...]\n"
     ]
    },
    {
     "name": "stdout",
     "output_type": "stream",
     "text": [
      "   name      state      type     size  min_cluster_count  max_cluster_count  started_clusters  running  queued is_default is_current  auto_suspend auto_resume available provisioning quiescing other                       created_on                       resumed_on                       updated_on owner comment enable_query_acceleration  query_acceleration_max_scale_factor resource_monitor  actives  pendings  failed  suspended      uuid scaling_policy\n",
      "1  TEST  SUSPENDED  STANDARD  X-Small                  1                  2                 0        0       0          N          N            60        true                                        2023-05-18 22:52:29.350000+00:00 2023-05-21 21:35:10.232000+00:00 2023-05-21 21:35:10.232000+00:00   DEV                             false                                    8             null        0         0       0          1  66221584       STANDARD\n",
      "using arrow to fetch results...\n"
     ]
    },
    {
     "name": "stderr",
     "output_type": "stream",
     "text": [
      "11:52:40 INFO:query execution done\n"
     ]
    },
    {
     "name": "stdout",
     "output_type": "stream",
     "text": [
      "   name      state      type     size  min_cluster_count  max_cluster_count  started_clusters  running  queued is_default is_current  auto_suspend auto_resume available provisioning quiescing other                       created_on                       resumed_on                       updated_on owner comment enable_query_acceleration  query_acceleration_max_scale_factor resource_monitor  actives  pendings  failed  suspended      uuid scaling_policy\n",
      "1  TEST  SUSPENDED  STANDARD  X-Small                  1                  2                 0        0       0          N          N            60        true                                        2023-05-18 22:52:29.350000+00:00 2023-05-21 21:35:10.232000+00:00 2023-05-21 21:35:10.232000+00:00   DEV                             false                                    8             null        0         0       0          1  66221584       STANDARD\n",
      "                               query_id                                                                                                              query_text database_name schema_name query_type   session_id user_name role_name warehouse_name warehouse_size warehouse_type cluster_number query_tag   execution_status error_code                                                                             error_message                       start_time                         end_time total_elapsed_time bytes_scanned rows_produced compilation_time execution_time queued_provisioning_time queued_repair_time queued_overload_time transaction_blocked_time outbound_data_transfer_cloud outbound_data_transfer_region outbound_data_transfer_bytes inbound_data_transfer_cloud inbound_data_transfer_region inbound_data_transfer_bytes credits_used_cloud_services list_external_file_time release_version external_function_total_invocations external_function_total_sent_rows external_function_total_received_rows external_function_total_sent_bytes external_function_total_received_bytes  is_client_generated_statement\n",
      "0  01ac714c-0001-1d07-0000-0003f2767179                                                                                                     use warehouse demo;       SANDBOX      PUBLIC        USE  16952746357       SAF       DEV           TEST           None       STANDARD           None                      SUCCESS       None                                                                                      None 2023-05-21 14:32:38.873000-07:00 2023-05-21 14:32:38.909000-07:00                 36             0             0               27              9                        0                  0                    0                        0                         None                          None                            0                        None                         None                           0                 0.000005000                       0          7.17.0                                   0                                 0                                     0                                  0                                      0                          False\n",
      "1  01ac714c-0001-1d07-0000-0003f2767175  select \\n    *\\nfrom table(information_schema.query_history_by_warehouse('TEST'))\\norder by start_time desc\\nlimit 10;       SANDBOX      PUBLIC     SELECT  16952746357       SAF       DEV           TEST        X-Small       STANDARD              1                      SUCCESS       None                                                                                      None 2023-05-21 14:32:21.033000-07:00 2023-05-21 14:32:21.708000-07:00                675             0            10              464            227                        0                  0                    0                        0                         None                          None                            0                        None                         None                           0                 0.000093000                       6          7.17.0                                   0                                 0                                     0                                  0                                      0                          False\n",
      "2  01ac714c-0001-1dbf-0000-0003f2766189                 select * from table(information_schema.WAREHOUSE_METERING_HISTORY()) order by start_time desc limit 10;       SANDBOX      PUBLIC     SELECT  16952746357       SAF       DEV           TEST        X-Small       STANDARD              1                      SUCCESS       None                                                                                      None 2023-05-21 14:32:06.350000-07:00 2023-05-21 14:32:06.449000-07:00                 99             0             0               97             15                        0                  0                    0                        0                         None                          None                            0                        None                         None                           0                 0.000014000                       3          7.17.0                                   0                                 0                                     0                                  0                                      0                          False\n",
      "3  01ac714b-0001-1dbf-0000-0003f276617d                 select * from table(information_schema.WAREHOUSE_METERING_HISTORY()) order by start_time desc limit 10;       SANDBOX      PUBLIC     SELECT  16952746357       SAF       DEV           TEST        X-Small       STANDARD              1                      SUCCESS       None                                                                                      None 2023-05-21 14:31:48.140000-07:00 2023-05-21 14:31:49.056000-07:00                916             0             0             1058            160                       95                  0                    0                        0                         None                          None                            0                        None                         None                           0                 0.000113000                       5          7.17.0                                   0                                 0                                     0                                  0                                      0                          False\n",
      "4  01ac714b-0001-1dbf-0000-0003f2766175                 select * from table(information_schema.WAREHOUSE_METERING_HISTORY()) order by start_time desc limit 10;          None        None    UNKNOWN  16952746357       SAF       DEV           TEST           None       STANDARD           None            FAILED_WITH_ERROR       2004  SQL compilation error:\\nInvalid identifier INFORMATION_SCHEMA.WAREHOUSE_METERING_HISTORY 2023-05-21 14:31:42.183000-07:00 2023-05-21 14:31:42.213000-07:00                 30             0             0               30              0                        0                  0                    0                        0                         None                          None                            0                        None                         None                           0                 0.000004000                       0          7.17.0                                   0                                 0                                     0                                  0                                      0                          False\n",
      "5  01ac60e0-0001-1d94-0000-0003f27659d5                                                                                                        show warehouses;          None        None       SHOW  16952729657       SAF       DEV           TEST           None       STANDARD           None                      SUCCESS       None                                                                                      None 2023-05-18 16:28:43.998000-07:00 2023-05-18 16:28:44.049000-07:00                 51             0             0               35             16                        0                  0                    0                        0                         None                          None                            0                        None                         None                           0                 0.000008000                       0          7.17.0                                   0                                 0                                     0                                  0                                      0                          False\n",
      "6  01ac60e0-0001-1d85-0000-0003f2764a51                                                                                                        show warehouses;          None        None       SHOW  16952729657       SAF       DEV           TEST           None       STANDARD           None                      SUCCESS       None                                                                                      None 2023-05-18 16:28:41.267000-07:00 2023-05-18 16:28:41.319000-07:00                 52             0             0               31             21                        0                  0                    0                        0                         None                          None                            0                        None                         None                           0                 0.000008000                       0          7.17.0                                   0                                 0                                     0                                  0                                      0                          False\n",
      "7  01ac60e0-0001-1d85-0000-0003f2764a4d                                                                                                        show warehouses;          None        None       SHOW  16952729657       SAF       DEV           TEST           None       STANDARD           None                      SUCCESS       None                                                                                      None 2023-05-18 16:28:39.888000-07:00 2023-05-18 16:28:39.929000-07:00                 41             0             0               25             16                        0                  0                    0                        0                         None                          None                            0                        None                         None                           0                 0.000006000                       0          7.17.0                                   0                                 0                                     0                                  0                                      0                          False\n",
      "8  01ac60e0-0001-1d85-0000-0003f2764a49                                                                                                        show warehouses;          None        None       SHOW  16952729657       SAF       DEV           TEST           None       STANDARD           None                      SUCCESS       None                                                                                      None 2023-05-18 16:28:38.416000-07:00 2023-05-18 16:28:38.455000-07:00                 39             0             0               21             18                        0                  0                    0                        0                         None                          None                            0                        None                         None                           0                 0.000006000                       0          7.17.0                                   0                                 0                                     0                                  0                                      0                          False\n",
      "9  01ac60e0-0001-1d85-0000-0003f2764a45                                                                                                        show warehouses;          None        None       SHOW  16952729657       SAF       DEV           TEST           None       STANDARD           None                      SUCCESS       None                                                                                      None 2023-05-18 16:28:36.994000-07:00 2023-05-18 16:28:37.036000-07:00                 42             0             0               24             18                        0                  0                    0                        0                         None                          None                            0                        None                         None                           0                 0.000006000                       0          7.17.0                                   0                                 0                                     0                                  0                                      0                          False\n",
      "time: 5.08 s (started: 2023-05-21 23:52:35 -04:00)\n"
     ]
    }
   ],
   "source": [
    "\n",
    "from optiml.utils.sf import snowconn\n",
    "\n",
    " \n",
    "def monitor(target_wh, using_wh, continuous=False):\n",
    "    using_conn = snowconn()\n",
    "    \n",
    "    def show():\n",
    "        run_sql(f\"USE WAREHOUSE {using_wh}\", ctx=using_conn)\n",
    "        show_df = sql_to_df(\"show warehouses\")\n",
    "\n",
    "        queries = f\"\"\"\n",
    "        select \n",
    "        *\n",
    "    from table(information_schema.query_history_by_warehouse('{target_wh}'))\n",
    "    order by start_time desc\n",
    "    limit 10;\n",
    "        \"\"\"\n",
    "        show_df = sql_to_df(\"show warehouses\")\n",
    "        print(show_df[show_df.name == target_wh.upper()].to_string())\n",
    "\n",
    "        queries_df = sql_to_df(queries)\n",
    "        print(show_df[show_df.name == target_wh.upper()].to_string())\n",
    "        print(queries_df.to_string())\n",
    "    \n",
    "    show()\n",
    "    # if continuous:\n",
    "    #     while(True):\n",
    "            \n",
    "\n",
    "monitor(\"test\", \"demo\")"
   ]
  },
  {
   "cell_type": "code",
   "execution_count": null,
   "id": "52d9baab-82fb-4597-8a36-8a0e702e1be5",
   "metadata": {},
   "outputs": [],
   "source": []
  }
 ],
 "metadata": {
  "kernelspec": {
   "display_name": "Python 3 (ipykernel)",
   "language": "python",
   "name": "python3"
  },
  "language_info": {
   "codemirror_mode": {
    "name": "ipython",
    "version": 3
   },
   "file_extension": ".py",
   "mimetype": "text/x-python",
   "name": "python",
   "nbconvert_exporter": "python",
   "pygments_lexer": "ipython3",
   "version": "3.8.16"
  }
 },
 "nbformat": 4,
 "nbformat_minor": 5
}
