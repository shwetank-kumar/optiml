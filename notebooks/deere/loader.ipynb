{
 "cells": [
  {
   "cell_type": "code",
   "execution_count": null,
   "id": "f44b4e70-6515-4968-a89b-53a8792964f6",
   "metadata": {},
   "outputs": [],
   "source": [
    "import duckdb\n",
    "import pandas as pd\n",
    "# No need to import duckdb_engine\n",
    "#  jupysql will auto-detect the driver needed based on the connection string!\n",
    "\n",
    "# Import jupysql Jupyter extension to create SQL cells\n",
    "%load_ext sql\n",
    "\n",
    "\n",
    "parquet_file_path = '/Users/safmomen/Downloads/deere_dbx_audit/*.parquet'\n",
    "\n"
   ]
  },
  {
   "cell_type": "code",
   "execution_count": null,
   "id": "648edcd5-a732-448b-80c3-c5878fb86818",
   "metadata": {},
   "outputs": [],
   "source": [
    "%config SqlMagic.autopandas = False\n",
    "%config SqlMagic.feedback = False\n",
    "%config SqlMagic.displaycon = False\n",
    "%sql duckdb:///:memory:\n"
   ]
  },
  {
   "cell_type": "code",
   "execution_count": null,
   "id": "a2cfecf1-cf14-4d6f-b7b8-8297a565c82f",
   "metadata": {},
   "outputs": [],
   "source": [
    "%%sql\n",
    "CREATE view usage AS SELECT * FROM read_parquet('/Users/safmomen/Downloads/deere_dbx_audit/*.parquet');\n"
   ]
  },
  {
   "cell_type": "code",
   "execution_count": null,
   "id": "d1228e0e-ddc1-4a60-b349-452d692c19c9",
   "metadata": {},
   "outputs": [],
   "source": [
    "%%sql\n",
    "select count(*) num_records\n",
    "from\n",
    "usage"
   ]
  },
  {
   "cell_type": "code",
   "execution_count": null,
   "id": "4fe697f9-130b-453b-bc8c-cc06cb9995fd",
   "metadata": {},
   "outputs": [],
   "source": [
    "%%sql\n",
    "describe\n",
    "select *\n",
    "from\n",
    "usage;"
   ]
  },
  {
   "cell_type": "code",
   "execution_count": null,
   "id": "f2a92cbd-3203-4a75-b8d6-d973fb951eb9",
   "metadata": {},
   "outputs": [],
   "source": [
    "%%sql\n",
    "select *\n",
    "from\n",
    "usage\n",
    "limit 10"
   ]
  },
  {
   "cell_type": "code",
   "execution_count": null,
   "id": "5d6e92e0-6fc3-4496-a9d1-0d577d232529",
   "metadata": {},
   "outputs": [],
   "source": [
    "%%sql\n",
    "summarize\n",
    "select *\n",
    "from\n",
    "usage\n",
    "limit 100000"
   ]
  },
  {
   "cell_type": "code",
   "execution_count": null,
   "id": "eb246d2e-6495-4c28-81d9-206b94dbd1d4",
   "metadata": {},
   "outputs": [],
   "source": [
    "%%sql\n",
    "df <<\n",
    "select \n",
    "    \"requestParams.jobTaskType\",\n",
    "    count(*) cnt\n",
    "from\n",
    "usage\n",
    "group by 1\n"
   ]
  },
  {
   "cell_type": "code",
   "execution_count": null,
   "id": "b1f86b52-6a58-4926-8083-15bba2cc5499",
   "metadata": {},
   "outputs": [],
   "source": [
    "display(df)\n",
    "df.bar()"
   ]
  },
  {
   "cell_type": "code",
   "execution_count": null,
   "id": "bc633fbf-26fd-4eb7-8f4c-bf237248e08b",
   "metadata": {},
   "outputs": [],
   "source": [
    "%%sql\n",
    "df <<\n",
    "select \n",
    "    \"requestParams.jobTerminalState\",\n",
    "    count(*) cnt\n",
    "from\n",
    "usage\n",
    "group by 1\n"
   ]
  },
  {
   "cell_type": "code",
   "execution_count": null,
   "id": "6899267a-2932-4029-9a2b-5e4fbb9fb35f",
   "metadata": {},
   "outputs": [],
   "source": [
    "display(df)\n",
    "df.bar()"
   ]
  },
  {
   "cell_type": "code",
   "execution_count": null,
   "id": "feb2bbc7-af73-418b-9b38-2b48eee56631",
   "metadata": {},
   "outputs": [],
   "source": [
    "%%sql\n",
    "df <<\n",
    "select \n",
    "    \"actionName\",\n",
    "    count(*) cnt\n",
    "from\n",
    "usage\n",
    "group by 1\n",
    "order by 2\n"
   ]
  },
  {
   "cell_type": "code",
   "execution_count": null,
   "id": "c1891454-d129-42bc-8477-bbbc2af6fa03",
   "metadata": {},
   "outputs": [],
   "source": [
    "display(df)\n",
    "df.bar()"
   ]
  },
  {
   "cell_type": "code",
   "execution_count": null,
   "id": "3b782a44-7357-44ac-a116-f4edab65eab3",
   "metadata": {},
   "outputs": [],
   "source": [
    "%%sh \n",
    "jupyter nbconvert --to html loader.ipynb --output deere_contents.html"
   ]
  },
  {
   "cell_type": "code",
   "execution_count": null,
   "id": "0c905b06-7073-43f1-a3e4-9d81eda7e32d",
   "metadata": {},
   "outputs": [],
   "source": []
  },
  {
   "cell_type": "code",
   "execution_count": null,
   "id": "62aae029-52f5-4352-8ddd-d5645a83d423",
   "metadata": {},
   "outputs": [],
   "source": [
    "raise KeyboardInterrupt\n"
   ]
  },
  {
   "cell_type": "code",
   "execution_count": null,
   "id": "64699df6-5e5b-430a-bded-e68a7a65a434",
   "metadata": {},
   "outputs": [],
   "source": [
    "some missing stuff:\n",
    "    \n",
    "if using databrickssql:\n",
    "    https://docs.databricks.com/api-explorer/workspace/queryhistory/list\n",
    "\n",
    "https://docs.databricks.com/administration-guide/account-settings/usage-analysis.html\n",
    "https://docs.databricks.com/administration-guide/account-settings/billable-usage-download-api.html\n",
    "https://docs.databricks.com/administration-guide/account-settings/audit-logs.html"
   ]
  },
  {
   "cell_type": "code",
   "execution_count": null,
   "id": "2eb2afde-3161-4111-ae85-a0407d9ff91a",
   "metadata": {},
   "outputs": [],
   "source": [
    "\n",
    "duckdb.sql(\n",
    "    f\"\"\"\n",
    "    select \n",
    "        \"requestParams.runId\"\n",
    "    from '{parquet_file_path}' \n",
    "    limit 100000\"\"\"\n",
    ")"
   ]
  },
  {
   "cell_type": "code",
   "execution_count": null,
   "id": "a200191e-b068-4587-82b5-2067a23aef50",
   "metadata": {},
   "outputs": [],
   "source": [
    "%load_ext autoreload\n",
    "%autoreload 2"
   ]
  },
  {
   "cell_type": "code",
   "execution_count": null,
   "id": "bffa1290-a50a-43c8-a4d6-194c0b2c13cc",
   "metadata": {},
   "outputs": [],
   "source": [
    "%reload_ext dotenv\n",
    "\n",
    "%dotenv ../../env/.env\n",
    "\n",
    "import warnings\n",
    "import utils\n",
    "from pandas import Timedelta\n",
    "import time\n",
    "from utils import logger, sql_to_df, run_sql, session, conn\n",
    "import pandas as pd\n",
    "warnings.filterwarnings('ignore')\n",
    "\n",
    "try:\n",
    "    %load_ext autotime\n",
    "except:\n",
    "    !pip install ipython-autotime\n",
    "    %load_ext autotime"
   ]
  },
  {
   "cell_type": "code",
   "execution_count": null,
   "id": "a41cf413-618c-400a-9e02-86c4726ed395",
   "metadata": {},
   "outputs": [],
   "source": [
    "run_sql(\"use role dev\")"
   ]
  },
  {
   "cell_type": "code",
   "execution_count": null,
   "id": "2323dd24-aa7d-40cd-890f-54be1a5d0356",
   "metadata": {},
   "outputs": [],
   "source": [
    "# Define the source Parquet file path on your local machine\n",
    "# parquet_file_path = '/path/to/your/parquet/file.parquet'\n",
    "\n",
    "parquet_file_paths = [\n",
    "    '/Users/safmomen/Downloads/deere_dbx_audit/part-00000-tid-7465844095593919475-c056804b-1121-4690-86d2-013c692cfda9-5-1-c000.snappy.parquet',\n",
    "    '/Users/safmomen/Downloads/deere_dbx_audit/part-00001-tid-7465844095593919475-c056804b-1121-4690-86d2-013c692cfda9-6-1-c000.snappy.parquet',\n",
    "    '/Users/safmomen/Downloads/deere_dbx_audit/part-00002-tid-7465844095593919475-c056804b-1121-4690-86d2-013c692cfda9-7-1-c000.snappy.parquet'\n",
    "]\n",
    "\n",
    "# Define the target Snowflake stage and the file name in the stage\n",
    "stage_name = 'raw_customer.deere.raw'\n",
    "\n",
    "for p in parquet_file_paths:\n",
    "    # Execute the PUT command to upload the Parquet file to the stage\n",
    "    put_command = f\"PUT file://{p} @{stage_name}/files/\"\n",
    "    conn.cursor().execute(put_command)"
   ]
  },
  {
   "cell_type": "code",
   "execution_count": null,
   "id": "368c54aa-97cf-470f-a2d6-c7501a4fd8cc",
   "metadata": {},
   "outputs": [],
   "source": []
  }
 ],
 "metadata": {
  "kernelspec": {
   "display_name": "Python 3 (ipykernel)",
   "language": "python",
   "name": "python3"
  },
  "language_info": {
   "codemirror_mode": {
    "name": "ipython",
    "version": 3
   },
   "file_extension": ".py",
   "mimetype": "text/x-python",
   "name": "python",
   "nbconvert_exporter": "python",
   "pygments_lexer": "ipython3",
   "version": "3.8.16"
  }
 },
 "nbformat": 4,
 "nbformat_minor": 5
}
