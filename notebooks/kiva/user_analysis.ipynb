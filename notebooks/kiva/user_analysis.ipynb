{
 "cells": [
  {
   "cell_type": "code",
   "execution_count": null,
   "metadata": {},
   "outputs": [],
   "source": [
    "# Adding system path\n",
    "import sys, pathlib\n",
    "sys.path.append(str(pathlib.Path.cwd().parent.parent))\n",
    "# sys.path"
   ]
  },
  {
   "cell_type": "code",
   "execution_count": null,
   "metadata": {},
   "outputs": [],
   "source": [
    "# Set to show warnings only once\n",
    "import warnings\n",
    "warnings.filterwarnings('ignore')"
   ]
  },
  {
   "cell_type": "code",
   "execution_count": null,
   "metadata": {},
   "outputs": [],
   "source": [
    "# Setting up displays\n",
    "from IPython.display import display, HTML\n",
    "display(HTML(\"<style>.container { width:100% !important; }</style>\"))\n",
    "from dash import Dash,html,dcc,Input,Output\n",
    "app = Dash(__name__)\n",
    "import pandas as pd\n",
    "pd.set_option('display.max_rows', 500)\n",
    "pd.set_option('display.max_columns', 500)\n",
    "import plotly.express as px\n",
    "import plotly.graph_objects as go\n",
    "from plotly.subplots import make_subplots\n",
    "from tabulate import tabulate\n",
    "color_scheme=[\"red\",\"blue\",\"green\",\"orange\",\"purple\",\"brown\",\"pink\",\"gray\",\"olive\",\"cyan\",\"darkviolet\",\"goldenrod\",\"darkgreen\",\"chocolate\",\"lawngreen\"]"
   ]
  },
  {
   "cell_type": "code",
   "execution_count": null,
   "metadata": {},
   "outputs": [],
   "source": [
    "from dash import Dash,html,dcc"
   ]
  },
  {
   "cell_type": "code",
   "execution_count": null,
   "metadata": {},
   "outputs": [],
   "source": [
    "# ##center allign all the figure outputs.\n",
    "# from plotly.offline import download_plotlyjs, init_notebook_mode, plot, iplot\n",
    "# from IPython.display import display, HTML\n",
    "# from plotly.graph_objs import *\n",
    "# import numpy as np\n",
    "# init_notebook_mode(connected=True)\n",
    "\n",
    "# display(HTML(\"\"\"\n",
    "# <style>\n",
    "# .output {\n",
    "#     display: flex;\n",
    "#     align-items: center;\n",
    "#     text-align: center;\n",
    "# }\n",
    "# </style>\n",
    "# \"\"\"))"
   ]
  },
  {
   "cell_type": "code",
   "execution_count": null,
   "metadata": {},
   "outputs": [],
   "source": [
    "# Setting up autoreload for libs\n",
    "%load_ext autoreload\n",
    "%autoreload 2\n",
    "%aimport optiml.queries"
   ]
  },
  {
   "cell_type": "code",
   "execution_count": null,
   "metadata": {},
   "outputs": [],
   "source": [
    "# Initialize connection to Snowflake and set analysis date\n",
    "from optiml.connection import SnowflakeConnConfig\n",
    "connection = SnowflakeConnConfig(accountname='jg84276.us-central1.gcp',warehousename=\"XSMALL_WH\").create_connection()\n",
    "# Initialize local environment\n",
    "import os\n",
    "cache_dir = os.path.expanduser('~/data/kiva')\n",
    "# Initialize query library\n",
    "from optiml.queries import SNFLKQuery\n",
    "qlib = SNFLKQuery(connection, 'KIV', cache_dir)\n",
    "sdate = '2022-09-12'\n",
    "edate = '2022-10-12'\n",
    "print(f\"The analysis is carried our for date range {sdate} to {edate}\")"
   ]
  },
  {
   "cell_type": "markdown",
   "metadata": {},
   "source": [
    "# User Analysis\n"
   ]
  },
  {
   "cell_type": "markdown",
   "metadata": {},
   "source": [
    "## Most idle users"
   ]
  },
  {
   "cell_type": "code",
   "execution_count": null,
   "metadata": {},
   "outputs": [],
   "source": [
    "## This would be my starting point for users that are a security risk\n",
    "df = qlib.idle_users(sdate,edate)\n",
    "df.to_csv('/home/manas/DS_data/idle_users.csv')\n",
    "# df.head()"
   ]
  },
  {
   "cell_type": "code",
   "execution_count": null,
   "metadata": {},
   "outputs": [],
   "source": [
    "# import plotly.express as px\n",
    "# data_canada = px.data.gapminder().query(\"country == 'Canada'\")\n",
    "fig = go.Figure()\n",
    "fig.add_trace(go.Scatter(\n",
    "    x=df['last_success_login'], y=[0]*len(df['last_success_login'].to_list()), mode='markers', marker_size=20, customdata=df['name'], hovertemplate=\"<br>\".join([\n",
    "        \"Last successful login: %{x}\",\"name: %{customdata}\"])\n",
    "))\n",
    "fig.update_xaxes(showgrid=False, title_text=\"last sucess login\")\n",
    "fig.update_yaxes(showgrid=False, \n",
    "                 zeroline=True, zerolinecolor='black', zerolinewidth=3,\n",
    "                 showticklabels=False)\n",
    "fig.update_layout(height=200, plot_bgcolor='white', title_text=\"Idle Users\")\n",
    "fig.show()"
   ]
  },
  {
   "cell_type": "markdown",
   "metadata": {},
   "source": [
    "### Analysis\n",
    "<div class=\"alert alert-info\">\n",
    "    \n",
    "* 39 users have not logged into snowflake before 12th September, 2022.\n",
    "* 16 users have not logged in since 2020 :\n",
    "    * 2 users since 2020.\n",
    "    * 2 users since 2019.\n",
    "    * 7 users since 2018.\n",
    "    * 4 users since 2017.\n",
    "    * 1 user since 2016. \n",
    "\n",
    "</div>"
   ]
  },
  {
   "cell_type": "markdown",
   "metadata": {},
   "source": [
    "### Actions and Recommendations\n",
    "<div class=\"alert alert-success\">\n",
    "\n",
    "* Users who have not logged in since 2020 can be disabled or formally onboarded.\n",
    "    \n",
    "</div>"
   ]
  },
  {
   "cell_type": "markdown",
   "metadata": {},
   "source": [
    "## Users that have never logged in"
   ]
  },
  {
   "cell_type": "code",
   "execution_count": null,
   "metadata": {},
   "outputs": [],
   "source": [
    "## Users never logged in but not deleted\n",
    "\n",
    "df = qlib.users_never_logged_in(sdate,edate)\n",
    "\n",
    "df.head()"
   ]
  },
  {
   "cell_type": "code",
   "execution_count": null,
   "metadata": {},
   "outputs": [],
   "source": [
    "fig = go.Figure()\n",
    "fig.add_trace(go.Scatter(\n",
    "    x=df['created_on'], y=[0]*len(df['created_on'].to_list()), mode='markers', marker_size=20, customdata=df['name'], hovertemplate=\"<br>\".join([\n",
    "        \"Created on: %{x}\",\"name: %{customdata}\"])\n",
    "))\n",
    "fig.update_xaxes(showgrid=False, title_text=\"Created on\")\n",
    "fig.update_yaxes(showgrid=False, \n",
    "                 zeroline=True, zerolinecolor='black', zerolinewidth=3,\n",
    "                 showticklabels=False)\n",
    "fig.update_layout(height=200, plot_bgcolor='white', title_text=\"Never logged in\")\n",
    "fig.show()"
   ]
  },
  {
   "cell_type": "markdown",
   "metadata": {},
   "source": [
    "### Analysis\n",
    "<div class=\"alert alert-info\">\n",
    "    \n",
    "* 4 users have not logged in since date of creation.\n",
    "* SNOWFLAKE user created an account in June 2016 and hasn't logged in since.\n",
    " \n",
    "\n",
    "</div>"
   ]
  },
  {
   "cell_type": "markdown",
   "metadata": {},
   "source": [
    "### Actions and Recommendations\n",
    "<div class=\"alert alert-success\">\n",
    "\n",
    "* SNOWFLAKE user can be disabled.\n",
    "    \n",
    "</div>"
   ]
  },
  {
   "cell_type": "markdown",
   "metadata": {},
   "source": [
    "## Users and queries that scan full tables"
   ]
  },
  {
   "cell_type": "markdown",
   "metadata": {},
   "source": [
    "#### Users"
   ]
  },
  {
   "cell_type": "code",
   "execution_count": null,
   "metadata": {},
   "outputs": [],
   "source": [
    "df=qlib.users_full_table_scans(sdate,edate)\n",
    "df.to_csv('/home/manas/DS_data/users_scan_full_tables.csv')\n",
    "df.head()"
   ]
  },
  {
   "cell_type": "code",
   "execution_count": null,
   "metadata": {},
   "outputs": [],
   "source": [
    "fig = go.Figure()\n",
    "fig.add_trace(go.Scatter(\n",
    "    x=df['count_of_queries'], y=[0]*len(df['count_of_queries'].to_list()), mode='markers', marker_size=20,customdata=df['user_name'], hovertemplate=\"<br>\".join([\n",
    "        \"Count of queries: %{x}\",\"Username: %{customdata}\"])\n",
    "))\n",
    "fig.update_xaxes(showgrid=False, title_text=\"count of queries\")\n",
    "fig.update_yaxes(showgrid=False, \n",
    "                 zeroline=True, zerolinecolor='black', zerolinewidth=3,\n",
    "                 showticklabels=False)\n",
    "fig.update_layout(height=200, plot_bgcolor='white', title_text=\"Full table scans\")\n",
    "fig.show()"
   ]
  },
  {
   "cell_type": "markdown",
   "metadata": {},
   "source": [
    "#### Queries"
   ]
  },
  {
   "cell_type": "code",
   "execution_count": null,
   "metadata": {},
   "outputs": [],
   "source": [
    "df=qlib.queries_full_table_scan(sdate,edate)\n",
    "df.to_csv('/home/manas/DS_data/queries_scan_full_tables.csv')\n",
    "# df.head()"
   ]
  },
  {
   "cell_type": "markdown",
   "metadata": {},
   "source": [
    "### Analysis\n",
    "<div class=\"alert alert-info\">\n",
    "    \n",
    "* Users VERTEX_API_PROD,FIVETRAN_USER, FIVETRAN_USER,FIVETRAN_USER_DEV, LOOKER_PROD and VERTEX_API_DEV run queries that scan almost all partitions of the table.\n",
    "\n",
    "\n",
    "</div>"
   ]
  },
  {
   "cell_type": "markdown",
   "metadata": {},
   "source": [
    "### Actions and Recommendations\n",
    "<div class=\"alert alert-success\">\n",
    "\n",
    "* Users can be trained to run more optimized queries.\n",
    "* Cluster keys can be defined for the queries they execute so that number of partitions scanned is less.\n",
    "    \n",
    "</div>"
   ]
  },
  {
   "cell_type": "markdown",
   "metadata": {},
   "source": [
    "## Users that scan the most data"
   ]
  },
  {
   "cell_type": "code",
   "execution_count": null,
   "metadata": {},
   "outputs": [],
   "source": [
    "df=qlib.heavy_users(start_date=\"2019-01-01\", end_date=\"2022-02-02\")\n",
    "df.head()"
   ]
  },
  {
   "cell_type": "code",
   "execution_count": null,
   "metadata": {},
   "outputs": [],
   "source": [
    "fig = go.Figure()\n",
    "fig.add_trace(go.Scatter(\n",
    "    x=df['avg_pct_scanned'], y=[0]*len(df['avg_pct_scanned'].to_list()), mode='markers', marker_size=20,customdata=df['warehouse_name'], hovertemplate=\"<br>\".join([\n",
    "        \"Count of queries: %{x}\",\"warehouse name: %{customdata}\"])\n",
    "))\n",
    "fig.update_xaxes(showgrid=False, title_text=\"Average partitions scanned\")\n",
    "fig.update_yaxes(showgrid=False, \n",
    "                 zeroline=True, zerolinecolor='black', zerolinewidth=3,\n",
    "                 showticklabels=False)\n",
    "fig.update_layout(height=200, plot_bgcolor='white', title_text=\"Heavy users\")\n",
    "fig.show()"
   ]
  },
  {
   "cell_type": "markdown",
   "metadata": {},
   "source": [
    "## Idle roles"
   ]
  },
  {
   "cell_type": "code",
   "execution_count": null,
   "metadata": {},
   "outputs": [],
   "source": [
    "df=qlib.idle_roles(sdate,edate)\n",
    "df.head()"
   ]
  },
  {
   "cell_type": "code",
   "execution_count": null,
   "metadata": {},
   "outputs": [],
   "source": [
    "fig = go.Figure()\n",
    "fig.add_trace(go.Scatter(\n",
    "    x=df['created_on'], y=[0]*len(df['created_on'].to_list()), mode='markers', marker_size=20,customdata=df[\"name\"], hovertemplate=\"<br>\".join([\n",
    "        \"created on: %{x}\",\"name: %{customdata}\"])\n",
    "))\n",
    "fig.update_xaxes(showgrid=False, title_text=\"Created on\")\n",
    "fig.update_yaxes(showgrid=False, \n",
    "                 zeroline=True, zerolinecolor='black', zerolinewidth=3,\n",
    "                 showticklabels=False)\n",
    "fig.update_layout(height=200, plot_bgcolor='white', title_text=\"Idle roles\")\n",
    "fig.show()"
   ]
  },
  {
   "cell_type": "code",
   "execution_count": null,
   "metadata": {},
   "outputs": [],
   "source": [
    "df=qlib.table_streams(sdate,edate)\n",
    "df.head()"
   ]
  },
  {
   "cell_type": "markdown",
   "metadata": {},
   "source": [
    "# TASK ANALYSIS"
   ]
  },
  {
   "cell_type": "markdown",
   "metadata": {},
   "source": [
    "## Failed tasks"
   ]
  },
  {
   "cell_type": "code",
   "execution_count": null,
   "metadata": {},
   "outputs": [],
   "source": [
    "df=qlib.failed_tasks(sdate,edate)\n",
    "df.head()"
   ]
  },
  {
   "cell_type": "markdown",
   "metadata": {},
   "source": [
    "## Long running tasks"
   ]
  },
  {
   "cell_type": "code",
   "execution_count": null,
   "metadata": {},
   "outputs": [],
   "source": [
    "df=qlib.long_running_tasks(sdate,edate)\n",
    "df.head()"
   ]
  },
  {
   "cell_type": "code",
   "execution_count": null,
   "metadata": {},
   "outputs": [],
   "source": [
    "fig = go.Figure()\n",
    "fig.add_trace(go.Scatter(\n",
    "    x=df['duration_seconds'], y=[0]*len(df['duration_seconds'].to_list()), mode='markers', marker_size=20,customdata=df[\"name\"], hovertemplate=\"<br>\".join([\n",
    "        \"duration seconds: %{x}\",\"name: %{customdata}\"])\n",
    "))\n",
    "fig.update_xaxes(showgrid=False, title_text=\"Created on\")\n",
    "fig.update_yaxes(showgrid=False, \n",
    "                 zeroline=True, zerolinecolor='black', zerolinewidth=3,\n",
    "                 showticklabels=False)\n",
    "fig.update_layout(height=200, plot_bgcolor='white', title_text=\"Idle roles\")\n",
    "fig.show()"
   ]
  }
 ],
 "metadata": {
  "hide_input": false,
  "kernelspec": {
   "display_name": "Python 3 (ipykernel)",
   "language": "python",
   "name": "python3"
  },
  "language_info": {
   "codemirror_mode": {
    "name": "ipython",
    "version": 3
   },
   "file_extension": ".py",
   "mimetype": "text/x-python",
   "name": "python",
   "nbconvert_exporter": "python",
   "pygments_lexer": "ipython3",
   "version": "3.9.15"
  },
  "vscode": {
   "interpreter": {
    "hash": "ba286fab723f3beadf2310fa20d811dff5d5606e9e08a95b52f51185bcb3e19b"
   }
  }
 },
 "nbformat": 4,
 "nbformat_minor": 2
}
