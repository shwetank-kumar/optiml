{
 "cells": [
  {
   "cell_type": "code",
   "execution_count": null,
   "metadata": {},
   "outputs": [],
   "source": [
    "# Adding system path\n",
    "import sys, pathlib\n",
    "sys.path.append(str(pathlib.Path.cwd().parent.parent))\n",
    "# sys.path"
   ]
  },
  {
   "cell_type": "code",
   "execution_count": null,
   "metadata": {},
   "outputs": [],
   "source": [
    "# Set to show warnings only once\n",
    "import warnings\n",
    "warnings.filterwarnings('ignore')"
   ]
  },
  {
   "cell_type": "code",
   "execution_count": null,
   "metadata": {},
   "outputs": [],
   "source": [
    "# Setting up displays\n",
    "from IPython.display import display, HTML\n",
    "display(HTML(\"<style>.container { width:100% !important; }</style>\"))\n",
    "from dash import Dash,html,dcc,Input,Output\n",
    "app = Dash(__name__)\n",
    "import pandas as pd\n",
    "pd.set_option('display.max_rows', 500)\n",
    "pd.set_option('display.max_columns', 500)\n",
    "\n",
    "import plotly.express as px\n",
    "import plotly.graph_objects as go\n",
    "from plotly.subplots import make_subplots\n",
    "from tabulate import tabulate\n",
    "color_scheme=[\"red\",\"blue\",\"green\",\"orange\",\"purple\",\"brown\",\"pink\",\"gray\",\"olive\",\"cyan\",\"darkviolet\",\"goldenrod\",\"darkgreen\",\"chocolate\",\"lawngreen\"]"
   ]
  },
  {
   "cell_type": "code",
   "execution_count": null,
   "metadata": {},
   "outputs": [],
   "source": [
    "from dash import Dash,html,dcc"
   ]
  },
  {
   "cell_type": "code",
   "execution_count": null,
   "metadata": {},
   "outputs": [],
   "source": [
    "# ##center allign all the figure outputs.\n",
    "# from plotly.offline import download_plotlyjs, init_notebook_mode, plot, iplot\n",
    "# from IPython.display import display, HTML\n",
    "# from plotly.graph_objs import *\n",
    "# import numpy as np\n",
    "# init_notebook_mode(connected=True)\n",
    "\n",
    "# display(HTML(\"\"\"\n",
    "# <style>\n",
    "# .output {\n",
    "#     display: flex;\n",
    "#     align-items: center;\n",
    "#     text-align: center;\n",
    "# }\n",
    "# </style>\n",
    "# \"\"\"))"
   ]
  },
  {
   "cell_type": "code",
   "execution_count": null,
   "metadata": {},
   "outputs": [],
   "source": [
    "# Setting up autoreload for libs\n",
    "%load_ext autoreload\n",
    "%autoreload 2\n",
    "%aimport optiml.queries"
   ]
  },
  {
   "cell_type": "code",
   "execution_count": null,
   "metadata": {},
   "outputs": [],
   "source": [
    "# Initialize connection to Snowflake and set analysis date\n",
    "from optiml.connection import SnowflakeConnConfig\n",
    "connection = SnowflakeConnConfig(accountname='jg84276.us-central1.gcp',warehousename=\"XSMALL_WH\").create_connection()\n",
    "# Initialize local environment\n",
    "import os\n",
    "cache_dir = os.path.expanduser('~/data/kiva')\n",
    "# Initialize query library\n",
    "from optiml.queries import SNFLKQuery\n",
    "qlib = SNFLKQuery(connection, 'KIV', cache_dir)\n",
    "sdate = '2022-10-01'\n",
    "edate = '2022-10-31'\n",
    "print(f\"The analysis is carried our for date range {sdate} to {edate}\")"
   ]
  },
  {
   "cell_type": "markdown",
   "metadata": {},
   "source": [
    "# User Analysis"
   ]
  },
  {
   "cell_type": "code",
   "execution_count": null,
   "metadata": {},
   "outputs": [],
   "source": [
    "## This would be my starting point for users that are a security risk\n",
    "idle_user_start_date = '2022-04-01'\n",
    "idle_user_end_date = '2022-10-31'\n",
    "df = qlib.idle_users(idle_user_start_date, idle_user_end_date)\n",
    "df.head()"
   ]
  },
  {
   "cell_type": "code",
   "execution_count": null,
   "metadata": {},
   "outputs": [],
   "source": [
    "# import plotly.express as px\n",
    "# data_canada = px.data.gapminder().query(\"country == 'Canada'\")\n",
    "fig = go.Figure()\n",
    "fig.add_trace(go.Scatter(\n",
    "    x=df['last_success_login'], y=[0]*len(df['last_success_login'].to_list()), mode='markers', marker_size=20\n",
    "))\n",
    "fig.update_xaxes(showgrid=False, title_text=\"last sucess login\")\n",
    "fig.update_yaxes(showgrid=False, \n",
    "                 zeroline=True, zerolinecolor='black', zerolinewidth=3,\n",
    "                 showticklabels=False)\n",
    "fig.update_layout(height=200, plot_bgcolor='white', title_text=\"Idle Users\")\n",
    "fig.show()"
   ]
  },
  {
   "cell_type": "code",
   "execution_count": null,
   "metadata": {},
   "outputs": [],
   "source": [
    "## Users never logged in but not deleted\n",
    "idle_user_start_date = '2022-04-01'\n",
    "idle_user_end_date = '2022-10-31'\n",
    "df = qlib.users_never_logged_in(idle_user_start_date, idle_user_end_date)\n",
    "df.head()"
   ]
  },
  {
   "cell_type": "code",
   "execution_count": null,
   "metadata": {},
   "outputs": [],
   "source": [
    "fig = go.Figure()\n",
    "fig.add_trace(go.Scatter(\n",
    "    x=df['created_on'], y=[0]*len(df['created_on'].to_list()), mode='markers', marker_size=20\n",
    "))\n",
    "fig.update_xaxes(showgrid=False, title_text=\"Created on\")\n",
    "fig.update_yaxes(showgrid=False, \n",
    "                 zeroline=True, zerolinecolor='black', zerolinewidth=3,\n",
    "                 showticklabels=False)\n",
    "fig.update_layout(height=200, plot_bgcolor='white', title_text=\"Never logged in\")\n",
    "fig.show()"
   ]
  },
  {
   "cell_type": "code",
   "execution_count": null,
   "metadata": {},
   "outputs": [],
   "source": [
    "df=qlib.users_full_table_scans(start_date='2018-04-01', end_date='2022-10-31')\n",
    "df.head()"
   ]
  },
  {
   "cell_type": "code",
   "execution_count": null,
   "metadata": {},
   "outputs": [],
   "source": [
    "df=qlib.heavy_users(start_date=\"2019-01-01\", end_date=\"2022-02-02\")\n",
    "df.head()"
   ]
  },
  {
   "cell_type": "code",
   "execution_count": null,
   "metadata": {},
   "outputs": [],
   "source": [
    "df=qlib.idle_roles(start_date=\"2021-01-01\", end_date=\"2022-02-02\")\n",
    "df.head()"
   ]
  },
  {
   "cell_type": "code",
   "execution_count": null,
   "metadata": {},
   "outputs": [],
   "source": [
    "fig = go.Figure()\n",
    "fig.add_trace(go.Scatter(\n",
    "    x=df['created_on'], y=[0]*len(df['created_on'].to_list()), mode='markers', marker_size=20\n",
    "))\n",
    "fig.update_xaxes(showgrid=False, title_text=\"Created on\")\n",
    "fig.update_yaxes(showgrid=False, \n",
    "                 zeroline=True, zerolinecolor='black', zerolinewidth=3,\n",
    "                 showticklabels=False)\n",
    "fig.update_layout(height=200, plot_bgcolor='white', title_text=\"Idle roles\")\n",
    "fig.show()"
   ]
  },
  {
   "cell_type": "code",
   "execution_count": null,
   "metadata": {},
   "outputs": [],
   "source": [
    "## Warehouse credit usage over time\n",
    "\n",
    "\n",
    "\n",
    "app = Dash(__name__)\n",
    "\n",
    "\n",
    "\n",
    "fig = px.scatter(df_expensiveq, x=df_expensiveq[\"query_id\"], y=df_expensiveq[\"relative_performance_cost\"],\n",
    "                 color=df_expensiveq[\"user_name\"], hover_name=df_expensiveq[\"warehouse_size\"],size_max=30)\n",
    "fig.update_traces(marker_size=20)\n",
    "\n",
    "\n",
    "app.layout = html.Div([\n",
    "    dcc.Graph(\n",
    "        id='life-exp-vs-gdp',\n",
    "        figure=fig\n",
    "    )\n",
    "])\n",
    "\n",
    "fig.show()"
   ]
  },
  {
   "cell_type": "code",
   "execution_count": null,
   "metadata": {},
   "outputs": [],
   "source": [
    "app = Dash(__name__)\n",
    "\n",
    "\n",
    "\n",
    "app.layout = html.Div([\n",
    "    html.Div([\n",
    "\n",
    "        html.Div([\n",
    "            dcc.Dropdown(\n",
    "                df['user_name'].unique(),\n",
    "                'User_name',\n",
    "                id='xaxis-column'\n",
    "            ),\n",
    "            dcc.RadioItems(\n",
    "                ['Linear', 'Log'],\n",
    "                'Linear',\n",
    "                id='xaxis-type',\n",
    "                inline=True\n",
    "            )\n",
    "        ], style={'width': '48%', 'display': 'inline-block'}),\n",
    "\n",
    "        html.Div([\n",
    "            dcc.Dropdown(\n",
    "                df['Indicator Name'].unique(),\n",
    "                'Life expectancy at birth, total (years)',\n",
    "                id='yaxis-column'\n",
    "            ),\n",
    "            dcc.RadioItems(\n",
    "                ['Linear', 'Log'],\n",
    "                'Linear',\n",
    "                id='yaxis-type',\n",
    "                inline=True\n",
    "            )\n",
    "        ], style={'width': '48%', 'float': 'right', 'display': 'inline-block'})\n",
    "    ]),\n",
    "\n",
    "    dcc.Graph(id='indicator-graphic'),\n",
    "\n",
    "    dcc.Slider(\n",
    "        df['Year'].min(),\n",
    "        df['Year'].max(),\n",
    "        step=None,\n",
    "        id='year--slider',\n",
    "        value=df['Year'].max(),\n",
    "        marks={str(year): str(year) for year in df['Year'].unique()},\n",
    "\n",
    "    )\n",
    "])\n",
    "\n",
    "\n",
    "@app.callback(\n",
    "    Output('indicator-graphic', 'figure'),\n",
    "    Input('xaxis-column', 'value'),\n",
    "    Input('yaxis-column', 'value'),\n",
    "    Input('xaxis-type', 'value'),\n",
    "    Input('yaxis-type', 'value'),\n",
    "    Input('year--slider', 'value'))\n",
    "def update_graph(xaxis_column_name, yaxis_column_name,\n",
    "                 xaxis_type, yaxis_type,\n",
    "                 year_value):\n",
    "    dff = df[df['Year'] == year_value]\n",
    "\n",
    "    fig = px.scatter(x=dff[dff['Indicator Name'] == xaxis_column_name]['Value'],\n",
    "                     y=dff[dff['Indicator Name'] == yaxis_column_name]['Value'],\n",
    "                     hover_name=dff[dff['Indicator Name'] == yaxis_column_name]['Country Name'])\n",
    "\n",
    "    fig.update_layout(margin={'l': 40, 'b': 40, 't': 10, 'r': 0}, hovermode='closest')\n",
    "\n",
    "    fig.update_xaxes(title=xaxis_column_name,\n",
    "                     type='linear' if xaxis_type == 'Linear' else 'log')\n",
    "\n",
    "    fig.update_yaxes(title=yaxis_column_name,\n",
    "                     type='linear' if yaxis_type == 'Linear' else 'log')\n",
    "\n",
    "    return fig"
   ]
  }
 ],
 "metadata": {
  "kernelspec": {
   "display_name": "sf",
   "language": "python",
   "name": "python3"
  },
  "language_info": {
   "codemirror_mode": {
    "name": "ipython",
    "version": 3
   },
   "file_extension": ".py",
   "mimetype": "text/x-python",
   "name": "python",
   "nbconvert_exporter": "python",
   "pygments_lexer": "ipython3",
   "version": "3.8.2"
  },
  "vscode": {
   "interpreter": {
    "hash": "ba286fab723f3beadf2310fa20d811dff5d5606e9e08a95b52f51185bcb3e19b"
   }
  }
 },
 "nbformat": 4,
 "nbformat_minor": 2
}
