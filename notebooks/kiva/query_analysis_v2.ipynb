{
 "cells": [
  {
   "cell_type": "code",
   "execution_count": null,
   "metadata": {},
   "outputs": [],
   "source": [
    "%%javascript\n",
    "IPython.OutputArea.prototype._should_scroll = function(lines) {\n",
    "    return false;\n",
    "}"
   ]
  },
  {
   "cell_type": "code",
   "execution_count": null,
   "metadata": {},
   "outputs": [],
   "source": [
    "# Adding system path\n",
    "import sys, pathlib, os\n",
    "sys.path.append(str(pathlib.Path.cwd().parent.parent))\n",
    "# sys.path"
   ]
  },
  {
   "cell_type": "code",
   "execution_count": null,
   "metadata": {},
   "outputs": [],
   "source": [
    "# Set to show warnings only once\n",
    "import warnings\n",
    "warnings.filterwarnings('ignore')"
   ]
  },
  {
   "cell_type": "code",
   "execution_count": null,
   "metadata": {},
   "outputs": [],
   "source": [
    "## Setup connection to DWH\n",
    "# customer = 'KIVA'\n",
    "# schema = 'KIVA_PROD.OPTIML'\n",
    "customer = 'OPTIML' # Use this for testing\n",
    "schema = 'KIV.ACCOUNT_USAGE' # Use this for testing\n",
    "username = customer + '_USERNAME'\n",
    "password = customer + '_PASSWORD'\n",
    "account = customer + '_ACCOUNT'\n",
    "\n",
    "user = os.getenv(username)\n",
    "password = os.getenv(password)\n",
    "account = os.getenv(account)"
   ]
  },
  {
   "cell_type": "code",
   "execution_count": null,
   "metadata": {},
   "outputs": [],
   "source": [
    "## Setup pandas\n",
    "import pandas as pd\n",
    "pd.set_option('display.max_rows', 500)\n",
    "pd.set_option('display.max_columns', 500)\n",
    "\n",
    "import numpy as np\n",
    "\n",
    "import plotly.express as px\n",
    "import plotly.graph_objects as go\n",
    "from plotly.subplots import make_subplots\n",
    "from tabulate import tabulate\n",
    "color_scheme=[\"red\",\"blue\",\"green\",\"orange\",\"purple\",\"brown\",\"pink\",\"gray\",\"olive\",\"cyan\",\"darkviolet\",\"goldenrod\",\"darkgreen\",\"chocolate\",\"lawngreen\"]"
   ]
  },
  {
   "cell_type": "code",
   "execution_count": null,
   "metadata": {},
   "outputs": [],
   "source": [
    "# Initialize connection to Snowflake and set analysis date\n",
    "from optiml.connection import SnowflakeConnConfig\n",
    "# connection = SnowflakeConnConfig(accountname='jg84276.us-central1.gcp',warehousename=\"XSMALL_WH\").create_connection()\n",
    "connection = SnowflakeConnConfig(username=user,password=password,accountname=account).create_connection()\n",
    "\n",
    "# Initialize query library\n",
    "from optiml.backend.query_profile import QueryProfile\n",
    "from optiml.backend.cost_profile import CostProfile, get_previous_dates\n",
    "qqlib = QueryProfile(connection, schema)\n",
    "cqlib = CostProfile(connection, schema)\n",
    "\n",
    "# Initialize dates\n",
    "import datetime \n",
    "\n",
    "edate = '2022-10-12'\n",
    "sdate = '2022-10-05'\n",
    "print('Customer:', customer)\n",
    "print('Schema:', schema)\n",
    "print(str(sdate), str(edate))"
   ]
  },
  {
   "cell_type": "code",
   "execution_count": null,
   "metadata": {},
   "outputs": [],
   "source": [
    "# Setting up autoreload for libs\n",
    "%load_ext autoreload\n",
    "%autoreload 2\n",
    "%aimport optiml.backend.query_profile"
   ]
  },
  {
   "cell_type": "markdown",
   "metadata": {},
   "source": [
    "# Query Analysis"
   ]
  },
  {
   "cell_type": "markdown",
   "metadata": {},
   "source": [
    "## Queries executed per day - successes, failures, credits"
   ]
  },
  {
   "cell_type": "code",
   "execution_count": null,
   "metadata": {},
   "outputs": [],
   "source": [
    "df = qqlib.queries_by_execution_status(sdate,edate)\n",
    "df.head()"
   ]
  },
  {
   "cell_type": "code",
   "execution_count": null,
   "metadata": {},
   "outputs": [],
   "source": [
    "df_count = df.groupby(['day']).agg({'n_success': 'sum', 'n_fail': 'sum'}).reset_index()\n",
    "df_count.head()"
   ]
  },
  {
   "cell_type": "code",
   "execution_count": null,
   "metadata": {},
   "outputs": [],
   "source": [
    "df_credits = cqlib.credits_by_day(sdate, edate)"
   ]
  },
  {
   "cell_type": "code",
   "execution_count": null,
   "metadata": {},
   "outputs": [],
   "source": [
    "trace1 = go.Bar(\n",
    "        x = df_count['day'],\n",
    "        y = df_count['n_success'],\n",
    "        name=\"Execution success count\",\n",
    "    )\n",
    "\n",
    "trace2 = go.Bar(\n",
    "        x = df_count['day'],\n",
    "        y = df_count['n_fail'],\n",
    "        name=\"Execution fail count\",\n",
    "    )\n",
    "\n",
    "trace3  = go.Scatter(\n",
    "        mode='lines+markers',\n",
    "        x = df_credits['date'],\n",
    "        y = df_credits['credits'],\n",
    "        name=\"Credits\",\n",
    "        yaxis='y2',\n",
    "        line=dict(color='black'),\n",
    "    )\n",
    "\n",
    "\n",
    "data = [trace1, trace2, trace3]\n",
    "\n",
    "layout = go.Layout(\n",
    "    title_text='Query success, fail, credits per day',\n",
    "    yaxis=dict(\n",
    "        title=\"Count number\",\n",
    "        showgrid=False,\n",
    "    ),\n",
    "     yaxis2=dict(\n",
    "        title=\"Credits\", \n",
    "        overlaying=\"y\",\n",
    "        side=\"right\",\n",
    "        showgrid=False,\n",
    "    ),\n",
    "    xaxis=dict(\n",
    "        title=\"Date (UTC)\"\n",
    "    ),\n",
    "    legend=dict(\n",
    "        yanchor=\"top\",\n",
    "        y=0.99,\n",
    "        xanchor=\"left\",\n",
    "        x=0.99\n",
    "    ),\n",
    "    barmode=\"stack\"\n",
    ")\n",
    "fig = go.Figure(data=data, layout=layout)\n",
    "fig.show()"
   ]
  },
  {
   "cell_type": "markdown",
   "metadata": {},
   "source": [
    "## Query execution by user per day"
   ]
  },
  {
   "cell_type": "code",
   "execution_count": null,
   "metadata": {},
   "outputs": [],
   "source": [
    "df = qqlib.queries_by_execution_status(sdate,edate)"
   ]
  },
  {
   "cell_type": "code",
   "execution_count": null,
   "metadata": {},
   "outputs": [],
   "source": [
    "df_by_user = df.groupby(['user_name','day']).agg({'n_success': 'sum', 'n_fail': 'sum'})\n",
    "df_by_user.reset_index(inplace=True)\n",
    "user_list = list(df_by_user[\"user_name\"].unique())\n",
    "# user_list"
   ]
  },
  {
   "cell_type": "code",
   "execution_count": null,
   "metadata": {},
   "outputs": [],
   "source": [
    "# user = 'ANALYTICS_EXERCISE_USER' #significant failures\n",
    "# user =  'BAMBOO' #significant failures\n",
    "# user =  'DBT_DEV'\n",
    "# user = 'DBT_PROD'\n",
    "# user = 'FIVETRAN_USER'\n",
    "# user = 'FIVETRAN_USER_DEV'\n",
    "# user = 'GREGORYW' #some failures\n",
    "# user = 'GREGORYW_DEV'\n",
    "user = 'KIVA_API_SNAPSHOT_PROD' #all failures\n",
    "# user = 'LOOKER_DEV_ADMIN' #significant failures\n",
    "# user = 'LOOKER_PROD' #some failures\n",
    "# user = 'LOOKER_PROD_ADMIN' #some failures\n",
    "# user = 'LOOKER_RAW_DEV' #significant failures\n",
    "# user = 'LOOKER_RAW_PROD' #significant failures\n",
    "# user = 'MAXH_DEV' #some failures\n",
    "# user = 'ML_SERVICE_DEV'\n",
    "# user = 'ML_SERVICE_PROD'\n",
    "# user = 'PATRICKL'\n",
    "# user = 'PATT' #significant failures\n",
    "# user = 'ROBS' #significant failures\n",
    "# user = 'TEST_EXERCISE_AS' #some failures\n",
    "# user = 'TEST_EXERCISE_CM' #some failures\n",
    "# user = 'TEST_EXERCISE_JAR' #some failures\n",
    "# user = 'TEST_EXERCISE_LAZ' #some failures\n",
    "# user = 'TEST_EXERCISE_RDN' #some failures\n",
    "# user = 'VERTEX_API_DEV'\n",
    "# user = 'VERTEX_API_DEV_JENKINS'\n",
    "# user = 'VERTEX_API_PROD'\n",
    "# user = 'WORKSHEETS_APP_USER'\n",
    "df_user = df_by_user[df_by_user[\"user_name\"] == user]\n",
    "df_user.reset_index(drop=True,inplace=True)"
   ]
  },
  {
   "cell_type": "code",
   "execution_count": null,
   "metadata": {},
   "outputs": [],
   "source": [
    "trace1 = go.Bar(\n",
    "        x = df_user['day'],\n",
    "        y = df_user['n_success'],\n",
    "        name=\"Execution success count\",\n",
    "    )\n",
    "\n",
    "trace2 = go.Bar(\n",
    "        x = df_user['day'],\n",
    "        y = df_user['n_fail'],\n",
    "        name=\"Execution fail count\",\n",
    "    )\n",
    "\n",
    "data = [trace1, trace2]\n",
    "\n",
    "layout = go.Layout(\n",
    "    title_text='Query count',\n",
    "    yaxis=dict(\n",
    "        title=\"Count number\",\n",
    "        showgrid=False,\n",
    "    ),\n",
    "     yaxis2=dict(\n",
    "        title=\"Number of times ran\", \n",
    "        overlaying=\"y\",\n",
    "        side=\"right\",\n",
    "        showgrid=False,\n",
    "    ),\n",
    "    xaxis=dict(\n",
    "        title=\"Date (UTC)\"\n",
    "    ),\n",
    "    legend=dict(\n",
    "        yanchor=\"top\",\n",
    "        y=0.99,\n",
    "        xanchor=\"left\",\n",
    "        x=0.99\n",
    "    ),\n",
    "    barmode=\"stack\"\n",
    ")\n",
    "fig = go.Figure(data=data, layout=layout)\n",
    "fig.show()"
   ]
  },
  {
   "cell_type": "code",
   "execution_count": null,
   "metadata": {},
   "outputs": [],
   "source": [
    "## all failures for a user between start and end date\n",
    "df=qqlib.get_queries(start_date=sdate,end_date=edate,user=user,es=\"FAIL\", n=1500)\n",
    "df_unique = qqlib.get_unique_queries(df)\n",
    "df_unique.sort_values('execution_status', inplace=True, ascending=False)\n",
    "df_unique.reset_index(inplace=True)\n",
    "df_unique.head()"
   ]
  },
  {
   "cell_type": "markdown",
   "metadata": {},
   "source": [
    "## Query execution by warehouse per day"
   ]
  },
  {
   "cell_type": "code",
   "execution_count": null,
   "metadata": {},
   "outputs": [],
   "source": [
    "df = qqlib.queries_by_execution_status(sdate,edate)"
   ]
  },
  {
   "cell_type": "code",
   "execution_count": null,
   "metadata": {},
   "outputs": [],
   "source": [
    "df_by_wh = df.groupby(['warehouse_name','day']).agg({'n_success': 'sum', 'n_fail': 'sum'})\n",
    "df_by_wh.reset_index(inplace=True)\n",
    "wh_list = list(df_by_wh[\"warehouse_name\"].unique())\n",
    "# wh_list"
   ]
  },
  {
   "cell_type": "code",
   "execution_count": null,
   "metadata": {},
   "outputs": [],
   "source": [
    "# wh = 'DAILY_REFRESH_WH'\n",
    "# wh = 'DEV_WH'\n",
    "# wh = 'ML_WH'\n",
    "# wh ='PROD_WH'\n",
    "wh = 'Unassigned'\n",
    "df_wh = df_by_wh[df_by_wh[\"warehouse_name\"] == wh]\n",
    "df_wh.reset_index(drop=True,inplace=True)"
   ]
  },
  {
   "cell_type": "code",
   "execution_count": null,
   "metadata": {},
   "outputs": [],
   "source": [
    "trace1 = go.Bar(\n",
    "        x = df_wh['day'],\n",
    "        y = df_wh['n_success'],\n",
    "        name=\"Execution success count\",\n",
    "    )\n",
    "\n",
    "trace2 = go.Bar(\n",
    "        x = df_wh['day'],\n",
    "        y = df_wh['n_fail'],\n",
    "        name=\"Execution fail count\",\n",
    "    )\n",
    "\n",
    "data = [trace1, trace2]\n",
    "\n",
    "layout = go.Layout(\n",
    "    title_text='Query count',\n",
    "    yaxis=dict(\n",
    "        title=\"Count number\",\n",
    "        showgrid=False,\n",
    "    ),\n",
    "     yaxis2=dict(\n",
    "        title=\"Number of times ran\", \n",
    "        overlaying=\"y\",\n",
    "        side=\"right\",\n",
    "        showgrid=False,\n",
    "    ),\n",
    "    xaxis=dict(\n",
    "        title=\"Date (UTC)\"\n",
    "    ),\n",
    "    legend=dict(\n",
    "        yanchor=\"top\",\n",
    "        y=0.99,\n",
    "        xanchor=\"left\",\n",
    "        x=0.99\n",
    "    ),\n",
    "    barmode=\"stack\"\n",
    ")\n",
    "fig = go.Figure(data=data, layout=layout)\n",
    "fig.show()"
   ]
  },
  {
   "attachments": {},
   "cell_type": "markdown",
   "metadata": {},
   "source": [
    "## Most expensive queries"
   ]
  },
  {
   "cell_type": "code",
   "execution_count": null,
   "metadata": {},
   "outputs": [],
   "source": [
    "metric = 'credits'\n",
    "df = qqlib.n_inefficient_queries_v2(sdate,edate,50,metric=metric)\n",
    "print('----------------------------------------------')\n",
    "print(tabulate(df[[\"query_hash\", \"warehouse_name\", \"user_name\", \"credits\"]], headers='keys', tablefmt='rounded_outline', showindex=False))"
   ]
  },
  {
   "attachments": {},
   "cell_type": "markdown",
   "metadata": {},
   "source": [
    "# Most expensive queries by user"
   ]
  },
  {
   "cell_type": "code",
   "execution_count": null,
   "metadata": {},
   "outputs": [],
   "source": [
    "df_user = df.sort_values(by=['user_name', 'credits'], ascending=False)\n",
    "print('----------------------------------------------')\n",
    "print(tabulate(df_user[[\"user_name\", \"query_hash\", \"credits\"]], headers='keys', tablefmt='rounded_outline', showindex=False))"
   ]
  },
  {
   "attachments": {},
   "cell_type": "markdown",
   "metadata": {},
   "source": [
    "# Most expensive queries by warehouse"
   ]
  },
  {
   "cell_type": "code",
   "execution_count": null,
   "metadata": {},
   "outputs": [],
   "source": [
    "df_warehouse = df.sort_values(by=['warehouse_name', 'credits'], ascending=False)\n",
    "print('----------------------------------------------')\n",
    "print(tabulate(df_warehouse[[\"warehouse_name\", \"query_hash\", \"credits\"]], headers='keys', tablefmt='rounded_outline', showindex=False))"
   ]
  },
  {
   "attachments": {},
   "cell_type": "markdown",
   "metadata": {},
   "source": [
    "## Most executed 'select' queries (>5s execution time)"
   ]
  },
  {
   "cell_type": "code",
   "execution_count": null,
   "metadata": {},
   "outputs": [],
   "source": [
    "df=qqlib.n_most_executed_select_queries_v2(sdate,edate,50)\n",
    "print('----------------------------------------------')\n",
    "print(tabulate(df[[\"query_hash\", \"warehouse_name\", \"user_name\", \"number_of_queries\", \"execution_seconds\", \"average_execution_seconds\"]], \n",
    "               headers='keys', tablefmt='rounded_outline', showindex=False))\n"
   ]
  },
  {
   "attachments": {},
   "cell_type": "markdown",
   "metadata": {},
   "source": [
    "# Query hash to query text mapping"
   ]
  },
  {
   "cell_type": "code",
   "execution_count": null,
   "metadata": {},
   "outputs": [],
   "source": [
    "print('----------------------------------------------')\n",
    "print(tabulate(df[[\"query_hash\", \"query_text\"]], headers='keys', tablefmt='rounded_outline', showindex=False))"
   ]
  },
  {
   "cell_type": "code",
   "execution_count": null,
   "metadata": {},
   "outputs": [],
   "source": []
  }
 ],
 "metadata": {
  "hide_input": false,
  "kernelspec": {
   "display_name": "optiml",
   "language": "python",
   "name": "python3"
  },
  "language_info": {
   "codemirror_mode": {
    "name": "ipython",
    "version": 3
   },
   "file_extension": ".py",
   "mimetype": "text/x-python",
   "name": "python",
   "nbconvert_exporter": "python",
   "pygments_lexer": "ipython3",
   "version": "3.9.15"
  },
  "vscode": {
   "interpreter": {
    "hash": "fcbd4ad66d969ea49516a1cf27383420b67e9e950ebdd1bbb64e01b736f968b6"
   }
  }
 },
 "nbformat": 4,
 "nbformat_minor": 2
}
