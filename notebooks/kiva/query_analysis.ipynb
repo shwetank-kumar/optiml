{
 "cells": [
  {
   "cell_type": "code",
   "execution_count": null,
   "metadata": {},
   "outputs": [],
   "source": [
    "# Adding system path\n",
    "import sys, pathlib\n",
    "sys.path.append(str(pathlib.Path.cwd().parent.parent))\n",
    "# sys.path"
   ]
  },
  {
   "cell_type": "code",
   "execution_count": null,
   "metadata": {},
   "outputs": [],
   "source": [
    "# Set to show warnings only once\n",
    "import warnings\n",
    "warnings.filterwarnings('ignore')"
   ]
  },
  {
   "cell_type": "code",
   "execution_count": null,
   "metadata": {},
   "outputs": [],
   "source": [
    "# Setting up displays\n",
    "from IPython.display import display, HTML\n",
    "display(HTML(\"<style>.container { width:100% !important; }</style>\"))\n",
    "# from dash import Dash,html,dcc,Input,Output\n",
    "# app = Dash(__name__)\n",
    "import pandas as pd\n",
    "pd.set_option('display.max_rows', 500)\n",
    "pd.set_option('display.max_columns', 500)\n",
    "\n",
    "import plotly.express as px\n",
    "import plotly.graph_objects as go\n",
    "from plotly.subplots import make_subplots\n",
    "from tabulate import tabulate\n",
    "color_scheme=[\"red\",\"blue\",\"green\",\"orange\",\"purple\",\"brown\",\"pink\",\"gray\",\"olive\",\"cyan\",\"darkviolet\",\"goldenrod\",\"darkgreen\",\"chocolate\",\"lawngreen\"]"
   ]
  },
  {
   "cell_type": "code",
   "execution_count": null,
   "metadata": {},
   "outputs": [],
   "source": [
    "# from dash import Dash,html,dcc"
   ]
  },
  {
   "cell_type": "code",
   "execution_count": null,
   "metadata": {},
   "outputs": [],
   "source": [
    "# ##center allign all the figure outputs.\n",
    "# from plotly.offline import download_plotlyjs, init_notebook_mode, plot, iplot\n",
    "# from IPython.display import display, HTML\n",
    "# from plotly.graph_objs import *\n",
    "# import numpy as np\n",
    "# init_notebook_mode(connected=True)\n",
    "\n",
    "# display(HTML(\"\"\"\n",
    "# <style>\n",
    "# .output {\n",
    "#     display: flex;\n",
    "#     align-items: center;\n",
    "#     text-align: center;\n",
    "# }\n",
    "# </style>\n",
    "# \"\"\"))"
   ]
  },
  {
   "cell_type": "code",
   "execution_count": null,
   "metadata": {},
   "outputs": [],
   "source": [
    "# Setting up autoreload for libs\n",
    "%load_ext autoreload\n",
    "%autoreload 2\n",
    "%aimport optiml.queries"
   ]
  },
  {
   "cell_type": "code",
   "execution_count": null,
   "metadata": {},
   "outputs": [],
   "source": [
    "# Initialize connection to Snowflake and set analysis date\n",
    "from optiml.connection import SnowflakeConnConfig\n",
    "connection = SnowflakeConnConfig(accountname='jg84276.us-central1.gcp',warehousename=\"XSMALL_WH\").create_connection()\n",
    "# Initialize local environment\n",
    "import os\n",
    "cache_dir = os.path.expanduser('~/data/kiva')\n",
    "# Initialize query library\n",
    "from optiml.queries import SNFLKQuery\n",
    "qlib = SNFLKQuery(connection, 'KIV', cache_dir)\n",
    "sdate = '2022-10-01'\n",
    "edate = '2022-10-31'\n",
    "print(f\"The analysis is carried our for date range {sdate} to {edate}\")"
   ]
  },
  {
   "cell_type": "markdown",
   "metadata": {},
   "source": [
    "# Query Analysis"
   ]
  },
  {
   "cell_type": "markdown",
   "metadata": {},
   "source": [
    "## Most expensive queries"
   ]
  },
  {
   "cell_type": "code",
   "execution_count": null,
   "metadata": {},
   "outputs": [],
   "source": [
    "df=qlib.n_expensive_queries(sdate,edate,5)\n",
    "# df.to_csv('/home/manas/DS_data/most_expensive.csv')\n",
    "df.head()"
   ]
  },
  {
   "cell_type": "code",
   "execution_count": null,
   "metadata": {},
   "outputs": [],
   "source": [
    "## Most expensive queries\n",
    "\n",
    "trace1  = go.Scatter(\n",
    "        mode='lines+markers',\n",
    "        x = df['query_id'],\n",
    "        y = df['credits'],\n",
    "        name=\"Credits\",\n",
    "        marker_color='crimson'\n",
    "    )\n",
    "\n",
    "# trace2 = go.Bar(\n",
    "#         x = df['query_id'],\n",
    "#         y = df['warehouse_size'],\n",
    "#         name=\"warehouse size\",\n",
    "#         yaxis='y2',\n",
    "#         marker_color ='green',\n",
    "#         marker_line_width=1.5,\n",
    "#         marker_line_color='rgb(8,48,107)',\n",
    "#         opacity=0.5\n",
    "#     )\n",
    "\n",
    "# data = [trace1, trace2]\n",
    "data = [trace1]\n",
    "\n",
    "layout = go.Layout(\n",
    "    title_text='Most expensive queries',\n",
    "    yaxis=dict(\n",
    "        # range = [0, 100],\n",
    "        title=\"Credits\"\n",
    "    ),\n",
    "    xaxis=dict(\n",
    "        title=\"Query ID\"\n",
    "    )\n",
    ")\n",
    "fig = go.Figure(data=data, layout=layout)\n",
    "fig.show()"
   ]
  },
  {
   "attachments": {},
   "cell_type": "markdown",
   "metadata": {},
   "source": [
    "* Cost of running a query depends on the time to execute the query and the warehouse it is run on.\n",
    "* Best practice to optimize would be to either reduce the execution time of the query or use efficient virtual warehouse practices.\n",
    "* Establishing resource monitors to estimate credit usage would be beneficial."
   ]
  },
  {
   "cell_type": "markdown",
   "metadata": {},
   "source": [
    "### Query text"
   ]
  },
  {
   "cell_type": "markdown",
   "metadata": {},
   "source": [
    "#### Query 1"
   ]
  },
  {
   "cell_type": "code",
   "execution_count": null,
   "metadata": {},
   "outputs": [],
   "source": [
    "print(df.iloc[0][\"query_text\"])"
   ]
  },
  {
   "attachments": {},
   "cell_type": "markdown",
   "metadata": {},
   "source": [
    "### ANALYSIS\n",
    "\n",
    "* Has an execution time of 670 mins.\n",
    "* SELECT statement\n",
    "* Multiple JOIN statements in query.\n",
    "* Most partitions are scanned.\n",
    "* Executed using a SMALL warehouse.\n",
    "* Scans 6.3 GB of data\n",
    "* Scans 91% of data from cache\n"
   ]
  },
  {
   "cell_type": "markdown",
   "metadata": {},
   "source": [
    "#### Query 2"
   ]
  },
  {
   "cell_type": "code",
   "execution_count": null,
   "metadata": {},
   "outputs": [],
   "source": [
    "print(df.iloc[1][\"query_text\"])"
   ]
  },
  {
   "attachments": {},
   "cell_type": "markdown",
   "metadata": {},
   "source": [
    "### ANALYSIS\n",
    "* Execution time of 357 mins.\n",
    "* FAILED query.\n",
    "* Large number of bytes are spilled to both local (4719 GB) and remote (4491 GB) storage.\n",
    "* Multiple JOIN statements in query.\n",
    "* Most partitions are scanned.\n",
    "* Executed using SMALL warehouse.\n",
    "* Scans 83% of the data from cache.\n",
    "\n"
   ]
  },
  {
   "cell_type": "markdown",
   "metadata": {},
   "source": [
    "#### Query 3"
   ]
  },
  {
   "cell_type": "code",
   "execution_count": null,
   "metadata": {},
   "outputs": [],
   "source": [
    "print(df.iloc[2][\"query_text\"])"
   ]
  },
  {
   "attachments": {},
   "cell_type": "markdown",
   "metadata": {},
   "source": [
    "### ANALYIS\n",
    "* Same query ran multiple times.\n",
    "* UPDATE query\n",
    "* Has execution time of 37 mins.\n",
    "* Execution time remains constant.\n",
    "* 146 GB of bytes scanned\n",
    "* Scans 63% of total partitions\n",
    "* Only 10% of data from cache is scanned."
   ]
  },
  {
   "attachments": {},
   "cell_type": "markdown",
   "metadata": {},
   "source": [
    "### OPTIML RECOMMENDATIONS\n",
    "\n",
    "* PROD_WH can be scaled out as multicluster as large amount of data is being computed with several users using them.\n",
    "* Defining clustering keys will help with reducing number of partitions in the table being scanned.\n",
    "* Scaling up is also required for PROD_WH as bytes are being spilled causing failure of query.\n",
    "* Update query not being cached enough, therefore autosuspension happens too quickly or cache needs to be built before running this query.\n",
    "* Optimizing SELECT query by eliminating multiple JOINS, SELECT clauses."
   ]
  },
  {
   "cell_type": "markdown",
   "metadata": {},
   "source": [
    "## Queries that spill to storage"
   ]
  },
  {
   "cell_type": "code",
   "execution_count": null,
   "metadata": {},
   "outputs": [],
   "source": [
    "df=qlib.n_queries_spill_to_storage(sdate,edate,5)\n",
    "df.head()\n",
    "\n",
    "\n"
   ]
  },
  {
   "cell_type": "code",
   "execution_count": null,
   "metadata": {},
   "outputs": [],
   "source": [
    "## Most expensive queries\n",
    "\n",
    "trace1  = go.Scatter(\n",
    "        mode='lines+markers',\n",
    "        x = df['query_id'],\n",
    "        y = df['bytes_spilled_to_remote_storage'],\n",
    "        name=\"Bytes Spilled Remote\",\n",
    "        marker_color='crimson'\n",
    "    )\n",
    "\n",
    "trace2  = go.Scatter(\n",
    "        mode='lines+markers',\n",
    "        x = df['query_id'],\n",
    "        y = df['bytes_spilled_to_local_storage'],\n",
    "        name=\"Bytes Spilled Local\",\n",
    "        marker_color='purple'\n",
    "    )\n",
    "\n",
    "\n",
    "data = [trace1, trace2]\n",
    "\n",
    "\n",
    "layout = go.Layout(\n",
    "    title_text='Queries that spilled the most to storage',\n",
    "    yaxis=dict(\n",
    "        # range = [0, 100],\n",
    "        side = 'left',\n",
    "        title=\"Bytes spilled\"\n",
    "        \n",
    "    ),\n",
    "    xaxis=dict(\n",
    "        title=\"Query ID\"\n",
    "\n",
    "    )\n",
    ")\n",
    "fig = go.Figure(data=data, layout=layout)\n",
    "fig.show()"
   ]
  },
  {
   "cell_type": "markdown",
   "metadata": {},
   "source": [
    "### Query text"
   ]
  },
  {
   "cell_type": "markdown",
   "metadata": {},
   "source": [
    "#### Query 1"
   ]
  },
  {
   "cell_type": "code",
   "execution_count": null,
   "metadata": {},
   "outputs": [],
   "source": [
    "print(df.iloc[0][\"query_text\"])"
   ]
  },
  {
   "cell_type": "markdown",
   "metadata": {},
   "source": [
    "#### Query 2"
   ]
  },
  {
   "cell_type": "code",
   "execution_count": null,
   "metadata": {},
   "outputs": [],
   "source": [
    "print(df.iloc[1][\"query_text\"])"
   ]
  },
  {
   "cell_type": "markdown",
   "metadata": {},
   "source": [
    "#### Query 3"
   ]
  },
  {
   "cell_type": "code",
   "execution_count": null,
   "metadata": {},
   "outputs": [],
   "source": [
    "print(df.iloc[2][\"query_text\"])"
   ]
  },
  {
   "cell_type": "markdown",
   "metadata": {},
   "source": [
    "### ANALYSIS\n",
    "\n",
    "<div class=\"alert alert-info\">\n",
    "\n",
    " Queries 1,2 and 3 fail after execution time for each being 29 minutes.\n",
    "* Query 1 (query_id: 01a78b77-0604-f44d-0000-08d15ddd870e) - 300 GB spilling to local storage and 200 GB to remote storage.\n",
    "* Query 2 (query_id: 01a78b55-0604-f44e-0000-08d15ddd55da) - 170 GB splilling to local storge and 90 GB to remote.\n",
    "* Query 3 (query_id: 01a78b55-0604-f44e-0000-08d15ddd55d6) - 245 GB spilling to local and 78 GB to remote storage.\n",
    "\n",
    "Most partitions are scanned in the table for these 3 queries.\n",
    "There are also multiple join and select statements for each query.\n",
    "</div>\n",
    "\n",
    "\n"
   ]
  },
  {
   "cell_type": "markdown",
   "metadata": {},
   "source": [
    "### Optiml TODO\n",
    "\n"
   ]
  },
  {
   "cell_type": "markdown",
   "metadata": {},
   "source": [
    "<div class=\"alert alert-warning\">\n",
    "    \n",
    "* Check if best virtual warehouse practices can be applied to most queries in this warehouse\n",
    "</div>"
   ]
  },
  {
   "cell_type": "markdown",
   "metadata": {},
   "source": [
    "### Optiml Recommendation\n",
    "\n"
   ]
  },
  {
   "cell_type": "markdown",
   "metadata": {},
   "source": [
    "\n",
    "<div class=\"alert alert-success\">\n",
    "\n",
    "* Utilize a larger warehouse - Warehouse sizes of Xsmall and Small are used. 100's of GB are spilled due to insufficient resources. \n",
    "\n",
    "* Optimize the query - Reducing the number of JOINS, SELECT and UNION statements would improve the performance.\n",
    "\n",
    "* Reduce the data that is being processed (Ex: Redunant columns used in computation).\n",
    "\n",
    "* Split processing into multiple steps."
   ]
  },
  {
   "cell_type": "markdown",
   "metadata": {},
   "source": [
    "## Queries that scanned the most data"
   ]
  },
  {
   "cell_type": "code",
   "execution_count": null,
   "metadata": {},
   "outputs": [],
   "source": [
    "df=qlib.n_queries_scanned_most_data(sdate,edate,5)\n",
    "df.head() "
   ]
  },
  {
   "cell_type": "code",
   "execution_count": null,
   "metadata": {},
   "outputs": [],
   "source": [
    "##TODO: Put labels on the axis\n",
    "## Queries that scanned most data\n",
    "\n",
    "trace1  = go.Scatter(\n",
    "        mode='lines+markers',\n",
    "        x = df['query_id'],\n",
    "        y = df['partitions_scanned'],\n",
    "        name=\"Partitions Scanned\",\n",
    "        marker_color='crimson'\n",
    "    )\n",
    "\n",
    "data = [trace1]\n",
    "\n",
    "layout = go.Layout(\n",
    "    title_text='Queries that scanned the most partitions',\n",
    "    yaxis=dict(\n",
    "        # range = [0, 100],\n",
    "        side = 'left',\n",
    "        title=\"Bytes spilled\"\n",
    "        \n",
    "    ),\n",
    "    xaxis=dict(\n",
    "        title=\"Query ID\"\n",
    "\n",
    "    )\n",
    "    \n",
    ")\n",
    "fig = go.Figure(data=data, layout=layout)\n",
    "fig.show()"
   ]
  },
  {
   "cell_type": "markdown",
   "metadata": {},
   "source": [
    "### Query text"
   ]
  },
  {
   "cell_type": "markdown",
   "metadata": {},
   "source": [
    "#### Query 1"
   ]
  },
  {
   "cell_type": "code",
   "execution_count": null,
   "metadata": {},
   "outputs": [],
   "source": [
    "print(df.iloc[0][\"query_text\"])"
   ]
  },
  {
   "cell_type": "markdown",
   "metadata": {},
   "source": [
    "### ANALYSIS"
   ]
  },
  {
   "cell_type": "markdown",
   "metadata": {},
   "source": [
    "* Inadequte pruning is observed. 99% of the partitions on the table are scanned.\n",
    "* Execution time is 3.5 minutes.\n",
    "* 2 GB is spilled onto local storage"
   ]
  },
  {
   "cell_type": "markdown",
   "metadata": {},
   "source": [
    "#### Query 2"
   ]
  },
  {
   "cell_type": "code",
   "execution_count": null,
   "metadata": {},
   "outputs": [],
   "source": [
    "print(df.iloc[1][\"query_text\"])"
   ]
  },
  {
   "cell_type": "markdown",
   "metadata": {},
   "source": [
    "### ANALYSIS"
   ]
  },
  {
   "cell_type": "markdown",
   "metadata": {},
   "source": [
    "* Inadequte pruning is observed. 99% of the partitions on the table are scanned.\n",
    "* Execution time is 7.7 minutes.\n",
    "* 16.9 GB is spilled onto local storage."
   ]
  },
  {
   "cell_type": "markdown",
   "metadata": {},
   "source": [
    "#### Query 3"
   ]
  },
  {
   "cell_type": "code",
   "execution_count": null,
   "metadata": {},
   "outputs": [],
   "source": [
    "print(df.iloc[2][\"query_text\"])"
   ]
  },
  {
   "cell_type": "markdown",
   "metadata": {},
   "source": [
    "### ANALYSIS"
   ]
  },
  {
   "cell_type": "markdown",
   "metadata": {},
   "source": [
    "* Inadequte pruning is observed. 99% of the partitions on the table are scanned.\n",
    "* Execution time is 3.5 minutes.\n",
    "* 2 GB is spilled onto local storage."
   ]
  },
  {
   "cell_type": "markdown",
   "metadata": {},
   "source": [
    "### OPTIML Recommendations"
   ]
  },
  {
   "cell_type": "markdown",
   "metadata": {},
   "source": [
    "* Queries are the same.\n",
    "* Cluster keys can be defined to reduce partitions scanned. \n",
    "* Choose cluster key that appears frequently in a WHERE clause\n",
    "* Scaling up warehouse would reduce bytes splilling to local storage\n",
    "* Query can be optimized by reducing number of JOIN statements, eliminating redundant SELECT statements and using DISTINCT clauses."
   ]
  },
  {
   "cell_type": "markdown",
   "metadata": {},
   "source": [
    "## Most cached queries"
   ]
  },
  {
   "cell_type": "code",
   "execution_count": null,
   "metadata": {},
   "outputs": [],
   "source": [
    "df=qlib.n_most_cached_queries(sdate,edate,5)\n",
    "df.head() \n"
   ]
  },
  {
   "cell_type": "code",
   "execution_count": null,
   "metadata": {},
   "outputs": [],
   "source": [
    "## Queries that scanned the most from cache\n",
    "\n",
    "trace1  = go.Scatter(\n",
    "        mode='lines+markers',\n",
    "        x = df['query_id'],\n",
    "        y = df['percent_scanned_from_cache'],\n",
    "        name=\"Percent Scanned From Cache\",\n",
    "        marker_color='crimson'\n",
    "    )\n",
    "\n",
    "data = [trace1]\n",
    "\n",
    "layout = go.Layout(\n",
    "    title_text='Queries that scanned the most percent from cache',\n",
    "    yaxis=dict(\n",
    "        # range = [0, 100],\n",
    "        side = 'left',\n",
    "        title=\"Percent Scanned From Cache\"\n",
    "        \n",
    "    ),\n",
    "    xaxis=dict(\n",
    "        title=\"Query ID\"\n",
    "\n",
    "    )\n",
    ")\n",
    "fig = go.Figure(data=data, layout=layout)\n",
    "fig.show()"
   ]
  },
  {
   "cell_type": "markdown",
   "metadata": {},
   "source": [
    "#### Query 1"
   ]
  },
  {
   "cell_type": "code",
   "execution_count": null,
   "metadata": {},
   "outputs": [],
   "source": [
    "print(df.iloc[2][\"query_text\"])"
   ]
  },
  {
   "cell_type": "markdown",
   "metadata": {},
   "source": [
    "#### Query 2"
   ]
  },
  {
   "cell_type": "code",
   "execution_count": null,
   "metadata": {},
   "outputs": [],
   "source": [
    "print(df.iloc[1][\"query_text\"])"
   ]
  },
  {
   "cell_type": "markdown",
   "metadata": {},
   "source": [
    "#### Query 3"
   ]
  },
  {
   "cell_type": "code",
   "execution_count": null,
   "metadata": {},
   "outputs": [],
   "source": [
    "print(df.iloc[2][\"query_text\"])"
   ]
  },
  {
   "cell_type": "markdown",
   "metadata": {},
   "source": [
    "## Most executed 'select' queries -- update this for select statements"
   ]
  },
  {
   "cell_type": "code",
   "execution_count": null,
   "metadata": {},
   "outputs": [],
   "source": [
    "df=qlib.n_most_executed_select_queries(sdate,edate,10)\n",
    "# df.to_csv(\"/home/manas/DS_data/most_executed_select.csv\")\n",
    "df.head() \n",
    "\n"
   ]
  },
  {
   "cell_type": "markdown",
   "metadata": {},
   "source": []
  },
  {
   "cell_type": "code",
   "execution_count": null,
   "metadata": {},
   "outputs": [],
   "source": [
    "## Queries that scanned the most from cache\n",
    "\n",
    "trace1  = go.Scatter(\n",
    "        mode='lines+markers',\n",
    "        x = df.index,\n",
    "        y = df['number_of_times_executed'],\n",
    "        name=\"Number of times executed\",\n",
    "        marker_color='crimson'\n",
    "    )\n",
    "\n",
    "data = [trace1]\n",
    "\n",
    "layout = go.Layout(\n",
    "    title_text='Queries that were executed the most number of times',\n",
    "    yaxis=dict(\n",
    "        # range = [0, 100],\n",
    "        side = 'left',\n",
    "        title=\"Number of times executed\"\n",
    "        \n",
    "    ),\n",
    "    xaxis=dict(\n",
    "        title=\"Query ID\"\n",
    "\n",
    "    )\n",
    ")\n",
    "fig = go.Figure(data=data, layout=layout)\n",
    "fig.show()"
   ]
  },
  {
   "cell_type": "markdown",
   "metadata": {},
   "source": [
    "#### Query 1"
   ]
  },
  {
   "cell_type": "code",
   "execution_count": null,
   "metadata": {},
   "outputs": [],
   "source": [
    "\n",
    "print(df.iloc[0][\"query_text\"])"
   ]
  },
  {
   "cell_type": "markdown",
   "metadata": {},
   "source": [
    "#### Query 2"
   ]
  },
  {
   "cell_type": "code",
   "execution_count": null,
   "metadata": {},
   "outputs": [],
   "source": [
    "print(df.iloc[1][\"query_text\"])"
   ]
  },
  {
   "cell_type": "markdown",
   "metadata": {},
   "source": [
    "#### Query 3"
   ]
  },
  {
   "cell_type": "code",
   "execution_count": null,
   "metadata": {},
   "outputs": [],
   "source": [
    "print(df.iloc[3][\"query_text\"])"
   ]
  },
  {
   "attachments": {},
   "cell_type": "markdown",
   "metadata": {},
   "source": [
    "### ANALYSIS\n",
    "* Query 1 was executed 116028 in 30 days\n",
    "* Query 2 was executed 19770 in 30 days\n",
    "* Query 3 was executed 13815 in 30 days."
   ]
  },
  {
   "attachments": {},
   "cell_type": "markdown",
   "metadata": {},
   "source": [
    "### OPTIML Recommendations\n",
    "* Can convert SELECT Queries as Materialized Views"
   ]
  },
  {
   "attachments": {},
   "cell_type": "markdown",
   "metadata": {},
   "source": [
    "## MOST EXECUTED QUERIES\n"
   ]
  },
  {
   "cell_type": "code",
   "execution_count": null,
   "metadata": {},
   "outputs": [],
   "source": [
    "df=qlib.caching_warehouse(sdate,edate,5)\n",
    "df.head()"
   ]
  },
  {
   "cell_type": "markdown",
   "metadata": {},
   "source": [
    "## LONGEST RUNNING QUERIES"
   ]
  },
  {
   "cell_type": "code",
   "execution_count": null,
   "metadata": {},
   "outputs": [],
   "source": [
    "df=qlib.longest_running_queries(sdate,edate,5)\n",
    "df.head()"
   ]
  },
  {
   "cell_type": "markdown",
   "metadata": {},
   "source": [
    "#### QUERY 1"
   ]
  },
  {
   "cell_type": "code",
   "execution_count": null,
   "metadata": {},
   "outputs": [],
   "source": [
    "print(df.iloc[0][\"query_text\"])"
   ]
  },
  {
   "cell_type": "markdown",
   "metadata": {},
   "source": [
    "#### QUERY 2"
   ]
  },
  {
   "cell_type": "code",
   "execution_count": null,
   "metadata": {},
   "outputs": [],
   "source": [
    "print(df.iloc[1][\"query_text\"])"
   ]
  },
  {
   "cell_type": "markdown",
   "metadata": {},
   "source": [
    "#### QUERY 3"
   ]
  },
  {
   "cell_type": "code",
   "execution_count": null,
   "metadata": {},
   "outputs": [],
   "source": [
    "print(df.iloc[2][\"query_text\"])"
   ]
  },
  {
   "cell_type": "markdown",
   "metadata": {},
   "source": [
    "### ANALYSIS"
   ]
  },
  {
   "cell_type": "markdown",
   "metadata": {},
   "source": [
    "* Queries are the same.\n",
    "* Updating event query.\n",
    "* Execution time for query is approximately 135 minutes.\n",
    "* 65% of total partitions of table are scanned.\n",
    "* No spillage onto local or remote storage.\n",
    "* No Query overloading.\n"
   ]
  },
  {
   "cell_type": "markdown",
   "metadata": {},
   "source": [
    "### OPTIML to do"
   ]
  },
  {
   "cell_type": "markdown",
   "metadata": {},
   "source": [
    "* Need to run update query to see if performance tuning can be done."
   ]
  },
  {
   "cell_type": "markdown",
   "metadata": {},
   "source": [
    "### OPTIML Recommendations\n",
    "* Cluster keys can be defined to reduce execution time. WHERE clause present in query can be utilized.\n",
    "* Warehouse scaling up won't help with performance.\n"
   ]
  },
  {
   "cell_type": "markdown",
   "metadata": {},
   "source": [
    "# Notes\n",
    "\n",
    "* For most expensive queries i.e. consuming most credits steps are:\n",
    "  * Look at the amount of data the queries are operating on to see if it passes the sniff test\n",
    "  * Idenitfy causes of credit consumption e.g. using INSERT instead of COPY_TO"
   ]
  },
  {
   "cell_type": "code",
   "execution_count": null,
   "metadata": {},
   "outputs": [],
   "source": []
  },
  {
   "cell_type": "code",
   "execution_count": null,
   "metadata": {},
   "outputs": [],
   "source": []
  }
 ],
 "metadata": {
  "kernelspec": {
   "display_name": "Python 3 (ipykernel)",
   "language": "python",
   "name": "python3"
  },
  "language_info": {
   "codemirror_mode": {
    "name": "ipython",
    "version": 3
   },
   "file_extension": ".py",
   "mimetype": "text/x-python",
   "name": "python",
   "nbconvert_exporter": "python",
   "pygments_lexer": "ipython3",
   "version": "3.8.2"
  },
  "vscode": {
   "interpreter": {
    "hash": "ba286fab723f3beadf2310fa20d811dff5d5606e9e08a95b52f51185bcb3e19b"
   }
  }
 },
 "nbformat": 4,
 "nbformat_minor": 2
}
