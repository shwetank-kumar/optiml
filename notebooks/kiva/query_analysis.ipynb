{
 "cells": [
  {
   "cell_type": "code",
   "execution_count": null,
   "metadata": {},
   "outputs": [],
   "source": [
    "%%javascript\n",
    "IPython.OutputArea.prototype._should_scroll = function(lines) {\n",
    "    return false;\n",
    "}"
   ]
  },
  {
   "cell_type": "code",
   "execution_count": null,
   "metadata": {},
   "outputs": [],
   "source": [
    "# Adding system path\n",
    "import sys, pathlib, os\n",
    "sys.path.append(str(pathlib.Path.cwd().parent.parent))\n",
    "# sys.path"
   ]
  },
  {
   "cell_type": "code",
   "execution_count": null,
   "metadata": {},
   "outputs": [],
   "source": [
    "# Set to show warnings only once\n",
    "import warnings\n",
    "warnings.filterwarnings('ignore')"
   ]
  },
  {
   "cell_type": "code",
   "execution_count": null,
   "metadata": {},
   "outputs": [],
   "source": [
    "## Setup connection to DWH\n",
    "# customer = 'KIVA'\n",
    "# schema = 'KIVA_PROD.OPTIML'\n",
    "customer = 'OPTIML' # Use this for testing\n",
    "schema = 'KIV.ACCOUNT_USAGE' # Use this for testing\n",
    "username = customer + '_USERNAME'\n",
    "password = customer + '_PASSWORD'\n",
    "account = customer + '_ACCOUNT'\n",
    "\n",
    "user = os.getenv(username)\n",
    "password = os.getenv(password)\n",
    "account = os.getenv(account)"
   ]
  },
  {
   "cell_type": "code",
   "execution_count": null,
   "metadata": {},
   "outputs": [],
   "source": [
    "## Setup pandas\n",
    "import pandas as pd\n",
    "pd.set_option('display.max_rows', 500)\n",
    "pd.set_option('display.max_columns', 500)\n",
    "\n",
    "import numpy as np\n",
    "\n",
    "import plotly.express as px\n",
    "import plotly.graph_objects as go\n",
    "from plotly.subplots import make_subplots\n",
    "from tabulate import tabulate\n",
    "color_scheme=[\"red\",\"blue\",\"green\",\"orange\",\"purple\",\"brown\",\"pink\",\"gray\",\"olive\",\"cyan\",\"darkviolet\",\"goldenrod\",\"darkgreen\",\"chocolate\",\"lawngreen\"]"
   ]
  },
  {
   "cell_type": "code",
   "execution_count": null,
   "metadata": {},
   "outputs": [],
   "source": [
    "# Initialize connection to Snowflake and set analysis date\n",
    "from optiml.connection import SnowflakeConnConfig\n",
    "# connection = SnowflakeConnConfig(accountname='jg84276.us-central1.gcp',warehousename=\"XSMALL_WH\").create_connection()\n",
    "connection = SnowflakeConnConfig(username=user,password=password,accountname=account).create_connection()\n",
    "\n",
    "# Initialize query library\n",
    "from optiml.backend.query_profile import QueryProfile\n",
    "from optiml.backend.cost_profile import CostProfile, get_previous_dates\n",
    "qqlib = QueryProfile(connection, schema)\n",
    "cqlib = CostProfile(connection, schema)\n",
    "\n",
    "# Initialize dates\n",
    "import datetime \n",
    "# edate = datetime.date.today() - datetime.timedelta(days=1)\n",
    "# sdate = edate - datetime.timedelta(days=6)\n",
    "edate = datetime.datetime.strptime('2022-10-12', '%Y-%m-%d').date()\n",
    "sdate = datetime.datetime.strptime('2022-10-05', '%Y-%m-%d').date()\n",
    "print('Customer:', customer)\n",
    "print('Schema:', schema)\n",
    "print(str(sdate), str(edate))"
   ]
  },
  {
   "cell_type": "code",
   "execution_count": null,
   "metadata": {},
   "outputs": [],
   "source": [
    "# Setting up autoreload for libs\n",
    "%load_ext autoreload\n",
    "%autoreload 2\n",
    "%aimport optiml.backend.query_profile"
   ]
  },
  {
   "cell_type": "markdown",
   "metadata": {},
   "source": [
    "# Query Analysis"
   ]
  },
  {
   "cell_type": "markdown",
   "metadata": {},
   "source": [
    "## Failures"
   ]
  },
  {
   "cell_type": "markdown",
   "metadata": {},
   "source": [
    "### Total by day"
   ]
  },
  {
   "cell_type": "code",
   "execution_count": null,
   "metadata": {},
   "outputs": [],
   "source": [
    "df = qqlib.queries_stats_by_execution_status(sdate,edate)\n",
    "# df.head()"
   ]
  },
  {
   "cell_type": "code",
   "execution_count": null,
   "metadata": {},
   "outputs": [],
   "source": [
    "df_by_day = df.groupby(['day']).agg({'n_success': 'sum', 'n_fail': 'sum', 'credits_success': 'sum', 'credits_fail': 'sum'}).reset_index()\n"
   ]
  },
  {
   "cell_type": "code",
   "execution_count": null,
   "metadata": {},
   "outputs": [],
   "source": [
    "trace1 = go.Bar(\n",
    "        x = df_by_day['day'],\n",
    "        y = df_by_day['n_fail'],\n",
    "        name=\"Execution fail count\",\n",
    "    )\n",
    "\n",
    "\n",
    "trace2  = go.Scatter(\n",
    "        mode='lines+markers',\n",
    "        x = df_by_day['day'],\n",
    "        y = df_by_day['credits_fail'],\n",
    "        name=\"Credits\",\n",
    "        yaxis='y2',\n",
    "    )\n",
    "\n",
    "data = [trace1, trace2]\n",
    "\n",
    "\n",
    "layout = go.Layout(\n",
    "    title_text='Query fails and credits per day',\n",
    "    yaxis=dict(\n",
    "        title=\"Count number\",\n",
    "        showgrid=False,\n",
    "    ),\n",
    "     yaxis2=dict(\n",
    "        title=\"Credits\", \n",
    "        overlaying=\"y\",\n",
    "        side=\"right\",\n",
    "        showgrid=False,\n",
    "    ),\n",
    "    xaxis=dict(\n",
    "        title=\"Date (UTC)\"\n",
    "    ),\n",
    "    legend=dict(\n",
    "        yanchor=\"top\",\n",
    "        y=0.99,\n",
    "        xanchor=\"left\",\n",
    "        x=0.99\n",
    "    ),\n",
    "    barmode=\"stack\"\n",
    ")\n",
    "fig = go.Figure(data=data, layout=layout)\n",
    "fig.show()"
   ]
  },
  {
   "cell_type": "code",
   "execution_count": null,
   "metadata": {},
   "outputs": [],
   "source": [
    "total_success = sum(df_by_day['n_success'])\n",
    "total_fail = sum(df_by_day['n_fail'])\n",
    "pct_fail = round(total_fail/(total_fail + total_success) * 100,2)\n",
    "credits_success = round(sum(df_by_day['credits_success']),2)\n",
    "credits_fail = sum(df_by_day['credits_fail'])\n",
    "pct_credits_fail = round(credits_fail/(credits_fail + credits_success) * 100,2)\n",
    "print('Summary Stats: Credits and counts')\n",
    "print('---------------------------------')\n",
    "print('Number of queries that ran to success: ', total_success)\n",
    "print('Number of queries that ran to failure: ', total_fail)\n",
    "print('% failed queries: ', pct_fail)\n",
    "print('Credits used by queries that ran to success: ', credits_success)\n",
    "print('Credits used by queries that ran to failure: ', credits_fail)\n",
    "print('% credits due to failed queries: ', pct_credits_fail)\n",
    "print('Credits per successful query: ', round(credits_success/total_success,4))\n",
    "print('Credits per failed query: ', round(credits_fail/total_fail,4))"
   ]
  },
  {
   "cell_type": "markdown",
   "metadata": {},
   "source": [
    "### By warehouse by day"
   ]
  },
  {
   "cell_type": "code",
   "execution_count": null,
   "metadata": {},
   "outputs": [],
   "source": [
    "df_by_wh = df.groupby([\"warehouse_name\", \"day\"]).agg({'n_success': 'sum', 'n_fail': 'sum', 'credits_success': 'sum', 'credits_fail': 'sum'}).reset_index()"
   ]
  },
  {
   "cell_type": "code",
   "execution_count": null,
   "metadata": {},
   "outputs": [],
   "source": [
    "fig = px.bar(df_by_wh, x=\"day\", y=\"n_fail\", color=\"warehouse_name\", title=\"Number failed by warehouse\")\n",
    "fig.show()"
   ]
  },
  {
   "cell_type": "code",
   "execution_count": null,
   "metadata": {},
   "outputs": [],
   "source": [
    "fig = px.bar(df_by_wh, x=\"day\", y=\"credits_fail\", color=\"warehouse_name\", title=\"Credits failed by warehouse\")\n",
    "fig.show()"
   ]
  },
  {
   "cell_type": "markdown",
   "metadata": {},
   "source": [
    "### By user by day"
   ]
  },
  {
   "cell_type": "code",
   "execution_count": null,
   "metadata": {},
   "outputs": [],
   "source": [
    "df_by_user = df.groupby([\"user_name\", \"day\"]).agg({'n_success': 'sum', 'n_fail': 'sum', 'credits_success': 'sum', 'credits_fail': 'sum'}).reset_index()"
   ]
  },
  {
   "cell_type": "code",
   "execution_count": null,
   "metadata": {},
   "outputs": [],
   "source": [
    "fig = px.bar(df_by_user, x=\"day\", y=\"n_fail\", color=\"user_name\", title=\"Number failed by user\")\n",
    "fig.show()"
   ]
  },
  {
   "cell_type": "code",
   "execution_count": null,
   "metadata": {},
   "outputs": [],
   "source": [
    "fig = px.bar(df_by_user, x=\"day\", y=\"credits_fail\", color=\"user_name\", title=\"Credits failed by user\")\n",
    "fig.show()"
   ]
  },
  {
   "cell_type": "markdown",
   "metadata": {},
   "source": [
    "### Top 10 expensive failing queries of past week"
   ]
  },
  {
   "cell_type": "code",
   "execution_count": null,
   "metadata": {},
   "outputs": [],
   "source": [
    "df_expensive_queries_failed = qqlib.queries_by_execution_status(sdate,edate,'FAIL')"
   ]
  },
  {
   "cell_type": "code",
   "execution_count": null,
   "metadata": {},
   "outputs": [],
   "source": [
    "df_unique_fail = qqlib.get_unique_failed_queries_with_metrics_ordered(df_expensive_queries_failed, 'credits')\n",
    "df_unique_fail.reset_index(inplace=True)\n",
    "# df_unique_fail.head(20)"
   ]
  },
  {
   "cell_type": "code",
   "execution_count": null,
   "metadata": {},
   "outputs": [],
   "source": [
    "print('Query details for top 10 expensive failing queries')\n",
    "print('--------------------------------------------------')\n",
    "for n in range(0,10):\n",
    "    if n < len(df_unique_fail):\n",
    "        # print()\n",
    "        print('Query id:', df_unique_fail.iloc[n][\"query_id\"])\n",
    "        print('User name:', df_unique_fail.iloc[n][\"user_name\"])\n",
    "        print('Warehouse name:', df_unique_fail.iloc[n][\"warehouse_name\"])\n",
    "        print('Total credits:', df_unique_fail.iloc[n][\"credits\"])\n",
    "        print('Number of times the query ran:', len(df_unique_fail.iloc[n][\"query_id\"]))\n",
    "        print('Query text snippet:', df_unique_fail.iloc[n][\"query_text\"][0:75],'...')\n",
    "        print('---------------------------------------------------------------------------------------------------')"
   ]
  },
  {
   "cell_type": "markdown",
   "metadata": {},
   "source": [
    "## Expensive queries"
   ]
  },
  {
   "cell_type": "code",
   "execution_count": null,
   "metadata": {},
   "outputs": [],
   "source": [
    "# metric = 'bytes_scanned'\n",
    "# metric = 'percentage_scanned_from_cache'\n",
    "# metric = 'bytes_spilled_to_local_storage'\n",
    "# metric = 'bytes_spilled_to_remote_storage' -- division by 0\n",
    "# metric = 'percentage_partitions_scanned' -- division by 0\n",
    "# metric = 'partitions_total'\n",
    "# metric = 'compilation_time_sec' #-- division by 0\n",
    "# metric = 'execution_time_sec'\n",
    "# metric = 'queued_provisioning_time_sec' -- division by 0\n",
    "# metric = 'queued_repair_time_sec' -- division by 0\n",
    "# metric = 'queued_overload_time_sec' -- division by 0\n",
    "# metric = 'list_external_files_time_sec' -- division by 0\n",
    "# metric = 'total_time_elapsed_sec'\n",
    "metric = 'credits'\n",
    "df = qqlib.n_inefficient_queries(sdate,edate,10,metric=metric)\n",
    "# df.head()"
   ]
  },
  {
   "cell_type": "code",
   "execution_count": null,
   "metadata": {},
   "outputs": [],
   "source": [
    "df['n_success'] = [cell.count('SUCCESS') for cell in df[\"execution_status\"].values]\n",
    "df['n_fail'] = [cell.count('FAIL') for cell in df[\"execution_status\"].values]"
   ]
  },
  {
   "cell_type": "code",
   "execution_count": null,
   "metadata": {},
   "outputs": [],
   "source": [
    "trace1 = go.Bar(\n",
    "        x = list(df.index),\n",
    "        y = df['n_success'],\n",
    "        name=\"Execution success count\",\n",
    "    )\n",
    "\n",
    "trace2 = go.Bar(\n",
    "        x = list(df.index),\n",
    "        y = df['n_fail'],\n",
    "        name=\"Execution fail count\",\n",
    "    )\n",
    "\n",
    "trace3  = go.Scatter(\n",
    "        mode='markers+lines',\n",
    "        x = list(df.index),\n",
    "        y = df['credits'],\n",
    "        name='credits',\n",
    "        yaxis='y2',\n",
    "        line=dict(color='black'),\n",
    "    )\n",
    "\n",
    "data = [trace1, trace2, trace3]\n",
    "\n",
    "layout = go.Layout(\n",
    "    title_text='Query count',\n",
    "    yaxis=dict(\n",
    "        title=\"Count number\",\n",
    "        showgrid=False,\n",
    "    ),\n",
    "     yaxis2=dict(\n",
    "        title=metric, \n",
    "        overlaying=\"y\",\n",
    "        side=\"right\",\n",
    "        showgrid=False,\n",
    "    ),\n",
    "    xaxis=dict(\n",
    "        title=\"Date (UTC)\"\n",
    "    ),\n",
    "    legend=dict(\n",
    "        yanchor=\"top\",\n",
    "        y=0.99,\n",
    "        xanchor=\"right\",\n",
    "        x=1.01\n",
    "    ),\n",
    "    barmode=\"stack\"\n",
    ")\n",
    "fig = go.Figure(data=data, layout=layout)\n",
    "fig.update_yaxes(rangemode=\"tozero\")\n",
    "fig.show()"
   ]
  },
  {
   "cell_type": "code",
   "execution_count": null,
   "metadata": {},
   "outputs": [],
   "source": [
    "print('Query details for top 10 expensive queries')\n",
    "print('-------------------------------------------------')\n",
    "for n in range(0,10):\n",
    "    if n < len(df):\n",
    "        # print()\n",
    "        print('Query id:', df.iloc[n][\"query_id\"])\n",
    "        print('User name:', df.iloc[n][\"user_name\"])\n",
    "        print('Warehouse name:', df.iloc[n][\"warehouse_name\"])\n",
    "        print('Total credits:', df.iloc[n][\"credits\"])\n",
    "        print('N Success:', df.iloc[n][\"n_success\"])\n",
    "        print('N Fail:', df.iloc[n][\"n_fail\"])\n",
    "        print('Query text snippet:', df.iloc[n][\"query_text\"][0:75],'...')\n",
    "        print('---------------------------------------------------------------------------------------------------')"
   ]
  },
  {
   "cell_type": "markdown",
   "metadata": {},
   "source": [
    "## Top 10 most executed running Select queries"
   ]
  },
  {
   "cell_type": "code",
   "execution_count": null,
   "metadata": {},
   "outputs": [],
   "source": [
    "df_select = qqlib.n_most_executed_select_queries(sdate,edate, n=20)\n",
    "# df_select.head()"
   ]
  },
  {
   "cell_type": "code",
   "execution_count": null,
   "metadata": {},
   "outputs": [],
   "source": [
    "print('Query details for top 10 expensive select queries (group size > 10, avg. run time > 30 sec)')\n",
    "print('-------------------------------------------------------------------------------------------')\n",
    "for n in range(0,10):\n",
    "    if n < len(df_select):\n",
    "        # print()\n",
    "        print('Query id:', df_select.iloc[n][\"query_id\"])\n",
    "        print('User name:', df_select.iloc[n][\"user_name\"])\n",
    "        print('Warehouse name:', df_select.iloc[n][\"warehouse_name\"])\n",
    "        print('Query credits:', df_select.iloc[n][\"credits\"])\n",
    "        print('Query text snippet:', df_select.iloc[n][\"query_text\"][0:75],'...')\n",
    "        print('---------------------------------------------------------------------------------------------------')"
   ]
  },
  {
   "cell_type": "markdown",
   "metadata": {},
   "source": [
    "## Queries doing full table scans"
   ]
  },
  {
   "cell_type": "code",
   "execution_count": null,
   "metadata": {},
   "outputs": [],
   "source": [
    "df_full_scan = qqlib.queries_full_table_scan(sdate, edate)"
   ]
  },
  {
   "cell_type": "code",
   "execution_count": null,
   "metadata": {},
   "outputs": [],
   "source": [
    "print('Query details for top doing full table scans')\n",
    "print('--------------------------------------------')\n",
    "for n in range(0,10):\n",
    "    if n < len(df_full_scan):\n",
    "        # print()\n",
    "        print('Query id:', df_full_scan.iloc[n][\"query_id\"])\n",
    "        print('User name:', df_full_scan.iloc[n][\"user_name\"])\n",
    "        print('Warehouse name:', df_full_scan.iloc[n][\"warehouse_name\"])\n",
    "        print('Partitions scanned:', df_full_scan.iloc[n][\"partitions_scanned\"])\n",
    "        print('% partitions scanned:', round(df_full_scan.iloc[n][\"partitions_scanned\"]/df_full_scan.iloc[n][\"partitions_total\"]*100,2))\n",
    "        print('Query text snippet:', df_full_scan.iloc[n][\"query_text\"][0:75],'...')\n",
    "        print('---------------------------------------------------------------------------------------------------')"
   ]
  },
  {
   "cell_type": "code",
   "execution_count": null,
   "metadata": {},
   "outputs": [],
   "source": [
    "df = qqlib.unique_queries_by_type(sdate,edate)"
   ]
  },
  {
   "cell_type": "code",
   "execution_count": null,
   "metadata": {},
   "outputs": [],
   "source": [
    "df[\"percent_usage\"] = df[\"n_query_type\"]/sum(df[\"n_query_type\"])*100\n",
    "# df.head()"
   ]
  },
  {
   "cell_type": "code",
   "execution_count": null,
   "metadata": {},
   "outputs": [],
   "source": [
    "df_low_usage_queries = df[df[\"percent_usage\"] < 1.00]"
   ]
  },
  {
   "cell_type": "code",
   "execution_count": null,
   "metadata": {},
   "outputs": [],
   "source": [
    "# df_low_usage_queries"
   ]
  },
  {
   "cell_type": "code",
   "execution_count": null,
   "metadata": {},
   "outputs": [],
   "source": [
    "df = df[df[\"percent_usage\"] > 1.00].reset_index(drop=True)\n",
    "# df.tail()"
   ]
  },
  {
   "cell_type": "code",
   "execution_count": null,
   "metadata": {},
   "outputs": [],
   "source": [
    "df2 = pd.DataFrame({\"n_query_type\": sum(df_low_usage_queries[\"n_query_type\"]),\n",
    "                    \"query_type\": \"low_usage_queries\",\n",
    "                    \"percent_usage\": sum(df_low_usage_queries[\"percent_usage\"])\n",
    "                    }, index=[0])\n",
    "df = df.append(df2, ignore_index=True)\n",
    "# df"
   ]
  },
  {
   "cell_type": "code",
   "execution_count": null,
   "metadata": {},
   "outputs": [],
   "source": [
    "## Plot pie\n",
    "fig = make_subplots(\n",
    "    rows=1, cols=1,\n",
    "    specs=[[{\"type\": \"pie\"}]],\n",
    "    subplot_titles=(\"Credits\")\n",
    ")\n",
    "\n",
    "fig.add_trace(go.Pie(labels=df['query_type'].tolist(), \\\n",
    "                     values=df['n_query_type'].tolist(), \\\n",
    "                     name=\"Credits\", rotation=320, \\\n",
    "                     marker_colors=color_scheme, hole=0.4),row=1,col=1)\n",
    "\n",
    "\n",
    "fig.update_layout(\n",
    "    title={\n",
    "        'text': \"Queries by type\",\n",
    "        'y':0.1,\n",
    "        'x':0.5,\n",
    "        'xanchor': 'center',\n",
    "        'yanchor': 'bottom'})\n",
    "fig.show()"
   ]
  },
  {
   "cell_type": "code",
   "execution_count": null,
   "metadata": {},
   "outputs": [],
   "source": []
  }
 ],
 "metadata": {
  "hide_input": false,
  "kernelspec": {
   "display_name": "Python 3 (ipykernel)",
   "language": "python",
   "name": "python3"
  },
  "language_info": {
   "codemirror_mode": {
    "name": "ipython",
    "version": 3
   },
   "file_extension": ".py",
   "mimetype": "text/x-python",
   "name": "python",
   "nbconvert_exporter": "python",
   "pygments_lexer": "ipython3",
   "version": "3.9.15"
  },
  "vscode": {
   "interpreter": {
    "hash": "fcbd4ad66d969ea49516a1cf27383420b67e9e950ebdd1bbb64e01b736f968b6"
   }
  }
 },
 "nbformat": 4,
 "nbformat_minor": 2
}
