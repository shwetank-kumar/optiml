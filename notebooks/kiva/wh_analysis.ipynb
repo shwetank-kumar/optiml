{
 "cells": [
  {
   "cell_type": "code",
   "execution_count": null,
   "metadata": {},
   "outputs": [],
   "source": [
    "# Adding system path\n",
    "import sys, pathlib\n",
    "sys.path.append(str(pathlib.Path.cwd().parent.parent))\n",
    "# sys.path"
   ]
  },
  {
   "cell_type": "code",
   "execution_count": null,
   "metadata": {},
   "outputs": [],
   "source": [
    "# Set to show warnings only once\n",
    "import warnings\n",
    "warnings.filterwarnings('ignore')"
   ]
  },
  {
   "cell_type": "code",
   "execution_count": null,
   "metadata": {},
   "outputs": [],
   "source": [
    "# Setting up displays\n",
    "from IPython.display import display, HTML\n",
    "display(HTML(\"<style>.container { width:100% !important; }</style>\"))\n",
    "# from dash import Dash,html,dcc,Input,Output\n",
    "# app = Dash(__name__)\n",
    "import pandas as pd\n",
    "pd.set_option('display.max_rows', 500)\n",
    "pd.set_option('display.max_columns', 500)\n",
    "import hashlib\n",
    "import plotly.express as px\n",
    "import plotly.graph_objects as go\n",
    "from plotly.subplots import make_subplots\n",
    "from tabulate import tabulate\n",
    "color_scheme=[\"red\",\"blue\",\"green\",\"orange\",\"purple\",\"brown\",\"pink\",\"gray\",\"olive\",\"cyan\",\"darkviolet\",\"goldenrod\",\"darkgreen\",\"chocolate\",\"lawngreen\"]"
   ]
  },
  {
   "cell_type": "code",
   "execution_count": null,
   "metadata": {},
   "outputs": [],
   "source": [
    "# Setting up autoreload for libs\n",
    "%load_ext autoreload\n",
    "%autoreload 2\n",
    "%aimport optiml.queries"
   ]
  },
  {
   "cell_type": "code",
   "execution_count": null,
   "metadata": {},
   "outputs": [],
   "source": [
    "# Initialize connection to Snowflake and set analysis date\n",
    "from optiml.connection import SnowflakeConnConfig\n",
    "connection = SnowflakeConnConfig(accountname='jg84276.us-central1.gcp',warehousename=\"XSMALL_WH\").create_connection()\n",
    "# Initialize local environment\n",
    "import os\n",
    "cache_dir = os.path.expanduser('~/data/kiva')\n",
    "# Initialize query library\n",
    "from optiml.queries import SNFLKQuery\n",
    "qlib = SNFLKQuery(connection, 'KIV', cache_dir)\n",
    "sdate = '2022-09-12'\n",
    "edate = '2022-10-12'\n",
    "print(f\"The analysis is carried our for date range {sdate} to {edate}\")"
   ]
  },
  {
   "cell_type": "code",
   "execution_count": null,
   "metadata": {},
   "outputs": [],
   "source": [
    "df=qlib.plot_warehouse_ts(sdate,edate, wh_name='DEV_WH')\n",
    "df['date'] = pd.to_datetime(df['start_time']).dt.date\n",
    "df['time'] = pd.to_datetime(df['start_time']).dt.time\n",
    "df.head()\n",
    "\n"
   ]
  },
  {
   "cell_type": "code",
   "execution_count": null,
   "metadata": {},
   "outputs": [],
   "source": [
    "px.bar(\n",
    "    data_frame = df,\n",
    "    x = \"hourly_start_time\",\n",
    "    y = [\"avg_running\",\"avg_queued_load\"],\n",
    "    opacity = 0.9,\n",
    "    orientation = \"v\",\n",
    "    barmode = 'group',\n",
    "    title='Average run and queue time for DEV WH',\n",
    ")"
   ]
  },
  {
   "cell_type": "code",
   "execution_count": null,
   "metadata": {},
   "outputs": [],
   "source": [
    "import pandas as pd\n",
    "import plotly.graph_objects as go\n",
    "\n",
    "# sample data\n",
    "\n",
    "\n",
    "# set up plotly figure\n",
    "fig = go.Figure()\n",
    "\n",
    "# adad line / trace 1 to figure\n",
    "fig.add_trace(go.Scatter(\n",
    "    x=df[\"hourly_start_time\"],\n",
    "    y=df[\"avg_running\"],\n",
    "    customdata=df[\"time\"],\n",
    "    hovertemplate=\"<br>\".join([\n",
    "        \"avg running: %{y}\",\"arrival_time: %{customdata}\"]),\n",
    "    marker=dict(\n",
    "        color=\"blue\"\n",
    "    ),\n",
    "    name=\"avg_running_time\",\n",
    "    showlegend=True\n",
    "))\n",
    "\n",
    "# add line / trace 2 to figure\n",
    "fig.add_trace(go.Scatter(\n",
    "    x=df[\"hourly_start_time\"],\n",
    "    y=df[\"avg_queued_load\"],\n",
    "    customdata=df[\"time\"],\n",
    "    hovertemplate=\"<br>\".join([\n",
    "        \"avg queued: %{y}\",\"arrival time: %{customdata}\"]),\n",
    "    marker=dict(\n",
    "        color=\"green\"\n",
    "    ),\n",
    "    name=\"avg_queued_time\"\n",
    "    showlegend=True\n",
    "    \n",
    "))\n",
    "\n",
    "fig.show()"
   ]
  },
  {
   "cell_type": "code",
   "execution_count": null,
   "metadata": {},
   "outputs": [],
   "source": [
    "df=qlib.wh_analysis(sdate,edate)\n",
    "df.head()\n"
   ]
  },
  {
   "cell_type": "code",
   "execution_count": null,
   "metadata": {},
   "outputs": [],
   "source": [
    "# fig = px.timeline(df2, x_start=df2['start_time'], x_end=df2[\"end_time\"], y=df2[\"query_id\"], color_discrete_map={\"Start\": \"red\",\"Finish\":'blue'})\n",
    "# fig.update_yaxes(autorange=\"reversed\")\n",
    "# fig.update_traces(width=30)  #This update generates a thinner bar (like a line) instead of  the default horizontal bar\n",
    "# fig.show()"
   ]
  },
  {
   "cell_type": "code",
   "execution_count": null,
   "metadata": {},
   "outputs": [],
   "source": [
    "df=qlib.wh_analysis(start_date=\"2022-09-15\", end_date=\"2022-09-16\")\n",
    "df['date'] = pd.to_datetime(df['minute_part']).dt.date\n",
    "df['time'] = pd.to_datetime(df['minute_part']).dt.time\n",
    "df.head()\n"
   ]
  },
  {
   "cell_type": "code",
   "execution_count": null,
   "metadata": {},
   "outputs": [],
   "source": [
    "fig = px.line(df, x=df['minute_part'], y=df[\"query_count\"], title='DEV wh ')\n",
    "\n",
    "\n",
    "fig.show()"
   ]
  },
  {
   "cell_type": "code",
   "execution_count": null,
   "metadata": {},
   "outputs": [],
   "source": [
    "import pandas as pd\n",
    "import plotly.graph_objects as go\n",
    "\n",
    "# sample data\n",
    "\n",
    "\n",
    "# set up plotly figure\n",
    "fig = go.Figure()\n",
    "\n",
    "# adad line / trace 1 to figure\n",
    "fig.add_trace(go.Scatter(\n",
    "    x=df[\"minute_part\"],\n",
    "    y=df[\"query_count\"],\n",
    "    customdata=df[\"query_count\"],\n",
    "    hovertemplate=\"<br>\".join([\n",
    "        \"avg running: %{x}\",\"query count: %{customdata}\"]),\n",
    "    marker=dict(\n",
    "        color=\"blue\"\n",
    "    ),\n",
    "    name=\"query count\",\n",
    "    showlegend=True\n",
    "))\n",
    "\n",
    "# add line / trace 2 to figure\n",
    "fig.add_trace(go.Scatter(\n",
    "    x=df[\"minute_part\"],\n",
    "    y=df[\"average_execution_time_seconds\"],\n",
    "    customdata=df[\"average_execution_time_seconds\"],\n",
    "    hovertemplate=\"<br>\".join([\n",
    "        \"minute: %{x}\",\"average execution time in seconds: %{customdata}\"]),\n",
    "    marker=dict(\n",
    "        color=\"green\"\n",
    "    ),\n",
    "    name=\"average execution time in seconds\",\n",
    "    showlegend=True\n",
    "    \n",
    "))\n",
    "\n",
    "fig.show()"
   ]
  },
  {
   "cell_type": "code",
   "execution_count": null,
   "metadata": {},
   "outputs": [],
   "source": [
    "df=qlib.wh_analysis(sdate,edate,wh_name='PROD_WH')\n",
    "df['date'] = pd.to_datetime(df['minute_part']).dt.date\n",
    "df['time'] = pd.to_datetime(df['minute_part']).dt.time\n",
    "df.head()\n",
    "df.head()"
   ]
  },
  {
   "cell_type": "code",
   "execution_count": null,
   "metadata": {},
   "outputs": [],
   "source": [
    "import pandas as pd\n",
    "import plotly.graph_objects as go\n",
    "\n",
    "# sample data\n",
    "\n",
    "\n",
    "# set up plotly figure\n",
    "fig = go.Figure()\n",
    "\n",
    "# adad line / trace 1 to figure\n",
    "fig.add_trace(go.Scatter(\n",
    "    x=df[\"minute_part\"],\n",
    "    y=df[\"query_count\"],\n",
    "    customdata=df[\"query_count\"],\n",
    "    hovertemplate=\"<br>\".join([\n",
    "        \"avg running: %{x}\",\"query count: %{customdata}\"]),\n",
    "    marker=dict(\n",
    "        color=\"blue\"\n",
    "    ),\n",
    "    name=\"query count\",\n",
    "    showlegend=True\n",
    "))\n",
    "\n",
    "# add line / trace 2 to figure\n",
    "fig.add_trace(go.Scatter(\n",
    "    x=df[\"minute_part\"],\n",
    "    y=df[\"average_execution_time_seconds\"],\n",
    "    customdata=df[\"average_execution_time_seconds\"],\n",
    "    hovertemplate=\"<br>\".join([\n",
    "        \"minute: %{x}\",\"average execution time in seconds: %{customdata}\"]),\n",
    "    marker=dict(\n",
    "        color=\"green\"\n",
    "    ),\n",
    "    name=\"average execution time in seconds\",\n",
    "    showlegend=True\n",
    "    \n",
    "))\n",
    "\n",
    "fig.show()"
   ]
  },
  {
   "cell_type": "code",
   "execution_count": null,
   "metadata": {},
   "outputs": [],
   "source": [
    "df=qlib.wh_metrics(start_date=\"2022-09-15\", end_date=\"2022-09-16\",wh_name='DEV_WH')"
   ]
  },
  {
   "attachments": {},
   "cell_type": "markdown",
   "metadata": {},
   "source": [
    "### WAREHOUSE PROFILING AND ANALYSIS"
   ]
  },
  {
   "cell_type": "code",
   "execution_count": null,
   "metadata": {},
   "outputs": [],
   "source": [
    "df=qlib.wh_profiling(sdate,edate,wh_name='DEV_WH')\n",
    "df.head()"
   ]
  },
  {
   "cell_type": "code",
   "execution_count": null,
   "metadata": {},
   "outputs": [],
   "source": [
    "fig = px.bar(df, x=df[\"start_time\"], y=[df[\"avg_running\"],df[\"avg_queued_load\"]], title=\"Warehouse Load and Metering Analysis\",color_discrete_sequence=color_scheme)\n",
    "fig.show()"
   ]
  },
  {
   "cell_type": "code",
   "execution_count": null,
   "metadata": {},
   "outputs": [],
   "source": [
    "df=qlib.count_of_queries_wh(sdate,edate)\n"
   ]
  },
  {
   "cell_type": "code",
   "execution_count": null,
   "metadata": {},
   "outputs": [],
   "source": [
    "fig = px.bar(df, x=df[\"hourly_start_time\"], y=[df[\"query_count\"]], title=\"Query count DEV_WH\",color_discrete_sequence=color_scheme)\n",
    "fig.show()"
   ]
  },
  {
   "cell_type": "code",
   "execution_count": null,
   "metadata": {},
   "outputs": [],
   "source": [
    "df=qlib.wh_profiling_queued_load(start_date=\"2022-09-26\",wh_name=\"DEV_WH\")\n",
    "fig = px.bar(df, x=df[\"start_time_trunced_at_minute\"], y=df[\"avg_queued_load\"], title=\" DEV_WH\",color_discrete_sequence=color_scheme)\n",
    "# Range the width has to be updated in\n",
    "# fig.update_traces(width=2000000)\n",
    "fig.show()"
   ]
  },
  {
   "cell_type": "code",
   "execution_count": null,
   "metadata": {},
   "outputs": [],
   "source": [
    "df=qlib.query_find(\"2022-09-26 14:30:00\",\"2022-09-26 14:50:00\")\n"
   ]
  }
 ],
 "metadata": {
  "kernelspec": {
   "display_name": "sf",
   "language": "python",
   "name": "python3"
  },
  "language_info": {
   "codemirror_mode": {
    "name": "ipython",
    "version": 3
   },
   "file_extension": ".py",
   "mimetype": "text/x-python",
   "name": "python",
   "nbconvert_exporter": "python",
   "pygments_lexer": "ipython3",
   "version": "3.8.2"
  },
  "vscode": {
   "interpreter": {
    "hash": "ba286fab723f3beadf2310fa20d811dff5d5606e9e08a95b52f51185bcb3e19b"
   }
  }
 },
 "nbformat": 4,
 "nbformat_minor": 2
}
