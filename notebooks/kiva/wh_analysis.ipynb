{
 "cells": [
  {
   "cell_type": "code",
   "execution_count": null,
   "metadata": {},
   "outputs": [],
   "source": [
    "%%javascript\n",
    "IPython.OutputArea.prototype._should_scroll = function(lines) {\n",
    "    return false;\n",
    "}"
   ]
  },
  {
   "cell_type": "code",
   "execution_count": null,
   "metadata": {},
   "outputs": [],
   "source": [
    "# Adding system path\n",
    "import sys, pathlib\n",
    "sys.path.append(str(pathlib.Path.cwd().parent.parent))\n",
    "# sys.path"
   ]
  },
  {
   "cell_type": "code",
   "execution_count": null,
   "metadata": {},
   "outputs": [],
   "source": [
    "# Set to show warnings only once\n",
    "import warnings\n",
    "warnings.filterwarnings('ignore')"
   ]
  },
  {
   "cell_type": "code",
   "execution_count": null,
   "metadata": {},
   "outputs": [],
   "source": [
    "# Setting up displays\n",
    "from IPython.display import display, HTML\n",
    "display(HTML(\"<style>.container { width:100% !important; }</style>\"))\n",
    "\n",
    "import pandas as pd\n",
    "pd.set_option('display.max_rows', 500)\n",
    "pd.set_option('display.max_columns', 500)\n",
    "\n",
    "import math\n",
    "from plotly import tools\n",
    "import plotly.express as px\n",
    "import plotly.graph_objects as go\n",
    "from plotly.subplots import make_subplots\n",
    "from tabulate import tabulate\n",
    "color_scheme=[\"red\",\"blue\",\"green\",\"orange\",\"purple\",\"brown\",\"pink\",\"gray\",\"olive\",\"cyan\",\"darkviolet\",\"goldenrod\",\"darkgreen\",\"chocolate\",\"lawngreen\"]"
   ]
  },
  {
   "cell_type": "code",
   "execution_count": null,
   "metadata": {},
   "outputs": [],
   "source": [
    "# Setting up autoreload for libs\n",
    "%load_ext autoreload\n",
    "%autoreload 2\n",
    "%aimport optiml.backend.warehouse_profile"
   ]
  },
  {
   "cell_type": "code",
   "execution_count": null,
   "metadata": {},
   "outputs": [],
   "source": [
    "# Initialize connection to Snowflake and set analysis date\n",
    "from optiml.connection import SnowflakeConnConfig\n",
    "connection = SnowflakeConnConfig(accountname='jg84276.us-central1.gcp',warehousename=\"XSMALL_WH\").create_connection()\n",
    "# Initialize local environment\n",
    "import os\n",
    "cache_dir = os.path.expanduser('~/data/kiva')\n",
    "# Initialize query library\n",
    "from optiml.backend.warehouse_profile import WarehouseProfile\n",
    "wqlib =WarehouseProfile(connection, 'KIV', cache_dir)\n",
    "sdate = '2022-09-12'\n",
    "edate = '2022-10-12'\n",
    "print(f\"The analysis is carried our for date range {sdate} to {edate}\")"
   ]
  },
  {
   "cell_type": "markdown",
   "metadata": {},
   "source": [
    "### Warehouse load analysis"
   ]
  },
  {
   "cell_type": "code",
   "execution_count": null,
   "metadata": {},
   "outputs": [],
   "source": [
    "df=wqlib.wh_queued_load_ts(start_date=\"2022-09-12\",end_date=\"2022-10-12\",wh_name=\"PROD_WH\",delta='hour')\n",
    "df.head()\n"
   ]
  },
  {
   "cell_type": "code",
   "execution_count": null,
   "metadata": {},
   "outputs": [],
   "source": [
    "\n",
    "# fig.append_trace(go.bar(df, x=df[\"start_time_truncated\"], y=[df[\"avg_queued_load\"], df[\"avg_running\"]], title=\" DEV_WH\", color_discrete_sequence=color_scheme),row=1,col=1) \n",
    "\n",
    "fig=px.bar(df, x=df[\"start_time_truncated\"], y=[df[\"avg_queued_load\"], df[\"avg_running\"]], title=\" DEV_WH\", color_discrete_sequence=color_scheme)\n",
    "# Range the width has to be updated in\n",
    "fig.show()"
   ]
  },
  {
   "cell_type": "code",
   "execution_count": null,
   "metadata": {},
   "outputs": [],
   "source": [
    "\n",
    "df1=wqlib.wh_queued_load_ts(start_date=\"2022-09-12\",end_date=\"2022-10-12\",wh_name=\"PROD_WH\",delta='hour')\n",
    "df2=wqlib.wh_credits(sdate,edate)\n",
    "trace1 = go.Bar(\n",
    "    x=df1[\"start_time_truncated\"], y=df1[\"avg_queued_load\"],\n",
    "    name='Queued Load',marker=dict(color='rgb(222,0,0)')\n",
    ")\n",
    "trace2 = go.Bar(\n",
    "    x=df1[\"start_time_truncated\"], y=df1[\"avg_running\"],\n",
    "    name='Running load'\n",
    ")\n",
    "trace3 = go.Scatter(\n",
    "  x=df2['start_time_truncated']\n",
    "  ,y=df2['credits_used']\n",
    "  ,fill='tozeroy'\n",
    "  ,name='Credits consumed'\n",
    "  )\n",
    "\n",
    "\n",
    "fig=make_subplots(rows=1,cols=1,shared_yaxes=True)\n",
    "\n",
    "\n",
    "fig.append_trace(trace3, 1,1)\n",
    "fig.append_trace(trace1, 1, 1)\n",
    "fig.append_trace(trace2,1,1)\n",
    "\n",
    "\n",
    "fig['layout'].update(height=600, width=2000)\n",
    "fig.show()"
   ]
  }
 ],
 "metadata": {
  "hide_input": false,
  "kernelspec": {
   "display_name": "sf",
   "language": "python",
   "name": "python3"
  },
  "language_info": {
   "codemirror_mode": {
    "name": "ipython",
    "version": 3
   },
   "file_extension": ".py",
   "mimetype": "text/x-python",
   "name": "python",
   "nbconvert_exporter": "python",
   "pygments_lexer": "ipython3",
   "version": "3.8.2"
  },
  "vscode": {
   "interpreter": {
    "hash": "ba286fab723f3beadf2310fa20d811dff5d5606e9e08a95b52f51185bcb3e19b"
   }
  }
 },
 "nbformat": 4,
 "nbformat_minor": 2
}
