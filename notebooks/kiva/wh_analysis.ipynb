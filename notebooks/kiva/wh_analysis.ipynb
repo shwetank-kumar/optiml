{
 "cells": [
  {
   "cell_type": "code",
   "execution_count": null,
   "metadata": {},
   "outputs": [],
   "source": [
    "%%javascript\n",
    "IPython.OutputArea.prototype._should_scroll = function(lines) {\n",
    "    return false;\n",
    "}"
   ]
  },
  {
   "cell_type": "code",
   "execution_count": null,
   "metadata": {},
   "outputs": [],
   "source": [
    "# Adding system path\n",
    "import sys, pathlib\n",
    "sys.path.append(str(pathlib.Path.cwd().parent.parent))\n",
    "# sys.path"
   ]
  },
  {
   "cell_type": "code",
   "execution_count": null,
   "metadata": {},
   "outputs": [],
   "source": [
    "# Set to show warnings only once\n",
    "import warnings\n",
    "warnings.filterwarnings('ignore')"
   ]
  },
  {
   "cell_type": "code",
   "execution_count": null,
   "metadata": {},
   "outputs": [],
   "source": [
    "# Setting up displays\n",
    "from IPython.display import display, HTML\n",
    "display(HTML(\"<style>.container { width:100% !important; }</style>\"))\n",
    "\n",
    "import pandas as pd\n",
    "pd.set_option('display.max_rows', 500)\n",
    "pd.set_option('display.max_columns', 500)\n",
    "\n",
    "import math\n",
    "from plotly import tools\n",
    "import plotly.express as px\n",
    "import plotly.graph_objects as go\n",
    "from plotly.subplots import make_subplots\n",
    "from tabulate import tabulate\n",
    "color_scheme=[\"red\",\"blue\",\"green\",\"orange\",\"purple\",\"brown\",\"pink\",\"gray\",\"olive\",\"cyan\",\"darkviolet\",\"goldenrod\",\"darkgreen\",\"chocolate\",\"lawngreen\"]"
   ]
  },
  {
   "cell_type": "code",
   "execution_count": null,
   "metadata": {},
   "outputs": [],
   "source": [
    "# Setting up autoreload for libs\n",
    "%load_ext autoreload\n",
    "%autoreload 2\n",
    "%aimport optiml.backend.warehouse_profile"
   ]
  },
  {
   "cell_type": "code",
   "execution_count": null,
   "metadata": {},
   "outputs": [],
   "source": [
    "# Initialize connection to Snowflake and set analysis date\n",
    "from optiml.connection import SnowflakeConnConfig\n",
    "connection = SnowflakeConnConfig(accountname='jg84276.us-central1.gcp',warehousename=\"XSMALL_WH\").create_connection()\n",
    "# Initialize local environment\n",
    "import os\n",
    "cache_dir = os.path.expanduser('~/data/kiva')\n",
    "\n",
    "# Analysis setup\n",
    "sdate = '2022-09-28'\n",
    "edate = '2022-10-12'\n",
    "delta = 'hour'\n",
    "company = 'KIV'\n",
    "account_type = \"standard\"\n",
    "\n",
    "# Initialize query library\n",
    "from optiml.backend.warehouse_profile import WarehouseProfile\n",
    "wqlib = WarehouseProfile(connection, company, cache_dir)\n",
    "from optiml.backend.cost_profile import CostProfile, get_previous_dates\n",
    "cqlib = CostProfile(connection, company, cache_dir, account_type)\n",
    "\n",
    "print(f\"The analysis is carried our for date range {sdate} to {edate}\")"
   ]
  },
  {
   "cell_type": "markdown",
   "metadata": {},
   "source": [
    "### Warehouse load analysis"
   ]
  },
  {
   "cell_type": "code",
   "execution_count": null,
   "metadata": {},
   "outputs": [],
   "source": [
    "wh_credits = cqlib.cost_by_wh_ts(sdate, edate)"
   ]
  },
  {
   "cell_type": "code",
   "execution_count": null,
   "metadata": {},
   "outputs": [],
   "source": [
    "wh_configs = wqlib.warehouse_config()\n",
    "wh_name = wh_configs[\"name\"].unique().tolist()\n",
    "wh_load = {}\n",
    "for n in wh_name:\n",
    "    wh_load[n] = wqlib.wh_queued_load_ts(start_date=sdate,end_date=edate,wh_name=n,delta=delta)"
   ]
  },
  {
   "cell_type": "code",
   "execution_count": null,
   "metadata": {},
   "outputs": [],
   "source": [
    "for n in wh_name:\n",
    "    if not wh_load[n].empty: \n",
    "        df_load = wh_load[n]\n",
    "        df_credits = wh_credits[wh_credits[\"warehouse_name\"] == n].reset_index(drop=True)\n",
    "        df_credits.sort_values(by=[\"hourly_start_time\"],inplace=True)\n",
    "        df_credits.reset_index(drop=True,inplace=True)\n",
    "\n",
    "        trace1 = go.Bar(\n",
    "            x=df_load[\"hourly_start_time\"], y=df_load[\"avg_queued_load\"],\n",
    "            name='Queued Load',marker=dict(color='rgb(222,0,0)')\n",
    "        )\n",
    "        trace2 = go.Bar(\n",
    "            x=df_load[\"hourly_start_time\"], y=df_load[\"avg_running_load\"],\n",
    "            name='Running load',marker=dict(color='rgb(0,0,255)')\n",
    "        )\n",
    "        trace3 = go.Scatter(\n",
    "          x=df_credits['hourly_start_time'] ,y=df_credits['credits'],\n",
    "            name='Credits consumed'\n",
    "        )\n",
    "\n",
    "        f = make_subplots(specs=[[{\"secondary_y\": True}]])\n",
    "        \n",
    "        f.add_trace(trace1, secondary_y=False)\n",
    "        f.add_trace(trace2, secondary_y=False)\n",
    "        f.update_layout(barmode='stack')\n",
    "        f.add_trace(trace3, secondary_y=True)\n",
    "        f.update_layout(\n",
    "            xaxis_title=\"Hourly start time (UTC)\",\n",
    "            title=n,\n",
    "            xaxis=dict(showgrid=False),\n",
    "            yaxis=dict(showgrid=False)\n",
    "        )\n",
    "        f.update_yaxes(title_text=\"Query Load\", secondary_y=False)\n",
    "        f.update_yaxes(title_text=\"Credits\", secondary_y=True)\n",
    "        f.update_yaxes(rangemode=\"tozero\", secondary_y=True)\n",
    "        \n",
    "        f.show()"
   ]
  },
  {
   "cell_type": "code",
   "execution_count": null,
   "metadata": {},
   "outputs": [],
   "source": [
    "## Scaling policy for DEV_WH and dither queries to other places when WH query load is low\n",
    "## Analyze which queries are triggering a queue in PROD_WH.\n",
    "## Analyze if there is opportunity to dither queries between ML_WH, DAILY_REFRESH_WH and DEV_WH\n",
    "## Us there a specific user who is triggering a queue in PROD_WH, DEV_WH\n",
    "## Is there a specific user whose queries are going to DEV_WH during quiet times?"
   ]
  },
  {
   "cell_type": "code",
   "execution_count": null,
   "metadata": {},
   "outputs": [],
   "source": []
  }
 ],
 "metadata": {
  "hide_input": false,
  "kernelspec": {
   "display_name": "Python 3 (ipykernel)",
   "language": "python",
   "name": "python3"
  },
  "language_info": {
   "codemirror_mode": {
    "name": "ipython",
    "version": 3
   },
   "file_extension": ".py",
   "mimetype": "text/x-python",
   "name": "python",
   "nbconvert_exporter": "python",
   "pygments_lexer": "ipython3",
   "version": "3.9.15"
  },
  "vscode": {
   "interpreter": {
    "hash": "fcbd4ad66d969ea49516a1cf27383420b67e9e950ebdd1bbb64e01b736f968b6"
   }
  }
 },
 "nbformat": 4,
 "nbformat_minor": 2
}
