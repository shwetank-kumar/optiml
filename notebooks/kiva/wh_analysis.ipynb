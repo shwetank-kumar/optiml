{
 "cells": [
  {
   "cell_type": "code",
   "execution_count": null,
   "metadata": {},
   "outputs": [],
   "source": [
    "%%javascript",
    "IPython.OutputArea.prototype._should_scroll = function(lines) {",
    "    return false;",
    "}"
   ]
  },
  {
   "cell_type": "code",
   "execution_count": null,
   "metadata": {},
   "outputs": [],
   "source": [
    "# Adding system path",
    "import sys, pathlib",
    "sys.path.append(str(pathlib.Path.cwd().parent.parent))",
    "# sys.path"
   ]
  },
  {
   "cell_type": "code",
   "execution_count": null,
   "metadata": {},
   "outputs": [],
   "source": [
    "# Set to show warnings only once",
    "import warnings",
    "warnings.filterwarnings('ignore')"
   ]
  },
  {
   "cell_type": "code",
   "execution_count": null,
   "metadata": {},
   "outputs": [],
   "source": [
    "# Setting up displays",
    "from IPython.display import display, HTML",
    "display(HTML(\"<style>.container { width:100% !important; }</style>\"))",
    "",
    "import pandas as pd",
    "pd.set_option('display.max_rows', 500)",
    "pd.set_option('display.max_columns', 500)",
    "",
    "import math",
    "from plotly import tools",
    "import plotly.express as px",
    "import plotly.graph_objects as go",
    "from plotly.subplots import make_subplots",
    "from tabulate import tabulate",
    "color_scheme=[\"red\",\"blue\",\"green\",\"orange\",\"purple\",\"brown\",\"pink\",\"gray\",\"olive\",\"cyan\",\"darkviolet\",\"goldenrod\",\"darkgreen\",\"chocolate\",\"lawngreen\"]"
   ]
  },
  {
   "cell_type": "code",
   "execution_count": null,
   "metadata": {},
   "outputs": [],
   "source": [
    "# Setting up autoreload for libs",
    "%load_ext autoreload",
    "%autoreload 2",
    "%aimport optiml.backend.warehouse_profile"
   ]
  },
  {
   "cell_type": "code",
   "execution_count": null,
   "metadata": {},
   "outputs": [],
   "source": [
    "# Initialize connection to Snowflake and set analysis date",
    "from optiml.connection import SnowflakeConnConfig",
    "connection = SnowflakeConnConfig(accountname='jg84276.us-central1.gcp',warehousename=\"XSMALL_WH\").create_connection()",
    "# Initialize local environment",
    "import os",
    "cache_dir = os.path.expanduser('~/data/kiva')",
    "# Initialize query library",
    "from optiml.backend.warehouse_profile import WarehouseProfile",
    "wqlib =WarehouseProfile(connection, 'KIV', cache_dir)",
    "sdate = '2022-09-12'",
    "edate = '2022-10-12'",
    "print(f\"The analysis is carried our for date range {sdate} to {edate}\")",
    "wh_name=\"PROD_WH\"",
    "time_delta=\"hour\"",
    "sdate_load=\"2022-10-10\"",
    "edate_load=\"2022-10-11\"",
    "threshold=2"
   ]
  },
  {
   "cell_type": "markdown",
   "metadata": {},
   "source": [
    "### Warehouse load analysis"
   ]
  },
  {
   "cell_type": "code",
   "execution_count": null,
   "metadata": {},
   "outputs": [],
   "source": [
    "df=wqlib.wh_metrics(start_date=sdate,end_date=edate,wh_name=wh_name,delta=time_delta)",
    "fig1=px.bar(df, x=df[\"start_time_truncated\"], y=[df[\"avg_queued_load\"], df[\"avg_running\"]], title=\"PROD_WH\", color_discrete_sequence=color_scheme)",
    "fig1.show()",
    ""
    "time_delta = \"hour\"",
    "wh_name = \"PROD_WH\""
   ]
  },
  {
   "cell_type": "code",
   "execution_count": null,
   "metadata": {},
   "outputs": [],
   "source": [
    "df=wqlib.wh_queued_load_ts(start_date=sdate,end_date=edate,wh_name=wh_name,delta=time_delta)",
    "df.head()"
   ]
  },
  {
   "cell_type": "code",
   "execution_count": null,
   "metadata": {},
   "outputs": [],
   "source": [
    "# fig.append_trace(go.bar(df, x=df[\"start_time_truncated\"], y=[df[\"avg_queued_load\"], df[\"avg_running\"]], title=\" DEV_WH\", color_discrete_sequence=color_scheme),row=1,col=1) ",
    "",
    "fig=px.bar(df, x=df[\"start_time_truncated\"], y=[df[\"avg_queued_load\"], df[\"avg_running\"]], title=wh_name, color_discrete_sequence=color_scheme)",
    "# Range the width has to be updated in",
    "fig.show()"
   ]
  },
  {
   "cell_type": "code",
   "execution_count": null,
   "metadata": {},
   "outputs": [],
   "source": [
    "df1=wqlib.wh_queued_load_ts(start_date=sdate,end_date=edate,wh_name=wh_name,delta=time_delta)",
    "df2=wqlib.wh_credits(sdate,edate)",
    "trace1 = go.Bar(",
    "    x=df1[\"start_time_truncated\"], y=df1[\"avg_queued_load\"],",
    "    name='Queued Load',marker=dict(color='rgb(222,0,0)')",
    ")",
    "trace2 = go.Bar(",
    "    x=df1[\"start_time_truncated\"], y=df1[\"avg_running\"],",
    "    name='Running load'",
    ")",
    "trace3 = go.Scatter(",
    "  x=df2['start_time_truncated']",
    "  ,y=df2['credits_used']",
    "  ,fill='tozeroy'",
    "  ,name='Credits consumed'",
    "  )",
    "",
    "",
    "fig=make_subplots(rows=1,cols=1,shared_yaxes=True)",
    "",
    "",
    "fig.append_trace(trace3, 1,1)",
    "fig.append_trace(trace1, 1, 1)",
    "fig.append_trace(trace2,1,1)",
    "",
    "",
    "fig['layout'].update(height=600, width=2000)",
    "fig.show()"
   ]
  },
  {
   "cell_type": "code",
   "execution_count": null,
   "metadata": {},
   "outputs": [],
   "source": []
  }
 ],
 "metadata": {
  "hide_input": false,
  "kernelspec": {
   "display_name": "sf",
   "language": "python",
   "name": "python3"
  },
  "language_info": {
   "codemirror_mode": {
    "name": "ipython",
    "version": 3
   },
   "file_extension": ".py",
   "mimetype": "text/x-python",
   "name": "python",
   "nbconvert_exporter": "python",
   "pygments_lexer": "ipython3",
   "version": "3.8.2"
  },
  "vscode": {
   "interpreter": {
    "hash": "ba286fab723f3beadf2310fa20d811dff5d5606e9e08a95b52f51185bcb3e19b"
   }
  }
 },
 "nbformat": 4,
 "nbformat_minor": 2
}
