{
 "cells": [
  {
   "cell_type": "code",
   "execution_count": 37,
   "id": "b1a91ffa-8ce8-45d3-a44c-893e312c4dc9",
   "metadata": {},
   "outputs": [],
   "source": [
    "# from google.ads.googleads.client import GoogleAdsClient\n",
    "\n",
    "# credentials = {\n",
    "#     # \"developer_token\": \"abcdef123456\",\n",
    "#     # \"refresh_token\": \"1//0abcdefghijklABCDEF\",\n",
    "#     # \"client_id\": \"123456-abcdef.apps.googleusercontent.com\",\n",
    "#     # \"client_secret\": \"aBcDeFgHiJkL\",\n",
    "#     'json_key_file_path': '/Users/safiyymomen/Downloads/aero-396620-d26532d61477.json',\n",
    "#     'impersonated_email': \n",
    "#     \"use_proto_plus\": True\n",
    "# }\n",
    "\n",
    "# client = GoogleAdsClient.load_from_dict(credentials)"
   ]
  },
  {
   "cell_type": "code",
   "execution_count": 1,
   "id": "108a7c74-eef8-4b5a-87c6-e08079ea26f0",
   "metadata": {},
   "outputs": [
    {
     "name": "stdout",
     "output_type": "stream",
     "text": [
      "token path exists\n",
      "Please visit this URL to authorize this application: https://accounts.google.com/o/oauth2/auth?response_type=code&client_id=816190526670-mnni6ok61s2d2t19vfdf7e6r7dekkc4f.apps.googleusercontent.com&redirect_uri=http%3A%2F%2Flocalhost%3A58318%2F&scope=https%3A%2F%2Fwww.googleapis.com%2Fauth%2Fadwords&state=Nh4b4Mufd1PJHyovFKLqOk8VMuQKpN&access_type=offline\n"
     ]
    },
    {
     "ename": "FileNotFoundError",
     "evalue": "[Errno 2] No such file or directory: '/Users/safiyymomen/google-ads.yaml'",
     "output_type": "error",
     "traceback": [
      "\u001b[0;31m---------------------------------------------------------------------------\u001b[0m",
      "\u001b[0;31mFileNotFoundError\u001b[0m                         Traceback (most recent call last)",
      "Cell \u001b[0;32mIn[1], line 58\u001b[0m\n\u001b[1;32m     41\u001b[0m         token\u001b[38;5;241m.\u001b[39mwrite(creds\u001b[38;5;241m.\u001b[39mto_json())\n\u001b[1;32m     44\u001b[0m \u001b[38;5;66;03m# # If credentials are not available or are invalid, prompt the user to authorize the application.\u001b[39;00m\n\u001b[1;32m     45\u001b[0m \u001b[38;5;66;03m# if not creds or not creds.valid:\u001b[39;00m\n\u001b[1;32m     46\u001b[0m \u001b[38;5;66;03m#     if creds and creds.expired and creds.refresh_token:\u001b[39;00m\n\u001b[0;32m   (...)\u001b[0m\n\u001b[1;32m     56\u001b[0m \n\u001b[1;32m     57\u001b[0m \u001b[38;5;66;03m# Initialize Google Ads API client\u001b[39;00m\n\u001b[0;32m---> 58\u001b[0m client \u001b[38;5;241m=\u001b[39m \u001b[43mGoogleAdsClient\u001b[49m\u001b[38;5;241;43m.\u001b[39;49m\u001b[43mload_from_storage\u001b[49m\u001b[43m(\u001b[49m\u001b[43m)\u001b[49m\n\u001b[1;32m     60\u001b[0m \u001b[38;5;66;03m# Query Google Ads API for conversion events (modify as needed)\u001b[39;00m\n\u001b[1;32m     61\u001b[0m customer_id \u001b[38;5;241m=\u001b[39m \u001b[38;5;124m\"\u001b[39m\u001b[38;5;124mINSERT_YOUR_CUSTOMER_ID\u001b[39m\u001b[38;5;124m\"\u001b[39m\n",
      "File \u001b[0;32m/opt/homebrew/Caskroom/miniforge/base/envs/optiml/lib/python3.8/site-packages/google/ads/googleads/client.py:290\u001b[0m, in \u001b[0;36mGoogleAdsClient.load_from_storage\u001b[0;34m(cls, path, version)\u001b[0m\n\u001b[1;32m    272\u001b[0m \u001b[38;5;129m@classmethod\u001b[39m\n\u001b[1;32m    273\u001b[0m \u001b[38;5;28;01mdef\u001b[39;00m \u001b[38;5;21mload_from_storage\u001b[39m(\u001b[38;5;28mcls\u001b[39m, path\u001b[38;5;241m=\u001b[39m\u001b[38;5;28;01mNone\u001b[39;00m, version\u001b[38;5;241m=\u001b[39m\u001b[38;5;28;01mNone\u001b[39;00m):\n\u001b[1;32m    274\u001b[0m \u001b[38;5;250m    \u001b[39m\u001b[38;5;124;03m\"\"\"Creates a GoogleAdsClient with data stored in the specified file.\u001b[39;00m\n\u001b[1;32m    275\u001b[0m \n\u001b[1;32m    276\u001b[0m \u001b[38;5;124;03m    Args:\u001b[39;00m\n\u001b[0;32m   (...)\u001b[0m\n\u001b[1;32m    288\u001b[0m \u001b[38;5;124;03m        ValueError: If the configuration file lacks a required field.\u001b[39;00m\n\u001b[1;32m    289\u001b[0m \u001b[38;5;124;03m    \"\"\"\u001b[39;00m\n\u001b[0;32m--> 290\u001b[0m     config_data \u001b[38;5;241m=\u001b[39m \u001b[43mconfig\u001b[49m\u001b[38;5;241;43m.\u001b[39;49m\u001b[43mload_from_yaml_file\u001b[49m\u001b[43m(\u001b[49m\u001b[43mpath\u001b[49m\u001b[43m)\u001b[49m\n\u001b[1;32m    291\u001b[0m     kwargs \u001b[38;5;241m=\u001b[39m \u001b[38;5;28mcls\u001b[39m\u001b[38;5;241m.\u001b[39m_get_client_kwargs(config_data)\n\u001b[1;32m    292\u001b[0m     \u001b[38;5;28;01mreturn\u001b[39;00m \u001b[38;5;28mcls\u001b[39m(\u001b[38;5;241m*\u001b[39m\u001b[38;5;241m*\u001b[39m\u001b[38;5;28mdict\u001b[39m(version\u001b[38;5;241m=\u001b[39mversion, \u001b[38;5;241m*\u001b[39m\u001b[38;5;241m*\u001b[39mkwargs))\n",
      "File \u001b[0;32m/opt/homebrew/Caskroom/miniforge/base/envs/optiml/lib/python3.8/site-packages/google/ads/googleads/config.py:69\u001b[0m, in \u001b[0;36m_config_validation_decorator.<locals>.validation_wrapper\u001b[0;34m(*args, **kwargs)\u001b[0m\n\u001b[1;32m     67\u001b[0m \u001b[38;5;129m@functools\u001b[39m\u001b[38;5;241m.\u001b[39mwraps(func)\n\u001b[1;32m     68\u001b[0m \u001b[38;5;28;01mdef\u001b[39;00m \u001b[38;5;21mvalidation_wrapper\u001b[39m(\u001b[38;5;241m*\u001b[39margs, \u001b[38;5;241m*\u001b[39m\u001b[38;5;241m*\u001b[39mkwargs):\n\u001b[0;32m---> 69\u001b[0m     config_dict \u001b[38;5;241m=\u001b[39m \u001b[43mfunc\u001b[49m\u001b[43m(\u001b[49m\u001b[38;5;241;43m*\u001b[39;49m\u001b[43margs\u001b[49m\u001b[43m,\u001b[49m\u001b[43m \u001b[49m\u001b[38;5;241;43m*\u001b[39;49m\u001b[38;5;241;43m*\u001b[39;49m\u001b[43mkwargs\u001b[49m\u001b[43m)\u001b[49m\n\u001b[1;32m     70\u001b[0m     validate_dict(config_dict)\n\u001b[1;32m     71\u001b[0m     \u001b[38;5;28;01mreturn\u001b[39;00m config_dict\n",
      "File \u001b[0;32m/opt/homebrew/Caskroom/miniforge/base/envs/optiml/lib/python3.8/site-packages/google/ads/googleads/config.py:87\u001b[0m, in \u001b[0;36m_config_parser_decorator.<locals>.parser_wrapper\u001b[0;34m(*args, **kwargs)\u001b[0m\n\u001b[1;32m     85\u001b[0m \u001b[38;5;129m@functools\u001b[39m\u001b[38;5;241m.\u001b[39mwraps(func)\n\u001b[1;32m     86\u001b[0m \u001b[38;5;28;01mdef\u001b[39;00m \u001b[38;5;21mparser_wrapper\u001b[39m(\u001b[38;5;241m*\u001b[39margs, \u001b[38;5;241m*\u001b[39m\u001b[38;5;241m*\u001b[39mkwargs):\n\u001b[0;32m---> 87\u001b[0m     config_dict \u001b[38;5;241m=\u001b[39m \u001b[43mfunc\u001b[49m\u001b[43m(\u001b[49m\u001b[38;5;241;43m*\u001b[39;49m\u001b[43margs\u001b[49m\u001b[43m,\u001b[49m\u001b[43m \u001b[49m\u001b[38;5;241;43m*\u001b[39;49m\u001b[38;5;241;43m*\u001b[39;49m\u001b[43mkwargs\u001b[49m\u001b[43m)\u001b[49m\n\u001b[1;32m     88\u001b[0m     parsed_config \u001b[38;5;241m=\u001b[39m convert_login_customer_id_to_str(config_dict)\n\u001b[1;32m     89\u001b[0m     parsed_config \u001b[38;5;241m=\u001b[39m convert_linked_customer_id_to_str(parsed_config)\n",
      "File \u001b[0;32m/opt/homebrew/Caskroom/miniforge/base/envs/optiml/lib/python3.8/site-packages/google/ads/googleads/config.py:271\u001b[0m, in \u001b[0;36mload_from_yaml_file\u001b[0;34m(path)\u001b[0m\n\u001b[1;32m    268\u001b[0m \u001b[38;5;28;01mif\u001b[39;00m \u001b[38;5;129;01mnot\u001b[39;00m os\u001b[38;5;241m.\u001b[39mpath\u001b[38;5;241m.\u001b[39misabs(path):\n\u001b[1;32m    269\u001b[0m     path \u001b[38;5;241m=\u001b[39m os\u001b[38;5;241m.\u001b[39mpath\u001b[38;5;241m.\u001b[39mexpanduser(path)\n\u001b[0;32m--> 271\u001b[0m \u001b[38;5;28;01mwith\u001b[39;00m \u001b[38;5;28;43mopen\u001b[39;49m\u001b[43m(\u001b[49m\u001b[43mpath\u001b[49m\u001b[43m,\u001b[49m\u001b[43m \u001b[49m\u001b[38;5;124;43m\"\u001b[39;49m\u001b[38;5;124;43mrb\u001b[39;49m\u001b[38;5;124;43m\"\u001b[39;49m\u001b[43m)\u001b[49m \u001b[38;5;28;01mas\u001b[39;00m handle:\n\u001b[1;32m    272\u001b[0m     yaml_doc \u001b[38;5;241m=\u001b[39m handle\u001b[38;5;241m.\u001b[39mread()\n\u001b[1;32m    274\u001b[0m \u001b[38;5;28;01mreturn\u001b[39;00m parse_yaml_document_to_dict(yaml_doc)\n",
      "\u001b[0;31mFileNotFoundError\u001b[0m: [Errno 2] No such file or directory: '/Users/safiyymomen/google-ads.yaml'"
     ]
    }
   ],
   "source": [
    "from google.oauth2.credentials import Credentials\n",
    "from google.auth.transport.requests import Request\n",
    "from google.ads.googleads.client import GoogleAdsClient\n",
    "import os\n",
    "from google_auth_oauthlib.flow import InstalledAppFlow\n",
    "# Your OAuth2 client ID and client secret\n",
    "CLIENT_ID = '816190526670-mnni6ok61s2d2t19vfdf7e6r7dekkc4f.apps.googleusercontent.com'\n",
    "CLIENT_SECRET = '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'\n",
    "# creds_json = '/Users/safiyymomen/Downloads/client_secret_816190526670-mnni6ok61s2d2t19vfdf7e6r7dekkc4f.apps.googleusercontent.com.json'\n",
    "creds_json = '/Users/safiyymomen/Downloads/client_secret_816190526670-mnni6ok61s2d2t19vfdf7e6r7dekkc4f.apps.googleusercontent.com (1).json'\n",
    "# Initialize OAuth2 credentials\n",
    "creds = None\n",
    "\n",
    "# The file token.json stores the user's access and refresh tokens.\n",
    "# TOKEN_FILE = '/Users/safiyymomen/Downloads/client_secret_816190526670-mnni6ok61s2d2t19vfdf7e6r7dekkc4f.apps.googleusercontent.com.json'\n",
    "TOKEN_FILE = 'token.json'\n",
    "\n",
    "# Check if token.json exists and load credentials from it\n",
    "if os.path.exists(TOKEN_FILE):\n",
    "    print(\"token path exists\")\n",
    "    creds = Credentials.from_authorized_user_file(TOKEN_FILE)\n",
    "\n",
    "    # If credentials are not available or are invalid, prompt the user to authorize the application.\n",
    "if not creds or not creds.valid:\n",
    "    flow = InstalledAppFlow.from_client_config(\n",
    "        client_config={\n",
    "            'installed': {\n",
    "                'client_id': CLIENT_ID,\n",
    "                'client_secret': CLIENT_SECRET,\n",
    "                'redirect_uris': ['urn:ietf:wg:oauth:2.0:oob', 'http://localhost'],\n",
    "                'auth_uri': 'https://accounts.google.com/o/oauth2/auth',\n",
    "                'token_uri': 'https://accounts.google.com/o/oauth2/token'\n",
    "            }\n",
    "        },\n",
    "        scopes=['https://www.googleapis.com/auth/adwords']\n",
    "    )\n",
    "    creds = flow.run_local_server(port=0)\n",
    "\n",
    "    # Save the credentials for the next run\n",
    "    with open(TOKEN_FILE, 'w') as token:\n",
    "        token.write(creds.to_json())\n",
    "        \n",
    "        \n",
    "# # If credentials are not available or are invalid, prompt the user to authorize the application.\n",
    "# if not creds or not creds.valid:\n",
    "#     if creds and creds.expired and creds.refresh_token:\n",
    "#         creds.refresh(Request())\n",
    "#     else:\n",
    "#         flow = InstalledAppFlow.from_client_secrets_file(\n",
    "#                 creds_json, scopes=['https://www.googleapis.com/auth/adwords'])\n",
    "#         creds = flow.run_local_server(port=0)\n",
    "\n",
    "#     # Save the credentials for the next run\n",
    "#     with open(TOKEN_FILE, 'w') as token:\n",
    "#         token.write(creds.to_json())\n",
    "\n",
    "# Initialize Google Ads API client\n",
    "client = GoogleAdsClient.load_from_storage()\n",
    "\n",
    "# Query Google Ads API for conversion events (modify as needed)\n",
    "customer_id = \"INSERT_YOUR_CUSTOMER_ID\"\n",
    "# query = (\n",
    "#     f\"SELECT \"\n",
    "#     f\"  customer.id, \"\n",
    "#     f\"  customer.descriptive_name, \"\n",
    "#     f\"  customer.currency_code, \"\n",
    "#     f\"  customer.time_zone, \"\n",
    "#     f\"  metrics.conversions \"\n",
    "#     f\"FROM \"\n",
    "#     f\"  customer \"\n",
    "#     f\"WHERE \"\n",
    "#     f\"  segments.date DURING LAST_7_DAYS\"\n",
    "# )\n",
    "\n",
    "query = (\n",
    "    \"\"\"\n",
    "    SELECT\n",
    "        customer.id,\n",
    "        customer.descriptive_name,\n",
    "        customer.currency_code,\n",
    "        customer.time_zone,\n",
    "        customer.tracking_url_template,\n",
    "        customer.auto_tagging_enabled\n",
    "    FROM customer\n",
    "    LIMIT 1\n",
    "    \"\"\"\n",
    ")\n",
    "\n",
    "try:\n",
    "    response = client.service.google_ads.search(customer_id=customer_id, query=query)\n",
    "    for row in response:\n",
    "        print(f\"Customer ID: {row.customer.id.value}\")\n",
    "        print(f\"Conversions: {row.metrics.conversions.value}\")\n",
    "except Exception as ex:\n",
    "    print(f\"An error occurred: {ex}\")\n"
   ]
  },
  {
   "cell_type": "code",
   "execution_count": null,
   "id": "345ea497-2406-4707-b0fb-e6b70a0c3443",
   "metadata": {},
   "outputs": [],
   "source": [
    "# %pip install google-auth google-auth-oauthlib google-auth-httplib2 google-ads\n"
   ]
  },
  {
   "cell_type": "code",
   "execution_count": 17,
   "id": "ad651d16-b941-4740-bb9a-8f3bea9a3ccc",
   "metadata": {},
   "outputs": [
    {
     "data": {
      "text/plain": [
       "{'token': 'ya29.a0AfB_byBFb4HvkZDcc2m_iuO-44DDNfcRGleSBdCYI3jEbBhVpTdQj7v0h-FxGSEnoW7sdPfL7uvBg2Dh-EcVLm4a7tl8zaZs_AibwjvFP85Rfi3LFIstqrec3HQcKAe7Xa0xZSKoPJ__9afbDyicz0EHsU0sih0yt2LkaCgYKAWESARESFQGOcNnC5qJ5Cw9c-hr7_6_M2p4JRQ0171',\n",
       " 'refresh_token': '1//06ZAQjM_ESzF2CgYIARAAGAYSNwF-L9IrzjKeHxNP0NZacXZLLjZHB8GDfALLHL4jMXbDveuokmkU9mXbgg-UaUVV5f0vc5tSTMo',\n",
       " 'token_uri': 'https://accounts.google.com/o/oauth2/token',\n",
       " 'client_id': '816190526670-mnni6ok61s2d2t19vfdf7e6r7dekkc4f.apps.googleusercontent.com',\n",
       " 'client_secret': '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',\n",
       " 'scopes': ['https://www.googleapis.com/auth/adwords'],\n",
       " 'expiry': '2023-10-12T19:43:05.959543Z',\n",
       " 'use_proto_plus': True}"
      ]
     },
     "execution_count": 17,
     "metadata": {},
     "output_type": "execute_result"
    }
   ],
   "source": [
    "creds_dict"
   ]
  },
  {
   "cell_type": "code",
   "execution_count": 2,
   "id": "165a4961-6bed-4ee5-b0b8-a977f8d58278",
   "metadata": {},
   "outputs": [],
   "source": [
    "import json\n",
    "creds_dict = json.loads(creds.to_json())\n",
    "creds_dict['use_proto_plus'] = True\n",
    "creds_dict['developer_token'] = 'Jx7sGlQIkmiWwpYgWFIYwQ'\n",
    "creds_dict['login_customer_id'] = '9364855249'\n",
    "client = GoogleAdsClient.load_from_dict(creds_dict)"
   ]
  },
  {
   "cell_type": "code",
   "execution_count": 3,
   "id": "b4406644-a1c0-4269-8afa-2d76e82d042b",
   "metadata": {},
   "outputs": [
    {
     "data": {
      "text/plain": [
       "<google.ads.googleads.client.GoogleAdsClient at 0x1051a75e0>"
      ]
     },
     "execution_count": 3,
     "metadata": {},
     "output_type": "execute_result"
    }
   ],
   "source": [
    "client"
   ]
  },
  {
   "cell_type": "code",
   "execution_count": 12,
   "id": "877b4a79-fb53-4c8d-bcdb-0609359afeba",
   "metadata": {},
   "outputs": [
    {
     "name": "stderr",
     "output_type": "stream",
     "text": [
      "Request made: ClientCustomerId: 9641825393, Host: googleads.googleapis.com, Method: /google.ads.googleads.v14.services.GoogleAdsService/SearchStream, RequestId: kV-mbs21txiX28etUE3lhw, IsFault: True, FaultMessage: Error in query: unexpected input (.\n"
     ]
    },
    {
     "ename": "GoogleAdsException",
     "evalue": "(<_SingleThreadedRendezvous of RPC that terminated with:\n\tstatus = StatusCode.INVALID_ARGUMENT\n\tdetails = \"Request contains an invalid argument.\"\n\tdebug_error_string = \"UNKNOWN:Error received from peer ipv4:172.217.0.74:443 {created_time:\"2023-10-13T15:22:19.681674-06:00\", grpc_status:3, grpc_message:\"Request contains an invalid argument.\"}\"\n>, <_SingleThreadedRendezvous of RPC that terminated with:\n\tstatus = StatusCode.INVALID_ARGUMENT\n\tdetails = \"Request contains an invalid argument.\"\n\tdebug_error_string = \"UNKNOWN:Error received from peer ipv4:172.217.0.74:443 {created_time:\"2023-10-13T15:22:19.681674-06:00\", grpc_status:3, grpc_message:\"Request contains an invalid argument.\"}\"\n>, errors {\n  error_code {\n    query_error: UNEXPECTED_INPUT\n  }\n  message: \"Error in query: unexpected input (.\"\n}\nrequest_id: \"kV-mbs21txiX28etUE3lhw\"\n, 'kV-mbs21txiX28etUE3lhw')",
     "output_type": "error",
     "traceback": [
      "\u001b[0;31m---------------------------------------------------------------------------\u001b[0m",
      "\u001b[0;31m_SingleThreadedRendezvous\u001b[0m                 Traceback (most recent call last)",
      "File \u001b[0;32m/opt/homebrew/Caskroom/miniforge/base/envs/optiml/lib/python3.8/site-packages/google/ads/googleads/interceptors/response_wrappers.py:88\u001b[0m, in \u001b[0;36m_UnaryStreamWrapper.__next__\u001b[0;34m(self)\u001b[0m\n\u001b[1;32m     87\u001b[0m \u001b[38;5;28;01mtry\u001b[39;00m:\n\u001b[0;32m---> 88\u001b[0m     message \u001b[38;5;241m=\u001b[39m \u001b[38;5;28;43mnext\u001b[39;49m\u001b[43m(\u001b[49m\u001b[38;5;28;43mself\u001b[39;49m\u001b[38;5;241;43m.\u001b[39;49m\u001b[43m_underlay_call\u001b[49m\u001b[43m)\u001b[49m\n\u001b[1;32m     89\u001b[0m     \u001b[38;5;66;03m# Store only the first streaming response object in _cache.initial_response_object.\u001b[39;00m\n\u001b[1;32m     90\u001b[0m     \u001b[38;5;66;03m# Each streaming response object captures 10,000 rows.\u001b[39;00m\n\u001b[1;32m     91\u001b[0m     \u001b[38;5;66;03m# The default log character limit is 5,000, so caching multiple\u001b[39;00m\n\u001b[1;32m     92\u001b[0m     \u001b[38;5;66;03m# streaming response objects does not make sense in most cases,\u001b[39;00m\n\u001b[1;32m     93\u001b[0m     \u001b[38;5;66;03m# as only [part of] 1 will get logged.\u001b[39;00m\n",
      "File \u001b[0;32m/opt/homebrew/Caskroom/miniforge/base/envs/optiml/lib/python3.8/site-packages/grpc/_channel.py:541\u001b[0m, in \u001b[0;36m_Rendezvous.__next__\u001b[0;34m(self)\u001b[0m\n\u001b[1;32m    540\u001b[0m \u001b[38;5;28;01mdef\u001b[39;00m \u001b[38;5;21m__next__\u001b[39m(\u001b[38;5;28mself\u001b[39m):\n\u001b[0;32m--> 541\u001b[0m     \u001b[38;5;28;01mreturn\u001b[39;00m \u001b[38;5;28;43mself\u001b[39;49m\u001b[38;5;241;43m.\u001b[39;49m\u001b[43m_next\u001b[49m\u001b[43m(\u001b[49m\u001b[43m)\u001b[49m\n",
      "File \u001b[0;32m/opt/homebrew/Caskroom/miniforge/base/envs/optiml/lib/python3.8/site-packages/grpc/_channel.py:774\u001b[0m, in \u001b[0;36m_SingleThreadedRendezvous._next\u001b[0;34m(self)\u001b[0m\n\u001b[1;32m    773\u001b[0m         \u001b[38;5;28;01mraise\u001b[39;00m \u001b[38;5;28mself\u001b[39m\n\u001b[0;32m--> 774\u001b[0m \u001b[38;5;28;01mreturn\u001b[39;00m \u001b[38;5;28;43mself\u001b[39;49m\u001b[38;5;241;43m.\u001b[39;49m\u001b[43m_next_response\u001b[49m\u001b[43m(\u001b[49m\u001b[43m)\u001b[49m\n",
      "File \u001b[0;32m/opt/homebrew/Caskroom/miniforge/base/envs/optiml/lib/python3.8/site-packages/grpc/_channel.py:748\u001b[0m, in \u001b[0;36m_SingleThreadedRendezvous._next_response\u001b[0;34m(self)\u001b[0m\n\u001b[1;32m    747\u001b[0m \u001b[38;5;28;01melif\u001b[39;00m \u001b[38;5;28mself\u001b[39m\u001b[38;5;241m.\u001b[39m_state\u001b[38;5;241m.\u001b[39mcode \u001b[38;5;129;01mis\u001b[39;00m \u001b[38;5;129;01mnot\u001b[39;00m \u001b[38;5;28;01mNone\u001b[39;00m:\n\u001b[0;32m--> 748\u001b[0m     \u001b[38;5;28;01mraise\u001b[39;00m \u001b[38;5;28mself\u001b[39m\n",
      "\u001b[0;31m_SingleThreadedRendezvous\u001b[0m: <_SingleThreadedRendezvous of RPC that terminated with:\n\tstatus = StatusCode.INVALID_ARGUMENT\n\tdetails = \"Request contains an invalid argument.\"\n\tdebug_error_string = \"UNKNOWN:Error received from peer ipv4:172.217.0.74:443 {created_time:\"2023-10-13T15:22:19.681674-06:00\", grpc_status:3, grpc_message:\"Request contains an invalid argument.\"}\"\n>",
      "\nDuring handling of the above exception, another exception occurred:\n",
      "\u001b[0;31mGoogleAdsException\u001b[0m                        Traceback (most recent call last)",
      "Cell \u001b[0;32mIn[12], line 49\u001b[0m\n\u001b[1;32m     44\u001b[0m ga_service \u001b[38;5;241m=\u001b[39m client\u001b[38;5;241m.\u001b[39mget_service(\u001b[38;5;124m'\u001b[39m\u001b[38;5;124mGoogleAdsService\u001b[39m\u001b[38;5;124m'\u001b[39m)\n\u001b[1;32m     45\u001b[0m \u001b[38;5;66;03m# ga.se(customer_id=customer_id, query=query)\u001b[39;00m\n\u001b[1;32m     46\u001b[0m \u001b[38;5;66;03m# for row in response:\u001b[39;00m\n\u001b[1;32m     47\u001b[0m \u001b[38;5;66;03m#     print(f\"Customer ID: {row.customer.id.value}\")\u001b[39;00m\n\u001b[1;32m     48\u001b[0m \u001b[38;5;66;03m#     print(f\"Conversions: {row.metrics.conversions.value}\")\u001b[39;00m\n\u001b[0;32m---> 49\u001b[0m stream \u001b[38;5;241m=\u001b[39m \u001b[43mga_service\u001b[49m\u001b[38;5;241;43m.\u001b[39;49m\u001b[43msearch_stream\u001b[49m\u001b[43m(\u001b[49m\u001b[43mcustomer_id\u001b[49m\u001b[38;5;241;43m=\u001b[39;49m\u001b[43mcustomer_id\u001b[49m\u001b[43m,\u001b[49m\u001b[43m \u001b[49m\u001b[43mquery\u001b[49m\u001b[38;5;241;43m=\u001b[39;49m\u001b[43mquery\u001b[49m\u001b[43m)\u001b[49m\n\u001b[1;32m     51\u001b[0m \u001b[38;5;28;01mfor\u001b[39;00m batch \u001b[38;5;129;01min\u001b[39;00m stream:\n\u001b[1;32m     52\u001b[0m     \u001b[38;5;28;01mfor\u001b[39;00m row \u001b[38;5;129;01min\u001b[39;00m batch\u001b[38;5;241m.\u001b[39mresults:\n",
      "File \u001b[0;32m/opt/homebrew/Caskroom/miniforge/base/envs/optiml/lib/python3.8/site-packages/google/ads/googleads/v14/services/services/google_ads_service/client.py:4008\u001b[0m, in \u001b[0;36mGoogleAdsServiceClient.search_stream\u001b[0;34m(self, request, customer_id, query, retry, timeout, metadata)\u001b[0m\n\u001b[1;32m   4001\u001b[0m metadata \u001b[38;5;241m=\u001b[39m \u001b[38;5;28mtuple\u001b[39m(metadata) \u001b[38;5;241m+\u001b[39m (\n\u001b[1;32m   4002\u001b[0m     gapic_v1\u001b[38;5;241m.\u001b[39mrouting_header\u001b[38;5;241m.\u001b[39mto_grpc_metadata(\n\u001b[1;32m   4003\u001b[0m         ((\u001b[38;5;124m\"\u001b[39m\u001b[38;5;124mcustomer_id\u001b[39m\u001b[38;5;124m\"\u001b[39m, request\u001b[38;5;241m.\u001b[39mcustomer_id),)\n\u001b[1;32m   4004\u001b[0m     ),\n\u001b[1;32m   4005\u001b[0m )\n\u001b[1;32m   4007\u001b[0m \u001b[38;5;66;03m# Send the request.\u001b[39;00m\n\u001b[0;32m-> 4008\u001b[0m response \u001b[38;5;241m=\u001b[39m \u001b[43mrpc\u001b[49m\u001b[43m(\u001b[49m\n\u001b[1;32m   4009\u001b[0m \u001b[43m    \u001b[49m\u001b[43mrequest\u001b[49m\u001b[43m,\u001b[49m\n\u001b[1;32m   4010\u001b[0m \u001b[43m    \u001b[49m\u001b[43mretry\u001b[49m\u001b[38;5;241;43m=\u001b[39;49m\u001b[43mretry\u001b[49m\u001b[43m,\u001b[49m\n\u001b[1;32m   4011\u001b[0m \u001b[43m    \u001b[49m\u001b[43mtimeout\u001b[49m\u001b[38;5;241;43m=\u001b[39;49m\u001b[43mtimeout\u001b[49m\u001b[43m,\u001b[49m\n\u001b[1;32m   4012\u001b[0m \u001b[43m    \u001b[49m\u001b[43mmetadata\u001b[49m\u001b[38;5;241;43m=\u001b[39;49m\u001b[43mmetadata\u001b[49m\u001b[43m,\u001b[49m\n\u001b[1;32m   4013\u001b[0m \u001b[43m\u001b[49m\u001b[43m)\u001b[49m\n\u001b[1;32m   4015\u001b[0m \u001b[38;5;66;03m# Done; return the response.\u001b[39;00m\n\u001b[1;32m   4016\u001b[0m \u001b[38;5;28;01mreturn\u001b[39;00m response\n",
      "File \u001b[0;32m/opt/homebrew/Caskroom/miniforge/base/envs/optiml/lib/python3.8/site-packages/google/api_core/gapic_v1/method.py:113\u001b[0m, in \u001b[0;36m_GapicCallable.__call__\u001b[0;34m(self, timeout, retry, *args, **kwargs)\u001b[0m\n\u001b[1;32m    110\u001b[0m     metadata\u001b[38;5;241m.\u001b[39mextend(\u001b[38;5;28mself\u001b[39m\u001b[38;5;241m.\u001b[39m_metadata)\n\u001b[1;32m    111\u001b[0m     kwargs[\u001b[38;5;124m\"\u001b[39m\u001b[38;5;124mmetadata\u001b[39m\u001b[38;5;124m\"\u001b[39m] \u001b[38;5;241m=\u001b[39m metadata\n\u001b[0;32m--> 113\u001b[0m \u001b[38;5;28;01mreturn\u001b[39;00m \u001b[43mwrapped_func\u001b[49m\u001b[43m(\u001b[49m\u001b[38;5;241;43m*\u001b[39;49m\u001b[43margs\u001b[49m\u001b[43m,\u001b[49m\u001b[43m \u001b[49m\u001b[38;5;241;43m*\u001b[39;49m\u001b[38;5;241;43m*\u001b[39;49m\u001b[43mkwargs\u001b[49m\u001b[43m)\u001b[49m\n",
      "File \u001b[0;32m/opt/homebrew/Caskroom/miniforge/base/envs/optiml/lib/python3.8/site-packages/google/api_core/grpc_helpers.py:162\u001b[0m, in \u001b[0;36m_wrap_stream_errors.<locals>.error_remapped_callable\u001b[0;34m(*args, **kwargs)\u001b[0m\n\u001b[1;32m    157\u001b[0m     \u001b[38;5;66;03m# Auto-fetching the first result causes PubSub client's streaming pull\u001b[39;00m\n\u001b[1;32m    158\u001b[0m     \u001b[38;5;66;03m# to hang when re-opening the stream, thus we need examine the hacky\u001b[39;00m\n\u001b[1;32m    159\u001b[0m     \u001b[38;5;66;03m# hidden flag to see if pre-fetching is disabled.\u001b[39;00m\n\u001b[1;32m    160\u001b[0m     \u001b[38;5;66;03m# https://github.com/googleapis/python-pubsub/issues/93#issuecomment-630762257\u001b[39;00m\n\u001b[1;32m    161\u001b[0m     prefetch_first \u001b[38;5;241m=\u001b[39m \u001b[38;5;28mgetattr\u001b[39m(callable_, \u001b[38;5;124m\"\u001b[39m\u001b[38;5;124m_prefetch_first_result_\u001b[39m\u001b[38;5;124m\"\u001b[39m, \u001b[38;5;28;01mTrue\u001b[39;00m)\n\u001b[0;32m--> 162\u001b[0m     \u001b[38;5;28;01mreturn\u001b[39;00m \u001b[43m_StreamingResponseIterator\u001b[49m\u001b[43m(\u001b[49m\n\u001b[1;32m    163\u001b[0m \u001b[43m        \u001b[49m\u001b[43mresult\u001b[49m\u001b[43m,\u001b[49m\u001b[43m \u001b[49m\u001b[43mprefetch_first_result\u001b[49m\u001b[38;5;241;43m=\u001b[39;49m\u001b[43mprefetch_first\u001b[49m\n\u001b[1;32m    164\u001b[0m \u001b[43m    \u001b[49m\u001b[43m)\u001b[49m\n\u001b[1;32m    165\u001b[0m \u001b[38;5;28;01mexcept\u001b[39;00m grpc\u001b[38;5;241m.\u001b[39mRpcError \u001b[38;5;28;01mas\u001b[39;00m exc:\n\u001b[1;32m    166\u001b[0m     \u001b[38;5;28;01mraise\u001b[39;00m exceptions\u001b[38;5;241m.\u001b[39mfrom_grpc_error(exc) \u001b[38;5;28;01mfrom\u001b[39;00m \u001b[38;5;21;01mexc\u001b[39;00m\n",
      "File \u001b[0;32m/opt/homebrew/Caskroom/miniforge/base/envs/optiml/lib/python3.8/site-packages/google/api_core/grpc_helpers.py:88\u001b[0m, in \u001b[0;36m_StreamingResponseIterator.__init__\u001b[0;34m(self, wrapped, prefetch_first_result)\u001b[0m\n\u001b[1;32m     86\u001b[0m \u001b[38;5;28;01mtry\u001b[39;00m:\n\u001b[1;32m     87\u001b[0m     \u001b[38;5;28;01mif\u001b[39;00m prefetch_first_result:\n\u001b[0;32m---> 88\u001b[0m         \u001b[38;5;28mself\u001b[39m\u001b[38;5;241m.\u001b[39m_stored_first_result \u001b[38;5;241m=\u001b[39m \u001b[38;5;28;43mnext\u001b[39;49m\u001b[43m(\u001b[49m\u001b[38;5;28;43mself\u001b[39;49m\u001b[38;5;241;43m.\u001b[39;49m\u001b[43m_wrapped\u001b[49m\u001b[43m)\u001b[49m\n\u001b[1;32m     89\u001b[0m \u001b[38;5;28;01mexcept\u001b[39;00m \u001b[38;5;167;01mTypeError\u001b[39;00m:\n\u001b[1;32m     90\u001b[0m     \u001b[38;5;66;03m# It is possible the wrapped method isn't an iterable (a grpc.Call\u001b[39;00m\n\u001b[1;32m     91\u001b[0m     \u001b[38;5;66;03m# for instance). If this happens don't store the first result.\u001b[39;00m\n\u001b[1;32m     92\u001b[0m     \u001b[38;5;28;01mpass\u001b[39;00m\n",
      "File \u001b[0;32m/opt/homebrew/Caskroom/miniforge/base/envs/optiml/lib/python3.8/site-packages/google/ads/googleads/interceptors/response_wrappers.py:108\u001b[0m, in \u001b[0;36m_UnaryStreamWrapper.__next__\u001b[0;34m(self)\u001b[0m\n\u001b[1;32m    106\u001b[0m \u001b[38;5;28;01mexcept\u001b[39;00m \u001b[38;5;167;01mException\u001b[39;00m \u001b[38;5;28;01mas\u001b[39;00m e:\n\u001b[1;32m    107\u001b[0m     \u001b[38;5;28mself\u001b[39m\u001b[38;5;241m.\u001b[39m_exception \u001b[38;5;241m=\u001b[39m e\n\u001b[0;32m--> 108\u001b[0m     \u001b[38;5;28;01mraise\u001b[39;00m e\n",
      "File \u001b[0;32m/opt/homebrew/Caskroom/miniforge/base/envs/optiml/lib/python3.8/site-packages/google/ads/googleads/interceptors/response_wrappers.py:105\u001b[0m, in \u001b[0;36m_UnaryStreamWrapper.__next__\u001b[0;34m(self)\u001b[0m\n\u001b[1;32m    103\u001b[0m \u001b[38;5;28;01mexcept\u001b[39;00m \u001b[38;5;167;01mException\u001b[39;00m:\n\u001b[1;32m    104\u001b[0m     \u001b[38;5;28;01mtry\u001b[39;00m:\n\u001b[0;32m--> 105\u001b[0m         \u001b[38;5;28;43mself\u001b[39;49m\u001b[38;5;241;43m.\u001b[39;49m\u001b[43m_failure_handler\u001b[49m\u001b[43m(\u001b[49m\u001b[38;5;28;43mself\u001b[39;49m\u001b[38;5;241;43m.\u001b[39;49m\u001b[43m_underlay_call\u001b[49m\u001b[43m)\u001b[49m\n\u001b[1;32m    106\u001b[0m     \u001b[38;5;28;01mexcept\u001b[39;00m \u001b[38;5;167;01mException\u001b[39;00m \u001b[38;5;28;01mas\u001b[39;00m e:\n\u001b[1;32m    107\u001b[0m         \u001b[38;5;28mself\u001b[39m\u001b[38;5;241m.\u001b[39m_exception \u001b[38;5;241m=\u001b[39m e\n",
      "File \u001b[0;32m/opt/homebrew/Caskroom/miniforge/base/envs/optiml/lib/python3.8/site-packages/google/ads/googleads/interceptors/exception_interceptor.py:71\u001b[0m, in \u001b[0;36mExceptionInterceptor._handle_grpc_failure\u001b[0;34m(self, response)\u001b[0m\n\u001b[1;32m     47\u001b[0m \u001b[38;5;28;01mdef\u001b[39;00m \u001b[38;5;21m_handle_grpc_failure\u001b[39m(\u001b[38;5;28mself\u001b[39m, response):\n\u001b[1;32m     48\u001b[0m \u001b[38;5;250m    \u001b[39m\u001b[38;5;124;03m\"\"\"Attempts to convert failed responses to a GoogleAdsException object.\u001b[39;00m\n\u001b[1;32m     49\u001b[0m \n\u001b[1;32m     50\u001b[0m \u001b[38;5;124;03m    Handles failed gRPC responses of by attempting to convert them\u001b[39;00m\n\u001b[0;32m   (...)\u001b[0m\n\u001b[1;32m     69\u001b[0m \u001b[38;5;124;03m            will be raised as-is.\u001b[39;00m\n\u001b[1;32m     70\u001b[0m \u001b[38;5;124;03m    \"\"\"\u001b[39;00m\n\u001b[0;32m---> 71\u001b[0m     \u001b[38;5;28;01mraise\u001b[39;00m \u001b[38;5;28mself\u001b[39m\u001b[38;5;241m.\u001b[39m_get_error_from_response(response)\n",
      "\u001b[0;31mGoogleAdsException\u001b[0m: (<_SingleThreadedRendezvous of RPC that terminated with:\n\tstatus = StatusCode.INVALID_ARGUMENT\n\tdetails = \"Request contains an invalid argument.\"\n\tdebug_error_string = \"UNKNOWN:Error received from peer ipv4:172.217.0.74:443 {created_time:\"2023-10-13T15:22:19.681674-06:00\", grpc_status:3, grpc_message:\"Request contains an invalid argument.\"}\"\n>, <_SingleThreadedRendezvous of RPC that terminated with:\n\tstatus = StatusCode.INVALID_ARGUMENT\n\tdetails = \"Request contains an invalid argument.\"\n\tdebug_error_string = \"UNKNOWN:Error received from peer ipv4:172.217.0.74:443 {created_time:\"2023-10-13T15:22:19.681674-06:00\", grpc_status:3, grpc_message:\"Request contains an invalid argument.\"}\"\n>, errors {\n  error_code {\n    query_error: UNEXPECTED_INPUT\n  }\n  message: \"Error in query: unexpected input (.\"\n}\nrequest_id: \"kV-mbs21txiX28etUE3lhw\"\n, 'kV-mbs21txiX28etUE3lhw')"
     ]
    }
   ],
   "source": [
    "# Query Google Ads API for conversion events (modify as needed)\n",
    "# customer_id = \"2897932021\"\n",
    "# customer_id = \"9364855249\"\n",
    "customer_id = \"9641825393\"\n",
    "\n",
    "# query = (\n",
    "#     f\"SELECT \"\n",
    "#     f\"  customer.id, \"\n",
    "#     f\"  customer.descriptive_name, \"\n",
    "#     f\"  customer.currency_code, \"\n",
    "#     f\"  customer.time_zone, \"\n",
    "#     f\"  metrics.conversions \"\n",
    "#     f\"FROM \"\n",
    "#     f\"  customer \"\n",
    "#     f\"WHERE \"\n",
    "#     f\"  segments.date DURING LAST_7_DAYS\"\n",
    "# )\n",
    "\n",
    "# query = (\n",
    "#     \"\"\"\n",
    "#     SELECT\n",
    "#         customer.id,\n",
    "#         customer.descriptive_name,\n",
    "#         customer.currency_code,\n",
    "#         customer.time_zone,\n",
    "#         customer.tracking_url_template,\n",
    "#         customer.auto_tagging_enabled\n",
    "#     FROM customer\n",
    "#     LIMIT 1\n",
    "#     \"\"\"\n",
    "# )\n",
    "\n",
    "query = (\n",
    " \"\"\"\n",
    "SELECT\n",
    "  SUM(conversion_action.conversions)\n",
    "FROM\n",
    "  keyword_view\n",
    "WHERE\n",
    "  segments.date DURING LAST_7_DAYS\n",
    "  AND campaign.name = 'INSERT_YOUR_CAMPAIGN_NAME_HERE'\n",
    " \"\"\"\n",
    ")\n",
    "ga_service = client.get_service('GoogleAdsService')\n",
    "# ga.se(customer_id=customer_id, query=query)\n",
    "# for row in response:\n",
    "#     print(f\"Customer ID: {row.customer.id.value}\")\n",
    "#     print(f\"Conversions: {row.metrics.conversions.value}\")\n",
    "stream = ga_service.search_stream(customer_id=customer_id, query=query)\n",
    "\n",
    "for batch in stream:\n",
    "    for row in batch.results:\n",
    "        print(row)\n",
    "        print(\n",
    "            f\"Campaign with ID {row.campaign.id} and name \"\n",
    "            f'\"{row.campaign.name}\" was found.'\n",
    "        )"
   ]
  },
  {
   "cell_type": "code",
   "execution_count": null,
   "id": "4dca2077-8f17-4636-b366-edd5d090cb05",
   "metadata": {},
   "outputs": [],
   "source": [
    "# followed https://www.youtube.com/watch?v=xm5-iDOhF_8&list=PLKByxjzUC-N_Uep8VTb5Z3EAguG_hu8dI&t=316s"
   ]
  },
  {
   "cell_type": "code",
   "execution_count": 23,
   "id": "1f4edc20-7251-49e4-a451-da02e41858b1",
   "metadata": {},
   "outputs": [
    {
     "ename": "TypeError",
     "evalue": "get_service() missing 1 required positional argument: 'name'",
     "output_type": "error",
     "traceback": [
      "\u001b[0;31m---------------------------------------------------------------------------\u001b[0m",
      "\u001b[0;31mTypeError\u001b[0m                                 Traceback (most recent call last)",
      "Cell \u001b[0;32mIn[23], line 1\u001b[0m\n\u001b[0;32m----> 1\u001b[0m \u001b[43mclient\u001b[49m\u001b[38;5;241;43m.\u001b[39;49m\u001b[43mget_service\u001b[49m\u001b[43m(\u001b[49m\u001b[43m)\u001b[49m\n",
      "\u001b[0;31mTypeError\u001b[0m: get_service() missing 1 required positional argument: 'name'"
     ]
    }
   ],
   "source": [
    "client.get_service()"
   ]
  },
  {
   "cell_type": "code",
   "execution_count": 25,
   "id": "8bb77397-1cbf-4d5a-8b8e-943b1e1ad432",
   "metadata": {},
   "outputs": [],
   "source": [
    "ga_service = client.get_service('GoogleAdsService')\n"
   ]
  },
  {
   "cell_type": "code",
   "execution_count": null,
   "id": "e8797e0e-aeac-46af-b72a-130c0b8c761a",
   "metadata": {},
   "outputs": [],
   "source": [
    "ga_service.search_stream"
   ]
  }
 ],
 "metadata": {
  "kernelspec": {
   "display_name": "Python 3 (ipykernel)",
   "language": "python",
   "name": "python3"
  },
  "language_info": {
   "codemirror_mode": {
    "name": "ipython",
    "version": 3
   },
   "file_extension": ".py",
   "mimetype": "text/x-python",
   "name": "python",
   "nbconvert_exporter": "python",
   "pygments_lexer": "ipython3",
   "version": "3.8.12"
  }
 },
 "nbformat": 4,
 "nbformat_minor": 5
}
