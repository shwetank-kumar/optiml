{
 "cells": [
  {
   "cell_type": "code",
   "execution_count": 1,
   "id": "3f9dc5c5-7a0d-4c09-ac6e-db41308d7a04",
   "metadata": {},
   "outputs": [],
   "source": [
    "%load_ext autoreload\n",
    "%autoreload 2"
   ]
  },
  {
   "cell_type": "code",
   "execution_count": 2,
   "id": "dd6f1bbf-11f5-4b60-ad20-654bb98996bb",
   "metadata": {},
   "outputs": [
    {
     "name": "stderr",
     "output_type": "stream",
     "text": [
      "05:43:10 INFO:Snowflake Connector for Python Version: 2.7.12, Python Version: 3.8.16, Platform: macOS-10.15.7-x86_64-i386-64bit\n",
      "05:43:10 INFO:This connection is in OCSP Fail Open Mode. TLS Certificates would be checked for validity and revocation status. Any other Certificate Revocation related exceptions or OCSP Responder failures would be disregarded in favor of connectivity.\n",
      "05:43:10 INFO:Setting use_openssl_only mode to False\n",
      "05:43:12 INFO:Snowflake Connector for Python Version: 2.7.12, Python Version: 3.8.16, Platform: macOS-10.15.7-x86_64-i386-64bit\n",
      "05:43:12 INFO:This connection is in OCSP Fail Open Mode. TLS Certificates would be checked for validity and revocation status. Any other Certificate Revocation related exceptions or OCSP Responder failures would be disregarded in favor of connectivity.\n"
     ]
    },
    {
     "name": "stdout",
     "output_type": "stream",
     "text": [
      "connected to account OMWYKHW-US_WEST_2 wh DEMO db SHARE_COPY schema KNOT_MONITORING with role DEV\n"
     ]
    },
    {
     "name": "stderr",
     "output_type": "stream",
     "text": [
      "05:43:13 INFO:Snowpark Session information: \n",
      "\"version\" : 1.3.0,\n",
      "\"python.version\" : 3.8.16,\n",
      "\"python.connector.version\" : 2.7.12,\n",
      "\"python.connector.session.id\" : 9098488785367046,\n",
      "\"os.name\" : Darwin\n",
      "\n"
     ]
    },
    {
     "name": "stdout",
     "output_type": "stream",
     "text": [
      "time: 19.1 ms (started: 2023-06-06 17:43:13 -04:00)\n"
     ]
    }
   ],
   "source": [
    "%reload_ext dotenv\n",
    "\n",
    "%dotenv ../../env/.env\n",
    "\n",
    "import warnings\n",
    "import utils\n",
    "from pandas import Timedelta\n",
    "import time\n",
    "from utils import logger, sql_to_df, run_sql, session, conn\n",
    "import pandas as pd\n",
    "warnings.filterwarnings('ignore')\n",
    "\n",
    "try:\n",
    "    %load_ext autotime\n",
    "except:\n",
    "    !pip install ipython-autotime\n",
    "    %load_ext autotime"
   ]
  },
  {
   "cell_type": "code",
   "execution_count": 3,
   "id": "97363426-6408-4712-ae9c-f1016abfff7d",
   "metadata": {},
   "outputs": [
    {
     "name": "stdout",
     "output_type": "stream",
     "text": [
      "time: 1.89 ms (started: 2023-06-06 17:45:19 -04:00)\n"
     ]
    }
   ],
   "source": [
    "staging_tables = [\n",
    "    'stg_rate_sheet_daily',\n",
    "    'stg_warehouse_metering_history',\n",
    "    'stg_access_history',\n",
    "    'stg_grants_to_roles',\n",
    "    'stg_query_history',\n",
    "    'stg_remaining_balance_daily',\n",
    "    'stg_sessions',\n",
    "    'stg_storage_usage',\n",
    "    'stg_table_storage_metrics',\n",
    "    'stg_usage_in_currency_daily',\n",
    "    'stg_users',\n",
    "    'stg_views',\n",
    "    'stg_warehouse_events_history',\n",
    "    'stg_warehouse_load_history',\n",
    "    'target_role_grants',\n",
    "    'warehouse_grants',\n",
    "    'warehouse_params',\n",
    "    'warehouse_usage_granted',\n",
    "    'warehouses',\n",
    "    'DAILY_RATES'\n",
    "]\n",
    "\n",
    "# to update from staging, dbt seed && dbt run --exclude staging daily_rates"
   ]
  },
  {
   "cell_type": "code",
   "execution_count": 4,
   "id": "7ebef3f9-511c-4ec0-84d8-ae77e59a090a",
   "metadata": {},
   "outputs": [
    {
     "name": "stderr",
     "output_type": "stream",
     "text": [
      "05:45:21 INFO:query: [alter warehouse demo set warehouse_size=medium]\n",
      "05:45:22 INFO:query execution done\n"
     ]
    },
    {
     "data": {
      "text/plain": [
       "<snowflake.connector.cursor.SnowflakeCursor at 0x7fd61e0cc400>"
      ]
     },
     "execution_count": 4,
     "metadata": {},
     "output_type": "execute_result"
    },
    {
     "name": "stdout",
     "output_type": "stream",
     "text": [
      "time: 398 ms (started: 2023-06-06 17:45:21 -04:00)\n"
     ]
    }
   ],
   "source": [
    "run_sql(\"alter warehouse demo set warehouse_size=medium\")"
   ]
  },
  {
   "cell_type": "code",
   "execution_count": 13,
   "id": "e8664044-a906-4f88-8f01-39a8dfcb73cc",
   "metadata": {},
   "outputs": [
    {
     "name": "stderr",
     "output_type": "stream",
     "text": [
      "07:37:14 INFO:query: [show tables in schema knot_share.optiml]\n",
      "07:37:14 INFO:query execution done\n"
     ]
    },
    {
     "data": {
      "text/plain": [
       "['ACTIVE_TIME_ESTIMATE',\n",
       " 'BASE_OBJECT_ACCESS_EVENT',\n",
       " 'BILLING_ESTIMATE',\n",
       " 'CLIENT_TYPE_MAPPING',\n",
       " 'CLIENT_VERSION_DEPRECATION_DATE',\n",
       " 'CLONE_GROUP_STORAGE_METRICS',\n",
       " 'COST_PER_QUERY',\n",
       " 'DAILY_RATES',\n",
       " 'DIRECT_OBJECT_ACCESS_EVENT',\n",
       " 'HELLO',\n",
       " 'OBJECT_MODIFIED_BY_QUERY',\n",
       " 'OBJECT_MODIFIED_EVENT',\n",
       " 'QUERY_ERA',\n",
       " 'QUERY_ERA_HOUR',\n",
       " 'QUERY_ERA_TEST',\n",
       " 'QUERY_HISTORY_ENRICHED',\n",
       " 'SETUP_SUCCESS',\n",
       " 'STG_ACCESS_HISTORY',\n",
       " 'STG_GRANTS_TO_ROLES',\n",
       " 'STG_QUERY_HISTORY',\n",
       " 'STG_RATE_SHEET_DAILY',\n",
       " 'STG_REMAINING_BALANCE_DAILY',\n",
       " 'STG_SESSIONS',\n",
       " 'STG_STORAGE_USAGE',\n",
       " 'STG_TABLE_STORAGE_METRICS',\n",
       " 'STG_USAGE_IN_CURRENCY_DAILY',\n",
       " 'STG_USERS',\n",
       " 'STG_VIEWS',\n",
       " 'STG_WAREHOUSE_EVENTS_HISTORY',\n",
       " 'STG_WAREHOUSE_LOAD_HISTORY',\n",
       " 'STG_WAREHOUSE_METERING_HISTORY',\n",
       " 'STORAGE_USAGE_BY_USAGE_DATE',\n",
       " 'SUSPEND_LAG_BY_WH',\n",
       " 'SUSPEND_LAG_BY_WH_SIM',\n",
       " 'TABLE_NAME_ACCESS_METRICS',\n",
       " 'TABLE_NAME_AGG',\n",
       " 'TABLE_STORAGE_METRICS_ENRICHED',\n",
       " 'TABLE_SUCCESS',\n",
       " 'TARGET_ROLE_GRANTS',\n",
       " 'TEST_RESULTS_60D',\n",
       " 'WAREHOUSES',\n",
       " 'WAREHOUSE_CLUSTER_ERA',\n",
       " 'WAREHOUSE_CLUSTER_EVENT',\n",
       " 'WAREHOUSE_CREDITS',\n",
       " 'WAREHOUSE_ERA',\n",
       " 'WAREHOUSE_ERA_HOUR',\n",
       " 'WAREHOUSE_ERA_HOUR_SIM',\n",
       " 'WAREHOUSE_ERA_SIMULATED',\n",
       " 'WAREHOUSE_EVENTS_HISTORY_SIM',\n",
       " 'WAREHOUSE_GRANTS',\n",
       " 'WAREHOUSE_METERING_HISTORY_ENRICHED',\n",
       " 'WAREHOUSE_PARAMS',\n",
       " 'WAREHOUSE_PROFILE',\n",
       " 'WAREHOUSE_PROFILE_BY_HOUR',\n",
       " 'WAREHOUSE_PROFILE_BY_HOUR_SIM',\n",
       " 'WAREHOUSE_PROFILE_SIM',\n",
       " 'WAREHOUSE_QUERY_HOUR',\n",
       " 'WAREHOUSE_QUERY_HOUR_SIM',\n",
       " 'WAREHOUSE_TESTS',\n",
       " 'WAREHOUSE_USAGE_GRANTED',\n",
       " 'WAREHOUSE_UTILIZATION']"
      ]
     },
     "execution_count": 13,
     "metadata": {},
     "output_type": "execute_result"
    },
    {
     "name": "stdout",
     "output_type": "stream",
     "text": [
      "time: 291 ms (started: 2023-06-03 19:37:14 -04:00)\n"
     ]
    }
   ],
   "source": [
    "# df = sql_to_df(\"show tables in schema knot_share.optiml\")\n",
    "# df.name.to_list()"
   ]
  },
  {
   "cell_type": "code",
   "execution_count": null,
   "id": "fc1aa982-fa39-430e-9e4b-a8ab4b30276e",
   "metadata": {},
   "outputs": [
    {
     "name": "stderr",
     "output_type": "stream",
     "text": [
      "07:37:54 INFO:query: [create or replace table share_copy.knot.ACTIVE_TIME_ESTIMATE as select * from kn...]\n",
      "07:37:56 INFO:query execution done\n",
      "07:37:56 INFO:query: [create or replace table share_copy.knot.BASE_OBJECT_ACCESS_EVENT as select * fro...]\n",
      "07:38:15 INFO:query execution done\n",
      "07:38:15 INFO:query: [create or replace table share_copy.knot.BILLING_ESTIMATE as select * from knot_s...]\n",
      "07:38:17 INFO:query execution done\n",
      "07:38:17 INFO:query: [create or replace table share_copy.knot.CLIENT_TYPE_MAPPING as select * from kno...]\n",
      "07:38:18 INFO:query execution done\n",
      "07:38:18 INFO:query: [create or replace table share_copy.knot.CLIENT_VERSION_DEPRECATION_DATE as selec...]\n",
      "07:38:19 INFO:query execution done\n",
      "07:38:19 INFO:query: [create or replace table share_copy.knot.CLONE_GROUP_STORAGE_METRICS as select * ...]\n",
      "07:38:20 INFO:query execution done\n",
      "07:38:20 INFO:query: [create or replace table share_copy.knot.COST_PER_QUERY as select * from knot_sha...]\n",
      "07:38:36 INFO:query execution done\n",
      "07:38:36 INFO:query: [create or replace table share_copy.knot.DAILY_RATES as select * from knot_share....]\n",
      "07:38:38 INFO:query execution done\n",
      "07:38:38 INFO:query: [create or replace table share_copy.knot.DIRECT_OBJECT_ACCESS_EVENT as select * f...]\n",
      "07:38:57 INFO:query execution done\n",
      "07:38:57 INFO:query: [create or replace table share_copy.knot.HELLO as select * from knot_share.optiml...]\n",
      "07:38:58 INFO:query execution done\n",
      "07:38:58 INFO:query: [create or replace table share_copy.knot.OBJECT_MODIFIED_BY_QUERY as select * fro...]\n",
      "07:39:05 INFO:query execution done\n",
      "07:39:05 INFO:query: [create or replace table share_copy.knot.OBJECT_MODIFIED_EVENT as select * from k...]\n",
      "07:39:16 INFO:query execution done\n",
      "07:39:16 INFO:query: [create or replace table share_copy.knot.QUERY_ERA as select * from knot_share.op...]\n",
      "07:39:18 INFO:query execution done\n",
      "07:39:18 INFO:query: [create or replace table share_copy.knot.QUERY_ERA_HOUR as select * from knot_sha...]\n",
      "07:39:19 INFO:query execution done\n",
      "07:39:19 INFO:query: [create or replace table share_copy.knot.QUERY_ERA_TEST as select * from knot_sha...]\n",
      "07:39:20 INFO:query execution done\n",
      "07:39:20 INFO:query: [create or replace table share_copy.knot.QUERY_HISTORY_ENRICHED as select * from ...]\n"
     ]
    },
    {
     "name": "stdout",
     "output_type": "stream",
     "text": [
      "time: 4min 11s (started: 2023-06-03 19:37:54 -04:00)\n"
     ]
    },
    {
     "name": "stderr",
     "output_type": "stream",
     "text": [
      "\n",
      "KeyboardInterrupt\n",
      "\n"
     ]
    }
   ],
   "source": [
    "target_schema = \"share_copy.knot\"\n",
    "for t in df.name.to_list():\n",
    "    sql = f\"create or replace table {target_schema}.{t} as select * from knot_share.optiml.{t}\"\n",
    "    run_sql(sql)"
   ]
  },
  {
   "cell_type": "code",
   "execution_count": 9,
   "id": "91209397-d0e2-41d4-b644-4a7f514b60da",
   "metadata": {},
   "outputs": [
    {
     "name": "stderr",
     "output_type": "stream",
     "text": [
      "05:51:23 INFO:query: [create or replace table share_copy.knot.stg_rate_sheet_daily as select * from kn...]\n",
      "05:51:23 INFO:query: [create or replace table share_copy.knot.stg_warehouse_metering_history as select...]\n",
      "05:51:23 INFO:query: [create or replace table share_copy.knot.stg_access_history as select * from knot...]\n",
      "05:51:23 INFO:query: [create or replace table share_copy.knot.stg_grants_to_roles as select * from kno...]\n",
      "05:51:25 INFO:query execution done\n",
      "05:51:25 INFO:query: [create or replace table share_copy.knot_monitoring.stg_rate_sheet_daily clone sh...]\n",
      "05:51:25 INFO:query execution done\n",
      "05:51:25 INFO:query: [create or replace table share_copy.knot_monitoring.stg_warehouse_metering_histor...]\n",
      "05:51:25 INFO:query execution done\n",
      "05:51:25 INFO:query: [create or replace table share_copy.knot_monitoring.stg_grants_to_roles clone sha...]\n",
      "05:51:25 INFO:query execution done\n",
      "05:51:25 INFO:query: [create or replace table share_copy.knot.stg_query_history as select * from knot_...]\n",
      "05:51:26 INFO:query execution done\n",
      "05:51:26 INFO:query: [create or replace table share_copy.knot.stg_remaining_balance_daily as select * ...]\n",
      "05:51:26 INFO:query execution done\n",
      "05:51:26 INFO:query: [create or replace table share_copy.knot.stg_sessions as select * from knot_share...]\n",
      "05:51:27 INFO:query execution done\n",
      "05:51:27 INFO:query: [create or replace table share_copy.knot_monitoring.stg_remaining_balance_daily c...]\n",
      "05:51:29 INFO:query execution done\n",
      "05:51:29 INFO:query: [create or replace table share_copy.knot.stg_storage_usage as select * from knot_...]\n",
      "05:51:30 INFO:query execution done\n",
      "05:51:30 INFO:query: [create or replace table share_copy.knot_monitoring.stg_storage_usage clone share...]\n",
      "05:51:32 INFO:query execution done\n",
      "05:51:32 INFO:query: [create or replace table share_copy.knot.stg_table_storage_metrics as select * fr...]\n",
      "05:51:33 INFO:query execution done\n",
      "05:51:33 INFO:query: [create or replace table share_copy.knot_monitoring.stg_sessions clone share_copy...]\n",
      "05:51:34 INFO:query execution done\n",
      "05:51:34 INFO:query: [create or replace table share_copy.knot.stg_usage_in_currency_daily as select * ...]\n",
      "05:51:35 INFO:query execution done\n",
      "05:51:35 INFO:query: [create or replace table share_copy.knot_monitoring.stg_usage_in_currency_daily c...]\n",
      "05:51:36 INFO:query execution done\n",
      "05:51:36 INFO:query: [create or replace table share_copy.knot.stg_users as select * from knot_share.op...]\n",
      "05:51:37 INFO:query execution done\n",
      "05:51:37 INFO:query: [create or replace table share_copy.knot_monitoring.stg_users clone share_copy.kn...]\n",
      "05:51:38 INFO:query execution done\n",
      "05:51:38 INFO:query: [create or replace table share_copy.knot.stg_views as select * from knot_share.op...]\n",
      "05:51:41 INFO:query execution done\n",
      "05:51:41 INFO:query: [create or replace table share_copy.knot_monitoring.stg_views clone share_copy.kn...]\n",
      "05:51:42 INFO:query execution done\n",
      "05:51:42 INFO:query: [create or replace table share_copy.knot.stg_warehouse_events_history as select *...]\n",
      "05:51:45 INFO:query execution done\n",
      "05:51:45 INFO:query: [create or replace table share_copy.knot_monitoring.stg_warehouse_events_history ...]\n",
      "05:51:46 INFO:query execution done\n",
      "05:51:46 INFO:query: [create or replace table share_copy.knot.stg_warehouse_load_history as select * f...]\n",
      "05:51:49 INFO:query execution done\n",
      "05:51:49 INFO:query: [create or replace table share_copy.knot_monitoring.stg_warehouse_load_history cl...]\n",
      "05:51:49 INFO:query execution done\n",
      "05:51:49 INFO:query: [create or replace table share_copy.knot_monitoring.stg_table_storage_metrics clo...]\n",
      "05:51:50 INFO:query execution done\n",
      "05:51:50 INFO:query: [create or replace table share_copy.knot.target_role_grants as select * from knot...]\n",
      "05:51:50 INFO:query execution done\n",
      "05:51:50 INFO:query: [create or replace table share_copy.knot.warehouse_grants as select * from knot_s...]\n",
      "05:51:51 INFO:query execution done\n",
      "05:51:51 INFO:query: [create or replace table share_copy.knot_monitoring.target_role_grants clone shar...]\n",
      "05:51:51 INFO:query execution done\n",
      "05:51:51 INFO:query: [create or replace table share_copy.knot_monitoring.warehouse_grants clone share_...]\n",
      "05:51:52 INFO:query execution done\n",
      "05:51:52 INFO:query: [create or replace table share_copy.knot.warehouse_params as select * from knot_s...]\n",
      "05:51:52 INFO:query execution done\n",
      "05:51:52 INFO:query: [create or replace table share_copy.knot.warehouse_usage_granted as select * from...]\n",
      "05:51:53 INFO:query execution done\n",
      "05:51:53 INFO:query: [create or replace table share_copy.knot_monitoring.warehouse_usage_granted clone...]\n",
      "05:51:54 INFO:query execution done\n",
      "05:51:54 INFO:query: [create or replace table share_copy.knot_monitoring.warehouse_params clone share_...]\n",
      "05:51:54 INFO:query execution done\n",
      "05:51:54 INFO:query: [create or replace table share_copy.knot.warehouses as select * from knot_share.o...]\n",
      "05:51:55 INFO:query execution done\n",
      "05:51:55 INFO:query: [create or replace table share_copy.knot.DAILY_RATES as select * from knot_share....]\n",
      "05:51:55 INFO:query execution done\n",
      "05:51:55 INFO:query: [create or replace table share_copy.knot_monitoring.warehouses clone share_copy.k...]\n",
      "05:51:56 INFO:query execution done\n",
      "05:51:56 INFO:query: [create or replace table share_copy.knot_monitoring.DAILY_RATES clone share_copy....]\n",
      "05:51:56 INFO:query execution done\n",
      "05:51:57 INFO:query execution done\n",
      "05:53:35 INFO:query execution done\n",
      "05:53:35 INFO:query: [create or replace table share_copy.knot_monitoring.stg_query_history clone share...]\n",
      "05:53:37 INFO:query execution done\n",
      "05:55:13 INFO:query execution done\n",
      "05:55:13 INFO:query: [create or replace table share_copy.knot_monitoring.stg_access_history clone shar...]\n",
      "05:55:14 INFO:query execution done\n"
     ]
    },
    {
     "name": "stdout",
     "output_type": "stream",
     "text": [
      "time: 3min 51s (started: 2023-06-06 17:51:23 -04:00)\n"
     ]
    }
   ],
   "source": [
    "import concurrent.futures\n",
    "\n",
    "target_schema = \"share_copy.knot\"\n",
    "\n",
    "def copy_table(table):\n",
    "    sql = f\"create or replace table share_copy.knot.{table} as select * from knot_share.optiml.{table}\"\n",
    "    run_sql(sql)\n",
    "    sql = f\"create or replace table share_copy.knot_monitoring.{table} clone share_copy.knot.{table}\"    \n",
    "    run_sql(sql)\n",
    "\n",
    "# List of arguments\n",
    "arguments = staging_tables # df.name.to_list()\n",
    "\n",
    "# Create a ThreadPoolExecutor with the desired number of workers\n",
    "with concurrent.futures.ThreadPoolExecutor(max_workers=4) as executor:\n",
    "    # Submit the tasks to the executor\n",
    "    futures = [executor.submit(copy_table, arg) for arg in arguments]\n",
    "\n",
    "    # Wait for the tasks to complete\n",
    "    # concurrent.futures.wait(futures)\n",
    "    # Process the completed futures\n",
    "    for future in concurrent.futures.as_completed(futures):\n",
    "        try:\n",
    "            # Retrieve the result from the completed future\n",
    "            result = future.result()\n",
    "        except Exception as e:\n",
    "            # Handle the exception or failure\n",
    "            print(f\"Exception occurred: {e}\")"
   ]
  },
  {
   "cell_type": "code",
   "execution_count": 8,
   "id": "8ebf88c7-ad62-4dcc-8644-24d1750f3e31",
   "metadata": {},
   "outputs": [
    {
     "name": "stderr",
     "output_type": "stream",
     "text": [
      "10:45:08 INFO:query: [create or replace schema share_copy.knot_monitoring clone share_copy.knot;]\n",
      "10:45:23 INFO:query execution done\n"
     ]
    },
    {
     "data": {
      "text/plain": [
       "<snowflake.connector.cursor.SnowflakeCursor at 0x7f9217b3bd60>"
      ]
     },
     "execution_count": 8,
     "metadata": {},
     "output_type": "execute_result"
    },
    {
     "name": "stdout",
     "output_type": "stream",
     "text": [
      "time: 15.2 s (started: 2023-06-03 22:45:08 -04:00)\n"
     ]
    }
   ],
   "source": [
    "run_sql(\"create or replace schema share_copy.knot_monitoring clone share_copy.knot;\")"
   ]
  },
  {
   "cell_type": "code",
   "execution_count": 7,
   "id": "ce4adb24-ea8c-46b2-856a-a6b4fe76c709",
   "metadata": {},
   "outputs": [
    {
     "name": "stdout",
     "output_type": "stream",
     "text": [
      "Modified SQL statement: insert into table as select * from c where column = 'value'\n"
     ]
    }
   ],
   "source": [
    "import re\n",
    "\n",
    "sql_statement = \"insert into blah.blah.table as select * from a.b.c where column = 'value'\"\n",
    "modified_sql = re.sub(r'(\\b(?:FROM|JOIN|INTO|TABLE)\\s+)\\w+\\.\\w+\\.', r'\\1', sql_statement, flags=re.IGNORECASE)\n",
    "\n",
    "print(\"Modified SQL statement:\", modified_sql)"
   ]
  },
  {
   "cell_type": "code",
   "execution_count": 8,
   "id": "436cb2df-419a-4089-8bda-1646805307ed",
   "metadata": {},
   "outputs": [
    {
     "name": "stdout",
     "output_type": "stream",
     "text": [
      "Modified SQL statement: select * c where column = 'value'\n"
     ]
    }
   ],
   "source": [
    "import re\n",
    "\n",
    "sql_statement = \"select * from a.b.c where column = 'value'\"\n",
    "modified_sql = re.sub(r'\\b(?:FROM|JOIN|INTO|TABLE)\\s+\\w+(?:\\.\\w+)+\\.', '', sql_statement, flags=re.IGNORECASE)\n",
    "\n",
    "print(\"Modified SQL statement:\", modified_sql)"
   ]
  },
  {
   "cell_type": "code",
   "execution_count": 18,
   "id": "01f6fea7-5531-4f8a-9ef5-269546758897",
   "metadata": {},
   "outputs": [
    {
     "name": "stdout",
     "output_type": "stream",
     "text": [
      "['hi.you.', 'a.b.', 'x.y.']\n",
      "insert into t select * from c join z\n"
     ]
    }
   ],
   "source": [
    "import re\n",
    "\n",
    "text = \"insert into hi.you.t select * from a.b.c join x.y.z\"\n",
    "pattern = r'\\b(\\w+\\.\\w+\\.)'\n",
    "\n",
    "matches = re.findall(pattern, text)\n",
    "\n",
    "print(matches)\n",
    "\n",
    "modified_sql = re.sub(pattern, '', text, flags=re.IGNORECASE)\n",
    "print(modified_sql)"
   ]
  },
  {
   "cell_type": "code",
   "execution_count": 19,
   "id": "fa92dd90-3f5a-45e1-9404-43bb0e6e6dec",
   "metadata": {},
   "outputs": [
    {
     "ename": "NameError",
     "evalue": "name 'parsed' is not defined",
     "output_type": "error",
     "traceback": [
      "\u001b[0;31m---------------------------------------------------------------------------\u001b[0m",
      "\u001b[0;31mNameError\u001b[0m                                 Traceback (most recent call last)",
      "Cell \u001b[0;32mIn[19], line 2\u001b[0m\n\u001b[1;32m      1\u001b[0m \u001b[38;5;66;03m# print all column references (a and b)\u001b[39;00m\n\u001b[0;32m----> 2\u001b[0m \u001b[38;5;28;01mfor\u001b[39;00m column \u001b[38;5;129;01min\u001b[39;00m \u001b[43mparsed\u001b[49m\u001b[38;5;241m.\u001b[39mfind_all(exp\u001b[38;5;241m.\u001b[39mColumn):\n\u001b[1;32m      3\u001b[0m     \u001b[38;5;28mprint\u001b[39m(column\u001b[38;5;241m.\u001b[39malias_or_name)\n",
      "\u001b[0;31mNameError\u001b[0m: name 'parsed' is not defined"
     ]
    }
   ],
   "source": []
  },
  {
   "cell_type": "code",
   "execution_count": null,
   "id": "0206e395-076c-43bd-a6c6-0ca2498da608",
   "metadata": {},
   "outputs": [],
   "source": []
  }
 ],
 "metadata": {
  "kernelspec": {
   "display_name": "Python 3 (ipykernel)",
   "language": "python",
   "name": "python3"
  },
  "language_info": {
   "codemirror_mode": {
    "name": "ipython",
    "version": 3
   },
   "file_extension": ".py",
   "mimetype": "text/x-python",
   "name": "python",
   "nbconvert_exporter": "python",
   "pygments_lexer": "ipython3",
   "version": "3.8.16"
  }
 },
 "nbformat": 4,
 "nbformat_minor": 5
}
