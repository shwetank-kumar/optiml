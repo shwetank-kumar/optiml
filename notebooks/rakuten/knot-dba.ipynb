{
 "cells": [
  {
   "cell_type": "code",
   "execution_count": null,
   "id": "3f9dc5c5-7a0d-4c09-ac6e-db41308d7a04",
   "metadata": {},
   "outputs": [],
   "source": [
    "%load_ext autoreload\n",
    "%autoreload 2"
   ]
  },
  {
   "cell_type": "code",
   "execution_count": null,
   "id": "b75008cd-0272-4c28-abe6-7c0734a47fad",
   "metadata": {},
   "outputs": [],
   "source": []
  },
  {
   "cell_type": "code",
   "execution_count": null,
   "id": "dd6f1bbf-11f5-4b60-ad20-654bb98996bb",
   "metadata": {},
   "outputs": [],
   "source": [
    "%reload_ext dotenv\n",
    "\n",
    "%dotenv ../../env/.env\n",
    "\n",
    "import warnings\n",
    "import utils\n",
    "from pandas import Timedelta\n",
    "import time\n",
    "from utils import logger, sql_to_df, run_sql, session, conn\n",
    "import pandas as pd\n",
    "warnings.filterwarnings('ignore')\n",
    "\n",
    "try:\n",
    "    %load_ext autotime\n",
    "except:\n",
    "    !pip install ipython-autotime\n",
    "    %load_ext autotime"
   ]
  },
  {
   "cell_type": "code",
   "execution_count": null,
   "id": "97363426-6408-4712-ae9c-f1016abfff7d",
   "metadata": {},
   "outputs": [],
   "source": [
    "staging_tables = [\n",
    "    'stg_rate_sheet_daily',\n",
    "    'stg_warehouse_metering_history',\n",
    "    'stg_access_history',\n",
    "    'stg_grants_to_roles',\n",
    "    'stg_query_history',\n",
    "    'stg_remaining_balance_daily',\n",
    "    'stg_sessions',\n",
    "    'stg_storage_usage',\n",
    "    'stg_table_storage_metrics',\n",
    "    'stg_usage_in_currency_daily',\n",
    "    'stg_users',\n",
    "    'stg_views',\n",
    "    'stg_warehouse_events_history',\n",
    "    'stg_warehouse_load_history',\n",
    "    'target_role_grants',\n",
    "    'warehouse_grants',\n",
    "    'warehouse_params',\n",
    "    'warehouse_usage_granted',\n",
    "    'warehouses',\n",
    "    'DAILY_RATES'\n",
    "]\n",
    "\n",
    "# to update from staging, dbt seed && dbt run --exclude staging daily_rates"
   ]
  },
  {
   "cell_type": "code",
   "execution_count": null,
   "id": "7ebef3f9-511c-4ec0-84d8-ae77e59a090a",
   "metadata": {},
   "outputs": [],
   "source": [
    "run_sql(\"alter warehouse demo set warehouse_size=medium\")"
   ]
  },
  {
   "cell_type": "code",
   "execution_count": null,
   "id": "e8664044-a906-4f88-8f01-39a8dfcb73cc",
   "metadata": {},
   "outputs": [],
   "source": [
    "# df = sql_to_df(\"show tables in schema knot_share.optiml\")\n",
    "# df.name.to_list()"
   ]
  },
  {
   "cell_type": "code",
   "execution_count": null,
   "id": "fc1aa982-fa39-430e-9e4b-a8ab4b30276e",
   "metadata": {},
   "outputs": [],
   "source": [
    "target_schema = \"share_copy.knot\"\n",
    "for t in df.name.to_list():\n",
    "    sql = f\"create or replace table {target_schema}.{t} as select * from knot_share.optiml.{t}\"\n",
    "    run_sql(sql)"
   ]
  },
  {
   "cell_type": "code",
   "execution_count": null,
   "id": "91209397-d0e2-41d4-b644-4a7f514b60da",
   "metadata": {},
   "outputs": [],
   "source": [
    "import concurrent.futures\n",
    "\n",
    "target_schema = \"share_copy.knot\"\n",
    "\n",
    "def copy_table(table):\n",
    "    sql = f\"create or replace table {target_schema}.{table} as select * from knot_share.optiml.{table}\"\n",
    "    run_sql(sql)\n",
    "\n",
    "# List of arguments\n",
    "arguments = staging_tables # df.name.to_list()\n",
    "\n",
    "# Create a ThreadPoolExecutor with the desired number of workers\n",
    "with concurrent.futures.ThreadPoolExecutor(max_workers=4) as executor:\n",
    "    # Submit the tasks to the executor\n",
    "    futures = [executor.submit(copy_table, arg) for arg in arguments]\n",
    "\n",
    "    # Wait for the tasks to complete\n",
    "    # concurrent.futures.wait(futures)\n",
    "    # Process the completed futures\n",
    "    for future in concurrent.futures.as_completed(futures):\n",
    "        try:\n",
    "            # Retrieve the result from the completed future\n",
    "            result = future.result()\n",
    "        except Exception as e:\n",
    "            # Handle the exception or failure\n",
    "            print(f\"Exception occurred: {e}\")"
   ]
  },
  {
   "cell_type": "code",
   "execution_count": null,
   "id": "8ebf88c7-ad62-4dcc-8644-24d1750f3e31",
   "metadata": {},
   "outputs": [],
   "source": [
    "run_sql(\"create or replace schema share_copy.knot_monitoring clone share_copy.knot;\")"
   ]
  },
  {
   "cell_type": "code",
   "execution_count": null,
   "id": "ce4adb24-ea8c-46b2-856a-a6b4fe76c709",
   "metadata": {},
   "outputs": [],
   "source": []
  }
 ],
 "metadata": {
  "kernelspec": {
   "display_name": "Python 3 (ipykernel)",
   "language": "python",
   "name": "python3"
  },
  "language_info": {
   "codemirror_mode": {
    "name": "ipython",
    "version": 3
   },
   "file_extension": ".py",
   "mimetype": "text/x-python",
   "name": "python",
   "nbconvert_exporter": "python",
   "pygments_lexer": "ipython3",
   "version": "3.8.16"
  }
 },
 "nbformat": 4,
 "nbformat_minor": 5
}
