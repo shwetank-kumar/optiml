{
 "cells": [
  {
   "cell_type": "code",
   "execution_count": 1,
   "id": "7edbffc8-3643-4d3a-9ccf-cc29aa6cd83c",
   "metadata": {},
   "outputs": [],
   "source": [
    "%reload_ext dotenv\n",
    "\n",
    "%dotenv ../../env/.env\n"
   ]
  },
  {
   "cell_type": "code",
   "execution_count": 2,
   "id": "77fce0d0-80f4-41df-9533-b476d07b43f7",
   "metadata": {},
   "outputs": [
    {
     "name": "stdout",
     "output_type": "stream",
     "text": [
      "connected to omwykhw-jx58967 OPS\n"
     ]
    }
   ],
   "source": [
    "import snowflake.connector\n",
    "import os\n",
    "\n",
    "conn = snowflake.connector.connect(\n",
    "    user=os.environ['SNOWFLAKE_USER'],\n",
    "    role=os.environ['SNOWFLAKE_ROLE'],\n",
    "    password=os.environ['SNOWFLAKE_PASSWORD'],\n",
    "    account=os.environ['SNOWFLAKE_ACCOUNT'],\n",
    "    warehouse=os.environ['SNOWFLAKE_WAREHOUSE'],\n",
    "    database=os.environ['SNOWFLAKE_DATABASE'],\n",
    "    schema=os.environ['SNOWFLAKE_SCHEMA'],\n",
    "    client_session_keep_alive=True\n",
    ")\n",
    "\n",
    "print(f\"connected to {conn.account} {conn.warehouse}\")"
   ]
  },
  {
   "cell_type": "code",
   "execution_count": 3,
   "id": "78bbbde0-ad26-46a7-b442-5dc4343b4ad4",
   "metadata": {},
   "outputs": [],
   "source": [
    "# Create a cursor object.\n",
    "import pandas as pd\n",
    "def run_sql(sql: str, ctx=conn):\n",
    "    return conn.cursor().execute(sql)\n",
    "\n",
    "import functools\n",
    "import time\n",
    "\n",
    "# @functools.cache\n",
    "def sql_to_df(sql_query, pre_hook=[], ctx=conn):\n",
    "    print(f\"RUNNING pre-hook: {pre_hook}\")\n",
    "    for s in pre_hook:\n",
    "        run_sql(s,conn)\n",
    "        # print(f\"RUNNING SQL: {sql_query}\")\n",
    "\n",
    "    # todo: move to latest method of pandas dataframe fetching\n",
    "    # may need to upgrade python: https://github.com/snowflakedb/snowflake-connector-python/issues/986#issuecomment-1115354587\n",
    "    \n",
    "    trimmed_lowered = sql_query.strip().lower()\n",
    "    if trimmed_lowered.startswith('select') or trimmed_lowered.startswith('with'):\n",
    "        print(f\"using arrow to fetch results...\")\n",
    "        cur = ctx.cursor()\n",
    "        cur.execute(sql_query)\n",
    "        data = cur.fetch_pandas_all() \n",
    "        cur.close()\n",
    "    else:\n",
    "        data = pd.read_sql(\n",
    "            sql_query,\n",
    "            ctx,\n",
    "        )\n",
    "    \n",
    "    data.columns = data.columns.str.lower()\n",
    "    return data"
   ]
  },
  {
   "cell_type": "code",
   "execution_count": 4,
   "id": "793f0322-ae72-47ef-948c-6a4af2d03381",
   "metadata": {},
   "outputs": [
    {
     "name": "stdout",
     "output_type": "stream",
     "text": [
      "omwykhw-jx58967\n"
     ]
    }
   ],
   "source": []
  },
  {
   "cell_type": "code",
   "execution_count": 15,
   "id": "8a7a6b60-a9ae-48de-aa0a-6d0ae855e9f6",
   "metadata": {},
   "outputs": [
    {
     "name": "stdout",
     "output_type": "stream",
     "text": [
      "RUNNING pre-hook: []\n"
     ]
    },
    {
     "name": "stderr",
     "output_type": "stream",
     "text": [
      "/usr/local/anaconda3/envs/optiml/lib/python3.9/site-packages/pandas/io/sql.py:762: UserWarning: pandas only support SQLAlchemy connectable(engine/connection) ordatabase string URI or sqlite3 DBAPI2 connectionother DBAPI2 objects are not tested, please consider using SQLAlchemy\n",
      "  warnings.warn(\n"
     ]
    },
    {
     "name": "stdout",
     "output_type": "stream",
     "text": [
      "RUNNING pre-hook: []\n",
      "using arrow to fetch results...\n"
     ]
    },
    {
     "ename": "AttributeError",
     "evalue": "'dict' object has no attribute 'iloc'",
     "output_type": "error",
     "traceback": [
      "\u001b[0;31m---------------------------------------------------------------------------\u001b[0m",
      "\u001b[0;31mAttributeError\u001b[0m                            Traceback (most recent call last)",
      "Cell \u001b[0;32mIn[15], line 49\u001b[0m\n\u001b[1;32m     47\u001b[0m df \u001b[38;5;241m=\u001b[39m sql_to_df(latest_query_sql)\u001b[38;5;241m.\u001b[39miloc[\u001b[38;5;241m0\u001b[39m]\u001b[38;5;241m.\u001b[39mto_dict()\n\u001b[1;32m     48\u001b[0m \u001b[38;5;28;01mif\u001b[39;00m df[\u001b[38;5;124m'\u001b[39m\u001b[38;5;124mexecution_status\u001b[39m\u001b[38;5;124m'\u001b[39m] \u001b[38;5;241m!=\u001b[39m \u001b[38;5;124m'\u001b[39m\u001b[38;5;124mRUNNING\u001b[39m\u001b[38;5;124m'\u001b[39m:\n\u001b[0;32m---> 49\u001b[0m     time_since_q \u001b[38;5;241m=\u001b[39m \u001b[43mdf\u001b[49m\u001b[38;5;241;43m.\u001b[39;49m\u001b[43miloc\u001b[49m[\u001b[38;5;241m0\u001b[39m]\u001b[38;5;241m.\u001b[39mto_dict()[\u001b[38;5;124m'\u001b[39m\u001b[38;5;124mtime_since_q\u001b[39m\u001b[38;5;124m'\u001b[39m]\n\u001b[1;32m     50\u001b[0m \u001b[38;5;28;01melse\u001b[39;00m:\n\u001b[1;32m     51\u001b[0m     \u001b[38;5;28mprint\u001b[39m(\u001b[38;5;124m\"\u001b[39m\u001b[38;5;124mquery running...\u001b[39m\u001b[38;5;124m\"\u001b[39m)\n",
      "\u001b[0;31mAttributeError\u001b[0m: 'dict' object has no attribute 'iloc'"
     ]
    }
   ],
   "source": [
    "#    |-------------------------|------------------------------------------------------|\n",
    "#   start                    60 sec\n",
    "\n",
    "#    |------|                     \n",
    "\n",
    "#    |------|       |---------|    \n",
    "\n",
    "\n",
    "#    |------|              |---------|\n",
    "\n",
    "\n",
    "#    |-------------------------------|    \n",
    "\n",
    "query_sec = 10\n",
    "\n",
    "starts = [\n",
    "    [0],\n",
    "    [0, 40],\n",
    "    [0, 55],\n",
    "    # [0,9,18,2\n",
    "]\n",
    "\n",
    "# def smart_suspend():\n",
    "wh = 'demo'\n",
    "df = sql_to_df(f\"show warehouses like '{wh}'\")\n",
    "status = df.iloc[0].to_dict()\n",
    "\n",
    "latest_query_sql = f\"\"\"\n",
    "\n",
    "with first as (\n",
    "select \n",
    "    warehouse_name,\n",
    "    --query_text,\n",
    "    execution_status,\n",
    "    start_time,\n",
    "    end_time,\n",
    "    timediff('milliseconds', end_time, current_timestamp()) time_since_q\n",
    "from table(information_schema.query_history_by_warehouse('{wh}'))\n",
    "order by start_time desc\n",
    "limit 1\n",
    ")\n",
    "select *\n",
    "from first\n",
    "--where execution_status != 'RUNNING'\n",
    "\"\"\"\n",
    "if status['state'] == 'STARTED':\n",
    "    time_since_started = pd.Timestamp.utcnow() - status['resumed_on']\n",
    "    if time_since_started >= 60:\n",
    "        df = sql_to_df\n",
    "    # df = sql_to_df(latest_query_sql).iloc[0].to_dict()\n",
    "    # if df['execution_status'] != 'RUNNING':\n",
    "    #     time_since_q = df.iloc[0].to_dict()['time_since_q']\n",
    "    # else:\n",
    "    #     print(\"query running...\")\n",
    "else:\n",
    "    print(\"warehouse suspended...\")"
   ]
  },
  {
   "cell_type": "code",
   "execution_count": 6,
   "id": "3778c778-493f-48a8-90dc-0c8505a863c4",
   "metadata": {},
   "outputs": [
    {
     "data": {
      "text/plain": [
       "Timestamp('2023-04-09 23:15:21.922000+0000', tz='UTC')"
      ]
     },
     "execution_count": 6,
     "metadata": {},
     "output_type": "execute_result"
    }
   ],
   "source": [
    "status['resumed_on']"
   ]
  },
  {
   "cell_type": "code",
   "execution_count": 9,
   "id": "173c0fac-7ec5-4900-bdb4-4bc6e61def7c",
   "metadata": {},
   "outputs": [
    {
     "data": {
      "text/plain": [
       "datetime.datetime(2023, 4, 9, 19, 20, 6, 205087)"
      ]
     },
     "execution_count": 9,
     "metadata": {},
     "output_type": "execute_result"
    }
   ],
   "source": [
    "from datetime import datetime\n",
    "datetime.now()"
   ]
  },
  {
   "cell_type": "code",
   "execution_count": 22,
   "id": "1a8a1597-d561-4a4e-b291-87d1cfd508c7",
   "metadata": {},
   "outputs": [
    {
     "data": {
      "text/plain": [
       "Timedelta('0 days 00:00:11.437963')"
      ]
     },
     "execution_count": 22,
     "metadata": {},
     "output_type": "execute_result"
    }
   ],
   "source": [
    "import pandas as pd\n",
    "pd.Timestamp.utcnow() - status['resumed_on']"
   ]
  },
  {
   "cell_type": "code",
   "execution_count": null,
   "id": "406fdb73-9d26-4767-8524-a7db1559ad0e",
   "metadata": {},
   "outputs": [],
   "source": []
  }
 ],
 "metadata": {
  "kernelspec": {
   "display_name": "Python 3 (ipykernel)",
   "language": "python",
   "name": "python3"
  },
  "language_info": {
   "codemirror_mode": {
    "name": "ipython",
    "version": 3
   },
   "file_extension": ".py",
   "mimetype": "text/x-python",
   "name": "python",
   "nbconvert_exporter": "python",
   "pygments_lexer": "ipython3",
   "version": "3.9.15"
  }
 },
 "nbformat": 4,
 "nbformat_minor": 5
}
