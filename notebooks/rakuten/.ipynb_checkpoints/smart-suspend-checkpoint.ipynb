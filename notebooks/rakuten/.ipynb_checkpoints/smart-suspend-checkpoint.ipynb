{
 "cells": [
  {
   "cell_type": "code",
   "execution_count": null,
   "id": "6d8e6eee-ff95-42f2-8343-28ba0ee4d1b5",
   "metadata": {},
   "outputs": [],
   "source": [
    "%load_ext autoreload\n",
    "%autoreload 2"
   ]
  },
  {
   "cell_type": "code",
   "execution_count": 26,
   "id": "6150c8f5-db47-4ddd-aa17-afd1e593706c",
   "metadata": {},
   "outputs": [
    {
     "name": "stdout",
     "output_type": "stream",
     "text": [
      "The autotime extension is already loaded. To reload it, use:\n",
      "  %reload_ext autotime\n",
      "time: 6.77 ms (started: 2023-04-13 14:56:31 -04:00)\n"
     ]
    }
   ],
   "source": [
    "%reload_ext dotenv\n",
    "\n",
    "%dotenv ../../env/.env\n",
    "\n",
    "import warnings\n",
    "import utils\n",
    "from pandas import Timedelta\n",
    "import time\n",
    "from utils import logger, sql_to_df, run_sql, session, conn\n",
    "import pandas as pd\n",
    "warnings.filterwarnings('ignore')\n",
    "\n",
    "try:\n",
    "    %load_ext autotime\n",
    "except:\n",
    "    !pip install ipython-autotime\n",
    "    %load_ext autotime"
   ]
  },
  {
   "cell_type": "code",
   "execution_count": 7,
   "id": "7edbffc8-3643-4d3a-9ccf-cc29aa6cd83c",
   "metadata": {},
   "outputs": [
    {
     "name": "stdout",
     "output_type": "stream",
     "text": [
      "time: 260 µs (started: 2023-04-13 10:29:57 -04:00)\n"
     ]
    }
   ],
   "source": [
    "# %conda install python-dotenv\n",
    "# %conda install snowflake-connector-python[pandas]\n",
    "# %conda install pandas\n",
    "# %conda install plotly\n",
    "# %conda install snowflake-snowpark-python"
   ]
  },
  {
   "cell_type": "code",
   "execution_count": 56,
   "id": "9c5dd8a3-8bff-4741-be6c-ab96457b4a57",
   "metadata": {},
   "outputs": [
    {
     "name": "stderr",
     "output_type": "stream",
     "text": [
      "03:43:33 INFO:running sql: use schema analytics\n",
      "03:43:33 INFO:query: [use schema analytics]\n",
      "03:43:33 INFO:query execution done\n",
      "03:43:33 INFO:query: [use schema analytics]\n",
      "03:43:33 INFO:query execution done\n"
     ]
    },
    {
     "data": {
      "text/plain": [
       "[Row(status='Statement executed successfully.')]"
      ]
     },
     "execution_count": 56,
     "metadata": {},
     "output_type": "execute_result"
    },
    {
     "name": "stdout",
     "output_type": "stream",
     "text": [
      "time: 192 ms (started: 2023-04-13 15:43:33 -04:00)\n"
     ]
    }
   ],
   "source": [
    "schema = 'sandbox'\n",
    "run_sql(f\"use schema {schema}\")\n",
    "session.sql(f\"use schema {schema}\").collect()"
   ]
  },
  {
   "cell_type": "code",
   "execution_count": 97,
   "id": "a78e658b-42c5-4ed6-96ab-ccc10f0d2bbf",
   "metadata": {},
   "outputs": [
    {
     "name": "stderr",
     "output_type": "stream",
     "text": [
      "06:25:53 INFO:query: [select warehouse_id, era_start, era_end from query_era -- where warehouse_id in ...]\n",
      "06:25:53 INFO:query execution done\n"
     ]
    },
    {
     "name": "stdout",
     "output_type": "stream",
     "text": [
      "using arrow to fetch results...\n"
     ]
    },
    {
     "data": {
      "text/html": [
       "<div>\n",
       "<style scoped>\n",
       "    .dataframe tbody tr th:only-of-type {\n",
       "        vertical-align: middle;\n",
       "    }\n",
       "\n",
       "    .dataframe tbody tr th {\n",
       "        vertical-align: top;\n",
       "    }\n",
       "\n",
       "    .dataframe thead th {\n",
       "        text-align: right;\n",
       "    }\n",
       "</style>\n",
       "<table border=\"1\" class=\"dataframe\">\n",
       "  <thead>\n",
       "    <tr style=\"text-align: right;\">\n",
       "      <th></th>\n",
       "      <th>warehouse_id</th>\n",
       "      <th>era_start</th>\n",
       "      <th>era_end</th>\n",
       "    </tr>\n",
       "  </thead>\n",
       "  <tbody>\n",
       "    <tr>\n",
       "      <th>0</th>\n",
       "      <td>1</td>\n",
       "      <td>2023-01-11 10:23:38.524000-08:00</td>\n",
       "      <td>2023-01-11 10:23:38.875000-08:00</td>\n",
       "    </tr>\n",
       "    <tr>\n",
       "      <th>1</th>\n",
       "      <td>1</td>\n",
       "      <td>2023-01-11 10:28:40.668000-08:00</td>\n",
       "      <td>2023-01-11 10:28:42.978000-08:00</td>\n",
       "    </tr>\n",
       "    <tr>\n",
       "      <th>2</th>\n",
       "      <td>1</td>\n",
       "      <td>2023-01-11 20:46:05.351000-08:00</td>\n",
       "      <td>2023-01-11 20:46:05.879000-08:00</td>\n",
       "    </tr>\n",
       "    <tr>\n",
       "      <th>3</th>\n",
       "      <td>1</td>\n",
       "      <td>2023-01-24 21:10:46.589000-08:00</td>\n",
       "      <td>2023-01-24 21:10:46.755000-08:00</td>\n",
       "    </tr>\n",
       "    <tr>\n",
       "      <th>4</th>\n",
       "      <td>1</td>\n",
       "      <td>2023-01-24 21:57:38.697000-08:00</td>\n",
       "      <td>2023-01-24 21:57:38.980000-08:00</td>\n",
       "    </tr>\n",
       "    <tr>\n",
       "      <th>...</th>\n",
       "      <td>...</td>\n",
       "      <td>...</td>\n",
       "      <td>...</td>\n",
       "    </tr>\n",
       "    <tr>\n",
       "      <th>8879</th>\n",
       "      <td>1</td>\n",
       "      <td>2023-04-10 21:32:07.347000-07:00</td>\n",
       "      <td>2023-04-10 21:32:07.709000-07:00</td>\n",
       "    </tr>\n",
       "    <tr>\n",
       "      <th>8880</th>\n",
       "      <td>1</td>\n",
       "      <td>2023-04-10 21:32:17.745000-07:00</td>\n",
       "      <td>2023-04-10 21:32:18.347000-07:00</td>\n",
       "    </tr>\n",
       "    <tr>\n",
       "      <th>8881</th>\n",
       "      <td>1</td>\n",
       "      <td>2023-04-10 21:32:19.290000-07:00</td>\n",
       "      <td>2023-04-10 21:32:19.383000-07:00</td>\n",
       "    </tr>\n",
       "    <tr>\n",
       "      <th>8882</th>\n",
       "      <td>1</td>\n",
       "      <td>2023-04-10 21:33:00.576000-07:00</td>\n",
       "      <td>2023-04-10 21:33:00.904000-07:00</td>\n",
       "    </tr>\n",
       "    <tr>\n",
       "      <th>8883</th>\n",
       "      <td>1</td>\n",
       "      <td>2023-04-10 21:33:02.465000-07:00</td>\n",
       "      <td>2023-04-10 21:33:02.557000-07:00</td>\n",
       "    </tr>\n",
       "  </tbody>\n",
       "</table>\n",
       "<p>8884 rows × 3 columns</p>\n",
       "</div>"
      ],
      "text/plain": [
       "      warehouse_id                        era_start  \\\n",
       "0                1 2023-01-11 10:23:38.524000-08:00   \n",
       "1                1 2023-01-11 10:28:40.668000-08:00   \n",
       "2                1 2023-01-11 20:46:05.351000-08:00   \n",
       "3                1 2023-01-24 21:10:46.589000-08:00   \n",
       "4                1 2023-01-24 21:57:38.697000-08:00   \n",
       "...            ...                              ...   \n",
       "8879             1 2023-04-10 21:32:07.347000-07:00   \n",
       "8880             1 2023-04-10 21:32:17.745000-07:00   \n",
       "8881             1 2023-04-10 21:32:19.290000-07:00   \n",
       "8882             1 2023-04-10 21:33:00.576000-07:00   \n",
       "8883             1 2023-04-10 21:33:02.465000-07:00   \n",
       "\n",
       "                              era_end  \n",
       "0    2023-01-11 10:23:38.875000-08:00  \n",
       "1    2023-01-11 10:28:42.978000-08:00  \n",
       "2    2023-01-11 20:46:05.879000-08:00  \n",
       "3    2023-01-24 21:10:46.755000-08:00  \n",
       "4    2023-01-24 21:57:38.980000-08:00  \n",
       "...                               ...  \n",
       "8879 2023-04-10 21:32:07.709000-07:00  \n",
       "8880 2023-04-10 21:32:18.347000-07:00  \n",
       "8881 2023-04-10 21:32:19.383000-07:00  \n",
       "8882 2023-04-10 21:33:00.904000-07:00  \n",
       "8883 2023-04-10 21:33:02.557000-07:00  \n",
       "\n",
       "[8884 rows x 3 columns]"
      ]
     },
     "metadata": {},
     "output_type": "display_data"
    },
    {
     "data": {
      "text/html": [
       "<div>\n",
       "<style scoped>\n",
       "    .dataframe tbody tr th:only-of-type {\n",
       "        vertical-align: middle;\n",
       "    }\n",
       "\n",
       "    .dataframe tbody tr th {\n",
       "        vertical-align: top;\n",
       "    }\n",
       "\n",
       "    .dataframe thead th {\n",
       "        text-align: right;\n",
       "    }\n",
       "</style>\n",
       "<table border=\"1\" class=\"dataframe\">\n",
       "  <thead>\n",
       "    <tr style=\"text-align: right;\">\n",
       "      <th></th>\n",
       "      <th>timestamp</th>\n",
       "      <th>event_type</th>\n",
       "      <th>strategy</th>\n",
       "      <th>warehouse_id</th>\n",
       "    </tr>\n",
       "  </thead>\n",
       "  <tbody>\n",
       "    <tr>\n",
       "      <th>0</th>\n",
       "      <td>2023-01-11 10:23:38.524000-08:00</td>\n",
       "      <td>resume</td>\n",
       "      <td>{'type': 'greedy_after_one_min', 'polling_sec'...</td>\n",
       "      <td>1</td>\n",
       "    </tr>\n",
       "    <tr>\n",
       "      <th>1</th>\n",
       "      <td>2023-01-11 10:24:38.524000-08:00</td>\n",
       "      <td>suspend</td>\n",
       "      <td>{'type': 'greedy_after_one_min', 'polling_sec'...</td>\n",
       "      <td>1</td>\n",
       "    </tr>\n",
       "    <tr>\n",
       "      <th>2</th>\n",
       "      <td>2023-01-11 10:28:40.668000-08:00</td>\n",
       "      <td>resume</td>\n",
       "      <td>{'type': 'greedy_after_one_min', 'polling_sec'...</td>\n",
       "      <td>1</td>\n",
       "    </tr>\n",
       "    <tr>\n",
       "      <th>3</th>\n",
       "      <td>2023-01-11 10:29:40.668000-08:00</td>\n",
       "      <td>suspend</td>\n",
       "      <td>{'type': 'greedy_after_one_min', 'polling_sec'...</td>\n",
       "      <td>1</td>\n",
       "    </tr>\n",
       "    <tr>\n",
       "      <th>4</th>\n",
       "      <td>2023-01-11 20:46:05.351000-08:00</td>\n",
       "      <td>resume</td>\n",
       "      <td>{'type': 'greedy_after_one_min', 'polling_sec'...</td>\n",
       "      <td>1</td>\n",
       "    </tr>\n",
       "    <tr>\n",
       "      <th>...</th>\n",
       "      <td>...</td>\n",
       "      <td>...</td>\n",
       "      <td>...</td>\n",
       "      <td>...</td>\n",
       "    </tr>\n",
       "    <tr>\n",
       "      <th>1</th>\n",
       "      <td>2023-04-10 16:55:48.792000-07:00</td>\n",
       "      <td>suspend</td>\n",
       "      <td>{'type': 'snowflake', 'autosuspend_sec': 60}</td>\n",
       "      <td>43</td>\n",
       "    </tr>\n",
       "    <tr>\n",
       "      <th>0</th>\n",
       "      <td>2023-04-10 16:54:38.366000-07:00</td>\n",
       "      <td>resume</td>\n",
       "      <td>{'type': 'greedy', 'autosuspend_sec': 120}</td>\n",
       "      <td>43</td>\n",
       "    </tr>\n",
       "    <tr>\n",
       "      <th>1</th>\n",
       "      <td>2023-04-10 16:56:48.792000-07:00</td>\n",
       "      <td>suspend</td>\n",
       "      <td>{'type': 'greedy', 'autosuspend_sec': 120}</td>\n",
       "      <td>43</td>\n",
       "    </tr>\n",
       "    <tr>\n",
       "      <th>0</th>\n",
       "      <td>2023-04-10 16:54:38.366000-07:00</td>\n",
       "      <td>resume</td>\n",
       "      <td>{'type': 'snowflake', 'autosuspend_sec': 120}</td>\n",
       "      <td>43</td>\n",
       "    </tr>\n",
       "    <tr>\n",
       "      <th>1</th>\n",
       "      <td>2023-04-10 16:56:48.792000-07:00</td>\n",
       "      <td>suspend</td>\n",
       "      <td>{'type': 'snowflake', 'autosuspend_sec': 120}</td>\n",
       "      <td>43</td>\n",
       "    </tr>\n",
       "  </tbody>\n",
       "</table>\n",
       "<p>19400 rows × 4 columns</p>\n",
       "</div>"
      ],
      "text/plain": [
       "                          timestamp event_type  \\\n",
       "0  2023-01-11 10:23:38.524000-08:00     resume   \n",
       "1  2023-01-11 10:24:38.524000-08:00    suspend   \n",
       "2  2023-01-11 10:28:40.668000-08:00     resume   \n",
       "3  2023-01-11 10:29:40.668000-08:00    suspend   \n",
       "4  2023-01-11 20:46:05.351000-08:00     resume   \n",
       "..                              ...        ...   \n",
       "1  2023-04-10 16:55:48.792000-07:00    suspend   \n",
       "0  2023-04-10 16:54:38.366000-07:00     resume   \n",
       "1  2023-04-10 16:56:48.792000-07:00    suspend   \n",
       "0  2023-04-10 16:54:38.366000-07:00     resume   \n",
       "1  2023-04-10 16:56:48.792000-07:00    suspend   \n",
       "\n",
       "                                             strategy  warehouse_id  \n",
       "0   {'type': 'greedy_after_one_min', 'polling_sec'...             1  \n",
       "1   {'type': 'greedy_after_one_min', 'polling_sec'...             1  \n",
       "2   {'type': 'greedy_after_one_min', 'polling_sec'...             1  \n",
       "3   {'type': 'greedy_after_one_min', 'polling_sec'...             1  \n",
       "4   {'type': 'greedy_after_one_min', 'polling_sec'...             1  \n",
       "..                                                ...           ...  \n",
       "1        {'type': 'snowflake', 'autosuspend_sec': 60}            43  \n",
       "0          {'type': 'greedy', 'autosuspend_sec': 120}            43  \n",
       "1          {'type': 'greedy', 'autosuspend_sec': 120}            43  \n",
       "0       {'type': 'snowflake', 'autosuspend_sec': 120}            43  \n",
       "1       {'type': 'snowflake', 'autosuspend_sec': 120}            43  \n",
       "\n",
       "[19400 rows x 4 columns]"
      ]
     },
     "execution_count": 97,
     "metadata": {},
     "output_type": "execute_result"
    },
    {
     "name": "stdout",
     "output_type": "stream",
     "text": [
      "time: 1.54 s (started: 2023-04-13 18:25:53 -04:00)\n"
     ]
    }
   ],
   "source": [
    "# warehouse_ids = [41,42,43]\n",
    "warehouse_ids = [38,39,40]\n",
    "joined = ','.join([str(w) for w in warehouse_ids])\n",
    "sql_str = f\"({joined})\"\n",
    "\n",
    "sql = f\"\"\"\n",
    "select \n",
    "    warehouse_id, \n",
    "    era_start, \n",
    "    era_end\n",
    "from query_era\n",
    "-- where warehouse_id in {sql_str}\n",
    "order by era_start asc\n",
    "\"\"\"\n",
    "\n",
    "df = sql_to_df(sql)\n",
    "display(df)\n",
    "polling_sec = 1\n",
    "\n",
    "def greedy_suspend(query_eras, autosuspend_sec):\n",
    "    started = False\n",
    "    resumed_on = None\n",
    "    previous_end = None\n",
    "    dt = Timedelta(seconds=autosuspend_sec)\n",
    "    events = []\n",
    "    for (start, end) in query_eras:\n",
    "        # first process events between previous_end and start\n",
    "        # suspend happens at: \n",
    "        # previous_end + 2*polling_period, as long as we're after resumed_on + 60 + 2*polling_period, \n",
    "        if started:\n",
    "            timediff = start - previous_end \n",
    "            if timediff > dt:\n",
    "                suspend_time = previous_end + dt\n",
    "                started = False\n",
    "                events.append((suspend_time, 'suspend'))\n",
    "\n",
    "        if not started:\n",
    "            started = True\n",
    "            resumed_on = start\n",
    "            events.append((resumed_on, 'resume'))\n",
    "\n",
    "        previous_end = end\n",
    "    \n",
    "    if started:\n",
    "        suspend_time = previous_end + dt\n",
    "        started = False\n",
    "        events.append((suspend_time, 'suspend')) \n",
    "        \n",
    "    events_df = pd.DataFrame(events, columns=['timestamp', 'event_type'])\n",
    "    return events_df\n",
    "\n",
    "def snowflake_suspend(query_eras, autosuspend_sec):\n",
    "#     dt = Timedelta(seconds=autosuspend_sec)\n",
    "#     sixty = Timedelta(seconds=60)\n",
    "    return greedy_suspend(query_eras, max(autosuspend_sec, 30))\n",
    "\n",
    "def smart_suspend(query_eras, polling_sec):\n",
    "    started = False\n",
    "    running = 0\n",
    "    resumed_on = None\n",
    "\n",
    "    previous_end = None\n",
    "    resumed_plus_sixty = None\n",
    "    events = []\n",
    "    for (start, end) in query_eras:\n",
    "        \n",
    "        # first process events between previous_end and start\n",
    "        # suspend happens at: \n",
    "        # previous_end + 2*polling_period, as long as we're after resumed_on + 60 + 2*polling_period, \n",
    "\n",
    "        if started:\n",
    "            first_check_after_previous_end = previous_end + 2*Timedelta(seconds=polling_sec)\n",
    "            earliest_possible_suspend = max(first_check_after_previous_end, resumed_plus_sixty)\n",
    "            if earliest_possible_suspend < start:\n",
    "                started = False\n",
    "                events.append((earliest_possible_suspend, 'suspend'))\n",
    "\n",
    "        if not started:\n",
    "            started = True\n",
    "            resumed_on = start\n",
    "            resumed_plus_sixty = resumed_on + Timedelta(seconds=60)\n",
    "            events.append((resumed_on, 'resume'))\n",
    "\n",
    "        previous_end = end\n",
    "    \n",
    "    if started:\n",
    "        first_check_after_previous_end = previous_end + 2*Timedelta(seconds=polling_sec)\n",
    "        earliest_possible_suspend = max(first_check_after_previous_end, resumed_plus_sixty)\n",
    "        events.append((earliest_possible_suspend, 'suspended'))\n",
    "\n",
    "\n",
    "    events_df = pd.DataFrame(events, columns=['timestamp', 'event_type'])\n",
    "    return events_df\n",
    "\n",
    "warehouse_event_dfs = []\n",
    "for warehouse_id in df.warehouse_id.unique():\n",
    "    wh_df = df[df.warehouse_id == warehouse_id].sort_values('era_start', ascending=True)\n",
    "    \n",
    "    eras = list(zip(wh_df.era_start, wh_df.era_end))\n",
    "    \n",
    "    strategy = {'type': 'greedy_after_one_min', 'polling_sec': polling_sec}\n",
    "    # print(strategy)\n",
    "    events_df = smart_suspend(eras, polling_sec)\n",
    "    events_df['strategy'] = str(strategy)\n",
    "    events_df['warehouse_id'] = warehouse_id\n",
    "    warehouse_event_dfs.append(events_df)\n",
    "\n",
    "    # autosuspend_sec = 60\n",
    "    for autosuspend_sec in [30, 60, 120]:\n",
    "\n",
    "        strategy = {'type': 'greedy', 'autosuspend_sec': autosuspend_sec}\n",
    "        # print(strategy)\n",
    "        events_df = greedy_suspend(eras, autosuspend_sec)\n",
    "        events_df['strategy'] = str(strategy)\n",
    "        events_df['warehouse_id'] = warehouse_id\n",
    "        warehouse_event_dfs.append(events_df)\n",
    "\n",
    "        strategy = {'type': 'snowflake', 'autosuspend_sec': autosuspend_sec}\n",
    "        # print(strategy)\n",
    "        events_df = snowflake_suspend(eras, autosuspend_sec)\n",
    "        events_df['strategy'] = str(strategy)\n",
    "        events_df['warehouse_id'] = warehouse_id\n",
    "        warehouse_event_dfs.append(events_df)\n",
    "\n",
    "final_df = pd.concat(warehouse_event_dfs)\n",
    "\n",
    "final_df\n"
   ]
  },
  {
   "cell_type": "code",
   "execution_count": 66,
   "id": "b86a067d-e882-4926-b8c4-3441641e5d8e",
   "metadata": {},
   "outputs": [
    {
     "data": {
      "text/html": [
       "<div>\n",
       "<style scoped>\n",
       "    .dataframe tbody tr th:only-of-type {\n",
       "        vertical-align: middle;\n",
       "    }\n",
       "\n",
       "    .dataframe tbody tr th {\n",
       "        vertical-align: top;\n",
       "    }\n",
       "\n",
       "    .dataframe thead th {\n",
       "        text-align: right;\n",
       "    }\n",
       "</style>\n",
       "<table border=\"1\" class=\"dataframe\">\n",
       "  <thead>\n",
       "    <tr style=\"text-align: right;\">\n",
       "      <th></th>\n",
       "      <th>timestamp</th>\n",
       "      <th>event_type</th>\n",
       "      <th>strategy</th>\n",
       "      <th>warehouse_id</th>\n",
       "    </tr>\n",
       "  </thead>\n",
       "  <tbody>\n",
       "    <tr>\n",
       "      <th>0</th>\n",
       "      <td>2023-01-11 10:23:38.524000-08:00</td>\n",
       "      <td>resumed</td>\n",
       "      <td>{'type': 'greedy_after_one_min', 'polling_sec'...</td>\n",
       "      <td>1</td>\n",
       "    </tr>\n",
       "    <tr>\n",
       "      <th>1</th>\n",
       "      <td>2023-01-11 10:24:38.524000-08:00</td>\n",
       "      <td>suspended</td>\n",
       "      <td>{'type': 'greedy_after_one_min', 'polling_sec'...</td>\n",
       "      <td>1</td>\n",
       "    </tr>\n",
       "    <tr>\n",
       "      <th>2</th>\n",
       "      <td>2023-01-11 10:28:40.668000-08:00</td>\n",
       "      <td>resumed</td>\n",
       "      <td>{'type': 'greedy_after_one_min', 'polling_sec'...</td>\n",
       "      <td>1</td>\n",
       "    </tr>\n",
       "    <tr>\n",
       "      <th>3</th>\n",
       "      <td>2023-01-11 10:29:40.668000-08:00</td>\n",
       "      <td>suspended</td>\n",
       "      <td>{'type': 'greedy_after_one_min', 'polling_sec'...</td>\n",
       "      <td>1</td>\n",
       "    </tr>\n",
       "    <tr>\n",
       "      <th>4</th>\n",
       "      <td>2023-01-11 20:46:05.351000-08:00</td>\n",
       "      <td>resumed</td>\n",
       "      <td>{'type': 'greedy_after_one_min', 'polling_sec'...</td>\n",
       "      <td>1</td>\n",
       "    </tr>\n",
       "    <tr>\n",
       "      <th>...</th>\n",
       "      <td>...</td>\n",
       "      <td>...</td>\n",
       "      <td>...</td>\n",
       "      <td>...</td>\n",
       "    </tr>\n",
       "    <tr>\n",
       "      <th>1</th>\n",
       "      <td>2023-04-10 16:55:38.034000-07:00</td>\n",
       "      <td>suspended</td>\n",
       "      <td>{'type': 'greedy_after_one_min', 'polling_sec'...</td>\n",
       "      <td>42</td>\n",
       "    </tr>\n",
       "    <tr>\n",
       "      <th>0</th>\n",
       "      <td>2023-04-10 16:54:38.034000-07:00</td>\n",
       "      <td>resumed</td>\n",
       "      <td>{'type': 'snowflake', 'autosuspend_sec': 60, '...</td>\n",
       "      <td>42</td>\n",
       "    </tr>\n",
       "    <tr>\n",
       "      <th>0</th>\n",
       "      <td>2023-04-10 16:54:38.366000-07:00</td>\n",
       "      <td>resumed</td>\n",
       "      <td>{'type': 'greedy_after_one_min', 'polling_sec'...</td>\n",
       "      <td>43</td>\n",
       "    </tr>\n",
       "    <tr>\n",
       "      <th>1</th>\n",
       "      <td>2023-04-10 16:55:38.366000-07:00</td>\n",
       "      <td>suspended</td>\n",
       "      <td>{'type': 'greedy_after_one_min', 'polling_sec'...</td>\n",
       "      <td>43</td>\n",
       "    </tr>\n",
       "    <tr>\n",
       "      <th>0</th>\n",
       "      <td>2023-04-10 16:54:38.366000-07:00</td>\n",
       "      <td>resumed</td>\n",
       "      <td>{'type': 'snowflake', 'autosuspend_sec': 60, '...</td>\n",
       "      <td>43</td>\n",
       "    </tr>\n",
       "  </tbody>\n",
       "</table>\n",
       "<p>5840 rows × 4 columns</p>\n",
       "</div>"
      ],
      "text/plain": [
       "                          timestamp event_type  \\\n",
       "0  2023-01-11 10:23:38.524000-08:00    resumed   \n",
       "1  2023-01-11 10:24:38.524000-08:00  suspended   \n",
       "2  2023-01-11 10:28:40.668000-08:00    resumed   \n",
       "3  2023-01-11 10:29:40.668000-08:00  suspended   \n",
       "4  2023-01-11 20:46:05.351000-08:00    resumed   \n",
       "..                              ...        ...   \n",
       "1  2023-04-10 16:55:38.034000-07:00  suspended   \n",
       "0  2023-04-10 16:54:38.034000-07:00    resumed   \n",
       "0  2023-04-10 16:54:38.366000-07:00    resumed   \n",
       "1  2023-04-10 16:55:38.366000-07:00  suspended   \n",
       "0  2023-04-10 16:54:38.366000-07:00    resumed   \n",
       "\n",
       "                                             strategy  warehouse_id  \n",
       "0   {'type': 'greedy_after_one_min', 'polling_sec'...             1  \n",
       "1   {'type': 'greedy_after_one_min', 'polling_sec'...             1  \n",
       "2   {'type': 'greedy_after_one_min', 'polling_sec'...             1  \n",
       "3   {'type': 'greedy_after_one_min', 'polling_sec'...             1  \n",
       "4   {'type': 'greedy_after_one_min', 'polling_sec'...             1  \n",
       "..                                                ...           ...  \n",
       "1   {'type': 'greedy_after_one_min', 'polling_sec'...            42  \n",
       "0   {'type': 'snowflake', 'autosuspend_sec': 60, '...            42  \n",
       "0   {'type': 'greedy_after_one_min', 'polling_sec'...            43  \n",
       "1   {'type': 'greedy_after_one_min', 'polling_sec'...            43  \n",
       "0   {'type': 'snowflake', 'autosuspend_sec': 60, '...            43  \n",
       "\n",
       "[5840 rows x 4 columns]"
      ]
     },
     "execution_count": 66,
     "metadata": {},
     "output_type": "execute_result"
    },
    {
     "name": "stdout",
     "output_type": "stream",
     "text": [
      "time: 19.4 ms (started: 2023-04-13 16:15:42 -04:00)\n"
     ]
    }
   ],
   "source": [
    "final_df.strategy.unique()"
   ]
  },
  {
   "cell_type": "code",
   "execution_count": 98,
   "id": "091d2ebf-6c1f-4661-a4f8-4771f9fb590b",
   "metadata": {},
   "outputs": [
    {
     "name": "stderr",
     "output_type": "stream",
     "text": [
      "06:25:58 INFO:query: [create temporary stage /* Python:snowflake.connector.pandas_tools.write_pandas()...]\n",
      "06:25:58 INFO:query execution done\n",
      "06:25:58 INFO:query: [PUT /* Python:snowflake.connector.pandas_tools.write_pandas() */ 'file:///var/fo...]\n",
      "06:25:58 INFO:query execution done\n",
      "06:26:00 INFO:query: [CREATE FILE FORMAT \"lusys\" /* Python:snowflake.connector.pandas_tools.write_pand...]\n",
      "06:26:00 INFO:query execution done\n",
      "06:26:00 INFO:query: [SELECT COLUMN_NAME, TYPE FROM table(infer_schema(location=>'@\"epoyp\"', file_form...]\n",
      "06:26:00 INFO:query execution done\n",
      "06:26:00 INFO:query: [CREATE TEMPORARY TABLE IF NOT EXISTS \"SNOWFLAKE_USAGE\".\"ANALYTICS\".\"SNOWPARK_TEM...]\n",
      "06:26:00 INFO:query execution done\n",
      "06:26:00 INFO:query: [DROP FILE FORMAT IF EXISTS \"lusys\"]\n",
      "06:26:00 INFO:query execution done\n",
      "06:26:00 INFO:query: [COPY INTO \"SNOWFLAKE_USAGE\".\"ANALYTICS\".\"SNOWPARK_TEMP_TABLE_ZD9DPBYO02\" /* Pyth...]\n",
      "06:26:01 INFO:query execution done\n",
      "06:26:01 INFO:query: [SELECT  *  FROM (\"SNOWFLAKE_USAGE\".\"ANALYTICS\".\"SNOWPARK_TEMP_TABLE_ZD9DPBYO02\")...]\n",
      "06:26:02 INFO:query execution done\n",
      "06:26:02 INFO:query: [SELECT  *  FROM \"SNOWFLAKE_USAGE\".\"ANALYTICS\".\"SNOWPARK_TEMP_TABLE_ZD9DPBYO02\"]\n",
      "06:26:02 INFO:query execution done\n",
      "06:26:02 INFO:query: [CREATE  OR  REPLACE    TABLE  wh_events_sim_python AS  SELECT  *  FROM ( SELECT ...]\n",
      "06:26:03 INFO:query execution done\n"
     ]
    },
    {
     "name": "stdout",
     "output_type": "stream",
     "text": [
      "time: 5.49 s (started: 2023-04-13 18:25:58 -04:00)\n"
     ]
    }
   ],
   "source": [
    "import snowflake.snowpark.functions as F\n",
    "import snowflake.snowpark.dataframe\n",
    "def uppercase_all_columns(df: snowflake.snowpark.dataframe) -> snowflake.snowpark.dataframe:\n",
    "    return df.select([F.col(column).as_(column.upper()) for column in df.columns])\n",
    "\n",
    "final_df.timestamp = final_df.timestamp.map(str)\n",
    "\n",
    "df = session.create_dataframe(final_df, schema)\n",
    "uppercase_all_columns(df).write.mode(\"overwrite\").save_as_table(\"wh_events_sim_python\")"
   ]
  },
  {
   "cell_type": "code",
   "execution_count": 80,
   "id": "369b2809-02e6-4c17-ab00-f0069d57c72e",
   "metadata": {},
   "outputs": [
    {
     "name": "stderr",
     "output_type": "stream",
     "text": [
      "04:31:52 INFO:query: [SELECT  *  FROM (\"SNOWFLAKE_USAGE\".\"ANALYTICS\".\"SNOWPARK_TEMP_TABLE_30ATN6XILT\")...]\n",
      "04:31:52 INFO:query execution done\n"
     ]
    },
    {
     "data": {
      "text/plain": [
       "StructType([StructField('\"timestamp\"', StringType(), nullable=True), StructField('\"event_type\"', StringType(), nullable=True), StructField('\"strategy\"', StringType(), nullable=True), StructField('\"warehouse_id\"', LongType(), nullable=True)])"
      ]
     },
     "execution_count": 80,
     "metadata": {},
     "output_type": "execute_result"
    },
    {
     "name": "stdout",
     "output_type": "stream",
     "text": [
      "time: 157 ms (started: 2023-04-13 16:31:52 -04:00)\n"
     ]
    }
   ],
   "source": [
    "df.schema"
   ]
  },
  {
   "cell_type": "code",
   "execution_count": 46,
   "id": "f2da0379-b166-4c8b-a93e-c13c0c37a5f4",
   "metadata": {},
   "outputs": [
    {
     "name": "stderr",
     "output_type": "stream",
     "text": [
      "10:01:20 INFO:query: [with query_era as ( select * from sandbox.query_era ), range as ( select min(era...]\n"
     ]
    },
    {
     "name": "stdout",
     "output_type": "stream",
     "text": [
      "using arrow to fetch results...\n"
     ]
    },
    {
     "name": "stderr",
     "output_type": "stream",
     "text": [
      "10:01:25 INFO:query execution done\n"
     ]
    },
    {
     "data": {
      "text/html": [
       "<div>\n",
       "<style scoped>\n",
       "    .dataframe tbody tr th:only-of-type {\n",
       "        vertical-align: middle;\n",
       "    }\n",
       "\n",
       "    .dataframe tbody tr th {\n",
       "        vertical-align: top;\n",
       "    }\n",
       "\n",
       "    .dataframe thead th {\n",
       "        text-align: right;\n",
       "    }\n",
       "</style>\n",
       "<table border=\"1\" class=\"dataframe\">\n",
       "  <thead>\n",
       "    <tr style=\"text-align: right;\">\n",
       "      <th></th>\n",
       "      <th>timestamp</th>\n",
       "      <th>eras_found</th>\n",
       "    </tr>\n",
       "  </thead>\n",
       "  <tbody>\n",
       "    <tr>\n",
       "      <th>0</th>\n",
       "      <td>2023-01-03 06:01:21-08:00</td>\n",
       "      <td>0</td>\n",
       "    </tr>\n",
       "    <tr>\n",
       "      <th>1</th>\n",
       "      <td>2023-01-03 06:01:22-08:00</td>\n",
       "      <td>0</td>\n",
       "    </tr>\n",
       "    <tr>\n",
       "      <th>2</th>\n",
       "      <td>2023-01-03 06:01:23-08:00</td>\n",
       "      <td>0</td>\n",
       "    </tr>\n",
       "    <tr>\n",
       "      <th>3</th>\n",
       "      <td>2023-01-03 06:01:24-08:00</td>\n",
       "      <td>0</td>\n",
       "    </tr>\n",
       "    <tr>\n",
       "      <th>4</th>\n",
       "      <td>2023-01-03 06:01:25-08:00</td>\n",
       "      <td>0</td>\n",
       "    </tr>\n",
       "    <tr>\n",
       "      <th>...</th>\n",
       "      <td>...</td>\n",
       "      <td>...</td>\n",
       "    </tr>\n",
       "    <tr>\n",
       "      <th>1792466</th>\n",
       "      <td>2023-01-23 23:55:47-08:00</td>\n",
       "      <td>1</td>\n",
       "    </tr>\n",
       "    <tr>\n",
       "      <th>1792467</th>\n",
       "      <td>2023-01-23 23:55:48-08:00</td>\n",
       "      <td>1</td>\n",
       "    </tr>\n",
       "    <tr>\n",
       "      <th>1792468</th>\n",
       "      <td>2023-01-23 23:55:49-08:00</td>\n",
       "      <td>1</td>\n",
       "    </tr>\n",
       "    <tr>\n",
       "      <th>1792469</th>\n",
       "      <td>2023-01-23 23:55:50-08:00</td>\n",
       "      <td>1</td>\n",
       "    </tr>\n",
       "    <tr>\n",
       "      <th>1792470</th>\n",
       "      <td>2023-01-23 23:55:51-08:00</td>\n",
       "      <td>1</td>\n",
       "    </tr>\n",
       "  </tbody>\n",
       "</table>\n",
       "<p>1792471 rows × 2 columns</p>\n",
       "</div>"
      ],
      "text/plain": [
       "                        timestamp  eras_found\n",
       "0       2023-01-03 06:01:21-08:00           0\n",
       "1       2023-01-03 06:01:22-08:00           0\n",
       "2       2023-01-03 06:01:23-08:00           0\n",
       "3       2023-01-03 06:01:24-08:00           0\n",
       "4       2023-01-03 06:01:25-08:00           0\n",
       "...                           ...         ...\n",
       "1792466 2023-01-23 23:55:47-08:00           1\n",
       "1792467 2023-01-23 23:55:48-08:00           1\n",
       "1792468 2023-01-23 23:55:49-08:00           1\n",
       "1792469 2023-01-23 23:55:50-08:00           1\n",
       "1792470 2023-01-23 23:55:51-08:00           1\n",
       "\n",
       "[1792471 rows x 2 columns]"
      ]
     },
     "execution_count": 46,
     "metadata": {},
     "output_type": "execute_result"
    },
    {
     "name": "stdout",
     "output_type": "stream",
     "text": [
      "time: 7.29 s (started: 2023-04-13 10:01:20 -04:00)\n"
     ]
    }
   ],
   "source": [
    "sql = \"\"\"\n",
    "with query_era as (\n",
    "    select * from sandbox.query_era\n",
    "),\n",
    "range as (\n",
    "    select \n",
    "        min(era_start) as min, \n",
    "        max(era_end) as max,\n",
    "        timediff(seconds, min, max) as num_seconds\n",
    "    from query_era\n",
    "\n",
    ")\n",
    "-- select * from range;\n",
    ",\n",
    "seconds as (\n",
    "    select\n",
    "        dateadd(\n",
    "            'second',\n",
    "            '-' || row_number() over (order by seq4() asc),\n",
    "            dateadd('second', '+1', date_trunc('second', current_timestamp()))\n",
    "        ) as second_start\n",
    "        \n",
    "        -- dateadd('second', '+1', second_start) as second_end\n",
    "        \n",
    "    from table(generator(rowcount => (3600*24 * 100)))\n",
    "),\n",
    "seconds_limited as (\n",
    "    select second_start as timestamp\n",
    "    from seconds\n",
    "    where \n",
    "        timestamp >= date_trunc(second, (select min from range)) and \n",
    "        timestamp <= date_trunc(second, (select max from range))  \n",
    "\n",
    "),\n",
    "eras_per_second as (\n",
    "-- select * from query_era;\n",
    "select\n",
    "    seconds.timestamp,\n",
    "    count(era_start) as eras_found\n",
    "from seconds_limited seconds\n",
    "left join query_era as era\n",
    "    on date_trunc('hour', seconds.timestamp) = date_trunc('hour', era.era_start) -- NEW: equi-join condition\n",
    "    -- and seconds.warehouse_id = queries.warehouse_id\n",
    "    and seconds.timestamp -- range join condition\n",
    "      between date_trunc('second', era.era_start) and date_trunc('second', era.era_end)\n",
    "group by 1\n",
    ")\n",
    "select *\n",
    "from eras_per_second\n",
    "order by timestamp asc;\n",
    "\"\"\"\n",
    "df = sql_to_df(sql)\n",
    "df"
   ]
  },
  {
   "cell_type": "code",
   "execution_count": null,
   "id": "588e9e64-7af5-4813-a638-3a66876ad41e",
   "metadata": {},
   "outputs": [],
   "source": []
  },
  {
   "cell_type": "code",
   "execution_count": 23,
   "id": "c8950c50-32f2-4e24-af47-228e715e6d88",
   "metadata": {},
   "outputs": [
    {
     "name": "stdout",
     "output_type": "stream",
     "text": [
      "time: 8.65 s (started: 2023-04-13 02:23:09 -04:00)\n"
     ]
    }
   ],
   "source": [
    "\n",
    "\n",
    "# state = list(zip(df.timestamp, df.eras_found))\n",
    "\n",
    "# def wh_events_simulated(wh_activity_series):\n",
    "started = False\n",
    "events = []\n",
    "for (ts, active) in state:\n",
    "    # simulate auto-resume\n",
    "    if active and not started:\n",
    "        started = True\n",
    "        resumed_on = ts\n",
    "        events.append((ts, 'resumed'))\n",
    "        # logger.info(f\"resumed on {ts}\")\n",
    "\n",
    "    time_since_resumed = ts - resumed_on\n",
    "\n",
    "    # smart shutdown\n",
    "    if started:\n",
    "        if (not active) and time_since_resumed >= Timedelta(seconds=60):\n",
    "            started = False\n",
    "            # logger.info(f\"suspended on {ts}\")\n",
    "            events.append((ts, 'suspended'))\n",
    "\n",
    "events_df = pd.DataFrame(events, columns=['ts', 'type'])\n",
    "# return events_df"
   ]
  },
  {
   "cell_type": "code",
   "execution_count": 29,
   "id": "87e7caa5-6d47-482b-8e5b-de3b860d8f8a",
   "metadata": {},
   "outputs": [
    {
     "data": {
      "text/plain": [
       "'ANALYTICS'"
      ]
     },
     "execution_count": 29,
     "metadata": {},
     "output_type": "execute_result"
    },
    {
     "name": "stdout",
     "output_type": "stream",
     "text": [
      "time: 1.73 ms (started: 2023-04-13 14:57:05 -04:00)\n"
     ]
    }
   ],
   "source": [
    "conn.schema"
   ]
  },
  {
   "cell_type": "code",
   "execution_count": 32,
   "id": "024c8471-f824-4b7a-b357-f47ed0cd3b88",
   "metadata": {},
   "outputs": [
    {
     "name": "stderr",
     "output_type": "stream",
     "text": [
      "02:58:09 INFO:query: [with eras as ( select 'query' as type, warehouse_id, warehouse_name, era_start, ...]\n"
     ]
    },
    {
     "name": "stdout",
     "output_type": "stream",
     "text": [
      "using arrow to fetch results...\n"
     ]
    },
    {
     "name": "stderr",
     "output_type": "stream",
     "text": [
      "02:58:10 INFO:query execution done\n"
     ]
    },
    {
     "name": "stdout",
     "output_type": "stream",
     "text": [
      "time: 2.38 s (started: 2023-04-13 14:58:09 -04:00)\n"
     ]
    }
   ],
   "source": [
    "suspend_lags_sql = \"\"\"\n",
    "with eras as (\n",
    "    select\n",
    "        'query' as type,\n",
    "        warehouse_id,\n",
    "        warehouse_name,\n",
    "        era_start,\n",
    "        era_end\n",
    "    from query_era\n",
    "\n",
    "    union\n",
    "\n",
    "    select\n",
    "        'warehouse'as type,\n",
    "        warehouse_id,\n",
    "        warehouse_name,\n",
    "        era_start,\n",
    "        era_end\n",
    "    from warehouse_era\n",
    "    where era_start > (select min(era_start) from query_era)\n",
    "),\n",
    "enriched as (\n",
    "    select \n",
    "        row_number() over(order by warehouse_id, era_end) as era_id,\n",
    "        *,\n",
    "        -- max(era_end) over (partition by warehouse_id)\n",
    "        lag(type) over (partition by warehouse_id order by era_end) as previous_ending_type,\n",
    "        lag(era_end) over (partition by warehouse_id order by era_end) as previous_ending_time,\n",
    "        case when type = 'warehouse' and previous_ending_type = 'query' then timediff(milliseconds, previous_ending_time, era_end)/1000 else null end as suspend_lag,\n",
    "        case when type = 'query' and previous_ending_type = 'query' then timediff(milliseconds, previous_ending_time, era_start)/1000 else null end as time_since_last_query,\n",
    "        timediff(seconds, era_start, era_end) as era_seconds\n",
    "    from eras\n",
    ")\n",
    "select * from enriched\n",
    "\"\"\"\n",
    "\n",
    "df = sql_to_df(suspend_lags_sql)\n"
   ]
  },
  {
   "cell_type": "code",
   "execution_count": 37,
   "id": "be5c8651-8b95-4e1f-88cc-2c60207e4766",
   "metadata": {},
   "outputs": [
    {
     "data": {
      "application/vnd.plotly.v1+json": {
       "config": {
        "plotlyServerURL": "https://plot.ly"
       },
       "data": [
        {
         "alignmentgroup": "True",
         "bingroup": "x",
         "hovertemplate": "suspend_lag=%{x}<br>count=%{y}<extra></extra>",
         "legendgroup": "",
         "marker": {
          "color": "#636efa",
          "pattern": {
           "shape": ""
          }
         },
         "name": "",
         "nbinsx": 100,
         "offsetgroup": "",
         "orientation": "v",
         "showlegend": false,
         "type": "histogram",
         "x": [
          null,
          null,
          null,
          null,
          null,
          null,
          null,
          null,
          null,
          null,
          null,
          null,
          null,
          null,
          null,
          600.284,
          null,
          null,
          null,
          null,
          null,
          null,
          null,
          null,
          null,
          null,
          null,
          null,
          null,
          null,
          null,
          null,
          null,
          null,
          null,
          null,
          null,
          null,
          null,
          600.352,
          null,
          600.41,
          null,
          null,
          null,
          140.967,
          null,
          null,
          60.248,
          null,
          60.141,
          null,
          null,
          60.142,
          null,
          null,
          null,
          60.07,
          null,
          null,
          null,
          null,
          null,
          null,
          null,
          60.11,
          null,
          null,
          null,
          null,
          null,
          null,
          null,
          null,
          null,
          null,
          60.108,
          null,
          60.083,
          null,
          null,
          null,
          null,
          60.171,
          null,
          null,
          60.153,
          null,
          59.976,
          null,
          null,
          null,
          null,
          null,
          null,
          null,
          null,
          null,
          null,
          null,
          null,
          60.099,
          null,
          null,
          null,
          null,
          null,
          60.088,
          null,
          60.137,
          null,
          null,
          null,
          null,
          null,
          null,
          null,
          null,
          60.089,
          null,
          60.046,
          null,
          null,
          null,
          null,
          60.076,
          null,
          null,
          60.088,
          null,
          null,
          60.148,
          null,
          null,
          null,
          null,
          60.105,
          null,
          null,
          null,
          60.088,
          null,
          null,
          60.093,
          null,
          null,
          59.977,
          null,
          null,
          null,
          60.072,
          null,
          60.138,
          null,
          null,
          60.092,
          null,
          60.751,
          null,
          59.704,
          null,
          60.115,
          null,
          60.101,
          null,
          null,
          60.106,
          null,
          null,
          60.108,
          null,
          null,
          60.148,
          null,
          null,
          60.127,
          null,
          null,
          60.13,
          null,
          60.126,
          null,
          60.134,
          null,
          60.21,
          null,
          null,
          60.101,
          null,
          null,
          null,
          null,
          60.099,
          null,
          null,
          null,
          null,
          null,
          null,
          null,
          null,
          null,
          null,
          60.129,
          null,
          60.09,
          null,
          null,
          null,
          null,
          null,
          null,
          null,
          60.57,
          null,
          null,
          null,
          null,
          null,
          60.132,
          null,
          null,
          null,
          60.119,
          null,
          null,
          60.137,
          null,
          null,
          null,
          null,
          null,
          60.084,
          null,
          60.095,
          null,
          null,
          60.085,
          null,
          60.104,
          null,
          61.354,
          null,
          60.12,
          null,
          null,
          null,
          60.194,
          null,
          60.486,
          null,
          60.128,
          null,
          60.327,
          null,
          null,
          null,
          60.228,
          null,
          null,
          null,
          null,
          60.22,
          null,
          60.733,
          null,
          null,
          null,
          60.13,
          null,
          null,
          60.135,
          null,
          null,
          null,
          null,
          null,
          null,
          null,
          null,
          60.098,
          null,
          null,
          null,
          60.13,
          null,
          60.1,
          null,
          60.096,
          null,
          null,
          null,
          90.092,
          null,
          60.167,
          null,
          60.158,
          null,
          null,
          null,
          null,
          null,
          null,
          null,
          60.131,
          null,
          60.115,
          null,
          null,
          null,
          60.102,
          null,
          90.541,
          null,
          60.148,
          null,
          null,
          null,
          null,
          null,
          null,
          null,
          60.097,
          null,
          null,
          60.121,
          null,
          60.433,
          null,
          null,
          null,
          60.251,
          null,
          null,
          null,
          null,
          60.228,
          null,
          null,
          null,
          null,
          null,
          null,
          null,
          null,
          60.141,
          null,
          null,
          60.651,
          null,
          null,
          60.19,
          null,
          60.074,
          null,
          null,
          60.137,
          null,
          null,
          60.091,
          null,
          null,
          60.105,
          null,
          62.536,
          null,
          null,
          null,
          null,
          null,
          61.47,
          null,
          60.212,
          null,
          null,
          null,
          60.124,
          null,
          60.426,
          null,
          null,
          60.304,
          null,
          60.164,
          null,
          null,
          60.091,
          null,
          60.128,
          null,
          null,
          60.098,
          null,
          60.25,
          null,
          60.168,
          null,
          null,
          null,
          60.191,
          null,
          null,
          60.294,
          null,
          null,
          null,
          null,
          null,
          60.363,
          null,
          null,
          60.697,
          null,
          null,
          60.516,
          null,
          null,
          null,
          null,
          60.805,
          null,
          60.259,
          null,
          null,
          null,
          null,
          61.338,
          null,
          null,
          null,
          62.426,
          null,
          null,
          null,
          60.234,
          null,
          60.143
         ],
         "xaxis": "x",
         "yaxis": "y"
        }
       ],
       "layout": {
        "autosize": true,
        "barmode": "relative",
        "legend": {
         "tracegroupgap": 0
        },
        "margin": {
         "t": 60
        },
        "template": {
         "data": {
          "bar": [
           {
            "error_x": {
             "color": "#2a3f5f"
            },
            "error_y": {
             "color": "#2a3f5f"
            },
            "marker": {
             "line": {
              "color": "#E5ECF6",
              "width": 0.5
             },
             "pattern": {
              "fillmode": "overlay",
              "size": 10,
              "solidity": 0.2
             }
            },
            "type": "bar"
           }
          ],
          "barpolar": [
           {
            "marker": {
             "line": {
              "color": "#E5ECF6",
              "width": 0.5
             },
             "pattern": {
              "fillmode": "overlay",
              "size": 10,
              "solidity": 0.2
             }
            },
            "type": "barpolar"
           }
          ],
          "carpet": [
           {
            "aaxis": {
             "endlinecolor": "#2a3f5f",
             "gridcolor": "white",
             "linecolor": "white",
             "minorgridcolor": "white",
             "startlinecolor": "#2a3f5f"
            },
            "baxis": {
             "endlinecolor": "#2a3f5f",
             "gridcolor": "white",
             "linecolor": "white",
             "minorgridcolor": "white",
             "startlinecolor": "#2a3f5f"
            },
            "type": "carpet"
           }
          ],
          "choropleth": [
           {
            "colorbar": {
             "outlinewidth": 0,
             "ticks": ""
            },
            "type": "choropleth"
           }
          ],
          "contour": [
           {
            "colorbar": {
             "outlinewidth": 0,
             "ticks": ""
            },
            "colorscale": [
             [
              0,
              "#0d0887"
             ],
             [
              0.1111111111111111,
              "#46039f"
             ],
             [
              0.2222222222222222,
              "#7201a8"
             ],
             [
              0.3333333333333333,
              "#9c179e"
             ],
             [
              0.4444444444444444,
              "#bd3786"
             ],
             [
              0.5555555555555556,
              "#d8576b"
             ],
             [
              0.6666666666666666,
              "#ed7953"
             ],
             [
              0.7777777777777778,
              "#fb9f3a"
             ],
             [
              0.8888888888888888,
              "#fdca26"
             ],
             [
              1,
              "#f0f921"
             ]
            ],
            "type": "contour"
           }
          ],
          "contourcarpet": [
           {
            "colorbar": {
             "outlinewidth": 0,
             "ticks": ""
            },
            "type": "contourcarpet"
           }
          ],
          "heatmap": [
           {
            "colorbar": {
             "outlinewidth": 0,
             "ticks": ""
            },
            "colorscale": [
             [
              0,
              "#0d0887"
             ],
             [
              0.1111111111111111,
              "#46039f"
             ],
             [
              0.2222222222222222,
              "#7201a8"
             ],
             [
              0.3333333333333333,
              "#9c179e"
             ],
             [
              0.4444444444444444,
              "#bd3786"
             ],
             [
              0.5555555555555556,
              "#d8576b"
             ],
             [
              0.6666666666666666,
              "#ed7953"
             ],
             [
              0.7777777777777778,
              "#fb9f3a"
             ],
             [
              0.8888888888888888,
              "#fdca26"
             ],
             [
              1,
              "#f0f921"
             ]
            ],
            "type": "heatmap"
           }
          ],
          "heatmapgl": [
           {
            "colorbar": {
             "outlinewidth": 0,
             "ticks": ""
            },
            "colorscale": [
             [
              0,
              "#0d0887"
             ],
             [
              0.1111111111111111,
              "#46039f"
             ],
             [
              0.2222222222222222,
              "#7201a8"
             ],
             [
              0.3333333333333333,
              "#9c179e"
             ],
             [
              0.4444444444444444,
              "#bd3786"
             ],
             [
              0.5555555555555556,
              "#d8576b"
             ],
             [
              0.6666666666666666,
              "#ed7953"
             ],
             [
              0.7777777777777778,
              "#fb9f3a"
             ],
             [
              0.8888888888888888,
              "#fdca26"
             ],
             [
              1,
              "#f0f921"
             ]
            ],
            "type": "heatmapgl"
           }
          ],
          "histogram": [
           {
            "marker": {
             "pattern": {
              "fillmode": "overlay",
              "size": 10,
              "solidity": 0.2
             }
            },
            "type": "histogram"
           }
          ],
          "histogram2d": [
           {
            "colorbar": {
             "outlinewidth": 0,
             "ticks": ""
            },
            "colorscale": [
             [
              0,
              "#0d0887"
             ],
             [
              0.1111111111111111,
              "#46039f"
             ],
             [
              0.2222222222222222,
              "#7201a8"
             ],
             [
              0.3333333333333333,
              "#9c179e"
             ],
             [
              0.4444444444444444,
              "#bd3786"
             ],
             [
              0.5555555555555556,
              "#d8576b"
             ],
             [
              0.6666666666666666,
              "#ed7953"
             ],
             [
              0.7777777777777778,
              "#fb9f3a"
             ],
             [
              0.8888888888888888,
              "#fdca26"
             ],
             [
              1,
              "#f0f921"
             ]
            ],
            "type": "histogram2d"
           }
          ],
          "histogram2dcontour": [
           {
            "colorbar": {
             "outlinewidth": 0,
             "ticks": ""
            },
            "colorscale": [
             [
              0,
              "#0d0887"
             ],
             [
              0.1111111111111111,
              "#46039f"
             ],
             [
              0.2222222222222222,
              "#7201a8"
             ],
             [
              0.3333333333333333,
              "#9c179e"
             ],
             [
              0.4444444444444444,
              "#bd3786"
             ],
             [
              0.5555555555555556,
              "#d8576b"
             ],
             [
              0.6666666666666666,
              "#ed7953"
             ],
             [
              0.7777777777777778,
              "#fb9f3a"
             ],
             [
              0.8888888888888888,
              "#fdca26"
             ],
             [
              1,
              "#f0f921"
             ]
            ],
            "type": "histogram2dcontour"
           }
          ],
          "mesh3d": [
           {
            "colorbar": {
             "outlinewidth": 0,
             "ticks": ""
            },
            "type": "mesh3d"
           }
          ],
          "parcoords": [
           {
            "line": {
             "colorbar": {
              "outlinewidth": 0,
              "ticks": ""
             }
            },
            "type": "parcoords"
           }
          ],
          "pie": [
           {
            "automargin": true,
            "type": "pie"
           }
          ],
          "scatter": [
           {
            "fillpattern": {
             "fillmode": "overlay",
             "size": 10,
             "solidity": 0.2
            },
            "type": "scatter"
           }
          ],
          "scatter3d": [
           {
            "line": {
             "colorbar": {
              "outlinewidth": 0,
              "ticks": ""
             }
            },
            "marker": {
             "colorbar": {
              "outlinewidth": 0,
              "ticks": ""
             }
            },
            "type": "scatter3d"
           }
          ],
          "scattercarpet": [
           {
            "marker": {
             "colorbar": {
              "outlinewidth": 0,
              "ticks": ""
             }
            },
            "type": "scattercarpet"
           }
          ],
          "scattergeo": [
           {
            "marker": {
             "colorbar": {
              "outlinewidth": 0,
              "ticks": ""
             }
            },
            "type": "scattergeo"
           }
          ],
          "scattergl": [
           {
            "marker": {
             "colorbar": {
              "outlinewidth": 0,
              "ticks": ""
             }
            },
            "type": "scattergl"
           }
          ],
          "scattermapbox": [
           {
            "marker": {
             "colorbar": {
              "outlinewidth": 0,
              "ticks": ""
             }
            },
            "type": "scattermapbox"
           }
          ],
          "scatterpolar": [
           {
            "marker": {
             "colorbar": {
              "outlinewidth": 0,
              "ticks": ""
             }
            },
            "type": "scatterpolar"
           }
          ],
          "scatterpolargl": [
           {
            "marker": {
             "colorbar": {
              "outlinewidth": 0,
              "ticks": ""
             }
            },
            "type": "scatterpolargl"
           }
          ],
          "scatterternary": [
           {
            "marker": {
             "colorbar": {
              "outlinewidth": 0,
              "ticks": ""
             }
            },
            "type": "scatterternary"
           }
          ],
          "surface": [
           {
            "colorbar": {
             "outlinewidth": 0,
             "ticks": ""
            },
            "colorscale": [
             [
              0,
              "#0d0887"
             ],
             [
              0.1111111111111111,
              "#46039f"
             ],
             [
              0.2222222222222222,
              "#7201a8"
             ],
             [
              0.3333333333333333,
              "#9c179e"
             ],
             [
              0.4444444444444444,
              "#bd3786"
             ],
             [
              0.5555555555555556,
              "#d8576b"
             ],
             [
              0.6666666666666666,
              "#ed7953"
             ],
             [
              0.7777777777777778,
              "#fb9f3a"
             ],
             [
              0.8888888888888888,
              "#fdca26"
             ],
             [
              1,
              "#f0f921"
             ]
            ],
            "type": "surface"
           }
          ],
          "table": [
           {
            "cells": {
             "fill": {
              "color": "#EBF0F8"
             },
             "line": {
              "color": "white"
             }
            },
            "header": {
             "fill": {
              "color": "#C8D4E3"
             },
             "line": {
              "color": "white"
             }
            },
            "type": "table"
           }
          ]
         },
         "layout": {
          "annotationdefaults": {
           "arrowcolor": "#2a3f5f",
           "arrowhead": 0,
           "arrowwidth": 1
          },
          "autotypenumbers": "strict",
          "coloraxis": {
           "colorbar": {
            "outlinewidth": 0,
            "ticks": ""
           }
          },
          "colorscale": {
           "diverging": [
            [
             0,
             "#8e0152"
            ],
            [
             0.1,
             "#c51b7d"
            ],
            [
             0.2,
             "#de77ae"
            ],
            [
             0.3,
             "#f1b6da"
            ],
            [
             0.4,
             "#fde0ef"
            ],
            [
             0.5,
             "#f7f7f7"
            ],
            [
             0.6,
             "#e6f5d0"
            ],
            [
             0.7,
             "#b8e186"
            ],
            [
             0.8,
             "#7fbc41"
            ],
            [
             0.9,
             "#4d9221"
            ],
            [
             1,
             "#276419"
            ]
           ],
           "sequential": [
            [
             0,
             "#0d0887"
            ],
            [
             0.1111111111111111,
             "#46039f"
            ],
            [
             0.2222222222222222,
             "#7201a8"
            ],
            [
             0.3333333333333333,
             "#9c179e"
            ],
            [
             0.4444444444444444,
             "#bd3786"
            ],
            [
             0.5555555555555556,
             "#d8576b"
            ],
            [
             0.6666666666666666,
             "#ed7953"
            ],
            [
             0.7777777777777778,
             "#fb9f3a"
            ],
            [
             0.8888888888888888,
             "#fdca26"
            ],
            [
             1,
             "#f0f921"
            ]
           ],
           "sequentialminus": [
            [
             0,
             "#0d0887"
            ],
            [
             0.1111111111111111,
             "#46039f"
            ],
            [
             0.2222222222222222,
             "#7201a8"
            ],
            [
             0.3333333333333333,
             "#9c179e"
            ],
            [
             0.4444444444444444,
             "#bd3786"
            ],
            [
             0.5555555555555556,
             "#d8576b"
            ],
            [
             0.6666666666666666,
             "#ed7953"
            ],
            [
             0.7777777777777778,
             "#fb9f3a"
            ],
            [
             0.8888888888888888,
             "#fdca26"
            ],
            [
             1,
             "#f0f921"
            ]
           ]
          },
          "colorway": [
           "#636efa",
           "#EF553B",
           "#00cc96",
           "#ab63fa",
           "#FFA15A",
           "#19d3f3",
           "#FF6692",
           "#B6E880",
           "#FF97FF",
           "#FECB52"
          ],
          "font": {
           "color": "#2a3f5f"
          },
          "geo": {
           "bgcolor": "white",
           "lakecolor": "white",
           "landcolor": "#E5ECF6",
           "showlakes": true,
           "showland": true,
           "subunitcolor": "white"
          },
          "hoverlabel": {
           "align": "left"
          },
          "hovermode": "closest",
          "mapbox": {
           "style": "light"
          },
          "paper_bgcolor": "white",
          "plot_bgcolor": "#E5ECF6",
          "polar": {
           "angularaxis": {
            "gridcolor": "white",
            "linecolor": "white",
            "ticks": ""
           },
           "bgcolor": "#E5ECF6",
           "radialaxis": {
            "gridcolor": "white",
            "linecolor": "white",
            "ticks": ""
           }
          },
          "scene": {
           "xaxis": {
            "backgroundcolor": "#E5ECF6",
            "gridcolor": "white",
            "gridwidth": 2,
            "linecolor": "white",
            "showbackground": true,
            "ticks": "",
            "zerolinecolor": "white"
           },
           "yaxis": {
            "backgroundcolor": "#E5ECF6",
            "gridcolor": "white",
            "gridwidth": 2,
            "linecolor": "white",
            "showbackground": true,
            "ticks": "",
            "zerolinecolor": "white"
           },
           "zaxis": {
            "backgroundcolor": "#E5ECF6",
            "gridcolor": "white",
            "gridwidth": 2,
            "linecolor": "white",
            "showbackground": true,
            "ticks": "",
            "zerolinecolor": "white"
           }
          },
          "shapedefaults": {
           "line": {
            "color": "#2a3f5f"
           }
          },
          "ternary": {
           "aaxis": {
            "gridcolor": "white",
            "linecolor": "white",
            "ticks": ""
           },
           "baxis": {
            "gridcolor": "white",
            "linecolor": "white",
            "ticks": ""
           },
           "bgcolor": "#E5ECF6",
           "caxis": {
            "gridcolor": "white",
            "linecolor": "white",
            "ticks": ""
           }
          },
          "title": {
           "x": 0.05
          },
          "xaxis": {
           "automargin": true,
           "gridcolor": "white",
           "linecolor": "white",
           "ticks": "",
           "title": {
            "standoff": 15
           },
           "zerolinecolor": "white",
           "zerolinewidth": 2
          },
          "yaxis": {
           "automargin": true,
           "gridcolor": "white",
           "linecolor": "white",
           "ticks": "",
           "title": {
            "standoff": 15
           },
           "zerolinecolor": "white",
           "zerolinewidth": 2
          }
         }
        },
        "xaxis": {
         "anchor": "y",
         "autorange": true,
         "domain": [
          0,
          1
         ],
         "range": [
          50,
          610
         ],
         "title": {
          "text": "suspend_lag"
         },
         "type": "linear"
        },
        "yaxis": {
         "anchor": "x",
         "autorange": true,
         "domain": [
          0,
          1
         ],
         "range": [
          0,
          107.36842105263158
         ],
         "title": {
          "text": "count"
         }
        }
       }
      },
      "image/png": "[encoded data removed]",
      "text/html": [
       "<div>                            <div id=\"b543d2f8-7803-45f8-8b83-6cdfcca19818\" class=\"plotly-graph-div\" style=\"height:525px; width:100%;\"></div>            <script type=\"text/javascript\">                require([\"plotly\"], function(Plotly) {                    window.PLOTLYENV=window.PLOTLYENV || {};                                    if (document.getElementById(\"b543d2f8-7803-45f8-8b83-6cdfcca19818\")) {                    Plotly.newPlot(                        \"b543d2f8-7803-45f8-8b83-6cdfcca19818\",                        [{\"alignmentgroup\":\"True\",\"bingroup\":\"x\",\"hovertemplate\":\"suspend_lag=%{x}<br>count=%{y}<extra></extra>\",\"legendgroup\":\"\",\"marker\":{\"color\":\"#636efa\",\"pattern\":{\"shape\":\"\"}},\"name\":\"\",\"nbinsx\":100,\"offsetgroup\":\"\",\"orientation\":\"v\",\"showlegend\":false,\"x\":[null,null,null,null,null,null,null,null,null,null,null,null,null,null,null,600.284,null,null,null,null,null,null,null,null,null,null,null,null,null,null,null,null,null,null,null,null,null,null,null,600.352,null,600.41,null,null,null,140.967,null,null,60.248,null,60.141,null,null,60.142,null,null,null,60.07,null,null,null,null,null,null,null,60.11,null,null,null,null,null,null,null,null,null,null,60.108,null,60.083,null,null,null,null,60.171,null,null,60.153,null,59.976,null,null,null,null,null,null,null,null,null,null,null,null,60.099,null,null,null,null,null,60.088,null,60.137,null,null,null,null,null,null,null,null,60.089,null,60.046,null,null,null,null,60.076,null,null,60.088,null,null,60.148,null,null,null,null,60.105,null,null,null,60.088,null,null,60.093,null,null,59.977,null,null,null,60.072,null,60.138,null,null,60.092,null,60.751,null,59.704,null,60.115,null,60.101,null,null,60.106,null,null,60.108,null,null,60.148,null,null,60.127,null,null,60.13,null,60.126,null,60.134,null,60.21,null,null,60.101,null,null,null,null,60.099,null,null,null,null,null,null,null,null,null,null,60.129,null,60.09,null,null,null,null,null,null,null,60.57,null,null,null,null,null,60.132,null,null,null,60.119,null,null,60.137,null,null,null,null,null,60.084,null,60.095,null,null,60.085,null,60.104,null,61.354,null,60.12,null,null,null,60.194,null,60.486,null,60.128,null,60.327,null,null,null,60.228,null,null,null,null,60.22,null,60.733,null,null,null,60.13,null,null,60.135,null,null,null,null,null,null,null,null,60.098,null,null,null,60.13,null,60.1,null,60.096,null,null,null,90.092,null,60.167,null,60.158,null,null,null,null,null,null,null,60.131,null,60.115,null,null,null,60.102,null,90.541,null,60.148,null,null,null,null,null,null,null,60.097,null,null,60.121,null,60.433,null,null,null,60.251,null,null,null,null,60.228,null,null,null,null,null,null,null,null,60.141,null,null,60.651,null,null,60.19,null,60.074,null,null,60.137,null,null,60.091,null,null,60.105,null,62.536,null,null,null,null,null,61.47,null,60.212,null,null,null,60.124,null,60.426,null,null,60.304,null,60.164,null,null,60.091,null,60.128,null,null,60.098,null,60.25,null,60.168,null,null,null,60.191,null,null,60.294,null,null,null,null,null,60.363,null,null,60.697,null,null,60.516,null,null,null,null,60.805,null,60.259,null,null,null,null,61.338,null,null,null,62.426,null,null,null,60.234,null,60.143],\"xaxis\":\"x\",\"yaxis\":\"y\",\"type\":\"histogram\"}],                        {\"template\":{\"data\":{\"histogram2dcontour\":[{\"type\":\"histogram2dcontour\",\"colorbar\":{\"outlinewidth\":0,\"ticks\":\"\"},\"colorscale\":[[0.0,\"#0d0887\"],[0.1111111111111111,\"#46039f\"],[0.2222222222222222,\"#7201a8\"],[0.3333333333333333,\"#9c179e\"],[0.4444444444444444,\"#bd3786\"],[0.5555555555555556,\"#d8576b\"],[0.6666666666666666,\"#ed7953\"],[0.7777777777777778,\"#fb9f3a\"],[0.8888888888888888,\"#fdca26\"],[1.0,\"#f0f921\"]]}],\"choropleth\":[{\"type\":\"choropleth\",\"colorbar\":{\"outlinewidth\":0,\"ticks\":\"\"}}],\"histogram2d\":[{\"type\":\"histogram2d\",\"colorbar\":{\"outlinewidth\":0,\"ticks\":\"\"},\"colorscale\":[[0.0,\"#0d0887\"],[0.1111111111111111,\"#46039f\"],[0.2222222222222222,\"#7201a8\"],[0.3333333333333333,\"#9c179e\"],[0.4444444444444444,\"#bd3786\"],[0.5555555555555556,\"#d8576b\"],[0.6666666666666666,\"#ed7953\"],[0.7777777777777778,\"#fb9f3a\"],[0.8888888888888888,\"#fdca26\"],[1.0,\"#f0f921\"]]}],\"heatmap\":[{\"type\":\"heatmap\",\"colorbar\":{\"outlinewidth\":0,\"ticks\":\"\"},\"colorscale\":[[0.0,\"#0d0887\"],[0.1111111111111111,\"#46039f\"],[0.2222222222222222,\"#7201a8\"],[0.3333333333333333,\"#9c179e\"],[0.4444444444444444,\"#bd3786\"],[0.5555555555555556,\"#d8576b\"],[0.6666666666666666,\"#ed7953\"],[0.7777777777777778,\"#fb9f3a\"],[0.8888888888888888,\"#fdca26\"],[1.0,\"#f0f921\"]]}],\"heatmapgl\":[{\"type\":\"heatmapgl\",\"colorbar\":{\"outlinewidth\":0,\"ticks\":\"\"},\"colorscale\":[[0.0,\"#0d0887\"],[0.1111111111111111,\"#46039f\"],[0.2222222222222222,\"#7201a8\"],[0.3333333333333333,\"#9c179e\"],[0.4444444444444444,\"#bd3786\"],[0.5555555555555556,\"#d8576b\"],[0.6666666666666666,\"#ed7953\"],[0.7777777777777778,\"#fb9f3a\"],[0.8888888888888888,\"#fdca26\"],[1.0,\"#f0f921\"]]}],\"contourcarpet\":[{\"type\":\"contourcarpet\",\"colorbar\":{\"outlinewidth\":0,\"ticks\":\"\"}}],\"contour\":[{\"type\":\"contour\",\"colorbar\":{\"outlinewidth\":0,\"ticks\":\"\"},\"colorscale\":[[0.0,\"#0d0887\"],[0.1111111111111111,\"#46039f\"],[0.2222222222222222,\"#7201a8\"],[0.3333333333333333,\"#9c179e\"],[0.4444444444444444,\"#bd3786\"],[0.5555555555555556,\"#d8576b\"],[0.6666666666666666,\"#ed7953\"],[0.7777777777777778,\"#fb9f3a\"],[0.8888888888888888,\"#fdca26\"],[1.0,\"#f0f921\"]]}],\"surface\":[{\"type\":\"surface\",\"colorbar\":{\"outlinewidth\":0,\"ticks\":\"\"},\"colorscale\":[[0.0,\"#0d0887\"],[0.1111111111111111,\"#46039f\"],[0.2222222222222222,\"#7201a8\"],[0.3333333333333333,\"#9c179e\"],[0.4444444444444444,\"#bd3786\"],[0.5555555555555556,\"#d8576b\"],[0.6666666666666666,\"#ed7953\"],[0.7777777777777778,\"#fb9f3a\"],[0.8888888888888888,\"#fdca26\"],[1.0,\"#f0f921\"]]}],\"mesh3d\":[{\"type\":\"mesh3d\",\"colorbar\":{\"outlinewidth\":0,\"ticks\":\"\"}}],\"scatter\":[{\"fillpattern\":{\"fillmode\":\"overlay\",\"size\":10,\"solidity\":0.2},\"type\":\"scatter\"}],\"parcoords\":[{\"type\":\"parcoords\",\"line\":{\"colorbar\":{\"outlinewidth\":0,\"ticks\":\"\"}}}],\"scatterpolargl\":[{\"type\":\"scatterpolargl\",\"marker\":{\"colorbar\":{\"outlinewidth\":0,\"ticks\":\"\"}}}],\"bar\":[{\"error_x\":{\"color\":\"#2a3f5f\"},\"error_y\":{\"color\":\"#2a3f5f\"},\"marker\":{\"line\":{\"color\":\"#E5ECF6\",\"width\":0.5},\"pattern\":{\"fillmode\":\"overlay\",\"size\":10,\"solidity\":0.2}},\"type\":\"bar\"}],\"scattergeo\":[{\"type\":\"scattergeo\",\"marker\":{\"colorbar\":{\"outlinewidth\":0,\"ticks\":\"\"}}}],\"scatterpolar\":[{\"type\":\"scatterpolar\",\"marker\":{\"colorbar\":{\"outlinewidth\":0,\"ticks\":\"\"}}}],\"histogram\":[{\"marker\":{\"pattern\":{\"fillmode\":\"overlay\",\"size\":10,\"solidity\":0.2}},\"type\":\"histogram\"}],\"scattergl\":[{\"type\":\"scattergl\",\"marker\":{\"colorbar\":{\"outlinewidth\":0,\"ticks\":\"\"}}}],\"scatter3d\":[{\"type\":\"scatter3d\",\"line\":{\"colorbar\":{\"outlinewidth\":0,\"ticks\":\"\"}},\"marker\":{\"colorbar\":{\"outlinewidth\":0,\"ticks\":\"\"}}}],\"scattermapbox\":[{\"type\":\"scattermapbox\",\"marker\":{\"colorbar\":{\"outlinewidth\":0,\"ticks\":\"\"}}}],\"scatterternary\":[{\"type\":\"scatterternary\",\"marker\":{\"colorbar\":{\"outlinewidth\":0,\"ticks\":\"\"}}}],\"scattercarpet\":[{\"type\":\"scattercarpet\",\"marker\":{\"colorbar\":{\"outlinewidth\":0,\"ticks\":\"\"}}}],\"carpet\":[{\"aaxis\":{\"endlinecolor\":\"#2a3f5f\",\"gridcolor\":\"white\",\"linecolor\":\"white\",\"minorgridcolor\":\"white\",\"startlinecolor\":\"#2a3f5f\"},\"baxis\":{\"endlinecolor\":\"#2a3f5f\",\"gridcolor\":\"white\",\"linecolor\":\"white\",\"minorgridcolor\":\"white\",\"startlinecolor\":\"#2a3f5f\"},\"type\":\"carpet\"}],\"table\":[{\"cells\":{\"fill\":{\"color\":\"#EBF0F8\"},\"line\":{\"color\":\"white\"}},\"header\":{\"fill\":{\"color\":\"#C8D4E3\"},\"line\":{\"color\":\"white\"}},\"type\":\"table\"}],\"barpolar\":[{\"marker\":{\"line\":{\"color\":\"#E5ECF6\",\"width\":0.5},\"pattern\":{\"fillmode\":\"overlay\",\"size\":10,\"solidity\":0.2}},\"type\":\"barpolar\"}],\"pie\":[{\"automargin\":true,\"type\":\"pie\"}]},\"layout\":{\"autotypenumbers\":\"strict\",\"colorway\":[\"#636efa\",\"#EF553B\",\"#00cc96\",\"#ab63fa\",\"#FFA15A\",\"#19d3f3\",\"#FF6692\",\"#B6E880\",\"#FF97FF\",\"#FECB52\"],\"font\":{\"color\":\"#2a3f5f\"},\"hovermode\":\"closest\",\"hoverlabel\":{\"align\":\"left\"},\"paper_bgcolor\":\"white\",\"plot_bgcolor\":\"#E5ECF6\",\"polar\":{\"bgcolor\":\"#E5ECF6\",\"angularaxis\":{\"gridcolor\":\"white\",\"linecolor\":\"white\",\"ticks\":\"\"},\"radialaxis\":{\"gridcolor\":\"white\",\"linecolor\":\"white\",\"ticks\":\"\"}},\"ternary\":{\"bgcolor\":\"#E5ECF6\",\"aaxis\":{\"gridcolor\":\"white\",\"linecolor\":\"white\",\"ticks\":\"\"},\"baxis\":{\"gridcolor\":\"white\",\"linecolor\":\"white\",\"ticks\":\"\"},\"caxis\":{\"gridcolor\":\"white\",\"linecolor\":\"white\",\"ticks\":\"\"}},\"coloraxis\":{\"colorbar\":{\"outlinewidth\":0,\"ticks\":\"\"}},\"colorscale\":{\"sequential\":[[0.0,\"#0d0887\"],[0.1111111111111111,\"#46039f\"],[0.2222222222222222,\"#7201a8\"],[0.3333333333333333,\"#9c179e\"],[0.4444444444444444,\"#bd3786\"],[0.5555555555555556,\"#d8576b\"],[0.6666666666666666,\"#ed7953\"],[0.7777777777777778,\"#fb9f3a\"],[0.8888888888888888,\"#fdca26\"],[1.0,\"#f0f921\"]],\"sequentialminus\":[[0.0,\"#0d0887\"],[0.1111111111111111,\"#46039f\"],[0.2222222222222222,\"#7201a8\"],[0.3333333333333333,\"#9c179e\"],[0.4444444444444444,\"#bd3786\"],[0.5555555555555556,\"#d8576b\"],[0.6666666666666666,\"#ed7953\"],[0.7777777777777778,\"#fb9f3a\"],[0.8888888888888888,\"#fdca26\"],[1.0,\"#f0f921\"]],\"diverging\":[[0,\"#8e0152\"],[0.1,\"#c51b7d\"],[0.2,\"#de77ae\"],[0.3,\"#f1b6da\"],[0.4,\"#fde0ef\"],[0.5,\"#f7f7f7\"],[0.6,\"#e6f5d0\"],[0.7,\"#b8e186\"],[0.8,\"#7fbc41\"],[0.9,\"#4d9221\"],[1,\"#276419\"]]},\"xaxis\":{\"gridcolor\":\"white\",\"linecolor\":\"white\",\"ticks\":\"\",\"title\":{\"standoff\":15},\"zerolinecolor\":\"white\",\"automargin\":true,\"zerolinewidth\":2},\"yaxis\":{\"gridcolor\":\"white\",\"linecolor\":\"white\",\"ticks\":\"\",\"title\":{\"standoff\":15},\"zerolinecolor\":\"white\",\"automargin\":true,\"zerolinewidth\":2},\"scene\":{\"xaxis\":{\"backgroundcolor\":\"#E5ECF6\",\"gridcolor\":\"white\",\"linecolor\":\"white\",\"showbackground\":true,\"ticks\":\"\",\"zerolinecolor\":\"white\",\"gridwidth\":2},\"yaxis\":{\"backgroundcolor\":\"#E5ECF6\",\"gridcolor\":\"white\",\"linecolor\":\"white\",\"showbackground\":true,\"ticks\":\"\",\"zerolinecolor\":\"white\",\"gridwidth\":2},\"zaxis\":{\"backgroundcolor\":\"#E5ECF6\",\"gridcolor\":\"white\",\"linecolor\":\"white\",\"showbackground\":true,\"ticks\":\"\",\"zerolinecolor\":\"white\",\"gridwidth\":2}},\"shapedefaults\":{\"line\":{\"color\":\"#2a3f5f\"}},\"annotationdefaults\":{\"arrowcolor\":\"#2a3f5f\",\"arrowhead\":0,\"arrowwidth\":1},\"geo\":{\"bgcolor\":\"white\",\"landcolor\":\"#E5ECF6\",\"subunitcolor\":\"white\",\"showland\":true,\"showlakes\":true,\"lakecolor\":\"white\"},\"title\":{\"x\":0.05},\"mapbox\":{\"style\":\"light\"}}},\"xaxis\":{\"anchor\":\"y\",\"domain\":[0.0,1.0],\"title\":{\"text\":\"suspend_lag\"}},\"yaxis\":{\"anchor\":\"x\",\"domain\":[0.0,1.0],\"title\":{\"text\":\"count\"}},\"legend\":{\"tracegroupgap\":0},\"margin\":{\"t\":60},\"barmode\":\"relative\"},                        {\"responsive\": true}                    ).then(function(){\n",
       "                            \n",
       "var gd = document.getElementById('b543d2f8-7803-45f8-8b83-6cdfcca19818');\n",
       "var x = new MutationObserver(function (mutations, observer) {{\n",
       "        var display = window.getComputedStyle(gd).display;\n",
       "        if (!display || display === 'none') {{\n",
       "            console.log([gd, 'removed!']);\n",
       "            Plotly.purge(gd);\n",
       "            observer.disconnect();\n",
       "        }}\n",
       "}});\n",
       "\n",
       "// Listen for the removal of the full notebook cells\n",
       "var notebookContainer = gd.closest('#notebook-container');\n",
       "if (notebookContainer) {{\n",
       "    x.observe(notebookContainer, {childList: true});\n",
       "}}\n",
       "\n",
       "// Listen for the clearing of the current output cell\n",
       "var outputEl = gd.closest('.output');\n",
       "if (outputEl) {{\n",
       "    x.observe(outputEl, {childList: true});\n",
       "}}\n",
       "\n",
       "                        })                };                });            </script>        </div>"
      ]
     },
     "metadata": {},
     "output_type": "display_data"
    },
    {
     "name": "stdout",
     "output_type": "stream",
     "text": [
      "time: 52.5 ms (started: 2023-04-13 15:06:09 -04:00)\n"
     ]
    }
   ],
   "source": [
    "\n",
    "import plotly.express as px\n",
    "px.histogram(df[df.warehouse_name == 'DEMO_SMALL'], 'suspend_lag')"
   ]
  },
  {
   "cell_type": "code",
   "execution_count": 11,
   "id": "8a7a6b60-a9ae-48de-aa0a-6d0ae855e9f6",
   "metadata": {
    "scrolled": true,
    "tags": []
   },
   "outputs": [
    {
     "name": "stderr",
     "output_type": "stream",
     "text": [
      "11:12:19 INFO:\n",
      "=======================================================================================================\n",
      "\n",
      "11:12:19 INFO:query: [show warehouses like 'autosuspend_sixty']\n",
      "11:12:19 INFO:query execution done\n",
      "11:12:19 INFO:warehouse autosuspend_sixty\n",
      "11:12:19 INFO:state SUSPENDED | running 0 | queued 0 | inactive True | time_since_resumed 0 days 15:17:42.337345\n",
      "11:12:19 INFO:---------------------------------------------------------------------------------------------------------------\n",
      "11:12:19 INFO:query: [show warehouses like 'smartsuspend_ten']\n",
      "11:12:20 INFO:query execution done\n",
      "11:12:20 INFO:warehouse smartsuspend_ten\n",
      "11:12:20 INFO:state SUSPENDED | running 0 | queued 0 | inactive True | time_since_resumed 0 days 15:17:42.341450\n",
      "11:12:20 INFO:---------------------------------------------------------------------------------------------------------------\n",
      "11:12:20 INFO:query: [show warehouses like 'suspend_ten']\n",
      "11:12:20 INFO:query execution done\n",
      "11:12:20 INFO:warehouse suspend_ten\n",
      "11:12:20 INFO:state SUSPENDED | running 0 | queued 0 | inactive True | time_since_resumed 0 days 15:17:42.183995\n",
      "11:12:20 INFO:---------------------------------------------------------------------------------------------------------------\n",
      "11:12:21 INFO:\n",
      "=======================================================================================================\n",
      "\n",
      "11:12:21 INFO:query: [show warehouses like 'autosuspend_sixty']\n",
      "11:12:21 INFO:query execution done\n",
      "11:12:21 INFO:warehouse autosuspend_sixty\n",
      "11:12:21 INFO:state SUSPENDED | running 0 | queued 0 | inactive True | time_since_resumed 0 days 15:17:43.808713\n",
      "11:12:21 INFO:---------------------------------------------------------------------------------------------------------------\n",
      "11:12:21 INFO:query: [show warehouses like 'smartsuspend_ten']\n",
      "11:12:21 INFO:query execution done\n",
      "11:12:21 INFO:warehouse smartsuspend_ten\n",
      "11:12:21 INFO:state SUSPENDED | running 0 | queued 0 | inactive True | time_since_resumed 0 days 15:17:43.818176\n",
      "11:12:21 INFO:---------------------------------------------------------------------------------------------------------------\n",
      "11:12:21 INFO:query: [show warehouses like 'suspend_ten']\n",
      "11:12:21 INFO:query execution done\n",
      "11:12:21 INFO:warehouse suspend_ten\n",
      "11:12:21 INFO:state SUSPENDED | running 0 | queued 0 | inactive True | time_since_resumed 0 days 15:17:43.650279\n",
      "11:12:21 INFO:---------------------------------------------------------------------------------------------------------------\n",
      "11:12:22 INFO:\n",
      "=======================================================================================================\n",
      "\n",
      "11:12:22 INFO:query: [show warehouses like 'autosuspend_sixty']\n",
      "11:12:22 INFO:query execution done\n",
      "11:12:22 INFO:warehouse autosuspend_sixty\n",
      "11:12:22 INFO:state SUSPENDED | running 0 | queued 0 | inactive True | time_since_resumed 0 days 15:17:45.318148\n",
      "11:12:22 INFO:---------------------------------------------------------------------------------------------------------------\n",
      "11:12:22 INFO:query: [show warehouses like 'smartsuspend_ten']\n",
      "11:12:23 INFO:query execution done\n",
      "11:12:23 INFO:warehouse smartsuspend_ten\n",
      "11:12:23 INFO:state SUSPENDED | running 0 | queued 0 | inactive True | time_since_resumed 0 days 15:17:45.339457\n",
      "11:12:23 INFO:---------------------------------------------------------------------------------------------------------------\n",
      "11:12:23 INFO:query: [show warehouses like 'suspend_ten']\n",
      "11:12:23 INFO:query execution done\n",
      "11:12:23 INFO:warehouse suspend_ten\n",
      "11:12:23 INFO:state SUSPENDED | running 0 | queued 0 | inactive True | time_since_resumed 0 days 15:17:45.179234\n",
      "11:12:23 INFO:---------------------------------------------------------------------------------------------------------------\n",
      "11:12:24 INFO:\n",
      "=======================================================================================================\n",
      "\n",
      "11:12:24 INFO:query: [show warehouses like 'autosuspend_sixty']\n",
      "11:12:24 INFO:query execution done\n",
      "11:12:24 INFO:warehouse autosuspend_sixty\n",
      "11:12:24 INFO:state SUSPENDED | running 0 | queued 0 | inactive True | time_since_resumed 0 days 15:17:46.843365\n",
      "11:12:24 INFO:---------------------------------------------------------------------------------------------------------------\n",
      "11:12:24 INFO:query: [show warehouses like 'smartsuspend_ten']\n",
      "11:12:24 INFO:query execution done\n",
      "11:12:24 INFO:warehouse smartsuspend_ten\n",
      "11:12:24 INFO:state SUSPENDED | running 0 | queued 0 | inactive True | time_since_resumed 0 days 15:17:46.825988\n",
      "11:12:24 INFO:---------------------------------------------------------------------------------------------------------------\n",
      "11:12:24 INFO:query: [show warehouses like 'suspend_ten']\n",
      "11:12:24 INFO:query execution done\n",
      "11:12:24 INFO:warehouse suspend_ten\n",
      "11:12:24 INFO:state SUSPENDED | running 0 | queued 0 | inactive True | time_since_resumed 0 days 15:17:46.664229\n",
      "11:12:24 INFO:---------------------------------------------------------------------------------------------------------------\n",
      "11:12:25 INFO:\n",
      "=======================================================================================================\n",
      "\n",
      "11:12:25 INFO:query: [show warehouses like 'autosuspend_sixty']\n",
      "11:12:25 INFO:query execution done\n",
      "11:12:25 INFO:warehouse autosuspend_sixty\n",
      "11:12:25 INFO:state SUSPENDED | running 0 | queued 0 | inactive True | time_since_resumed 0 days 15:17:48.285454\n",
      "11:12:25 INFO:---------------------------------------------------------------------------------------------------------------\n",
      "11:12:25 INFO:query: [show warehouses like 'smartsuspend_ten']\n",
      "11:12:26 INFO:query execution done\n",
      "11:12:26 INFO:warehouse smartsuspend_ten\n",
      "11:12:26 INFO:state SUSPENDED | running 0 | queued 0 | inactive True | time_since_resumed 0 days 15:17:48.274747\n",
      "11:12:26 INFO:---------------------------------------------------------------------------------------------------------------\n",
      "11:12:26 INFO:query: [show warehouses like 'suspend_ten']\n",
      "11:12:26 INFO:query execution done\n",
      "11:12:26 INFO:warehouse suspend_ten\n",
      "11:12:26 INFO:state SUSPENDED | running 0 | queued 0 | inactive True | time_since_resumed 0 days 15:17:48.130529\n",
      "11:12:26 INFO:---------------------------------------------------------------------------------------------------------------\n"
     ]
    },
    {
     "ename": "KeyboardInterrupt",
     "evalue": "",
     "output_type": "error",
     "traceback": [
      "\u001b[0;31m---------------------------------------------------------------------------\u001b[0m",
      "\u001b[0;31mKeyboardInterrupt\u001b[0m                         Traceback (most recent call last)",
      "Cell \u001b[0;32mIn[11], line 13\u001b[0m\n\u001b[1;32m      5\u001b[0m warehouses_strategies \u001b[38;5;241m=\u001b[39m [\n\u001b[1;32m      6\u001b[0m     (\u001b[38;5;124m\"\u001b[39m\u001b[38;5;124mautosuspend_sixty\u001b[39m\u001b[38;5;124m\"\u001b[39m, \u001b[38;5;124m\"\u001b[39m\u001b[38;5;124mautosuspend_sixty\u001b[39m\u001b[38;5;124m\"\u001b[39m),\n\u001b[1;32m      7\u001b[0m     (\u001b[38;5;124m\"\u001b[39m\u001b[38;5;124msmartsuspend_ten\u001b[39m\u001b[38;5;124m\"\u001b[39m, \u001b[38;5;124m\"\u001b[39m\u001b[38;5;124msmartsuspend_ten\u001b[39m\u001b[38;5;124m\"\u001b[39m),\n\u001b[1;32m      8\u001b[0m     (\u001b[38;5;124m\"\u001b[39m\u001b[38;5;124msuspend_ten\u001b[39m\u001b[38;5;124m\"\u001b[39m, \u001b[38;5;124m\"\u001b[39m\u001b[38;5;124msuspend_ten\u001b[39m\u001b[38;5;124m\"\u001b[39m),\n\u001b[1;32m      9\u001b[0m     \u001b[38;5;66;03m# (\"demo\", \"suspend_ten\")\u001b[39;00m\n\u001b[1;32m     10\u001b[0m ]\n\u001b[1;32m     12\u001b[0m \u001b[38;5;28;01mwhile\u001b[39;00m \u001b[38;5;28;01mTrue\u001b[39;00m:\n\u001b[0;32m---> 13\u001b[0m     \u001b[43mtime\u001b[49m\u001b[38;5;241;43m.\u001b[39;49m\u001b[43msleep\u001b[49m\u001b[43m(\u001b[49m\u001b[38;5;241;43m1\u001b[39;49m\u001b[43m)\u001b[49m\n\u001b[1;32m     14\u001b[0m     logger\u001b[38;5;241m.\u001b[39minfo(\u001b[38;5;124m\"\u001b[39m\u001b[38;5;130;01m\\n\u001b[39;00m\u001b[38;5;124m=======================================================================================================\u001b[39m\u001b[38;5;130;01m\\n\u001b[39;00m\u001b[38;5;124m\"\u001b[39m)\n\u001b[1;32m     16\u001b[0m     \u001b[38;5;28;01mfor\u001b[39;00m (wh, strategy) \u001b[38;5;129;01min\u001b[39;00m warehouses_strategies:\n",
      "\u001b[0;31mKeyboardInterrupt\u001b[0m: "
     ]
    }
   ],
   "source": [
    "\n",
    "warehouses_strategies = [\n",
    "    (\"autosuspend_sixty\", \"autosuspend_sixty\"),\n",
    "    (\"smartsuspend_ten\", \"smartsuspend_ten\"),\n",
    "    (\"suspend_ten\", \"suspend_ten\"),\n",
    "    # (\"demo\", \"suspend_ten\")\n",
    "]\n",
    "\n",
    "while True:\n",
    "    time.sleep(1)\n",
    "    logger.info(\"\\n=======================================================================================================\\n\")\n",
    "\n",
    "    for (wh, strategy) in warehouses_strategies:\n",
    "        df = sql_to_df(f\"show warehouses like '{wh}'\")\n",
    "        logger.info(f\"warehouse {wh}\")\n",
    "        if (len(df) == 0):\n",
    "            logging.info(\"not found\")\n",
    "            continue\n",
    "        status = df.iloc[0].to_dict()\n",
    "        state = status['state']\n",
    "        running = status['running']\n",
    "        queued = status['queued']\n",
    "        inactive = (running + queued) == 0\n",
    "        time_since_resumed = pd.Timestamp.utcnow() - status['resumed_on']\n",
    "        logger.info(f\"state {state} | running {running} | queued {queued} | inactive {inactive} | time_since_resumed {time_since_resumed}\")\n",
    "        logger.info(\"---------------------------------------------------------------------------------------------------------------\")\n",
    "        if state == 'STARTED':\n",
    "\n",
    "            # if wh == 'autosuspend_sixty':\n",
    "            #     logging.info(\"doing nothing\")\n",
    "\n",
    "            if strategy == \"suspend_ten\":\n",
    "                if inactive:\n",
    "                    run_sql(f\"ALTER WAREHOUSE {wh} SUSPEND\")\n",
    "\n",
    "            if strategy == \"smartsuspend_ten\":\n",
    "                if inactive and time_since_resumed >= Timedelta(seconds=60):\n",
    "                    run_sql(f\"ALTER WAREHOUSE {wh} SUSPEND\")\n",
    "\n",
    "    \n"
   ]
  },
  {
   "cell_type": "code",
   "execution_count": 37,
   "id": "3778c778-493f-48a8-90dc-0c8505a863c4",
   "metadata": {},
   "outputs": [
    {
     "data": {
      "text/plain": [
       "Timestamp('2023-04-10 06:25:23.645000+0000', tz='UTC')"
      ]
     },
     "execution_count": 37,
     "metadata": {},
     "output_type": "execute_result"
    }
   ],
   "source": [
    "status['resumed_on']"
   ]
  },
  {
   "cell_type": "code",
   "execution_count": 9,
   "id": "173c0fac-7ec5-4900-bdb4-4bc6e61def7c",
   "metadata": {},
   "outputs": [
    {
     "data": {
      "text/plain": [
       "datetime.datetime(2023, 4, 9, 19, 20, 6, 205087)"
      ]
     },
     "execution_count": 9,
     "metadata": {},
     "output_type": "execute_result"
    }
   ],
   "source": [
    "from datetime import datetime\n",
    "datetime.now()"
   ]
  },
  {
   "cell_type": "code",
   "execution_count": 22,
   "id": "1a8a1597-d561-4a4e-b291-87d1cfd508c7",
   "metadata": {},
   "outputs": [
    {
     "data": {
      "text/plain": [
       "Timedelta('0 days 00:00:11.437963')"
      ]
     },
     "execution_count": 22,
     "metadata": {},
     "output_type": "execute_result"
    }
   ],
   "source": [
    "import pandas as pd\n",
    "pd.Timestamp.utcnow() - status['resumed_on']"
   ]
  },
  {
   "cell_type": "code",
   "execution_count": null,
   "id": "406fdb73-9d26-4767-8524-a7db1559ad0e",
   "metadata": {},
   "outputs": [],
   "source": []
  }
 ],
 "metadata": {
  "autoscrollcelloutput": false,
  "kernelspec": {
   "display_name": "Python 3 (ipykernel)",
   "language": "python",
   "name": "python3"
  },
  "language_info": {
   "codemirror_mode": {
    "name": "ipython",
    "version": 3
   },
   "file_extension": ".py",
   "mimetype": "text/x-python",
   "name": "python",
   "nbconvert_exporter": "python",
   "pygments_lexer": "ipython3",
   "version": "3.8.16"
  }
 },
 "nbformat": 4,
 "nbformat_minor": 5
}
