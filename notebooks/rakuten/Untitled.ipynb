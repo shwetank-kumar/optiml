{
 "cells": [
  {
   "cell_type": "code",
   "execution_count": null,
   "id": "7edbffc8-3643-4d3a-9ccf-cc29aa6cd83c",
   "metadata": {},
   "outputs": [],
   "source": [
    "%reload_ext dotenv\n",
    "\n",
    "%dotenv ../../env/.env\n"
   ]
  },
  {
   "cell_type": "code",
   "execution_count": null,
   "id": "77fce0d0-80f4-41df-9533-b476d07b43f7",
   "metadata": {},
   "outputs": [],
   "source": [
    "import snowflake.connector\n",
    "import os\n",
    "\n",
    "conn = snowflake.connector.connect(\n",
    "    user=os.environ['SNOWFLAKE_USER'],\n",
    "    role=os.environ['SNOWFLAKE_ROLE'],\n",
    "    password=os.environ['SNOWFLAKE_PASSWORD'],\n",
    "    account=os.environ['SNOWFLAKE_ACCOUNT'],\n",
    "    warehouse=os.environ['SNOWFLAKE_WAREHOUSE'],\n",
    "    database=os.environ['SNOWFLAKE_DATABASE'],\n",
    "    schema=os.environ['SNOWFLAKE_SCHEMA'],\n",
    "    client_session_keep_alive=True\n",
    ")\n",
    "\n",
    "conn.schema"
   ]
  },
  {
   "cell_type": "code",
   "execution_count": null,
   "id": "78bbbde0-ad26-46a7-b442-5dc4343b4ad4",
   "metadata": {},
   "outputs": [],
   "source": [
    "# Create a cursor object.\n",
    "import pandas as pd\n",
    "def run_sql(sql: str, ctx=conn):\n",
    "    return conn.cursor().execute(sql)\n",
    "\n",
    "import functools\n",
    "import time\n",
    "\n",
    "@functools.cache\n",
    "def sql_to_df(sql_query, pre_hook=[], ctx=conn):\n",
    "    print(f\"RUNNING pre-hook: {pre_hook}\")\n",
    "    for s in pre_hook:\n",
    "        run_sql(s,conn)\n",
    "        # print(f\"RUNNING SQL: {sql_query}\")\n",
    "\n",
    "    # todo: move to latest method of pandas dataframe fetching\n",
    "    # may need to upgrade python: https://github.com/snowflakedb/snowflake-connector-python/issues/986#issuecomment-1115354587\n",
    "    \n",
    "    trimmed_lowered = sql_query.strip().lower()\n",
    "    if trimmed_lowered.startswith('select') or trimmed_lowered.startswith('with'):\n",
    "        print(f\"using arrow to fetch results...\")\n",
    "        cur = ctx.cursor()\n",
    "        cur.execute(sql_query)\n",
    "        data = cur.fetch_pandas_all() \n",
    "        cur.close()\n",
    "    else:\n",
    "        data = pd.read_sql(\n",
    "            sql_query,\n",
    "            ctx,\n",
    "        )\n",
    "    \n",
    "    data.columns = data.columns.str.lower()\n",
    "    return data"
   ]
  },
  {
   "cell_type": "code",
   "execution_count": null,
   "id": "52ebb841-cede-4402-995e-d76c44e62e4e",
   "metadata": {},
   "outputs": [],
   "source": [
    "sql = \"\"\"\n",
    "select\n",
    " query_sanitized_signature,\n",
    " -- date_trunc(hour, execution_start_time) as start_hour,\n",
    " count_if(data_scanned_from_cache_gb > 0) num_cache_hits,\n",
    " count(*) as cnt,\n",
    " 100*avg(case when data_scanned_from_cache_gb > 0 then percentage_scanned_from_cache else null end) as avg_pct_scanned_from_cache,\n",
    " avg(case when data_scanned_from_cache_gb > 0 then query_cost else null end) as avg_query_cost_cache_hit,\n",
    " avg(case when data_scanned_from_cache_gb = 0 then query_cost else null end) as avg_query_cost_cache_miss,\n",
    " avg(case when data_scanned_from_cache_gb > 0 then execution_time_s else null end) as avg_execution_time_s_cache_hit,\n",
    " avg(case when data_scanned_from_cache_gb = 0 then execution_time_s else null end) as avg_execution_time_s_cache_miss,\n",
    " median(case when data_scanned_from_cache_gb > 0 then query_cost else null end) as median_query_cost_cache_hit,\n",
    " median(case when data_scanned_from_cache_gb = 0 then query_cost else null end) as median_query_cost_cache_miss,\n",
    " avg_query_cost_cache_hit - avg_query_cost_cache_miss as avg_query_cost_diff,\n",
    " median_query_cost_cache_hit - median_query_cost_cache_miss as median_query_cost_diff,\n",
    " \n",
    " 100*div0null(avg_query_cost_cache_hit - avg_query_cost_cache_miss,avg_query_cost_cache_miss) as pct_diff_avg,\n",
    " 100*div0null(median_query_cost_cache_hit - median_query_cost_cache_miss,median_query_cost_cache_miss) as pct_diff_median\n",
    "from query_history_enriched\n",
    "where warehouse_size is not null and data_scanned_gb > 0\n",
    "group by 1\n",
    "having num_cache_hits > 4 and (cnt - num_cache_hits) > 1 and avg_query_cost_cache_miss > 0.5\n",
    "\"\"\"\n",
    "df = sql_to_df(sql)\n",
    "df"
   ]
  },
  {
   "cell_type": "code",
   "execution_count": null,
   "id": "86d7dac6-9a74-442c-965c-713368045604",
   "metadata": {},
   "outputs": [],
   "source": [
    "import plotly.express as px\n",
    "fig = px.histogram(df, x='pct_diff_avg', nbins=100)\n",
    "fig.show()\n",
    "\n",
    "fig = px.histogram(df, x='pct_diff_median', nbins=100)\n",
    "fig.show()\n"
   ]
  },
  {
   "cell_type": "code",
   "execution_count": null,
   "id": "8a7a6b60-a9ae-48de-aa0a-6d0ae855e9f6",
   "metadata": {},
   "outputs": [],
   "source": []
  },
  {
   "cell_type": "code",
   "execution_count": null,
   "id": "3778c778-493f-48a8-90dc-0c8505a863c4",
   "metadata": {},
   "outputs": [],
   "source": []
  },
  {
   "cell_type": "code",
   "execution_count": null,
   "id": "173c0fac-7ec5-4900-bdb4-4bc6e61def7c",
   "metadata": {},
   "outputs": [],
   "source": []
  }
 ],
 "metadata": {
  "kernelspec": {
   "display_name": "Python 3 (ipykernel)",
   "language": "python",
   "name": "python3"
  },
  "language_info": {
   "codemirror_mode": {
    "name": "ipython",
    "version": 3
   },
   "file_extension": ".py",
   "mimetype": "text/x-python",
   "name": "python",
   "nbconvert_exporter": "python",
   "pygments_lexer": "ipython3",
   "version": "3.8.16"
  }
 },
 "nbformat": 4,
 "nbformat_minor": 5
}
