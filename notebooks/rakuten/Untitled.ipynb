{
 "cells": [
  {
   "cell_type": "code",
   "execution_count": 1,
   "id": "7edbffc8-3643-4d3a-9ccf-cc29aa6cd83c",
   "metadata": {},
   "outputs": [],
   "source": [
    "%reload_ext dotenv\n",
    "\n",
    "%dotenv ../../env/.env\n"
   ]
  },
  {
   "cell_type": "code",
   "execution_count": 2,
   "id": "77fce0d0-80f4-41df-9533-b476d07b43f7",
   "metadata": {},
   "outputs": [
    {
     "data": {
      "text/plain": [
       "'ACTIVITY_SCHEMA_SANDBOX'"
      ]
     },
     "execution_count": 2,
     "metadata": {},
     "output_type": "execute_result"
    }
   ],
   "source": [
    "import snowflake.connector\n",
    "import os\n",
    "\n",
    "conn = snowflake.connector.connect(\n",
    "    user=os.environ['SNOWFLAKE_USER'],\n",
    "    role=os.environ['SNOWFLAKE_ROLE'],\n",
    "    password=os.environ['SNOWFLAKE_PASSWORD'],\n",
    "    account=os.environ['SNOWFLAKE_ACCOUNT'],\n",
    "    warehouse=os.environ['SNOWFLAKE_WAREHOUSE'],\n",
    "    database=os.environ['SNOWFLAKE_DATABASE'],\n",
    "    schema=os.environ['SNOWFLAKE_SCHEMA'],\n",
    "    client_session_keep_alive=True\n",
    ")\n",
    "\n",
    "conn.schema"
   ]
  },
  {
   "cell_type": "code",
   "execution_count": 3,
   "id": "78bbbde0-ad26-46a7-b442-5dc4343b4ad4",
   "metadata": {},
   "outputs": [],
   "source": [
    "# Create a cursor object.\n",
    "import pandas as pd\n",
    "def run_sql(sql: str, ctx=conn):\n",
    "    return conn.cursor().execute(sql)\n",
    "\n",
    "import functools\n",
    "import time\n",
    "\n",
    "@functools.cache\n",
    "def sql_to_df(sql_query, pre_hook=[], ctx=conn):\n",
    "    print(f\"RUNNING pre-hook: {pre_hook}\")\n",
    "    for s in pre_hook:\n",
    "        run_sql(s,conn)\n",
    "        # print(f\"RUNNING SQL: {sql_query}\")\n",
    "\n",
    "    # todo: move to latest method of pandas dataframe fetching\n",
    "    # may need to upgrade python: https://github.com/snowflakedb/snowflake-connector-python/issues/986#issuecomment-1115354587\n",
    "    \n",
    "    trimmed_lowered = sql_query.strip().lower()\n",
    "    if trimmed_lowered.startswith('select') or trimmed_lowered.startswith('with'):\n",
    "        print(f\"using arrow to fetch results...\")\n",
    "        cur = ctx.cursor()\n",
    "        cur.execute(sql_query)\n",
    "        data = cur.fetch_pandas_all() \n",
    "        cur.close()\n",
    "    else:\n",
    "        data = pd.read_sql(\n",
    "            sql_query,\n",
    "            ctx,\n",
    "        )\n",
    "    \n",
    "    data.columns = data.columns.str.lower()\n",
    "    return data"
   ]
  },
  {
   "cell_type": "code",
   "execution_count": 4,
   "id": "52ebb841-cede-4402-995e-d76c44e62e4e",
   "metadata": {},
   "outputs": [
    {
     "name": "stdout",
     "output_type": "stream",
     "text": [
      "RUNNING pre-hook: []\n",
      "using arrow to fetch results...\n"
     ]
    },
    {
     "data": {
      "text/html": [
       "<div>\n",
       "<style scoped>\n",
       "    .dataframe tbody tr th:only-of-type {\n",
       "        vertical-align: middle;\n",
       "    }\n",
       "\n",
       "    .dataframe tbody tr th {\n",
       "        vertical-align: top;\n",
       "    }\n",
       "\n",
       "    .dataframe thead th {\n",
       "        text-align: right;\n",
       "    }\n",
       "</style>\n",
       "<table border=\"1\" class=\"dataframe\">\n",
       "  <thead>\n",
       "    <tr style=\"text-align: right;\">\n",
       "      <th></th>\n",
       "      <th>query_sanitized_signature</th>\n",
       "      <th>num_cache_hits</th>\n",
       "      <th>cnt</th>\n",
       "      <th>avg_pct_scanned_from_cache</th>\n",
       "      <th>avg_query_cost_cache_hit</th>\n",
       "      <th>avg_query_cost_cache_miss</th>\n",
       "      <th>avg_execution_time_s_cache_hit</th>\n",
       "      <th>avg_execution_time_s_cache_miss</th>\n",
       "      <th>median_query_cost_cache_hit</th>\n",
       "      <th>median_query_cost_cache_miss</th>\n",
       "      <th>avg_query_cost_diff</th>\n",
       "      <th>median_query_cost_diff</th>\n",
       "      <th>pct_diff_avg</th>\n",
       "      <th>pct_diff_median</th>\n",
       "    </tr>\n",
       "  </thead>\n",
       "  <tbody>\n",
       "    <tr>\n",
       "      <th>0</th>\n",
       "      <td>8d2a510543bfc3e9772d0c131a2485c3</td>\n",
       "      <td>19</td>\n",
       "      <td>21</td>\n",
       "      <td>59.391997</td>\n",
       "      <td>1.937543</td>\n",
       "      <td>11.327141</td>\n",
       "      <td>417.305052631579</td>\n",
       "      <td>1577.966500000000</td>\n",
       "      <td>0.308110</td>\n",
       "      <td>11.327141</td>\n",
       "      <td>-9.389599</td>\n",
       "      <td>-11.019031</td>\n",
       "      <td>-82.894689</td>\n",
       "      <td>-97.279892</td>\n",
       "    </tr>\n",
       "    <tr>\n",
       "      <th>1</th>\n",
       "      <td>29d72a1ce445c047fdd7c97726a7d8d3</td>\n",
       "      <td>244</td>\n",
       "      <td>355</td>\n",
       "      <td>53.633906</td>\n",
       "      <td>0.700052</td>\n",
       "      <td>1.912089</td>\n",
       "      <td>52.062991803279</td>\n",
       "      <td>150.185585585586</td>\n",
       "      <td>0.041707</td>\n",
       "      <td>0.101643</td>\n",
       "      <td>-1.212037</td>\n",
       "      <td>-0.059936</td>\n",
       "      <td>-63.388112</td>\n",
       "      <td>-58.967153</td>\n",
       "    </tr>\n",
       "    <tr>\n",
       "      <th>2</th>\n",
       "      <td>1255204b9179981151d3fe0468dcbfdc</td>\n",
       "      <td>17</td>\n",
       "      <td>23</td>\n",
       "      <td>60.982393</td>\n",
       "      <td>0.064734</td>\n",
       "      <td>0.531732</td>\n",
       "      <td>4.047823529412</td>\n",
       "      <td>50.511333333333</td>\n",
       "      <td>0.035228</td>\n",
       "      <td>0.511563</td>\n",
       "      <td>-0.466998</td>\n",
       "      <td>-0.476335</td>\n",
       "      <td>-87.825754</td>\n",
       "      <td>-93.113587</td>\n",
       "    </tr>\n",
       "    <tr>\n",
       "      <th>3</th>\n",
       "      <td>7f683b126ef52e773ad7abeaac06d26b</td>\n",
       "      <td>22</td>\n",
       "      <td>24</td>\n",
       "      <td>60.586228</td>\n",
       "      <td>0.931860</td>\n",
       "      <td>1.127952</td>\n",
       "      <td>141.979772727273</td>\n",
       "      <td>148.951000000000</td>\n",
       "      <td>0.973342</td>\n",
       "      <td>1.127952</td>\n",
       "      <td>-0.196092</td>\n",
       "      <td>-0.154610</td>\n",
       "      <td>-17.384764</td>\n",
       "      <td>-13.707134</td>\n",
       "    </tr>\n",
       "    <tr>\n",
       "      <th>4</th>\n",
       "      <td>6e9245ccb2495f211a4767fc9fe5dd83</td>\n",
       "      <td>9</td>\n",
       "      <td>15</td>\n",
       "      <td>86.162703</td>\n",
       "      <td>0.391144</td>\n",
       "      <td>0.652707</td>\n",
       "      <td>0.739777777778</td>\n",
       "      <td>1.104333333333</td>\n",
       "      <td>0.086542</td>\n",
       "      <td>0.181398</td>\n",
       "      <td>-0.261563</td>\n",
       "      <td>-0.094856</td>\n",
       "      <td>-40.073516</td>\n",
       "      <td>-52.291522</td>\n",
       "    </tr>\n",
       "    <tr>\n",
       "      <th>...</th>\n",
       "      <td>...</td>\n",
       "      <td>...</td>\n",
       "      <td>...</td>\n",
       "      <td>...</td>\n",
       "      <td>...</td>\n",
       "      <td>...</td>\n",
       "      <td>...</td>\n",
       "      <td>...</td>\n",
       "      <td>...</td>\n",
       "      <td>...</td>\n",
       "      <td>...</td>\n",
       "      <td>...</td>\n",
       "      <td>...</td>\n",
       "      <td>...</td>\n",
       "    </tr>\n",
       "    <tr>\n",
       "      <th>195</th>\n",
       "      <td>392d06e0f40b0d76f02ab4a00911b0d9</td>\n",
       "      <td>52</td>\n",
       "      <td>70</td>\n",
       "      <td>91.479498</td>\n",
       "      <td>0.073396</td>\n",
       "      <td>1.039391</td>\n",
       "      <td>0.689134615385</td>\n",
       "      <td>1.115555555556</td>\n",
       "      <td>0.005997</td>\n",
       "      <td>0.022061</td>\n",
       "      <td>-0.965995</td>\n",
       "      <td>-0.016064</td>\n",
       "      <td>-92.938556</td>\n",
       "      <td>-72.816980</td>\n",
       "    </tr>\n",
       "    <tr>\n",
       "      <th>196</th>\n",
       "      <td>ccf24ff54d2997b5daf155e1d01d1fe0</td>\n",
       "      <td>583</td>\n",
       "      <td>801</td>\n",
       "      <td>90.989899</td>\n",
       "      <td>0.152632</td>\n",
       "      <td>0.555403</td>\n",
       "      <td>3.086780445969</td>\n",
       "      <td>14.358504587156</td>\n",
       "      <td>0.014076</td>\n",
       "      <td>0.097421</td>\n",
       "      <td>-0.402771</td>\n",
       "      <td>-0.083344</td>\n",
       "      <td>-72.518712</td>\n",
       "      <td>-85.550840</td>\n",
       "    </tr>\n",
       "    <tr>\n",
       "      <th>197</th>\n",
       "      <td>d63b587e9c3887aaa8bbd3e465839020</td>\n",
       "      <td>62</td>\n",
       "      <td>78</td>\n",
       "      <td>30.948151</td>\n",
       "      <td>0.071596</td>\n",
       "      <td>0.693849</td>\n",
       "      <td>2.399774193548</td>\n",
       "      <td>27.906750000000</td>\n",
       "      <td>0.015973</td>\n",
       "      <td>0.123449</td>\n",
       "      <td>-0.622253</td>\n",
       "      <td>-0.107476</td>\n",
       "      <td>-89.681270</td>\n",
       "      <td>-87.060830</td>\n",
       "    </tr>\n",
       "    <tr>\n",
       "      <th>198</th>\n",
       "      <td>8f24ff03717198321ade59e83f738f15</td>\n",
       "      <td>13</td>\n",
       "      <td>18</td>\n",
       "      <td>31.772901</td>\n",
       "      <td>0.916892</td>\n",
       "      <td>0.910097</td>\n",
       "      <td>17.059923076923</td>\n",
       "      <td>19.763600000000</td>\n",
       "      <td>0.576378</td>\n",
       "      <td>0.927170</td>\n",
       "      <td>0.006795</td>\n",
       "      <td>-0.350792</td>\n",
       "      <td>0.746618</td>\n",
       "      <td>-37.834657</td>\n",
       "    </tr>\n",
       "    <tr>\n",
       "      <th>199</th>\n",
       "      <td>e5aa2b6c6b29afdf0b116ae8a8a959c9</td>\n",
       "      <td>381</td>\n",
       "      <td>425</td>\n",
       "      <td>88.700912</td>\n",
       "      <td>0.397878</td>\n",
       "      <td>0.611829</td>\n",
       "      <td>13.144104986877</td>\n",
       "      <td>80.333545454545</td>\n",
       "      <td>0.106650</td>\n",
       "      <td>0.024688</td>\n",
       "      <td>-0.213951</td>\n",
       "      <td>0.081963</td>\n",
       "      <td>-34.969050</td>\n",
       "      <td>331.996891</td>\n",
       "    </tr>\n",
       "  </tbody>\n",
       "</table>\n",
       "<p>200 rows × 14 columns</p>\n",
       "</div>"
      ],
      "text/plain": [
       "            query_sanitized_signature  num_cache_hits  cnt  \\\n",
       "0    8d2a510543bfc3e9772d0c131a2485c3              19   21   \n",
       "1    29d72a1ce445c047fdd7c97726a7d8d3             244  355   \n",
       "2    1255204b9179981151d3fe0468dcbfdc              17   23   \n",
       "3    7f683b126ef52e773ad7abeaac06d26b              22   24   \n",
       "4    6e9245ccb2495f211a4767fc9fe5dd83               9   15   \n",
       "..                                ...             ...  ...   \n",
       "195  392d06e0f40b0d76f02ab4a00911b0d9              52   70   \n",
       "196  ccf24ff54d2997b5daf155e1d01d1fe0             583  801   \n",
       "197  d63b587e9c3887aaa8bbd3e465839020              62   78   \n",
       "198  8f24ff03717198321ade59e83f738f15              13   18   \n",
       "199  e5aa2b6c6b29afdf0b116ae8a8a959c9             381  425   \n",
       "\n",
       "     avg_pct_scanned_from_cache  avg_query_cost_cache_hit  \\\n",
       "0                     59.391997                  1.937543   \n",
       "1                     53.633906                  0.700052   \n",
       "2                     60.982393                  0.064734   \n",
       "3                     60.586228                  0.931860   \n",
       "4                     86.162703                  0.391144   \n",
       "..                          ...                       ...   \n",
       "195                   91.479498                  0.073396   \n",
       "196                   90.989899                  0.152632   \n",
       "197                   30.948151                  0.071596   \n",
       "198                   31.772901                  0.916892   \n",
       "199                   88.700912                  0.397878   \n",
       "\n",
       "     avg_query_cost_cache_miss avg_execution_time_s_cache_hit  \\\n",
       "0                    11.327141               417.305052631579   \n",
       "1                     1.912089                52.062991803279   \n",
       "2                     0.531732                 4.047823529412   \n",
       "3                     1.127952               141.979772727273   \n",
       "4                     0.652707                 0.739777777778   \n",
       "..                         ...                            ...   \n",
       "195                   1.039391                 0.689134615385   \n",
       "196                   0.555403                 3.086780445969   \n",
       "197                   0.693849                 2.399774193548   \n",
       "198                   0.910097                17.059923076923   \n",
       "199                   0.611829                13.144104986877   \n",
       "\n",
       "    avg_execution_time_s_cache_miss  median_query_cost_cache_hit  \\\n",
       "0                 1577.966500000000                     0.308110   \n",
       "1                  150.185585585586                     0.041707   \n",
       "2                   50.511333333333                     0.035228   \n",
       "3                  148.951000000000                     0.973342   \n",
       "4                    1.104333333333                     0.086542   \n",
       "..                              ...                          ...   \n",
       "195                  1.115555555556                     0.005997   \n",
       "196                 14.358504587156                     0.014076   \n",
       "197                 27.906750000000                     0.015973   \n",
       "198                 19.763600000000                     0.576378   \n",
       "199                 80.333545454545                     0.106650   \n",
       "\n",
       "     median_query_cost_cache_miss  avg_query_cost_diff  \\\n",
       "0                       11.327141            -9.389599   \n",
       "1                        0.101643            -1.212037   \n",
       "2                        0.511563            -0.466998   \n",
       "3                        1.127952            -0.196092   \n",
       "4                        0.181398            -0.261563   \n",
       "..                            ...                  ...   \n",
       "195                      0.022061            -0.965995   \n",
       "196                      0.097421            -0.402771   \n",
       "197                      0.123449            -0.622253   \n",
       "198                      0.927170             0.006795   \n",
       "199                      0.024688            -0.213951   \n",
       "\n",
       "     median_query_cost_diff  pct_diff_avg  pct_diff_median  \n",
       "0                -11.019031    -82.894689       -97.279892  \n",
       "1                 -0.059936    -63.388112       -58.967153  \n",
       "2                 -0.476335    -87.825754       -93.113587  \n",
       "3                 -0.154610    -17.384764       -13.707134  \n",
       "4                 -0.094856    -40.073516       -52.291522  \n",
       "..                      ...           ...              ...  \n",
       "195               -0.016064    -92.938556       -72.816980  \n",
       "196               -0.083344    -72.518712       -85.550840  \n",
       "197               -0.107476    -89.681270       -87.060830  \n",
       "198               -0.350792      0.746618       -37.834657  \n",
       "199                0.081963    -34.969050       331.996891  \n",
       "\n",
       "[200 rows x 14 columns]"
      ]
     },
     "execution_count": 4,
     "metadata": {},
     "output_type": "execute_result"
    }
   ],
   "source": [
    "sql = \"\"\"\n",
    "select\n",
    " query_sanitized_signature,\n",
    " -- date_trunc(hour, execution_start_time) as start_hour,\n",
    " count_if(data_scanned_from_cache_gb > 0) num_cache_hits,\n",
    " count(*) as cnt,\n",
    " 100*avg(case when data_scanned_from_cache_gb > 0 then percentage_scanned_from_cache else null end) as avg_pct_scanned_from_cache,\n",
    " avg(case when data_scanned_from_cache_gb > 0 then query_cost else null end) as avg_query_cost_cache_hit,\n",
    " avg(case when data_scanned_from_cache_gb = 0 then query_cost else null end) as avg_query_cost_cache_miss,\n",
    " avg(case when data_scanned_from_cache_gb > 0 then execution_time_s else null end) as avg_execution_time_s_cache_hit,\n",
    " avg(case when data_scanned_from_cache_gb = 0 then execution_time_s else null end) as avg_execution_time_s_cache_miss,\n",
    " median(case when data_scanned_from_cache_gb > 0 then query_cost else null end) as median_query_cost_cache_hit,\n",
    " median(case when data_scanned_from_cache_gb = 0 then query_cost else null end) as median_query_cost_cache_miss,\n",
    " avg_query_cost_cache_hit - avg_query_cost_cache_miss as avg_query_cost_diff,\n",
    " median_query_cost_cache_hit - median_query_cost_cache_miss as median_query_cost_diff,\n",
    " \n",
    " 100*div0null(avg_query_cost_cache_hit - avg_query_cost_cache_miss,avg_query_cost_cache_miss) as pct_diff_avg,\n",
    " 100*div0null(median_query_cost_cache_hit - median_query_cost_cache_miss,median_query_cost_cache_miss) as pct_diff_median\n",
    "from query_history_enriched\n",
    "where warehouse_size is not null and data_scanned_gb > 0\n",
    "group by 1\n",
    "having num_cache_hits > 4 and (cnt - num_cache_hits) > 1 and avg_query_cost_cache_miss > 0.5\n",
    "\"\"\"\n",
    "df = sql_to_df(sql)\n",
    "df"
   ]
  },
  {
   "cell_type": "code",
   "execution_count": 8,
   "id": "86d7dac6-9a74-442c-965c-713368045604",
   "metadata": {},
   "outputs": [
    {
     "data": {
      "application/vnd.plotly.v1+json": {
       "config": {
        "plotlyServerURL": "https://plot.ly"
       },
       "data": [
        {
         "alignmentgroup": "True",
         "bingroup": "x",
         "hovertemplate": "pct_diff_avg=%{x}<br>count=%{y}<extra></extra>",
         "legendgroup": "",
         "marker": {
          "color": "#636efa",
          "pattern": {
           "shape": ""
          }
         },
         "name": "",
         "nbinsx": 100,
         "offsetgroup": "",
         "orientation": "v",
         "showlegend": false,
         "type": "histogram",
         "x": [
          -82.89468928656741,
          -63.388112391202576,
          -87.82575371751298,
          -17.38476411260626,
          -40.07351587499858,
          122.39361974377705,
          -17.92790976389141,
          59.945562802852,
          160.48948450130607,
          -54.86696823594951,
          -47.482214405336904,
          -71.24166184256823,
          -74.28887239378813,
          -45.69490248573608,
          -61.504699600736856,
          -25.01721258425713,
          -46.39597828736499,
          527.5238348002764,
          12.631977524420057,
          -76.21870288848272,
          -75.08666922964647,
          -30.298948764695165,
          11.454633037105337,
          -72.5636714458975,
          -40.66919942220657,
          -74.8742478865118,
          -32.37251219931671,
          -35.80545170590684,
          -13.368921621869303,
          -19.3919338439356,
          -57.908978208824415,
          -70.04072222501286,
          15.300513251160947,
          -45.925951239546606,
          -60.50552118920767,
          -70.78974434876578,
          106.89577029774277,
          -93.7803162439027,
          -83.04132083022212,
          47.04246084126474,
          -78.10610466099122,
          -39.34409679522688,
          -42.35472063365816,
          9.970402252541048,
          7.7442358861984735,
          -36.208785590370006,
          -16.35339843185469,
          -49.40633069435763,
          -93.82884573479745,
          219.5799781018065,
          -30.105430255260085,
          14.094149135736728,
          -69.99407098336192,
          -29.0524237415039,
          -69.81954991468241,
          -96.74132770889021,
          1.1735692892626473,
          76.0283936128881,
          -57.95979056546694,
          -5.5979013636626105,
          -91.42011445625548,
          4.511901474411243,
          97.20313588362045,
          -64.0957386346844,
          -90.88215146611691,
          -86.79297441746955,
          -34.402545138803184,
          -22.295867232808654,
          245.6601085760569,
          -81.62356974926317,
          -43.24086813299518,
          -86.63445454538184,
          -42.442858199905146,
          -30.032603887720775,
          -12.824093507081002,
          -76.984156487069,
          146.0634127036907,
          -98.9360055865567,
          -95.14527170636742,
          2.0298482707404992,
          -76.3194010277948,
          -28.990479396706792,
          -11.93832110486571,
          -8.016151683959674,
          -74.16961810547605,
          -69.06976672061897,
          -89.77181455062234,
          -39.92561833853874,
          -37.306287229872645,
          -26.87757561408246,
          -95.21235050608607,
          -52.332497079058015,
          -85.89935509460264,
          -93.38556547251305,
          462.5943832674507,
          -61.21278940702691,
          -31.446699102956117,
          -71.4428005788086,
          -82.5893354017865,
          -79.91405285508672,
          -78.39915981864789,
          -60.27229849188508,
          -49.94241654430965,
          -98.54817702489092,
          -81.0921385763746,
          19.27958492286134,
          37.22997059233236,
          -98.7504473471951,
          -41.202164886372,
          -50.54845314073791,
          192.41342380211904,
          -51.95124259021362,
          -58.63070966033936,
          -54.75778090043757,
          -69.11351975533925,
          -99.14158587493056,
          -73.28274049059304,
          -74.30224214641468,
          16.189594910712966,
          -92.68045440482882,
          -68.92175197232166,
          -72.91545206639381,
          -41.99612149015224,
          -71.99755262679147,
          -34.03032209690287,
          -60.56772093141487,
          -23.461673846719076,
          -3.8248374654889195,
          -87.10007860407983,
          -61.26393571935661,
          44.22003417687345,
          -58.211032466165555,
          -60.61183977386278,
          -60.22565560204269,
          -68.98769356217649,
          -27.164093788318393,
          -12.54847213744846,
          20.426713440652094,
          -71.13675949509734,
          -83.30258227842681,
          -10.198728438007342,
          -91.63588052548232,
          -0.9347014518123763,
          -68.64068635279067,
          -69.8237600476235,
          -45.78374624670126,
          -72.39144981967638,
          -83.71945815796327,
          -71.4233495096335,
          -70.69221835522735,
          2.953537332608679,
          -54.1236765835599,
          17.401815487108514,
          -66.96641531236529,
          195.83264193813775,
          89.18164927272446,
          -79.38642819856236,
          -68.58925642253772,
          -66.53206113583613,
          -52.94251471522935,
          16.62663107909761,
          -29.666524323987677,
          -78.19936163341083,
          11.33812115220147,
          -38.87344265817948,
          -69.06331682004647,
          -83.72307053484371,
          -45.99176535155291,
          -73.6040184064896,
          -5.291660110746425,
          -90.62366772753954,
          -2.640930861152694,
          -74.96242847355633,
          7.367298025893902,
          -71.93328348008903,
          -44.79941239802297,
          -31.099215415620495,
          -57.597645649711616,
          -71.76361211226555,
          -74.99358948405072,
          -78.14086655342177,
          -80.12499826918446,
          -27.046845051489772,
          -72.33381101080167,
          126.93634718862742,
          -53.86938436955049,
          -43.144313151673416,
          -18.91387323466539,
          -28.334000382015397,
          -73.41854279054306,
          -65.02512772189185,
          -5.4307913068894695,
          -6.46704605277322,
          -8.481046890411307,
          -88.6050170876151,
          -92.93855557635095,
          -72.51871199938232,
          -89.68126985635385,
          0.7466181916490751,
          -34.96905038035242
         ],
         "xaxis": "x",
         "yaxis": "y"
        }
       ],
       "layout": {
        "autosize": true,
        "barmode": "relative",
        "legend": {
         "tracegroupgap": 0
        },
        "margin": {
         "t": 60
        },
        "template": {
         "data": {
          "bar": [
           {
            "error_x": {
             "color": "#2a3f5f"
            },
            "error_y": {
             "color": "#2a3f5f"
            },
            "marker": {
             "line": {
              "color": "#E5ECF6",
              "width": 0.5
             },
             "pattern": {
              "fillmode": "overlay",
              "size": 10,
              "solidity": 0.2
             }
            },
            "type": "bar"
           }
          ],
          "barpolar": [
           {
            "marker": {
             "line": {
              "color": "#E5ECF6",
              "width": 0.5
             },
             "pattern": {
              "fillmode": "overlay",
              "size": 10,
              "solidity": 0.2
             }
            },
            "type": "barpolar"
           }
          ],
          "carpet": [
           {
            "aaxis": {
             "endlinecolor": "#2a3f5f",
             "gridcolor": "white",
             "linecolor": "white",
             "minorgridcolor": "white",
             "startlinecolor": "#2a3f5f"
            },
            "baxis": {
             "endlinecolor": "#2a3f5f",
             "gridcolor": "white",
             "linecolor": "white",
             "minorgridcolor": "white",
             "startlinecolor": "#2a3f5f"
            },
            "type": "carpet"
           }
          ],
          "choropleth": [
           {
            "colorbar": {
             "outlinewidth": 0,
             "ticks": ""
            },
            "type": "choropleth"
           }
          ],
          "contour": [
           {
            "colorbar": {
             "outlinewidth": 0,
             "ticks": ""
            },
            "colorscale": [
             [
              0,
              "#0d0887"
             ],
             [
              0.1111111111111111,
              "#46039f"
             ],
             [
              0.2222222222222222,
              "#7201a8"
             ],
             [
              0.3333333333333333,
              "#9c179e"
             ],
             [
              0.4444444444444444,
              "#bd3786"
             ],
             [
              0.5555555555555556,
              "#d8576b"
             ],
             [
              0.6666666666666666,
              "#ed7953"
             ],
             [
              0.7777777777777778,
              "#fb9f3a"
             ],
             [
              0.8888888888888888,
              "#fdca26"
             ],
             [
              1,
              "#f0f921"
             ]
            ],
            "type": "contour"
           }
          ],
          "contourcarpet": [
           {
            "colorbar": {
             "outlinewidth": 0,
             "ticks": ""
            },
            "type": "contourcarpet"
           }
          ],
          "heatmap": [
           {
            "colorbar": {
             "outlinewidth": 0,
             "ticks": ""
            },
            "colorscale": [
             [
              0,
              "#0d0887"
             ],
             [
              0.1111111111111111,
              "#46039f"
             ],
             [
              0.2222222222222222,
              "#7201a8"
             ],
             [
              0.3333333333333333,
              "#9c179e"
             ],
             [
              0.4444444444444444,
              "#bd3786"
             ],
             [
              0.5555555555555556,
              "#d8576b"
             ],
             [
              0.6666666666666666,
              "#ed7953"
             ],
             [
              0.7777777777777778,
              "#fb9f3a"
             ],
             [
              0.8888888888888888,
              "#fdca26"
             ],
             [
              1,
              "#f0f921"
             ]
            ],
            "type": "heatmap"
           }
          ],
          "heatmapgl": [
           {
            "colorbar": {
             "outlinewidth": 0,
             "ticks": ""
            },
            "colorscale": [
             [
              0,
              "#0d0887"
             ],
             [
              0.1111111111111111,
              "#46039f"
             ],
             [
              0.2222222222222222,
              "#7201a8"
             ],
             [
              0.3333333333333333,
              "#9c179e"
             ],
             [
              0.4444444444444444,
              "#bd3786"
             ],
             [
              0.5555555555555556,
              "#d8576b"
             ],
             [
              0.6666666666666666,
              "#ed7953"
             ],
             [
              0.7777777777777778,
              "#fb9f3a"
             ],
             [
              0.8888888888888888,
              "#fdca26"
             ],
             [
              1,
              "#f0f921"
             ]
            ],
            "type": "heatmapgl"
           }
          ],
          "histogram": [
           {
            "marker": {
             "pattern": {
              "fillmode": "overlay",
              "size": 10,
              "solidity": 0.2
             }
            },
            "type": "histogram"
           }
          ],
          "histogram2d": [
           {
            "colorbar": {
             "outlinewidth": 0,
             "ticks": ""
            },
            "colorscale": [
             [
              0,
              "#0d0887"
             ],
             [
              0.1111111111111111,
              "#46039f"
             ],
             [
              0.2222222222222222,
              "#7201a8"
             ],
             [
              0.3333333333333333,
              "#9c179e"
             ],
             [
              0.4444444444444444,
              "#bd3786"
             ],
             [
              0.5555555555555556,
              "#d8576b"
             ],
             [
              0.6666666666666666,
              "#ed7953"
             ],
             [
              0.7777777777777778,
              "#fb9f3a"
             ],
             [
              0.8888888888888888,
              "#fdca26"
             ],
             [
              1,
              "#f0f921"
             ]
            ],
            "type": "histogram2d"
           }
          ],
          "histogram2dcontour": [
           {
            "colorbar": {
             "outlinewidth": 0,
             "ticks": ""
            },
            "colorscale": [
             [
              0,
              "#0d0887"
             ],
             [
              0.1111111111111111,
              "#46039f"
             ],
             [
              0.2222222222222222,
              "#7201a8"
             ],
             [
              0.3333333333333333,
              "#9c179e"
             ],
             [
              0.4444444444444444,
              "#bd3786"
             ],
             [
              0.5555555555555556,
              "#d8576b"
             ],
             [
              0.6666666666666666,
              "#ed7953"
             ],
             [
              0.7777777777777778,
              "#fb9f3a"
             ],
             [
              0.8888888888888888,
              "#fdca26"
             ],
             [
              1,
              "#f0f921"
             ]
            ],
            "type": "histogram2dcontour"
           }
          ],
          "mesh3d": [
           {
            "colorbar": {
             "outlinewidth": 0,
             "ticks": ""
            },
            "type": "mesh3d"
           }
          ],
          "parcoords": [
           {
            "line": {
             "colorbar": {
              "outlinewidth": 0,
              "ticks": ""
             }
            },
            "type": "parcoords"
           }
          ],
          "pie": [
           {
            "automargin": true,
            "type": "pie"
           }
          ],
          "scatter": [
           {
            "fillpattern": {
             "fillmode": "overlay",
             "size": 10,
             "solidity": 0.2
            },
            "type": "scatter"
           }
          ],
          "scatter3d": [
           {
            "line": {
             "colorbar": {
              "outlinewidth": 0,
              "ticks": ""
             }
            },
            "marker": {
             "colorbar": {
              "outlinewidth": 0,
              "ticks": ""
             }
            },
            "type": "scatter3d"
           }
          ],
          "scattercarpet": [
           {
            "marker": {
             "colorbar": {
              "outlinewidth": 0,
              "ticks": ""
             }
            },
            "type": "scattercarpet"
           }
          ],
          "scattergeo": [
           {
            "marker": {
             "colorbar": {
              "outlinewidth": 0,
              "ticks": ""
             }
            },
            "type": "scattergeo"
           }
          ],
          "scattergl": [
           {
            "marker": {
             "colorbar": {
              "outlinewidth": 0,
              "ticks": ""
             }
            },
            "type": "scattergl"
           }
          ],
          "scattermapbox": [
           {
            "marker": {
             "colorbar": {
              "outlinewidth": 0,
              "ticks": ""
             }
            },
            "type": "scattermapbox"
           }
          ],
          "scatterpolar": [
           {
            "marker": {
             "colorbar": {
              "outlinewidth": 0,
              "ticks": ""
             }
            },
            "type": "scatterpolar"
           }
          ],
          "scatterpolargl": [
           {
            "marker": {
             "colorbar": {
              "outlinewidth": 0,
              "ticks": ""
             }
            },
            "type": "scatterpolargl"
           }
          ],
          "scatterternary": [
           {
            "marker": {
             "colorbar": {
              "outlinewidth": 0,
              "ticks": ""
             }
            },
            "type": "scatterternary"
           }
          ],
          "surface": [
           {
            "colorbar": {
             "outlinewidth": 0,
             "ticks": ""
            },
            "colorscale": [
             [
              0,
              "#0d0887"
             ],
             [
              0.1111111111111111,
              "#46039f"
             ],
             [
              0.2222222222222222,
              "#7201a8"
             ],
             [
              0.3333333333333333,
              "#9c179e"
             ],
             [
              0.4444444444444444,
              "#bd3786"
             ],
             [
              0.5555555555555556,
              "#d8576b"
             ],
             [
              0.6666666666666666,
              "#ed7953"
             ],
             [
              0.7777777777777778,
              "#fb9f3a"
             ],
             [
              0.8888888888888888,
              "#fdca26"
             ],
             [
              1,
              "#f0f921"
             ]
            ],
            "type": "surface"
           }
          ],
          "table": [
           {
            "cells": {
             "fill": {
              "color": "#EBF0F8"
             },
             "line": {
              "color": "white"
             }
            },
            "header": {
             "fill": {
              "color": "#C8D4E3"
             },
             "line": {
              "color": "white"
             }
            },
            "type": "table"
           }
          ]
         },
         "layout": {
          "annotationdefaults": {
           "arrowcolor": "#2a3f5f",
           "arrowhead": 0,
           "arrowwidth": 1
          },
          "autotypenumbers": "strict",
          "coloraxis": {
           "colorbar": {
            "outlinewidth": 0,
            "ticks": ""
           }
          },
          "colorscale": {
           "diverging": [
            [
             0,
             "#8e0152"
            ],
            [
             0.1,
             "#c51b7d"
            ],
            [
             0.2,
             "#de77ae"
            ],
            [
             0.3,
             "#f1b6da"
            ],
            [
             0.4,
             "#fde0ef"
            ],
            [
             0.5,
             "#f7f7f7"
            ],
            [
             0.6,
             "#e6f5d0"
            ],
            [
             0.7,
             "#b8e186"
            ],
            [
             0.8,
             "#7fbc41"
            ],
            [
             0.9,
             "#4d9221"
            ],
            [
             1,
             "#276419"
            ]
           ],
           "sequential": [
            [
             0,
             "#0d0887"
            ],
            [
             0.1111111111111111,
             "#46039f"
            ],
            [
             0.2222222222222222,
             "#7201a8"
            ],
            [
             0.3333333333333333,
             "#9c179e"
            ],
            [
             0.4444444444444444,
             "#bd3786"
            ],
            [
             0.5555555555555556,
             "#d8576b"
            ],
            [
             0.6666666666666666,
             "#ed7953"
            ],
            [
             0.7777777777777778,
             "#fb9f3a"
            ],
            [
             0.8888888888888888,
             "#fdca26"
            ],
            [
             1,
             "#f0f921"
            ]
           ],
           "sequentialminus": [
            [
             0,
             "#0d0887"
            ],
            [
             0.1111111111111111,
             "#46039f"
            ],
            [
             0.2222222222222222,
             "#7201a8"
            ],
            [
             0.3333333333333333,
             "#9c179e"
            ],
            [
             0.4444444444444444,
             "#bd3786"
            ],
            [
             0.5555555555555556,
             "#d8576b"
            ],
            [
             0.6666666666666666,
             "#ed7953"
            ],
            [
             0.7777777777777778,
             "#fb9f3a"
            ],
            [
             0.8888888888888888,
             "#fdca26"
            ],
            [
             1,
             "#f0f921"
            ]
           ]
          },
          "colorway": [
           "#636efa",
           "#EF553B",
           "#00cc96",
           "#ab63fa",
           "#FFA15A",
           "#19d3f3",
           "#FF6692",
           "#B6E880",
           "#FF97FF",
           "#FECB52"
          ],
          "font": {
           "color": "#2a3f5f"
          },
          "geo": {
           "bgcolor": "white",
           "lakecolor": "white",
           "landcolor": "#E5ECF6",
           "showlakes": true,
           "showland": true,
           "subunitcolor": "white"
          },
          "hoverlabel": {
           "align": "left"
          },
          "hovermode": "closest",
          "mapbox": {
           "style": "light"
          },
          "paper_bgcolor": "white",
          "plot_bgcolor": "#E5ECF6",
          "polar": {
           "angularaxis": {
            "gridcolor": "white",
            "linecolor": "white",
            "ticks": ""
           },
           "bgcolor": "#E5ECF6",
           "radialaxis": {
            "gridcolor": "white",
            "linecolor": "white",
            "ticks": ""
           }
          },
          "scene": {
           "xaxis": {
            "backgroundcolor": "#E5ECF6",
            "gridcolor": "white",
            "gridwidth": 2,
            "linecolor": "white",
            "showbackground": true,
            "ticks": "",
            "zerolinecolor": "white"
           },
           "yaxis": {
            "backgroundcolor": "#E5ECF6",
            "gridcolor": "white",
            "gridwidth": 2,
            "linecolor": "white",
            "showbackground": true,
            "ticks": "",
            "zerolinecolor": "white"
           },
           "zaxis": {
            "backgroundcolor": "#E5ECF6",
            "gridcolor": "white",
            "gridwidth": 2,
            "linecolor": "white",
            "showbackground": true,
            "ticks": "",
            "zerolinecolor": "white"
           }
          },
          "shapedefaults": {
           "line": {
            "color": "#2a3f5f"
           }
          },
          "ternary": {
           "aaxis": {
            "gridcolor": "white",
            "linecolor": "white",
            "ticks": ""
           },
           "baxis": {
            "gridcolor": "white",
            "linecolor": "white",
            "ticks": ""
           },
           "bgcolor": "#E5ECF6",
           "caxis": {
            "gridcolor": "white",
            "linecolor": "white",
            "ticks": ""
           }
          },
          "title": {
           "x": 0.05
          },
          "xaxis": {
           "automargin": true,
           "gridcolor": "white",
           "linecolor": "white",
           "ticks": "",
           "title": {
            "standoff": 15
           },
           "zerolinecolor": "white",
           "zerolinewidth": 2
          },
          "yaxis": {
           "automargin": true,
           "gridcolor": "white",
           "linecolor": "white",
           "ticks": "",
           "title": {
            "standoff": 15
           },
           "zerolinecolor": "white",
           "zerolinewidth": 2
          }
         }
        },
        "xaxis": {
         "anchor": "y",
         "autorange": true,
         "domain": [
          0,
          1
         ],
         "range": [
          -100,
          530
         ],
         "title": {
          "text": "pct_diff_avg"
         },
         "type": "linear"
        },
        "yaxis": {
         "anchor": "x",
         "autorange": true,
         "domain": [
          0,
          1
         ],
         "range": [
          0,
          35.78947368421053
         ],
         "title": {
          "text": "count"
         }
        }
       }
      },
      "image/png": "[encoded data removed]",
      "text/html": [
       "<div>                            <div id=\"3b4eb47f-b021-4dc6-bcd3-c7f61fb5d7c2\" class=\"plotly-graph-div\" style=\"height:525px; width:100%;\"></div>            <script type=\"text/javascript\">                require([\"plotly\"], function(Plotly) {                    window.PLOTLYENV=window.PLOTLYENV || {};                                    if (document.getElementById(\"3b4eb47f-b021-4dc6-bcd3-c7f61fb5d7c2\")) {                    Plotly.newPlot(                        \"3b4eb47f-b021-4dc6-bcd3-c7f61fb5d7c2\",                        [{\"alignmentgroup\":\"True\",\"bingroup\":\"x\",\"hovertemplate\":\"pct_diff_avg=%{x}<br>count=%{y}<extra></extra>\",\"legendgroup\":\"\",\"marker\":{\"color\":\"#636efa\",\"pattern\":{\"shape\":\"\"}},\"name\":\"\",\"nbinsx\":100,\"offsetgroup\":\"\",\"orientation\":\"v\",\"showlegend\":false,\"x\":[-82.89468928656741,-63.388112391202576,-87.82575371751298,-17.38476411260626,-40.07351587499858,122.39361974377705,-17.92790976389141,59.945562802852,160.48948450130607,-54.86696823594951,-47.482214405336904,-71.24166184256823,-74.28887239378813,-45.69490248573608,-61.504699600736856,-25.01721258425713,-46.39597828736499,527.5238348002764,12.631977524420057,-76.21870288848272,-75.08666922964647,-30.298948764695165,11.454633037105337,-72.5636714458975,-40.66919942220657,-74.8742478865118,-32.37251219931671,-35.80545170590684,-13.368921621869303,-19.3919338439356,-57.908978208824415,-70.04072222501286,15.300513251160947,-45.925951239546606,-60.50552118920767,-70.78974434876578,106.89577029774277,-93.7803162439027,-83.04132083022212,47.04246084126474,-78.10610466099122,-39.34409679522688,-42.35472063365816,9.970402252541048,7.7442358861984735,-36.208785590370006,-16.35339843185469,-49.40633069435763,-93.82884573479745,219.5799781018065,-30.105430255260085,14.094149135736728,-69.99407098336192,-29.0524237415039,-69.81954991468241,-96.74132770889021,1.1735692892626473,76.0283936128881,-57.95979056546694,-5.5979013636626105,-91.42011445625548,4.511901474411243,97.20313588362045,-64.0957386346844,-90.88215146611691,-86.79297441746955,-34.402545138803184,-22.295867232808654,245.6601085760569,-81.62356974926317,-43.24086813299518,-86.63445454538184,-42.442858199905146,-30.032603887720775,-12.824093507081002,-76.984156487069,146.0634127036907,-98.9360055865567,-95.14527170636742,2.0298482707404992,-76.3194010277948,-28.990479396706792,-11.93832110486571,-8.016151683959674,-74.16961810547605,-69.06976672061897,-89.77181455062234,-39.92561833853874,-37.306287229872645,-26.87757561408246,-95.21235050608607,-52.332497079058015,-85.89935509460264,-93.38556547251305,462.5943832674507,-61.21278940702691,-31.446699102956117,-71.4428005788086,-82.5893354017865,-79.91405285508672,-78.39915981864789,-60.27229849188508,-49.94241654430965,-98.54817702489092,-81.0921385763746,19.27958492286134,37.22997059233236,-98.7504473471951,-41.202164886372,-50.54845314073791,192.41342380211904,-51.95124259021362,-58.63070966033936,-54.75778090043757,-69.11351975533925,-99.14158587493056,-73.28274049059304,-74.30224214641468,16.189594910712966,-92.68045440482882,-68.92175197232166,-72.91545206639381,-41.99612149015224,-71.99755262679147,-34.03032209690287,-60.56772093141487,-23.461673846719076,-3.8248374654889195,-87.10007860407983,-61.26393571935661,44.22003417687345,-58.211032466165555,-60.61183977386278,-60.22565560204269,-68.98769356217649,-27.164093788318393,-12.54847213744846,20.426713440652094,-71.13675949509734,-83.30258227842681,-10.198728438007342,-91.63588052548232,-0.9347014518123763,-68.64068635279067,-69.8237600476235,-45.78374624670126,-72.39144981967638,-83.71945815796327,-71.4233495096335,-70.69221835522735,2.953537332608679,-54.1236765835599,17.401815487108514,-66.96641531236529,195.83264193813775,89.18164927272446,-79.38642819856236,-68.58925642253772,-66.53206113583613,-52.94251471522935,16.62663107909761,-29.666524323987677,-78.19936163341083,11.33812115220147,-38.87344265817948,-69.06331682004647,-83.72307053484371,-45.99176535155291,-73.6040184064896,-5.291660110746425,-90.62366772753954,-2.640930861152694,-74.96242847355633,7.367298025893902,-71.93328348008903,-44.79941239802297,-31.099215415620495,-57.597645649711616,-71.76361211226555,-74.99358948405072,-78.14086655342177,-80.12499826918446,-27.046845051489772,-72.33381101080167,126.93634718862742,-53.86938436955049,-43.144313151673416,-18.91387323466539,-28.334000382015397,-73.41854279054306,-65.02512772189185,-5.4307913068894695,-6.46704605277322,-8.481046890411307,-88.6050170876151,-92.93855557635095,-72.51871199938232,-89.68126985635385,0.7466181916490751,-34.96905038035242],\"xaxis\":\"x\",\"yaxis\":\"y\",\"type\":\"histogram\"}],                        {\"template\":{\"data\":{\"histogram2dcontour\":[{\"type\":\"histogram2dcontour\",\"colorbar\":{\"outlinewidth\":0,\"ticks\":\"\"},\"colorscale\":[[0.0,\"#0d0887\"],[0.1111111111111111,\"#46039f\"],[0.2222222222222222,\"#7201a8\"],[0.3333333333333333,\"#9c179e\"],[0.4444444444444444,\"#bd3786\"],[0.5555555555555556,\"#d8576b\"],[0.6666666666666666,\"#ed7953\"],[0.7777777777777778,\"#fb9f3a\"],[0.8888888888888888,\"#fdca26\"],[1.0,\"#f0f921\"]]}],\"choropleth\":[{\"type\":\"choropleth\",\"colorbar\":{\"outlinewidth\":0,\"ticks\":\"\"}}],\"histogram2d\":[{\"type\":\"histogram2d\",\"colorbar\":{\"outlinewidth\":0,\"ticks\":\"\"},\"colorscale\":[[0.0,\"#0d0887\"],[0.1111111111111111,\"#46039f\"],[0.2222222222222222,\"#7201a8\"],[0.3333333333333333,\"#9c179e\"],[0.4444444444444444,\"#bd3786\"],[0.5555555555555556,\"#d8576b\"],[0.6666666666666666,\"#ed7953\"],[0.7777777777777778,\"#fb9f3a\"],[0.8888888888888888,\"#fdca26\"],[1.0,\"#f0f921\"]]}],\"heatmap\":[{\"type\":\"heatmap\",\"colorbar\":{\"outlinewidth\":0,\"ticks\":\"\"},\"colorscale\":[[0.0,\"#0d0887\"],[0.1111111111111111,\"#46039f\"],[0.2222222222222222,\"#7201a8\"],[0.3333333333333333,\"#9c179e\"],[0.4444444444444444,\"#bd3786\"],[0.5555555555555556,\"#d8576b\"],[0.6666666666666666,\"#ed7953\"],[0.7777777777777778,\"#fb9f3a\"],[0.8888888888888888,\"#fdca26\"],[1.0,\"#f0f921\"]]}],\"heatmapgl\":[{\"type\":\"heatmapgl\",\"colorbar\":{\"outlinewidth\":0,\"ticks\":\"\"},\"colorscale\":[[0.0,\"#0d0887\"],[0.1111111111111111,\"#46039f\"],[0.2222222222222222,\"#7201a8\"],[0.3333333333333333,\"#9c179e\"],[0.4444444444444444,\"#bd3786\"],[0.5555555555555556,\"#d8576b\"],[0.6666666666666666,\"#ed7953\"],[0.7777777777777778,\"#fb9f3a\"],[0.8888888888888888,\"#fdca26\"],[1.0,\"#f0f921\"]]}],\"contourcarpet\":[{\"type\":\"contourcarpet\",\"colorbar\":{\"outlinewidth\":0,\"ticks\":\"\"}}],\"contour\":[{\"type\":\"contour\",\"colorbar\":{\"outlinewidth\":0,\"ticks\":\"\"},\"colorscale\":[[0.0,\"#0d0887\"],[0.1111111111111111,\"#46039f\"],[0.2222222222222222,\"#7201a8\"],[0.3333333333333333,\"#9c179e\"],[0.4444444444444444,\"#bd3786\"],[0.5555555555555556,\"#d8576b\"],[0.6666666666666666,\"#ed7953\"],[0.7777777777777778,\"#fb9f3a\"],[0.8888888888888888,\"#fdca26\"],[1.0,\"#f0f921\"]]}],\"surface\":[{\"type\":\"surface\",\"colorbar\":{\"outlinewidth\":0,\"ticks\":\"\"},\"colorscale\":[[0.0,\"#0d0887\"],[0.1111111111111111,\"#46039f\"],[0.2222222222222222,\"#7201a8\"],[0.3333333333333333,\"#9c179e\"],[0.4444444444444444,\"#bd3786\"],[0.5555555555555556,\"#d8576b\"],[0.6666666666666666,\"#ed7953\"],[0.7777777777777778,\"#fb9f3a\"],[0.8888888888888888,\"#fdca26\"],[1.0,\"#f0f921\"]]}],\"mesh3d\":[{\"type\":\"mesh3d\",\"colorbar\":{\"outlinewidth\":0,\"ticks\":\"\"}}],\"scatter\":[{\"fillpattern\":{\"fillmode\":\"overlay\",\"size\":10,\"solidity\":0.2},\"type\":\"scatter\"}],\"parcoords\":[{\"type\":\"parcoords\",\"line\":{\"colorbar\":{\"outlinewidth\":0,\"ticks\":\"\"}}}],\"scatterpolargl\":[{\"type\":\"scatterpolargl\",\"marker\":{\"colorbar\":{\"outlinewidth\":0,\"ticks\":\"\"}}}],\"bar\":[{\"error_x\":{\"color\":\"#2a3f5f\"},\"error_y\":{\"color\":\"#2a3f5f\"},\"marker\":{\"line\":{\"color\":\"#E5ECF6\",\"width\":0.5},\"pattern\":{\"fillmode\":\"overlay\",\"size\":10,\"solidity\":0.2}},\"type\":\"bar\"}],\"scattergeo\":[{\"type\":\"scattergeo\",\"marker\":{\"colorbar\":{\"outlinewidth\":0,\"ticks\":\"\"}}}],\"scatterpolar\":[{\"type\":\"scatterpolar\",\"marker\":{\"colorbar\":{\"outlinewidth\":0,\"ticks\":\"\"}}}],\"histogram\":[{\"marker\":{\"pattern\":{\"fillmode\":\"overlay\",\"size\":10,\"solidity\":0.2}},\"type\":\"histogram\"}],\"scattergl\":[{\"type\":\"scattergl\",\"marker\":{\"colorbar\":{\"outlinewidth\":0,\"ticks\":\"\"}}}],\"scatter3d\":[{\"type\":\"scatter3d\",\"line\":{\"colorbar\":{\"outlinewidth\":0,\"ticks\":\"\"}},\"marker\":{\"colorbar\":{\"outlinewidth\":0,\"ticks\":\"\"}}}],\"scattermapbox\":[{\"type\":\"scattermapbox\",\"marker\":{\"colorbar\":{\"outlinewidth\":0,\"ticks\":\"\"}}}],\"scatterternary\":[{\"type\":\"scatterternary\",\"marker\":{\"colorbar\":{\"outlinewidth\":0,\"ticks\":\"\"}}}],\"scattercarpet\":[{\"type\":\"scattercarpet\",\"marker\":{\"colorbar\":{\"outlinewidth\":0,\"ticks\":\"\"}}}],\"carpet\":[{\"aaxis\":{\"endlinecolor\":\"#2a3f5f\",\"gridcolor\":\"white\",\"linecolor\":\"white\",\"minorgridcolor\":\"white\",\"startlinecolor\":\"#2a3f5f\"},\"baxis\":{\"endlinecolor\":\"#2a3f5f\",\"gridcolor\":\"white\",\"linecolor\":\"white\",\"minorgridcolor\":\"white\",\"startlinecolor\":\"#2a3f5f\"},\"type\":\"carpet\"}],\"table\":[{\"cells\":{\"fill\":{\"color\":\"#EBF0F8\"},\"line\":{\"color\":\"white\"}},\"header\":{\"fill\":{\"color\":\"#C8D4E3\"},\"line\":{\"color\":\"white\"}},\"type\":\"table\"}],\"barpolar\":[{\"marker\":{\"line\":{\"color\":\"#E5ECF6\",\"width\":0.5},\"pattern\":{\"fillmode\":\"overlay\",\"size\":10,\"solidity\":0.2}},\"type\":\"barpolar\"}],\"pie\":[{\"automargin\":true,\"type\":\"pie\"}]},\"layout\":{\"autotypenumbers\":\"strict\",\"colorway\":[\"#636efa\",\"#EF553B\",\"#00cc96\",\"#ab63fa\",\"#FFA15A\",\"#19d3f3\",\"#FF6692\",\"#B6E880\",\"#FF97FF\",\"#FECB52\"],\"font\":{\"color\":\"#2a3f5f\"},\"hovermode\":\"closest\",\"hoverlabel\":{\"align\":\"left\"},\"paper_bgcolor\":\"white\",\"plot_bgcolor\":\"#E5ECF6\",\"polar\":{\"bgcolor\":\"#E5ECF6\",\"angularaxis\":{\"gridcolor\":\"white\",\"linecolor\":\"white\",\"ticks\":\"\"},\"radialaxis\":{\"gridcolor\":\"white\",\"linecolor\":\"white\",\"ticks\":\"\"}},\"ternary\":{\"bgcolor\":\"#E5ECF6\",\"aaxis\":{\"gridcolor\":\"white\",\"linecolor\":\"white\",\"ticks\":\"\"},\"baxis\":{\"gridcolor\":\"white\",\"linecolor\":\"white\",\"ticks\":\"\"},\"caxis\":{\"gridcolor\":\"white\",\"linecolor\":\"white\",\"ticks\":\"\"}},\"coloraxis\":{\"colorbar\":{\"outlinewidth\":0,\"ticks\":\"\"}},\"colorscale\":{\"sequential\":[[0.0,\"#0d0887\"],[0.1111111111111111,\"#46039f\"],[0.2222222222222222,\"#7201a8\"],[0.3333333333333333,\"#9c179e\"],[0.4444444444444444,\"#bd3786\"],[0.5555555555555556,\"#d8576b\"],[0.6666666666666666,\"#ed7953\"],[0.7777777777777778,\"#fb9f3a\"],[0.8888888888888888,\"#fdca26\"],[1.0,\"#f0f921\"]],\"sequentialminus\":[[0.0,\"#0d0887\"],[0.1111111111111111,\"#46039f\"],[0.2222222222222222,\"#7201a8\"],[0.3333333333333333,\"#9c179e\"],[0.4444444444444444,\"#bd3786\"],[0.5555555555555556,\"#d8576b\"],[0.6666666666666666,\"#ed7953\"],[0.7777777777777778,\"#fb9f3a\"],[0.8888888888888888,\"#fdca26\"],[1.0,\"#f0f921\"]],\"diverging\":[[0,\"#8e0152\"],[0.1,\"#c51b7d\"],[0.2,\"#de77ae\"],[0.3,\"#f1b6da\"],[0.4,\"#fde0ef\"],[0.5,\"#f7f7f7\"],[0.6,\"#e6f5d0\"],[0.7,\"#b8e186\"],[0.8,\"#7fbc41\"],[0.9,\"#4d9221\"],[1,\"#276419\"]]},\"xaxis\":{\"gridcolor\":\"white\",\"linecolor\":\"white\",\"ticks\":\"\",\"title\":{\"standoff\":15},\"zerolinecolor\":\"white\",\"automargin\":true,\"zerolinewidth\":2},\"yaxis\":{\"gridcolor\":\"white\",\"linecolor\":\"white\",\"ticks\":\"\",\"title\":{\"standoff\":15},\"zerolinecolor\":\"white\",\"automargin\":true,\"zerolinewidth\":2},\"scene\":{\"xaxis\":{\"backgroundcolor\":\"#E5ECF6\",\"gridcolor\":\"white\",\"linecolor\":\"white\",\"showbackground\":true,\"ticks\":\"\",\"zerolinecolor\":\"white\",\"gridwidth\":2},\"yaxis\":{\"backgroundcolor\":\"#E5ECF6\",\"gridcolor\":\"white\",\"linecolor\":\"white\",\"showbackground\":true,\"ticks\":\"\",\"zerolinecolor\":\"white\",\"gridwidth\":2},\"zaxis\":{\"backgroundcolor\":\"#E5ECF6\",\"gridcolor\":\"white\",\"linecolor\":\"white\",\"showbackground\":true,\"ticks\":\"\",\"zerolinecolor\":\"white\",\"gridwidth\":2}},\"shapedefaults\":{\"line\":{\"color\":\"#2a3f5f\"}},\"annotationdefaults\":{\"arrowcolor\":\"#2a3f5f\",\"arrowhead\":0,\"arrowwidth\":1},\"geo\":{\"bgcolor\":\"white\",\"landcolor\":\"#E5ECF6\",\"subunitcolor\":\"white\",\"showland\":true,\"showlakes\":true,\"lakecolor\":\"white\"},\"title\":{\"x\":0.05},\"mapbox\":{\"style\":\"light\"}}},\"xaxis\":{\"anchor\":\"y\",\"domain\":[0.0,1.0],\"title\":{\"text\":\"pct_diff_avg\"}},\"yaxis\":{\"anchor\":\"x\",\"domain\":[0.0,1.0],\"title\":{\"text\":\"count\"}},\"legend\":{\"tracegroupgap\":0},\"margin\":{\"t\":60},\"barmode\":\"relative\"},                        {\"responsive\": true}                    ).then(function(){\n",
       "                            \n",
       "var gd = document.getElementById('3b4eb47f-b021-4dc6-bcd3-c7f61fb5d7c2');\n",
       "var x = new MutationObserver(function (mutations, observer) {{\n",
       "        var display = window.getComputedStyle(gd).display;\n",
       "        if (!display || display === 'none') {{\n",
       "            console.log([gd, 'removed!']);\n",
       "            Plotly.purge(gd);\n",
       "            observer.disconnect();\n",
       "        }}\n",
       "}});\n",
       "\n",
       "// Listen for the removal of the full notebook cells\n",
       "var notebookContainer = gd.closest('#notebook-container');\n",
       "if (notebookContainer) {{\n",
       "    x.observe(notebookContainer, {childList: true});\n",
       "}}\n",
       "\n",
       "// Listen for the clearing of the current output cell\n",
       "var outputEl = gd.closest('.output');\n",
       "if (outputEl) {{\n",
       "    x.observe(outputEl, {childList: true});\n",
       "}}\n",
       "\n",
       "                        })                };                });            </script>        </div>"
      ]
     },
     "metadata": {},
     "output_type": "display_data"
    },
    {
     "data": {
      "application/vnd.plotly.v1+json": {
       "config": {
        "plotlyServerURL": "https://plot.ly"
       },
       "data": [
        {
         "alignmentgroup": "True",
         "bingroup": "x",
         "hovertemplate": "pct_diff_median=%{x}<br>count=%{y}<extra></extra>",
         "legendgroup": "",
         "marker": {
          "color": "#636efa",
          "pattern": {
           "shape": ""
          }
         },
         "name": "",
         "nbinsx": 100,
         "offsetgroup": "",
         "orientation": "v",
         "showlegend": false,
         "type": "histogram",
         "x": [
          -97.27989226657145,
          -58.967152713806094,
          -93.11358655588468,
          -13.707134421566035,
          -52.29152173333357,
          386.45067404562354,
          40.55264185162152,
          45.262016759327125,
          156.0242944230188,
          -25.616605581524688,
          -14.433712986418126,
          -37.399042001528706,
          -4.800202568958818,
          140.4484399712353,
          -72.1671760231725,
          -12.314567323756604,
          -88.29061404886185,
          -82.39732937085783,
          155.11258562111053,
          -88.23427839759127,
          -69.91893678984195,
          -46.94060866031583,
          -61.518975725803514,
          -63.93102601338857,
          -45.91392938734423,
          -84.56231332623348,
          -47.31826110971882,
          160.077917539745,
          -16.985834875892305,
          -1.286106900071016,
          -61.839437091037944,
          -63.55952890073523,
          -21.178016938754745,
          210.4372796503713,
          -70.39693494723757,
          -96.89813015913914,
          89.02355190159456,
          -95.2543272947963,
          -96.9410306381042,
          -55.86668394640364,
          -30.777148563243028,
          -36.83677090870198,
          -51.35273542457936,
          15.846467881531051,
          -68.0656581038775,
          -25.75801636067827,
          0.454989386706969,
          -57.70447369975032,
          70.57484210310292,
          -94.3644701082693,
          57.41352744017867,
          -77.47351061998545,
          -88.81143479186746,
          -65.71368479804438,
          -48.66794264281869,
          -99.56159212077765,
          -50.73777240993799,
          84.5700042689106,
          -90.17841310526613,
          0.6022394414140528,
          -99.49857934444941,
          5.441677382860015,
          107.08119627327508,
          -99.91287758726548,
          -98.52436536691422,
          -88.04319747080417,
          -21.616129158653454,
          -44.725782518183074,
          -25.36002810084645,
          -85.7478227298452,
          -57.575643535030515,
          -32.51509445676699,
          -38.27823703408349,
          -55.75274559747212,
          -29.70636335488464,
          -97.25775824925098,
          -31.415630402046713,
          -99.4103370753393,
          -39.83576059410477,
          -26.212995946388716,
          -44.17219139282298,
          40.790426998887234,
          -15.061002241121216,
          -6.085787145574767,
          -63.108648618354415,
          -68.10988875011257,
          -92.93711088516028,
          -77.62488237759362,
          -75.62277580275484,
          -99.64492794213113,
          -8.284766361279038,
          -41.92022527315219,
          -99.2012912388237,
          -64.83090844507613,
          -87.27715948956684,
          -58.13932272662276,
          -30.208100742285183,
          -32.9900146263814,
          -95.57278848841224,
          -95.46264631774525,
          -99.22109746057255,
          -67.96784960040375,
          -94.92153507184112,
          -25.101171587765858,
          94.06748133621767,
          28.598995263554173,
          63.921936478802245,
          -98.6428532623777,
          -6.729078100427984,
          -69.36468127345219,
          24.054864826599005,
          -95.74443839790217,
          -97.92208446535363,
          -58.93120525147888,
          -69.49992659034905,
          -93.74496287859384,
          -98.37585973088078,
          -78.34271619792993,
          -69.43808603134445,
          -98.99847129343095,
          -96.29541871220687,
          -82.19341210627334,
          -48.14359393326906,
          -99.53413515050067,
          -36.253313626849184,
          -58.15408292314284,
          -19.605118563443842,
          -13.767528767988486,
          -96.45391871477469,
          -6.316253043645748,
          1.298937586169305,
          8.332719417484586,
          -72.94963461600125,
          -85.17562774241185,
          -89.24965479160942,
          -61.50192798434,
          -30.85816892456436,
          -67.3197933487605,
          -47.71034496601652,
          -33.30560549096599,
          -23.36157246772167,
          -96.09161073505487,
          -40.99630541872668,
          -15.130795681563077,
          -72.38487352176804,
          6.663847034264554,
          43.23381760910528,
          -86.83842334752447,
          -97.88846120887276,
          -79.2048872267172,
          -10.469922134817581,
          -76.81180060693478,
          14.510419222137399,
          -67.42594746462078,
          70.31665629186706,
          -63.493759410391995,
          394.4910665890372,
          130.49481918475044,
          -74.67432796668604,
          -59.75435404540027,
          -58.09708187651144,
          -32.84917915404323,
          -90.08225196389856,
          -26.74907328538032,
          30.234865479651795,
          -68.09400779198215,
          -80.13280464732541,
          -35.53855753116428,
          -88.82667989854946,
          20.117571313982115,
          -75.94625911316626,
          -41.39206844725113,
          -93.59704823626424,
          11.436710119619436,
          -66.73806224030784,
          -54.28847291179607,
          -62.19883027383909,
          -53.42513351404406,
          -80.91446058674163,
          -73.61150035518692,
          -95.78307731596635,
          -99.22445670613803,
          -27.344134012976802,
          -33.60606736181815,
          3782.154964577602,
          -93.49736583716802,
          -43.581494674762354,
          -29.314207551755096,
          -44.642634545705,
          -12.722695289888753,
          -27.600362589922618,
          -25.863110971567338,
          43.21745546960292,
          -9.966164892229315,
          -91.85120071385415,
          -72.81697960471143,
          -85.55084010188273,
          -87.06082956645052,
          -37.83465717437591,
          331.99689086026467
         ],
         "xaxis": "x",
         "yaxis": "y"
        }
       ],
       "layout": {
        "autosize": true,
        "barmode": "relative",
        "legend": {
         "tracegroupgap": 0
        },
        "margin": {
         "t": 60
        },
        "template": {
         "data": {
          "bar": [
           {
            "error_x": {
             "color": "#2a3f5f"
            },
            "error_y": {
             "color": "#2a3f5f"
            },
            "marker": {
             "line": {
              "color": "#E5ECF6",
              "width": 0.5
             },
             "pattern": {
              "fillmode": "overlay",
              "size": 10,
              "solidity": 0.2
             }
            },
            "type": "bar"
           }
          ],
          "barpolar": [
           {
            "marker": {
             "line": {
              "color": "#E5ECF6",
              "width": 0.5
             },
             "pattern": {
              "fillmode": "overlay",
              "size": 10,
              "solidity": 0.2
             }
            },
            "type": "barpolar"
           }
          ],
          "carpet": [
           {
            "aaxis": {
             "endlinecolor": "#2a3f5f",
             "gridcolor": "white",
             "linecolor": "white",
             "minorgridcolor": "white",
             "startlinecolor": "#2a3f5f"
            },
            "baxis": {
             "endlinecolor": "#2a3f5f",
             "gridcolor": "white",
             "linecolor": "white",
             "minorgridcolor": "white",
             "startlinecolor": "#2a3f5f"
            },
            "type": "carpet"
           }
          ],
          "choropleth": [
           {
            "colorbar": {
             "outlinewidth": 0,
             "ticks": ""
            },
            "type": "choropleth"
           }
          ],
          "contour": [
           {
            "colorbar": {
             "outlinewidth": 0,
             "ticks": ""
            },
            "colorscale": [
             [
              0,
              "#0d0887"
             ],
             [
              0.1111111111111111,
              "#46039f"
             ],
             [
              0.2222222222222222,
              "#7201a8"
             ],
             [
              0.3333333333333333,
              "#9c179e"
             ],
             [
              0.4444444444444444,
              "#bd3786"
             ],
             [
              0.5555555555555556,
              "#d8576b"
             ],
             [
              0.6666666666666666,
              "#ed7953"
             ],
             [
              0.7777777777777778,
              "#fb9f3a"
             ],
             [
              0.8888888888888888,
              "#fdca26"
             ],
             [
              1,
              "#f0f921"
             ]
            ],
            "type": "contour"
           }
          ],
          "contourcarpet": [
           {
            "colorbar": {
             "outlinewidth": 0,
             "ticks": ""
            },
            "type": "contourcarpet"
           }
          ],
          "heatmap": [
           {
            "colorbar": {
             "outlinewidth": 0,
             "ticks": ""
            },
            "colorscale": [
             [
              0,
              "#0d0887"
             ],
             [
              0.1111111111111111,
              "#46039f"
             ],
             [
              0.2222222222222222,
              "#7201a8"
             ],
             [
              0.3333333333333333,
              "#9c179e"
             ],
             [
              0.4444444444444444,
              "#bd3786"
             ],
             [
              0.5555555555555556,
              "#d8576b"
             ],
             [
              0.6666666666666666,
              "#ed7953"
             ],
             [
              0.7777777777777778,
              "#fb9f3a"
             ],
             [
              0.8888888888888888,
              "#fdca26"
             ],
             [
              1,
              "#f0f921"
             ]
            ],
            "type": "heatmap"
           }
          ],
          "heatmapgl": [
           {
            "colorbar": {
             "outlinewidth": 0,
             "ticks": ""
            },
            "colorscale": [
             [
              0,
              "#0d0887"
             ],
             [
              0.1111111111111111,
              "#46039f"
             ],
             [
              0.2222222222222222,
              "#7201a8"
             ],
             [
              0.3333333333333333,
              "#9c179e"
             ],
             [
              0.4444444444444444,
              "#bd3786"
             ],
             [
              0.5555555555555556,
              "#d8576b"
             ],
             [
              0.6666666666666666,
              "#ed7953"
             ],
             [
              0.7777777777777778,
              "#fb9f3a"
             ],
             [
              0.8888888888888888,
              "#fdca26"
             ],
             [
              1,
              "#f0f921"
             ]
            ],
            "type": "heatmapgl"
           }
          ],
          "histogram": [
           {
            "marker": {
             "pattern": {
              "fillmode": "overlay",
              "size": 10,
              "solidity": 0.2
             }
            },
            "type": "histogram"
           }
          ],
          "histogram2d": [
           {
            "colorbar": {
             "outlinewidth": 0,
             "ticks": ""
            },
            "colorscale": [
             [
              0,
              "#0d0887"
             ],
             [
              0.1111111111111111,
              "#46039f"
             ],
             [
              0.2222222222222222,
              "#7201a8"
             ],
             [
              0.3333333333333333,
              "#9c179e"
             ],
             [
              0.4444444444444444,
              "#bd3786"
             ],
             [
              0.5555555555555556,
              "#d8576b"
             ],
             [
              0.6666666666666666,
              "#ed7953"
             ],
             [
              0.7777777777777778,
              "#fb9f3a"
             ],
             [
              0.8888888888888888,
              "#fdca26"
             ],
             [
              1,
              "#f0f921"
             ]
            ],
            "type": "histogram2d"
           }
          ],
          "histogram2dcontour": [
           {
            "colorbar": {
             "outlinewidth": 0,
             "ticks": ""
            },
            "colorscale": [
             [
              0,
              "#0d0887"
             ],
             [
              0.1111111111111111,
              "#46039f"
             ],
             [
              0.2222222222222222,
              "#7201a8"
             ],
             [
              0.3333333333333333,
              "#9c179e"
             ],
             [
              0.4444444444444444,
              "#bd3786"
             ],
             [
              0.5555555555555556,
              "#d8576b"
             ],
             [
              0.6666666666666666,
              "#ed7953"
             ],
             [
              0.7777777777777778,
              "#fb9f3a"
             ],
             [
              0.8888888888888888,
              "#fdca26"
             ],
             [
              1,
              "#f0f921"
             ]
            ],
            "type": "histogram2dcontour"
           }
          ],
          "mesh3d": [
           {
            "colorbar": {
             "outlinewidth": 0,
             "ticks": ""
            },
            "type": "mesh3d"
           }
          ],
          "parcoords": [
           {
            "line": {
             "colorbar": {
              "outlinewidth": 0,
              "ticks": ""
             }
            },
            "type": "parcoords"
           }
          ],
          "pie": [
           {
            "automargin": true,
            "type": "pie"
           }
          ],
          "scatter": [
           {
            "fillpattern": {
             "fillmode": "overlay",
             "size": 10,
             "solidity": 0.2
            },
            "type": "scatter"
           }
          ],
          "scatter3d": [
           {
            "line": {
             "colorbar": {
              "outlinewidth": 0,
              "ticks": ""
             }
            },
            "marker": {
             "colorbar": {
              "outlinewidth": 0,
              "ticks": ""
             }
            },
            "type": "scatter3d"
           }
          ],
          "scattercarpet": [
           {
            "marker": {
             "colorbar": {
              "outlinewidth": 0,
              "ticks": ""
             }
            },
            "type": "scattercarpet"
           }
          ],
          "scattergeo": [
           {
            "marker": {
             "colorbar": {
              "outlinewidth": 0,
              "ticks": ""
             }
            },
            "type": "scattergeo"
           }
          ],
          "scattergl": [
           {
            "marker": {
             "colorbar": {
              "outlinewidth": 0,
              "ticks": ""
             }
            },
            "type": "scattergl"
           }
          ],
          "scattermapbox": [
           {
            "marker": {
             "colorbar": {
              "outlinewidth": 0,
              "ticks": ""
             }
            },
            "type": "scattermapbox"
           }
          ],
          "scatterpolar": [
           {
            "marker": {
             "colorbar": {
              "outlinewidth": 0,
              "ticks": ""
             }
            },
            "type": "scatterpolar"
           }
          ],
          "scatterpolargl": [
           {
            "marker": {
             "colorbar": {
              "outlinewidth": 0,
              "ticks": ""
             }
            },
            "type": "scatterpolargl"
           }
          ],
          "scatterternary": [
           {
            "marker": {
             "colorbar": {
              "outlinewidth": 0,
              "ticks": ""
             }
            },
            "type": "scatterternary"
           }
          ],
          "surface": [
           {
            "colorbar": {
             "outlinewidth": 0,
             "ticks": ""
            },
            "colorscale": [
             [
              0,
              "#0d0887"
             ],
             [
              0.1111111111111111,
              "#46039f"
             ],
             [
              0.2222222222222222,
              "#7201a8"
             ],
             [
              0.3333333333333333,
              "#9c179e"
             ],
             [
              0.4444444444444444,
              "#bd3786"
             ],
             [
              0.5555555555555556,
              "#d8576b"
             ],
             [
              0.6666666666666666,
              "#ed7953"
             ],
             [
              0.7777777777777778,
              "#fb9f3a"
             ],
             [
              0.8888888888888888,
              "#fdca26"
             ],
             [
              1,
              "#f0f921"
             ]
            ],
            "type": "surface"
           }
          ],
          "table": [
           {
            "cells": {
             "fill": {
              "color": "#EBF0F8"
             },
             "line": {
              "color": "white"
             }
            },
            "header": {
             "fill": {
              "color": "#C8D4E3"
             },
             "line": {
              "color": "white"
             }
            },
            "type": "table"
           }
          ]
         },
         "layout": {
          "annotationdefaults": {
           "arrowcolor": "#2a3f5f",
           "arrowhead": 0,
           "arrowwidth": 1
          },
          "autotypenumbers": "strict",
          "coloraxis": {
           "colorbar": {
            "outlinewidth": 0,
            "ticks": ""
           }
          },
          "colorscale": {
           "diverging": [
            [
             0,
             "#8e0152"
            ],
            [
             0.1,
             "#c51b7d"
            ],
            [
             0.2,
             "#de77ae"
            ],
            [
             0.3,
             "#f1b6da"
            ],
            [
             0.4,
             "#fde0ef"
            ],
            [
             0.5,
             "#f7f7f7"
            ],
            [
             0.6,
             "#e6f5d0"
            ],
            [
             0.7,
             "#b8e186"
            ],
            [
             0.8,
             "#7fbc41"
            ],
            [
             0.9,
             "#4d9221"
            ],
            [
             1,
             "#276419"
            ]
           ],
           "sequential": [
            [
             0,
             "#0d0887"
            ],
            [
             0.1111111111111111,
             "#46039f"
            ],
            [
             0.2222222222222222,
             "#7201a8"
            ],
            [
             0.3333333333333333,
             "#9c179e"
            ],
            [
             0.4444444444444444,
             "#bd3786"
            ],
            [
             0.5555555555555556,
             "#d8576b"
            ],
            [
             0.6666666666666666,
             "#ed7953"
            ],
            [
             0.7777777777777778,
             "#fb9f3a"
            ],
            [
             0.8888888888888888,
             "#fdca26"
            ],
            [
             1,
             "#f0f921"
            ]
           ],
           "sequentialminus": [
            [
             0,
             "#0d0887"
            ],
            [
             0.1111111111111111,
             "#46039f"
            ],
            [
             0.2222222222222222,
             "#7201a8"
            ],
            [
             0.3333333333333333,
             "#9c179e"
            ],
            [
             0.4444444444444444,
             "#bd3786"
            ],
            [
             0.5555555555555556,
             "#d8576b"
            ],
            [
             0.6666666666666666,
             "#ed7953"
            ],
            [
             0.7777777777777778,
             "#fb9f3a"
            ],
            [
             0.8888888888888888,
             "#fdca26"
            ],
            [
             1,
             "#f0f921"
            ]
           ]
          },
          "colorway": [
           "#636efa",
           "#EF553B",
           "#00cc96",
           "#ab63fa",
           "#FFA15A",
           "#19d3f3",
           "#FF6692",
           "#B6E880",
           "#FF97FF",
           "#FECB52"
          ],
          "font": {
           "color": "#2a3f5f"
          },
          "geo": {
           "bgcolor": "white",
           "lakecolor": "white",
           "landcolor": "#E5ECF6",
           "showlakes": true,
           "showland": true,
           "subunitcolor": "white"
          },
          "hoverlabel": {
           "align": "left"
          },
          "hovermode": "closest",
          "mapbox": {
           "style": "light"
          },
          "paper_bgcolor": "white",
          "plot_bgcolor": "#E5ECF6",
          "polar": {
           "angularaxis": {
            "gridcolor": "white",
            "linecolor": "white",
            "ticks": ""
           },
           "bgcolor": "#E5ECF6",
           "radialaxis": {
            "gridcolor": "white",
            "linecolor": "white",
            "ticks": ""
           }
          },
          "scene": {
           "xaxis": {
            "backgroundcolor": "#E5ECF6",
            "gridcolor": "white",
            "gridwidth": 2,
            "linecolor": "white",
            "showbackground": true,
            "ticks": "",
            "zerolinecolor": "white"
           },
           "yaxis": {
            "backgroundcolor": "#E5ECF6",
            "gridcolor": "white",
            "gridwidth": 2,
            "linecolor": "white",
            "showbackground": true,
            "ticks": "",
            "zerolinecolor": "white"
           },
           "zaxis": {
            "backgroundcolor": "#E5ECF6",
            "gridcolor": "white",
            "gridwidth": 2,
            "linecolor": "white",
            "showbackground": true,
            "ticks": "",
            "zerolinecolor": "white"
           }
          },
          "shapedefaults": {
           "line": {
            "color": "#2a3f5f"
           }
          },
          "ternary": {
           "aaxis": {
            "gridcolor": "white",
            "linecolor": "white",
            "ticks": ""
           },
           "baxis": {
            "gridcolor": "white",
            "linecolor": "white",
            "ticks": ""
           },
           "bgcolor": "#E5ECF6",
           "caxis": {
            "gridcolor": "white",
            "linecolor": "white",
            "ticks": ""
           }
          },
          "title": {
           "x": 0.05
          },
          "xaxis": {
           "automargin": true,
           "gridcolor": "white",
           "linecolor": "white",
           "ticks": "",
           "title": {
            "standoff": 15
           },
           "zerolinecolor": "white",
           "zerolinewidth": 2
          },
          "yaxis": {
           "automargin": true,
           "gridcolor": "white",
           "linecolor": "white",
           "ticks": "",
           "title": {
            "standoff": 15
           },
           "zerolinecolor": "white",
           "zerolinewidth": 2
          }
         }
        },
        "xaxis": {
         "anchor": "y",
         "autorange": true,
         "domain": [
          0,
          1
         ],
         "range": [
          -125,
          3825
         ],
         "title": {
          "text": "pct_diff_median"
         },
         "type": "linear"
        },
        "yaxis": {
         "anchor": "x",
         "autorange": true,
         "domain": [
          0,
          1
         ],
         "range": [
          0,
          87.36842105263158
         ],
         "title": {
          "text": "count"
         }
        }
       }
      },
      "image/png": "[encoded data removed]",
      "text/html": [
       "<div>                            <div id=\"2b9a057d-f88f-429d-a6b8-d271a2bfaef4\" class=\"plotly-graph-div\" style=\"height:525px; width:100%;\"></div>            <script type=\"text/javascript\">                require([\"plotly\"], function(Plotly) {                    window.PLOTLYENV=window.PLOTLYENV || {};                                    if (document.getElementById(\"2b9a057d-f88f-429d-a6b8-d271a2bfaef4\")) {                    Plotly.newPlot(                        \"2b9a057d-f88f-429d-a6b8-d271a2bfaef4\",                        [{\"alignmentgroup\":\"True\",\"bingroup\":\"x\",\"hovertemplate\":\"pct_diff_median=%{x}<br>count=%{y}<extra></extra>\",\"legendgroup\":\"\",\"marker\":{\"color\":\"#636efa\",\"pattern\":{\"shape\":\"\"}},\"name\":\"\",\"nbinsx\":100,\"offsetgroup\":\"\",\"orientation\":\"v\",\"showlegend\":false,\"x\":[-97.27989226657145,-58.967152713806094,-93.11358655588468,-13.707134421566035,-52.29152173333357,386.45067404562354,40.55264185162152,45.262016759327125,156.0242944230188,-25.616605581524688,-14.433712986418126,-37.399042001528706,-4.800202568958818,140.4484399712353,-72.1671760231725,-12.314567323756604,-88.29061404886185,-82.39732937085783,155.11258562111053,-88.23427839759127,-69.91893678984195,-46.94060866031583,-61.518975725803514,-63.93102601338857,-45.91392938734423,-84.56231332623348,-47.31826110971882,160.077917539745,-16.985834875892305,-1.286106900071016,-61.839437091037944,-63.55952890073523,-21.178016938754745,210.4372796503713,-70.39693494723757,-96.89813015913914,89.02355190159456,-95.2543272947963,-96.9410306381042,-55.86668394640364,-30.777148563243028,-36.83677090870198,-51.35273542457936,15.846467881531051,-68.0656581038775,-25.75801636067827,0.454989386706969,-57.70447369975032,70.57484210310292,-94.3644701082693,57.41352744017867,-77.47351061998545,-88.81143479186746,-65.71368479804438,-48.66794264281869,-99.56159212077765,-50.73777240993799,84.5700042689106,-90.17841310526613,0.6022394414140528,-99.49857934444941,5.441677382860015,107.08119627327508,-99.91287758726548,-98.52436536691422,-88.04319747080417,-21.616129158653454,-44.725782518183074,-25.36002810084645,-85.7478227298452,-57.575643535030515,-32.51509445676699,-38.27823703408349,-55.75274559747212,-29.70636335488464,-97.25775824925098,-31.415630402046713,-99.4103370753393,-39.83576059410477,-26.212995946388716,-44.17219139282298,40.790426998887234,-15.061002241121216,-6.085787145574767,-63.108648618354415,-68.10988875011257,-92.93711088516028,-77.62488237759362,-75.62277580275484,-99.64492794213113,-8.284766361279038,-41.92022527315219,-99.2012912388237,-64.83090844507613,-87.27715948956684,-58.13932272662276,-30.208100742285183,-32.9900146263814,-95.57278848841224,-95.46264631774525,-99.22109746057255,-67.96784960040375,-94.92153507184112,-25.101171587765858,94.06748133621767,28.598995263554173,63.921936478802245,-98.6428532623777,-6.729078100427984,-69.36468127345219,24.054864826599005,-95.74443839790217,-97.92208446535363,-58.93120525147888,-69.49992659034905,-93.74496287859384,-98.37585973088078,-78.34271619792993,-69.43808603134445,-98.99847129343095,-96.29541871220687,-82.19341210627334,-48.14359393326906,-99.53413515050067,-36.253313626849184,-58.15408292314284,-19.605118563443842,-13.767528767988486,-96.45391871477469,-6.316253043645748,1.298937586169305,8.332719417484586,-72.94963461600125,-85.17562774241185,-89.24965479160942,-61.50192798434,-30.85816892456436,-67.3197933487605,-47.71034496601652,-33.30560549096599,-23.36157246772167,-96.09161073505487,-40.99630541872668,-15.130795681563077,-72.38487352176804,6.663847034264554,43.23381760910528,-86.83842334752447,-97.88846120887276,-79.2048872267172,-10.469922134817581,-76.81180060693478,14.510419222137399,-67.42594746462078,70.31665629186706,-63.493759410391995,394.4910665890372,130.49481918475044,-74.67432796668604,-59.75435404540027,-58.09708187651144,-32.84917915404323,-90.08225196389856,-26.74907328538032,30.234865479651795,-68.09400779198215,-80.13280464732541,-35.53855753116428,-88.82667989854946,20.117571313982115,-75.94625911316626,-41.39206844725113,-93.59704823626424,11.436710119619436,-66.73806224030784,-54.28847291179607,-62.19883027383909,-53.42513351404406,-80.91446058674163,-73.61150035518692,-95.78307731596635,-99.22445670613803,-27.344134012976802,-33.60606736181815,3782.154964577602,-93.49736583716802,-43.581494674762354,-29.314207551755096,-44.642634545705,-12.722695289888753,-27.600362589922618,-25.863110971567338,43.21745546960292,-9.966164892229315,-91.85120071385415,-72.81697960471143,-85.55084010188273,-87.06082956645052,-37.83465717437591,331.99689086026467],\"xaxis\":\"x\",\"yaxis\":\"y\",\"type\":\"histogram\"}],                        {\"template\":{\"data\":{\"histogram2dcontour\":[{\"type\":\"histogram2dcontour\",\"colorbar\":{\"outlinewidth\":0,\"ticks\":\"\"},\"colorscale\":[[0.0,\"#0d0887\"],[0.1111111111111111,\"#46039f\"],[0.2222222222222222,\"#7201a8\"],[0.3333333333333333,\"#9c179e\"],[0.4444444444444444,\"#bd3786\"],[0.5555555555555556,\"#d8576b\"],[0.6666666666666666,\"#ed7953\"],[0.7777777777777778,\"#fb9f3a\"],[0.8888888888888888,\"#fdca26\"],[1.0,\"#f0f921\"]]}],\"choropleth\":[{\"type\":\"choropleth\",\"colorbar\":{\"outlinewidth\":0,\"ticks\":\"\"}}],\"histogram2d\":[{\"type\":\"histogram2d\",\"colorbar\":{\"outlinewidth\":0,\"ticks\":\"\"},\"colorscale\":[[0.0,\"#0d0887\"],[0.1111111111111111,\"#46039f\"],[0.2222222222222222,\"#7201a8\"],[0.3333333333333333,\"#9c179e\"],[0.4444444444444444,\"#bd3786\"],[0.5555555555555556,\"#d8576b\"],[0.6666666666666666,\"#ed7953\"],[0.7777777777777778,\"#fb9f3a\"],[0.8888888888888888,\"#fdca26\"],[1.0,\"#f0f921\"]]}],\"heatmap\":[{\"type\":\"heatmap\",\"colorbar\":{\"outlinewidth\":0,\"ticks\":\"\"},\"colorscale\":[[0.0,\"#0d0887\"],[0.1111111111111111,\"#46039f\"],[0.2222222222222222,\"#7201a8\"],[0.3333333333333333,\"#9c179e\"],[0.4444444444444444,\"#bd3786\"],[0.5555555555555556,\"#d8576b\"],[0.6666666666666666,\"#ed7953\"],[0.7777777777777778,\"#fb9f3a\"],[0.8888888888888888,\"#fdca26\"],[1.0,\"#f0f921\"]]}],\"heatmapgl\":[{\"type\":\"heatmapgl\",\"colorbar\":{\"outlinewidth\":0,\"ticks\":\"\"},\"colorscale\":[[0.0,\"#0d0887\"],[0.1111111111111111,\"#46039f\"],[0.2222222222222222,\"#7201a8\"],[0.3333333333333333,\"#9c179e\"],[0.4444444444444444,\"#bd3786\"],[0.5555555555555556,\"#d8576b\"],[0.6666666666666666,\"#ed7953\"],[0.7777777777777778,\"#fb9f3a\"],[0.8888888888888888,\"#fdca26\"],[1.0,\"#f0f921\"]]}],\"contourcarpet\":[{\"type\":\"contourcarpet\",\"colorbar\":{\"outlinewidth\":0,\"ticks\":\"\"}}],\"contour\":[{\"type\":\"contour\",\"colorbar\":{\"outlinewidth\":0,\"ticks\":\"\"},\"colorscale\":[[0.0,\"#0d0887\"],[0.1111111111111111,\"#46039f\"],[0.2222222222222222,\"#7201a8\"],[0.3333333333333333,\"#9c179e\"],[0.4444444444444444,\"#bd3786\"],[0.5555555555555556,\"#d8576b\"],[0.6666666666666666,\"#ed7953\"],[0.7777777777777778,\"#fb9f3a\"],[0.8888888888888888,\"#fdca26\"],[1.0,\"#f0f921\"]]}],\"surface\":[{\"type\":\"surface\",\"colorbar\":{\"outlinewidth\":0,\"ticks\":\"\"},\"colorscale\":[[0.0,\"#0d0887\"],[0.1111111111111111,\"#46039f\"],[0.2222222222222222,\"#7201a8\"],[0.3333333333333333,\"#9c179e\"],[0.4444444444444444,\"#bd3786\"],[0.5555555555555556,\"#d8576b\"],[0.6666666666666666,\"#ed7953\"],[0.7777777777777778,\"#fb9f3a\"],[0.8888888888888888,\"#fdca26\"],[1.0,\"#f0f921\"]]}],\"mesh3d\":[{\"type\":\"mesh3d\",\"colorbar\":{\"outlinewidth\":0,\"ticks\":\"\"}}],\"scatter\":[{\"fillpattern\":{\"fillmode\":\"overlay\",\"size\":10,\"solidity\":0.2},\"type\":\"scatter\"}],\"parcoords\":[{\"type\":\"parcoords\",\"line\":{\"colorbar\":{\"outlinewidth\":0,\"ticks\":\"\"}}}],\"scatterpolargl\":[{\"type\":\"scatterpolargl\",\"marker\":{\"colorbar\":{\"outlinewidth\":0,\"ticks\":\"\"}}}],\"bar\":[{\"error_x\":{\"color\":\"#2a3f5f\"},\"error_y\":{\"color\":\"#2a3f5f\"},\"marker\":{\"line\":{\"color\":\"#E5ECF6\",\"width\":0.5},\"pattern\":{\"fillmode\":\"overlay\",\"size\":10,\"solidity\":0.2}},\"type\":\"bar\"}],\"scattergeo\":[{\"type\":\"scattergeo\",\"marker\":{\"colorbar\":{\"outlinewidth\":0,\"ticks\":\"\"}}}],\"scatterpolar\":[{\"type\":\"scatterpolar\",\"marker\":{\"colorbar\":{\"outlinewidth\":0,\"ticks\":\"\"}}}],\"histogram\":[{\"marker\":{\"pattern\":{\"fillmode\":\"overlay\",\"size\":10,\"solidity\":0.2}},\"type\":\"histogram\"}],\"scattergl\":[{\"type\":\"scattergl\",\"marker\":{\"colorbar\":{\"outlinewidth\":0,\"ticks\":\"\"}}}],\"scatter3d\":[{\"type\":\"scatter3d\",\"line\":{\"colorbar\":{\"outlinewidth\":0,\"ticks\":\"\"}},\"marker\":{\"colorbar\":{\"outlinewidth\":0,\"ticks\":\"\"}}}],\"scattermapbox\":[{\"type\":\"scattermapbox\",\"marker\":{\"colorbar\":{\"outlinewidth\":0,\"ticks\":\"\"}}}],\"scatterternary\":[{\"type\":\"scatterternary\",\"marker\":{\"colorbar\":{\"outlinewidth\":0,\"ticks\":\"\"}}}],\"scattercarpet\":[{\"type\":\"scattercarpet\",\"marker\":{\"colorbar\":{\"outlinewidth\":0,\"ticks\":\"\"}}}],\"carpet\":[{\"aaxis\":{\"endlinecolor\":\"#2a3f5f\",\"gridcolor\":\"white\",\"linecolor\":\"white\",\"minorgridcolor\":\"white\",\"startlinecolor\":\"#2a3f5f\"},\"baxis\":{\"endlinecolor\":\"#2a3f5f\",\"gridcolor\":\"white\",\"linecolor\":\"white\",\"minorgridcolor\":\"white\",\"startlinecolor\":\"#2a3f5f\"},\"type\":\"carpet\"}],\"table\":[{\"cells\":{\"fill\":{\"color\":\"#EBF0F8\"},\"line\":{\"color\":\"white\"}},\"header\":{\"fill\":{\"color\":\"#C8D4E3\"},\"line\":{\"color\":\"white\"}},\"type\":\"table\"}],\"barpolar\":[{\"marker\":{\"line\":{\"color\":\"#E5ECF6\",\"width\":0.5},\"pattern\":{\"fillmode\":\"overlay\",\"size\":10,\"solidity\":0.2}},\"type\":\"barpolar\"}],\"pie\":[{\"automargin\":true,\"type\":\"pie\"}]},\"layout\":{\"autotypenumbers\":\"strict\",\"colorway\":[\"#636efa\",\"#EF553B\",\"#00cc96\",\"#ab63fa\",\"#FFA15A\",\"#19d3f3\",\"#FF6692\",\"#B6E880\",\"#FF97FF\",\"#FECB52\"],\"font\":{\"color\":\"#2a3f5f\"},\"hovermode\":\"closest\",\"hoverlabel\":{\"align\":\"left\"},\"paper_bgcolor\":\"white\",\"plot_bgcolor\":\"#E5ECF6\",\"polar\":{\"bgcolor\":\"#E5ECF6\",\"angularaxis\":{\"gridcolor\":\"white\",\"linecolor\":\"white\",\"ticks\":\"\"},\"radialaxis\":{\"gridcolor\":\"white\",\"linecolor\":\"white\",\"ticks\":\"\"}},\"ternary\":{\"bgcolor\":\"#E5ECF6\",\"aaxis\":{\"gridcolor\":\"white\",\"linecolor\":\"white\",\"ticks\":\"\"},\"baxis\":{\"gridcolor\":\"white\",\"linecolor\":\"white\",\"ticks\":\"\"},\"caxis\":{\"gridcolor\":\"white\",\"linecolor\":\"white\",\"ticks\":\"\"}},\"coloraxis\":{\"colorbar\":{\"outlinewidth\":0,\"ticks\":\"\"}},\"colorscale\":{\"sequential\":[[0.0,\"#0d0887\"],[0.1111111111111111,\"#46039f\"],[0.2222222222222222,\"#7201a8\"],[0.3333333333333333,\"#9c179e\"],[0.4444444444444444,\"#bd3786\"],[0.5555555555555556,\"#d8576b\"],[0.6666666666666666,\"#ed7953\"],[0.7777777777777778,\"#fb9f3a\"],[0.8888888888888888,\"#fdca26\"],[1.0,\"#f0f921\"]],\"sequentialminus\":[[0.0,\"#0d0887\"],[0.1111111111111111,\"#46039f\"],[0.2222222222222222,\"#7201a8\"],[0.3333333333333333,\"#9c179e\"],[0.4444444444444444,\"#bd3786\"],[0.5555555555555556,\"#d8576b\"],[0.6666666666666666,\"#ed7953\"],[0.7777777777777778,\"#fb9f3a\"],[0.8888888888888888,\"#fdca26\"],[1.0,\"#f0f921\"]],\"diverging\":[[0,\"#8e0152\"],[0.1,\"#c51b7d\"],[0.2,\"#de77ae\"],[0.3,\"#f1b6da\"],[0.4,\"#fde0ef\"],[0.5,\"#f7f7f7\"],[0.6,\"#e6f5d0\"],[0.7,\"#b8e186\"],[0.8,\"#7fbc41\"],[0.9,\"#4d9221\"],[1,\"#276419\"]]},\"xaxis\":{\"gridcolor\":\"white\",\"linecolor\":\"white\",\"ticks\":\"\",\"title\":{\"standoff\":15},\"zerolinecolor\":\"white\",\"automargin\":true,\"zerolinewidth\":2},\"yaxis\":{\"gridcolor\":\"white\",\"linecolor\":\"white\",\"ticks\":\"\",\"title\":{\"standoff\":15},\"zerolinecolor\":\"white\",\"automargin\":true,\"zerolinewidth\":2},\"scene\":{\"xaxis\":{\"backgroundcolor\":\"#E5ECF6\",\"gridcolor\":\"white\",\"linecolor\":\"white\",\"showbackground\":true,\"ticks\":\"\",\"zerolinecolor\":\"white\",\"gridwidth\":2},\"yaxis\":{\"backgroundcolor\":\"#E5ECF6\",\"gridcolor\":\"white\",\"linecolor\":\"white\",\"showbackground\":true,\"ticks\":\"\",\"zerolinecolor\":\"white\",\"gridwidth\":2},\"zaxis\":{\"backgroundcolor\":\"#E5ECF6\",\"gridcolor\":\"white\",\"linecolor\":\"white\",\"showbackground\":true,\"ticks\":\"\",\"zerolinecolor\":\"white\",\"gridwidth\":2}},\"shapedefaults\":{\"line\":{\"color\":\"#2a3f5f\"}},\"annotationdefaults\":{\"arrowcolor\":\"#2a3f5f\",\"arrowhead\":0,\"arrowwidth\":1},\"geo\":{\"bgcolor\":\"white\",\"landcolor\":\"#E5ECF6\",\"subunitcolor\":\"white\",\"showland\":true,\"showlakes\":true,\"lakecolor\":\"white\"},\"title\":{\"x\":0.05},\"mapbox\":{\"style\":\"light\"}}},\"xaxis\":{\"anchor\":\"y\",\"domain\":[0.0,1.0],\"title\":{\"text\":\"pct_diff_median\"}},\"yaxis\":{\"anchor\":\"x\",\"domain\":[0.0,1.0],\"title\":{\"text\":\"count\"}},\"legend\":{\"tracegroupgap\":0},\"margin\":{\"t\":60},\"barmode\":\"relative\"},                        {\"responsive\": true}                    ).then(function(){\n",
       "                            \n",
       "var gd = document.getElementById('2b9a057d-f88f-429d-a6b8-d271a2bfaef4');\n",
       "var x = new MutationObserver(function (mutations, observer) {{\n",
       "        var display = window.getComputedStyle(gd).display;\n",
       "        if (!display || display === 'none') {{\n",
       "            console.log([gd, 'removed!']);\n",
       "            Plotly.purge(gd);\n",
       "            observer.disconnect();\n",
       "        }}\n",
       "}});\n",
       "\n",
       "// Listen for the removal of the full notebook cells\n",
       "var notebookContainer = gd.closest('#notebook-container');\n",
       "if (notebookContainer) {{\n",
       "    x.observe(notebookContainer, {childList: true});\n",
       "}}\n",
       "\n",
       "// Listen for the clearing of the current output cell\n",
       "var outputEl = gd.closest('.output');\n",
       "if (outputEl) {{\n",
       "    x.observe(outputEl, {childList: true});\n",
       "}}\n",
       "\n",
       "                        })                };                });            </script>        </div>"
      ]
     },
     "metadata": {},
     "output_type": "display_data"
    }
   ],
   "source": [
    "import plotly.express as px\n",
    "fig = px.histogram(df, x='pct_diff_avg', nbins=100)\n",
    "fig.show()\n",
    "\n",
    "fig = px.histogram(df, x='pct_diff_median', nbins=100)\n",
    "fig.show()\n"
   ]
  },
  {
   "cell_type": "code",
   "execution_count": null,
   "id": "8a7a6b60-a9ae-48de-aa0a-6d0ae855e9f6",
   "metadata": {},
   "outputs": [],
   "source": []
  },
  {
   "cell_type": "code",
   "execution_count": null,
   "id": "3778c778-493f-48a8-90dc-0c8505a863c4",
   "metadata": {},
   "outputs": [],
   "source": []
  },
  {
   "cell_type": "code",
   "execution_count": null,
   "id": "173c0fac-7ec5-4900-bdb4-4bc6e61def7c",
   "metadata": {},
   "outputs": [],
   "source": []
  }
 ],
 "metadata": {
  "kernelspec": {
   "display_name": "Python 3 (ipykernel)",
   "language": "python",
   "name": "python3"
  },
  "language_info": {
   "codemirror_mode": {
    "name": "ipython",
    "version": 3
   },
   "file_extension": ".py",
   "mimetype": "text/x-python",
   "name": "python",
   "nbconvert_exporter": "python",
   "pygments_lexer": "ipython3",
   "version": "3.8.16"
  }
 },
 "nbformat": 4,
 "nbformat_minor": 5
}
