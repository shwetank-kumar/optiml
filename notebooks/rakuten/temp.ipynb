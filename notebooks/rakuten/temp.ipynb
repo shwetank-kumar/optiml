{
 "cells": [
  {
   "cell_type": "code",
   "execution_count": null,
   "metadata": {},
   "outputs": [],
   "source": [
    "import pandas as pd\n",
    "\n",
    "# Load CSV into DataFrame\n",
    "df = pd.read_csv('./data//2023-04-12 5_33pm.csv')\n",
    "\n",
    "# Display first 5 rows of the DataFrame\n",
    "print(df.head())\n"
   ]
  },
  {
   "cell_type": "code",
   "execution_count": null,
   "metadata": {},
   "outputs": [],
   "source": [
    "# Melt the DataFrame to reshape it from wide to long format\n",
    "melted_df = pd.melt(df, id_vars=['USAGE_DATE'], value_vars=['STORAGE_TB', 'STAGE_TB', 'FAILSAFE_TB'],\n",
    "                    var_name='Type', value_name='TB')\n",
    "melted_df.head()\n"
   ]
  },
  {
   "cell_type": "code",
   "execution_count": null,
   "metadata": {},
   "outputs": [],
   "source": [
    "import plotly.express as px\n",
    "fig = px.area(melted_df, x='USAGE_DATE', y='TB', color='Type', title='Area Plot Example',\n",
    "              labels={'x_values': 'X Axis Label', 'y_values': 'Y Axis Label'})\n",
    "\n",
    "# Show the plot\n",
    "fig.show()"
   ]
  },
  {
   "cell_type": "code",
   "execution_count": null,
   "metadata": {},
   "outputs": [],
   "source": []
  }
 ],
 "metadata": {
  "kernelspec": {
   "display_name": "optiml",
   "language": "python",
   "name": "python3"
  },
  "language_info": {
   "codemirror_mode": {
    "name": "ipython",
    "version": 3
   },
   "file_extension": ".py",
   "mimetype": "text/x-python",
   "name": "python",
   "nbconvert_exporter": "python",
   "pygments_lexer": "ipython3",
   "version": "3.9.15"
  }
 },
 "nbformat": 4,
 "nbformat_minor": 2
}
