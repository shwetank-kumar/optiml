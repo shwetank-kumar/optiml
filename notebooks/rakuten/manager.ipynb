{
 "cells": [
  {
   "cell_type": "code",
   "execution_count": null,
   "id": "20ef23e1-537b-4637-9633-48024a3c6e2b",
   "metadata": {},
   "outputs": [],
   "source": [
    "%load_ext autoreload\n",
    "%autoreload 2\n"
   ]
  },
  {
   "cell_type": "code",
   "execution_count": null,
   "id": "8e6df68b-4dd0-4b1f-b6bb-446cf04fbf2a",
   "metadata": {},
   "outputs": [],
   "source": [
    "%reload_ext dotenv\n",
    "\n",
    "%dotenv ../../env/.env\n",
    "\n",
    "import warnings\n",
    "import utils\n",
    "from pandas import Timedelta\n",
    "import time\n",
    "from utils import logger, sql_to_df, run_sql, session, conn\n",
    "import pandas as pd\n",
    "warnings.filterwarnings('ignore')\n",
    "\n",
    "try:\n",
    "    %load_ext autotime\n",
    "except:\n",
    "    !pip install ipython-autotime\n",
    "    %load_ext autotime"
   ]
  },
  {
   "cell_type": "code",
   "execution_count": null,
   "id": "87fbde81-6145-4afb-8f23-7f971b25dfe0",
   "metadata": {},
   "outputs": [],
   "source": [
    "import snowflake.connector\n",
    "import threading\n",
    "import time\n",
    "import os\n",
    "class WarehousePoller:\n",
    "    def __init__(self):\n",
    "        # self.account = account\n",
    "        # self.user = user\n",
    "        # self.password = password\n",
    "        self.connection = None\n",
    "        self.polling_thread = None\n",
    "        print(\"Number of active threads:\", threading.active_count())\n",
    "\n",
    "    def connect(self):\n",
    "        self.connection = snowflake.connector.connect(\n",
    "            user=os.environ['SNOWFLAKE_USER'],\n",
    "            role=os.environ['SNOWFLAKE_ROLE'],\n",
    "            password=os.environ['SNOWFLAKE_PASSWORD'],\n",
    "            account=os.environ['SNOWFLAKE_ACCOUNT'],\n",
    "            warehouse=os.environ['SNOWFLAKE_WAREHOUSE'],\n",
    "            database=os.environ['SNOWFLAKE_DATABASE'],\n",
    "            schema=os.environ['SNOWFLAKE_SCHEMA'],\n",
    "            client_session_keep_alive=True\n",
    "        )\n",
    "\n",
    "\n",
    "    def disconnect(self):\n",
    "        if self.connection is not None:\n",
    "            self.connection.close()\n",
    "            self.connection = None\n",
    "\n",
    "    def poll_warehouses(self):\n",
    "        while True:\n",
    "            if self.connection is not None:\n",
    "                cursor = self.connection.cursor()\n",
    "                cursor.execute(\"show warehouses\")\n",
    "                rows = cursor.fetchall()\n",
    "                print(f\"Available warehouses: {rows}\")\n",
    "                cursor.close()\n",
    "            time.sleep(10)\n",
    "\n",
    "    def start_polling(self):\n",
    "        self.polling_thread = threading.Thread(target=self.poll_warehouses)\n",
    "        self.polling_thread.start()\n",
    "\n",
    "    def stop_polling(self):\n",
    "        if self.polling_thread is not None:\n",
    "            self.polling_thread.join()\n",
    "            self.polling_thread = None"
   ]
  },
  {
   "cell_type": "code",
   "execution_count": null,
   "id": "97ed9ea5-e4c1-4906-965f-e1774ad1452b",
   "metadata": {},
   "outputs": [],
   "source": [
    "poller = WarehousePoller()\n",
    "poller.connect()"
   ]
  },
  {
   "cell_type": "code",
   "execution_count": null,
   "id": "f6879607-aa0f-48a8-9701-b0d11202c185",
   "metadata": {},
   "outputs": [],
   "source": [
    "poller.start_polling()\n"
   ]
  },
  {
   "cell_type": "code",
   "execution_count": null,
   "id": "277ba2ce-f4eb-494d-9654-be9314372d6f",
   "metadata": {},
   "outputs": [],
   "source": [
    "print(\"Number of active threads:\", threading.active_count())"
   ]
  },
  {
   "cell_type": "code",
   "execution_count": null,
   "id": "5bddc465-67b5-4463-b788-e4631e529368",
   "metadata": {},
   "outputs": [],
   "source": [
    "\n",
    "# Wait a bit to see the output\n",
    "# time.sleep(60)\n",
    "\n",
    "poller.stop_polling()\n",
    "poller.disconnect()"
   ]
  },
  {
   "cell_type": "code",
   "execution_count": null,
   "id": "e7e42a25-52e5-457f-9c6e-41375deba4c3",
   "metadata": {},
   "outputs": [],
   "source": []
  }
 ],
 "metadata": {
  "kernelspec": {
   "display_name": "Python 3 (ipykernel)",
   "language": "python",
   "name": "python3"
  },
  "language_info": {
   "codemirror_mode": {
    "name": "ipython",
    "version": 3
   },
   "file_extension": ".py",
   "mimetype": "text/x-python",
   "name": "python",
   "nbconvert_exporter": "python",
   "pygments_lexer": "ipython3",
   "version": "3.8.16"
  }
 },
 "nbformat": 4,
 "nbformat_minor": 5
}
