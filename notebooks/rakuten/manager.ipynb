{
 "cells": [
  {
   "cell_type": "code",
   "execution_count": 1,
   "id": "20ef23e1-537b-4637-9633-48024a3c6e2b",
   "metadata": {},
   "outputs": [],
   "source": [
    "%load_ext autoreload\n",
    "%autoreload 2\n"
   ]
  },
  {
   "cell_type": "code",
   "execution_count": 2,
   "id": "8e6df68b-4dd0-4b1f-b6bb-446cf04fbf2a",
   "metadata": {},
   "outputs": [
    {
     "name": "stderr",
     "output_type": "stream",
     "text": [
      "09:55:06 INFO:Snowflake Connector for Python Version: 2.7.12, Python Version: 3.8.16, Platform: macOS-10.15.7-x86_64-i386-64bit\n",
      "09:55:06 INFO:This connection is in OCSP Fail Open Mode. TLS Certificates would be checked for validity and revocation status. Any other Certificate Revocation related exceptions or OCSP Responder failures would be disregarded in favor of connectivity.\n",
      "09:55:06 INFO:Setting use_openssl_only mode to False\n",
      "09:55:07 INFO:Snowflake Connector for Python Version: 2.7.12, Python Version: 3.8.16, Platform: macOS-10.15.7-x86_64-i386-64bit\n",
      "09:55:07 INFO:This connection is in OCSP Fail Open Mode. TLS Certificates would be checked for validity and revocation status. Any other Certificate Revocation related exceptions or OCSP Responder failures would be disregarded in favor of connectivity.\n",
      "09:55:08 INFO:Snowpark Session information: \n",
      "\"version\" : 1.3.0,\n",
      "\"python.version\" : 3.8.16,\n",
      "\"python.connector.version\" : 2.7.12,\n",
      "\"python.connector.session.id\" : 876302180442122,\n",
      "\"os.name\" : Darwin\n",
      "\n"
     ]
    },
    {
     "name": "stdout",
     "output_type": "stream",
     "text": [
      "connected to account omwykhw-jx58967 wh OPS db SNOWFLAKE_USAGE schema SANDBOX with role DEV\n",
      "time: 18.2 ms (started: 2023-04-27 09:55:08 -04:00)\n"
     ]
    }
   ],
   "source": [
    "%reload_ext dotenv\n",
    "\n",
    "%dotenv ../../env/.env\n",
    "\n",
    "import warnings\n",
    "import utils\n",
    "from pandas import Timedelta\n",
    "import time\n",
    "from utils import logger, sql_to_df, run_sql, session, conn\n",
    "import pandas as pd\n",
    "warnings.filterwarnings('ignore')\n",
    "\n",
    "try:\n",
    "    %load_ext autotime\n",
    "except:\n",
    "    !pip install ipython-autotime\n",
    "    %load_ext autotime"
   ]
  },
  {
   "cell_type": "code",
   "execution_count": 3,
   "id": "87fbde81-6145-4afb-8f23-7f971b25dfe0",
   "metadata": {},
   "outputs": [
    {
     "name": "stdout",
     "output_type": "stream",
     "text": [
      "time: 1.73 ms (started: 2023-04-27 09:55:08 -04:00)\n"
     ]
    }
   ],
   "source": [
    "import snowflake.connector\n",
    "import threading\n",
    "import time\n",
    "import os\n",
    "class WarehousePoller:\n",
    "    def __init__(self):\n",
    "        # self.account = account\n",
    "        # self.user = user\n",
    "        # self.password = password\n",
    "        self.connection = None\n",
    "        self.polling_thread = None\n",
    "        print(\"Number of active threads:\", threading.active_count())\n",
    "\n",
    "    def connect(self):\n",
    "        self.connection = snowflake.connector.connect(\n",
    "            user=os.environ['SNOWFLAKE_USER'],\n",
    "            role=os.environ['SNOWFLAKE_ROLE'],\n",
    "            password=os.environ['SNOWFLAKE_PASSWORD'],\n",
    "            account=os.environ['SNOWFLAKE_ACCOUNT'],\n",
    "            warehouse=os.environ['SNOWFLAKE_WAREHOUSE'],\n",
    "            database=os.environ['SNOWFLAKE_DATABASE'],\n",
    "            schema=os.environ['SNOWFLAKE_SCHEMA'],\n",
    "            client_session_keep_alive=True\n",
    "        )\n",
    "\n",
    "\n",
    "    def disconnect(self):\n",
    "        if self.connection is not None:\n",
    "            self.connection.close()\n",
    "            self.connection = None\n",
    "\n",
    "    def poll_warehouses(self):\n",
    "        while True:\n",
    "            if self.connection is not None:\n",
    "                cursor = self.connection.cursor()\n",
    "                cursor.execute(\"show warehouses\")\n",
    "                rows = cursor.fetchall()\n",
    "                print(f\"Available warehouses: {rows}\")\n",
    "                cursor.close()\n",
    "            time.sleep(10)\n",
    "\n",
    "    def start_polling(self):\n",
    "        self.polling_thread = threading.Thread(target=self.poll_warehouses)\n",
    "        self.polling_thread.start()\n",
    "\n",
    "    def stop_polling(self):\n",
    "        if self.polling_thread is not None:\n",
    "            self.polling_thread.join()\n",
    "            self.polling_thread = None"
   ]
  },
  {
   "cell_type": "code",
   "execution_count": 4,
   "id": "97ed9ea5-e4c1-4906-965f-e1774ad1452b",
   "metadata": {},
   "outputs": [
    {
     "name": "stderr",
     "output_type": "stream",
     "text": [
      "09:55:08 INFO:Snowflake Connector for Python Version: 2.7.12, Python Version: 3.8.16, Platform: macOS-10.15.7-x86_64-i386-64bit\n",
      "09:55:08 INFO:This connection is in OCSP Fail Open Mode. TLS Certificates would be checked for validity and revocation status. Any other Certificate Revocation related exceptions or OCSP Responder failures would be disregarded in favor of connectivity.\n"
     ]
    },
    {
     "name": "stdout",
     "output_type": "stream",
     "text": [
      "Number of active threads: 9\n",
      "time: 516 ms (started: 2023-04-27 09:55:08 -04:00)\n"
     ]
    }
   ],
   "source": [
    "poller = WarehousePoller()\n",
    "poller.connect()"
   ]
  },
  {
   "cell_type": "code",
   "execution_count": 5,
   "id": "f6879607-aa0f-48a8-9701-b0d11202c185",
   "metadata": {},
   "outputs": [
    {
     "name": "stderr",
     "output_type": "stream",
     "text": [
      "09:55:17 INFO:query: [show warehouses]\n"
     ]
    },
    {
     "name": "stdout",
     "output_type": "stream",
     "text": [
      "time: 1.53 ms (started: 2023-04-27 09:55:17 -04:00)\n"
     ]
    },
    {
     "name": "stderr",
     "output_type": "stream",
     "text": [
      "09:55:17 INFO:query execution done\n"
     ]
    },
    {
     "name": "stdout",
     "output_type": "stream",
     "text": [
      "Available warehouses: [('AUTOSUSPEND_SIXTY', 'SUSPENDED', 'STANDARD', 'X-Small', 0, 0, 'N', 'N', 60, 'true', '', '', '', '', datetime.datetime(2023, 4, 11, 8, 13, 27, 902000, tzinfo=<DstTzInfo 'America/Los_Angeles' PDT-1 day, 17:00:00 DST>), datetime.datetime(2023, 4, 11, 8, 13, 28, 746000, tzinfo=<DstTzInfo 'America/Los_Angeles' PDT-1 day, 17:00:00 DST>), datetime.datetime(2023, 4, 11, 8, 13, 28, 746000, tzinfo=<DstTzInfo 'America/Los_Angeles' PDT-1 day, 17:00:00 DST>), 'SNOWFLAKE_USAGE', '', 'null', 0, 0, 0, 1, '52231856'), ('DEMO', 'SUSPENDED', 'STANDARD', 'X-Small', 0, 0, 'N', 'N', 37, 'true', '', '', '', '', datetime.datetime(2022, 11, 9, 7, 31, 26, 305000, tzinfo=<DstTzInfo 'America/Los_Angeles' PST-1 day, 16:00:00 STD>), datetime.datetime(2023, 4, 26, 17, 12, 39, 999000, tzinfo=<DstTzInfo 'America/Los_Angeles' PDT-1 day, 17:00:00 DST>), datetime.datetime(2023, 4, 26, 17, 12, 39, 999000, tzinfo=<DstTzInfo 'America/Los_Angeles' PDT-1 day, 17:00:00 DST>), 'SNOWFLAKE_USAGE', '', 'null', 0, 0, 0, 1, '52231684'), ('DEMO_SMALL', 'SUSPENDED', 'STANDARD', 'Small', 0, 0, 'N', 'N', 60, 'true', '', '', '', '', datetime.datetime(2022, 12, 4, 15, 12, 32, 997000, tzinfo=<DstTzInfo 'America/Los_Angeles' PST-1 day, 16:00:00 STD>), datetime.datetime(2023, 4, 14, 12, 51, 59, 18000, tzinfo=<DstTzInfo 'America/Los_Angeles' PDT-1 day, 17:00:00 DST>), datetime.datetime(2023, 4, 14, 12, 51, 59, 18000, tzinfo=<DstTzInfo 'America/Los_Angeles' PDT-1 day, 17:00:00 DST>), 'ACCOUNTADMIN', '', 'null', 0, 0, 0, 2, '52231688'), ('OPS', 'SUSPENDED', 'STANDARD', 'X-Small', 0, 0, 'N', 'Y', 60, 'true', '', '', '', '', datetime.datetime(2023, 4, 9, 13, 50, 27, 195000, tzinfo=<DstTzInfo 'America/Los_Angeles' PDT-1 day, 17:00:00 DST>), datetime.datetime(2023, 4, 23, 18, 25, 27, 291000, tzinfo=<DstTzInfo 'America/Los_Angeles' PDT-1 day, 17:00:00 DST>), datetime.datetime(2023, 4, 23, 18, 25, 27, 291000, tzinfo=<DstTzInfo 'America/Los_Angeles' PDT-1 day, 17:00:00 DST>), 'ACCOUNTADMIN', '', 'null', 0, 0, 0, 1, '52231696'), ('SMARTSUSPEND_TEN', 'SUSPENDED', 'STANDARD', 'X-Small', 0, 0, 'N', 'N', 60, 'true', '', '', '', '', datetime.datetime(2023, 4, 11, 8, 13, 28, 79000, tzinfo=<DstTzInfo 'America/Los_Angeles' PDT-1 day, 17:00:00 DST>), datetime.datetime(2023, 4, 11, 8, 13, 28, 918000, tzinfo=<DstTzInfo 'America/Los_Angeles' PDT-1 day, 17:00:00 DST>), datetime.datetime(2023, 4, 11, 8, 13, 28, 918000, tzinfo=<DstTzInfo 'America/Los_Angeles' PDT-1 day, 17:00:00 DST>), 'SNOWFLAKE_USAGE', '', 'null', 0, 0, 0, 1, '52231860'), ('SUSPEND_TEN', 'SUSPENDED', 'STANDARD', 'X-Small', 0, 0, 'N', 'N', 60, 'true', '', '', '', '', datetime.datetime(2023, 4, 11, 8, 13, 28, 246000, tzinfo=<DstTzInfo 'America/Los_Angeles' PDT-1 day, 17:00:00 DST>), datetime.datetime(2023, 4, 11, 11, 35, 58, 296000, tzinfo=<DstTzInfo 'America/Los_Angeles' PDT-1 day, 17:00:00 DST>), datetime.datetime(2023, 4, 11, 11, 35, 58, 296000, tzinfo=<DstTzInfo 'America/Los_Angeles' PDT-1 day, 17:00:00 DST>), 'SNOWFLAKE_USAGE', '', 'null', 0, 0, 0, 1, '52231864'), ('TEST_WH_123', 'SUSPENDED', 'STANDARD', 'X-Small', 0, 0, 'N', 'N', 60, 'true', '', '', '', '', datetime.datetime(2023, 4, 24, 15, 39, 58, 955000, tzinfo=<DstTzInfo 'America/Los_Angeles' PDT-1 day, 17:00:00 DST>), datetime.datetime(2023, 4, 24, 15, 42, 38, 597000, tzinfo=<DstTzInfo 'America/Los_Angeles' PDT-1 day, 17:00:00 DST>), datetime.datetime(2023, 4, 24, 15, 42, 38, 597000, tzinfo=<DstTzInfo 'America/Los_Angeles' PDT-1 day, 17:00:00 DST>), 'DEV', '', 'null', 0, 0, 0, 1, '52231872')]\n"
     ]
    }
   ],
   "source": [
    "poller.start_polling()\n"
   ]
  },
  {
   "cell_type": "code",
   "execution_count": 6,
   "id": "277ba2ce-f4eb-494d-9654-be9314372d6f",
   "metadata": {},
   "outputs": [
    {
     "name": "stdout",
     "output_type": "stream",
     "text": [
      "Number of active threads: 11\n",
      "time: 1.14 ms (started: 2023-04-27 09:55:20 -04:00)\n"
     ]
    }
   ],
   "source": [
    "print(\"Number of active threads:\", threading.active_count())"
   ]
  },
  {
   "cell_type": "code",
   "execution_count": null,
   "id": "5bddc465-67b5-4463-b788-e4631e529368",
   "metadata": {},
   "outputs": [
    {
     "name": "stderr",
     "output_type": "stream",
     "text": [
      "09:55:27 INFO:query: [show warehouses]\n",
      "09:55:27 INFO:query execution done\n"
     ]
    },
    {
     "name": "stdout",
     "output_type": "stream",
     "text": [
      "Available warehouses: [('AUTOSUSPEND_SIXTY', 'SUSPENDED', 'STANDARD', 'X-Small', 0, 0, 'N', 'N', 60, 'true', '', '', '', '', datetime.datetime(2023, 4, 11, 8, 13, 27, 902000, tzinfo=<DstTzInfo 'America/Los_Angeles' PDT-1 day, 17:00:00 DST>), datetime.datetime(2023, 4, 11, 8, 13, 28, 746000, tzinfo=<DstTzInfo 'America/Los_Angeles' PDT-1 day, 17:00:00 DST>), datetime.datetime(2023, 4, 11, 8, 13, 28, 746000, tzinfo=<DstTzInfo 'America/Los_Angeles' PDT-1 day, 17:00:00 DST>), 'SNOWFLAKE_USAGE', '', 'null', 0, 0, 0, 1, '52231856'), ('DEMO', 'SUSPENDED', 'STANDARD', 'X-Small', 0, 0, 'N', 'N', 37, 'true', '', '', '', '', datetime.datetime(2022, 11, 9, 7, 31, 26, 305000, tzinfo=<DstTzInfo 'America/Los_Angeles' PST-1 day, 16:00:00 STD>), datetime.datetime(2023, 4, 26, 17, 12, 39, 999000, tzinfo=<DstTzInfo 'America/Los_Angeles' PDT-1 day, 17:00:00 DST>), datetime.datetime(2023, 4, 26, 17, 12, 39, 999000, tzinfo=<DstTzInfo 'America/Los_Angeles' PDT-1 day, 17:00:00 DST>), 'SNOWFLAKE_USAGE', '', 'null', 0, 0, 0, 1, '52231684'), ('DEMO_SMALL', 'SUSPENDED', 'STANDARD', 'Small', 0, 0, 'N', 'N', 60, 'true', '', '', '', '', datetime.datetime(2022, 12, 4, 15, 12, 32, 997000, tzinfo=<DstTzInfo 'America/Los_Angeles' PST-1 day, 16:00:00 STD>), datetime.datetime(2023, 4, 14, 12, 51, 59, 18000, tzinfo=<DstTzInfo 'America/Los_Angeles' PDT-1 day, 17:00:00 DST>), datetime.datetime(2023, 4, 14, 12, 51, 59, 18000, tzinfo=<DstTzInfo 'America/Los_Angeles' PDT-1 day, 17:00:00 DST>), 'ACCOUNTADMIN', '', 'null', 0, 0, 0, 2, '52231688'), ('OPS', 'SUSPENDED', 'STANDARD', 'X-Small', 0, 0, 'N', 'Y', 60, 'true', '', '', '', '', datetime.datetime(2023, 4, 9, 13, 50, 27, 195000, tzinfo=<DstTzInfo 'America/Los_Angeles' PDT-1 day, 17:00:00 DST>), datetime.datetime(2023, 4, 23, 18, 25, 27, 291000, tzinfo=<DstTzInfo 'America/Los_Angeles' PDT-1 day, 17:00:00 DST>), datetime.datetime(2023, 4, 23, 18, 25, 27, 291000, tzinfo=<DstTzInfo 'America/Los_Angeles' PDT-1 day, 17:00:00 DST>), 'ACCOUNTADMIN', '', 'null', 0, 0, 0, 1, '52231696'), ('SMARTSUSPEND_TEN', 'SUSPENDED', 'STANDARD', 'X-Small', 0, 0, 'N', 'N', 60, 'true', '', '', '', '', datetime.datetime(2023, 4, 11, 8, 13, 28, 79000, tzinfo=<DstTzInfo 'America/Los_Angeles' PDT-1 day, 17:00:00 DST>), datetime.datetime(2023, 4, 11, 8, 13, 28, 918000, tzinfo=<DstTzInfo 'America/Los_Angeles' PDT-1 day, 17:00:00 DST>), datetime.datetime(2023, 4, 11, 8, 13, 28, 918000, tzinfo=<DstTzInfo 'America/Los_Angeles' PDT-1 day, 17:00:00 DST>), 'SNOWFLAKE_USAGE', '', 'null', 0, 0, 0, 1, '52231860'), ('SUSPEND_TEN', 'SUSPENDED', 'STANDARD', 'X-Small', 0, 0, 'N', 'N', 60, 'true', '', '', '', '', datetime.datetime(2023, 4, 11, 8, 13, 28, 246000, tzinfo=<DstTzInfo 'America/Los_Angeles' PDT-1 day, 17:00:00 DST>), datetime.datetime(2023, 4, 11, 11, 35, 58, 296000, tzinfo=<DstTzInfo 'America/Los_Angeles' PDT-1 day, 17:00:00 DST>), datetime.datetime(2023, 4, 11, 11, 35, 58, 296000, tzinfo=<DstTzInfo 'America/Los_Angeles' PDT-1 day, 17:00:00 DST>), 'SNOWFLAKE_USAGE', '', 'null', 0, 0, 0, 1, '52231864'), ('TEST_WH_123', 'SUSPENDED', 'STANDARD', 'X-Small', 0, 0, 'N', 'N', 60, 'true', '', '', '', '', datetime.datetime(2023, 4, 24, 15, 39, 58, 955000, tzinfo=<DstTzInfo 'America/Los_Angeles' PDT-1 day, 17:00:00 DST>), datetime.datetime(2023, 4, 24, 15, 42, 38, 597000, tzinfo=<DstTzInfo 'America/Los_Angeles' PDT-1 day, 17:00:00 DST>), datetime.datetime(2023, 4, 24, 15, 42, 38, 597000, tzinfo=<DstTzInfo 'America/Los_Angeles' PDT-1 day, 17:00:00 DST>), 'DEV', '', 'null', 0, 0, 0, 1, '52231872')]\n"
     ]
    },
    {
     "name": "stderr",
     "output_type": "stream",
     "text": [
      "09:55:37 INFO:query: [show warehouses]\n",
      "09:55:37 INFO:query execution done\n"
     ]
    },
    {
     "name": "stdout",
     "output_type": "stream",
     "text": [
      "Available warehouses: [('AUTOSUSPEND_SIXTY', 'SUSPENDED', 'STANDARD', 'X-Small', 0, 0, 'N', 'N', 60, 'true', '', '', '', '', datetime.datetime(2023, 4, 11, 8, 13, 27, 902000, tzinfo=<DstTzInfo 'America/Los_Angeles' PDT-1 day, 17:00:00 DST>), datetime.datetime(2023, 4, 11, 8, 13, 28, 746000, tzinfo=<DstTzInfo 'America/Los_Angeles' PDT-1 day, 17:00:00 DST>), datetime.datetime(2023, 4, 11, 8, 13, 28, 746000, tzinfo=<DstTzInfo 'America/Los_Angeles' PDT-1 day, 17:00:00 DST>), 'SNOWFLAKE_USAGE', '', 'null', 0, 0, 0, 1, '52231856'), ('DEMO', 'SUSPENDED', 'STANDARD', 'X-Small', 0, 0, 'N', 'N', 37, 'true', '', '', '', '', datetime.datetime(2022, 11, 9, 7, 31, 26, 305000, tzinfo=<DstTzInfo 'America/Los_Angeles' PST-1 day, 16:00:00 STD>), datetime.datetime(2023, 4, 26, 17, 12, 39, 999000, tzinfo=<DstTzInfo 'America/Los_Angeles' PDT-1 day, 17:00:00 DST>), datetime.datetime(2023, 4, 26, 17, 12, 39, 999000, tzinfo=<DstTzInfo 'America/Los_Angeles' PDT-1 day, 17:00:00 DST>), 'SNOWFLAKE_USAGE', '', 'null', 0, 0, 0, 1, '52231684'), ('DEMO_SMALL', 'SUSPENDED', 'STANDARD', 'Small', 0, 0, 'N', 'N', 60, 'true', '', '', '', '', datetime.datetime(2022, 12, 4, 15, 12, 32, 997000, tzinfo=<DstTzInfo 'America/Los_Angeles' PST-1 day, 16:00:00 STD>), datetime.datetime(2023, 4, 14, 12, 51, 59, 18000, tzinfo=<DstTzInfo 'America/Los_Angeles' PDT-1 day, 17:00:00 DST>), datetime.datetime(2023, 4, 14, 12, 51, 59, 18000, tzinfo=<DstTzInfo 'America/Los_Angeles' PDT-1 day, 17:00:00 DST>), 'ACCOUNTADMIN', '', 'null', 0, 0, 0, 2, '52231688'), ('OPS', 'SUSPENDED', 'STANDARD', 'X-Small', 0, 0, 'N', 'Y', 60, 'true', '', '', '', '', datetime.datetime(2023, 4, 9, 13, 50, 27, 195000, tzinfo=<DstTzInfo 'America/Los_Angeles' PDT-1 day, 17:00:00 DST>), datetime.datetime(2023, 4, 23, 18, 25, 27, 291000, tzinfo=<DstTzInfo 'America/Los_Angeles' PDT-1 day, 17:00:00 DST>), datetime.datetime(2023, 4, 23, 18, 25, 27, 291000, tzinfo=<DstTzInfo 'America/Los_Angeles' PDT-1 day, 17:00:00 DST>), 'ACCOUNTADMIN', '', 'null', 0, 0, 0, 1, '52231696'), ('SMARTSUSPEND_TEN', 'SUSPENDED', 'STANDARD', 'X-Small', 0, 0, 'N', 'N', 60, 'true', '', '', '', '', datetime.datetime(2023, 4, 11, 8, 13, 28, 79000, tzinfo=<DstTzInfo 'America/Los_Angeles' PDT-1 day, 17:00:00 DST>), datetime.datetime(2023, 4, 11, 8, 13, 28, 918000, tzinfo=<DstTzInfo 'America/Los_Angeles' PDT-1 day, 17:00:00 DST>), datetime.datetime(2023, 4, 11, 8, 13, 28, 918000, tzinfo=<DstTzInfo 'America/Los_Angeles' PDT-1 day, 17:00:00 DST>), 'SNOWFLAKE_USAGE', '', 'null', 0, 0, 0, 1, '52231860'), ('SUSPEND_TEN', 'SUSPENDED', 'STANDARD', 'X-Small', 0, 0, 'N', 'N', 60, 'true', '', '', '', '', datetime.datetime(2023, 4, 11, 8, 13, 28, 246000, tzinfo=<DstTzInfo 'America/Los_Angeles' PDT-1 day, 17:00:00 DST>), datetime.datetime(2023, 4, 11, 11, 35, 58, 296000, tzinfo=<DstTzInfo 'America/Los_Angeles' PDT-1 day, 17:00:00 DST>), datetime.datetime(2023, 4, 11, 11, 35, 58, 296000, tzinfo=<DstTzInfo 'America/Los_Angeles' PDT-1 day, 17:00:00 DST>), 'SNOWFLAKE_USAGE', '', 'null', 0, 0, 0, 1, '52231864'), ('TEST_WH_123', 'SUSPENDED', 'STANDARD', 'X-Small', 0, 0, 'N', 'N', 60, 'true', '', '', '', '', datetime.datetime(2023, 4, 24, 15, 39, 58, 955000, tzinfo=<DstTzInfo 'America/Los_Angeles' PDT-1 day, 17:00:00 DST>), datetime.datetime(2023, 4, 24, 15, 42, 38, 597000, tzinfo=<DstTzInfo 'America/Los_Angeles' PDT-1 day, 17:00:00 DST>), datetime.datetime(2023, 4, 24, 15, 42, 38, 597000, tzinfo=<DstTzInfo 'America/Los_Angeles' PDT-1 day, 17:00:00 DST>), 'DEV', '', 'null', 0, 0, 0, 1, '52231872')]\n"
     ]
    },
    {
     "name": "stderr",
     "output_type": "stream",
     "text": [
      "09:55:47 INFO:query: [show warehouses]\n",
      "09:55:48 INFO:query execution done\n"
     ]
    },
    {
     "name": "stdout",
     "output_type": "stream",
     "text": [
      "Available warehouses: [('AUTOSUSPEND_SIXTY', 'SUSPENDED', 'STANDARD', 'X-Small', 0, 0, 'N', 'N', 60, 'true', '', '', '', '', datetime.datetime(2023, 4, 11, 8, 13, 27, 902000, tzinfo=<DstTzInfo 'America/Los_Angeles' PDT-1 day, 17:00:00 DST>), datetime.datetime(2023, 4, 11, 8, 13, 28, 746000, tzinfo=<DstTzInfo 'America/Los_Angeles' PDT-1 day, 17:00:00 DST>), datetime.datetime(2023, 4, 11, 8, 13, 28, 746000, tzinfo=<DstTzInfo 'America/Los_Angeles' PDT-1 day, 17:00:00 DST>), 'SNOWFLAKE_USAGE', '', 'null', 0, 0, 0, 1, '52231856'), ('DEMO', 'SUSPENDED', 'STANDARD', 'X-Small', 0, 0, 'N', 'N', 37, 'true', '', '', '', '', datetime.datetime(2022, 11, 9, 7, 31, 26, 305000, tzinfo=<DstTzInfo 'America/Los_Angeles' PST-1 day, 16:00:00 STD>), datetime.datetime(2023, 4, 26, 17, 12, 39, 999000, tzinfo=<DstTzInfo 'America/Los_Angeles' PDT-1 day, 17:00:00 DST>), datetime.datetime(2023, 4, 26, 17, 12, 39, 999000, tzinfo=<DstTzInfo 'America/Los_Angeles' PDT-1 day, 17:00:00 DST>), 'SNOWFLAKE_USAGE', '', 'null', 0, 0, 0, 1, '52231684'), ('DEMO_SMALL', 'SUSPENDED', 'STANDARD', 'Small', 0, 0, 'N', 'N', 60, 'true', '', '', '', '', datetime.datetime(2022, 12, 4, 15, 12, 32, 997000, tzinfo=<DstTzInfo 'America/Los_Angeles' PST-1 day, 16:00:00 STD>), datetime.datetime(2023, 4, 14, 12, 51, 59, 18000, tzinfo=<DstTzInfo 'America/Los_Angeles' PDT-1 day, 17:00:00 DST>), datetime.datetime(2023, 4, 14, 12, 51, 59, 18000, tzinfo=<DstTzInfo 'America/Los_Angeles' PDT-1 day, 17:00:00 DST>), 'ACCOUNTADMIN', '', 'null', 0, 0, 0, 2, '52231688'), ('OPS', 'SUSPENDED', 'STANDARD', 'X-Small', 0, 0, 'N', 'Y', 60, 'true', '', '', '', '', datetime.datetime(2023, 4, 9, 13, 50, 27, 195000, tzinfo=<DstTzInfo 'America/Los_Angeles' PDT-1 day, 17:00:00 DST>), datetime.datetime(2023, 4, 23, 18, 25, 27, 291000, tzinfo=<DstTzInfo 'America/Los_Angeles' PDT-1 day, 17:00:00 DST>), datetime.datetime(2023, 4, 23, 18, 25, 27, 291000, tzinfo=<DstTzInfo 'America/Los_Angeles' PDT-1 day, 17:00:00 DST>), 'ACCOUNTADMIN', '', 'null', 0, 0, 0, 1, '52231696'), ('SMARTSUSPEND_TEN', 'SUSPENDED', 'STANDARD', 'X-Small', 0, 0, 'N', 'N', 60, 'true', '', '', '', '', datetime.datetime(2023, 4, 11, 8, 13, 28, 79000, tzinfo=<DstTzInfo 'America/Los_Angeles' PDT-1 day, 17:00:00 DST>), datetime.datetime(2023, 4, 11, 8, 13, 28, 918000, tzinfo=<DstTzInfo 'America/Los_Angeles' PDT-1 day, 17:00:00 DST>), datetime.datetime(2023, 4, 11, 8, 13, 28, 918000, tzinfo=<DstTzInfo 'America/Los_Angeles' PDT-1 day, 17:00:00 DST>), 'SNOWFLAKE_USAGE', '', 'null', 0, 0, 0, 1, '52231860'), ('SUSPEND_TEN', 'SUSPENDED', 'STANDARD', 'X-Small', 0, 0, 'N', 'N', 60, 'true', '', '', '', '', datetime.datetime(2023, 4, 11, 8, 13, 28, 246000, tzinfo=<DstTzInfo 'America/Los_Angeles' PDT-1 day, 17:00:00 DST>), datetime.datetime(2023, 4, 11, 11, 35, 58, 296000, tzinfo=<DstTzInfo 'America/Los_Angeles' PDT-1 day, 17:00:00 DST>), datetime.datetime(2023, 4, 11, 11, 35, 58, 296000, tzinfo=<DstTzInfo 'America/Los_Angeles' PDT-1 day, 17:00:00 DST>), 'SNOWFLAKE_USAGE', '', 'null', 0, 0, 0, 1, '52231864'), ('TEST_WH_123', 'SUSPENDED', 'STANDARD', 'X-Small', 0, 0, 'N', 'N', 60, 'true', '', '', '', '', datetime.datetime(2023, 4, 24, 15, 39, 58, 955000, tzinfo=<DstTzInfo 'America/Los_Angeles' PDT-1 day, 17:00:00 DST>), datetime.datetime(2023, 4, 24, 15, 42, 38, 597000, tzinfo=<DstTzInfo 'America/Los_Angeles' PDT-1 day, 17:00:00 DST>), datetime.datetime(2023, 4, 24, 15, 42, 38, 597000, tzinfo=<DstTzInfo 'America/Los_Angeles' PDT-1 day, 17:00:00 DST>), 'DEV', '', 'null', 0, 0, 0, 1, '52231872')]\n"
     ]
    }
   ],
   "source": [
    "\n",
    "# Wait a bit to see the output\n",
    "# time.sleep(60)\n",
    "\n",
    "poller.stop_polling()\n",
    "poller.disconnect()"
   ]
  },
  {
   "cell_type": "code",
   "execution_count": null,
   "id": "e7e42a25-52e5-457f-9c6e-41375deba4c3",
   "metadata": {},
   "outputs": [],
   "source": []
  }
 ],
 "metadata": {
  "kernelspec": {
   "display_name": "Python 3 (ipykernel)",
   "language": "python",
   "name": "python3"
  },
  "language_info": {
   "codemirror_mode": {
    "name": "ipython",
    "version": 3
   },
   "file_extension": ".py",
   "mimetype": "text/x-python",
   "name": "python",
   "nbconvert_exporter": "python",
   "pygments_lexer": "ipython3",
   "version": "3.8.16"
  }
 },
 "nbformat": 4,
 "nbformat_minor": 5
}
