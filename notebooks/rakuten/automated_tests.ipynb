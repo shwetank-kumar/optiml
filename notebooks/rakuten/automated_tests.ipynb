{
 "cells": [
  {
   "cell_type": "code",
   "execution_count": 11,
   "id": "b45cf647-2b77-466a-bb98-95e845dc11eb",
   "metadata": {},
   "outputs": [
    {
     "name": "stdout",
     "output_type": "stream",
     "text": [
      "The autoreload extension is already loaded. To reload it, use:\n",
      "  %reload_ext autoreload\n",
      "time: 48.2 ms (started: 2023-04-27 01:28:07 -04:00)\n"
     ]
    }
   ],
   "source": [
    "%load_ext autoreload\n",
    "%autoreload 2"
   ]
  },
  {
   "cell_type": "code",
   "execution_count": 2,
   "id": "2cd29c5e-d455-4ef7-a4fd-2b4a61eb1b1d",
   "metadata": {},
   "outputs": [
    {
     "name": "stderr",
     "output_type": "stream",
     "text": [
      "01:28:49 INFO:Snowflake Connector for Python Version: 2.7.12, Python Version: 3.8.16, Platform: macOS-10.15.7-x86_64-i386-64bit\n",
      "01:28:49 INFO:This connection is in OCSP Fail Open Mode. TLS Certificates would be checked for validity and revocation status. Any other Certificate Revocation related exceptions or OCSP Responder failures would be disregarded in favor of connectivity.\n",
      "01:28:49 INFO:Setting use_openssl_only mode to False\n",
      "01:28:50 INFO:Snowflake Connector for Python Version: 2.7.12, Python Version: 3.8.16, Platform: macOS-10.15.7-x86_64-i386-64bit\n",
      "01:28:50 INFO:This connection is in OCSP Fail Open Mode. TLS Certificates would be checked for validity and revocation status. Any other Certificate Revocation related exceptions or OCSP Responder failures would be disregarded in favor of connectivity.\n",
      "01:28:51 INFO:Snowpark Session information: \n",
      "\"version\" : 1.3.0,\n",
      "\"python.version\" : 3.8.16,\n",
      "\"python.connector.version\" : 2.7.12,\n",
      "\"python.connector.session.id\" : 876302180401158,\n",
      "\"os.name\" : Darwin\n",
      "\n"
     ]
    },
    {
     "name": "stdout",
     "output_type": "stream",
     "text": [
      "connected to account omwykhw-jx58967 wh OPS db SNOWFLAKE_USAGE schema SANDBOX with role DEV\n",
      "time: 17.9 ms (started: 2023-04-25 01:28:51 -04:00)\n"
     ]
    }
   ],
   "source": [
    "# %reload_ext dotenv\n",
    "\n",
    "# %dotenv ../../env/.env\n",
    "\n",
    "# import warnings\n",
    "# import utils\n",
    "# from pandas import Timedelta\n",
    "# import time\n",
    "# from utils import logger, sql_to_df, run_sql, session, conn\n",
    "# import pandas as pd\n",
    "# warnings.filterwarnings('ignore')\n",
    "\n",
    "# try:\n",
    "#     %load_ext autotime\n",
    "# except:\n",
    "#     !pip install ipython-autotime\n",
    "#     %load_ext autotime"
   ]
  },
  {
   "cell_type": "code",
   "execution_count": 12,
   "id": "63d63841-80d3-4b84-a45a-aaacdcbcdaf2",
   "metadata": {},
   "outputs": [
    {
     "name": "stdout",
     "output_type": "stream",
     "text": [
      "time: 5.63 ms (started: 2023-04-27 01:28:13 -04:00)\n"
     ]
    }
   ],
   "source": [
    "import logging\n",
    "logger.setLevel(logging.INFO)"
   ]
  },
  {
   "cell_type": "code",
   "execution_count": 27,
   "id": "4fcd9ed9-e9e8-403f-b8ef-02e54611636d",
   "metadata": {},
   "outputs": [
    {
     "name": "stderr",
     "output_type": "stream",
     "text": [
      "09:44:43 INFO:query: [select warehouse_id, era_start, era_end from query_era_test  -- where warehouse_...]\n"
     ]
    },
    {
     "name": "stdout",
     "output_type": "stream",
     "text": [
      "using arrow to fetch results...\n"
     ]
    },
    {
     "name": "stderr",
     "output_type": "stream",
     "text": [
      "09:44:44 INFO:query execution done\n"
     ]
    },
    {
     "data": {
      "text/html": [
       "<div>\n",
       "<style scoped>\n",
       "    .dataframe tbody tr th:only-of-type {\n",
       "        vertical-align: middle;\n",
       "    }\n",
       "\n",
       "    .dataframe tbody tr th {\n",
       "        vertical-align: top;\n",
       "    }\n",
       "\n",
       "    .dataframe thead th {\n",
       "        text-align: right;\n",
       "    }\n",
       "</style>\n",
       "<table border=\"1\" class=\"dataframe\">\n",
       "  <thead>\n",
       "    <tr style=\"text-align: right;\">\n",
       "      <th></th>\n",
       "      <th>warehouse_id</th>\n",
       "      <th>era_start</th>\n",
       "      <th>era_end</th>\n",
       "    </tr>\n",
       "  </thead>\n",
       "  <tbody>\n",
       "    <tr>\n",
       "      <th>0</th>\n",
       "      <td>35</td>\n",
       "      <td>2023-04-10 16:44:00</td>\n",
       "      <td>2023-04-10 16:44:10</td>\n",
       "    </tr>\n",
       "    <tr>\n",
       "      <th>1</th>\n",
       "      <td>35</td>\n",
       "      <td>2023-04-10 16:44:15</td>\n",
       "      <td>2023-04-10 16:44:25</td>\n",
       "    </tr>\n",
       "    <tr>\n",
       "      <th>2</th>\n",
       "      <td>35</td>\n",
       "      <td>2023-04-10 16:44:55</td>\n",
       "      <td>2023-04-10 16:45:05</td>\n",
       "    </tr>\n",
       "    <tr>\n",
       "      <th>3</th>\n",
       "      <td>35</td>\n",
       "      <td>2023-04-10 16:45:15</td>\n",
       "      <td>2023-04-10 16:45:25</td>\n",
       "    </tr>\n",
       "  </tbody>\n",
       "</table>\n",
       "</div>"
      ],
      "text/plain": [
       "   warehouse_id           era_start             era_end\n",
       "0            35 2023-04-10 16:44:00 2023-04-10 16:44:10\n",
       "1            35 2023-04-10 16:44:15 2023-04-10 16:44:25\n",
       "2            35 2023-04-10 16:44:55 2023-04-10 16:45:05\n",
       "3            35 2023-04-10 16:45:15 2023-04-10 16:45:25"
      ]
     },
     "metadata": {},
     "output_type": "display_data"
    },
    {
     "name": "stdout",
     "output_type": "stream",
     "text": [
      "time: 655 ms (started: 2023-04-20 21:44:43 -04:00)\n"
     ]
    }
   ],
   "source": [
    "# # warehouse_ids = [41,42,43]\n",
    "# warehouse_ids = [38,39,40]\n",
    "# joined = ','.join([str(w) for w in warehouse_ids])\n",
    "# sql_str = f\"({joined})\"\n",
    "\n",
    "# sql = f\"\"\"\n",
    "# select \n",
    "#     warehouse_id, \n",
    "#     era_start, \n",
    "#     era_end\n",
    "# from query_era_test\n",
    "\n",
    "# -- where warehouse_id in {sql_str}\n",
    "# order by era_start asc\n",
    "# \"\"\"\n",
    "\n",
    "# df = sql_to_df(sql)\n",
    "# display(df)"
   ]
  },
  {
   "cell_type": "code",
   "execution_count": 5,
   "id": "25ca21ad-b284-47b0-be0e-4e4f1d1498e9",
   "metadata": {},
   "outputs": [
    {
     "name": "stdout",
     "output_type": "stream",
     "text": [
      "35\n",
      "time: 4.7 ms (started: 2023-04-20 21:31:30 -04:00)\n"
     ]
    }
   ],
   "source": [
    "for warehouse_id in df.warehouse_id.unique():\n",
    "    print(warehouse_id)\n",
    "    wh_df = df[df.warehouse_id == warehouse_id].sort_values('era_start', ascending=True)"
   ]
  },
  {
   "cell_type": "code",
   "execution_count": 31,
   "id": "d9f97c05-2982-47ea-a6a1-958ecb130897",
   "metadata": {},
   "outputs": [
    {
     "ename": "ValueError",
     "evalue": "Value must be Timedelta, string, integer, float, timedelta or convertible, not Timestamp",
     "output_type": "error",
     "traceback": [
      "\u001b[0;31m---------------------------------------------------------------------------\u001b[0m",
      "\u001b[0;31mValueError\u001b[0m                                Traceback (most recent call last)",
      "Cell \u001b[0;32mIn[31], line 1\u001b[0m\n\u001b[0;32m----> 1\u001b[0m \u001b[43mpd\u001b[49m\u001b[38;5;241;43m.\u001b[39;49m\u001b[43mtimedelta_range\u001b[49m\u001b[43m(\u001b[49m\u001b[43mwh_df\u001b[49m\u001b[38;5;241;43m.\u001b[39;49m\u001b[43mera_start\u001b[49m\u001b[38;5;241;43m.\u001b[39;49m\u001b[43mmin\u001b[49m\u001b[43m(\u001b[49m\u001b[43m)\u001b[49m\u001b[43m,\u001b[49m\u001b[43m \u001b[49m\u001b[43mwh_df\u001b[49m\u001b[38;5;241;43m.\u001b[39;49m\u001b[43mera_end\u001b[49m\u001b[38;5;241;43m.\u001b[39;49m\u001b[43mmax\u001b[49m\u001b[43m(\u001b[49m\u001b[43m)\u001b[49m\u001b[43m,\u001b[49m\u001b[43m \u001b[49m\u001b[43mfreq\u001b[49m\u001b[38;5;241;43m=\u001b[39;49m\u001b[38;5;124;43m\"\u001b[39;49m\u001b[38;5;124;43m1min\u001b[39;49m\u001b[38;5;124;43m\"\u001b[39;49m\u001b[43m)\u001b[49m\n",
      "File \u001b[0;32m/usr/local/anaconda3/envs/optiml38/lib/python3.8/site-packages/pandas/core/indexes/timedeltas.py:275\u001b[0m, in \u001b[0;36mtimedelta_range\u001b[0;34m(start, end, periods, freq, name, closed)\u001b[0m\n\u001b[1;32m    272\u001b[0m     freq \u001b[38;5;241m=\u001b[39m \u001b[38;5;124m\"\u001b[39m\u001b[38;5;124mD\u001b[39m\u001b[38;5;124m\"\u001b[39m\n\u001b[1;32m    274\u001b[0m freq, _ \u001b[38;5;241m=\u001b[39m dtl\u001b[38;5;241m.\u001b[39mmaybe_infer_freq(freq)\n\u001b[0;32m--> 275\u001b[0m tdarr \u001b[38;5;241m=\u001b[39m \u001b[43mTimedeltaArray\u001b[49m\u001b[38;5;241;43m.\u001b[39;49m\u001b[43m_generate_range\u001b[49m\u001b[43m(\u001b[49m\u001b[43mstart\u001b[49m\u001b[43m,\u001b[49m\u001b[43m \u001b[49m\u001b[43mend\u001b[49m\u001b[43m,\u001b[49m\u001b[43m \u001b[49m\u001b[43mperiods\u001b[49m\u001b[43m,\u001b[49m\u001b[43m \u001b[49m\u001b[43mfreq\u001b[49m\u001b[43m,\u001b[49m\u001b[43m \u001b[49m\u001b[43mclosed\u001b[49m\u001b[38;5;241;43m=\u001b[39;49m\u001b[43mclosed\u001b[49m\u001b[43m)\u001b[49m\n\u001b[1;32m    276\u001b[0m \u001b[38;5;28;01mreturn\u001b[39;00m TimedeltaIndex\u001b[38;5;241m.\u001b[39m_simple_new(tdarr, name\u001b[38;5;241m=\u001b[39mname)\n",
      "File \u001b[0;32m/usr/local/anaconda3/envs/optiml38/lib/python3.8/site-packages/pandas/core/arrays/timedeltas.py:311\u001b[0m, in \u001b[0;36mTimedeltaArray._generate_range\u001b[0;34m(cls, start, end, periods, freq, closed)\u001b[0m\n\u001b[1;32m    305\u001b[0m     \u001b[38;5;28;01mraise\u001b[39;00m \u001b[38;5;167;01mValueError\u001b[39;00m(\n\u001b[1;32m    306\u001b[0m         \u001b[38;5;124m\"\u001b[39m\u001b[38;5;124mOf the four parameters: start, end, periods, \u001b[39m\u001b[38;5;124m\"\u001b[39m\n\u001b[1;32m    307\u001b[0m         \u001b[38;5;124m\"\u001b[39m\u001b[38;5;124mand freq, exactly three must be specified\u001b[39m\u001b[38;5;124m\"\u001b[39m\n\u001b[1;32m    308\u001b[0m     )\n\u001b[1;32m    310\u001b[0m \u001b[38;5;28;01mif\u001b[39;00m start \u001b[38;5;129;01mis\u001b[39;00m \u001b[38;5;129;01mnot\u001b[39;00m \u001b[38;5;28;01mNone\u001b[39;00m:\n\u001b[0;32m--> 311\u001b[0m     start \u001b[38;5;241m=\u001b[39m \u001b[43mTimedelta\u001b[49m\u001b[43m(\u001b[49m\u001b[43mstart\u001b[49m\u001b[43m)\u001b[49m\n\u001b[1;32m    313\u001b[0m \u001b[38;5;28;01mif\u001b[39;00m end \u001b[38;5;129;01mis\u001b[39;00m \u001b[38;5;129;01mnot\u001b[39;00m \u001b[38;5;28;01mNone\u001b[39;00m:\n\u001b[1;32m    314\u001b[0m     end \u001b[38;5;241m=\u001b[39m Timedelta(end)\n",
      "File \u001b[0;32m/usr/local/anaconda3/envs/optiml38/lib/python3.8/site-packages/pandas/_libs/tslibs/timedeltas.pyx:1361\u001b[0m, in \u001b[0;36mpandas._libs.tslibs.timedeltas.Timedelta.__new__\u001b[0;34m()\u001b[0m\n",
      "\u001b[0;31mValueError\u001b[0m: Value must be Timedelta, string, integer, float, timedelta or convertible, not Timestamp"
     ]
    },
    {
     "name": "stdout",
     "output_type": "stream",
     "text": [
      "time: 53 ms (started: 2023-04-20 21:48:53 -04:00)\n"
     ]
    }
   ],
   "source": [
    "pd.timedelta_range(wh_df.era_start.min(), wh_df.era_end.max(), freq=\"1min\")\n"
   ]
  },
  {
   "cell_type": "code",
   "execution_count": 13,
   "id": "ee1a8f89-c520-42ee-b584-3840cd19365a",
   "metadata": {},
   "outputs": [
    {
     "data": {
      "text/html": [
       "<div>\n",
       "<style scoped>\n",
       "    .dataframe tbody tr th:only-of-type {\n",
       "        vertical-align: middle;\n",
       "    }\n",
       "\n",
       "    .dataframe tbody tr th {\n",
       "        vertical-align: top;\n",
       "    }\n",
       "\n",
       "    .dataframe thead th {\n",
       "        text-align: right;\n",
       "    }\n",
       "</style>\n",
       "<table border=\"1\" class=\"dataframe\">\n",
       "  <thead>\n",
       "    <tr style=\"text-align: right;\">\n",
       "      <th></th>\n",
       "      <th>era_start</th>\n",
       "      <th>era_end</th>\n",
       "    </tr>\n",
       "  </thead>\n",
       "  <tbody>\n",
       "    <tr>\n",
       "      <th>0</th>\n",
       "      <td>2023-04-10 16:44:00</td>\n",
       "      <td>2023-04-10 16:44:10</td>\n",
       "    </tr>\n",
       "    <tr>\n",
       "      <th>1</th>\n",
       "      <td>2023-04-10 16:44:15</td>\n",
       "      <td>2023-04-10 16:44:25</td>\n",
       "    </tr>\n",
       "    <tr>\n",
       "      <th>2</th>\n",
       "      <td>2023-04-10 16:44:55</td>\n",
       "      <td>2023-04-10 16:45:05</td>\n",
       "    </tr>\n",
       "    <tr>\n",
       "      <th>3</th>\n",
       "      <td>2023-04-10 16:45:15</td>\n",
       "      <td>2023-04-10 16:45:25</td>\n",
       "    </tr>\n",
       "  </tbody>\n",
       "</table>\n",
       "</div>"
      ],
      "text/plain": [
       "            era_start             era_end\n",
       "0 2023-04-10 16:44:00 2023-04-10 16:44:10\n",
       "1 2023-04-10 16:44:15 2023-04-10 16:44:25\n",
       "2 2023-04-10 16:44:55 2023-04-10 16:45:05\n",
       "3 2023-04-10 16:45:15 2023-04-10 16:45:25"
      ]
     },
     "execution_count": 13,
     "metadata": {},
     "output_type": "execute_result"
    },
    {
     "name": "stdout",
     "output_type": "stream",
     "text": [
      "time: 103 ms (started: 2023-04-27 01:28:16 -04:00)\n"
     ]
    }
   ],
   "source": [
    "from pandas import Timestamp\n",
    "query_eras = \\\n",
    "[(Timestamp('2023-04-10 16:44:00'), Timestamp('2023-04-10 16:44:10')),\n",
    " (Timestamp('2023-04-10 16:44:15'), Timestamp('2023-04-10 16:44:25')),\n",
    " (Timestamp('2023-04-10 16:44:55'), Timestamp('2023-04-10 16:45:05')),\n",
    " (Timestamp('2023-04-10 16:45:15'), Timestamp('2023-04-10 16:45:25'))]\n",
    "\n",
    "qdf = pd.DataFrame(query_eras, columns=['era_start', 'era_end'])\n",
    "qdf"
   ]
  },
  {
   "cell_type": "code",
   "execution_count": 8,
   "id": "0dd903f6-b7f3-4c83-ab4d-78bc0dc08bee",
   "metadata": {},
   "outputs": [
    {
     "name": "stdout",
     "output_type": "stream",
     "text": [
      "Requirement already satisfied: duckdb in /usr/local/anaconda3/envs/optiml38/lib/python3.8/site-packages (0.7.1)\n",
      "Note: you may need to restart the kernel to use updated packages.\n",
      "time: 2.28 s (started: 2023-04-24 11:20:37 -04:00)\n"
     ]
    }
   ],
   "source": [
    "# %pip install duckdb"
   ]
  },
  {
   "cell_type": "code",
   "execution_count": 18,
   "id": "60bbd44c-8458-4470-9e88-a66e7fa619ca",
   "metadata": {},
   "outputs": [
    {
     "data": {
      "text/html": [
       "<div>\n",
       "<style scoped>\n",
       "    .dataframe tbody tr th:only-of-type {\n",
       "        vertical-align: middle;\n",
       "    }\n",
       "\n",
       "    .dataframe tbody tr th {\n",
       "        vertical-align: top;\n",
       "    }\n",
       "\n",
       "    .dataframe thead th {\n",
       "        text-align: right;\n",
       "    }\n",
       "</style>\n",
       "<table border=\"1\" class=\"dataframe\">\n",
       "  <thead>\n",
       "    <tr style=\"text-align: right;\">\n",
       "      <th></th>\n",
       "      <th>timestamp</th>\n",
       "      <th>event_type</th>\n",
       "    </tr>\n",
       "  </thead>\n",
       "  <tbody>\n",
       "    <tr>\n",
       "      <th>0</th>\n",
       "      <td>2023-04-10 16:44:00</td>\n",
       "      <td>resume</td>\n",
       "    </tr>\n",
       "    <tr>\n",
       "      <th>1</th>\n",
       "      <td>2023-04-10 16:45:06</td>\n",
       "      <td>suspend</td>\n",
       "    </tr>\n",
       "    <tr>\n",
       "      <th>2</th>\n",
       "      <td>2023-04-10 16:45:15</td>\n",
       "      <td>resume</td>\n",
       "    </tr>\n",
       "    <tr>\n",
       "      <th>3</th>\n",
       "      <td>2023-04-10 16:46:15</td>\n",
       "      <td>suspend</td>\n",
       "    </tr>\n",
       "  </tbody>\n",
       "</table>\n",
       "</div>"
      ],
      "text/plain": [
       "            timestamp event_type\n",
       "0 2023-04-10 16:44:00     resume\n",
       "1 2023-04-10 16:45:06    suspend\n",
       "2 2023-04-10 16:45:15     resume\n",
       "3 2023-04-10 16:46:15    suspend"
      ]
     },
     "execution_count": 18,
     "metadata": {},
     "output_type": "execute_result"
    },
    {
     "name": "stdout",
     "output_type": "stream",
     "text": [
      "time: 229 ms (started: 2023-04-27 01:39:31 -04:00)\n"
     ]
    }
   ],
   "source": [
    "import snowflake.snowpark.functions as F\n",
    "import snowflake.snowpark.dataframe\n",
    "\n",
    "polling_sec = 1\n",
    "# where warehouse_id in (\n",
    "#     select warehouse_id from (\n",
    "#         select top 10\n",
    "#             warehouse_id,\n",
    "#             warehouse_name,\n",
    "#             sum(dollars_used)\n",
    "#         from warehouse_metering_history_enriched\n",
    "#         group by 1,2 order by 3 desc\n",
    "#     )\n",
    "\n",
    "\n",
    "def greedy_suspend(query_eras, autosuspend_sec):\n",
    "    started = False\n",
    "    resumed_on = None\n",
    "    previous_end = None\n",
    "    dt = Timedelta(seconds=autosuspend_sec)\n",
    "    events = []\n",
    "    for (start, end) in query_eras:\n",
    "        # first process events between previous_end and start\n",
    "        # suspend happens at: \n",
    "        # previous_end + 2*polling_period, as long as we're after resumed_on + 60 + 2*polling_period, \n",
    "        if started:\n",
    "            timediff = start - previous_end \n",
    "            if timediff > dt:\n",
    "                suspend_time = previous_end + dt\n",
    "                started = False\n",
    "                events.append((suspend_time, 'suspend'))\n",
    "\n",
    "        if not started:\n",
    "            started = True\n",
    "            resumed_on = start\n",
    "            events.append((resumed_on, 'resume'))\n",
    "\n",
    "        previous_end = end\n",
    "    \n",
    "    if started:\n",
    "        suspend_time = previous_end + dt\n",
    "        started = False\n",
    "        events.append((suspend_time, 'suspend')) \n",
    "        \n",
    "    events_df = pd.DataFrame(events, columns=['timestamp', 'event_type'])\n",
    "    return events_df\n",
    "\n",
    "def snowflake_suspend(query_eras, autosuspend_sec):\n",
    "#     dt = Timedelta(seconds=autosuspend_sec)\n",
    "#     sixty = Timedelta(seconds=60)\n",
    "    return greedy_suspend(query_eras, max(autosuspend_sec, 30))\n",
    "\n",
    "def smart_suspend(query_eras, polling_sec):\n",
    "    started = False\n",
    "    running = 0\n",
    "    resumed_on = None\n",
    "\n",
    "    previous_end = None\n",
    "    resumed_plus_sixty = None\n",
    "    events = []\n",
    "    for (start, end) in query_eras:\n",
    "        \n",
    "        # first process events between previous_end and start\n",
    "        # suspend happens at: \n",
    "        # previous_end + 2*polling_period, as long as we're after resumed_on + 60 + 2*polling_period, \n",
    "\n",
    "        if started:\n",
    "            first_check_after_previous_end = previous_end + 1*Timedelta(seconds=polling_sec)\n",
    "            earliest_possible_suspend = max(first_check_after_previous_end, resumed_plus_sixty)\n",
    "            if earliest_possible_suspend < start:\n",
    "                started = False\n",
    "                events.append((earliest_possible_suspend, 'suspend'))\n",
    "\n",
    "        if not started:\n",
    "            started = True\n",
    "            resumed_on = start\n",
    "            resumed_plus_sixty = resumed_on + Timedelta(seconds=60)\n",
    "            events.append((resumed_on, 'resume'))\n",
    "\n",
    "        previous_end = end\n",
    "    \n",
    "    if started:\n",
    "        first_check_after_previous_end = previous_end + 1*Timedelta(seconds=polling_sec)\n",
    "        earliest_possible_suspend = max(first_check_after_previous_end, resumed_plus_sixty)\n",
    "        events.append((earliest_possible_suspend, 'suspend'))\n",
    "\n",
    "\n",
    "    events_df = pd.DataFrame(events, columns=['timestamp', 'event_type'])\n",
    "    return events_df\n",
    "\n",
    "def wh_events_sim(df):\n",
    "    warehouse_event_dfs = []\n",
    "    for warehouse_id in df.warehouse_id.unique():\n",
    "        print(warehouse_id)\n",
    "        wh_df = df[df.warehouse_id == warehouse_id].sort_values('era_start', ascending=True)\n",
    "\n",
    "        eras = list(zip(wh_df.era_start, wh_df.era_end))\n",
    "\n",
    "        strategy = {'type': 'greedy_after_one_min', 'polling_sec': polling_sec}\n",
    "\n",
    "        events_df = smart_suspend(eras, polling_sec)\n",
    "        events_df['strategy'] = str(strategy)\n",
    "        events_df['warehouse_id'] = warehouse_id\n",
    "        warehouse_event_dfs.append(events_df)\n",
    "\n",
    "        # autosuspend_sec = 60\n",
    "        for autosuspend_sec in [30, 60, 120]:\n",
    "\n",
    "            strategy = {'type': 'greedy', 'autosuspend_sec': autosuspend_sec}\n",
    "            # print(strategy)\n",
    "            events_df = greedy_suspend(eras, autosuspend_sec)\n",
    "            events_df['strategy'] = str(strategy)\n",
    "            events_df['warehouse_id'] = warehouse_id\n",
    "            warehouse_event_dfs.append(events_df)\n",
    "\n",
    "            strategy = {'type': 'snowflake', 'autosuspend_sec': autosuspend_sec}\n",
    "            # print(strategy)\n",
    "            events_df = snowflake_suspend(eras, autosuspend_sec)\n",
    "            events_df['strategy'] = str(strategy)\n",
    "            events_df['warehouse_id'] = warehouse_id\n",
    "            warehouse_event_dfs.append(events_df)\n",
    "\n",
    "    final_df = pd.concat(warehouse_event_dfs)\n",
    "\n",
    "    def uppercase_all_columns(df: snowflake.snowpark.dataframe) -> snowflake.snowpark.dataframe:\n",
    "        return df.select([F.col(column).as_(column.upper()) for column in df.columns])\n",
    "\n",
    "    final_df.timestamp = final_df.timestamp.map(str)\n",
    "    return final_df\n",
    "#     df = session.create_dataframe(final_df)\n",
    "#     uppercase_all_columns(df).write.mode(\"overwrite\").save_as_table(\"wh_events_sim_python\")\n",
    "\n",
    "\n",
    "fast_simulation_df = smart_suspend(query_eras, 1)\n",
    "fast_simulation_df"
   ]
  },
  {
   "cell_type": "code",
   "execution_count": 15,
   "id": "f6fb986e-1baa-4d3c-af33-8fb4d9825a68",
   "metadata": {},
   "outputs": [
    {
     "data": {
      "application/vnd.plotly.v1+json": {
       "config": {
        "plotlyServerURL": "https://plot.ly"
       },
       "data": [
        {
         "hovertemplate": "ts=%{x}<br>active=%{y}<extra></extra>",
         "legendgroup": "",
         "marker": {
          "color": "#636efa",
          "symbol": "circle"
         },
         "mode": "markers",
         "name": "",
         "orientation": "v",
         "showlegend": false,
         "type": "scatter",
         "x": [
          "2023-04-10T16:44:00",
          "2023-04-10T16:44:01",
          "2023-04-10T16:44:02",
          "2023-04-10T16:44:03",
          "2023-04-10T16:44:04",
          "2023-04-10T16:44:05",
          "2023-04-10T16:44:06",
          "2023-04-10T16:44:07",
          "2023-04-10T16:44:08",
          "2023-04-10T16:44:09",
          "2023-04-10T16:44:10",
          "2023-04-10T16:44:11",
          "2023-04-10T16:44:12",
          "2023-04-10T16:44:13",
          "2023-04-10T16:44:14",
          "2023-04-10T16:44:15",
          "2023-04-10T16:44:16",
          "2023-04-10T16:44:17",
          "2023-04-10T16:44:18",
          "2023-04-10T16:44:19",
          "2023-04-10T16:44:20",
          "2023-04-10T16:44:21",
          "2023-04-10T16:44:22",
          "2023-04-10T16:44:23",
          "2023-04-10T16:44:24",
          "2023-04-10T16:44:25",
          "2023-04-10T16:44:26",
          "2023-04-10T16:44:27",
          "2023-04-10T16:44:28",
          "2023-04-10T16:44:29",
          "2023-04-10T16:44:30",
          "2023-04-10T16:44:31",
          "2023-04-10T16:44:32",
          "2023-04-10T16:44:33",
          "2023-04-10T16:44:34",
          "2023-04-10T16:44:35",
          "2023-04-10T16:44:36",
          "2023-04-10T16:44:37",
          "2023-04-10T16:44:38",
          "2023-04-10T16:44:39",
          "2023-04-10T16:44:40",
          "2023-04-10T16:44:41",
          "2023-04-10T16:44:42",
          "2023-04-10T16:44:43",
          "2023-04-10T16:44:44",
          "2023-04-10T16:44:45",
          "2023-04-10T16:44:46",
          "2023-04-10T16:44:47",
          "2023-04-10T16:44:48",
          "2023-04-10T16:44:49",
          "2023-04-10T16:44:50",
          "2023-04-10T16:44:51",
          "2023-04-10T16:44:52",
          "2023-04-10T16:44:53",
          "2023-04-10T16:44:54",
          "2023-04-10T16:44:55",
          "2023-04-10T16:44:56",
          "2023-04-10T16:44:57",
          "2023-04-10T16:44:58",
          "2023-04-10T16:44:59",
          "2023-04-10T16:45:00",
          "2023-04-10T16:45:01",
          "2023-04-10T16:45:02",
          "2023-04-10T16:45:03",
          "2023-04-10T16:45:04",
          "2023-04-10T16:45:05",
          "2023-04-10T16:45:06",
          "2023-04-10T16:45:07",
          "2023-04-10T16:45:08",
          "2023-04-10T16:45:09",
          "2023-04-10T16:45:10",
          "2023-04-10T16:45:11",
          "2023-04-10T16:45:12",
          "2023-04-10T16:45:13",
          "2023-04-10T16:45:14",
          "2023-04-10T16:45:15",
          "2023-04-10T16:45:16",
          "2023-04-10T16:45:17",
          "2023-04-10T16:45:18",
          "2023-04-10T16:45:19",
          "2023-04-10T16:45:20",
          "2023-04-10T16:45:21",
          "2023-04-10T16:45:22",
          "2023-04-10T16:45:23",
          "2023-04-10T16:45:24",
          "2023-04-10T16:45:25",
          "2023-04-10T16:45:26",
          "2023-04-10T16:45:27",
          "2023-04-10T16:45:28",
          "2023-04-10T16:45:29",
          "2023-04-10T16:45:30",
          "2023-04-10T16:45:31",
          "2023-04-10T16:45:32",
          "2023-04-10T16:45:33",
          "2023-04-10T16:45:34",
          "2023-04-10T16:45:35",
          "2023-04-10T16:45:36",
          "2023-04-10T16:45:37",
          "2023-04-10T16:45:38",
          "2023-04-10T16:45:39",
          "2023-04-10T16:45:40",
          "2023-04-10T16:45:41",
          "2023-04-10T16:45:42",
          "2023-04-10T16:45:43",
          "2023-04-10T16:45:44",
          "2023-04-10T16:45:45",
          "2023-04-10T16:45:46",
          "2023-04-10T16:45:47",
          "2023-04-10T16:45:48",
          "2023-04-10T16:45:49",
          "2023-04-10T16:45:50",
          "2023-04-10T16:45:51",
          "2023-04-10T16:45:52",
          "2023-04-10T16:45:53",
          "2023-04-10T16:45:54",
          "2023-04-10T16:45:55",
          "2023-04-10T16:45:56",
          "2023-04-10T16:45:57",
          "2023-04-10T16:45:58",
          "2023-04-10T16:45:59",
          "2023-04-10T16:46:00",
          "2023-04-10T16:46:01",
          "2023-04-10T16:46:02",
          "2023-04-10T16:46:03",
          "2023-04-10T16:46:04",
          "2023-04-10T16:46:05",
          "2023-04-10T16:46:06",
          "2023-04-10T16:46:07",
          "2023-04-10T16:46:08",
          "2023-04-10T16:46:09",
          "2023-04-10T16:46:10",
          "2023-04-10T16:46:11",
          "2023-04-10T16:46:12",
          "2023-04-10T16:46:13",
          "2023-04-10T16:46:14",
          "2023-04-10T16:46:15",
          "2023-04-10T16:46:16",
          "2023-04-10T16:46:17",
          "2023-04-10T16:46:18",
          "2023-04-10T16:46:19",
          "2023-04-10T16:46:20",
          "2023-04-10T16:46:21",
          "2023-04-10T16:46:22",
          "2023-04-10T16:46:23",
          "2023-04-10T16:46:24",
          "2023-04-10T16:46:25",
          "2023-04-10T16:46:26",
          "2023-04-10T16:46:27",
          "2023-04-10T16:46:28",
          "2023-04-10T16:46:29",
          "2023-04-10T16:46:30",
          "2023-04-10T16:46:31",
          "2023-04-10T16:46:32",
          "2023-04-10T16:46:33",
          "2023-04-10T16:46:34",
          "2023-04-10T16:46:35",
          "2023-04-10T16:46:36",
          "2023-04-10T16:46:37",
          "2023-04-10T16:46:38",
          "2023-04-10T16:46:39",
          "2023-04-10T16:46:40",
          "2023-04-10T16:46:41",
          "2023-04-10T16:46:42",
          "2023-04-10T16:46:43",
          "2023-04-10T16:46:44",
          "2023-04-10T16:46:45",
          "2023-04-10T16:46:46",
          "2023-04-10T16:46:47",
          "2023-04-10T16:46:48",
          "2023-04-10T16:46:49",
          "2023-04-10T16:46:50",
          "2023-04-10T16:46:51",
          "2023-04-10T16:46:52",
          "2023-04-10T16:46:53",
          "2023-04-10T16:46:54",
          "2023-04-10T16:46:55"
         ],
         "xaxis": "x",
         "y": [
          true,
          true,
          true,
          true,
          true,
          true,
          true,
          true,
          true,
          true,
          true,
          false,
          false,
          false,
          false,
          true,
          true,
          true,
          true,
          true,
          true,
          true,
          true,
          true,
          true,
          true,
          false,
          false,
          false,
          false,
          false,
          false,
          false,
          false,
          false,
          false,
          false,
          false,
          false,
          false,
          false,
          false,
          false,
          false,
          false,
          false,
          false,
          false,
          false,
          false,
          false,
          false,
          false,
          false,
          false,
          true,
          true,
          true,
          true,
          true,
          true,
          true,
          true,
          true,
          true,
          true,
          false,
          false,
          false,
          false,
          false,
          false,
          false,
          false,
          false,
          true,
          true,
          true,
          true,
          true,
          true,
          true,
          true,
          true,
          true,
          true,
          false,
          false,
          false,
          false,
          false,
          false,
          false,
          false,
          false,
          false,
          false,
          false,
          false,
          false,
          false,
          false,
          false,
          false,
          false,
          false,
          false,
          false,
          false,
          false,
          false,
          false,
          false,
          false,
          false,
          false,
          false,
          false,
          false,
          false,
          false,
          false,
          false,
          false,
          false,
          false,
          false,
          false,
          false,
          false,
          false,
          false,
          false,
          false,
          false,
          false,
          false,
          false,
          false,
          false,
          false,
          false,
          false,
          false,
          false,
          false,
          false,
          false,
          false,
          false,
          false,
          false,
          false,
          false,
          false,
          false,
          false,
          false,
          false,
          false,
          false,
          false,
          false,
          false,
          false,
          false,
          false,
          false,
          false,
          false,
          false,
          false,
          false,
          false,
          false,
          false
         ],
         "yaxis": "y"
        }
       ],
       "layout": {
        "autosize": true,
        "legend": {
         "tracegroupgap": 0
        },
        "margin": {
         "t": 60
        },
        "template": {
         "data": {
          "bar": [
           {
            "error_x": {
             "color": "#2a3f5f"
            },
            "error_y": {
             "color": "#2a3f5f"
            },
            "marker": {
             "line": {
              "color": "#E5ECF6",
              "width": 0.5
             },
             "pattern": {
              "fillmode": "overlay",
              "size": 10,
              "solidity": 0.2
             }
            },
            "type": "bar"
           }
          ],
          "barpolar": [
           {
            "marker": {
             "line": {
              "color": "#E5ECF6",
              "width": 0.5
             },
             "pattern": {
              "fillmode": "overlay",
              "size": 10,
              "solidity": 0.2
             }
            },
            "type": "barpolar"
           }
          ],
          "carpet": [
           {
            "aaxis": {
             "endlinecolor": "#2a3f5f",
             "gridcolor": "white",
             "linecolor": "white",
             "minorgridcolor": "white",
             "startlinecolor": "#2a3f5f"
            },
            "baxis": {
             "endlinecolor": "#2a3f5f",
             "gridcolor": "white",
             "linecolor": "white",
             "minorgridcolor": "white",
             "startlinecolor": "#2a3f5f"
            },
            "type": "carpet"
           }
          ],
          "choropleth": [
           {
            "colorbar": {
             "outlinewidth": 0,
             "ticks": ""
            },
            "type": "choropleth"
           }
          ],
          "contour": [
           {
            "colorbar": {
             "outlinewidth": 0,
             "ticks": ""
            },
            "colorscale": [
             [
              0,
              "#0d0887"
             ],
             [
              0.1111111111111111,
              "#46039f"
             ],
             [
              0.2222222222222222,
              "#7201a8"
             ],
             [
              0.3333333333333333,
              "#9c179e"
             ],
             [
              0.4444444444444444,
              "#bd3786"
             ],
             [
              0.5555555555555556,
              "#d8576b"
             ],
             [
              0.6666666666666666,
              "#ed7953"
             ],
             [
              0.7777777777777778,
              "#fb9f3a"
             ],
             [
              0.8888888888888888,
              "#fdca26"
             ],
             [
              1,
              "#f0f921"
             ]
            ],
            "type": "contour"
           }
          ],
          "contourcarpet": [
           {
            "colorbar": {
             "outlinewidth": 0,
             "ticks": ""
            },
            "type": "contourcarpet"
           }
          ],
          "heatmap": [
           {
            "colorbar": {
             "outlinewidth": 0,
             "ticks": ""
            },
            "colorscale": [
             [
              0,
              "#0d0887"
             ],
             [
              0.1111111111111111,
              "#46039f"
             ],
             [
              0.2222222222222222,
              "#7201a8"
             ],
             [
              0.3333333333333333,
              "#9c179e"
             ],
             [
              0.4444444444444444,
              "#bd3786"
             ],
             [
              0.5555555555555556,
              "#d8576b"
             ],
             [
              0.6666666666666666,
              "#ed7953"
             ],
             [
              0.7777777777777778,
              "#fb9f3a"
             ],
             [
              0.8888888888888888,
              "#fdca26"
             ],
             [
              1,
              "#f0f921"
             ]
            ],
            "type": "heatmap"
           }
          ],
          "heatmapgl": [
           {
            "colorbar": {
             "outlinewidth": 0,
             "ticks": ""
            },
            "colorscale": [
             [
              0,
              "#0d0887"
             ],
             [
              0.1111111111111111,
              "#46039f"
             ],
             [
              0.2222222222222222,
              "#7201a8"
             ],
             [
              0.3333333333333333,
              "#9c179e"
             ],
             [
              0.4444444444444444,
              "#bd3786"
             ],
             [
              0.5555555555555556,
              "#d8576b"
             ],
             [
              0.6666666666666666,
              "#ed7953"
             ],
             [
              0.7777777777777778,
              "#fb9f3a"
             ],
             [
              0.8888888888888888,
              "#fdca26"
             ],
             [
              1,
              "#f0f921"
             ]
            ],
            "type": "heatmapgl"
           }
          ],
          "histogram": [
           {
            "marker": {
             "pattern": {
              "fillmode": "overlay",
              "size": 10,
              "solidity": 0.2
             }
            },
            "type": "histogram"
           }
          ],
          "histogram2d": [
           {
            "colorbar": {
             "outlinewidth": 0,
             "ticks": ""
            },
            "colorscale": [
             [
              0,
              "#0d0887"
             ],
             [
              0.1111111111111111,
              "#46039f"
             ],
             [
              0.2222222222222222,
              "#7201a8"
             ],
             [
              0.3333333333333333,
              "#9c179e"
             ],
             [
              0.4444444444444444,
              "#bd3786"
             ],
             [
              0.5555555555555556,
              "#d8576b"
             ],
             [
              0.6666666666666666,
              "#ed7953"
             ],
             [
              0.7777777777777778,
              "#fb9f3a"
             ],
             [
              0.8888888888888888,
              "#fdca26"
             ],
             [
              1,
              "#f0f921"
             ]
            ],
            "type": "histogram2d"
           }
          ],
          "histogram2dcontour": [
           {
            "colorbar": {
             "outlinewidth": 0,
             "ticks": ""
            },
            "colorscale": [
             [
              0,
              "#0d0887"
             ],
             [
              0.1111111111111111,
              "#46039f"
             ],
             [
              0.2222222222222222,
              "#7201a8"
             ],
             [
              0.3333333333333333,
              "#9c179e"
             ],
             [
              0.4444444444444444,
              "#bd3786"
             ],
             [
              0.5555555555555556,
              "#d8576b"
             ],
             [
              0.6666666666666666,
              "#ed7953"
             ],
             [
              0.7777777777777778,
              "#fb9f3a"
             ],
             [
              0.8888888888888888,
              "#fdca26"
             ],
             [
              1,
              "#f0f921"
             ]
            ],
            "type": "histogram2dcontour"
           }
          ],
          "mesh3d": [
           {
            "colorbar": {
             "outlinewidth": 0,
             "ticks": ""
            },
            "type": "mesh3d"
           }
          ],
          "parcoords": [
           {
            "line": {
             "colorbar": {
              "outlinewidth": 0,
              "ticks": ""
             }
            },
            "type": "parcoords"
           }
          ],
          "pie": [
           {
            "automargin": true,
            "type": "pie"
           }
          ],
          "scatter": [
           {
            "fillpattern": {
             "fillmode": "overlay",
             "size": 10,
             "solidity": 0.2
            },
            "type": "scatter"
           }
          ],
          "scatter3d": [
           {
            "line": {
             "colorbar": {
              "outlinewidth": 0,
              "ticks": ""
             }
            },
            "marker": {
             "colorbar": {
              "outlinewidth": 0,
              "ticks": ""
             }
            },
            "type": "scatter3d"
           }
          ],
          "scattercarpet": [
           {
            "marker": {
             "colorbar": {
              "outlinewidth": 0,
              "ticks": ""
             }
            },
            "type": "scattercarpet"
           }
          ],
          "scattergeo": [
           {
            "marker": {
             "colorbar": {
              "outlinewidth": 0,
              "ticks": ""
             }
            },
            "type": "scattergeo"
           }
          ],
          "scattergl": [
           {
            "marker": {
             "colorbar": {
              "outlinewidth": 0,
              "ticks": ""
             }
            },
            "type": "scattergl"
           }
          ],
          "scattermapbox": [
           {
            "marker": {
             "colorbar": {
              "outlinewidth": 0,
              "ticks": ""
             }
            },
            "type": "scattermapbox"
           }
          ],
          "scatterpolar": [
           {
            "marker": {
             "colorbar": {
              "outlinewidth": 0,
              "ticks": ""
             }
            },
            "type": "scatterpolar"
           }
          ],
          "scatterpolargl": [
           {
            "marker": {
             "colorbar": {
              "outlinewidth": 0,
              "ticks": ""
             }
            },
            "type": "scatterpolargl"
           }
          ],
          "scatterternary": [
           {
            "marker": {
             "colorbar": {
              "outlinewidth": 0,
              "ticks": ""
             }
            },
            "type": "scatterternary"
           }
          ],
          "surface": [
           {
            "colorbar": {
             "outlinewidth": 0,
             "ticks": ""
            },
            "colorscale": [
             [
              0,
              "#0d0887"
             ],
             [
              0.1111111111111111,
              "#46039f"
             ],
             [
              0.2222222222222222,
              "#7201a8"
             ],
             [
              0.3333333333333333,
              "#9c179e"
             ],
             [
              0.4444444444444444,
              "#bd3786"
             ],
             [
              0.5555555555555556,
              "#d8576b"
             ],
             [
              0.6666666666666666,
              "#ed7953"
             ],
             [
              0.7777777777777778,
              "#fb9f3a"
             ],
             [
              0.8888888888888888,
              "#fdca26"
             ],
             [
              1,
              "#f0f921"
             ]
            ],
            "type": "surface"
           }
          ],
          "table": [
           {
            "cells": {
             "fill": {
              "color": "#EBF0F8"
             },
             "line": {
              "color": "white"
             }
            },
            "header": {
             "fill": {
              "color": "#C8D4E3"
             },
             "line": {
              "color": "white"
             }
            },
            "type": "table"
           }
          ]
         },
         "layout": {
          "annotationdefaults": {
           "arrowcolor": "#2a3f5f",
           "arrowhead": 0,
           "arrowwidth": 1
          },
          "autotypenumbers": "strict",
          "coloraxis": {
           "colorbar": {
            "outlinewidth": 0,
            "ticks": ""
           }
          },
          "colorscale": {
           "diverging": [
            [
             0,
             "#8e0152"
            ],
            [
             0.1,
             "#c51b7d"
            ],
            [
             0.2,
             "#de77ae"
            ],
            [
             0.3,
             "#f1b6da"
            ],
            [
             0.4,
             "#fde0ef"
            ],
            [
             0.5,
             "#f7f7f7"
            ],
            [
             0.6,
             "#e6f5d0"
            ],
            [
             0.7,
             "#b8e186"
            ],
            [
             0.8,
             "#7fbc41"
            ],
            [
             0.9,
             "#4d9221"
            ],
            [
             1,
             "#276419"
            ]
           ],
           "sequential": [
            [
             0,
             "#0d0887"
            ],
            [
             0.1111111111111111,
             "#46039f"
            ],
            [
             0.2222222222222222,
             "#7201a8"
            ],
            [
             0.3333333333333333,
             "#9c179e"
            ],
            [
             0.4444444444444444,
             "#bd3786"
            ],
            [
             0.5555555555555556,
             "#d8576b"
            ],
            [
             0.6666666666666666,
             "#ed7953"
            ],
            [
             0.7777777777777778,
             "#fb9f3a"
            ],
            [
             0.8888888888888888,
             "#fdca26"
            ],
            [
             1,
             "#f0f921"
            ]
           ],
           "sequentialminus": [
            [
             0,
             "#0d0887"
            ],
            [
             0.1111111111111111,
             "#46039f"
            ],
            [
             0.2222222222222222,
             "#7201a8"
            ],
            [
             0.3333333333333333,
             "#9c179e"
            ],
            [
             0.4444444444444444,
             "#bd3786"
            ],
            [
             0.5555555555555556,
             "#d8576b"
            ],
            [
             0.6666666666666666,
             "#ed7953"
            ],
            [
             0.7777777777777778,
             "#fb9f3a"
            ],
            [
             0.8888888888888888,
             "#fdca26"
            ],
            [
             1,
             "#f0f921"
            ]
           ]
          },
          "colorway": [
           "#636efa",
           "#EF553B",
           "#00cc96",
           "#ab63fa",
           "#FFA15A",
           "#19d3f3",
           "#FF6692",
           "#B6E880",
           "#FF97FF",
           "#FECB52"
          ],
          "font": {
           "color": "#2a3f5f"
          },
          "geo": {
           "bgcolor": "white",
           "lakecolor": "white",
           "landcolor": "#E5ECF6",
           "showlakes": true,
           "showland": true,
           "subunitcolor": "white"
          },
          "hoverlabel": {
           "align": "left"
          },
          "hovermode": "closest",
          "mapbox": {
           "style": "light"
          },
          "paper_bgcolor": "white",
          "plot_bgcolor": "#E5ECF6",
          "polar": {
           "angularaxis": {
            "gridcolor": "white",
            "linecolor": "white",
            "ticks": ""
           },
           "bgcolor": "#E5ECF6",
           "radialaxis": {
            "gridcolor": "white",
            "linecolor": "white",
            "ticks": ""
           }
          },
          "scene": {
           "xaxis": {
            "backgroundcolor": "#E5ECF6",
            "gridcolor": "white",
            "gridwidth": 2,
            "linecolor": "white",
            "showbackground": true,
            "ticks": "",
            "zerolinecolor": "white"
           },
           "yaxis": {
            "backgroundcolor": "#E5ECF6",
            "gridcolor": "white",
            "gridwidth": 2,
            "linecolor": "white",
            "showbackground": true,
            "ticks": "",
            "zerolinecolor": "white"
           },
           "zaxis": {
            "backgroundcolor": "#E5ECF6",
            "gridcolor": "white",
            "gridwidth": 2,
            "linecolor": "white",
            "showbackground": true,
            "ticks": "",
            "zerolinecolor": "white"
           }
          },
          "shapedefaults": {
           "line": {
            "color": "#2a3f5f"
           }
          },
          "ternary": {
           "aaxis": {
            "gridcolor": "white",
            "linecolor": "white",
            "ticks": ""
           },
           "baxis": {
            "gridcolor": "white",
            "linecolor": "white",
            "ticks": ""
           },
           "bgcolor": "#E5ECF6",
           "caxis": {
            "gridcolor": "white",
            "linecolor": "white",
            "ticks": ""
           }
          },
          "title": {
           "x": 0.05
          },
          "xaxis": {
           "automargin": true,
           "gridcolor": "white",
           "linecolor": "white",
           "ticks": "",
           "title": {
            "standoff": 15
           },
           "zerolinecolor": "white",
           "zerolinewidth": 2
          },
          "yaxis": {
           "automargin": true,
           "gridcolor": "white",
           "linecolor": "white",
           "ticks": "",
           "title": {
            "standoff": 15
           },
           "zerolinecolor": "white",
           "zerolinewidth": 2
          }
         }
        },
        "xaxis": {
         "anchor": "y",
         "autorange": true,
         "domain": [
          0,
          1
         ],
         "range": [
          "2023-04-10 16:43:49.363",
          "2023-04-10 16:47:05.637"
         ],
         "title": {
          "text": "ts"
         },
         "type": "date"
        },
        "yaxis": {
         "anchor": "x",
         "autorange": true,
         "domain": [
          0,
          1
         ],
         "range": [
          1.0774278215223096,
          -0.0774278215223097
         ],
         "title": {
          "text": "active"
         },
         "type": "category"
        }
       }
      },
      "image/png": "[encoded data removed]",
      "text/html": [
       "<div>                            <div id=\"faed18f6-6812-43c2-8f51-04debe8ee890\" class=\"plotly-graph-div\" style=\"height:525px; width:100%;\"></div>            <script type=\"text/javascript\">                require([\"plotly\"], function(Plotly) {                    window.PLOTLYENV=window.PLOTLYENV || {};                                    if (document.getElementById(\"faed18f6-6812-43c2-8f51-04debe8ee890\")) {                    Plotly.newPlot(                        \"faed18f6-6812-43c2-8f51-04debe8ee890\",                        [{\"hovertemplate\":\"ts=%{x}<br>active=%{y}<extra></extra>\",\"legendgroup\":\"\",\"marker\":{\"color\":\"#636efa\",\"symbol\":\"circle\"},\"mode\":\"markers\",\"name\":\"\",\"orientation\":\"v\",\"showlegend\":false,\"x\":[\"2023-04-10T16:44:00\",\"2023-04-10T16:44:01\",\"2023-04-10T16:44:02\",\"2023-04-10T16:44:03\",\"2023-04-10T16:44:04\",\"2023-04-10T16:44:05\",\"2023-04-10T16:44:06\",\"2023-04-10T16:44:07\",\"2023-04-10T16:44:08\",\"2023-04-10T16:44:09\",\"2023-04-10T16:44:10\",\"2023-04-10T16:44:11\",\"2023-04-10T16:44:12\",\"2023-04-10T16:44:13\",\"2023-04-10T16:44:14\",\"2023-04-10T16:44:15\",\"2023-04-10T16:44:16\",\"2023-04-10T16:44:17\",\"2023-04-10T16:44:18\",\"2023-04-10T16:44:19\",\"2023-04-10T16:44:20\",\"2023-04-10T16:44:21\",\"2023-04-10T16:44:22\",\"2023-04-10T16:44:23\",\"2023-04-10T16:44:24\",\"2023-04-10T16:44:25\",\"2023-04-10T16:44:26\",\"2023-04-10T16:44:27\",\"2023-04-10T16:44:28\",\"2023-04-10T16:44:29\",\"2023-04-10T16:44:30\",\"2023-04-10T16:44:31\",\"2023-04-10T16:44:32\",\"2023-04-10T16:44:33\",\"2023-04-10T16:44:34\",\"2023-04-10T16:44:35\",\"2023-04-10T16:44:36\",\"2023-04-10T16:44:37\",\"2023-04-10T16:44:38\",\"2023-04-10T16:44:39\",\"2023-04-10T16:44:40\",\"2023-04-10T16:44:41\",\"2023-04-10T16:44:42\",\"2023-04-10T16:44:43\",\"2023-04-10T16:44:44\",\"2023-04-10T16:44:45\",\"2023-04-10T16:44:46\",\"2023-04-10T16:44:47\",\"2023-04-10T16:44:48\",\"2023-04-10T16:44:49\",\"2023-04-10T16:44:50\",\"2023-04-10T16:44:51\",\"2023-04-10T16:44:52\",\"2023-04-10T16:44:53\",\"2023-04-10T16:44:54\",\"2023-04-10T16:44:55\",\"2023-04-10T16:44:56\",\"2023-04-10T16:44:57\",\"2023-04-10T16:44:58\",\"2023-04-10T16:44:59\",\"2023-04-10T16:45:00\",\"2023-04-10T16:45:01\",\"2023-04-10T16:45:02\",\"2023-04-10T16:45:03\",\"2023-04-10T16:45:04\",\"2023-04-10T16:45:05\",\"2023-04-10T16:45:06\",\"2023-04-10T16:45:07\",\"2023-04-10T16:45:08\",\"2023-04-10T16:45:09\",\"2023-04-10T16:45:10\",\"2023-04-10T16:45:11\",\"2023-04-10T16:45:12\",\"2023-04-10T16:45:13\",\"2023-04-10T16:45:14\",\"2023-04-10T16:45:15\",\"2023-04-10T16:45:16\",\"2023-04-10T16:45:17\",\"2023-04-10T16:45:18\",\"2023-04-10T16:45:19\",\"2023-04-10T16:45:20\",\"2023-04-10T16:45:21\",\"2023-04-10T16:45:22\",\"2023-04-10T16:45:23\",\"2023-04-10T16:45:24\",\"2023-04-10T16:45:25\",\"2023-04-10T16:45:26\",\"2023-04-10T16:45:27\",\"2023-04-10T16:45:28\",\"2023-04-10T16:45:29\",\"2023-04-10T16:45:30\",\"2023-04-10T16:45:31\",\"2023-04-10T16:45:32\",\"2023-04-10T16:45:33\",\"2023-04-10T16:45:34\",\"2023-04-10T16:45:35\",\"2023-04-10T16:45:36\",\"2023-04-10T16:45:37\",\"2023-04-10T16:45:38\",\"2023-04-10T16:45:39\",\"2023-04-10T16:45:40\",\"2023-04-10T16:45:41\",\"2023-04-10T16:45:42\",\"2023-04-10T16:45:43\",\"2023-04-10T16:45:44\",\"2023-04-10T16:45:45\",\"2023-04-10T16:45:46\",\"2023-04-10T16:45:47\",\"2023-04-10T16:45:48\",\"2023-04-10T16:45:49\",\"2023-04-10T16:45:50\",\"2023-04-10T16:45:51\",\"2023-04-10T16:45:52\",\"2023-04-10T16:45:53\",\"2023-04-10T16:45:54\",\"2023-04-10T16:45:55\",\"2023-04-10T16:45:56\",\"2023-04-10T16:45:57\",\"2023-04-10T16:45:58\",\"2023-04-10T16:45:59\",\"2023-04-10T16:46:00\",\"2023-04-10T16:46:01\",\"2023-04-10T16:46:02\",\"2023-04-10T16:46:03\",\"2023-04-10T16:46:04\",\"2023-04-10T16:46:05\",\"2023-04-10T16:46:06\",\"2023-04-10T16:46:07\",\"2023-04-10T16:46:08\",\"2023-04-10T16:46:09\",\"2023-04-10T16:46:10\",\"2023-04-10T16:46:11\",\"2023-04-10T16:46:12\",\"2023-04-10T16:46:13\",\"2023-04-10T16:46:14\",\"2023-04-10T16:46:15\",\"2023-04-10T16:46:16\",\"2023-04-10T16:46:17\",\"2023-04-10T16:46:18\",\"2023-04-10T16:46:19\",\"2023-04-10T16:46:20\",\"2023-04-10T16:46:21\",\"2023-04-10T16:46:22\",\"2023-04-10T16:46:23\",\"2023-04-10T16:46:24\",\"2023-04-10T16:46:25\",\"2023-04-10T16:46:26\",\"2023-04-10T16:46:27\",\"2023-04-10T16:46:28\",\"2023-04-10T16:46:29\",\"2023-04-10T16:46:30\",\"2023-04-10T16:46:31\",\"2023-04-10T16:46:32\",\"2023-04-10T16:46:33\",\"2023-04-10T16:46:34\",\"2023-04-10T16:46:35\",\"2023-04-10T16:46:36\",\"2023-04-10T16:46:37\",\"2023-04-10T16:46:38\",\"2023-04-10T16:46:39\",\"2023-04-10T16:46:40\",\"2023-04-10T16:46:41\",\"2023-04-10T16:46:42\",\"2023-04-10T16:46:43\",\"2023-04-10T16:46:44\",\"2023-04-10T16:46:45\",\"2023-04-10T16:46:46\",\"2023-04-10T16:46:47\",\"2023-04-10T16:46:48\",\"2023-04-10T16:46:49\",\"2023-04-10T16:46:50\",\"2023-04-10T16:46:51\",\"2023-04-10T16:46:52\",\"2023-04-10T16:46:53\",\"2023-04-10T16:46:54\",\"2023-04-10T16:46:55\"],\"xaxis\":\"x\",\"y\":[true,true,true,true,true,true,true,true,true,true,true,false,false,false,false,true,true,true,true,true,true,true,true,true,true,true,false,false,false,false,false,false,false,false,false,false,false,false,false,false,false,false,false,false,false,false,false,false,false,false,false,false,false,false,false,true,true,true,true,true,true,true,true,true,true,true,false,false,false,false,false,false,false,false,false,true,true,true,true,true,true,true,true,true,true,true,false,false,false,false,false,false,false,false,false,false,false,false,false,false,false,false,false,false,false,false,false,false,false,false,false,false,false,false,false,false,false,false,false,false,false,false,false,false,false,false,false,false,false,false,false,false,false,false,false,false,false,false,false,false,false,false,false,false,false,false,false,false,false,false,false,false,false,false,false,false,false,false,false,false,false,false,false,false,false,false,false,false,false,false,false,false,false,false,false,false],\"yaxis\":\"y\",\"type\":\"scatter\"}],                        {\"template\":{\"data\":{\"histogram2dcontour\":[{\"type\":\"histogram2dcontour\",\"colorbar\":{\"outlinewidth\":0,\"ticks\":\"\"},\"colorscale\":[[0.0,\"#0d0887\"],[0.1111111111111111,\"#46039f\"],[0.2222222222222222,\"#7201a8\"],[0.3333333333333333,\"#9c179e\"],[0.4444444444444444,\"#bd3786\"],[0.5555555555555556,\"#d8576b\"],[0.6666666666666666,\"#ed7953\"],[0.7777777777777778,\"#fb9f3a\"],[0.8888888888888888,\"#fdca26\"],[1.0,\"#f0f921\"]]}],\"choropleth\":[{\"type\":\"choropleth\",\"colorbar\":{\"outlinewidth\":0,\"ticks\":\"\"}}],\"histogram2d\":[{\"type\":\"histogram2d\",\"colorbar\":{\"outlinewidth\":0,\"ticks\":\"\"},\"colorscale\":[[0.0,\"#0d0887\"],[0.1111111111111111,\"#46039f\"],[0.2222222222222222,\"#7201a8\"],[0.3333333333333333,\"#9c179e\"],[0.4444444444444444,\"#bd3786\"],[0.5555555555555556,\"#d8576b\"],[0.6666666666666666,\"#ed7953\"],[0.7777777777777778,\"#fb9f3a\"],[0.8888888888888888,\"#fdca26\"],[1.0,\"#f0f921\"]]}],\"heatmap\":[{\"type\":\"heatmap\",\"colorbar\":{\"outlinewidth\":0,\"ticks\":\"\"},\"colorscale\":[[0.0,\"#0d0887\"],[0.1111111111111111,\"#46039f\"],[0.2222222222222222,\"#7201a8\"],[0.3333333333333333,\"#9c179e\"],[0.4444444444444444,\"#bd3786\"],[0.5555555555555556,\"#d8576b\"],[0.6666666666666666,\"#ed7953\"],[0.7777777777777778,\"#fb9f3a\"],[0.8888888888888888,\"#fdca26\"],[1.0,\"#f0f921\"]]}],\"heatmapgl\":[{\"type\":\"heatmapgl\",\"colorbar\":{\"outlinewidth\":0,\"ticks\":\"\"},\"colorscale\":[[0.0,\"#0d0887\"],[0.1111111111111111,\"#46039f\"],[0.2222222222222222,\"#7201a8\"],[0.3333333333333333,\"#9c179e\"],[0.4444444444444444,\"#bd3786\"],[0.5555555555555556,\"#d8576b\"],[0.6666666666666666,\"#ed7953\"],[0.7777777777777778,\"#fb9f3a\"],[0.8888888888888888,\"#fdca26\"],[1.0,\"#f0f921\"]]}],\"contourcarpet\":[{\"type\":\"contourcarpet\",\"colorbar\":{\"outlinewidth\":0,\"ticks\":\"\"}}],\"contour\":[{\"type\":\"contour\",\"colorbar\":{\"outlinewidth\":0,\"ticks\":\"\"},\"colorscale\":[[0.0,\"#0d0887\"],[0.1111111111111111,\"#46039f\"],[0.2222222222222222,\"#7201a8\"],[0.3333333333333333,\"#9c179e\"],[0.4444444444444444,\"#bd3786\"],[0.5555555555555556,\"#d8576b\"],[0.6666666666666666,\"#ed7953\"],[0.7777777777777778,\"#fb9f3a\"],[0.8888888888888888,\"#fdca26\"],[1.0,\"#f0f921\"]]}],\"surface\":[{\"type\":\"surface\",\"colorbar\":{\"outlinewidth\":0,\"ticks\":\"\"},\"colorscale\":[[0.0,\"#0d0887\"],[0.1111111111111111,\"#46039f\"],[0.2222222222222222,\"#7201a8\"],[0.3333333333333333,\"#9c179e\"],[0.4444444444444444,\"#bd3786\"],[0.5555555555555556,\"#d8576b\"],[0.6666666666666666,\"#ed7953\"],[0.7777777777777778,\"#fb9f3a\"],[0.8888888888888888,\"#fdca26\"],[1.0,\"#f0f921\"]]}],\"mesh3d\":[{\"type\":\"mesh3d\",\"colorbar\":{\"outlinewidth\":0,\"ticks\":\"\"}}],\"scatter\":[{\"fillpattern\":{\"fillmode\":\"overlay\",\"size\":10,\"solidity\":0.2},\"type\":\"scatter\"}],\"parcoords\":[{\"type\":\"parcoords\",\"line\":{\"colorbar\":{\"outlinewidth\":0,\"ticks\":\"\"}}}],\"scatterpolargl\":[{\"type\":\"scatterpolargl\",\"marker\":{\"colorbar\":{\"outlinewidth\":0,\"ticks\":\"\"}}}],\"bar\":[{\"error_x\":{\"color\":\"#2a3f5f\"},\"error_y\":{\"color\":\"#2a3f5f\"},\"marker\":{\"line\":{\"color\":\"#E5ECF6\",\"width\":0.5},\"pattern\":{\"fillmode\":\"overlay\",\"size\":10,\"solidity\":0.2}},\"type\":\"bar\"}],\"scattergeo\":[{\"type\":\"scattergeo\",\"marker\":{\"colorbar\":{\"outlinewidth\":0,\"ticks\":\"\"}}}],\"scatterpolar\":[{\"type\":\"scatterpolar\",\"marker\":{\"colorbar\":{\"outlinewidth\":0,\"ticks\":\"\"}}}],\"histogram\":[{\"marker\":{\"pattern\":{\"fillmode\":\"overlay\",\"size\":10,\"solidity\":0.2}},\"type\":\"histogram\"}],\"scattergl\":[{\"type\":\"scattergl\",\"marker\":{\"colorbar\":{\"outlinewidth\":0,\"ticks\":\"\"}}}],\"scatter3d\":[{\"type\":\"scatter3d\",\"line\":{\"colorbar\":{\"outlinewidth\":0,\"ticks\":\"\"}},\"marker\":{\"colorbar\":{\"outlinewidth\":0,\"ticks\":\"\"}}}],\"scattermapbox\":[{\"type\":\"scattermapbox\",\"marker\":{\"colorbar\":{\"outlinewidth\":0,\"ticks\":\"\"}}}],\"scatterternary\":[{\"type\":\"scatterternary\",\"marker\":{\"colorbar\":{\"outlinewidth\":0,\"ticks\":\"\"}}}],\"scattercarpet\":[{\"type\":\"scattercarpet\",\"marker\":{\"colorbar\":{\"outlinewidth\":0,\"ticks\":\"\"}}}],\"carpet\":[{\"aaxis\":{\"endlinecolor\":\"#2a3f5f\",\"gridcolor\":\"white\",\"linecolor\":\"white\",\"minorgridcolor\":\"white\",\"startlinecolor\":\"#2a3f5f\"},\"baxis\":{\"endlinecolor\":\"#2a3f5f\",\"gridcolor\":\"white\",\"linecolor\":\"white\",\"minorgridcolor\":\"white\",\"startlinecolor\":\"#2a3f5f\"},\"type\":\"carpet\"}],\"table\":[{\"cells\":{\"fill\":{\"color\":\"#EBF0F8\"},\"line\":{\"color\":\"white\"}},\"header\":{\"fill\":{\"color\":\"#C8D4E3\"},\"line\":{\"color\":\"white\"}},\"type\":\"table\"}],\"barpolar\":[{\"marker\":{\"line\":{\"color\":\"#E5ECF6\",\"width\":0.5},\"pattern\":{\"fillmode\":\"overlay\",\"size\":10,\"solidity\":0.2}},\"type\":\"barpolar\"}],\"pie\":[{\"automargin\":true,\"type\":\"pie\"}]},\"layout\":{\"autotypenumbers\":\"strict\",\"colorway\":[\"#636efa\",\"#EF553B\",\"#00cc96\",\"#ab63fa\",\"#FFA15A\",\"#19d3f3\",\"#FF6692\",\"#B6E880\",\"#FF97FF\",\"#FECB52\"],\"font\":{\"color\":\"#2a3f5f\"},\"hovermode\":\"closest\",\"hoverlabel\":{\"align\":\"left\"},\"paper_bgcolor\":\"white\",\"plot_bgcolor\":\"#E5ECF6\",\"polar\":{\"bgcolor\":\"#E5ECF6\",\"angularaxis\":{\"gridcolor\":\"white\",\"linecolor\":\"white\",\"ticks\":\"\"},\"radialaxis\":{\"gridcolor\":\"white\",\"linecolor\":\"white\",\"ticks\":\"\"}},\"ternary\":{\"bgcolor\":\"#E5ECF6\",\"aaxis\":{\"gridcolor\":\"white\",\"linecolor\":\"white\",\"ticks\":\"\"},\"baxis\":{\"gridcolor\":\"white\",\"linecolor\":\"white\",\"ticks\":\"\"},\"caxis\":{\"gridcolor\":\"white\",\"linecolor\":\"white\",\"ticks\":\"\"}},\"coloraxis\":{\"colorbar\":{\"outlinewidth\":0,\"ticks\":\"\"}},\"colorscale\":{\"sequential\":[[0.0,\"#0d0887\"],[0.1111111111111111,\"#46039f\"],[0.2222222222222222,\"#7201a8\"],[0.3333333333333333,\"#9c179e\"],[0.4444444444444444,\"#bd3786\"],[0.5555555555555556,\"#d8576b\"],[0.6666666666666666,\"#ed7953\"],[0.7777777777777778,\"#fb9f3a\"],[0.8888888888888888,\"#fdca26\"],[1.0,\"#f0f921\"]],\"sequentialminus\":[[0.0,\"#0d0887\"],[0.1111111111111111,\"#46039f\"],[0.2222222222222222,\"#7201a8\"],[0.3333333333333333,\"#9c179e\"],[0.4444444444444444,\"#bd3786\"],[0.5555555555555556,\"#d8576b\"],[0.6666666666666666,\"#ed7953\"],[0.7777777777777778,\"#fb9f3a\"],[0.8888888888888888,\"#fdca26\"],[1.0,\"#f0f921\"]],\"diverging\":[[0,\"#8e0152\"],[0.1,\"#c51b7d\"],[0.2,\"#de77ae\"],[0.3,\"#f1b6da\"],[0.4,\"#fde0ef\"],[0.5,\"#f7f7f7\"],[0.6,\"#e6f5d0\"],[0.7,\"#b8e186\"],[0.8,\"#7fbc41\"],[0.9,\"#4d9221\"],[1,\"#276419\"]]},\"xaxis\":{\"gridcolor\":\"white\",\"linecolor\":\"white\",\"ticks\":\"\",\"title\":{\"standoff\":15},\"zerolinecolor\":\"white\",\"automargin\":true,\"zerolinewidth\":2},\"yaxis\":{\"gridcolor\":\"white\",\"linecolor\":\"white\",\"ticks\":\"\",\"title\":{\"standoff\":15},\"zerolinecolor\":\"white\",\"automargin\":true,\"zerolinewidth\":2},\"scene\":{\"xaxis\":{\"backgroundcolor\":\"#E5ECF6\",\"gridcolor\":\"white\",\"linecolor\":\"white\",\"showbackground\":true,\"ticks\":\"\",\"zerolinecolor\":\"white\",\"gridwidth\":2},\"yaxis\":{\"backgroundcolor\":\"#E5ECF6\",\"gridcolor\":\"white\",\"linecolor\":\"white\",\"showbackground\":true,\"ticks\":\"\",\"zerolinecolor\":\"white\",\"gridwidth\":2},\"zaxis\":{\"backgroundcolor\":\"#E5ECF6\",\"gridcolor\":\"white\",\"linecolor\":\"white\",\"showbackground\":true,\"ticks\":\"\",\"zerolinecolor\":\"white\",\"gridwidth\":2}},\"shapedefaults\":{\"line\":{\"color\":\"#2a3f5f\"}},\"annotationdefaults\":{\"arrowcolor\":\"#2a3f5f\",\"arrowhead\":0,\"arrowwidth\":1},\"geo\":{\"bgcolor\":\"white\",\"landcolor\":\"#E5ECF6\",\"subunitcolor\":\"white\",\"showland\":true,\"showlakes\":true,\"lakecolor\":\"white\"},\"title\":{\"x\":0.05},\"mapbox\":{\"style\":\"light\"}}},\"xaxis\":{\"anchor\":\"y\",\"domain\":[0.0,1.0],\"title\":{\"text\":\"ts\"}},\"yaxis\":{\"anchor\":\"x\",\"domain\":[0.0,1.0],\"title\":{\"text\":\"active\"},\"autorange\":\"reversed\"},\"legend\":{\"tracegroupgap\":0},\"margin\":{\"t\":60}},                        {\"responsive\": true}                    ).then(function(){\n",
       "                            \n",
       "var gd = document.getElementById('faed18f6-6812-43c2-8f51-04debe8ee890');\n",
       "var x = new MutationObserver(function (mutations, observer) {{\n",
       "        var display = window.getComputedStyle(gd).display;\n",
       "        if (!display || display === 'none') {{\n",
       "            console.log([gd, 'removed!']);\n",
       "            Plotly.purge(gd);\n",
       "            observer.disconnect();\n",
       "        }}\n",
       "}});\n",
       "\n",
       "// Listen for the removal of the full notebook cells\n",
       "var notebookContainer = gd.closest('#notebook-container');\n",
       "if (notebookContainer) {{\n",
       "    x.observe(notebookContainer, {childList: true});\n",
       "}}\n",
       "\n",
       "// Listen for the clearing of the current output cell\n",
       "var outputEl = gd.closest('.output');\n",
       "if (outputEl) {{\n",
       "    x.observe(outputEl, {childList: true});\n",
       "}}\n",
       "\n",
       "                        })                };                });            </script>        </div>"
      ]
     },
     "metadata": {},
     "output_type": "display_data"
    },
    {
     "name": "stdout",
     "output_type": "stream",
     "text": [
      "time: 322 ms (started: 2023-04-27 01:28:23 -04:00)\n"
     ]
    }
   ],
   "source": [
    "import duckdb\n",
    "\n",
    "ts = pd.date_range(qdf.era_start.min(), qdf.era_end.max() + pd.Timedelta(minutes=1.5), freq='1S')\n",
    "df_time = pd.DataFrame(ts, columns=['ts'])\n",
    "df_time\n",
    "\n",
    "df = duckdb.query(\"\"\"\n",
    "with timeseries as (\n",
    "    select * from df_time\n",
    ")\n",
    "select\n",
    "    ts,\n",
    "    count(era_start) > 0 as active\n",
    "from \n",
    "    timeseries t\n",
    "left join qdf \n",
    "on t.ts between qdf.era_start and qdf.era_end\n",
    "group by 1\n",
    "order by ts\n",
    "\"\"\").df()\n",
    "\n",
    "df\n",
    "\n",
    "import plotly.express as px\n",
    "fig = px.scatter(\n",
    "    df,\n",
    "    x='ts',\n",
    "    y='active'\n",
    ")\n",
    "fig.update_yaxes(autorange=\"reversed\")\n",
    "\n",
    "fig.show()"
   ]
  },
  {
   "cell_type": "code",
   "execution_count": 19,
   "id": "1442b342-7c06-4435-bacf-b938cb6b7df7",
   "metadata": {},
   "outputs": [
    {
     "data": {
      "text/html": [
       "<div>\n",
       "<style scoped>\n",
       "    .dataframe tbody tr th:only-of-type {\n",
       "        vertical-align: middle;\n",
       "    }\n",
       "\n",
       "    .dataframe tbody tr th {\n",
       "        vertical-align: top;\n",
       "    }\n",
       "\n",
       "    .dataframe thead th {\n",
       "        text-align: right;\n",
       "    }\n",
       "</style>\n",
       "<table border=\"1\" class=\"dataframe\">\n",
       "  <thead>\n",
       "    <tr style=\"text-align: right;\">\n",
       "      <th></th>\n",
       "      <th>timestamp</th>\n",
       "      <th>event_type</th>\n",
       "    </tr>\n",
       "  </thead>\n",
       "  <tbody>\n",
       "    <tr>\n",
       "      <th>0</th>\n",
       "      <td>2023-04-10 16:44:00</td>\n",
       "      <td>resume</td>\n",
       "    </tr>\n",
       "    <tr>\n",
       "      <th>1</th>\n",
       "      <td>2023-04-10 16:45:06</td>\n",
       "      <td>suspend</td>\n",
       "    </tr>\n",
       "    <tr>\n",
       "      <th>2</th>\n",
       "      <td>2023-04-10 16:45:15</td>\n",
       "      <td>resume</td>\n",
       "    </tr>\n",
       "    <tr>\n",
       "      <th>3</th>\n",
       "      <td>2023-04-10 16:46:15</td>\n",
       "      <td>suspend</td>\n",
       "    </tr>\n",
       "  </tbody>\n",
       "</table>\n",
       "</div>"
      ],
      "text/plain": [
       "            timestamp event_type\n",
       "0 2023-04-10 16:44:00     resume\n",
       "1 2023-04-10 16:45:06    suspend\n",
       "2 2023-04-10 16:45:15     resume\n",
       "3 2023-04-10 16:46:15    suspend"
      ]
     },
     "execution_count": 19,
     "metadata": {},
     "output_type": "execute_result"
    },
    {
     "name": "stdout",
     "output_type": "stream",
     "text": [
      "time: 21.4 ms (started: 2023-04-27 01:40:06 -04:00)\n"
     ]
    }
   ],
   "source": [
    "\n",
    "\n",
    "# state = list(zip(df.timestamp, df.eras_found))\n",
    "\n",
    "# def wh_events_simulated(wh_activity_series):\n",
    "\n",
    "state = list(zip(df.ts, df.active))\n",
    "started = False\n",
    "events = []\n",
    "\n",
    "def maybe_suspend(started, active, time_since_resumed):\n",
    "    # smart shutdown\n",
    "    return started and (not active) and (time_since_resumed >= Timedelta(seconds=60))\n",
    "\n",
    "for (ts, active) in state:\n",
    "    # print(f\"{ts}, {active}\")\n",
    "    if active and not started:\n",
    "        started = True\n",
    "        resumed_on = ts\n",
    "        events.append((ts, 'resume'))\n",
    "\n",
    "    if maybe_suspend(started, active, ts - resumed_on):\n",
    "        started = False\n",
    "        events.append((ts, 'suspend'))\n",
    "\n",
    "test_events_df = pd.DataFrame(events, columns=['timestamp', 'event_type'])\n",
    "test_events_df"
   ]
  },
  {
   "cell_type": "code",
   "execution_count": 20,
   "id": "254095ee-7f46-48e8-bfd7-105746f0c4c0",
   "metadata": {},
   "outputs": [
    {
     "name": "stdout",
     "output_type": "stream",
     "text": [
      "time: 7.1 ms (started: 2023-04-27 01:40:34 -04:00)\n"
     ]
    }
   ],
   "source": [
    "expected_events = [\n",
    " {'timestamp': Timestamp('2023-04-10 16:44:00'), 'event_type': 'resume'},\n",
    " {'timestamp': Timestamp('2023-04-10 16:45:06'), 'event_type': 'suspend'},\n",
    " {'timestamp': Timestamp('2023-04-10 16:45:15'), 'event_type': 'resume'},\n",
    " {'timestamp': Timestamp('2023-04-10 16:46:15'), 'event_type': 'suspend'}\n",
    "]\n",
    "\n",
    "expected_df = pd.DataFrame.from_dict(expected_events)\n",
    "\n",
    "pd.testing.assert_frame_equal(test_events_df, expected_df)\n",
    "pd.testing.assert_frame_equal(fast_simulation_df, expected_df)"
   ]
  },
  {
   "cell_type": "code",
   "execution_count": 23,
   "id": "5a34dd9e-26dd-4ad4-b5be-bf028a1078ae",
   "metadata": {},
   "outputs": [
    {
     "name": "stderr",
     "output_type": "stream",
     "text": [
      "07:23:39 INFO:query: [show warehouses]\n",
      "07:23:39 INFO:query execution done\n"
     ]
    },
    {
     "data": {
      "text/html": [
       "<div>\n",
       "<style scoped>\n",
       "    .dataframe tbody tr th:only-of-type {\n",
       "        vertical-align: middle;\n",
       "    }\n",
       "\n",
       "    .dataframe tbody tr th {\n",
       "        vertical-align: top;\n",
       "    }\n",
       "\n",
       "    .dataframe thead th {\n",
       "        text-align: right;\n",
       "    }\n",
       "</style>\n",
       "<table border=\"1\" class=\"dataframe\">\n",
       "  <thead>\n",
       "    <tr style=\"text-align: right;\">\n",
       "      <th></th>\n",
       "      <th>name</th>\n",
       "      <th>state</th>\n",
       "      <th>type</th>\n",
       "      <th>size</th>\n",
       "      <th>running</th>\n",
       "      <th>queued</th>\n",
       "      <th>is_default</th>\n",
       "      <th>is_current</th>\n",
       "      <th>auto_suspend</th>\n",
       "      <th>auto_resume</th>\n",
       "      <th>...</th>\n",
       "      <th>resumed_on</th>\n",
       "      <th>updated_on</th>\n",
       "      <th>owner</th>\n",
       "      <th>comment</th>\n",
       "      <th>resource_monitor</th>\n",
       "      <th>actives</th>\n",
       "      <th>pendings</th>\n",
       "      <th>failed</th>\n",
       "      <th>suspended</th>\n",
       "      <th>uuid</th>\n",
       "    </tr>\n",
       "  </thead>\n",
       "  <tbody>\n",
       "    <tr>\n",
       "      <th>0</th>\n",
       "      <td>AUTOSUSPEND_SIXTY</td>\n",
       "      <td>SUSPENDED</td>\n",
       "      <td>STANDARD</td>\n",
       "      <td>X-Small</td>\n",
       "      <td>0</td>\n",
       "      <td>0</td>\n",
       "      <td>N</td>\n",
       "      <td>N</td>\n",
       "      <td>60</td>\n",
       "      <td>true</td>\n",
       "      <td>...</td>\n",
       "      <td>2023-04-11 15:13:28.746000+00:00</td>\n",
       "      <td>2023-04-11 15:13:28.746000+00:00</td>\n",
       "      <td>SNOWFLAKE_USAGE</td>\n",
       "      <td></td>\n",
       "      <td>null</td>\n",
       "      <td>0</td>\n",
       "      <td>0</td>\n",
       "      <td>0</td>\n",
       "      <td>1</td>\n",
       "      <td>52231856</td>\n",
       "    </tr>\n",
       "    <tr>\n",
       "      <th>1</th>\n",
       "      <td>DEMO</td>\n",
       "      <td>SUSPENDED</td>\n",
       "      <td>STANDARD</td>\n",
       "      <td>X-Small</td>\n",
       "      <td>0</td>\n",
       "      <td>0</td>\n",
       "      <td>N</td>\n",
       "      <td>N</td>\n",
       "      <td>37</td>\n",
       "      <td>true</td>\n",
       "      <td>...</td>\n",
       "      <td>2023-04-24 22:41:33.199000+00:00</td>\n",
       "      <td>2023-04-24 22:41:33.200000+00:00</td>\n",
       "      <td>SNOWFLAKE_USAGE</td>\n",
       "      <td></td>\n",
       "      <td>null</td>\n",
       "      <td>0</td>\n",
       "      <td>0</td>\n",
       "      <td>0</td>\n",
       "      <td>1</td>\n",
       "      <td>52231684</td>\n",
       "    </tr>\n",
       "    <tr>\n",
       "      <th>2</th>\n",
       "      <td>DEMO_SMALL</td>\n",
       "      <td>SUSPENDED</td>\n",
       "      <td>STANDARD</td>\n",
       "      <td>Small</td>\n",
       "      <td>0</td>\n",
       "      <td>0</td>\n",
       "      <td>N</td>\n",
       "      <td>N</td>\n",
       "      <td>60</td>\n",
       "      <td>true</td>\n",
       "      <td>...</td>\n",
       "      <td>2023-04-14 19:51:59.018000+00:00</td>\n",
       "      <td>2023-04-14 19:51:59.018000+00:00</td>\n",
       "      <td>ACCOUNTADMIN</td>\n",
       "      <td></td>\n",
       "      <td>null</td>\n",
       "      <td>0</td>\n",
       "      <td>0</td>\n",
       "      <td>0</td>\n",
       "      <td>2</td>\n",
       "      <td>52231688</td>\n",
       "    </tr>\n",
       "    <tr>\n",
       "      <th>3</th>\n",
       "      <td>OPS</td>\n",
       "      <td>SUSPENDED</td>\n",
       "      <td>STANDARD</td>\n",
       "      <td>X-Small</td>\n",
       "      <td>0</td>\n",
       "      <td>0</td>\n",
       "      <td>N</td>\n",
       "      <td>Y</td>\n",
       "      <td>60</td>\n",
       "      <td>true</td>\n",
       "      <td>...</td>\n",
       "      <td>2023-04-24 01:25:27.291000+00:00</td>\n",
       "      <td>2023-04-24 01:25:27.291000+00:00</td>\n",
       "      <td>ACCOUNTADMIN</td>\n",
       "      <td></td>\n",
       "      <td>null</td>\n",
       "      <td>0</td>\n",
       "      <td>0</td>\n",
       "      <td>0</td>\n",
       "      <td>1</td>\n",
       "      <td>52231696</td>\n",
       "    </tr>\n",
       "    <tr>\n",
       "      <th>4</th>\n",
       "      <td>SMARTSUSPEND_TEN</td>\n",
       "      <td>SUSPENDED</td>\n",
       "      <td>STANDARD</td>\n",
       "      <td>X-Small</td>\n",
       "      <td>0</td>\n",
       "      <td>0</td>\n",
       "      <td>N</td>\n",
       "      <td>N</td>\n",
       "      <td>60</td>\n",
       "      <td>true</td>\n",
       "      <td>...</td>\n",
       "      <td>2023-04-11 15:13:28.918000+00:00</td>\n",
       "      <td>2023-04-11 15:13:28.918000+00:00</td>\n",
       "      <td>SNOWFLAKE_USAGE</td>\n",
       "      <td></td>\n",
       "      <td>null</td>\n",
       "      <td>0</td>\n",
       "      <td>0</td>\n",
       "      <td>0</td>\n",
       "      <td>1</td>\n",
       "      <td>52231860</td>\n",
       "    </tr>\n",
       "    <tr>\n",
       "      <th>5</th>\n",
       "      <td>SUSPEND_TEN</td>\n",
       "      <td>SUSPENDED</td>\n",
       "      <td>STANDARD</td>\n",
       "      <td>X-Small</td>\n",
       "      <td>0</td>\n",
       "      <td>0</td>\n",
       "      <td>N</td>\n",
       "      <td>N</td>\n",
       "      <td>60</td>\n",
       "      <td>true</td>\n",
       "      <td>...</td>\n",
       "      <td>2023-04-11 18:35:58.296000+00:00</td>\n",
       "      <td>2023-04-11 18:35:58.296000+00:00</td>\n",
       "      <td>SNOWFLAKE_USAGE</td>\n",
       "      <td></td>\n",
       "      <td>null</td>\n",
       "      <td>0</td>\n",
       "      <td>0</td>\n",
       "      <td>0</td>\n",
       "      <td>1</td>\n",
       "      <td>52231864</td>\n",
       "    </tr>\n",
       "    <tr>\n",
       "      <th>6</th>\n",
       "      <td>TEST_WH_123</td>\n",
       "      <td>SUSPENDED</td>\n",
       "      <td>STANDARD</td>\n",
       "      <td>X-Small</td>\n",
       "      <td>0</td>\n",
       "      <td>0</td>\n",
       "      <td>N</td>\n",
       "      <td>N</td>\n",
       "      <td>60</td>\n",
       "      <td>true</td>\n",
       "      <td>...</td>\n",
       "      <td>2023-04-24 22:42:38.597000+00:00</td>\n",
       "      <td>2023-04-24 22:42:38.597000+00:00</td>\n",
       "      <td>DEV</td>\n",
       "      <td></td>\n",
       "      <td>null</td>\n",
       "      <td>0</td>\n",
       "      <td>0</td>\n",
       "      <td>0</td>\n",
       "      <td>1</td>\n",
       "      <td>52231872</td>\n",
       "    </tr>\n",
       "  </tbody>\n",
       "</table>\n",
       "<p>7 rows × 25 columns</p>\n",
       "</div>"
      ],
      "text/plain": [
       "                name      state      type     size  running  queued  \\\n",
       "0  AUTOSUSPEND_SIXTY  SUSPENDED  STANDARD  X-Small        0       0   \n",
       "1               DEMO  SUSPENDED  STANDARD  X-Small        0       0   \n",
       "2         DEMO_SMALL  SUSPENDED  STANDARD    Small        0       0   \n",
       "3                OPS  SUSPENDED  STANDARD  X-Small        0       0   \n",
       "4   SMARTSUSPEND_TEN  SUSPENDED  STANDARD  X-Small        0       0   \n",
       "5        SUSPEND_TEN  SUSPENDED  STANDARD  X-Small        0       0   \n",
       "6        TEST_WH_123  SUSPENDED  STANDARD  X-Small        0       0   \n",
       "\n",
       "  is_default is_current  auto_suspend auto_resume  ...  \\\n",
       "0          N          N            60        true  ...   \n",
       "1          N          N            37        true  ...   \n",
       "2          N          N            60        true  ...   \n",
       "3          N          Y            60        true  ...   \n",
       "4          N          N            60        true  ...   \n",
       "5          N          N            60        true  ...   \n",
       "6          N          N            60        true  ...   \n",
       "\n",
       "                        resumed_on                       updated_on  \\\n",
       "0 2023-04-11 15:13:28.746000+00:00 2023-04-11 15:13:28.746000+00:00   \n",
       "1 2023-04-24 22:41:33.199000+00:00 2023-04-24 22:41:33.200000+00:00   \n",
       "2 2023-04-14 19:51:59.018000+00:00 2023-04-14 19:51:59.018000+00:00   \n",
       "3 2023-04-24 01:25:27.291000+00:00 2023-04-24 01:25:27.291000+00:00   \n",
       "4 2023-04-11 15:13:28.918000+00:00 2023-04-11 15:13:28.918000+00:00   \n",
       "5 2023-04-11 18:35:58.296000+00:00 2023-04-11 18:35:58.296000+00:00   \n",
       "6 2023-04-24 22:42:38.597000+00:00 2023-04-24 22:42:38.597000+00:00   \n",
       "\n",
       "             owner comment resource_monitor actives pendings failed suspended  \\\n",
       "0  SNOWFLAKE_USAGE                     null       0        0      0         1   \n",
       "1  SNOWFLAKE_USAGE                     null       0        0      0         1   \n",
       "2     ACCOUNTADMIN                     null       0        0      0         2   \n",
       "3     ACCOUNTADMIN                     null       0        0      0         1   \n",
       "4  SNOWFLAKE_USAGE                     null       0        0      0         1   \n",
       "5  SNOWFLAKE_USAGE                     null       0        0      0         1   \n",
       "6              DEV                     null       0        0      0         1   \n",
       "\n",
       "       uuid  \n",
       "0  52231856  \n",
       "1  52231684  \n",
       "2  52231688  \n",
       "3  52231696  \n",
       "4  52231860  \n",
       "5  52231864  \n",
       "6  52231872  \n",
       "\n",
       "[7 rows x 25 columns]"
      ]
     },
     "execution_count": 23,
     "metadata": {},
     "output_type": "execute_result"
    },
    {
     "name": "stdout",
     "output_type": "stream",
     "text": [
      "time: 214 ms (started: 2023-04-24 19:23:39 -04:00)\n"
     ]
    }
   ],
   "source": [
    "df = sql_to_df(\"show warehouses\")\n",
    "df"
   ]
  },
  {
   "cell_type": "code",
   "execution_count": 9,
   "id": "7775b257-b3d0-4179-af62-992fc2af194f",
   "metadata": {},
   "outputs": [
    {
     "name": "stdout",
     "output_type": "stream",
     "text": [
      "time: 1.33 ms (started: 2023-04-25 01:29:08 -04:00)\n"
     ]
    }
   ],
   "source": [
    "managed = {\n",
    "       \"account\": [\n",
    "            'DEMO'\n",
    "       ]\n",
    "}\n",
    "\n",
    "def maybe_suspend_warehouses(whs):\n",
    "    logger.info(\"======== processing warehouses ===============================================================================================\\n\")\n",
    "    df = sql_to_df(\"show warehouses\")\n",
    "    states = df.set_index('name', drop=False).to_dict('index')\n",
    "    \n",
    "    for wh in whs:\n",
    "        logger.info(f\"======== processing warehouse {wh} ===============================================================================================\\n\")\n",
    "        status = states[wh]\n",
    "        started = status['state'] == 'STARTED'\n",
    "        resumed_on = status['resumed_on']\n",
    "        time_since_resumed = pd.Timestamp.utcnow() - resumed_on\n",
    "        active = (status['running'] + status['queued']) > 0\n",
    "        \n",
    "        logger.info(f\"started {started} | active {active} | time_since_resumed {time_since_resumed}\")\n",
    "\n",
    "        suspend = maybe_suspend(started, active, time_since_resumed) \n",
    "        if suspend:\n",
    "            wh = status['name']\n",
    "            logger.info(f\"SUSPENDING WAREHOUSE {wh}\")\n",
    "            # run_sql(f\"ALTER WAREHOUSE {wh} SUSPEND\")\n",
    "\n"
   ]
  },
  {
   "cell_type": "code",
   "execution_count": 21,
   "id": "dbf4f56a-5ed5-4a2b-ab6f-dff862653137",
   "metadata": {},
   "outputs": [
    {
     "name": "stdout",
     "output_type": "stream",
     "text": [
      "Number of active threads: 10\n",
      "time: 7.28 ms (started: 2023-04-27 02:02:20 -04:00)\n"
     ]
    }
   ],
   "source": [
    "import threading\n",
    "\n",
    "print(\"Number of active threads:\", threading.active_count())"
   ]
  },
  {
   "cell_type": "code",
   "execution_count": 10,
   "id": "52345349-493f-4b2a-bf84-e1cb5e35f97a",
   "metadata": {},
   "outputs": [
    {
     "name": "stderr",
     "output_type": "stream",
     "text": [
      "01:29:10 INFO:======== processing warehouses ===============================================================================================\n",
      "\n",
      "01:29:10 INFO:query: [show warehouses]\n",
      "01:29:11 INFO:query execution done\n",
      "01:29:11 INFO:======== processing warehouse DEMO ===============================================================================================\n",
      "\n",
      "01:29:11 INFO:started False | active False | time_since_resumed 0 days 06:47:38.520017\n",
      "01:29:12 INFO:======== processing warehouses ===============================================================================================\n",
      "\n",
      "01:29:12 INFO:query: [show warehouses]\n",
      "01:29:12 INFO:query execution done\n",
      "01:29:12 INFO:======== processing warehouse DEMO ===============================================================================================\n",
      "\n",
      "01:29:12 INFO:started False | active False | time_since_resumed 0 days 06:47:39.679108\n",
      "01:29:13 INFO:======== processing warehouses ===============================================================================================\n",
      "\n",
      "01:29:13 INFO:query: [show warehouses]\n",
      "01:29:14 INFO:query execution done\n",
      "01:29:14 INFO:======== processing warehouse DEMO ===============================================================================================\n",
      "\n",
      "01:29:14 INFO:started False | active False | time_since_resumed 0 days 06:47:40.890730\n",
      "01:29:15 INFO:======== processing warehouses ===============================================================================================\n",
      "\n",
      "01:29:15 INFO:query: [show warehouses]\n",
      "01:29:15 INFO:query execution done\n",
      "01:29:15 INFO:======== processing warehouse DEMO ===============================================================================================\n",
      "\n",
      "01:29:15 INFO:started False | active False | time_since_resumed 0 days 06:47:42.085554\n",
      "01:29:16 INFO:======== processing warehouses ===============================================================================================\n",
      "\n",
      "01:29:16 INFO:query: [show warehouses]\n",
      "01:29:16 INFO:query execution done\n",
      "01:29:16 INFO:======== processing warehouse DEMO ===============================================================================================\n",
      "\n",
      "01:29:16 INFO:started False | active False | time_since_resumed 0 days 06:47:43.740422\n",
      "01:29:17 INFO:======== processing warehouses ===============================================================================================\n",
      "\n",
      "01:29:17 INFO:query: [show warehouses]\n",
      "01:29:18 INFO:query execution done\n",
      "01:29:18 INFO:======== processing warehouse DEMO ===============================================================================================\n",
      "\n",
      "01:29:18 INFO:started False | active False | time_since_resumed 0 days 06:47:44.985328\n",
      "01:29:19 INFO:======== processing warehouses ===============================================================================================\n",
      "\n",
      "01:29:19 INFO:query: [show warehouses]\n",
      "01:29:19 INFO:query execution done\n",
      "01:29:19 INFO:======== processing warehouse DEMO ===============================================================================================\n",
      "\n",
      "01:29:19 INFO:started False | active False | time_since_resumed 0 days 06:47:46.297918\n",
      "01:29:20 INFO:======== processing warehouses ===============================================================================================\n",
      "\n",
      "01:29:20 INFO:query: [show warehouses]\n",
      "01:29:20 INFO:query execution done\n",
      "01:29:20 INFO:======== processing warehouse DEMO ===============================================================================================\n",
      "\n",
      "01:29:20 INFO:started False | active False | time_since_resumed 0 days 06:47:47.621992\n",
      "01:29:21 INFO:======== processing warehouses ===============================================================================================\n",
      "\n",
      "01:29:21 INFO:query: [show warehouses]\n",
      "01:29:21 INFO:query execution done\n",
      "01:29:21 INFO:======== processing warehouse DEMO ===============================================================================================\n",
      "\n",
      "01:29:21 INFO:started False | active False | time_since_resumed 0 days 06:47:48.798046\n",
      "01:29:22 INFO:======== processing warehouses ===============================================================================================\n",
      "\n",
      "01:29:23 INFO:query: [show warehouses]\n",
      "01:29:23 INFO:query execution done\n",
      "01:29:23 INFO:======== processing warehouse DEMO ===============================================================================================\n",
      "\n",
      "01:29:23 INFO:started False | active False | time_since_resumed 0 days 06:47:50.054327\n",
      "01:29:24 INFO:======== processing warehouses ===============================================================================================\n",
      "\n",
      "01:29:24 INFO:query: [show warehouses]\n",
      "01:29:24 INFO:query execution done\n",
      "01:29:24 INFO:======== processing warehouse DEMO ===============================================================================================\n",
      "\n",
      "01:29:24 INFO:started False | active False | time_since_resumed 0 days 06:47:51.249100\n",
      "01:29:25 INFO:======== processing warehouses ===============================================================================================\n",
      "\n",
      "01:29:25 INFO:query: [show warehouses]\n",
      "01:29:27 INFO:query execution done\n",
      "01:29:27 INFO:======== processing warehouse DEMO ===============================================================================================\n",
      "\n",
      "01:29:27 INFO:started False | active False | time_since_resumed 0 days 06:47:54.113261\n",
      "01:29:28 INFO:======== processing warehouses ===============================================================================================\n",
      "\n",
      "01:29:28 INFO:query: [show warehouses]\n",
      "01:29:28 INFO:query execution done\n",
      "01:29:28 INFO:======== processing warehouse DEMO ===============================================================================================\n",
      "\n",
      "01:29:28 INFO:started False | active False | time_since_resumed 0 days 06:47:55.799531\n",
      "01:29:30 INFO:======== processing warehouses ===============================================================================================\n",
      "\n",
      "01:29:30 INFO:query: [show warehouses]\n",
      "01:29:30 INFO:query execution done\n",
      "01:29:30 INFO:======== processing warehouse DEMO ===============================================================================================\n",
      "\n",
      "01:29:30 INFO:started False | active False | time_since_resumed 0 days 06:47:56.990914\n",
      "01:29:31 INFO:======== processing warehouses ===============================================================================================\n",
      "\n",
      "01:29:31 INFO:query: [show warehouses]\n",
      "01:29:31 INFO:query execution done\n",
      "01:29:31 INFO:======== processing warehouse DEMO ===============================================================================================\n",
      "\n",
      "01:29:31 INFO:started False | active False | time_since_resumed 0 days 06:47:58.203595\n",
      "01:29:32 INFO:======== processing warehouses ===============================================================================================\n",
      "\n",
      "01:29:32 INFO:query: [show warehouses]\n",
      "01:29:32 INFO:query execution done\n",
      "01:29:32 INFO:======== processing warehouse DEMO ===============================================================================================\n",
      "\n",
      "01:29:32 INFO:started False | active False | time_since_resumed 0 days 06:47:59.380554\n",
      "01:29:33 INFO:======== processing warehouses ===============================================================================================\n",
      "\n",
      "01:29:33 INFO:query: [show warehouses]\n",
      "01:29:33 INFO:query execution done\n",
      "01:29:33 INFO:======== processing warehouse DEMO ===============================================================================================\n",
      "\n",
      "01:29:33 INFO:started False | active False | time_since_resumed 0 days 06:48:00.574272\n",
      "01:29:34 INFO:======== processing warehouses ===============================================================================================\n",
      "\n",
      "01:29:34 INFO:query: [show warehouses]\n",
      "01:29:34 INFO:query execution done\n",
      "01:29:35 INFO:======== processing warehouse DEMO ===============================================================================================\n",
      "\n",
      "01:29:35 INFO:started False | active False | time_since_resumed 0 days 06:48:01.804899\n",
      "01:29:36 INFO:======== processing warehouses ===============================================================================================\n",
      "\n",
      "01:29:36 INFO:query: [show warehouses]\n",
      "01:29:36 INFO:query execution done\n",
      "01:29:36 INFO:======== processing warehouse DEMO ===============================================================================================\n",
      "\n",
      "01:29:36 INFO:started False | active False | time_since_resumed 0 days 06:48:03.027726\n",
      "01:29:37 INFO:======== processing warehouses ===============================================================================================\n",
      "\n",
      "01:29:37 INFO:query: [show warehouses]\n",
      "01:29:37 INFO:query execution done\n",
      "01:29:37 INFO:======== processing warehouse DEMO ===============================================================================================\n",
      "\n",
      "01:29:37 INFO:started False | active False | time_since_resumed 0 days 06:48:04.215759\n",
      "01:29:38 INFO:======== processing warehouses ===============================================================================================\n",
      "\n",
      "01:29:38 INFO:query: [show warehouses]\n",
      "01:29:38 INFO:query execution done\n",
      "01:29:38 INFO:======== processing warehouse DEMO ===============================================================================================\n",
      "\n",
      "01:29:38 INFO:started False | active False | time_since_resumed 0 days 06:48:05.376505\n",
      "01:29:39 INFO:======== processing warehouses ===============================================================================================\n",
      "\n",
      "01:29:39 INFO:query: [show warehouses]\n",
      "01:29:39 INFO:query execution done\n",
      "01:29:39 INFO:======== processing warehouse DEMO ===============================================================================================\n",
      "\n",
      "01:29:39 INFO:started False | active False | time_since_resumed 0 days 06:48:06.610756\n",
      "01:29:40 INFO:======== processing warehouses ===============================================================================================\n",
      "\n",
      "01:29:40 INFO:query: [show warehouses]\n",
      "01:29:40 INFO:query execution done\n",
      "01:29:40 INFO:======== processing warehouse DEMO ===============================================================================================\n",
      "\n",
      "01:29:40 INFO:started False | active False | time_since_resumed 0 days 06:48:07.777151\n",
      "01:29:41 INFO:======== processing warehouses ===============================================================================================\n",
      "\n",
      "01:29:41 INFO:query: [show warehouses]\n",
      "01:29:42 INFO:query execution done\n",
      "01:29:42 INFO:======== processing warehouse DEMO ===============================================================================================\n",
      "\n",
      "01:29:42 INFO:started False | active False | time_since_resumed 0 days 06:48:08.942252\n",
      "01:29:43 INFO:======== processing warehouses ===============================================================================================\n",
      "\n",
      "01:29:43 INFO:query: [show warehouses]\n",
      "01:29:43 INFO:query execution done\n",
      "01:29:43 INFO:======== processing warehouse DEMO ===============================================================================================\n",
      "\n",
      "01:29:43 INFO:started False | active False | time_since_resumed 0 days 06:48:10.167553\n",
      "01:29:44 INFO:======== processing warehouses ===============================================================================================\n",
      "\n",
      "01:29:44 INFO:query: [show warehouses]\n",
      "01:29:44 INFO:query execution done\n",
      "01:29:44 INFO:======== processing warehouse DEMO ===============================================================================================\n",
      "\n",
      "01:29:44 INFO:started False | active False | time_since_resumed 0 days 06:48:11.332570\n",
      "01:29:45 INFO:======== processing warehouses ===============================================================================================\n",
      "\n",
      "01:29:45 INFO:query: [show warehouses]\n",
      "01:29:45 INFO:query execution done\n",
      "01:29:45 INFO:======== processing warehouse DEMO ===============================================================================================\n",
      "\n",
      "01:29:45 INFO:started False | active False | time_since_resumed 0 days 06:48:12.530234\n",
      "01:29:46 INFO:======== processing warehouses ===============================================================================================\n",
      "\n",
      "01:29:46 INFO:query: [show warehouses]\n",
      "01:29:46 INFO:query execution done\n",
      "01:29:46 INFO:======== processing warehouse DEMO ===============================================================================================\n",
      "\n",
      "01:29:46 INFO:started False | active False | time_since_resumed 0 days 06:48:13.690817\n",
      "01:29:47 INFO:======== processing warehouses ===============================================================================================\n",
      "\n",
      "01:29:47 INFO:query: [show warehouses]\n",
      "01:29:48 INFO:query execution done\n",
      "01:29:48 INFO:======== processing warehouse DEMO ===============================================================================================\n",
      "\n",
      "01:29:48 INFO:started False | active False | time_since_resumed 0 days 06:48:14.857807\n",
      "01:29:49 INFO:======== processing warehouses ===============================================================================================\n",
      "\n",
      "01:29:49 INFO:query: [show warehouses]\n",
      "01:29:49 INFO:query execution done\n",
      "01:29:49 INFO:======== processing warehouse DEMO ===============================================================================================\n",
      "\n",
      "01:29:49 INFO:started False | active False | time_since_resumed 0 days 06:48:16.020031\n",
      "01:29:50 INFO:======== processing warehouses ===============================================================================================\n",
      "\n",
      "01:29:50 INFO:query: [show warehouses]\n",
      "01:29:50 INFO:query execution done\n",
      "01:29:50 INFO:======== processing warehouse DEMO ===============================================================================================\n",
      "\n",
      "01:29:50 INFO:started False | active False | time_since_resumed 0 days 06:48:17.173411\n",
      "01:29:51 INFO:======== processing warehouses ===============================================================================================\n",
      "\n",
      "01:29:51 INFO:query: [show warehouses]\n",
      "01:29:51 INFO:query execution done\n",
      "01:29:51 INFO:======== processing warehouse DEMO ===============================================================================================\n",
      "\n",
      "01:29:51 INFO:started False | active False | time_since_resumed 0 days 06:48:18.332054\n",
      "01:29:52 INFO:======== processing warehouses ===============================================================================================\n",
      "\n",
      "01:29:52 INFO:query: [show warehouses]\n",
      "01:29:52 INFO:query execution done\n",
      "01:29:52 INFO:======== processing warehouse DEMO ===============================================================================================\n",
      "\n",
      "01:29:52 INFO:started False | active False | time_since_resumed 0 days 06:48:19.544981\n",
      "01:29:53 INFO:======== processing warehouses ===============================================================================================\n",
      "\n",
      "01:29:53 INFO:query: [show warehouses]\n",
      "01:29:53 INFO:query execution done\n",
      "01:29:53 INFO:======== processing warehouse DEMO ===============================================================================================\n",
      "\n",
      "01:29:53 INFO:started False | active False | time_since_resumed 0 days 06:48:20.720515\n",
      "01:29:54 INFO:======== processing warehouses ===============================================================================================\n",
      "\n",
      "01:29:54 INFO:query: [show warehouses]\n",
      "01:29:55 INFO:query execution done\n",
      "01:29:55 INFO:======== processing warehouse DEMO ===============================================================================================\n",
      "\n",
      "01:29:55 INFO:started False | active False | time_since_resumed 0 days 06:48:21.863089\n",
      "01:29:56 INFO:======== processing warehouses ===============================================================================================\n",
      "\n",
      "01:29:56 INFO:query: [show warehouses]\n",
      "01:29:56 INFO:query execution done\n",
      "01:29:56 INFO:======== processing warehouse DEMO ===============================================================================================\n",
      "\n",
      "01:29:56 INFO:started False | active False | time_since_resumed 0 days 06:48:23.047021\n",
      "01:29:57 INFO:======== processing warehouses ===============================================================================================\n",
      "\n",
      "01:29:57 INFO:query: [show warehouses]\n",
      "01:29:57 INFO:query execution done\n",
      "01:29:57 INFO:======== processing warehouse DEMO ===============================================================================================\n",
      "\n",
      "01:29:57 INFO:started False | active False | time_since_resumed 0 days 06:48:24.245716\n",
      "01:29:58 INFO:======== processing warehouses ===============================================================================================\n",
      "\n",
      "01:29:58 INFO:query: [show warehouses]\n",
      "01:29:58 INFO:query execution done\n",
      "01:29:58 INFO:======== processing warehouse DEMO ===============================================================================================\n",
      "\n",
      "01:29:58 INFO:started False | active False | time_since_resumed 0 days 06:48:25.457784\n",
      "01:29:59 INFO:======== processing warehouses ===============================================================================================\n",
      "\n",
      "01:29:59 INFO:query: [show warehouses]\n",
      "01:29:59 INFO:query execution done\n",
      "01:29:59 INFO:======== processing warehouse DEMO ===============================================================================================\n",
      "\n",
      "01:29:59 INFO:started False | active False | time_since_resumed 0 days 06:48:26.621924\n",
      "01:30:00 INFO:======== processing warehouses ===============================================================================================\n",
      "\n",
      "01:30:00 INFO:query: [show warehouses]\n",
      "01:30:00 INFO:query execution done\n",
      "01:30:00 INFO:======== processing warehouse DEMO ===============================================================================================\n",
      "\n",
      "01:30:00 INFO:started False | active False | time_since_resumed 0 days 06:48:27.777796\n",
      "01:30:01 INFO:======== processing warehouses ===============================================================================================\n",
      "\n",
      "01:30:01 INFO:query: [show warehouses]\n",
      "01:30:02 INFO:query execution done\n",
      "01:30:02 INFO:======== processing warehouse DEMO ===============================================================================================\n",
      "\n",
      "01:30:02 INFO:started False | active False | time_since_resumed 0 days 06:48:29.024180\n",
      "01:30:03 INFO:======== processing warehouses ===============================================================================================\n",
      "\n",
      "01:30:03 INFO:query: [show warehouses]\n",
      "01:30:03 INFO:query execution done\n",
      "01:30:03 INFO:======== processing warehouse DEMO ===============================================================================================\n",
      "\n",
      "01:30:03 INFO:started False | active False | time_since_resumed 0 days 06:48:30.307445\n",
      "01:30:04 INFO:======== processing warehouses ===============================================================================================\n",
      "\n",
      "01:30:04 INFO:query: [show warehouses]\n",
      "01:30:04 INFO:query execution done\n",
      "01:30:04 INFO:======== processing warehouse DEMO ===============================================================================================\n",
      "\n",
      "01:30:04 INFO:started False | active False | time_since_resumed 0 days 06:48:31.549575\n",
      "01:30:05 INFO:======== processing warehouses ===============================================================================================\n",
      "\n",
      "01:30:05 INFO:query: [show warehouses]\n",
      "01:30:05 INFO:query execution done\n",
      "01:30:05 INFO:======== processing warehouse DEMO ===============================================================================================\n",
      "\n",
      "01:30:05 INFO:started False | active False | time_since_resumed 0 days 06:48:32.700195\n",
      "01:30:06 INFO:======== processing warehouses ===============================================================================================\n",
      "\n",
      "01:30:06 INFO:query: [show warehouses]\n",
      "01:30:07 INFO:query execution done\n",
      "01:30:07 INFO:======== processing warehouse DEMO ===============================================================================================\n",
      "\n",
      "01:30:07 INFO:started False | active False | time_since_resumed 0 days 06:48:33.936593\n",
      "01:30:08 INFO:======== processing warehouses ===============================================================================================\n",
      "\n",
      "01:30:08 INFO:query: [show warehouses]\n",
      "01:30:08 INFO:query execution done\n",
      "01:30:08 INFO:======== processing warehouse DEMO ===============================================================================================\n",
      "\n",
      "01:30:08 INFO:started False | active False | time_since_resumed 0 days 06:48:35.163399\n",
      "01:30:09 INFO:======== processing warehouses ===============================================================================================\n",
      "\n",
      "01:30:09 INFO:query: [show warehouses]\n",
      "01:30:09 INFO:query execution done\n",
      "01:30:09 INFO:======== processing warehouse DEMO ===============================================================================================\n",
      "\n",
      "01:30:09 INFO:started False | active False | time_since_resumed 0 days 06:48:36.366717\n",
      "01:30:10 INFO:======== processing warehouses ===============================================================================================\n",
      "\n",
      "01:30:10 INFO:query: [show warehouses]\n",
      "01:30:10 INFO:query execution done\n",
      "01:30:10 INFO:======== processing warehouse DEMO ===============================================================================================\n",
      "\n",
      "01:30:10 INFO:started False | active False | time_since_resumed 0 days 06:48:37.540461\n",
      "01:30:11 INFO:======== processing warehouses ===============================================================================================\n",
      "\n",
      "01:30:11 INFO:query: [show warehouses]\n",
      "01:30:11 INFO:query execution done\n",
      "01:30:11 INFO:======== processing warehouse DEMO ===============================================================================================\n",
      "\n",
      "01:30:11 INFO:started False | active True | time_since_resumed 0 days 06:48:38.721248\n",
      "01:30:12 INFO:======== processing warehouses ===============================================================================================\n",
      "\n",
      "01:30:12 INFO:query: [show warehouses]\n",
      "01:30:13 INFO:query execution done\n",
      "01:30:13 INFO:======== processing warehouse DEMO ===============================================================================================\n",
      "\n",
      "01:30:13 INFO:started False | active False | time_since_resumed 0 days 06:48:39.974996\n",
      "01:30:14 INFO:======== processing warehouses ===============================================================================================\n",
      "\n",
      "01:30:14 INFO:query: [show warehouses]\n",
      "01:30:14 INFO:query execution done\n",
      "01:30:14 INFO:======== processing warehouse DEMO ===============================================================================================\n",
      "\n",
      "01:30:14 INFO:started False | active False | time_since_resumed 0 days 06:48:41.278772\n",
      "01:30:15 INFO:======== processing warehouses ===============================================================================================\n",
      "\n",
      "01:30:15 INFO:query: [show warehouses]\n",
      "01:30:15 INFO:query execution done\n",
      "01:30:15 INFO:======== processing warehouse DEMO ===============================================================================================\n",
      "\n",
      "01:30:15 INFO:started False | active False | time_since_resumed 0 days 06:48:42.455464\n",
      "01:30:16 INFO:======== processing warehouses ===============================================================================================\n",
      "\n",
      "01:30:16 INFO:query: [show warehouses]\n",
      "01:30:16 INFO:query execution done\n",
      "01:30:16 INFO:======== processing warehouse DEMO ===============================================================================================\n",
      "\n",
      "01:30:16 INFO:started False | active False | time_since_resumed 0 days 06:48:43.790295\n",
      "01:30:17 INFO:======== processing warehouses ===============================================================================================\n",
      "\n",
      "01:30:17 INFO:query: [show warehouses]\n",
      "01:30:18 INFO:query execution done\n",
      "01:30:18 INFO:======== processing warehouse DEMO ===============================================================================================\n",
      "\n",
      "01:30:18 INFO:started True | active True | time_since_resumed 0 days 00:00:00.887415\n",
      "01:30:19 INFO:======== processing warehouses ===============================================================================================\n",
      "\n",
      "01:30:19 INFO:query: [show warehouses]\n",
      "01:30:19 INFO:query execution done\n",
      "01:30:19 INFO:======== processing warehouse DEMO ===============================================================================================\n",
      "\n",
      "01:30:19 INFO:started True | active False | time_since_resumed 0 days 00:00:02.442287\n",
      "01:30:20 INFO:======== processing warehouses ===============================================================================================\n",
      "\n",
      "01:30:20 INFO:query: [show warehouses]\n",
      "01:30:21 INFO:query execution done\n",
      "01:30:21 INFO:======== processing warehouse DEMO ===============================================================================================\n",
      "\n",
      "01:30:21 INFO:started True | active False | time_since_resumed 0 days 00:00:03.737259\n",
      "01:30:22 INFO:======== processing warehouses ===============================================================================================\n",
      "\n",
      "01:30:22 INFO:query: [show warehouses]\n",
      "01:30:22 INFO:query execution done\n",
      "01:30:22 INFO:======== processing warehouse DEMO ===============================================================================================\n",
      "\n",
      "01:30:22 INFO:started True | active False | time_since_resumed 0 days 00:00:04.916928\n",
      "01:30:23 INFO:======== processing warehouses ===============================================================================================\n",
      "\n",
      "01:30:23 INFO:query: [show warehouses]\n",
      "01:30:23 INFO:query execution done\n",
      "01:30:23 INFO:======== processing warehouse DEMO ===============================================================================================\n",
      "\n",
      "01:30:23 INFO:started True | active False | time_since_resumed 0 days 00:00:06.098492\n",
      "01:30:24 INFO:======== processing warehouses ===============================================================================================\n",
      "\n",
      "01:30:24 INFO:query: [show warehouses]\n",
      "01:30:24 INFO:query execution done\n",
      "01:30:24 INFO:======== processing warehouse DEMO ===============================================================================================\n",
      "\n",
      "01:30:24 INFO:started True | active False | time_since_resumed 0 days 00:00:07.256031\n",
      "01:30:25 INFO:======== processing warehouses ===============================================================================================\n",
      "\n",
      "01:30:25 INFO:query: [show warehouses]\n",
      "01:30:25 INFO:query execution done\n",
      "01:30:25 INFO:======== processing warehouse DEMO ===============================================================================================\n",
      "\n",
      "01:30:25 INFO:started True | active False | time_since_resumed 0 days 00:00:08.409608\n",
      "01:30:26 INFO:======== processing warehouses ===============================================================================================\n",
      "\n",
      "01:30:26 INFO:query: [show warehouses]\n",
      "01:30:27 INFO:query execution done\n",
      "01:30:27 INFO:======== processing warehouse DEMO ===============================================================================================\n",
      "\n",
      "01:30:27 INFO:started True | active False | time_since_resumed 0 days 00:00:09.625048\n",
      "01:30:28 INFO:======== processing warehouses ===============================================================================================\n",
      "\n",
      "01:30:28 INFO:query: [show warehouses]\n",
      "01:30:28 INFO:query execution done\n",
      "01:30:28 INFO:======== processing warehouse DEMO ===============================================================================================\n",
      "\n",
      "01:30:28 INFO:started True | active False | time_since_resumed 0 days 00:00:11.005648\n",
      "01:30:29 INFO:======== processing warehouses ===============================================================================================\n",
      "\n",
      "01:30:29 INFO:query: [show warehouses]\n",
      "01:30:29 INFO:query execution done\n",
      "01:30:29 INFO:======== processing warehouse DEMO ===============================================================================================\n",
      "\n",
      "01:30:29 INFO:started True | active False | time_since_resumed 0 days 00:00:12.160972\n",
      "01:30:30 INFO:======== processing warehouses ===============================================================================================\n",
      "\n",
      "01:30:30 INFO:query: [show warehouses]\n",
      "01:30:31 INFO:query execution done\n",
      "01:30:31 INFO:======== processing warehouse DEMO ===============================================================================================\n",
      "\n",
      "01:30:31 INFO:started True | active False | time_since_resumed 0 days 00:00:13.529221\n",
      "01:30:32 INFO:======== processing warehouses ===============================================================================================\n",
      "\n",
      "01:30:32 INFO:query: [show warehouses]\n",
      "01:30:32 INFO:query execution done\n",
      "01:30:32 INFO:======== processing warehouse DEMO ===============================================================================================\n",
      "\n",
      "01:30:32 INFO:started True | active False | time_since_resumed 0 days 00:00:14.719768\n",
      "01:30:33 INFO:======== processing warehouses ===============================================================================================\n",
      "\n",
      "01:30:33 INFO:query: [show warehouses]\n",
      "01:30:33 INFO:query execution done\n",
      "01:30:33 INFO:======== processing warehouse DEMO ===============================================================================================\n",
      "\n",
      "01:30:33 INFO:started True | active False | time_since_resumed 0 days 00:00:15.888896\n",
      "01:30:34 INFO:======== processing warehouses ===============================================================================================\n",
      "\n",
      "01:30:34 INFO:query: [show warehouses]\n",
      "01:30:34 INFO:query execution done\n",
      "01:30:34 INFO:======== processing warehouse DEMO ===============================================================================================\n",
      "\n",
      "01:30:34 INFO:started True | active False | time_since_resumed 0 days 00:00:17.061229\n",
      "01:30:35 INFO:======== processing warehouses ===============================================================================================\n",
      "\n",
      "01:30:35 INFO:query: [show warehouses]\n",
      "01:30:35 INFO:query execution done\n",
      "01:30:35 INFO:======== processing warehouse DEMO ===============================================================================================\n",
      "\n",
      "01:30:35 INFO:started True | active False | time_since_resumed 0 days 00:00:18.270853\n",
      "01:30:36 INFO:======== processing warehouses ===============================================================================================\n",
      "\n",
      "01:30:36 INFO:query: [show warehouses]\n",
      "01:30:36 INFO:query execution done\n",
      "01:30:36 INFO:======== processing warehouse DEMO ===============================================================================================\n",
      "\n",
      "01:30:36 INFO:started True | active False | time_since_resumed 0 days 00:00:19.481163\n",
      "01:30:37 INFO:======== processing warehouses ===============================================================================================\n",
      "\n",
      "01:30:37 INFO:query: [show warehouses]\n",
      "01:30:38 INFO:query execution done\n",
      "01:30:38 INFO:======== processing warehouse DEMO ===============================================================================================\n",
      "\n",
      "01:30:38 INFO:started True | active False | time_since_resumed 0 days 00:00:20.643255\n",
      "01:30:39 INFO:======== processing warehouses ===============================================================================================\n",
      "\n",
      "01:30:39 INFO:query: [show warehouses]\n",
      "01:30:39 INFO:query execution done\n",
      "01:30:39 INFO:======== processing warehouse DEMO ===============================================================================================\n",
      "\n",
      "01:30:39 INFO:started True | active False | time_since_resumed 0 days 00:00:21.814688\n",
      "01:30:40 INFO:======== processing warehouses ===============================================================================================\n",
      "\n",
      "01:30:40 INFO:query: [show warehouses]\n",
      "01:30:40 INFO:query execution done\n",
      "01:30:40 INFO:======== processing warehouse DEMO ===============================================================================================\n",
      "\n",
      "01:30:40 INFO:started True | active False | time_since_resumed 0 days 00:00:22.988626\n",
      "01:30:41 INFO:======== processing warehouses ===============================================================================================\n",
      "\n",
      "01:30:41 INFO:query: [show warehouses]\n",
      "01:30:41 INFO:query execution done\n",
      "01:30:41 INFO:======== processing warehouse DEMO ===============================================================================================\n",
      "\n",
      "01:30:41 INFO:started True | active False | time_since_resumed 0 days 00:00:24.196274\n",
      "01:30:42 INFO:======== processing warehouses ===============================================================================================\n",
      "\n",
      "01:30:42 INFO:query: [show warehouses]\n",
      "01:30:42 INFO:query execution done\n",
      "01:30:42 INFO:======== processing warehouse DEMO ===============================================================================================\n",
      "\n",
      "01:30:42 INFO:started True | active False | time_since_resumed 0 days 00:00:25.367766\n",
      "01:30:43 INFO:======== processing warehouses ===============================================================================================\n",
      "\n",
      "01:30:43 INFO:query: [show warehouses]\n",
      "01:30:44 INFO:query execution done\n",
      "01:30:44 INFO:======== processing warehouse DEMO ===============================================================================================\n",
      "\n",
      "01:30:44 INFO:started True | active False | time_since_resumed 0 days 00:00:26.535850\n",
      "01:30:45 INFO:======== processing warehouses ===============================================================================================\n",
      "\n",
      "01:30:45 INFO:query: [show warehouses]\n",
      "01:30:45 INFO:query execution done\n",
      "01:30:45 INFO:======== processing warehouse DEMO ===============================================================================================\n",
      "\n",
      "01:30:45 INFO:started True | active False | time_since_resumed 0 days 00:00:27.684674\n",
      "01:30:46 INFO:======== processing warehouses ===============================================================================================\n",
      "\n",
      "01:30:46 INFO:query: [show warehouses]\n",
      "01:30:46 INFO:query execution done\n",
      "01:30:46 INFO:======== processing warehouse DEMO ===============================================================================================\n",
      "\n",
      "01:30:46 INFO:started True | active False | time_since_resumed 0 days 00:00:28.833925\n",
      "01:30:47 INFO:======== processing warehouses ===============================================================================================\n",
      "\n",
      "01:30:47 INFO:query: [show warehouses]\n",
      "01:30:47 INFO:query execution done\n",
      "01:30:47 INFO:======== processing warehouse DEMO ===============================================================================================\n",
      "\n",
      "01:30:47 INFO:started True | active False | time_since_resumed 0 days 00:00:30.042971\n",
      "01:30:48 INFO:======== processing warehouses ===============================================================================================\n",
      "\n",
      "01:30:48 INFO:query: [show warehouses]\n",
      "01:30:48 INFO:query execution done\n",
      "01:30:48 INFO:======== processing warehouse DEMO ===============================================================================================\n",
      "\n",
      "01:30:48 INFO:started True | active False | time_since_resumed 0 days 00:00:31.484384\n",
      "01:30:49 INFO:======== processing warehouses ===============================================================================================\n",
      "\n",
      "01:30:50 INFO:query: [show warehouses]\n",
      "01:30:50 INFO:query execution done\n",
      "01:30:50 INFO:======== processing warehouse DEMO ===============================================================================================\n",
      "\n",
      "01:30:50 INFO:started True | active False | time_since_resumed 0 days 00:00:32.674068\n",
      "01:30:51 INFO:======== processing warehouses ===============================================================================================\n",
      "\n",
      "01:30:51 INFO:query: [show warehouses]\n",
      "01:30:51 INFO:query execution done\n",
      "01:30:51 INFO:======== processing warehouse DEMO ===============================================================================================\n",
      "\n",
      "01:30:51 INFO:started True | active False | time_since_resumed 0 days 00:00:33.866825\n",
      "01:30:52 INFO:======== processing warehouses ===============================================================================================\n",
      "\n",
      "01:30:52 INFO:query: [show warehouses]\n",
      "01:30:52 INFO:query execution done\n",
      "01:30:52 INFO:======== processing warehouse DEMO ===============================================================================================\n",
      "\n",
      "01:30:52 INFO:started True | active False | time_since_resumed 0 days 00:00:35.038872\n",
      "01:30:53 INFO:======== processing warehouses ===============================================================================================\n",
      "\n",
      "01:30:53 INFO:query: [show warehouses]\n",
      "01:30:53 INFO:query execution done\n",
      "01:30:53 INFO:======== processing warehouse DEMO ===============================================================================================\n",
      "\n",
      "01:30:53 INFO:started True | active False | time_since_resumed 0 days 00:00:36.191581\n",
      "01:30:54 INFO:======== processing warehouses ===============================================================================================\n",
      "\n",
      "01:30:54 INFO:query: [show warehouses]\n",
      "01:30:54 INFO:query execution done\n",
      "01:30:54 INFO:======== processing warehouse DEMO ===============================================================================================\n",
      "\n",
      "01:30:54 INFO:started True | active False | time_since_resumed 0 days 00:00:37.380937\n",
      "01:30:55 INFO:======== processing warehouses ===============================================================================================\n",
      "\n",
      "01:30:55 INFO:query: [show warehouses]\n",
      "01:30:56 INFO:query execution done\n",
      "01:30:56 INFO:======== processing warehouse DEMO ===============================================================================================\n",
      "\n",
      "01:30:56 INFO:started True | active False | time_since_resumed 0 days 00:00:38.582952\n",
      "01:30:57 INFO:======== processing warehouses ===============================================================================================\n",
      "\n",
      "01:30:57 INFO:query: [show warehouses]\n",
      "01:30:57 INFO:query execution done\n",
      "01:30:57 INFO:======== processing warehouse DEMO ===============================================================================================\n",
      "\n",
      "01:30:57 INFO:started True | active False | time_since_resumed 0 days 00:00:39.759477\n",
      "01:30:58 INFO:======== processing warehouses ===============================================================================================\n",
      "\n",
      "01:30:58 INFO:query: [show warehouses]\n",
      "01:30:58 INFO:query execution done\n",
      "01:30:58 INFO:======== processing warehouse DEMO ===============================================================================================\n",
      "\n",
      "01:30:58 INFO:started True | active False | time_since_resumed 0 days 00:00:40.982005\n",
      "01:30:59 INFO:======== processing warehouses ===============================================================================================\n",
      "\n",
      "01:30:59 INFO:query: [show warehouses]\n",
      "01:30:59 INFO:query execution done\n",
      "01:30:59 INFO:======== processing warehouse DEMO ===============================================================================================\n",
      "\n",
      "01:30:59 INFO:started True | active False | time_since_resumed 0 days 00:00:42.169850\n",
      "01:31:00 INFO:======== processing warehouses ===============================================================================================\n",
      "\n",
      "01:31:00 INFO:query: [show warehouses]\n",
      "01:31:00 INFO:query execution done\n",
      "01:31:00 INFO:======== processing warehouse DEMO ===============================================================================================\n",
      "\n",
      "01:31:00 INFO:started True | active False | time_since_resumed 0 days 00:00:43.368199\n",
      "01:31:01 INFO:======== processing warehouses ===============================================================================================\n",
      "\n",
      "01:31:01 INFO:query: [show warehouses]\n",
      "01:31:02 INFO:query execution done\n",
      "01:31:02 INFO:======== processing warehouse DEMO ===============================================================================================\n",
      "\n",
      "01:31:02 INFO:started True | active False | time_since_resumed 0 days 00:00:44.514217\n",
      "01:31:03 INFO:======== processing warehouses ===============================================================================================\n",
      "\n",
      "01:31:03 INFO:query: [show warehouses]\n",
      "01:31:03 INFO:query execution done\n",
      "01:31:03 INFO:======== processing warehouse DEMO ===============================================================================================\n",
      "\n",
      "01:31:03 INFO:started True | active False | time_since_resumed 0 days 00:00:45.673936\n",
      "01:31:04 INFO:======== processing warehouses ===============================================================================================\n",
      "\n",
      "01:31:04 INFO:query: [show warehouses]\n",
      "01:31:04 INFO:query execution done\n",
      "01:31:04 INFO:======== processing warehouse DEMO ===============================================================================================\n",
      "\n",
      "01:31:04 INFO:started True | active False | time_since_resumed 0 days 00:00:46.891403\n",
      "01:31:05 INFO:======== processing warehouses ===============================================================================================\n",
      "\n",
      "01:31:05 INFO:query: [show warehouses]\n",
      "01:31:05 INFO:query execution done\n",
      "01:31:05 INFO:======== processing warehouse DEMO ===============================================================================================\n",
      "\n",
      "01:31:05 INFO:started True | active False | time_since_resumed 0 days 00:00:48.046741\n",
      "01:31:06 INFO:======== processing warehouses ===============================================================================================\n",
      "\n",
      "01:31:06 INFO:query: [show warehouses]\n",
      "01:31:06 INFO:query execution done\n",
      "01:31:06 INFO:======== processing warehouse DEMO ===============================================================================================\n",
      "\n",
      "01:31:06 INFO:started True | active False | time_since_resumed 0 days 00:00:49.197814\n",
      "01:31:07 INFO:======== processing warehouses ===============================================================================================\n",
      "\n",
      "01:31:07 INFO:query: [show warehouses]\n",
      "01:31:07 INFO:query execution done\n",
      "01:31:07 INFO:======== processing warehouse DEMO ===============================================================================================\n",
      "\n",
      "01:31:07 INFO:started True | active False | time_since_resumed 0 days 00:00:50.395082\n",
      "01:31:08 INFO:======== processing warehouses ===============================================================================================\n",
      "\n",
      "01:31:08 INFO:query: [show warehouses]\n",
      "01:31:09 INFO:query execution done\n",
      "01:31:09 INFO:======== processing warehouse DEMO ===============================================================================================\n",
      "\n",
      "01:31:09 INFO:started True | active False | time_since_resumed 0 days 00:00:51.584219\n",
      "01:31:10 INFO:======== processing warehouses ===============================================================================================\n",
      "\n",
      "01:31:10 INFO:query: [show warehouses]\n",
      "01:31:10 INFO:query execution done\n",
      "01:31:10 INFO:======== processing warehouse DEMO ===============================================================================================\n",
      "\n",
      "01:31:10 INFO:started True | active False | time_since_resumed 0 days 00:00:52.804606\n",
      "01:31:11 INFO:======== processing warehouses ===============================================================================================\n",
      "\n",
      "01:31:11 INFO:query: [show warehouses]\n",
      "01:31:11 INFO:query execution done\n",
      "01:31:11 INFO:======== processing warehouse DEMO ===============================================================================================\n",
      "\n",
      "01:31:11 INFO:started True | active False | time_since_resumed 0 days 00:00:53.988237\n",
      "01:31:12 INFO:======== processing warehouses ===============================================================================================\n",
      "\n",
      "01:31:12 INFO:query: [show warehouses]\n",
      "01:31:12 INFO:query execution done\n",
      "01:31:12 INFO:======== processing warehouse DEMO ===============================================================================================\n",
      "\n",
      "01:31:12 INFO:started True | active False | time_since_resumed 0 days 00:00:55.141304\n",
      "01:31:13 INFO:======== processing warehouses ===============================================================================================\n",
      "\n",
      "01:31:13 INFO:query: [show warehouses]\n",
      "01:31:13 INFO:query execution done\n",
      "01:31:13 INFO:======== processing warehouse DEMO ===============================================================================================\n",
      "\n",
      "01:31:13 INFO:started True | active False | time_since_resumed 0 days 00:00:56.355552\n",
      "01:31:14 INFO:======== processing warehouses ===============================================================================================\n",
      "\n",
      "01:31:14 INFO:query: [show warehouses]\n",
      "01:31:15 INFO:query execution done\n",
      "01:31:15 INFO:======== processing warehouse DEMO ===============================================================================================\n",
      "\n",
      "01:31:15 INFO:started True | active False | time_since_resumed 0 days 00:00:57.572015\n",
      "01:31:16 INFO:======== processing warehouses ===============================================================================================\n",
      "\n",
      "01:31:16 INFO:query: [show warehouses]\n",
      "01:31:16 INFO:query execution done\n",
      "01:31:16 INFO:======== processing warehouse DEMO ===============================================================================================\n",
      "\n",
      "01:31:16 INFO:started True | active False | time_since_resumed 0 days 00:00:58.807936\n",
      "01:31:17 INFO:======== processing warehouses ===============================================================================================\n",
      "\n",
      "01:31:17 INFO:query: [show warehouses]\n",
      "01:31:17 INFO:query execution done\n",
      "01:31:17 INFO:======== processing warehouse DEMO ===============================================================================================\n",
      "\n",
      "01:31:17 INFO:started True | active False | time_since_resumed 0 days 00:00:59.993533\n",
      "01:31:18 INFO:======== processing warehouses ===============================================================================================\n",
      "\n",
      "01:31:18 INFO:query: [show warehouses]\n",
      "01:31:18 INFO:query execution done\n",
      "01:31:18 INFO:======== processing warehouse DEMO ===============================================================================================\n",
      "\n",
      "01:31:18 INFO:started False | active False | time_since_resumed 0 days 00:01:01.190335\n",
      "01:31:19 INFO:======== processing warehouses ===============================================================================================\n",
      "\n",
      "01:31:19 INFO:query: [show warehouses]\n",
      "01:31:19 INFO:query execution done\n",
      "01:31:19 INFO:======== processing warehouse DEMO ===============================================================================================\n",
      "\n",
      "01:31:19 INFO:started False | active False | time_since_resumed 0 days 00:01:02.357078\n",
      "01:31:20 INFO:======== processing warehouses ===============================================================================================\n",
      "\n",
      "01:31:20 INFO:query: [show warehouses]\n",
      "01:31:21 INFO:query execution done\n",
      "01:31:21 INFO:======== processing warehouse DEMO ===============================================================================================\n",
      "\n",
      "01:31:21 INFO:started False | active False | time_since_resumed 0 days 00:01:03.570849\n",
      "01:31:22 INFO:======== processing warehouses ===============================================================================================\n",
      "\n",
      "01:31:22 INFO:query: [show warehouses]\n",
      "01:31:22 INFO:query execution done\n",
      "01:31:22 INFO:======== processing warehouse DEMO ===============================================================================================\n",
      "\n",
      "01:31:22 INFO:started False | active False | time_since_resumed 0 days 00:01:04.746670\n",
      "01:31:23 INFO:======== processing warehouses ===============================================================================================\n",
      "\n",
      "01:31:23 INFO:query: [show warehouses]\n",
      "01:31:23 INFO:query execution done\n",
      "01:31:23 INFO:======== processing warehouse DEMO ===============================================================================================\n",
      "\n",
      "01:31:23 INFO:started False | active False | time_since_resumed 0 days 00:01:05.955051\n",
      "01:31:24 INFO:======== processing warehouses ===============================================================================================\n",
      "\n",
      "01:31:24 INFO:query: [show warehouses]\n",
      "01:31:24 INFO:query execution done\n",
      "01:31:24 INFO:======== processing warehouse DEMO ===============================================================================================\n",
      "\n",
      "01:31:24 INFO:started False | active False | time_since_resumed 0 days 00:01:07.143964\n",
      "01:31:25 INFO:======== processing warehouses ===============================================================================================\n",
      "\n",
      "01:31:25 INFO:query: [show warehouses]\n",
      "01:31:25 INFO:query execution done\n",
      "01:31:25 INFO:======== processing warehouse DEMO ===============================================================================================\n",
      "\n",
      "01:31:25 INFO:started False | active True | time_since_resumed 0 days 00:01:08.355535\n",
      "01:31:26 INFO:======== processing warehouses ===============================================================================================\n",
      "\n",
      "01:31:26 INFO:query: [show warehouses]\n",
      "01:31:27 INFO:query execution done\n",
      "01:31:27 INFO:======== processing warehouse DEMO ===============================================================================================\n",
      "\n",
      "01:31:27 INFO:started False | active False | time_since_resumed 0 days 00:01:09.522814\n",
      "01:31:28 INFO:======== processing warehouses ===============================================================================================\n",
      "\n",
      "01:31:28 INFO:query: [show warehouses]\n",
      "01:31:28 INFO:query execution done\n",
      "01:31:28 INFO:======== processing warehouse DEMO ===============================================================================================\n",
      "\n",
      "01:31:28 INFO:started False | active False | time_since_resumed 0 days 00:01:10.691728\n",
      "01:31:29 INFO:======== processing warehouses ===============================================================================================\n",
      "\n",
      "01:31:29 INFO:query: [show warehouses]\n",
      "01:31:29 INFO:query execution done\n",
      "01:31:29 INFO:======== processing warehouse DEMO ===============================================================================================\n",
      "\n",
      "01:31:29 INFO:started False | active False | time_since_resumed 0 days 00:01:11.847983\n"
     ]
    },
    {
     "ename": "KeyboardInterrupt",
     "evalue": "",
     "output_type": "error",
     "traceback": [
      "\u001b[0;31m---------------------------------------------------------------------------\u001b[0m",
      "\u001b[0;31mKeyboardInterrupt\u001b[0m                         Traceback (most recent call last)",
      "Cell \u001b[0;32mIn[10], line 2\u001b[0m\n\u001b[1;32m      1\u001b[0m \u001b[38;5;28;01mwhile\u001b[39;00m \u001b[38;5;28;01mTrue\u001b[39;00m:\n\u001b[0;32m----> 2\u001b[0m     \u001b[43mtime\u001b[49m\u001b[38;5;241;43m.\u001b[39;49m\u001b[43msleep\u001b[49m\u001b[43m(\u001b[49m\u001b[38;5;241;43m1\u001b[39;49m\u001b[43m)\u001b[49m\n\u001b[1;32m      3\u001b[0m     maybe_suspend_warehouses(managed)\n",
      "\u001b[0;31mKeyboardInterrupt\u001b[0m: "
     ]
    },
    {
     "name": "stdout",
     "output_type": "stream",
     "text": [
      "time: 2min 21s (started: 2023-04-25 01:29:09 -04:00)\n"
     ]
    }
   ],
   "source": [
    "while True:\n",
    "    time.sleep(1)\n",
    "    maybe_suspend_warehouses(managed)"
   ]
  },
  {
   "cell_type": "code",
   "execution_count": null,
   "id": "1c504814-9593-40be-80f1-7a30d4e2d965",
   "metadata": {},
   "outputs": [
    {
     "ename": "CatalogException",
     "evalue": "Catalog Error: Table with name wh_df does not exist!\nDid you mean \"pg_am\"?",
     "output_type": "error",
     "traceback": [
      "\u001b[0;31m---------------------------------------------------------------------------\u001b[0m",
      "\u001b[0;31mCatalogException\u001b[0m                          Traceback (most recent call last)",
      "Cell \u001b[0;32mIn[7], line 2\u001b[0m\n\u001b[1;32m      1\u001b[0m \u001b[38;5;28;01mimport\u001b[39;00m \u001b[38;5;21;01mduckdb\u001b[39;00m\n\u001b[0;32m----> 2\u001b[0m \u001b[43mduckdb\u001b[49m\u001b[38;5;241;43m.\u001b[39;49m\u001b[43mquery\u001b[49m\u001b[43m(\u001b[49m\u001b[38;5;124;43m\"\u001b[39;49m\u001b[38;5;124;43mselect * from wh_df\u001b[39;49m\u001b[38;5;124;43m\"\u001b[39;49m\u001b[43m)\u001b[49m\n",
      "\u001b[0;31mCatalogException\u001b[0m: Catalog Error: Table with name wh_df does not exist!\nDid you mean \"pg_am\"?"
     ]
    },
    {
     "name": "stdout",
     "output_type": "stream",
     "text": [
      "time: 116 ms (started: 2023-04-24 11:17:43 -04:00)\n"
     ]
    }
   ],
   "source": [
    "import duckdb\n",
    "duckdb.query(\"select * from wh_df\")"
   ]
  },
  {
   "cell_type": "code",
   "execution_count": null,
   "id": "f6bb44e9-1b79-47a9-a708-2944ed6fb4dd",
   "metadata": {},
   "outputs": [
    {
     "ename": "BinderException",
     "evalue": "Binder Error: Table function can have at most one subquery parameter ",
     "output_type": "error",
     "traceback": [
      "\u001b[0;31m---------------------------------------------------------------------------\u001b[0m",
      "\u001b[0;31mBinderException\u001b[0m                           Traceback (most recent call last)",
      "Cell \u001b[0;32mIn[22], line 1\u001b[0m\n\u001b[0;32m----> 1\u001b[0m \u001b[43mduckdb\u001b[49m\u001b[38;5;241;43m.\u001b[39;49m\u001b[43mquery\u001b[49m\u001b[43m(\u001b[49m\u001b[38;5;124;43m\"\"\"\u001b[39;49m\n\u001b[1;32m      2\u001b[0m \u001b[38;5;124;43mselect  * from\u001b[39;49m\n\u001b[1;32m      3\u001b[0m \u001b[38;5;124;43mgenerate_series(\u001b[39;49m\n\u001b[1;32m      4\u001b[0m \u001b[38;5;124;43m        (select min(era_start) from wh_df),\u001b[39;49m\n\u001b[1;32m      5\u001b[0m \u001b[38;5;124;43m        (select max(era_end) from wh_df),\u001b[39;49m\n\u001b[1;32m      6\u001b[0m \u001b[38;5;124;43m        interval 1 second\u001b[39;49m\n\u001b[1;32m      7\u001b[0m \u001b[38;5;124;43m    );\u001b[39;49m\n\u001b[1;32m      8\u001b[0m \u001b[38;5;124;43m\"\"\"\u001b[39;49m\u001b[43m)\u001b[49m\n",
      "\u001b[0;31mBinderException\u001b[0m: Binder Error: Table function can have at most one subquery parameter "
     ]
    },
    {
     "name": "stdout",
     "output_type": "stream",
     "text": [
      "time: 14.8 ms (started: 2023-04-20 21:39:43 -04:00)\n"
     ]
    }
   ],
   "source": [
    "duckdb.query(\"\"\"\n",
    "select  * from\n",
    "generate_series(\n",
    "        (select min(era_start) from wh_df),\n",
    "        (select max(era_end) from wh_df),\n",
    "        interval 1 second\n",
    "    );\n",
    "\"\"\")"
   ]
  },
  {
   "cell_type": "code",
   "execution_count": null,
   "id": "2d83f75a-9dfc-4cb8-8120-8a9328ac2487",
   "metadata": {},
   "outputs": [
    {
     "ename": "BinderException",
     "evalue": "Binder Error: Table function cannot contain subqueries",
     "output_type": "error",
     "traceback": [
      "\u001b[0;31m---------------------------------------------------------------------------\u001b[0m",
      "\u001b[0;31mBinderException\u001b[0m                           Traceback (most recent call last)",
      "Cell \u001b[0;32mIn[26], line 1\u001b[0m\n\u001b[0;32m----> 1\u001b[0m \u001b[43mduckdb\u001b[49m\u001b[38;5;241;43m.\u001b[39;49m\u001b[43mquery\u001b[49m\u001b[43m(\u001b[49m\u001b[38;5;124;43m\"\"\"\u001b[39;49m\n\u001b[1;32m      2\u001b[0m \u001b[38;5;124;43mSELECT \u001b[39;49m\n\u001b[1;32m      3\u001b[0m \u001b[38;5;124;43m* \u001b[39;49m\n\u001b[1;32m      4\u001b[0m \u001b[38;5;124;43mFROM \u001b[39;49m\n\u001b[1;32m      5\u001b[0m \u001b[38;5;124;43mgenerate_series(\u001b[39;49m\n\u001b[1;32m      6\u001b[0m \u001b[38;5;124;43m    (select min(era_start) from wh_df)::timestamp,\u001b[39;49m\n\u001b[1;32m      7\u001b[0m \u001b[38;5;124;43m    TIMESTAMP \u001b[39;49m\u001b[38;5;124;43m'\u001b[39;49m\u001b[38;5;124;43m2021-11-29\u001b[39;49m\u001b[38;5;124;43m'\u001b[39;49m\u001b[38;5;124;43m, \u001b[39;49m\n\u001b[1;32m      8\u001b[0m \u001b[38;5;124;43m    INTERVAL 1 DAY\u001b[39;49m\n\u001b[1;32m      9\u001b[0m \u001b[38;5;124;43m);\u001b[39;49m\n\u001b[1;32m     10\u001b[0m \n\u001b[1;32m     11\u001b[0m \u001b[38;5;124;43m\"\"\"\u001b[39;49m\u001b[43m)\u001b[49m\n",
      "\u001b[0;31mBinderException\u001b[0m: Binder Error: Table function cannot contain subqueries"
     ]
    },
    {
     "name": "stdout",
     "output_type": "stream",
     "text": [
      "time: 16.5 ms (started: 2023-04-20 21:42:35 -04:00)\n"
     ]
    }
   ],
   "source": [
    "duckdb.query(\"\"\"\n",
    "SELECT \n",
    "* \n",
    "FROM \n",
    "generate_series(\n",
    "    (select min(era_start) from wh_df)::timestamp,\n",
    "    TIMESTAMP '2021-11-29', \n",
    "    INTERVAL 1 DAY\n",
    ");\n",
    "\n",
    "\"\"\")"
   ]
  },
  {
   "cell_type": "code",
   "execution_count": null,
   "id": "795621ad-5d1b-4d7e-b11d-fd124f5edd63",
   "metadata": {},
   "outputs": [
    {
     "data": {
      "text/plain": [
       "┌─────────────────────┐\n",
       "│   generate_series   │\n",
       "│      timestamp      │\n",
       "├─────────────────────┤\n",
       "│ 2021-01-01 00:00:00 │\n",
       "│ 2021-01-02 00:00:00 │\n",
       "│ 2021-01-03 00:00:00 │\n",
       "│ 2021-01-04 00:00:00 │\n",
       "│ 2021-01-05 00:00:00 │\n",
       "│ 2021-01-06 00:00:00 │\n",
       "│ 2021-01-07 00:00:00 │\n",
       "│ 2021-01-08 00:00:00 │\n",
       "│ 2021-01-09 00:00:00 │\n",
       "│ 2021-01-10 00:00:00 │\n",
       "│          ·          │\n",
       "│          ·          │\n",
       "│          ·          │\n",
       "│ 2021-11-20 00:00:00 │\n",
       "│ 2021-11-21 00:00:00 │\n",
       "│ 2021-11-22 00:00:00 │\n",
       "│ 2021-11-23 00:00:00 │\n",
       "│ 2021-11-24 00:00:00 │\n",
       "│ 2021-11-25 00:00:00 │\n",
       "│ 2021-11-26 00:00:00 │\n",
       "│ 2021-11-27 00:00:00 │\n",
       "│ 2021-11-28 00:00:00 │\n",
       "│ 2021-11-29 00:00:00 │\n",
       "├─────────────────────┤\n",
       "│ 333 rows (20 shown) │\n",
       "└─────────────────────┘"
      ]
     },
     "execution_count": 23,
     "metadata": {},
     "output_type": "execute_result"
    },
    {
     "name": "stdout",
     "output_type": "stream",
     "text": [
      "time: 6.55 ms (started: 2023-04-20 21:40:05 -04:00)\n"
     ]
    }
   ],
   "source": [
    "duckdb.query(\"\"\"\n",
    "SELECT * FROM generate_series(TIMESTAMP '2021-01-01', TIMESTAMP '2021-11-29', INTERVAL 1 DAY);\n",
    "\n",
    "\"\"\")"
   ]
  }
 ],
 "metadata": {
  "kernelspec": {
   "display_name": "Python 3 (ipykernel)",
   "language": "python",
   "name": "python3"
  },
  "language_info": {
   "codemirror_mode": {
    "name": "ipython",
    "version": 3
   },
   "file_extension": ".py",
   "mimetype": "text/x-python",
   "name": "python",
   "nbconvert_exporter": "python",
   "pygments_lexer": "ipython3",
   "version": "3.8.16"
  }
 },
 "nbformat": 4,
 "nbformat_minor": 5
}
