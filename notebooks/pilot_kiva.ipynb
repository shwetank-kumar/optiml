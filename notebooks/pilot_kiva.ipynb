{
 "cells": [
  {
   "cell_type": "code",
   "execution_count": 1,
   "metadata": {},
   "outputs": [],
   "source": [
    "import sys, pathlib\n",
    "sys.path.append(str(pathlib.Path.cwd().parent))\n",
    "# sys.path"
   ]
  },
  {
   "cell_type": "code",
   "execution_count": 2,
   "metadata": {},
   "outputs": [
    {
     "data": {
      "text/html": [
       "<style>.container { width:100% !important; }</style>"
      ],
      "text/plain": [
       "<IPython.core.display.HTML object>"
      ]
     },
     "metadata": {},
     "output_type": "display_data"
    }
   ],
   "source": [
    "from IPython.display import display, HTML\n",
    "display(HTML(\"<style>.container { width:100% !important; }</style>\"))\n",
    "import plotly.express as px"
   ]
  },
  {
   "cell_type": "code",
   "execution_count": 3,
   "metadata": {},
   "outputs": [],
   "source": [
    "%load_ext autoreload\n",
    "%autoreload 2\n",
    "%aimport optiml.queries\n",
    "%matplotlib inline"
   ]
  },
  {
   "cell_type": "code",
   "execution_count": 4,
   "metadata": {},
   "outputs": [
    {
     "name": "stdout",
     "output_type": "stream",
     "text": [
      "/Users/skumar/.snowsql/config\n",
      "Connecting...\n"
     ]
    }
   ],
   "source": [
    "from optiml.connection import SnowflakeConnConfig\n",
    "connection = SnowflakeConnConfig(accountname='VUJSGPR-XG91870', warehousename=\"XSMALL_WH\").create_connection()"
   ]
  },
  {
   "cell_type": "code",
   "execution_count": 5,
   "metadata": {},
   "outputs": [],
   "source": [
    "from optiml.queries import SNFLKQuery\n",
    "qlib = SNFLKQuery(connection, 'KIV')"
   ]
  },
  {
   "cell_type": "code",
   "execution_count": 6,
   "metadata": {},
   "outputs": [
    {
     "data": {
      "text/html": [
       "<div>\n",
       "<style scoped>\n",
       "    .dataframe tbody tr th:only-of-type {\n",
       "        vertical-align: middle;\n",
       "    }\n",
       "\n",
       "    .dataframe tbody tr th {\n",
       "        vertical-align: top;\n",
       "    }\n",
       "\n",
       "    .dataframe thead th {\n",
       "        text-align: right;\n",
       "    }\n",
       "</style>\n",
       "<table border=\"1\" class=\"dataframe\">\n",
       "  <thead>\n",
       "    <tr style=\"text-align: right;\">\n",
       "      <th></th>\n",
       "      <th>WAREHOUSE_GROUP_NAME</th>\n",
       "      <th>TOTAL_CREDITS_USED</th>\n",
       "      <th>TOTAL_DOLLARS_USED</th>\n",
       "    </tr>\n",
       "  </thead>\n",
       "  <tbody>\n",
       "    <tr>\n",
       "      <th>0</th>\n",
       "      <td>Storage</td>\n",
       "      <td>0E-9</td>\n",
       "      <td>1948.223478620758</td>\n",
       "    </tr>\n",
       "    <tr>\n",
       "      <th>1</th>\n",
       "      <td>WH Compute</td>\n",
       "      <td>81241.520555609</td>\n",
       "      <td>81241.520555609000</td>\n",
       "    </tr>\n",
       "  </tbody>\n",
       "</table>\n",
       "</div>"
      ],
      "text/plain": [
       "  WAREHOUSE_GROUP_NAME TOTAL_CREDITS_USED  TOTAL_DOLLARS_USED\n",
       "0              Storage               0E-9   1948.223478620758\n",
       "1           WH Compute    81241.520555609  81241.520555609000"
      ]
     },
     "execution_count": 6,
     "metadata": {},
     "output_type": "execute_result"
    }
   ],
   "source": [
    "df = qlib.cost_by_usage_type('2022-01-01', '2022-12-31')\n",
    "df"
   ]
  },
  {
   "cell_type": "code",
   "execution_count": 7,
   "metadata": {},
   "outputs": [
    {
     "data": {
      "text/plain": [
       "WAREHOUSE_GROUP_NAME     object\n",
       "TOTAL_CREDITS_USED      float64\n",
       "TOTAL_DOLLARS_USED      float64\n",
       "dtype: object"
      ]
     },
     "execution_count": 7,
     "metadata": {},
     "output_type": "execute_result"
    }
   ],
   "source": [
    "df['TOTAL_CREDITS_USED'] = df['TOTAL_CREDITS_USED'].astype(float)\n",
    "df['TOTAL_DOLLARS_USED'] = df['TOTAL_DOLLARS_USED'].astype(float)\n",
    "df.dtypes"
   ]
  },
  {
   "cell_type": "code",
   "execution_count": 9,
   "metadata": {},
   "outputs": [
    {
     "data": {
      "image/png": "[encoded data removed]",
      "text/plain": [
       "<Figure size 500x500 with 1 Axes>"
      ]
     },
     "metadata": {},
     "output_type": "display_data"
    }
   ],
   "source": [
    "df.plot.pie(y='TOTAL_CREDITS_USED', figsize=(5, 5))\n",
    "fig = px.pie(df, values='TOTAL_DOLLARS_USED', names='WAREHOUSE_GROUP_NAME', title='Credits Used by Type')"
   ]
  },
  {
   "cell_type": "markdown",
   "metadata": {},
   "source": [
    "* Largely used by compute\n",
    "* In 2020 auto clustering was on but was turned off - why?\n",
    "* Storage credits at 0 since storage is charged as a flat rate - are numbers consistent?\n",
    "* Definitely did not use $80K worth of credits in October since total bill is $50K - so something is wrong!\n"
   ]
  },
  {
   "cell_type": "code",
   "execution_count": null,
   "metadata": {},
   "outputs": [],
   "source": []
  },
  {
   "cell_type": "code",
   "execution_count": 7,
   "metadata": {},
   "outputs": [
    {
     "data": {
      "text/html": [
       "<div>\n",
       "<style scoped>\n",
       "    .dataframe tbody tr th:only-of-type {\n",
       "        vertical-align: middle;\n",
       "    }\n",
       "\n",
       "    .dataframe tbody tr th {\n",
       "        vertical-align: top;\n",
       "    }\n",
       "\n",
       "    .dataframe thead th {\n",
       "        text-align: right;\n",
       "    }\n",
       "</style>\n",
       "<table border=\"1\" class=\"dataframe\">\n",
       "  <thead>\n",
       "    <tr style=\"text-align: right;\">\n",
       "      <th></th>\n",
       "      <th>USER_NAME</th>\n",
       "      <th>WAREHOUSE_GROUP_NAME</th>\n",
       "      <th>CREDITS_USED</th>\n",
       "      <th>CUMULATIVE_CREDITS_TOTAL</th>\n",
       "      <th>START_TIME</th>\n",
       "      <th>END_TIME</th>\n",
       "    </tr>\n",
       "  </thead>\n",
       "  <tbody>\n",
       "    <tr>\n",
       "      <th>0</th>\n",
       "      <td>USER</td>\n",
       "      <td>Auto Clustering</td>\n",
       "      <td>0.017153673</td>\n",
       "      <td>0.017153673</td>\n",
       "      <td>2020-05-13 23:00:00-07:00</td>\n",
       "      <td>2020-05-14 00:00:00-07:00</td>\n",
       "    </tr>\n",
       "    <tr>\n",
       "      <th>1</th>\n",
       "      <td>USER</td>\n",
       "      <td>Auto Clustering</td>\n",
       "      <td>0.002138804</td>\n",
       "      <td>0.019292477</td>\n",
       "      <td>2020-05-14 01:00:00-07:00</td>\n",
       "      <td>2020-05-14 02:00:00-07:00</td>\n",
       "    </tr>\n",
       "    <tr>\n",
       "      <th>2</th>\n",
       "      <td>USER</td>\n",
       "      <td>Auto Clustering</td>\n",
       "      <td>0.000392205</td>\n",
       "      <td>0.019684682</td>\n",
       "      <td>2020-05-14 02:00:00-07:00</td>\n",
       "      <td>2020-05-14 03:00:00-07:00</td>\n",
       "    </tr>\n",
       "    <tr>\n",
       "      <th>3</th>\n",
       "      <td>USER</td>\n",
       "      <td>Auto Clustering</td>\n",
       "      <td>0.000553646</td>\n",
       "      <td>0.020238328</td>\n",
       "      <td>2020-05-14 04:00:00-07:00</td>\n",
       "      <td>2020-05-14 05:00:00-07:00</td>\n",
       "    </tr>\n",
       "    <tr>\n",
       "      <th>4</th>\n",
       "      <td>USER</td>\n",
       "      <td>Auto Clustering</td>\n",
       "      <td>0.000468686</td>\n",
       "      <td>0.020707014</td>\n",
       "      <td>2020-05-14 05:00:00-07:00</td>\n",
       "      <td>2020-05-14 06:00:00-07:00</td>\n",
       "    </tr>\n",
       "    <tr>\n",
       "      <th>...</th>\n",
       "      <td>...</td>\n",
       "      <td>...</td>\n",
       "      <td>...</td>\n",
       "      <td>...</td>\n",
       "      <td>...</td>\n",
       "      <td>...</td>\n",
       "    </tr>\n",
       "    <tr>\n",
       "      <th>47569</th>\n",
       "      <td>VERTEX_PROD</td>\n",
       "      <td>WH Compute</td>\n",
       "      <td>3.162718334</td>\n",
       "      <td>113078.835138905</td>\n",
       "      <td>2022-10-12 17:00:00-07:00</td>\n",
       "      <td>2022-10-12 18:00:00-07:00</td>\n",
       "    </tr>\n",
       "    <tr>\n",
       "      <th>47570</th>\n",
       "      <td>DBT_DEV</td>\n",
       "      <td>WH Compute</td>\n",
       "      <td>1.030006111</td>\n",
       "      <td>113078.835138905</td>\n",
       "      <td>2022-10-12 17:00:00-07:00</td>\n",
       "      <td>2022-10-12 18:00:00-07:00</td>\n",
       "    </tr>\n",
       "    <tr>\n",
       "      <th>47571</th>\n",
       "      <td>GREGORYW</td>\n",
       "      <td>WH Compute</td>\n",
       "      <td>4.300761945</td>\n",
       "      <td>113078.835138905</td>\n",
       "      <td>2022-10-12 17:00:00-07:00</td>\n",
       "      <td>2022-10-12 18:00:00-07:00</td>\n",
       "    </tr>\n",
       "    <tr>\n",
       "      <th>47572</th>\n",
       "      <td>None</td>\n",
       "      <td>WH Compute</td>\n",
       "      <td>2.139133889</td>\n",
       "      <td>113078.835138905</td>\n",
       "      <td>2022-10-12 17:00:00-07:00</td>\n",
       "      <td>2022-10-12 18:00:00-07:00</td>\n",
       "    </tr>\n",
       "    <tr>\n",
       "      <th>47573</th>\n",
       "      <td>ROBS</td>\n",
       "      <td>WH Compute</td>\n",
       "      <td>0.108037500</td>\n",
       "      <td>113078.835138905</td>\n",
       "      <td>2022-10-12 17:00:00-07:00</td>\n",
       "      <td>2022-10-12 18:00:00-07:00</td>\n",
       "    </tr>\n",
       "  </tbody>\n",
       "</table>\n",
       "<p>47574 rows × 6 columns</p>\n",
       "</div>"
      ],
      "text/plain": [
       "         USER_NAME WAREHOUSE_GROUP_NAME CREDITS_USED CUMULATIVE_CREDITS_TOTAL  \\\n",
       "0             USER      Auto Clustering  0.017153673              0.017153673   \n",
       "1             USER      Auto Clustering  0.002138804              0.019292477   \n",
       "2             USER      Auto Clustering  0.000392205              0.019684682   \n",
       "3             USER      Auto Clustering  0.000553646              0.020238328   \n",
       "4             USER      Auto Clustering  0.000468686              0.020707014   \n",
       "...            ...                  ...          ...                      ...   \n",
       "47569  VERTEX_PROD           WH Compute  3.162718334         113078.835138905   \n",
       "47570      DBT_DEV           WH Compute  1.030006111         113078.835138905   \n",
       "47571     GREGORYW           WH Compute  4.300761945         113078.835138905   \n",
       "47572         None           WH Compute  2.139133889         113078.835138905   \n",
       "47573         ROBS           WH Compute  0.108037500         113078.835138905   \n",
       "\n",
       "                     START_TIME                  END_TIME  \n",
       "0     2020-05-13 23:00:00-07:00 2020-05-14 00:00:00-07:00  \n",
       "1     2020-05-14 01:00:00-07:00 2020-05-14 02:00:00-07:00  \n",
       "2     2020-05-14 02:00:00-07:00 2020-05-14 03:00:00-07:00  \n",
       "3     2020-05-14 04:00:00-07:00 2020-05-14 05:00:00-07:00  \n",
       "4     2020-05-14 05:00:00-07:00 2020-05-14 06:00:00-07:00  \n",
       "...                         ...                       ...  \n",
       "47569 2022-10-12 17:00:00-07:00 2022-10-12 18:00:00-07:00  \n",
       "47570 2022-10-12 17:00:00-07:00 2022-10-12 18:00:00-07:00  \n",
       "47571 2022-10-12 17:00:00-07:00 2022-10-12 18:00:00-07:00  \n",
       "47572 2022-10-12 17:00:00-07:00 2022-10-12 18:00:00-07:00  \n",
       "47573 2022-10-12 17:00:00-07:00 2022-10-12 18:00:00-07:00  \n",
       "\n",
       "[47574 rows x 6 columns]"
      ]
     },
     "execution_count": 7,
     "metadata": {},
     "output_type": "execute_result"
    }
   ],
   "source": [
    "qlib.cost_by_user_ts('2022-01-01', '2022-12-31')"
   ]
  },
  {
   "cell_type": "code",
   "execution_count": null,
   "metadata": {},
   "outputs": [],
   "source": []
  },
  {
   "cell_type": "code",
   "execution_count": null,
   "metadata": {},
   "outputs": [],
   "source": []
  }
 ],
 "metadata": {
  "kernelspec": {
   "display_name": "Python 3.9.13 ('optiml')",
   "language": "python",
   "name": "python3"
  },
  "language_info": {
   "codemirror_mode": {
    "name": "ipython",
    "version": 3
   },
   "file_extension": ".py",
   "mimetype": "text/x-python",
   "name": "python",
   "nbconvert_exporter": "python",
   "pygments_lexer": "ipython3",
   "version": "3.9.13"
  },
  "orig_nbformat": 4,
  "vscode": {
   "interpreter": {
    "hash": "0b8a906c7b170557ce5d4758c7e9bdb3506ce8a7fb6256c2cbbf4ff47cece145"
   }
  }
 },
 "nbformat": 4,
 "nbformat_minor": 2
}
