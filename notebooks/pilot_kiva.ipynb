{
 "cells": [
  {
   "cell_type": "code",
   "execution_count": 1,
   "metadata": {},
   "outputs": [],
   "source": [
    "import sys, pathlib\n",
    "sys.path.append(str(pathlib.Path.cwd().parent))\n",
    "# sys.path"
   ]
  },
  {
   "cell_type": "code",
   "execution_count": 2,
   "metadata": {},
   "outputs": [
    {
     "data": {
      "text/html": [
       "<style>.container { width:100% !important; }</style>"
      ],
      "text/plain": [
       "<IPython.core.display.HTML object>"
      ]
     },
     "metadata": {},
     "output_type": "display_data"
    }
   ],
   "source": [
    "from IPython.display import display, HTML\n",
    "display(HTML(\"<style>.container { width:100% !important; }</style>\"))\n",
    "import plotly.express as px\n",
    "import plotly.graph_objects as go\n",
    "from plotly.subplots import make_subplots\n",
    "from tabulate import tabulate"
   ]
  },
  {
   "cell_type": "code",
   "execution_count": 3,
   "metadata": {},
   "outputs": [],
   "source": [
    "%load_ext autoreload\n",
    "%autoreload 2\n",
    "%aimport optiml.queries\n",
    "%matplotlib inline"
   ]
  },
  {
   "cell_type": "code",
   "execution_count": 4,
   "metadata": {},
   "outputs": [
    {
     "name": "stdout",
     "output_type": "stream",
     "text": [
      "/Users/skumar/.snowsql/config\n",
      "Connecting...\n"
     ]
    }
   ],
   "source": [
    "from optiml.connection import SnowflakeConnConfig\n",
    "from optiml.queries import SNFLKQuery\n",
    "connection = SnowflakeConnConfig(accountname='VUJSGPR-XG91870', warehousename=\"XSMALL_WH\").create_connection()\n",
    "qlib = SNFLKQuery(connection, 'KIV')"
   ]
  },
  {
   "cell_type": "code",
   "execution_count": 17,
   "metadata": {},
   "outputs": [
    {
     "data": {
      "text/html": [
       "<div>\n",
       "<style scoped>\n",
       "    .dataframe tbody tr th:only-of-type {\n",
       "        vertical-align: middle;\n",
       "    }\n",
       "\n",
       "    .dataframe tbody tr th {\n",
       "        vertical-align: top;\n",
       "    }\n",
       "\n",
       "    .dataframe thead th {\n",
       "        text-align: right;\n",
       "    }\n",
       "</style>\n",
       "<table border=\"1\" class=\"dataframe\">\n",
       "  <thead>\n",
       "    <tr style=\"text-align: right;\">\n",
       "      <th></th>\n",
       "      <th>WAREHOUSE_NAME</th>\n",
       "      <th>CREDITS_USED_COMPUTE_SUM</th>\n",
       "      <th>TOTAL_DOLLARS_USED</th>\n",
       "    </tr>\n",
       "  </thead>\n",
       "  <tbody>\n",
       "    <tr>\n",
       "      <th>0</th>\n",
       "      <td>PROD_WH</td>\n",
       "      <td>612.847780833</td>\n",
       "      <td>1225.695561666</td>\n",
       "    </tr>\n",
       "    <tr>\n",
       "      <th>1</th>\n",
       "      <td>ML_WH</td>\n",
       "      <td>70.201448074</td>\n",
       "      <td>140.402896148</td>\n",
       "    </tr>\n",
       "    <tr>\n",
       "      <th>2</th>\n",
       "      <td>DEV_WH</td>\n",
       "      <td>398.834608888</td>\n",
       "      <td>797.669217776</td>\n",
       "    </tr>\n",
       "    <tr>\n",
       "      <th>3</th>\n",
       "      <td>DAILY_REFRESH_WH</td>\n",
       "      <td>173.591642219</td>\n",
       "      <td>347.183284438</td>\n",
       "    </tr>\n",
       "    <tr>\n",
       "      <th>4</th>\n",
       "      <td>CLOUD_SERVICES_ONLY</td>\n",
       "      <td>0.000201944</td>\n",
       "      <td>0.000403888</td>\n",
       "    </tr>\n",
       "  </tbody>\n",
       "</table>\n",
       "</div>"
      ],
      "text/plain": [
       "        WAREHOUSE_NAME CREDITS_USED_COMPUTE_SUM TOTAL_DOLLARS_USED\n",
       "0              PROD_WH            612.847780833     1225.695561666\n",
       "1                ML_WH             70.201448074      140.402896148\n",
       "2               DEV_WH            398.834608888      797.669217776\n",
       "3     DAILY_REFRESH_WH            173.591642219      347.183284438\n",
       "4  CLOUD_SERVICES_ONLY              0.000201944        0.000403888"
      ]
     },
     "execution_count": 17,
     "metadata": {},
     "output_type": "execute_result"
    }
   ],
   "source": [
    "df = qlib.total_cost_breakdown('2022-10-01', '2022-10-31')\n",
    "df = qlib.cost_by_wh('2022-10-01', '2022-10-31')\n",
    "df"
   ]
  },
  {
   "cell_type": "code",
   "execution_count": 19,
   "metadata": {},
   "outputs": [
    {
     "data": {
      "application/vnd.plotly.v1+json": {
       "config": {
        "plotlyServerURL": "https://plot.ly"
       },
       "data": [
        {
         "domain": {
          "x": [
           0,
           0.45
          ],
          "y": [
           0,
           1
          ]
         },
         "labels": [
          "PROD_WH",
          "ML_WH",
          "DEV_WH",
          "DAILY_REFRESH_WH",
          "CLOUD_SERVICES_ONLY"
         ],
         "type": "pie",
         "values": [
          612.847780833,
          70.201448074,
          398.834608888,
          173.591642219,
          0.000201944
         ]
        },
        {
         "cells": {
          "values": [
           [
            100,
            90,
            80,
            90
           ],
           [
            95,
            85,
            75,
            95
           ]
          ]
         },
         "domain": {
          "x": [
           0.55,
           1
          ],
          "y": [
           0,
           1
          ]
         },
         "header": {
          "values": [
           "A Scores",
           "B Scores"
          ]
         },
         "type": "table"
        }
       ],
       "layout": {
        "template": {
         "data": {
          "bar": [
           {
            "error_x": {
             "color": "#2a3f5f"
            },
            "error_y": {
             "color": "#2a3f5f"
            },
            "marker": {
             "line": {
              "color": "#E5ECF6",
              "width": 0.5
             },
             "pattern": {
              "fillmode": "overlay",
              "size": 10,
              "solidity": 0.2
             }
            },
            "type": "bar"
           }
          ],
          "barpolar": [
           {
            "marker": {
             "line": {
              "color": "#E5ECF6",
              "width": 0.5
             },
             "pattern": {
              "fillmode": "overlay",
              "size": 10,
              "solidity": 0.2
             }
            },
            "type": "barpolar"
           }
          ],
          "carpet": [
           {
            "aaxis": {
             "endlinecolor": "#2a3f5f",
             "gridcolor": "white",
             "linecolor": "white",
             "minorgridcolor": "white",
             "startlinecolor": "#2a3f5f"
            },
            "baxis": {
             "endlinecolor": "#2a3f5f",
             "gridcolor": "white",
             "linecolor": "white",
             "minorgridcolor": "white",
             "startlinecolor": "#2a3f5f"
            },
            "type": "carpet"
           }
          ],
          "choropleth": [
           {
            "colorbar": {
             "outlinewidth": 0,
             "ticks": ""
            },
            "type": "choropleth"
           }
          ],
          "contour": [
           {
            "colorbar": {
             "outlinewidth": 0,
             "ticks": ""
            },
            "colorscale": [
             [
              0,
              "#0d0887"
             ],
             [
              0.1111111111111111,
              "#46039f"
             ],
             [
              0.2222222222222222,
              "#7201a8"
             ],
             [
              0.3333333333333333,
              "#9c179e"
             ],
             [
              0.4444444444444444,
              "#bd3786"
             ],
             [
              0.5555555555555556,
              "#d8576b"
             ],
             [
              0.6666666666666666,
              "#ed7953"
             ],
             [
              0.7777777777777778,
              "#fb9f3a"
             ],
             [
              0.8888888888888888,
              "#fdca26"
             ],
             [
              1,
              "#f0f921"
             ]
            ],
            "type": "contour"
           }
          ],
          "contourcarpet": [
           {
            "colorbar": {
             "outlinewidth": 0,
             "ticks": ""
            },
            "type": "contourcarpet"
           }
          ],
          "heatmap": [
           {
            "colorbar": {
             "outlinewidth": 0,
             "ticks": ""
            },
            "colorscale": [
             [
              0,
              "#0d0887"
             ],
             [
              0.1111111111111111,
              "#46039f"
             ],
             [
              0.2222222222222222,
              "#7201a8"
             ],
             [
              0.3333333333333333,
              "#9c179e"
             ],
             [
              0.4444444444444444,
              "#bd3786"
             ],
             [
              0.5555555555555556,
              "#d8576b"
             ],
             [
              0.6666666666666666,
              "#ed7953"
             ],
             [
              0.7777777777777778,
              "#fb9f3a"
             ],
             [
              0.8888888888888888,
              "#fdca26"
             ],
             [
              1,
              "#f0f921"
             ]
            ],
            "type": "heatmap"
           }
          ],
          "heatmapgl": [
           {
            "colorbar": {
             "outlinewidth": 0,
             "ticks": ""
            },
            "colorscale": [
             [
              0,
              "#0d0887"
             ],
             [
              0.1111111111111111,
              "#46039f"
             ],
             [
              0.2222222222222222,
              "#7201a8"
             ],
             [
              0.3333333333333333,
              "#9c179e"
             ],
             [
              0.4444444444444444,
              "#bd3786"
             ],
             [
              0.5555555555555556,
              "#d8576b"
             ],
             [
              0.6666666666666666,
              "#ed7953"
             ],
             [
              0.7777777777777778,
              "#fb9f3a"
             ],
             [
              0.8888888888888888,
              "#fdca26"
             ],
             [
              1,
              "#f0f921"
             ]
            ],
            "type": "heatmapgl"
           }
          ],
          "histogram": [
           {
            "marker": {
             "pattern": {
              "fillmode": "overlay",
              "size": 10,
              "solidity": 0.2
             }
            },
            "type": "histogram"
           }
          ],
          "histogram2d": [
           {
            "colorbar": {
             "outlinewidth": 0,
             "ticks": ""
            },
            "colorscale": [
             [
              0,
              "#0d0887"
             ],
             [
              0.1111111111111111,
              "#46039f"
             ],
             [
              0.2222222222222222,
              "#7201a8"
             ],
             [
              0.3333333333333333,
              "#9c179e"
             ],
             [
              0.4444444444444444,
              "#bd3786"
             ],
             [
              0.5555555555555556,
              "#d8576b"
             ],
             [
              0.6666666666666666,
              "#ed7953"
             ],
             [
              0.7777777777777778,
              "#fb9f3a"
             ],
             [
              0.8888888888888888,
              "#fdca26"
             ],
             [
              1,
              "#f0f921"
             ]
            ],
            "type": "histogram2d"
           }
          ],
          "histogram2dcontour": [
           {
            "colorbar": {
             "outlinewidth": 0,
             "ticks": ""
            },
            "colorscale": [
             [
              0,
              "#0d0887"
             ],
             [
              0.1111111111111111,
              "#46039f"
             ],
             [
              0.2222222222222222,
              "#7201a8"
             ],
             [
              0.3333333333333333,
              "#9c179e"
             ],
             [
              0.4444444444444444,
              "#bd3786"
             ],
             [
              0.5555555555555556,
              "#d8576b"
             ],
             [
              0.6666666666666666,
              "#ed7953"
             ],
             [
              0.7777777777777778,
              "#fb9f3a"
             ],
             [
              0.8888888888888888,
              "#fdca26"
             ],
             [
              1,
              "#f0f921"
             ]
            ],
            "type": "histogram2dcontour"
           }
          ],
          "mesh3d": [
           {
            "colorbar": {
             "outlinewidth": 0,
             "ticks": ""
            },
            "type": "mesh3d"
           }
          ],
          "parcoords": [
           {
            "line": {
             "colorbar": {
              "outlinewidth": 0,
              "ticks": ""
             }
            },
            "type": "parcoords"
           }
          ],
          "pie": [
           {
            "automargin": true,
            "type": "pie"
           }
          ],
          "scatter": [
           {
            "fillpattern": {
             "fillmode": "overlay",
             "size": 10,
             "solidity": 0.2
            },
            "type": "scatter"
           }
          ],
          "scatter3d": [
           {
            "line": {
             "colorbar": {
              "outlinewidth": 0,
              "ticks": ""
             }
            },
            "marker": {
             "colorbar": {
              "outlinewidth": 0,
              "ticks": ""
             }
            },
            "type": "scatter3d"
           }
          ],
          "scattercarpet": [
           {
            "marker": {
             "colorbar": {
              "outlinewidth": 0,
              "ticks": ""
             }
            },
            "type": "scattercarpet"
           }
          ],
          "scattergeo": [
           {
            "marker": {
             "colorbar": {
              "outlinewidth": 0,
              "ticks": ""
             }
            },
            "type": "scattergeo"
           }
          ],
          "scattergl": [
           {
            "marker": {
             "colorbar": {
              "outlinewidth": 0,
              "ticks": ""
             }
            },
            "type": "scattergl"
           }
          ],
          "scattermapbox": [
           {
            "marker": {
             "colorbar": {
              "outlinewidth": 0,
              "ticks": ""
             }
            },
            "type": "scattermapbox"
           }
          ],
          "scatterpolar": [
           {
            "marker": {
             "colorbar": {
              "outlinewidth": 0,
              "ticks": ""
             }
            },
            "type": "scatterpolar"
           }
          ],
          "scatterpolargl": [
           {
            "marker": {
             "colorbar": {
              "outlinewidth": 0,
              "ticks": ""
             }
            },
            "type": "scatterpolargl"
           }
          ],
          "scatterternary": [
           {
            "marker": {
             "colorbar": {
              "outlinewidth": 0,
              "ticks": ""
             }
            },
            "type": "scatterternary"
           }
          ],
          "surface": [
           {
            "colorbar": {
             "outlinewidth": 0,
             "ticks": ""
            },
            "colorscale": [
             [
              0,
              "#0d0887"
             ],
             [
              0.1111111111111111,
              "#46039f"
             ],
             [
              0.2222222222222222,
              "#7201a8"
             ],
             [
              0.3333333333333333,
              "#9c179e"
             ],
             [
              0.4444444444444444,
              "#bd3786"
             ],
             [
              0.5555555555555556,
              "#d8576b"
             ],
             [
              0.6666666666666666,
              "#ed7953"
             ],
             [
              0.7777777777777778,
              "#fb9f3a"
             ],
             [
              0.8888888888888888,
              "#fdca26"
             ],
             [
              1,
              "#f0f921"
             ]
            ],
            "type": "surface"
           }
          ],
          "table": [
           {
            "cells": {
             "fill": {
              "color": "#EBF0F8"
             },
             "line": {
              "color": "white"
             }
            },
            "header": {
             "fill": {
              "color": "#C8D4E3"
             },
             "line": {
              "color": "white"
             }
            },
            "type": "table"
           }
          ]
         },
         "layout": {
          "annotationdefaults": {
           "arrowcolor": "#2a3f5f",
           "arrowhead": 0,
           "arrowwidth": 1
          },
          "autotypenumbers": "strict",
          "coloraxis": {
           "colorbar": {
            "outlinewidth": 0,
            "ticks": ""
           }
          },
          "colorscale": {
           "diverging": [
            [
             0,
             "#8e0152"
            ],
            [
             0.1,
             "#c51b7d"
            ],
            [
             0.2,
             "#de77ae"
            ],
            [
             0.3,
             "#f1b6da"
            ],
            [
             0.4,
             "#fde0ef"
            ],
            [
             0.5,
             "#f7f7f7"
            ],
            [
             0.6,
             "#e6f5d0"
            ],
            [
             0.7,
             "#b8e186"
            ],
            [
             0.8,
             "#7fbc41"
            ],
            [
             0.9,
             "#4d9221"
            ],
            [
             1,
             "#276419"
            ]
           ],
           "sequential": [
            [
             0,
             "#0d0887"
            ],
            [
             0.1111111111111111,
             "#46039f"
            ],
            [
             0.2222222222222222,
             "#7201a8"
            ],
            [
             0.3333333333333333,
             "#9c179e"
            ],
            [
             0.4444444444444444,
             "#bd3786"
            ],
            [
             0.5555555555555556,
             "#d8576b"
            ],
            [
             0.6666666666666666,
             "#ed7953"
            ],
            [
             0.7777777777777778,
             "#fb9f3a"
            ],
            [
             0.8888888888888888,
             "#fdca26"
            ],
            [
             1,
             "#f0f921"
            ]
           ],
           "sequentialminus": [
            [
             0,
             "#0d0887"
            ],
            [
             0.1111111111111111,
             "#46039f"
            ],
            [
             0.2222222222222222,
             "#7201a8"
            ],
            [
             0.3333333333333333,
             "#9c179e"
            ],
            [
             0.4444444444444444,
             "#bd3786"
            ],
            [
             0.5555555555555556,
             "#d8576b"
            ],
            [
             0.6666666666666666,
             "#ed7953"
            ],
            [
             0.7777777777777778,
             "#fb9f3a"
            ],
            [
             0.8888888888888888,
             "#fdca26"
            ],
            [
             1,
             "#f0f921"
            ]
           ]
          },
          "colorway": [
           "#636efa",
           "#EF553B",
           "#00cc96",
           "#ab63fa",
           "#FFA15A",
           "#19d3f3",
           "#FF6692",
           "#B6E880",
           "#FF97FF",
           "#FECB52"
          ],
          "font": {
           "color": "#2a3f5f"
          },
          "geo": {
           "bgcolor": "white",
           "lakecolor": "white",
           "landcolor": "#E5ECF6",
           "showlakes": true,
           "showland": true,
           "subunitcolor": "white"
          },
          "hoverlabel": {
           "align": "left"
          },
          "hovermode": "closest",
          "mapbox": {
           "style": "light"
          },
          "paper_bgcolor": "white",
          "plot_bgcolor": "#E5ECF6",
          "polar": {
           "angularaxis": {
            "gridcolor": "white",
            "linecolor": "white",
            "ticks": ""
           },
           "bgcolor": "#E5ECF6",
           "radialaxis": {
            "gridcolor": "white",
            "linecolor": "white",
            "ticks": ""
           }
          },
          "scene": {
           "xaxis": {
            "backgroundcolor": "#E5ECF6",
            "gridcolor": "white",
            "gridwidth": 2,
            "linecolor": "white",
            "showbackground": true,
            "ticks": "",
            "zerolinecolor": "white"
           },
           "yaxis": {
            "backgroundcolor": "#E5ECF6",
            "gridcolor": "white",
            "gridwidth": 2,
            "linecolor": "white",
            "showbackground": true,
            "ticks": "",
            "zerolinecolor": "white"
           },
           "zaxis": {
            "backgroundcolor": "#E5ECF6",
            "gridcolor": "white",
            "gridwidth": 2,
            "linecolor": "white",
            "showbackground": true,
            "ticks": "",
            "zerolinecolor": "white"
           }
          },
          "shapedefaults": {
           "line": {
            "color": "#2a3f5f"
           }
          },
          "ternary": {
           "aaxis": {
            "gridcolor": "white",
            "linecolor": "white",
            "ticks": ""
           },
           "baxis": {
            "gridcolor": "white",
            "linecolor": "white",
            "ticks": ""
           },
           "bgcolor": "#E5ECF6",
           "caxis": {
            "gridcolor": "white",
            "linecolor": "white",
            "ticks": ""
           }
          },
          "title": {
           "x": 0.05
          },
          "xaxis": {
           "automargin": true,
           "gridcolor": "white",
           "linecolor": "white",
           "ticks": "",
           "title": {
            "standoff": 15
           },
           "zerolinecolor": "white",
           "zerolinewidth": 2
          },
          "yaxis": {
           "automargin": true,
           "gridcolor": "white",
           "linecolor": "white",
           "ticks": "",
           "title": {
            "standoff": 15
           },
           "zerolinecolor": "white",
           "zerolinewidth": 2
          }
         }
        }
       }
      }
     },
     "metadata": {},
     "output_type": "display_data"
    }
   ],
   "source": [
    "fig = make_subplots(\n",
    "    rows=1, cols=2,\n",
    "    specs=[[{\"type\": \"pie\"}, {\"type\": \"table\"}]]\n",
    ")\n",
    "# fig = go.Figure()\n",
    "fig.add_trace(go.Pie(labels=df['WAREHOUSE_NAME'].tolist(), values=df['CREDITS_USED_COMPUTE_SUM'].tolist()),row=1, col=1)\n",
    "fig.add_trace(go.Table(header=dict(values=['A Scores', 'B Scores']),\n",
    "                 cells=dict(values=[[100, 90, 80, 90], [95, 85, 75, 95]])),row=1, col=2)\n",
    "fig.show()\n",
    "# display(tabulate(df, headers = 'keys', tablefmt = 'html', showindex=\"never\"))\n",
    "# fig = px.pie(df, values='CREDITS_USED_COMPUTE_SUM', names='WAREHOUSE_NAME', title='Credits Used by Type')"
   ]
  },
  {
   "cell_type": "code",
   "execution_count": 13,
   "metadata": {},
   "outputs": [
    {
     "data": {
      "text/plain": [
       "{'WAREHOUSE_NAME': {0: 'PROD_WH',\n",
       "  1: 'ML_WH',\n",
       "  2: 'DEV_WH',\n",
       "  3: 'DAILY_REFRESH_WH',\n",
       "  4: 'CLOUD_SERVICES_ONLY'},\n",
       " 'CREDITS_USED_COMPUTE_SUM': {0: Decimal('612.847780833'),\n",
       "  1: Decimal('70.201448074'),\n",
       "  2: Decimal('398.834608888'),\n",
       "  3: Decimal('173.591642219'),\n",
       "  4: Decimal('0.000201944')},\n",
       " 'TOTAL_DOLLARS_USED': {0: Decimal('1225.695561666'),\n",
       "  1: Decimal('140.402896148'),\n",
       "  2: Decimal('797.669217776'),\n",
       "  3: Decimal('347.183284438'),\n",
       "  4: Decimal('0.000403888')}}"
      ]
     },
     "execution_count": 13,
     "metadata": {},
     "output_type": "execute_result"
    }
   ],
   "source": [
    "df.to_dict()"
   ]
  },
  {
   "cell_type": "code",
   "execution_count": 13,
   "metadata": {},
   "outputs": [
    {
     "data": {
      "text/html": [
       "<div>\n",
       "<style scoped>\n",
       "    .dataframe tbody tr th:only-of-type {\n",
       "        vertical-align: middle;\n",
       "    }\n",
       "\n",
       "    .dataframe tbody tr th {\n",
       "        vertical-align: top;\n",
       "    }\n",
       "\n",
       "    .dataframe thead th {\n",
       "        text-align: right;\n",
       "    }\n",
       "</style>\n",
       "<table border=\"1\" class=\"dataframe\">\n",
       "  <thead>\n",
       "    <tr style=\"text-align: right;\">\n",
       "      <th></th>\n",
       "      <th>WAREHOUSE_NAME</th>\n",
       "      <th>CREDITS_USED_COMPUTE_SUM</th>\n",
       "      <th>TOTAL_DOLLARS_USED</th>\n",
       "    </tr>\n",
       "  </thead>\n",
       "  <tbody>\n",
       "    <tr>\n",
       "      <th>0</th>\n",
       "      <td>PROD_WH</td>\n",
       "      <td>612.847780833</td>\n",
       "      <td>1225.695561666</td>\n",
       "    </tr>\n",
       "    <tr>\n",
       "      <th>1</th>\n",
       "      <td>ML_WH</td>\n",
       "      <td>70.201448074</td>\n",
       "      <td>140.402896148</td>\n",
       "    </tr>\n",
       "    <tr>\n",
       "      <th>2</th>\n",
       "      <td>DEV_WH</td>\n",
       "      <td>398.834608888</td>\n",
       "      <td>797.669217776</td>\n",
       "    </tr>\n",
       "    <tr>\n",
       "      <th>3</th>\n",
       "      <td>DAILY_REFRESH_WH</td>\n",
       "      <td>173.591642219</td>\n",
       "      <td>347.183284438</td>\n",
       "    </tr>\n",
       "    <tr>\n",
       "      <th>4</th>\n",
       "      <td>CLOUD_SERVICES_ONLY</td>\n",
       "      <td>0.000201944</td>\n",
       "      <td>0.000403888</td>\n",
       "    </tr>\n",
       "  </tbody>\n",
       "</table>\n",
       "</div>"
      ],
      "text/plain": [
       "        WAREHOUSE_NAME CREDITS_USED_COMPUTE_SUM TOTAL_DOLLARS_USED\n",
       "0              PROD_WH            612.847780833     1225.695561666\n",
       "1                ML_WH             70.201448074      140.402896148\n",
       "2               DEV_WH            398.834608888      797.669217776\n",
       "3     DAILY_REFRESH_WH            173.591642219      347.183284438\n",
       "4  CLOUD_SERVICES_ONLY              0.000201944        0.000403888"
      ]
     },
     "execution_count": 13,
     "metadata": {},
     "output_type": "execute_result"
    }
   ],
   "source": [
    "\n",
    "display(tabulate(df, headers = 'keys', tablefmt = 'html', showindex=\"never\"))\n",
    "fig = px.pie(df, values='CREDITS_USED_COMPUTE_SUM', names='WAREHOUSE_NAME', title='Credits Used by Type')"
   ]
  },
  {
   "cell_type": "code",
   "execution_count": 14,
   "metadata": {},
   "outputs": [
    {
     "data": {
      "text/html": [
       "<div>\n",
       "<style scoped>\n",
       "    .dataframe tbody tr th:only-of-type {\n",
       "        vertical-align: middle;\n",
       "    }\n",
       "\n",
       "    .dataframe tbody tr th {\n",
       "        vertical-align: top;\n",
       "    }\n",
       "\n",
       "    .dataframe thead th {\n",
       "        text-align: right;\n",
       "    }\n",
       "</style>\n",
       "<table border=\"1\" class=\"dataframe\">\n",
       "  <thead>\n",
       "    <tr style=\"text-align: right;\">\n",
       "      <th></th>\n",
       "      <th>WAREHOUSE_NAME</th>\n",
       "      <th>TOTAL_CREDITS_USED</th>\n",
       "      <th>TOTAL_DOLLARS_USED</th>\n",
       "    </tr>\n",
       "  </thead>\n",
       "  <tbody>\n",
       "    <tr>\n",
       "      <th>0</th>\n",
       "      <td>CLOUD_SERVICES_ONLY</td>\n",
       "      <td>0E-9</td>\n",
       "      <td>0E-9</td>\n",
       "    </tr>\n",
       "    <tr>\n",
       "      <th>1</th>\n",
       "      <td>DAILY_REFRESH_WH</td>\n",
       "      <td>171.866111109</td>\n",
       "      <td>343.732222218</td>\n",
       "    </tr>\n",
       "    <tr>\n",
       "      <th>2</th>\n",
       "      <td>DEV_WH</td>\n",
       "      <td>390.860833332</td>\n",
       "      <td>781.721666664</td>\n",
       "    </tr>\n",
       "    <tr>\n",
       "      <th>3</th>\n",
       "      <td>ML_WH</td>\n",
       "      <td>69.656666677</td>\n",
       "      <td>139.313333354</td>\n",
       "    </tr>\n",
       "    <tr>\n",
       "      <th>4</th>\n",
       "      <td>PROD_WH</td>\n",
       "      <td>576.646111111</td>\n",
       "      <td>1153.292222222</td>\n",
       "    </tr>\n",
       "  </tbody>\n",
       "</table>\n",
       "</div>"
      ],
      "text/plain": [
       "        WAREHOUSE_NAME TOTAL_CREDITS_USED TOTAL_DOLLARS_USED\n",
       "0  CLOUD_SERVICES_ONLY               0E-9               0E-9\n",
       "1     DAILY_REFRESH_WH      171.866111109      343.732222218\n",
       "2               DEV_WH      390.860833332      781.721666664\n",
       "3                ML_WH       69.656666677      139.313333354\n",
       "4              PROD_WH      576.646111111     1153.292222222"
      ]
     },
     "execution_count": 14,
     "metadata": {},
     "output_type": "execute_result"
    }
   ],
   "source": [
    "df = qlib.cost_of_compute('2022-10-01', '2022-10-31')\n",
    "df"
   ]
  },
  {
   "cell_type": "code",
   "execution_count": 7,
   "metadata": {},
   "outputs": [
    {
     "data": {
      "text/plain": [
       "WAREHOUSE_GROUP_NAME     object\n",
       "TOTAL_CREDITS_USED      float64\n",
       "TOTAL_DOLLARS_USED      float64\n",
       "dtype: object"
      ]
     },
     "execution_count": 7,
     "metadata": {},
     "output_type": "execute_result"
    }
   ],
   "source": [
    "df['TOTAL_CREDITS_USED'] = df['TOTAL_CREDITS_USED'].astype(float)\n",
    "df['TOTAL_DOLLARS_USED'] = df['TOTAL_DOLLARS_USED'].astype(float)\n",
    "df.dtypes"
   ]
  },
  {
   "cell_type": "code",
   "execution_count": 8,
   "metadata": {},
   "outputs": [
    {
     "data": {
      "image/png": "[encoded data removed]",
      "text/plain": [
       "<Figure size 500x500 with 1 Axes>"
      ]
     },
     "metadata": {},
     "output_type": "display_data"
    }
   ],
   "source": [
    "df.plot.pie(y='TOTAL_CREDITS_USED', figsize=(5, 5))\n",
    "fig = px.pie(df, values='TOTAL_DOLLARS_USED', names='WAREHOUSE_GROUP_NAME', title='Credits Used by Type')"
   ]
  },
  {
   "cell_type": "markdown",
   "metadata": {},
   "source": [
    "* Largely used by compute\n",
    "* In 2020 auto clustering was on but was turned off - why?\n",
    "* Storage credits at 0 since storage is charged as a flat rate - are numbers consistent?\n",
    "* Definitely did not use $80K worth of credits in October since total bill is $50K - so something is wrong!\n"
   ]
  },
  {
   "cell_type": "code",
   "execution_count": 12,
   "metadata": {},
   "outputs": [],
   "source": [
    "df = qlib.cost_of_compute_ts('2022-10-12', '2022-10-13')"
   ]
  },
  {
   "cell_type": "code",
   "execution_count": 13,
   "metadata": {},
   "outputs": [
    {
     "data": {
      "text/html": [
       "<div>\n",
       "<style scoped>\n",
       "    .dataframe tbody tr th:only-of-type {\n",
       "        vertical-align: middle;\n",
       "    }\n",
       "\n",
       "    .dataframe tbody tr th {\n",
       "        vertical-align: top;\n",
       "    }\n",
       "\n",
       "    .dataframe thead th {\n",
       "        text-align: right;\n",
       "    }\n",
       "</style>\n",
       "<table border=\"1\" class=\"dataframe\">\n",
       "  <thead>\n",
       "    <tr style=\"text-align: right;\">\n",
       "      <th></th>\n",
       "      <th>WAREHOUSE_GROUP_NAME</th>\n",
       "      <th>TOTAL_CREDITS_USED</th>\n",
       "      <th>CUMULATIVE_CREDITS_TOTAL</th>\n",
       "      <th>START_TIME</th>\n",
       "      <th>END_TIME</th>\n",
       "    </tr>\n",
       "  </thead>\n",
       "  <tbody>\n",
       "    <tr>\n",
       "      <th>0</th>\n",
       "      <td>WH Compute</td>\n",
       "      <td>10.491666666</td>\n",
       "      <td>10.491666666</td>\n",
       "      <td>2022-10-12 00:00:00-07:00</td>\n",
       "      <td>2022-10-12 01:00:00-07:00</td>\n",
       "    </tr>\n",
       "    <tr>\n",
       "      <th>1</th>\n",
       "      <td>WH Compute</td>\n",
       "      <td>10.686666666</td>\n",
       "      <td>21.178333332</td>\n",
       "      <td>2022-10-12 01:00:00-07:00</td>\n",
       "      <td>2022-10-12 02:00:00-07:00</td>\n",
       "    </tr>\n",
       "    <tr>\n",
       "      <th>2</th>\n",
       "      <td>WH Compute</td>\n",
       "      <td>9.407499999</td>\n",
       "      <td>30.585833331</td>\n",
       "      <td>2022-10-12 02:00:00-07:00</td>\n",
       "      <td>2022-10-12 03:00:00-07:00</td>\n",
       "    </tr>\n",
       "    <tr>\n",
       "      <th>3</th>\n",
       "      <td>WH Compute</td>\n",
       "      <td>10.334166666</td>\n",
       "      <td>40.919999997</td>\n",
       "      <td>2022-10-12 03:00:00-07:00</td>\n",
       "      <td>2022-10-12 04:00:00-07:00</td>\n",
       "    </tr>\n",
       "    <tr>\n",
       "      <th>4</th>\n",
       "      <td>WH Compute</td>\n",
       "      <td>9.422499999</td>\n",
       "      <td>50.342499996</td>\n",
       "      <td>2022-10-12 04:00:00-07:00</td>\n",
       "      <td>2022-10-12 05:00:00-07:00</td>\n",
       "    </tr>\n",
       "    <tr>\n",
       "      <th>5</th>\n",
       "      <td>WH Compute</td>\n",
       "      <td>9.425833332</td>\n",
       "      <td>59.768333328</td>\n",
       "      <td>2022-10-12 05:00:00-07:00</td>\n",
       "      <td>2022-10-12 06:00:00-07:00</td>\n",
       "    </tr>\n",
       "    <tr>\n",
       "      <th>6</th>\n",
       "      <td>WH Compute</td>\n",
       "      <td>10.378333332</td>\n",
       "      <td>70.146666660</td>\n",
       "      <td>2022-10-12 06:00:00-07:00</td>\n",
       "      <td>2022-10-12 07:00:00-07:00</td>\n",
       "    </tr>\n",
       "    <tr>\n",
       "      <th>7</th>\n",
       "      <td>WH Compute</td>\n",
       "      <td>9.438333333</td>\n",
       "      <td>79.584999993</td>\n",
       "      <td>2022-10-12 07:00:00-07:00</td>\n",
       "      <td>2022-10-12 08:00:00-07:00</td>\n",
       "    </tr>\n",
       "    <tr>\n",
       "      <th>8</th>\n",
       "      <td>WH Compute</td>\n",
       "      <td>9.429999999</td>\n",
       "      <td>89.014999992</td>\n",
       "      <td>2022-10-12 08:00:00-07:00</td>\n",
       "      <td>2022-10-12 09:00:00-07:00</td>\n",
       "    </tr>\n",
       "    <tr>\n",
       "      <th>9</th>\n",
       "      <td>WH Compute</td>\n",
       "      <td>26.966944446</td>\n",
       "      <td>115.981944438</td>\n",
       "      <td>2022-10-12 09:00:00-07:00</td>\n",
       "      <td>2022-10-12 10:00:00-07:00</td>\n",
       "    </tr>\n",
       "    <tr>\n",
       "      <th>10</th>\n",
       "      <td>WH Compute</td>\n",
       "      <td>25.420000000</td>\n",
       "      <td>141.401944438</td>\n",
       "      <td>2022-10-12 10:00:00-07:00</td>\n",
       "      <td>2022-10-12 11:00:00-07:00</td>\n",
       "    </tr>\n",
       "    <tr>\n",
       "      <th>11</th>\n",
       "      <td>WH Compute</td>\n",
       "      <td>19.189999999</td>\n",
       "      <td>160.591944437</td>\n",
       "      <td>2022-10-12 11:00:00-07:00</td>\n",
       "      <td>2022-10-12 12:00:00-07:00</td>\n",
       "    </tr>\n",
       "    <tr>\n",
       "      <th>12</th>\n",
       "      <td>WH Compute</td>\n",
       "      <td>13.244166666</td>\n",
       "      <td>173.836111103</td>\n",
       "      <td>2022-10-12 12:00:00-07:00</td>\n",
       "      <td>2022-10-12 13:00:00-07:00</td>\n",
       "    </tr>\n",
       "    <tr>\n",
       "      <th>13</th>\n",
       "      <td>WH Compute</td>\n",
       "      <td>13.520000001</td>\n",
       "      <td>187.356111104</td>\n",
       "      <td>2022-10-12 13:00:00-07:00</td>\n",
       "      <td>2022-10-12 14:00:00-07:00</td>\n",
       "    </tr>\n",
       "    <tr>\n",
       "      <th>14</th>\n",
       "      <td>WH Compute</td>\n",
       "      <td>16.289166667</td>\n",
       "      <td>203.645277771</td>\n",
       "      <td>2022-10-12 14:00:00-07:00</td>\n",
       "      <td>2022-10-12 15:00:00-07:00</td>\n",
       "    </tr>\n",
       "    <tr>\n",
       "      <th>15</th>\n",
       "      <td>WH Compute</td>\n",
       "      <td>15.675000001</td>\n",
       "      <td>219.320277772</td>\n",
       "      <td>2022-10-12 15:00:00-07:00</td>\n",
       "      <td>2022-10-12 16:00:00-07:00</td>\n",
       "    </tr>\n",
       "    <tr>\n",
       "      <th>16</th>\n",
       "      <td>WH Compute</td>\n",
       "      <td>13.853611111</td>\n",
       "      <td>233.173888883</td>\n",
       "      <td>2022-10-12 16:00:00-07:00</td>\n",
       "      <td>2022-10-12 17:00:00-07:00</td>\n",
       "    </tr>\n",
       "    <tr>\n",
       "      <th>17</th>\n",
       "      <td>WH Compute</td>\n",
       "      <td>13.319166667</td>\n",
       "      <td>246.493055550</td>\n",
       "      <td>2022-10-12 17:00:00-07:00</td>\n",
       "      <td>2022-10-12 18:00:00-07:00</td>\n",
       "    </tr>\n",
       "  </tbody>\n",
       "</table>\n",
       "</div>"
      ],
      "text/plain": [
       "   WAREHOUSE_GROUP_NAME TOTAL_CREDITS_USED CUMULATIVE_CREDITS_TOTAL  \\\n",
       "0            WH Compute       10.491666666             10.491666666   \n",
       "1            WH Compute       10.686666666             21.178333332   \n",
       "2            WH Compute        9.407499999             30.585833331   \n",
       "3            WH Compute       10.334166666             40.919999997   \n",
       "4            WH Compute        9.422499999             50.342499996   \n",
       "5            WH Compute        9.425833332             59.768333328   \n",
       "6            WH Compute       10.378333332             70.146666660   \n",
       "7            WH Compute        9.438333333             79.584999993   \n",
       "8            WH Compute        9.429999999             89.014999992   \n",
       "9            WH Compute       26.966944446            115.981944438   \n",
       "10           WH Compute       25.420000000            141.401944438   \n",
       "11           WH Compute       19.189999999            160.591944437   \n",
       "12           WH Compute       13.244166666            173.836111103   \n",
       "13           WH Compute       13.520000001            187.356111104   \n",
       "14           WH Compute       16.289166667            203.645277771   \n",
       "15           WH Compute       15.675000001            219.320277772   \n",
       "16           WH Compute       13.853611111            233.173888883   \n",
       "17           WH Compute       13.319166667            246.493055550   \n",
       "\n",
       "                  START_TIME                  END_TIME  \n",
       "0  2022-10-12 00:00:00-07:00 2022-10-12 01:00:00-07:00  \n",
       "1  2022-10-12 01:00:00-07:00 2022-10-12 02:00:00-07:00  \n",
       "2  2022-10-12 02:00:00-07:00 2022-10-12 03:00:00-07:00  \n",
       "3  2022-10-12 03:00:00-07:00 2022-10-12 04:00:00-07:00  \n",
       "4  2022-10-12 04:00:00-07:00 2022-10-12 05:00:00-07:00  \n",
       "5  2022-10-12 05:00:00-07:00 2022-10-12 06:00:00-07:00  \n",
       "6  2022-10-12 06:00:00-07:00 2022-10-12 07:00:00-07:00  \n",
       "7  2022-10-12 07:00:00-07:00 2022-10-12 08:00:00-07:00  \n",
       "8  2022-10-12 08:00:00-07:00 2022-10-12 09:00:00-07:00  \n",
       "9  2022-10-12 09:00:00-07:00 2022-10-12 10:00:00-07:00  \n",
       "10 2022-10-12 10:00:00-07:00 2022-10-12 11:00:00-07:00  \n",
       "11 2022-10-12 11:00:00-07:00 2022-10-12 12:00:00-07:00  \n",
       "12 2022-10-12 12:00:00-07:00 2022-10-12 13:00:00-07:00  \n",
       "13 2022-10-12 13:00:00-07:00 2022-10-12 14:00:00-07:00  \n",
       "14 2022-10-12 14:00:00-07:00 2022-10-12 15:00:00-07:00  \n",
       "15 2022-10-12 15:00:00-07:00 2022-10-12 16:00:00-07:00  \n",
       "16 2022-10-12 16:00:00-07:00 2022-10-12 17:00:00-07:00  \n",
       "17 2022-10-12 17:00:00-07:00 2022-10-12 18:00:00-07:00  "
      ]
     },
     "execution_count": 13,
     "metadata": {},
     "output_type": "execute_result"
    }
   ],
   "source": [
    "df"
   ]
  },
  {
   "cell_type": "code",
   "execution_count": 14,
   "metadata": {},
   "outputs": [
    {
     "data": {
      "text/plain": [
       "Decimal('246.493055550')"
      ]
     },
     "execution_count": 14,
     "metadata": {},
     "output_type": "execute_result"
    }
   ],
   "source": [
    "df['TOTAL_CREDITS_USED'].sum()"
   ]
  },
  {
   "cell_type": "code",
   "execution_count": null,
   "metadata": {},
   "outputs": [],
   "source": []
  }
 ],
 "metadata": {
  "kernelspec": {
   "display_name": "Python 3.9.13 ('optiml')",
   "language": "python",
   "name": "python3"
  },
  "language_info": {
   "codemirror_mode": {
    "name": "ipython",
    "version": 3
   },
   "file_extension": ".py",
   "mimetype": "text/x-python",
   "name": "python",
   "nbconvert_exporter": "python",
   "pygments_lexer": "ipython3",
   "version": "3.9.13"
  },
  "orig_nbformat": 4,
  "vscode": {
   "interpreter": {
    "hash": "0b8a906c7b170557ce5d4758c7e9bdb3506ce8a7fb6256c2cbbf4ff47cece145"
   }
  }
 },
 "nbformat": 4,
 "nbformat_minor": 2
}
