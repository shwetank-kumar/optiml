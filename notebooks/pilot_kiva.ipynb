{
 "cells": [
  {
   "cell_type": "code",
   "execution_count": 76,
   "metadata": {},
   "outputs": [],
   "source": [
    "import sys, pathlib\n",
    "sys.path.append(str(pathlib.Path.cwd().parent))\n",
    "# sys.path"
   ]
  },
  {
   "cell_type": "code",
   "execution_count": 77,
   "metadata": {},
   "outputs": [
    {
     "data": {
      "text/html": [
       "<style>.container { width:100% !important; }</style>"
      ],
      "text/plain": [
       "<IPython.core.display.HTML object>"
      ]
     },
     "metadata": {},
     "output_type": "display_data"
    }
   ],
   "source": [
    "from IPython.display import display, HTML\n",
    "display(HTML(\"<style>.container { width:100% !important; }</style>\"))\n",
    "import pandas as pd\n",
    "import plotly.express as px\n",
    "import plotly.graph_objects as go\n",
    "from plotly.subplots import make_subplots\n",
    "from tabulate import tabulate"
   ]
  },
  {
   "cell_type": "code",
   "execution_count": 78,
   "metadata": {},
   "outputs": [
    {
     "name": "stdout",
     "output_type": "stream",
     "text": [
      "The autoreload extension is already loaded. To reload it, use:\n",
      "  %reload_ext autoreload\n"
     ]
    }
   ],
   "source": [
    "%load_ext autoreload\n",
    "%autoreload 2\n",
    "%aimport optiml.queries"
   ]
  },
  {
   "cell_type": "markdown",
   "metadata": {},
   "source": [
    "## Initialization"
   ]
  },
  {
   "cell_type": "code",
   "execution_count": 79,
   "metadata": {
    "scrolled": true
   },
   "outputs": [],
   "source": [
    "# Initialize Snowflake connection to Snowflake\n",
    "from optiml.connection import SnowflakeConnConfig\n",
    "connection = SnowflakeConnConfig(accountname='jg84276.us-central1.gcp',username='nikhilu',password=\"NikhilU123\",warehousename=\"XSMALL_WH\").create_connection()\n",
    "# Initialize local environment\n",
    "import os\n",
    "cache_dir = os.path.expanduser('~/data/kiva')\n",
    "# Initialize query library\n",
    "from optiml.queries import SNFLKQuery\n",
    "qlib = SNFLKQuery(connection, 'KIV', cache_dir)\n",
    "sdate = '2022-10-01'\n",
    "edate = '2022-10-31'\n",
    "color_scheme=[\"red\",\"blue\",\"green\",\"orange\",\"purple\",\"brown\",\"pink\",\"gray\",\"olive\",\"cyan\",\"darkviolet\",\"goldenrod\",\"darkgreen\",\"chocolate\",\"lawngreen\"]"
   ]
  },
  {
   "cell_type": "markdown",
   "metadata": {},
   "source": [
    "# Total cost breakdown "
   ]
  },
  {
   "cell_type": "markdown",
   "metadata": {},
   "source": [
    "## Cost by usage category"
   ]
  },
  {
   "cell_type": "code",
   "execution_count": 80,
   "metadata": {},
   "outputs": [
    {
     "data": {
      "text/html": [
       "        <script type=\"text/javascript\">\n",
       "        window.PlotlyConfig = {MathJaxConfig: 'local'};\n",
       "        if (window.MathJax && window.MathJax.Hub && window.MathJax.Hub.Config) {window.MathJax.Hub.Config({SVG: {font: \"STIX-Web\"}});}\n",
       "        if (typeof require !== 'undefined') {\n",
       "        require.undef(\"plotly\");\n",
       "        requirejs.config({\n",
       "            paths: {\n",
       "                'plotly': ['https://cdn.plot.ly/plotly-2.16.1.min']\n",
       "            }\n",
       "        });\n",
       "        require(['plotly'], function(Plotly) {\n",
       "            window._Plotly = Plotly;\n",
       "        });\n",
       "        }\n",
       "        </script>\n",
       "        "
      ]
     },
     "metadata": {},
     "output_type": "display_data"
    },
    {
     "data": {
      "text/html": [
       "\n",
       "<style>\n",
       ".output {\n",
       "    display: flex;\n",
       "    align-items: center;\n",
       "    text-align: center;\n",
       "}\n",
       "</style>\n"
      ],
      "text/plain": [
       "<IPython.core.display.HTML object>"
      ]
     },
     "metadata": {},
     "output_type": "display_data"
    }
   ],
   "source": [
    "##center allign all the figure outputs.\n",
    "from plotly.offline import download_plotlyjs, init_notebook_mode, plot, iplot\n",
    "from IPython.display import display, HTML\n",
    "from plotly.graph_objs import *\n",
    "import numpy as np\n",
    "init_notebook_mode(connected=True)\n",
    "\n",
    "display(HTML(\"\"\"\n",
    "<style>\n",
    ".output {\n",
    "    display: flex;\n",
    "    align-items: center;\n",
    "    text-align: center;\n",
    "}\n",
    "</style>\n",
    "\"\"\"))"
   ]
  },
  {
   "cell_type": "code",
   "execution_count": 81,
   "metadata": {},
   "outputs": [
    {
     "name": "stderr",
     "output_type": "stream",
     "text": [
      "/home/akshay/projects/optimlenv/optiml/optiml/optiml/optiml/queries.py:105: FutureWarning:\n",
      "\n",
      "In a future version of pandas all arguments of concat except for the argument 'objs' will be keyword-only.\n",
      "\n"
     ]
    },
    {
     "data": {
      "text/html": [
       "<div>\n",
       "<style scoped>\n",
       "    .dataframe tbody tr th:only-of-type {\n",
       "        vertical-align: middle;\n",
       "    }\n",
       "\n",
       "    .dataframe tbody tr th {\n",
       "        vertical-align: top;\n",
       "    }\n",
       "\n",
       "    .dataframe thead th {\n",
       "        text-align: right;\n",
       "    }\n",
       "</style>\n",
       "<table border=\"1\" class=\"dataframe\">\n",
       "  <thead>\n",
       "    <tr style=\"text-align: right;\">\n",
       "      <th></th>\n",
       "      <th>user_name</th>\n",
       "      <th>credits</th>\n",
       "      <th>dollars</th>\n",
       "      <th>start_time</th>\n",
       "      <th>end_time</th>\n",
       "      <th>category_name</th>\n",
       "    </tr>\n",
       "  </thead>\n",
       "  <tbody>\n",
       "    <tr>\n",
       "      <th>0</th>\n",
       "      <td>GREGORYW</td>\n",
       "      <td>0.0</td>\n",
       "      <td>0.0</td>\n",
       "      <td>2022-10-12 02:00:00</td>\n",
       "      <td>2022-10-12 03:00:00</td>\n",
       "      <td>Compute</td>\n",
       "    </tr>\n",
       "    <tr>\n",
       "      <th>1</th>\n",
       "      <td>GREGORYW</td>\n",
       "      <td>0.0</td>\n",
       "      <td>0.0</td>\n",
       "      <td>2022-10-11 00:00:00</td>\n",
       "      <td>2022-10-11 01:00:00</td>\n",
       "      <td>Compute</td>\n",
       "    </tr>\n",
       "    <tr>\n",
       "      <th>2</th>\n",
       "      <td>DBT_PROD</td>\n",
       "      <td>0.0</td>\n",
       "      <td>0.0</td>\n",
       "      <td>2022-10-07 23:00:00</td>\n",
       "      <td>2022-10-08 00:00:00</td>\n",
       "      <td>Compute</td>\n",
       "    </tr>\n",
       "    <tr>\n",
       "      <th>3</th>\n",
       "      <td>VERTEX_PROD</td>\n",
       "      <td>0.0</td>\n",
       "      <td>0.0</td>\n",
       "      <td>2022-10-12 06:00:00</td>\n",
       "      <td>2022-10-12 07:00:00</td>\n",
       "      <td>Compute</td>\n",
       "    </tr>\n",
       "    <tr>\n",
       "      <th>4</th>\n",
       "      <td>VERTEX_PROD</td>\n",
       "      <td>0.0</td>\n",
       "      <td>0.0</td>\n",
       "      <td>2022-10-11 00:00:00</td>\n",
       "      <td>2022-10-11 01:00:00</td>\n",
       "      <td>Compute</td>\n",
       "    </tr>\n",
       "  </tbody>\n",
       "</table>\n",
       "</div>"
      ],
      "text/plain": [
       "     user_name  credits  dollars          start_time            end_time  \\\n",
       "0     GREGORYW      0.0      0.0 2022-10-12 02:00:00 2022-10-12 03:00:00   \n",
       "1     GREGORYW      0.0      0.0 2022-10-11 00:00:00 2022-10-11 01:00:00   \n",
       "2     DBT_PROD      0.0      0.0 2022-10-07 23:00:00 2022-10-08 00:00:00   \n",
       "3  VERTEX_PROD      0.0      0.0 2022-10-12 06:00:00 2022-10-12 07:00:00   \n",
       "4  VERTEX_PROD      0.0      0.0 2022-10-11 00:00:00 2022-10-11 01:00:00   \n",
       "\n",
       "  category_name  \n",
       "0       Compute  \n",
       "1       Compute  \n",
       "2       Compute  \n",
       "3       Compute  \n",
       "4       Compute  "
      ]
     },
     "execution_count": 81,
     "metadata": {},
     "output_type": "execute_result"
    }
   ],
   "source": [
    "df = qlib.total_cost_breakdown_ts(sdate, edate).round(2)\n",
    "df.head()"
   ]
  },
  {
   "cell_type": "code",
   "execution_count": 82,
   "metadata": {},
   "outputs": [
    {
     "name": "stdout",
     "output_type": "stream",
     "text": [
      "╭─────────────────┬───────────┬───────────╮\n",
      "│ category_name   │   credits │   dollars │\n",
      "├─────────────────┼───────────┼───────────┤\n",
      "│ Cloud services  │     46    │     92.34 │\n",
      "│ Compute         │   3799.14 │   7597.82 │\n",
      "│ Storage         │      0    │     76.66 │\n",
      "│ Total           │   3845.14 │   7766.82 │\n",
      "╰─────────────────┴───────────┴───────────╯\n"
     ]
    }
   ],
   "source": [
    "df_by_usage_category = df.groupby(\"category_name\").sum(\"numeric_only\").reset_index()\n",
    "df_by_usage_category.loc[len(df.index)] = ['Total', df['credits'].sum(), df['dollars'].sum()]\n",
    "print(tabulate(df_by_usage_category, headers='keys', tablefmt='rounded_outline', showindex=False))"
   ]
  },
  {
   "cell_type": "code",
   "execution_count": 83,
   "metadata": {},
   "outputs": [],
   "source": [
    "## Remove the last row of totals for the plot\n",
    "df_by_usage_category.reset_index(inplace=True)\n",
    "df_by_usage_category.drop(columns=[\"index\"], inplace=True)\n",
    "df_by_usage_category = df_by_usage_category.drop(len(df_by_usage_category)-1) \n"
   ]
  },
  {
   "cell_type": "code",
   "execution_count": 84,
   "metadata": {},
   "outputs": [
    {
     "data": {
      "application/vnd.plotly.v1+json": {
       "config": {
        "plotlyServerURL": "https://plot.ly"
       },
       "data": [
        {
         "domain": {
          "x": [
           0,
           0.45
          ],
          "y": [
           0,
           1
          ]
         },
         "labels": [
          "Cloud services",
          "Compute",
          "Storage"
         ],
         "marker": {
          "colors": [
           "red",
           "blue",
           "green",
           "orange",
           "purple",
           "brown",
           "pink",
           "gray",
           "olive",
           "cyan",
           "darkviolet",
           "goldenrod",
           "darkgreen",
           "chocolate",
           "lawngreen"
          ]
         },
         "name": "Dollars",
         "rotation": 45,
         "type": "pie",
         "values": [
          92.34,
          7597.82,
          76.66
         ]
        },
        {
         "domain": {
          "x": [
           0.55,
           1
          ],
          "y": [
           0,
           1
          ]
         },
         "labels": [
          "Cloud services",
          "Compute",
          "Storage"
         ],
         "marker": {
          "colors": [
           "red",
           "blue",
           "green",
           "orange",
           "purple",
           "brown",
           "pink",
           "gray",
           "olive",
           "cyan",
           "darkviolet",
           "goldenrod",
           "darkgreen",
           "chocolate",
           "lawngreen"
          ]
         },
         "name": "Credits",
         "rotation": 45,
         "type": "pie",
         "values": [
          46,
          3799.14,
          0
         ]
        }
       ],
       "layout": {
        "annotations": [
         {
          "font": {
           "size": 16
          },
          "showarrow": false,
          "text": "Dollars",
          "x": 0.225,
          "xanchor": "center",
          "xref": "paper",
          "y": 1,
          "yanchor": "bottom",
          "yref": "paper"
         },
         {
          "font": {
           "size": 16
          },
          "showarrow": false,
          "text": "Credits",
          "x": 0.775,
          "xanchor": "center",
          "xref": "paper",
          "y": 1,
          "yanchor": "bottom",
          "yref": "paper"
         }
        ],
        "template": {
         "data": {
          "bar": [
           {
            "error_x": {
             "color": "#2a3f5f"
            },
            "error_y": {
             "color": "#2a3f5f"
            },
            "marker": {
             "line": {
              "color": "#E5ECF6",
              "width": 0.5
             },
             "pattern": {
              "fillmode": "overlay",
              "size": 10,
              "solidity": 0.2
             }
            },
            "type": "bar"
           }
          ],
          "barpolar": [
           {
            "marker": {
             "line": {
              "color": "#E5ECF6",
              "width": 0.5
             },
             "pattern": {
              "fillmode": "overlay",
              "size": 10,
              "solidity": 0.2
             }
            },
            "type": "barpolar"
           }
          ],
          "carpet": [
           {
            "aaxis": {
             "endlinecolor": "#2a3f5f",
             "gridcolor": "white",
             "linecolor": "white",
             "minorgridcolor": "white",
             "startlinecolor": "#2a3f5f"
            },
            "baxis": {
             "endlinecolor": "#2a3f5f",
             "gridcolor": "white",
             "linecolor": "white",
             "minorgridcolor": "white",
             "startlinecolor": "#2a3f5f"
            },
            "type": "carpet"
           }
          ],
          "choropleth": [
           {
            "colorbar": {
             "outlinewidth": 0,
             "ticks": ""
            },
            "type": "choropleth"
           }
          ],
          "contour": [
           {
            "colorbar": {
             "outlinewidth": 0,
             "ticks": ""
            },
            "colorscale": [
             [
              0,
              "#0d0887"
             ],
             [
              0.1111111111111111,
              "#46039f"
             ],
             [
              0.2222222222222222,
              "#7201a8"
             ],
             [
              0.3333333333333333,
              "#9c179e"
             ],
             [
              0.4444444444444444,
              "#bd3786"
             ],
             [
              0.5555555555555556,
              "#d8576b"
             ],
             [
              0.6666666666666666,
              "#ed7953"
             ],
             [
              0.7777777777777778,
              "#fb9f3a"
             ],
             [
              0.8888888888888888,
              "#fdca26"
             ],
             [
              1,
              "#f0f921"
             ]
            ],
            "type": "contour"
           }
          ],
          "contourcarpet": [
           {
            "colorbar": {
             "outlinewidth": 0,
             "ticks": ""
            },
            "type": "contourcarpet"
           }
          ],
          "heatmap": [
           {
            "colorbar": {
             "outlinewidth": 0,
             "ticks": ""
            },
            "colorscale": [
             [
              0,
              "#0d0887"
             ],
             [
              0.1111111111111111,
              "#46039f"
             ],
             [
              0.2222222222222222,
              "#7201a8"
             ],
             [
              0.3333333333333333,
              "#9c179e"
             ],
             [
              0.4444444444444444,
              "#bd3786"
             ],
             [
              0.5555555555555556,
              "#d8576b"
             ],
             [
              0.6666666666666666,
              "#ed7953"
             ],
             [
              0.7777777777777778,
              "#fb9f3a"
             ],
             [
              0.8888888888888888,
              "#fdca26"
             ],
             [
              1,
              "#f0f921"
             ]
            ],
            "type": "heatmap"
           }
          ],
          "heatmapgl": [
           {
            "colorbar": {
             "outlinewidth": 0,
             "ticks": ""
            },
            "colorscale": [
             [
              0,
              "#0d0887"
             ],
             [
              0.1111111111111111,
              "#46039f"
             ],
             [
              0.2222222222222222,
              "#7201a8"
             ],
             [
              0.3333333333333333,
              "#9c179e"
             ],
             [
              0.4444444444444444,
              "#bd3786"
             ],
             [
              0.5555555555555556,
              "#d8576b"
             ],
             [
              0.6666666666666666,
              "#ed7953"
             ],
             [
              0.7777777777777778,
              "#fb9f3a"
             ],
             [
              0.8888888888888888,
              "#fdca26"
             ],
             [
              1,
              "#f0f921"
             ]
            ],
            "type": "heatmapgl"
           }
          ],
          "histogram": [
           {
            "marker": {
             "pattern": {
              "fillmode": "overlay",
              "size": 10,
              "solidity": 0.2
             }
            },
            "type": "histogram"
           }
          ],
          "histogram2d": [
           {
            "colorbar": {
             "outlinewidth": 0,
             "ticks": ""
            },
            "colorscale": [
             [
              0,
              "#0d0887"
             ],
             [
              0.1111111111111111,
              "#46039f"
             ],
             [
              0.2222222222222222,
              "#7201a8"
             ],
             [
              0.3333333333333333,
              "#9c179e"
             ],
             [
              0.4444444444444444,
              "#bd3786"
             ],
             [
              0.5555555555555556,
              "#d8576b"
             ],
             [
              0.6666666666666666,
              "#ed7953"
             ],
             [
              0.7777777777777778,
              "#fb9f3a"
             ],
             [
              0.8888888888888888,
              "#fdca26"
             ],
             [
              1,
              "#f0f921"
             ]
            ],
            "type": "histogram2d"
           }
          ],
          "histogram2dcontour": [
           {
            "colorbar": {
             "outlinewidth": 0,
             "ticks": ""
            },
            "colorscale": [
             [
              0,
              "#0d0887"
             ],
             [
              0.1111111111111111,
              "#46039f"
             ],
             [
              0.2222222222222222,
              "#7201a8"
             ],
             [
              0.3333333333333333,
              "#9c179e"
             ],
             [
              0.4444444444444444,
              "#bd3786"
             ],
             [
              0.5555555555555556,
              "#d8576b"
             ],
             [
              0.6666666666666666,
              "#ed7953"
             ],
             [
              0.7777777777777778,
              "#fb9f3a"
             ],
             [
              0.8888888888888888,
              "#fdca26"
             ],
             [
              1,
              "#f0f921"
             ]
            ],
            "type": "histogram2dcontour"
           }
          ],
          "mesh3d": [
           {
            "colorbar": {
             "outlinewidth": 0,
             "ticks": ""
            },
            "type": "mesh3d"
           }
          ],
          "parcoords": [
           {
            "line": {
             "colorbar": {
              "outlinewidth": 0,
              "ticks": ""
             }
            },
            "type": "parcoords"
           }
          ],
          "pie": [
           {
            "automargin": true,
            "type": "pie"
           }
          ],
          "scatter": [
           {
            "fillpattern": {
             "fillmode": "overlay",
             "size": 10,
             "solidity": 0.2
            },
            "type": "scatter"
           }
          ],
          "scatter3d": [
           {
            "line": {
             "colorbar": {
              "outlinewidth": 0,
              "ticks": ""
             }
            },
            "marker": {
             "colorbar": {
              "outlinewidth": 0,
              "ticks": ""
             }
            },
            "type": "scatter3d"
           }
          ],
          "scattercarpet": [
           {
            "marker": {
             "colorbar": {
              "outlinewidth": 0,
              "ticks": ""
             }
            },
            "type": "scattercarpet"
           }
          ],
          "scattergeo": [
           {
            "marker": {
             "colorbar": {
              "outlinewidth": 0,
              "ticks": ""
             }
            },
            "type": "scattergeo"
           }
          ],
          "scattergl": [
           {
            "marker": {
             "colorbar": {
              "outlinewidth": 0,
              "ticks": ""
             }
            },
            "type": "scattergl"
           }
          ],
          "scattermapbox": [
           {
            "marker": {
             "colorbar": {
              "outlinewidth": 0,
              "ticks": ""
             }
            },
            "type": "scattermapbox"
           }
          ],
          "scatterpolar": [
           {
            "marker": {
             "colorbar": {
              "outlinewidth": 0,
              "ticks": ""
             }
            },
            "type": "scatterpolar"
           }
          ],
          "scatterpolargl": [
           {
            "marker": {
             "colorbar": {
              "outlinewidth": 0,
              "ticks": ""
             }
            },
            "type": "scatterpolargl"
           }
          ],
          "scatterternary": [
           {
            "marker": {
             "colorbar": {
              "outlinewidth": 0,
              "ticks": ""
             }
            },
            "type": "scatterternary"
           }
          ],
          "surface": [
           {
            "colorbar": {
             "outlinewidth": 0,
             "ticks": ""
            },
            "colorscale": [
             [
              0,
              "#0d0887"
             ],
             [
              0.1111111111111111,
              "#46039f"
             ],
             [
              0.2222222222222222,
              "#7201a8"
             ],
             [
              0.3333333333333333,
              "#9c179e"
             ],
             [
              0.4444444444444444,
              "#bd3786"
             ],
             [
              0.5555555555555556,
              "#d8576b"
             ],
             [
              0.6666666666666666,
              "#ed7953"
             ],
             [
              0.7777777777777778,
              "#fb9f3a"
             ],
             [
              0.8888888888888888,
              "#fdca26"
             ],
             [
              1,
              "#f0f921"
             ]
            ],
            "type": "surface"
           }
          ],
          "table": [
           {
            "cells": {
             "fill": {
              "color": "#EBF0F8"
             },
             "line": {
              "color": "white"
             }
            },
            "header": {
             "fill": {
              "color": "#C8D4E3"
             },
             "line": {
              "color": "white"
             }
            },
            "type": "table"
           }
          ]
         },
         "layout": {
          "annotationdefaults": {
           "arrowcolor": "#2a3f5f",
           "arrowhead": 0,
           "arrowwidth": 1
          },
          "autotypenumbers": "strict",
          "coloraxis": {
           "colorbar": {
            "outlinewidth": 0,
            "ticks": ""
           }
          },
          "colorscale": {
           "diverging": [
            [
             0,
             "#8e0152"
            ],
            [
             0.1,
             "#c51b7d"
            ],
            [
             0.2,
             "#de77ae"
            ],
            [
             0.3,
             "#f1b6da"
            ],
            [
             0.4,
             "#fde0ef"
            ],
            [
             0.5,
             "#f7f7f7"
            ],
            [
             0.6,
             "#e6f5d0"
            ],
            [
             0.7,
             "#b8e186"
            ],
            [
             0.8,
             "#7fbc41"
            ],
            [
             0.9,
             "#4d9221"
            ],
            [
             1,
             "#276419"
            ]
           ],
           "sequential": [
            [
             0,
             "#0d0887"
            ],
            [
             0.1111111111111111,
             "#46039f"
            ],
            [
             0.2222222222222222,
             "#7201a8"
            ],
            [
             0.3333333333333333,
             "#9c179e"
            ],
            [
             0.4444444444444444,
             "#bd3786"
            ],
            [
             0.5555555555555556,
             "#d8576b"
            ],
            [
             0.6666666666666666,
             "#ed7953"
            ],
            [
             0.7777777777777778,
             "#fb9f3a"
            ],
            [
             0.8888888888888888,
             "#fdca26"
            ],
            [
             1,
             "#f0f921"
            ]
           ],
           "sequentialminus": [
            [
             0,
             "#0d0887"
            ],
            [
             0.1111111111111111,
             "#46039f"
            ],
            [
             0.2222222222222222,
             "#7201a8"
            ],
            [
             0.3333333333333333,
             "#9c179e"
            ],
            [
             0.4444444444444444,
             "#bd3786"
            ],
            [
             0.5555555555555556,
             "#d8576b"
            ],
            [
             0.6666666666666666,
             "#ed7953"
            ],
            [
             0.7777777777777778,
             "#fb9f3a"
            ],
            [
             0.8888888888888888,
             "#fdca26"
            ],
            [
             1,
             "#f0f921"
            ]
           ]
          },
          "colorway": [
           "#636efa",
           "#EF553B",
           "#00cc96",
           "#ab63fa",
           "#FFA15A",
           "#19d3f3",
           "#FF6692",
           "#B6E880",
           "#FF97FF",
           "#FECB52"
          ],
          "font": {
           "color": "#2a3f5f"
          },
          "geo": {
           "bgcolor": "white",
           "lakecolor": "white",
           "landcolor": "#E5ECF6",
           "showlakes": true,
           "showland": true,
           "subunitcolor": "white"
          },
          "hoverlabel": {
           "align": "left"
          },
          "hovermode": "closest",
          "mapbox": {
           "style": "light"
          },
          "paper_bgcolor": "white",
          "plot_bgcolor": "#E5ECF6",
          "polar": {
           "angularaxis": {
            "gridcolor": "white",
            "linecolor": "white",
            "ticks": ""
           },
           "bgcolor": "#E5ECF6",
           "radialaxis": {
            "gridcolor": "white",
            "linecolor": "white",
            "ticks": ""
           }
          },
          "scene": {
           "xaxis": {
            "backgroundcolor": "#E5ECF6",
            "gridcolor": "white",
            "gridwidth": 2,
            "linecolor": "white",
            "showbackground": true,
            "ticks": "",
            "zerolinecolor": "white"
           },
           "yaxis": {
            "backgroundcolor": "#E5ECF6",
            "gridcolor": "white",
            "gridwidth": 2,
            "linecolor": "white",
            "showbackground": true,
            "ticks": "",
            "zerolinecolor": "white"
           },
           "zaxis": {
            "backgroundcolor": "#E5ECF6",
            "gridcolor": "white",
            "gridwidth": 2,
            "linecolor": "white",
            "showbackground": true,
            "ticks": "",
            "zerolinecolor": "white"
           }
          },
          "shapedefaults": {
           "line": {
            "color": "#2a3f5f"
           }
          },
          "ternary": {
           "aaxis": {
            "gridcolor": "white",
            "linecolor": "white",
            "ticks": ""
           },
           "baxis": {
            "gridcolor": "white",
            "linecolor": "white",
            "ticks": ""
           },
           "bgcolor": "#E5ECF6",
           "caxis": {
            "gridcolor": "white",
            "linecolor": "white",
            "ticks": ""
           }
          },
          "title": {
           "x": 0.05
          },
          "xaxis": {
           "automargin": true,
           "gridcolor": "white",
           "linecolor": "white",
           "ticks": "",
           "title": {
            "standoff": 15
           },
           "zerolinecolor": "white",
           "zerolinewidth": 2
          },
          "yaxis": {
           "automargin": true,
           "gridcolor": "white",
           "linecolor": "white",
           "ticks": "",
           "title": {
            "standoff": 15
           },
           "zerolinecolor": "white",
           "zerolinewidth": 2
          }
         }
        },
        "title": {
         "text": "Breakdown of total cost by usage category",
         "x": 0.5,
         "xanchor": "center",
         "y": 0.1,
         "yanchor": "bottom"
        }
       }
      },
      "text/html": [
       "<div>                            <div id=\"c50ed217-2ca2-44e8-b305-7428048d93b8\" class=\"plotly-graph-div\" style=\"height:525px; width:100%;\"></div>            <script type=\"text/javascript\">                require([\"plotly\"], function(Plotly) {                    window.PLOTLYENV=window.PLOTLYENV || {};                                    if (document.getElementById(\"c50ed217-2ca2-44e8-b305-7428048d93b8\")) {                    Plotly.newPlot(                        \"c50ed217-2ca2-44e8-b305-7428048d93b8\",                        [{\"labels\":[\"Cloud services\",\"Compute\",\"Storage\"],\"marker\":{\"colors\":[\"red\",\"blue\",\"green\",\"orange\",\"purple\",\"brown\",\"pink\",\"gray\",\"olive\",\"cyan\",\"darkviolet\",\"goldenrod\",\"darkgreen\",\"chocolate\",\"lawngreen\"]},\"name\":\"Dollars\",\"rotation\":45,\"values\":[92.34,7597.82,76.66],\"type\":\"pie\",\"domain\":{\"x\":[0.0,0.45],\"y\":[0.0,1.0]}},{\"labels\":[\"Cloud services\",\"Compute\",\"Storage\"],\"marker\":{\"colors\":[\"red\",\"blue\",\"green\",\"orange\",\"purple\",\"brown\",\"pink\",\"gray\",\"olive\",\"cyan\",\"darkviolet\",\"goldenrod\",\"darkgreen\",\"chocolate\",\"lawngreen\"]},\"name\":\"Credits\",\"rotation\":45,\"values\":[46.0,3799.14,0.0],\"type\":\"pie\",\"domain\":{\"x\":[0.55,1.0],\"y\":[0.0,1.0]}}],                        {\"template\":{\"data\":{\"histogram2dcontour\":[{\"type\":\"histogram2dcontour\",\"colorbar\":{\"outlinewidth\":0,\"ticks\":\"\"},\"colorscale\":[[0.0,\"#0d0887\"],[0.1111111111111111,\"#46039f\"],[0.2222222222222222,\"#7201a8\"],[0.3333333333333333,\"#9c179e\"],[0.4444444444444444,\"#bd3786\"],[0.5555555555555556,\"#d8576b\"],[0.6666666666666666,\"#ed7953\"],[0.7777777777777778,\"#fb9f3a\"],[0.8888888888888888,\"#fdca26\"],[1.0,\"#f0f921\"]]}],\"choropleth\":[{\"type\":\"choropleth\",\"colorbar\":{\"outlinewidth\":0,\"ticks\":\"\"}}],\"histogram2d\":[{\"type\":\"histogram2d\",\"colorbar\":{\"outlinewidth\":0,\"ticks\":\"\"},\"colorscale\":[[0.0,\"#0d0887\"],[0.1111111111111111,\"#46039f\"],[0.2222222222222222,\"#7201a8\"],[0.3333333333333333,\"#9c179e\"],[0.4444444444444444,\"#bd3786\"],[0.5555555555555556,\"#d8576b\"],[0.6666666666666666,\"#ed7953\"],[0.7777777777777778,\"#fb9f3a\"],[0.8888888888888888,\"#fdca26\"],[1.0,\"#f0f921\"]]}],\"heatmap\":[{\"type\":\"heatmap\",\"colorbar\":{\"outlinewidth\":0,\"ticks\":\"\"},\"colorscale\":[[0.0,\"#0d0887\"],[0.1111111111111111,\"#46039f\"],[0.2222222222222222,\"#7201a8\"],[0.3333333333333333,\"#9c179e\"],[0.4444444444444444,\"#bd3786\"],[0.5555555555555556,\"#d8576b\"],[0.6666666666666666,\"#ed7953\"],[0.7777777777777778,\"#fb9f3a\"],[0.8888888888888888,\"#fdca26\"],[1.0,\"#f0f921\"]]}],\"heatmapgl\":[{\"type\":\"heatmapgl\",\"colorbar\":{\"outlinewidth\":0,\"ticks\":\"\"},\"colorscale\":[[0.0,\"#0d0887\"],[0.1111111111111111,\"#46039f\"],[0.2222222222222222,\"#7201a8\"],[0.3333333333333333,\"#9c179e\"],[0.4444444444444444,\"#bd3786\"],[0.5555555555555556,\"#d8576b\"],[0.6666666666666666,\"#ed7953\"],[0.7777777777777778,\"#fb9f3a\"],[0.8888888888888888,\"#fdca26\"],[1.0,\"#f0f921\"]]}],\"contourcarpet\":[{\"type\":\"contourcarpet\",\"colorbar\":{\"outlinewidth\":0,\"ticks\":\"\"}}],\"contour\":[{\"type\":\"contour\",\"colorbar\":{\"outlinewidth\":0,\"ticks\":\"\"},\"colorscale\":[[0.0,\"#0d0887\"],[0.1111111111111111,\"#46039f\"],[0.2222222222222222,\"#7201a8\"],[0.3333333333333333,\"#9c179e\"],[0.4444444444444444,\"#bd3786\"],[0.5555555555555556,\"#d8576b\"],[0.6666666666666666,\"#ed7953\"],[0.7777777777777778,\"#fb9f3a\"],[0.8888888888888888,\"#fdca26\"],[1.0,\"#f0f921\"]]}],\"surface\":[{\"type\":\"surface\",\"colorbar\":{\"outlinewidth\":0,\"ticks\":\"\"},\"colorscale\":[[0.0,\"#0d0887\"],[0.1111111111111111,\"#46039f\"],[0.2222222222222222,\"#7201a8\"],[0.3333333333333333,\"#9c179e\"],[0.4444444444444444,\"#bd3786\"],[0.5555555555555556,\"#d8576b\"],[0.6666666666666666,\"#ed7953\"],[0.7777777777777778,\"#fb9f3a\"],[0.8888888888888888,\"#fdca26\"],[1.0,\"#f0f921\"]]}],\"mesh3d\":[{\"type\":\"mesh3d\",\"colorbar\":{\"outlinewidth\":0,\"ticks\":\"\"}}],\"scatter\":[{\"fillpattern\":{\"fillmode\":\"overlay\",\"size\":10,\"solidity\":0.2},\"type\":\"scatter\"}],\"parcoords\":[{\"type\":\"parcoords\",\"line\":{\"colorbar\":{\"outlinewidth\":0,\"ticks\":\"\"}}}],\"scatterpolargl\":[{\"type\":\"scatterpolargl\",\"marker\":{\"colorbar\":{\"outlinewidth\":0,\"ticks\":\"\"}}}],\"bar\":[{\"error_x\":{\"color\":\"#2a3f5f\"},\"error_y\":{\"color\":\"#2a3f5f\"},\"marker\":{\"line\":{\"color\":\"#E5ECF6\",\"width\":0.5},\"pattern\":{\"fillmode\":\"overlay\",\"size\":10,\"solidity\":0.2}},\"type\":\"bar\"}],\"scattergeo\":[{\"type\":\"scattergeo\",\"marker\":{\"colorbar\":{\"outlinewidth\":0,\"ticks\":\"\"}}}],\"scatterpolar\":[{\"type\":\"scatterpolar\",\"marker\":{\"colorbar\":{\"outlinewidth\":0,\"ticks\":\"\"}}}],\"histogram\":[{\"marker\":{\"pattern\":{\"fillmode\":\"overlay\",\"size\":10,\"solidity\":0.2}},\"type\":\"histogram\"}],\"scattergl\":[{\"type\":\"scattergl\",\"marker\":{\"colorbar\":{\"outlinewidth\":0,\"ticks\":\"\"}}}],\"scatter3d\":[{\"type\":\"scatter3d\",\"line\":{\"colorbar\":{\"outlinewidth\":0,\"ticks\":\"\"}},\"marker\":{\"colorbar\":{\"outlinewidth\":0,\"ticks\":\"\"}}}],\"scattermapbox\":[{\"type\":\"scattermapbox\",\"marker\":{\"colorbar\":{\"outlinewidth\":0,\"ticks\":\"\"}}}],\"scatterternary\":[{\"type\":\"scatterternary\",\"marker\":{\"colorbar\":{\"outlinewidth\":0,\"ticks\":\"\"}}}],\"scattercarpet\":[{\"type\":\"scattercarpet\",\"marker\":{\"colorbar\":{\"outlinewidth\":0,\"ticks\":\"\"}}}],\"carpet\":[{\"aaxis\":{\"endlinecolor\":\"#2a3f5f\",\"gridcolor\":\"white\",\"linecolor\":\"white\",\"minorgridcolor\":\"white\",\"startlinecolor\":\"#2a3f5f\"},\"baxis\":{\"endlinecolor\":\"#2a3f5f\",\"gridcolor\":\"white\",\"linecolor\":\"white\",\"minorgridcolor\":\"white\",\"startlinecolor\":\"#2a3f5f\"},\"type\":\"carpet\"}],\"table\":[{\"cells\":{\"fill\":{\"color\":\"#EBF0F8\"},\"line\":{\"color\":\"white\"}},\"header\":{\"fill\":{\"color\":\"#C8D4E3\"},\"line\":{\"color\":\"white\"}},\"type\":\"table\"}],\"barpolar\":[{\"marker\":{\"line\":{\"color\":\"#E5ECF6\",\"width\":0.5},\"pattern\":{\"fillmode\":\"overlay\",\"size\":10,\"solidity\":0.2}},\"type\":\"barpolar\"}],\"pie\":[{\"automargin\":true,\"type\":\"pie\"}]},\"layout\":{\"autotypenumbers\":\"strict\",\"colorway\":[\"#636efa\",\"#EF553B\",\"#00cc96\",\"#ab63fa\",\"#FFA15A\",\"#19d3f3\",\"#FF6692\",\"#B6E880\",\"#FF97FF\",\"#FECB52\"],\"font\":{\"color\":\"#2a3f5f\"},\"hovermode\":\"closest\",\"hoverlabel\":{\"align\":\"left\"},\"paper_bgcolor\":\"white\",\"plot_bgcolor\":\"#E5ECF6\",\"polar\":{\"bgcolor\":\"#E5ECF6\",\"angularaxis\":{\"gridcolor\":\"white\",\"linecolor\":\"white\",\"ticks\":\"\"},\"radialaxis\":{\"gridcolor\":\"white\",\"linecolor\":\"white\",\"ticks\":\"\"}},\"ternary\":{\"bgcolor\":\"#E5ECF6\",\"aaxis\":{\"gridcolor\":\"white\",\"linecolor\":\"white\",\"ticks\":\"\"},\"baxis\":{\"gridcolor\":\"white\",\"linecolor\":\"white\",\"ticks\":\"\"},\"caxis\":{\"gridcolor\":\"white\",\"linecolor\":\"white\",\"ticks\":\"\"}},\"coloraxis\":{\"colorbar\":{\"outlinewidth\":0,\"ticks\":\"\"}},\"colorscale\":{\"sequential\":[[0.0,\"#0d0887\"],[0.1111111111111111,\"#46039f\"],[0.2222222222222222,\"#7201a8\"],[0.3333333333333333,\"#9c179e\"],[0.4444444444444444,\"#bd3786\"],[0.5555555555555556,\"#d8576b\"],[0.6666666666666666,\"#ed7953\"],[0.7777777777777778,\"#fb9f3a\"],[0.8888888888888888,\"#fdca26\"],[1.0,\"#f0f921\"]],\"sequentialminus\":[[0.0,\"#0d0887\"],[0.1111111111111111,\"#46039f\"],[0.2222222222222222,\"#7201a8\"],[0.3333333333333333,\"#9c179e\"],[0.4444444444444444,\"#bd3786\"],[0.5555555555555556,\"#d8576b\"],[0.6666666666666666,\"#ed7953\"],[0.7777777777777778,\"#fb9f3a\"],[0.8888888888888888,\"#fdca26\"],[1.0,\"#f0f921\"]],\"diverging\":[[0,\"#8e0152\"],[0.1,\"#c51b7d\"],[0.2,\"#de77ae\"],[0.3,\"#f1b6da\"],[0.4,\"#fde0ef\"],[0.5,\"#f7f7f7\"],[0.6,\"#e6f5d0\"],[0.7,\"#b8e186\"],[0.8,\"#7fbc41\"],[0.9,\"#4d9221\"],[1,\"#276419\"]]},\"xaxis\":{\"gridcolor\":\"white\",\"linecolor\":\"white\",\"ticks\":\"\",\"title\":{\"standoff\":15},\"zerolinecolor\":\"white\",\"automargin\":true,\"zerolinewidth\":2},\"yaxis\":{\"gridcolor\":\"white\",\"linecolor\":\"white\",\"ticks\":\"\",\"title\":{\"standoff\":15},\"zerolinecolor\":\"white\",\"automargin\":true,\"zerolinewidth\":2},\"scene\":{\"xaxis\":{\"backgroundcolor\":\"#E5ECF6\",\"gridcolor\":\"white\",\"linecolor\":\"white\",\"showbackground\":true,\"ticks\":\"\",\"zerolinecolor\":\"white\",\"gridwidth\":2},\"yaxis\":{\"backgroundcolor\":\"#E5ECF6\",\"gridcolor\":\"white\",\"linecolor\":\"white\",\"showbackground\":true,\"ticks\":\"\",\"zerolinecolor\":\"white\",\"gridwidth\":2},\"zaxis\":{\"backgroundcolor\":\"#E5ECF6\",\"gridcolor\":\"white\",\"linecolor\":\"white\",\"showbackground\":true,\"ticks\":\"\",\"zerolinecolor\":\"white\",\"gridwidth\":2}},\"shapedefaults\":{\"line\":{\"color\":\"#2a3f5f\"}},\"annotationdefaults\":{\"arrowcolor\":\"#2a3f5f\",\"arrowhead\":0,\"arrowwidth\":1},\"geo\":{\"bgcolor\":\"white\",\"landcolor\":\"#E5ECF6\",\"subunitcolor\":\"white\",\"showland\":true,\"showlakes\":true,\"lakecolor\":\"white\"},\"title\":{\"x\":0.05},\"mapbox\":{\"style\":\"light\"}}},\"annotations\":[{\"font\":{\"size\":16},\"showarrow\":false,\"text\":\"Dollars\",\"x\":0.225,\"xanchor\":\"center\",\"xref\":\"paper\",\"y\":1.0,\"yanchor\":\"bottom\",\"yref\":\"paper\"},{\"font\":{\"size\":16},\"showarrow\":false,\"text\":\"Credits\",\"x\":0.775,\"xanchor\":\"center\",\"xref\":\"paper\",\"y\":1.0,\"yanchor\":\"bottom\",\"yref\":\"paper\"}],\"title\":{\"text\":\"Breakdown of total cost by usage category\",\"y\":0.1,\"x\":0.5,\"xanchor\":\"center\",\"yanchor\":\"bottom\"}},                        {\"responsive\": true}                    ).then(function(){\n",
       "                            \n",
       "var gd = document.getElementById('c50ed217-2ca2-44e8-b305-7428048d93b8');\n",
       "var x = new MutationObserver(function (mutations, observer) {{\n",
       "        var display = window.getComputedStyle(gd).display;\n",
       "        if (!display || display === 'none') {{\n",
       "            console.log([gd, 'removed!']);\n",
       "            Plotly.purge(gd);\n",
       "            observer.disconnect();\n",
       "        }}\n",
       "}});\n",
       "\n",
       "// Listen for the removal of the full notebook cells\n",
       "var notebookContainer = gd.closest('#notebook-container');\n",
       "if (notebookContainer) {{\n",
       "    x.observe(notebookContainer, {childList: true});\n",
       "}}\n",
       "\n",
       "// Listen for the clearing of the current output cell\n",
       "var outputEl = gd.closest('.output');\n",
       "if (outputEl) {{\n",
       "    x.observe(outputEl, {childList: true});\n",
       "}}\n",
       "\n",
       "                        })                };                });            </script>        </div>"
      ]
     },
     "metadata": {},
     "output_type": "display_data"
    }
   ],
   "source": [
    "fig = make_subplots(\n",
    "    rows=1, cols=2,\n",
    "    specs=[[{\"type\": \"pie\"},{\"type\": \"pie\"}]],\n",
    "    subplot_titles=(\"Dollars\", \"Credits\")\n",
    ")\n",
    "\n",
    "fig.add_trace(go.Pie(labels=df_by_usage_category['category_name'].tolist(), values=df_by_usage_category['dollars'].tolist(),name=\"Dollars\", rotation=45,marker_colors=color_scheme),row=1,col=1)\n",
    "fig.add_trace(go.Pie(labels=df_by_usage_category['category_name'].tolist(), values=df_by_usage_category['credits'].tolist(),name='Credits', rotation=45,marker_colors=color_scheme),row=1,col=2)\n",
    "\n",
    "fig.update_layout(\n",
    "    title={\n",
    "        'text': \"Breakdown of total cost by usage category\",\n",
    "        'y':0.1,\n",
    "        'x':0.5,\n",
    "        'xanchor': 'center',\n",
    "        'yanchor': 'bottom'})\n",
    "fig.show()"
   ]
  },
  {
   "cell_type": "markdown",
   "metadata": {},
   "source": [
    "## Cost by usage category timeseries"
   ]
  },
  {
   "cell_type": "code",
   "execution_count": 85,
   "metadata": {},
   "outputs": [
    {
     "data": {
      "application/vnd.plotly.v1+json": {
       "config": {
        "plotlyServerURL": "https://plot.ly"
       },
       "data": [
        {
         "fillpattern": {
          "shape": ""
         },
         "hovertemplate": "category_name=Cloud services<br>start_time=%{x}<br>credits=%{y}<extra></extra>",
         "legendgroup": "Cloud services",
         "line": {
          "color": "red"
         },
         "marker": {
          "symbol": "circle"
         },
         "mode": "lines",
         "name": "Cloud services",
         "orientation": "v",
         "showlegend": true,
         "stackgroup": "1",
         "type": "scatter",
         "x": [
          "2022-10-01T00:00:00",
          "2022-10-01T01:00:00",
          "2022-10-01T02:00:00",
          "2022-10-01T03:00:00",
          "2022-10-01T04:00:00",
          "2022-10-01T05:00:00",
          "2022-10-01T06:00:00",
          "2022-10-01T07:00:00",
          "2022-10-01T08:00:00",
          "2022-10-01T09:00:00",
          "2022-10-01T10:00:00",
          "2022-10-01T11:00:00",
          "2022-10-01T12:00:00",
          "2022-10-01T13:00:00",
          "2022-10-01T14:00:00",
          "2022-10-01T15:00:00",
          "2022-10-01T16:00:00",
          "2022-10-01T17:00:00",
          "2022-10-01T18:00:00",
          "2022-10-01T19:00:00",
          "2022-10-01T20:00:00",
          "2022-10-01T21:00:00",
          "2022-10-01T22:00:00",
          "2022-10-01T23:00:00",
          "2022-10-02T00:00:00",
          "2022-10-02T01:00:00",
          "2022-10-02T02:00:00",
          "2022-10-02T03:00:00",
          "2022-10-02T04:00:00",
          "2022-10-02T05:00:00",
          "2022-10-02T06:00:00",
          "2022-10-02T07:00:00",
          "2022-10-02T08:00:00",
          "2022-10-02T09:00:00",
          "2022-10-02T10:00:00",
          "2022-10-02T11:00:00",
          "2022-10-02T12:00:00",
          "2022-10-02T13:00:00",
          "2022-10-02T14:00:00",
          "2022-10-02T15:00:00",
          "2022-10-02T16:00:00",
          "2022-10-02T17:00:00",
          "2022-10-02T18:00:00",
          "2022-10-02T19:00:00",
          "2022-10-02T20:00:00",
          "2022-10-02T21:00:00",
          "2022-10-02T22:00:00",
          "2022-10-02T23:00:00",
          "2022-10-03T00:00:00",
          "2022-10-03T01:00:00",
          "2022-10-03T02:00:00",
          "2022-10-03T03:00:00",
          "2022-10-03T04:00:00",
          "2022-10-03T05:00:00",
          "2022-10-03T06:00:00",
          "2022-10-03T07:00:00",
          "2022-10-03T08:00:00",
          "2022-10-03T09:00:00",
          "2022-10-03T10:00:00",
          "2022-10-03T11:00:00",
          "2022-10-03T12:00:00",
          "2022-10-03T13:00:00",
          "2022-10-03T14:00:00",
          "2022-10-03T15:00:00",
          "2022-10-03T16:00:00",
          "2022-10-03T17:00:00",
          "2022-10-03T18:00:00",
          "2022-10-03T19:00:00",
          "2022-10-03T20:00:00",
          "2022-10-03T21:00:00",
          "2022-10-03T22:00:00",
          "2022-10-03T23:00:00",
          "2022-10-04T00:00:00",
          "2022-10-04T01:00:00",
          "2022-10-04T02:00:00",
          "2022-10-04T03:00:00",
          "2022-10-04T04:00:00",
          "2022-10-04T05:00:00",
          "2022-10-04T06:00:00",
          "2022-10-04T07:00:00",
          "2022-10-04T08:00:00",
          "2022-10-04T09:00:00",
          "2022-10-04T10:00:00",
          "2022-10-04T11:00:00",
          "2022-10-04T12:00:00",
          "2022-10-04T13:00:00",
          "2022-10-04T14:00:00",
          "2022-10-04T15:00:00",
          "2022-10-04T16:00:00",
          "2022-10-04T17:00:00",
          "2022-10-04T18:00:00",
          "2022-10-04T19:00:00",
          "2022-10-04T20:00:00",
          "2022-10-04T21:00:00",
          "2022-10-04T22:00:00",
          "2022-10-04T23:00:00",
          "2022-10-05T00:00:00",
          "2022-10-05T01:00:00",
          "2022-10-05T02:00:00",
          "2022-10-05T03:00:00",
          "2022-10-05T04:00:00",
          "2022-10-05T05:00:00",
          "2022-10-05T06:00:00",
          "2022-10-05T07:00:00",
          "2022-10-05T08:00:00",
          "2022-10-05T09:00:00",
          "2022-10-05T10:00:00",
          "2022-10-05T11:00:00",
          "2022-10-05T12:00:00",
          "2022-10-05T13:00:00",
          "2022-10-05T14:00:00",
          "2022-10-05T15:00:00",
          "2022-10-05T16:00:00",
          "2022-10-05T17:00:00",
          "2022-10-05T18:00:00",
          "2022-10-05T19:00:00",
          "2022-10-05T20:00:00",
          "2022-10-05T21:00:00",
          "2022-10-05T22:00:00",
          "2022-10-05T23:00:00",
          "2022-10-06T00:00:00",
          "2022-10-06T01:00:00",
          "2022-10-06T02:00:00",
          "2022-10-06T03:00:00",
          "2022-10-06T04:00:00",
          "2022-10-06T05:00:00",
          "2022-10-06T06:00:00",
          "2022-10-06T07:00:00",
          "2022-10-06T08:00:00",
          "2022-10-06T09:00:00",
          "2022-10-06T10:00:00",
          "2022-10-06T11:00:00",
          "2022-10-06T12:00:00",
          "2022-10-06T13:00:00",
          "2022-10-06T14:00:00",
          "2022-10-06T15:00:00",
          "2022-10-06T16:00:00",
          "2022-10-06T17:00:00",
          "2022-10-06T18:00:00",
          "2022-10-06T19:00:00",
          "2022-10-06T20:00:00",
          "2022-10-06T21:00:00",
          "2022-10-06T22:00:00",
          "2022-10-06T23:00:00",
          "2022-10-07T00:00:00",
          "2022-10-07T01:00:00",
          "2022-10-07T02:00:00",
          "2022-10-07T03:00:00",
          "2022-10-07T04:00:00",
          "2022-10-07T05:00:00",
          "2022-10-07T06:00:00",
          "2022-10-07T07:00:00",
          "2022-10-07T08:00:00",
          "2022-10-07T09:00:00",
          "2022-10-07T10:00:00",
          "2022-10-07T11:00:00",
          "2022-10-07T12:00:00",
          "2022-10-07T13:00:00",
          "2022-10-07T14:00:00",
          "2022-10-07T15:00:00",
          "2022-10-07T16:00:00",
          "2022-10-07T17:00:00",
          "2022-10-07T18:00:00",
          "2022-10-07T19:00:00",
          "2022-10-07T20:00:00",
          "2022-10-07T21:00:00",
          "2022-10-07T22:00:00",
          "2022-10-07T23:00:00",
          "2022-10-08T00:00:00",
          "2022-10-08T01:00:00",
          "2022-10-08T02:00:00",
          "2022-10-08T03:00:00",
          "2022-10-08T04:00:00",
          "2022-10-08T05:00:00",
          "2022-10-08T06:00:00",
          "2022-10-08T07:00:00",
          "2022-10-08T08:00:00",
          "2022-10-08T09:00:00",
          "2022-10-08T10:00:00",
          "2022-10-08T11:00:00",
          "2022-10-08T12:00:00",
          "2022-10-08T13:00:00",
          "2022-10-08T14:00:00",
          "2022-10-08T15:00:00",
          "2022-10-08T16:00:00",
          "2022-10-08T17:00:00",
          "2022-10-08T18:00:00",
          "2022-10-08T19:00:00",
          "2022-10-08T20:00:00",
          "2022-10-08T21:00:00",
          "2022-10-08T22:00:00",
          "2022-10-08T23:00:00",
          "2022-10-09T00:00:00",
          "2022-10-09T01:00:00",
          "2022-10-09T02:00:00",
          "2022-10-09T03:00:00",
          "2022-10-09T04:00:00",
          "2022-10-09T05:00:00",
          "2022-10-09T06:00:00",
          "2022-10-09T07:00:00",
          "2022-10-09T08:00:00",
          "2022-10-09T09:00:00",
          "2022-10-09T10:00:00",
          "2022-10-09T11:00:00",
          "2022-10-09T12:00:00",
          "2022-10-09T13:00:00",
          "2022-10-09T14:00:00",
          "2022-10-09T15:00:00",
          "2022-10-09T16:00:00",
          "2022-10-09T17:00:00",
          "2022-10-09T18:00:00",
          "2022-10-09T19:00:00",
          "2022-10-09T20:00:00",
          "2022-10-09T21:00:00",
          "2022-10-09T22:00:00",
          "2022-10-09T23:00:00",
          "2022-10-10T00:00:00",
          "2022-10-10T01:00:00",
          "2022-10-10T02:00:00",
          "2022-10-10T03:00:00",
          "2022-10-10T04:00:00",
          "2022-10-10T05:00:00",
          "2022-10-10T06:00:00",
          "2022-10-10T07:00:00",
          "2022-10-10T08:00:00",
          "2022-10-10T09:00:00",
          "2022-10-10T10:00:00",
          "2022-10-10T11:00:00",
          "2022-10-10T12:00:00",
          "2022-10-10T13:00:00",
          "2022-10-10T14:00:00",
          "2022-10-10T15:00:00",
          "2022-10-10T16:00:00",
          "2022-10-10T17:00:00",
          "2022-10-10T18:00:00",
          "2022-10-10T19:00:00",
          "2022-10-10T20:00:00",
          "2022-10-10T21:00:00",
          "2022-10-10T22:00:00",
          "2022-10-10T23:00:00",
          "2022-10-11T00:00:00",
          "2022-10-11T01:00:00",
          "2022-10-11T02:00:00",
          "2022-10-11T03:00:00",
          "2022-10-11T04:00:00",
          "2022-10-11T05:00:00",
          "2022-10-11T06:00:00",
          "2022-10-11T07:00:00",
          "2022-10-11T08:00:00",
          "2022-10-11T09:00:00",
          "2022-10-11T10:00:00",
          "2022-10-11T11:00:00",
          "2022-10-11T12:00:00",
          "2022-10-11T13:00:00",
          "2022-10-11T14:00:00",
          "2022-10-11T15:00:00",
          "2022-10-11T16:00:00",
          "2022-10-11T17:00:00",
          "2022-10-11T18:00:00",
          "2022-10-11T19:00:00",
          "2022-10-11T20:00:00",
          "2022-10-11T21:00:00",
          "2022-10-11T22:00:00",
          "2022-10-11T23:00:00",
          "2022-10-12T00:00:00",
          "2022-10-12T01:00:00",
          "2022-10-12T02:00:00",
          "2022-10-12T03:00:00",
          "2022-10-12T04:00:00",
          "2022-10-12T05:00:00",
          "2022-10-12T06:00:00",
          "2022-10-12T07:00:00",
          "2022-10-12T08:00:00",
          "2022-10-12T09:00:00",
          "2022-10-12T10:00:00",
          "2022-10-12T11:00:00",
          "2022-10-12T12:00:00",
          "2022-10-12T13:00:00",
          "2022-10-12T14:00:00",
          "2022-10-12T15:00:00",
          "2022-10-12T16:00:00",
          "2022-10-12T17:00:00"
         ],
         "xaxis": "x",
         "y": [
          0.13999999999999999,
          0.13999999999999999,
          0.16,
          0.13999999999999999,
          0.17,
          0.13999999999999999,
          0.15,
          0.15,
          0.19999999999999998,
          0.24,
          0.24,
          0.25,
          0.2,
          0.22,
          0.16,
          0.18000000000000002,
          0.15,
          0.16,
          0.15,
          0.13999999999999999,
          0.15,
          0.13,
          0.13,
          0.15,
          0.13999999999999999,
          0.13,
          0.15,
          0.13,
          0.13999999999999999,
          0.13999999999999999,
          0.13999999999999999,
          0.16999999999999998,
          0.19,
          0.27,
          0.24000000000000002,
          0.26,
          0.2,
          0.16,
          0.18,
          0.16,
          0.13999999999999999,
          0.13999999999999999,
          0.13,
          0.13,
          0.13,
          0.13,
          0.13,
          0.16,
          0.13999999999999999,
          0.13999999999999999,
          0.15,
          0.13,
          0.15,
          0.15,
          0.16,
          0.22,
          0.17,
          0.26,
          0.26,
          0.30000000000000004,
          0.22000000000000003,
          0.21,
          0.2,
          0.21000000000000002,
          0.19,
          0.18000000000000002,
          0.17,
          0.17,
          0.16,
          0.18000000000000002,
          0.15,
          0.15,
          0.15,
          0.12000000000000001,
          0.13,
          0.13,
          0.12000000000000001,
          0.12000000000000001,
          0.12000000000000001,
          0.13999999999999999,
          0.15,
          0.24000000000000002,
          0.25,
          0.24,
          0.17,
          0.16,
          0.19,
          0.15,
          0.15,
          0.16,
          0.15,
          0.14,
          0.15,
          0.17,
          0.15,
          0.18,
          0.16,
          0.15,
          0.16,
          0.13,
          0.13,
          0.13,
          0.13999999999999999,
          0.15,
          0.18,
          0.24,
          0.24,
          0.23,
          0.18000000000000002,
          0.19,
          0.2,
          0.18000000000000002,
          0.16,
          0.14,
          0.15,
          0.13999999999999999,
          0.17,
          0.16,
          0.15,
          0.16,
          0.16,
          0.13,
          0.14,
          0.13,
          0.13,
          0.14,
          0.16,
          0.15,
          0.13999999999999999,
          0.27,
          0.23,
          0.25,
          0.22,
          0.17,
          0.21,
          0.16,
          0.16,
          0.17,
          0.15,
          0.15,
          0.13,
          0.13,
          0.14,
          0.12000000000000001,
          0.14,
          0.12000000000000001,
          0.14,
          0.11,
          0.12,
          0.12000000000000001,
          0.11,
          0.13999999999999999,
          0.12000000000000001,
          0.23000000000000004,
          0.23,
          0.22999999999999998,
          0.18000000000000002,
          0.17,
          0.16999999999999998,
          0.16,
          0.16,
          0.15,
          0.13999999999999999,
          0.15,
          0.15,
          0.13999999999999999,
          0.13,
          0.14,
          0.14,
          0.12000000000000001,
          0.13,
          0.12000000000000001,
          0.13,
          0.11,
          0.12000000000000001,
          0.15000000000000002,
          0.13999999999999999,
          0.23000000000000004,
          0.22,
          0.24,
          0.19,
          0.17,
          0.15,
          0.13999999999999999,
          0.13,
          0.13,
          0.13,
          0.13,
          0.13,
          0.12000000000000001,
          0.12000000000000001,
          0.13,
          0.12000000000000001,
          0.12000000000000001,
          0.13,
          0.12000000000000001,
          0.12000000000000001,
          0.13,
          0.12000000000000001,
          0.15,
          0.16,
          0.26,
          0.25,
          0.25,
          0.17,
          0.16,
          0.18,
          0.13999999999999999,
          0.13999999999999999,
          0.13,
          0.15,
          0.15,
          0.13,
          0.13999999999999999,
          0.14,
          0.15,
          0.14,
          0.13999999999999999,
          0.16,
          0.13999999999999999,
          0.15,
          0.13999999999999999,
          0.13999999999999999,
          0.13999999999999999,
          0.15,
          0.24000000000000002,
          0.25,
          0.28,
          0.18000000000000002,
          0.18,
          0.16,
          0.16,
          0.16,
          0.15,
          0.16,
          0.16,
          0.16,
          0.18000000000000002,
          0.16,
          0.16,
          0.14,
          0.13999999999999999,
          0.14,
          0.13,
          0.12000000000000001,
          0.12000000000000001,
          0.11,
          0.15000000000000002,
          0.12000000000000001,
          0.23000000000000004,
          0.2,
          0.25,
          0.17,
          0.17,
          0.21,
          0.16999999999999998,
          0.19,
          0.22,
          0.17,
          0.18,
          0.18000000000000002,
          0.17,
          0.17,
          0.18000000000000002,
          0.14,
          0.12000000000000001,
          0.13,
          0.11,
          0.11,
          0.13,
          0.13,
          0.13999999999999999,
          0.15,
          0.23000000000000004,
          0.21000000000000002,
          0.22,
          0.16,
          0.18,
          0.19,
          0.18000000000000002,
          0.19,
          0.19
         ],
         "yaxis": "y"
        },
        {
         "fillpattern": {
          "shape": ""
         },
         "hovertemplate": "category_name=Compute<br>start_time=%{x}<br>credits=%{y}<extra></extra>",
         "legendgroup": "Compute",
         "line": {
          "color": "blue"
         },
         "marker": {
          "symbol": "circle"
         },
         "mode": "lines",
         "name": "Compute",
         "orientation": "v",
         "showlegend": true,
         "stackgroup": "1",
         "type": "scatter",
         "x": [
          "2022-10-01T00:00:00",
          "2022-10-01T01:00:00",
          "2022-10-01T02:00:00",
          "2022-10-01T03:00:00",
          "2022-10-01T04:00:00",
          "2022-10-01T05:00:00",
          "2022-10-01T06:00:00",
          "2022-10-01T07:00:00",
          "2022-10-01T08:00:00",
          "2022-10-01T09:00:00",
          "2022-10-01T10:00:00",
          "2022-10-01T11:00:00",
          "2022-10-01T12:00:00",
          "2022-10-01T13:00:00",
          "2022-10-01T14:00:00",
          "2022-10-01T15:00:00",
          "2022-10-01T16:00:00",
          "2022-10-01T17:00:00",
          "2022-10-01T18:00:00",
          "2022-10-01T19:00:00",
          "2022-10-01T20:00:00",
          "2022-10-01T21:00:00",
          "2022-10-01T22:00:00",
          "2022-10-01T23:00:00",
          "2022-10-02T00:00:00",
          "2022-10-02T01:00:00",
          "2022-10-02T02:00:00",
          "2022-10-02T03:00:00",
          "2022-10-02T04:00:00",
          "2022-10-02T05:00:00",
          "2022-10-02T06:00:00",
          "2022-10-02T07:00:00",
          "2022-10-02T08:00:00",
          "2022-10-02T09:00:00",
          "2022-10-02T10:00:00",
          "2022-10-02T11:00:00",
          "2022-10-02T12:00:00",
          "2022-10-02T13:00:00",
          "2022-10-02T14:00:00",
          "2022-10-02T15:00:00",
          "2022-10-02T16:00:00",
          "2022-10-02T17:00:00",
          "2022-10-02T18:00:00",
          "2022-10-02T19:00:00",
          "2022-10-02T20:00:00",
          "2022-10-02T21:00:00",
          "2022-10-02T22:00:00",
          "2022-10-02T23:00:00",
          "2022-10-03T00:00:00",
          "2022-10-03T01:00:00",
          "2022-10-03T02:00:00",
          "2022-10-03T03:00:00",
          "2022-10-03T04:00:00",
          "2022-10-03T05:00:00",
          "2022-10-03T06:00:00",
          "2022-10-03T07:00:00",
          "2022-10-03T08:00:00",
          "2022-10-03T09:00:00",
          "2022-10-03T10:00:00",
          "2022-10-03T11:00:00",
          "2022-10-03T12:00:00",
          "2022-10-03T13:00:00",
          "2022-10-03T14:00:00",
          "2022-10-03T15:00:00",
          "2022-10-03T16:00:00",
          "2022-10-03T17:00:00",
          "2022-10-03T18:00:00",
          "2022-10-03T19:00:00",
          "2022-10-03T20:00:00",
          "2022-10-03T21:00:00",
          "2022-10-03T22:00:00",
          "2022-10-03T23:00:00",
          "2022-10-04T00:00:00",
          "2022-10-04T01:00:00",
          "2022-10-04T02:00:00",
          "2022-10-04T03:00:00",
          "2022-10-04T04:00:00",
          "2022-10-04T05:00:00",
          "2022-10-04T06:00:00",
          "2022-10-04T07:00:00",
          "2022-10-04T08:00:00",
          "2022-10-04T09:00:00",
          "2022-10-04T10:00:00",
          "2022-10-04T11:00:00",
          "2022-10-04T12:00:00",
          "2022-10-04T13:00:00",
          "2022-10-04T14:00:00",
          "2022-10-04T15:00:00",
          "2022-10-04T16:00:00",
          "2022-10-04T17:00:00",
          "2022-10-04T18:00:00",
          "2022-10-04T19:00:00",
          "2022-10-04T20:00:00",
          "2022-10-04T21:00:00",
          "2022-10-04T22:00:00",
          "2022-10-04T23:00:00",
          "2022-10-05T00:00:00",
          "2022-10-05T01:00:00",
          "2022-10-05T02:00:00",
          "2022-10-05T03:00:00",
          "2022-10-05T04:00:00",
          "2022-10-05T05:00:00",
          "2022-10-05T06:00:00",
          "2022-10-05T07:00:00",
          "2022-10-05T08:00:00",
          "2022-10-05T09:00:00",
          "2022-10-05T10:00:00",
          "2022-10-05T11:00:00",
          "2022-10-05T12:00:00",
          "2022-10-05T13:00:00",
          "2022-10-05T14:00:00",
          "2022-10-05T15:00:00",
          "2022-10-05T16:00:00",
          "2022-10-05T17:00:00",
          "2022-10-05T18:00:00",
          "2022-10-05T19:00:00",
          "2022-10-05T20:00:00",
          "2022-10-05T21:00:00",
          "2022-10-05T22:00:00",
          "2022-10-05T23:00:00",
          "2022-10-06T00:00:00",
          "2022-10-06T01:00:00",
          "2022-10-06T02:00:00",
          "2022-10-06T03:00:00",
          "2022-10-06T04:00:00",
          "2022-10-06T05:00:00",
          "2022-10-06T06:00:00",
          "2022-10-06T07:00:00",
          "2022-10-06T08:00:00",
          "2022-10-06T09:00:00",
          "2022-10-06T10:00:00",
          "2022-10-06T11:00:00",
          "2022-10-06T12:00:00",
          "2022-10-06T13:00:00",
          "2022-10-06T14:00:00",
          "2022-10-06T15:00:00",
          "2022-10-06T16:00:00",
          "2022-10-06T17:00:00",
          "2022-10-06T18:00:00",
          "2022-10-06T19:00:00",
          "2022-10-06T20:00:00",
          "2022-10-06T21:00:00",
          "2022-10-06T22:00:00",
          "2022-10-06T23:00:00",
          "2022-10-07T00:00:00",
          "2022-10-07T01:00:00",
          "2022-10-07T02:00:00",
          "2022-10-07T03:00:00",
          "2022-10-07T04:00:00",
          "2022-10-07T05:00:00",
          "2022-10-07T06:00:00",
          "2022-10-07T07:00:00",
          "2022-10-07T08:00:00",
          "2022-10-07T09:00:00",
          "2022-10-07T10:00:00",
          "2022-10-07T11:00:00",
          "2022-10-07T12:00:00",
          "2022-10-07T13:00:00",
          "2022-10-07T14:00:00",
          "2022-10-07T15:00:00",
          "2022-10-07T16:00:00",
          "2022-10-07T17:00:00",
          "2022-10-07T18:00:00",
          "2022-10-07T19:00:00",
          "2022-10-07T20:00:00",
          "2022-10-07T21:00:00",
          "2022-10-07T22:00:00",
          "2022-10-07T23:00:00",
          "2022-10-08T00:00:00",
          "2022-10-08T01:00:00",
          "2022-10-08T02:00:00",
          "2022-10-08T03:00:00",
          "2022-10-08T04:00:00",
          "2022-10-08T05:00:00",
          "2022-10-08T06:00:00",
          "2022-10-08T07:00:00",
          "2022-10-08T08:00:00",
          "2022-10-08T09:00:00",
          "2022-10-08T10:00:00",
          "2022-10-08T11:00:00",
          "2022-10-08T12:00:00",
          "2022-10-08T13:00:00",
          "2022-10-08T14:00:00",
          "2022-10-08T15:00:00",
          "2022-10-08T16:00:00",
          "2022-10-08T17:00:00",
          "2022-10-08T18:00:00",
          "2022-10-08T19:00:00",
          "2022-10-08T20:00:00",
          "2022-10-08T21:00:00",
          "2022-10-08T22:00:00",
          "2022-10-08T23:00:00",
          "2022-10-09T00:00:00",
          "2022-10-09T01:00:00",
          "2022-10-09T02:00:00",
          "2022-10-09T03:00:00",
          "2022-10-09T04:00:00",
          "2022-10-09T05:00:00",
          "2022-10-09T06:00:00",
          "2022-10-09T07:00:00",
          "2022-10-09T08:00:00",
          "2022-10-09T09:00:00",
          "2022-10-09T10:00:00",
          "2022-10-09T11:00:00",
          "2022-10-09T12:00:00",
          "2022-10-09T13:00:00",
          "2022-10-09T14:00:00",
          "2022-10-09T15:00:00",
          "2022-10-09T16:00:00",
          "2022-10-09T17:00:00",
          "2022-10-09T18:00:00",
          "2022-10-09T19:00:00",
          "2022-10-09T20:00:00",
          "2022-10-09T21:00:00",
          "2022-10-09T22:00:00",
          "2022-10-09T23:00:00",
          "2022-10-10T00:00:00",
          "2022-10-10T01:00:00",
          "2022-10-10T02:00:00",
          "2022-10-10T03:00:00",
          "2022-10-10T04:00:00",
          "2022-10-10T05:00:00",
          "2022-10-10T06:00:00",
          "2022-10-10T07:00:00",
          "2022-10-10T08:00:00",
          "2022-10-10T09:00:00",
          "2022-10-10T10:00:00",
          "2022-10-10T11:00:00",
          "2022-10-10T12:00:00",
          "2022-10-10T13:00:00",
          "2022-10-10T14:00:00",
          "2022-10-10T15:00:00",
          "2022-10-10T16:00:00",
          "2022-10-10T17:00:00",
          "2022-10-10T18:00:00",
          "2022-10-10T19:00:00",
          "2022-10-10T20:00:00",
          "2022-10-10T21:00:00",
          "2022-10-10T22:00:00",
          "2022-10-10T23:00:00",
          "2022-10-11T00:00:00",
          "2022-10-11T01:00:00",
          "2022-10-11T02:00:00",
          "2022-10-11T03:00:00",
          "2022-10-11T04:00:00",
          "2022-10-11T05:00:00",
          "2022-10-11T06:00:00",
          "2022-10-11T07:00:00",
          "2022-10-11T08:00:00",
          "2022-10-11T09:00:00",
          "2022-10-11T10:00:00",
          "2022-10-11T11:00:00",
          "2022-10-11T12:00:00",
          "2022-10-11T13:00:00",
          "2022-10-11T14:00:00",
          "2022-10-11T15:00:00",
          "2022-10-11T16:00:00",
          "2022-10-11T17:00:00",
          "2022-10-11T18:00:00",
          "2022-10-11T19:00:00",
          "2022-10-11T20:00:00",
          "2022-10-11T21:00:00",
          "2022-10-11T22:00:00",
          "2022-10-11T23:00:00",
          "2022-10-12T00:00:00",
          "2022-10-12T01:00:00",
          "2022-10-12T02:00:00",
          "2022-10-12T03:00:00",
          "2022-10-12T04:00:00",
          "2022-10-12T05:00:00",
          "2022-10-12T06:00:00",
          "2022-10-12T07:00:00",
          "2022-10-12T08:00:00",
          "2022-10-12T09:00:00",
          "2022-10-12T10:00:00",
          "2022-10-12T11:00:00",
          "2022-10-12T12:00:00",
          "2022-10-12T13:00:00",
          "2022-10-12T14:00:00",
          "2022-10-12T15:00:00",
          "2022-10-12T16:00:00",
          "2022-10-12T17:00:00"
         ],
         "xaxis": "x",
         "y": [
          10.5,
          10.620000000000001,
          9.33,
          10.26,
          9.18,
          9.36,
          10.14,
          9.36,
          9.36,
          26.14,
          25.36,
          18.85,
          13.32,
          19.53,
          34.269999999999996,
          21.22,
          15.3,
          15.33,
          16.11,
          9.36,
          9.33,
          10.14,
          9.33,
          9.33,
          10.5,
          10.469999999999999,
          9.33,
          10.32,
          9.36,
          9.36,
          10.11,
          9.39,
          9.36,
          26.11,
          25.36,
          21.21,
          13.23,
          13.530000000000001,
          28.27,
          15.3,
          9.3,
          9.3,
          10.08,
          9.3,
          9.3,
          10.14,
          9.33,
          9.33,
          10.44,
          10.41,
          9.33,
          10.26,
          9.33,
          9.33,
          10.26,
          9.33,
          9.36,
          26.23,
          25.18,
          21.93,
          13.23,
          13.530000000000001,
          28.27,
          16.49,
          9.3,
          9.3,
          10.83,
          9.33,
          9.33,
          12.18,
          9.33,
          9.33,
          10.469999999999999,
          10.56,
          9.33,
          10.23,
          9.36,
          9.36,
          10.26,
          9.36,
          9.36,
          26.86,
          25.33,
          18.73,
          13.41,
          13.44,
          28.3,
          14.79,
          9.3,
          9.33,
          10.23,
          9.18,
          9.33,
          10.14,
          9.33,
          9.36,
          10.35,
          10.59,
          9.39,
          10.17,
          9.39,
          9.42,
          10.26,
          9.42,
          9.42,
          26.810000000000002,
          25.42,
          19.22,
          13.379999999999999,
          13.620000000000001,
          16.33,
          16.12,
          14.450000000000001,
          13.33,
          10.530000000000001,
          9.39,
          10.41,
          13.35,
          10.53,
          10.77,
          11.67,
          10.17,
          9.21,
          10.26,
          9.39,
          9.42,
          10.26,
          9.42,
          9.42,
          26.8,
          25.42,
          20.15,
          13.26,
          13.620000000000001,
          28.27,
          13.56,
          9.33,
          11.34,
          13.17,
          11.58,
          10.62,
          10.17,
          9.36,
          9.36,
          10.41,
          10.620000000000001,
          9.36,
          10.26,
          9.36,
          9.36,
          10.26,
          9.36,
          9.36,
          26.9,
          25.36,
          18.32,
          13.08,
          13.5,
          16.27,
          16.33,
          13.3,
          13.3,
          10.780000000000001,
          9.36,
          9.36,
          10.17,
          9.36,
          9.36,
          10.469999999999999,
          10.65,
          9.39,
          10.17,
          9.36,
          9.36,
          10.26,
          9.39,
          9.36,
          26.87,
          25.36,
          18.16,
          13.379999999999999,
          13.44,
          16.27,
          17.2,
          16.27,
          16.27,
          14.27,
          12.33,
          12.33,
          12.99,
          12.33,
          12.33,
          13.2,
          13.41,
          12.33,
          13.14,
          12.33,
          12.36,
          13.17,
          12.36,
          12.36,
          29.78,
          28.33,
          18.97,
          13.35,
          13.469999999999999,
          16.27,
          17.2,
          16.27,
          15.870000000000001,
          13.23,
          12.33,
          12.33,
          13.05,
          12.33,
          12.33,
          13.23,
          13.56,
          12.33,
          13.17,
          12.33,
          12.36,
          13.17,
          12.36,
          12.36,
          29.740000000000002,
          28.36,
          19.88,
          13.35,
          13.530000000000001,
          16.27,
          17.11,
          16.27,
          16.27,
          10.91,
          10.32,
          11.88,
          12,
          9.33,
          10.92,
          10.469999999999999,
          10.620000000000001,
          9.33,
          10.23,
          9.33,
          9.33,
          10.23,
          9.18,
          9.36,
          26.770000000000003,
          25.36,
          19.04,
          13.2,
          13.56,
          16.33,
          16.27,
          10.56,
          14.35,
          16.31,
          13.38,
          15.39,
          10.2,
          9.42,
          9.45,
          10.5,
          10.68,
          9.42,
          10.32,
          9.42,
          9.42,
          10.379999999999999,
          9.45,
          9.42,
          26.990000000000002,
          25.42,
          19.21,
          13.23,
          13.530000000000001,
          16.3,
          15.7,
          13.85,
          13.33
         ],
         "yaxis": "y"
        },
        {
         "fillpattern": {
          "shape": ""
         },
         "hovertemplate": "category_name=Storage<br>start_time=%{x}<br>credits=%{y}<extra></extra>",
         "legendgroup": "Storage",
         "line": {
          "color": "green"
         },
         "marker": {
          "symbol": "circle"
         },
         "mode": "lines",
         "name": "Storage",
         "orientation": "v",
         "showlegend": true,
         "stackgroup": "1",
         "type": "scatter",
         "x": [
          "2022-10-01T00:00:00",
          "2022-10-01T01:00:00",
          "2022-10-01T02:00:00",
          "2022-10-01T03:00:00",
          "2022-10-01T04:00:00",
          "2022-10-01T05:00:00",
          "2022-10-01T06:00:00",
          "2022-10-01T07:00:00",
          "2022-10-01T08:00:00",
          "2022-10-01T09:00:00",
          "2022-10-01T10:00:00",
          "2022-10-01T11:00:00",
          "2022-10-01T12:00:00",
          "2022-10-01T13:00:00",
          "2022-10-01T14:00:00",
          "2022-10-01T15:00:00",
          "2022-10-01T16:00:00",
          "2022-10-01T17:00:00",
          "2022-10-01T18:00:00",
          "2022-10-01T19:00:00",
          "2022-10-01T20:00:00",
          "2022-10-01T21:00:00",
          "2022-10-01T22:00:00",
          "2022-10-01T23:00:00",
          "2022-10-02T00:00:00",
          "2022-10-02T01:00:00",
          "2022-10-02T02:00:00",
          "2022-10-02T03:00:00",
          "2022-10-02T04:00:00",
          "2022-10-02T05:00:00",
          "2022-10-02T06:00:00",
          "2022-10-02T07:00:00",
          "2022-10-02T08:00:00",
          "2022-10-02T09:00:00",
          "2022-10-02T10:00:00",
          "2022-10-02T11:00:00",
          "2022-10-02T12:00:00",
          "2022-10-02T13:00:00",
          "2022-10-02T14:00:00",
          "2022-10-02T15:00:00",
          "2022-10-02T16:00:00",
          "2022-10-02T17:00:00",
          "2022-10-02T18:00:00",
          "2022-10-02T19:00:00",
          "2022-10-02T20:00:00",
          "2022-10-02T21:00:00",
          "2022-10-02T22:00:00",
          "2022-10-02T23:00:00",
          "2022-10-03T00:00:00",
          "2022-10-03T01:00:00",
          "2022-10-03T02:00:00",
          "2022-10-03T03:00:00",
          "2022-10-03T04:00:00",
          "2022-10-03T05:00:00",
          "2022-10-03T06:00:00",
          "2022-10-03T07:00:00",
          "2022-10-03T08:00:00",
          "2022-10-03T09:00:00",
          "2022-10-03T10:00:00",
          "2022-10-03T11:00:00",
          "2022-10-03T12:00:00",
          "2022-10-03T13:00:00",
          "2022-10-03T14:00:00",
          "2022-10-03T15:00:00",
          "2022-10-03T16:00:00",
          "2022-10-03T17:00:00",
          "2022-10-03T18:00:00",
          "2022-10-03T19:00:00",
          "2022-10-03T20:00:00",
          "2022-10-03T21:00:00",
          "2022-10-03T22:00:00",
          "2022-10-03T23:00:00",
          "2022-10-04T00:00:00",
          "2022-10-04T01:00:00",
          "2022-10-04T02:00:00",
          "2022-10-04T03:00:00",
          "2022-10-04T04:00:00",
          "2022-10-04T05:00:00",
          "2022-10-04T06:00:00",
          "2022-10-04T07:00:00",
          "2022-10-04T08:00:00",
          "2022-10-04T09:00:00",
          "2022-10-04T10:00:00",
          "2022-10-04T11:00:00",
          "2022-10-04T12:00:00",
          "2022-10-04T13:00:00",
          "2022-10-04T14:00:00",
          "2022-10-04T15:00:00",
          "2022-10-04T16:00:00",
          "2022-10-04T17:00:00",
          "2022-10-04T18:00:00",
          "2022-10-04T19:00:00",
          "2022-10-04T20:00:00",
          "2022-10-04T21:00:00",
          "2022-10-04T22:00:00",
          "2022-10-04T23:00:00",
          "2022-10-05T00:00:00",
          "2022-10-05T01:00:00",
          "2022-10-05T02:00:00",
          "2022-10-05T03:00:00",
          "2022-10-05T04:00:00",
          "2022-10-05T05:00:00",
          "2022-10-05T06:00:00",
          "2022-10-05T07:00:00",
          "2022-10-05T08:00:00",
          "2022-10-05T09:00:00",
          "2022-10-05T10:00:00",
          "2022-10-05T11:00:00",
          "2022-10-05T12:00:00",
          "2022-10-05T13:00:00",
          "2022-10-05T14:00:00",
          "2022-10-05T15:00:00",
          "2022-10-05T16:00:00",
          "2022-10-05T17:00:00",
          "2022-10-05T18:00:00",
          "2022-10-05T19:00:00",
          "2022-10-05T20:00:00",
          "2022-10-05T21:00:00",
          "2022-10-05T22:00:00",
          "2022-10-05T23:00:00",
          "2022-10-06T00:00:00",
          "2022-10-06T01:00:00",
          "2022-10-06T02:00:00",
          "2022-10-06T03:00:00",
          "2022-10-06T04:00:00",
          "2022-10-06T05:00:00",
          "2022-10-06T06:00:00",
          "2022-10-06T07:00:00",
          "2022-10-06T08:00:00",
          "2022-10-06T09:00:00",
          "2022-10-06T10:00:00",
          "2022-10-06T11:00:00",
          "2022-10-06T12:00:00",
          "2022-10-06T13:00:00",
          "2022-10-06T14:00:00",
          "2022-10-06T15:00:00",
          "2022-10-06T16:00:00",
          "2022-10-06T17:00:00",
          "2022-10-06T18:00:00",
          "2022-10-06T19:00:00",
          "2022-10-06T20:00:00",
          "2022-10-06T21:00:00",
          "2022-10-06T22:00:00",
          "2022-10-06T23:00:00",
          "2022-10-07T00:00:00",
          "2022-10-07T01:00:00",
          "2022-10-07T02:00:00",
          "2022-10-07T03:00:00",
          "2022-10-07T04:00:00",
          "2022-10-07T05:00:00",
          "2022-10-07T06:00:00",
          "2022-10-07T07:00:00",
          "2022-10-07T08:00:00",
          "2022-10-07T09:00:00",
          "2022-10-07T10:00:00",
          "2022-10-07T11:00:00",
          "2022-10-07T12:00:00",
          "2022-10-07T13:00:00",
          "2022-10-07T14:00:00",
          "2022-10-07T15:00:00",
          "2022-10-07T16:00:00",
          "2022-10-07T17:00:00",
          "2022-10-07T18:00:00",
          "2022-10-07T19:00:00",
          "2022-10-07T20:00:00",
          "2022-10-07T21:00:00",
          "2022-10-07T22:00:00",
          "2022-10-07T23:00:00",
          "2022-10-08T00:00:00",
          "2022-10-08T01:00:00",
          "2022-10-08T02:00:00",
          "2022-10-08T03:00:00",
          "2022-10-08T04:00:00",
          "2022-10-08T05:00:00",
          "2022-10-08T06:00:00",
          "2022-10-08T07:00:00",
          "2022-10-08T08:00:00",
          "2022-10-08T09:00:00",
          "2022-10-08T10:00:00",
          "2022-10-08T11:00:00",
          "2022-10-08T12:00:00",
          "2022-10-08T13:00:00",
          "2022-10-08T14:00:00",
          "2022-10-08T15:00:00",
          "2022-10-08T16:00:00",
          "2022-10-08T17:00:00",
          "2022-10-08T18:00:00",
          "2022-10-08T19:00:00",
          "2022-10-08T20:00:00",
          "2022-10-08T21:00:00",
          "2022-10-08T22:00:00",
          "2022-10-08T23:00:00",
          "2022-10-09T00:00:00",
          "2022-10-09T01:00:00",
          "2022-10-09T02:00:00",
          "2022-10-09T03:00:00",
          "2022-10-09T04:00:00",
          "2022-10-09T05:00:00",
          "2022-10-09T06:00:00",
          "2022-10-09T07:00:00",
          "2022-10-09T08:00:00",
          "2022-10-09T09:00:00",
          "2022-10-09T10:00:00",
          "2022-10-09T11:00:00",
          "2022-10-09T12:00:00",
          "2022-10-09T13:00:00",
          "2022-10-09T14:00:00",
          "2022-10-09T15:00:00",
          "2022-10-09T16:00:00",
          "2022-10-09T17:00:00",
          "2022-10-09T18:00:00",
          "2022-10-09T19:00:00",
          "2022-10-09T20:00:00",
          "2022-10-09T21:00:00",
          "2022-10-09T22:00:00",
          "2022-10-09T23:00:00",
          "2022-10-10T00:00:00",
          "2022-10-10T01:00:00",
          "2022-10-10T02:00:00",
          "2022-10-10T03:00:00",
          "2022-10-10T04:00:00",
          "2022-10-10T05:00:00",
          "2022-10-10T06:00:00",
          "2022-10-10T07:00:00",
          "2022-10-10T08:00:00",
          "2022-10-10T09:00:00",
          "2022-10-10T10:00:00",
          "2022-10-10T11:00:00",
          "2022-10-10T12:00:00",
          "2022-10-10T13:00:00",
          "2022-10-10T14:00:00",
          "2022-10-10T15:00:00",
          "2022-10-10T16:00:00",
          "2022-10-10T17:00:00",
          "2022-10-10T18:00:00",
          "2022-10-10T19:00:00",
          "2022-10-10T20:00:00",
          "2022-10-10T21:00:00",
          "2022-10-10T22:00:00",
          "2022-10-10T23:00:00",
          "2022-10-11T00:00:00"
         ],
         "xaxis": "x",
         "y": [
          0,
          0,
          0,
          0,
          0,
          0,
          0,
          0,
          0,
          0,
          0,
          0,
          0,
          0,
          0,
          0,
          0,
          0,
          0,
          0,
          0,
          0,
          0,
          0,
          0,
          0,
          0,
          0,
          0,
          0,
          0,
          0,
          0,
          0,
          0,
          0,
          0,
          0,
          0,
          0,
          0,
          0,
          0,
          0,
          0,
          0,
          0,
          0,
          0,
          0,
          0,
          0,
          0,
          0,
          0,
          0,
          0,
          0,
          0,
          0,
          0,
          0,
          0,
          0,
          0,
          0,
          0,
          0,
          0,
          0,
          0,
          0,
          0,
          0,
          0,
          0,
          0,
          0,
          0,
          0,
          0,
          0,
          0,
          0,
          0,
          0,
          0,
          0,
          0,
          0,
          0,
          0,
          0,
          0,
          0,
          0,
          0,
          0,
          0,
          0,
          0,
          0,
          0,
          0,
          0,
          0,
          0,
          0,
          0,
          0,
          0,
          0,
          0,
          0,
          0,
          0,
          0,
          0,
          0,
          0,
          0,
          0,
          0,
          0,
          0,
          0,
          0,
          0,
          0,
          0,
          0,
          0,
          0,
          0,
          0,
          0,
          0,
          0,
          0,
          0,
          0,
          0,
          0,
          0,
          0,
          0,
          0,
          0,
          0,
          0,
          0,
          0,
          0,
          0,
          0,
          0,
          0,
          0,
          0,
          0,
          0,
          0,
          0,
          0,
          0,
          0,
          0,
          0,
          0,
          0,
          0,
          0,
          0,
          0,
          0,
          0,
          0,
          0,
          0,
          0,
          0,
          0,
          0,
          0,
          0,
          0,
          0,
          0,
          0,
          0,
          0,
          0,
          0,
          0,
          0,
          0,
          0,
          0,
          0,
          0,
          0,
          0,
          0,
          0,
          0,
          0,
          0,
          0,
          0,
          0,
          0,
          0,
          0,
          0,
          0,
          0,
          0,
          0,
          0,
          0,
          0,
          0,
          0,
          0,
          0,
          0,
          0,
          0,
          0,
          0,
          0,
          0,
          0,
          0,
          0,
          0,
          0,
          0,
          0,
          0,
          0
         ],
         "yaxis": "y"
        }
       ],
       "layout": {
        "legend": {
         "title": {
          "text": "category_name"
         },
         "tracegroupgap": 0
        },
        "margin": {
         "t": 60
        },
        "template": {
         "data": {
          "bar": [
           {
            "error_x": {
             "color": "#2a3f5f"
            },
            "error_y": {
             "color": "#2a3f5f"
            },
            "marker": {
             "line": {
              "color": "#E5ECF6",
              "width": 0.5
             },
             "pattern": {
              "fillmode": "overlay",
              "size": 10,
              "solidity": 0.2
             }
            },
            "type": "bar"
           }
          ],
          "barpolar": [
           {
            "marker": {
             "line": {
              "color": "#E5ECF6",
              "width": 0.5
             },
             "pattern": {
              "fillmode": "overlay",
              "size": 10,
              "solidity": 0.2
             }
            },
            "type": "barpolar"
           }
          ],
          "carpet": [
           {
            "aaxis": {
             "endlinecolor": "#2a3f5f",
             "gridcolor": "white",
             "linecolor": "white",
             "minorgridcolor": "white",
             "startlinecolor": "#2a3f5f"
            },
            "baxis": {
             "endlinecolor": "#2a3f5f",
             "gridcolor": "white",
             "linecolor": "white",
             "minorgridcolor": "white",
             "startlinecolor": "#2a3f5f"
            },
            "type": "carpet"
           }
          ],
          "choropleth": [
           {
            "colorbar": {
             "outlinewidth": 0,
             "ticks": ""
            },
            "type": "choropleth"
           }
          ],
          "contour": [
           {
            "colorbar": {
             "outlinewidth": 0,
             "ticks": ""
            },
            "colorscale": [
             [
              0,
              "#0d0887"
             ],
             [
              0.1111111111111111,
              "#46039f"
             ],
             [
              0.2222222222222222,
              "#7201a8"
             ],
             [
              0.3333333333333333,
              "#9c179e"
             ],
             [
              0.4444444444444444,
              "#bd3786"
             ],
             [
              0.5555555555555556,
              "#d8576b"
             ],
             [
              0.6666666666666666,
              "#ed7953"
             ],
             [
              0.7777777777777778,
              "#fb9f3a"
             ],
             [
              0.8888888888888888,
              "#fdca26"
             ],
             [
              1,
              "#f0f921"
             ]
            ],
            "type": "contour"
           }
          ],
          "contourcarpet": [
           {
            "colorbar": {
             "outlinewidth": 0,
             "ticks": ""
            },
            "type": "contourcarpet"
           }
          ],
          "heatmap": [
           {
            "colorbar": {
             "outlinewidth": 0,
             "ticks": ""
            },
            "colorscale": [
             [
              0,
              "#0d0887"
             ],
             [
              0.1111111111111111,
              "#46039f"
             ],
             [
              0.2222222222222222,
              "#7201a8"
             ],
             [
              0.3333333333333333,
              "#9c179e"
             ],
             [
              0.4444444444444444,
              "#bd3786"
             ],
             [
              0.5555555555555556,
              "#d8576b"
             ],
             [
              0.6666666666666666,
              "#ed7953"
             ],
             [
              0.7777777777777778,
              "#fb9f3a"
             ],
             [
              0.8888888888888888,
              "#fdca26"
             ],
             [
              1,
              "#f0f921"
             ]
            ],
            "type": "heatmap"
           }
          ],
          "heatmapgl": [
           {
            "colorbar": {
             "outlinewidth": 0,
             "ticks": ""
            },
            "colorscale": [
             [
              0,
              "#0d0887"
             ],
             [
              0.1111111111111111,
              "#46039f"
             ],
             [
              0.2222222222222222,
              "#7201a8"
             ],
             [
              0.3333333333333333,
              "#9c179e"
             ],
             [
              0.4444444444444444,
              "#bd3786"
             ],
             [
              0.5555555555555556,
              "#d8576b"
             ],
             [
              0.6666666666666666,
              "#ed7953"
             ],
             [
              0.7777777777777778,
              "#fb9f3a"
             ],
             [
              0.8888888888888888,
              "#fdca26"
             ],
             [
              1,
              "#f0f921"
             ]
            ],
            "type": "heatmapgl"
           }
          ],
          "histogram": [
           {
            "marker": {
             "pattern": {
              "fillmode": "overlay",
              "size": 10,
              "solidity": 0.2
             }
            },
            "type": "histogram"
           }
          ],
          "histogram2d": [
           {
            "colorbar": {
             "outlinewidth": 0,
             "ticks": ""
            },
            "colorscale": [
             [
              0,
              "#0d0887"
             ],
             [
              0.1111111111111111,
              "#46039f"
             ],
             [
              0.2222222222222222,
              "#7201a8"
             ],
             [
              0.3333333333333333,
              "#9c179e"
             ],
             [
              0.4444444444444444,
              "#bd3786"
             ],
             [
              0.5555555555555556,
              "#d8576b"
             ],
             [
              0.6666666666666666,
              "#ed7953"
             ],
             [
              0.7777777777777778,
              "#fb9f3a"
             ],
             [
              0.8888888888888888,
              "#fdca26"
             ],
             [
              1,
              "#f0f921"
             ]
            ],
            "type": "histogram2d"
           }
          ],
          "histogram2dcontour": [
           {
            "colorbar": {
             "outlinewidth": 0,
             "ticks": ""
            },
            "colorscale": [
             [
              0,
              "#0d0887"
             ],
             [
              0.1111111111111111,
              "#46039f"
             ],
             [
              0.2222222222222222,
              "#7201a8"
             ],
             [
              0.3333333333333333,
              "#9c179e"
             ],
             [
              0.4444444444444444,
              "#bd3786"
             ],
             [
              0.5555555555555556,
              "#d8576b"
             ],
             [
              0.6666666666666666,
              "#ed7953"
             ],
             [
              0.7777777777777778,
              "#fb9f3a"
             ],
             [
              0.8888888888888888,
              "#fdca26"
             ],
             [
              1,
              "#f0f921"
             ]
            ],
            "type": "histogram2dcontour"
           }
          ],
          "mesh3d": [
           {
            "colorbar": {
             "outlinewidth": 0,
             "ticks": ""
            },
            "type": "mesh3d"
           }
          ],
          "parcoords": [
           {
            "line": {
             "colorbar": {
              "outlinewidth": 0,
              "ticks": ""
             }
            },
            "type": "parcoords"
           }
          ],
          "pie": [
           {
            "automargin": true,
            "type": "pie"
           }
          ],
          "scatter": [
           {
            "fillpattern": {
             "fillmode": "overlay",
             "size": 10,
             "solidity": 0.2
            },
            "type": "scatter"
           }
          ],
          "scatter3d": [
           {
            "line": {
             "colorbar": {
              "outlinewidth": 0,
              "ticks": ""
             }
            },
            "marker": {
             "colorbar": {
              "outlinewidth": 0,
              "ticks": ""
             }
            },
            "type": "scatter3d"
           }
          ],
          "scattercarpet": [
           {
            "marker": {
             "colorbar": {
              "outlinewidth": 0,
              "ticks": ""
             }
            },
            "type": "scattercarpet"
           }
          ],
          "scattergeo": [
           {
            "marker": {
             "colorbar": {
              "outlinewidth": 0,
              "ticks": ""
             }
            },
            "type": "scattergeo"
           }
          ],
          "scattergl": [
           {
            "marker": {
             "colorbar": {
              "outlinewidth": 0,
              "ticks": ""
             }
            },
            "type": "scattergl"
           }
          ],
          "scattermapbox": [
           {
            "marker": {
             "colorbar": {
              "outlinewidth": 0,
              "ticks": ""
             }
            },
            "type": "scattermapbox"
           }
          ],
          "scatterpolar": [
           {
            "marker": {
             "colorbar": {
              "outlinewidth": 0,
              "ticks": ""
             }
            },
            "type": "scatterpolar"
           }
          ],
          "scatterpolargl": [
           {
            "marker": {
             "colorbar": {
              "outlinewidth": 0,
              "ticks": ""
             }
            },
            "type": "scatterpolargl"
           }
          ],
          "scatterternary": [
           {
            "marker": {
             "colorbar": {
              "outlinewidth": 0,
              "ticks": ""
             }
            },
            "type": "scatterternary"
           }
          ],
          "surface": [
           {
            "colorbar": {
             "outlinewidth": 0,
             "ticks": ""
            },
            "colorscale": [
             [
              0,
              "#0d0887"
             ],
             [
              0.1111111111111111,
              "#46039f"
             ],
             [
              0.2222222222222222,
              "#7201a8"
             ],
             [
              0.3333333333333333,
              "#9c179e"
             ],
             [
              0.4444444444444444,
              "#bd3786"
             ],
             [
              0.5555555555555556,
              "#d8576b"
             ],
             [
              0.6666666666666666,
              "#ed7953"
             ],
             [
              0.7777777777777778,
              "#fb9f3a"
             ],
             [
              0.8888888888888888,
              "#fdca26"
             ],
             [
              1,
              "#f0f921"
             ]
            ],
            "type": "surface"
           }
          ],
          "table": [
           {
            "cells": {
             "fill": {
              "color": "#EBF0F8"
             },
             "line": {
              "color": "white"
             }
            },
            "header": {
             "fill": {
              "color": "#C8D4E3"
             },
             "line": {
              "color": "white"
             }
            },
            "type": "table"
           }
          ]
         },
         "layout": {
          "annotationdefaults": {
           "arrowcolor": "#2a3f5f",
           "arrowhead": 0,
           "arrowwidth": 1
          },
          "autotypenumbers": "strict",
          "coloraxis": {
           "colorbar": {
            "outlinewidth": 0,
            "ticks": ""
           }
          },
          "colorscale": {
           "diverging": [
            [
             0,
             "#8e0152"
            ],
            [
             0.1,
             "#c51b7d"
            ],
            [
             0.2,
             "#de77ae"
            ],
            [
             0.3,
             "#f1b6da"
            ],
            [
             0.4,
             "#fde0ef"
            ],
            [
             0.5,
             "#f7f7f7"
            ],
            [
             0.6,
             "#e6f5d0"
            ],
            [
             0.7,
             "#b8e186"
            ],
            [
             0.8,
             "#7fbc41"
            ],
            [
             0.9,
             "#4d9221"
            ],
            [
             1,
             "#276419"
            ]
           ],
           "sequential": [
            [
             0,
             "#0d0887"
            ],
            [
             0.1111111111111111,
             "#46039f"
            ],
            [
             0.2222222222222222,
             "#7201a8"
            ],
            [
             0.3333333333333333,
             "#9c179e"
            ],
            [
             0.4444444444444444,
             "#bd3786"
            ],
            [
             0.5555555555555556,
             "#d8576b"
            ],
            [
             0.6666666666666666,
             "#ed7953"
            ],
            [
             0.7777777777777778,
             "#fb9f3a"
            ],
            [
             0.8888888888888888,
             "#fdca26"
            ],
            [
             1,
             "#f0f921"
            ]
           ],
           "sequentialminus": [
            [
             0,
             "#0d0887"
            ],
            [
             0.1111111111111111,
             "#46039f"
            ],
            [
             0.2222222222222222,
             "#7201a8"
            ],
            [
             0.3333333333333333,
             "#9c179e"
            ],
            [
             0.4444444444444444,
             "#bd3786"
            ],
            [
             0.5555555555555556,
             "#d8576b"
            ],
            [
             0.6666666666666666,
             "#ed7953"
            ],
            [
             0.7777777777777778,
             "#fb9f3a"
            ],
            [
             0.8888888888888888,
             "#fdca26"
            ],
            [
             1,
             "#f0f921"
            ]
           ]
          },
          "colorway": [
           "#636efa",
           "#EF553B",
           "#00cc96",
           "#ab63fa",
           "#FFA15A",
           "#19d3f3",
           "#FF6692",
           "#B6E880",
           "#FF97FF",
           "#FECB52"
          ],
          "font": {
           "color": "#2a3f5f"
          },
          "geo": {
           "bgcolor": "white",
           "lakecolor": "white",
           "landcolor": "#E5ECF6",
           "showlakes": true,
           "showland": true,
           "subunitcolor": "white"
          },
          "hoverlabel": {
           "align": "left"
          },
          "hovermode": "closest",
          "mapbox": {
           "style": "light"
          },
          "paper_bgcolor": "white",
          "plot_bgcolor": "#E5ECF6",
          "polar": {
           "angularaxis": {
            "gridcolor": "white",
            "linecolor": "white",
            "ticks": ""
           },
           "bgcolor": "#E5ECF6",
           "radialaxis": {
            "gridcolor": "white",
            "linecolor": "white",
            "ticks": ""
           }
          },
          "scene": {
           "xaxis": {
            "backgroundcolor": "#E5ECF6",
            "gridcolor": "white",
            "gridwidth": 2,
            "linecolor": "white",
            "showbackground": true,
            "ticks": "",
            "zerolinecolor": "white"
           },
           "yaxis": {
            "backgroundcolor": "#E5ECF6",
            "gridcolor": "white",
            "gridwidth": 2,
            "linecolor": "white",
            "showbackground": true,
            "ticks": "",
            "zerolinecolor": "white"
           },
           "zaxis": {
            "backgroundcolor": "#E5ECF6",
            "gridcolor": "white",
            "gridwidth": 2,
            "linecolor": "white",
            "showbackground": true,
            "ticks": "",
            "zerolinecolor": "white"
           }
          },
          "shapedefaults": {
           "line": {
            "color": "#2a3f5f"
           }
          },
          "ternary": {
           "aaxis": {
            "gridcolor": "white",
            "linecolor": "white",
            "ticks": ""
           },
           "baxis": {
            "gridcolor": "white",
            "linecolor": "white",
            "ticks": ""
           },
           "bgcolor": "#E5ECF6",
           "caxis": {
            "gridcolor": "white",
            "linecolor": "white",
            "ticks": ""
           }
          },
          "title": {
           "x": 0.05
          },
          "xaxis": {
           "automargin": true,
           "gridcolor": "white",
           "linecolor": "white",
           "ticks": "",
           "title": {
            "standoff": 15
           },
           "zerolinecolor": "white",
           "zerolinewidth": 2
          },
          "yaxis": {
           "automargin": true,
           "gridcolor": "white",
           "linecolor": "white",
           "ticks": "",
           "title": {
            "standoff": 15
           },
           "zerolinecolor": "white",
           "zerolinewidth": 2
          }
         }
        },
        "xaxis": {
         "anchor": "y",
         "domain": [
          0,
          1
         ],
         "title": {
          "text": "start_time"
         }
        },
        "yaxis": {
         "anchor": "x",
         "domain": [
          0,
          1
         ],
         "title": {
          "text": "credits"
         }
        }
       }
      },
      "text/html": [
       "<div>                            <div id=\"ce290ecb-94ce-41ea-85c5-d84fe78e9e24\" class=\"plotly-graph-div\" style=\"height:525px; width:100%;\"></div>            <script type=\"text/javascript\">                require([\"plotly\"], function(Plotly) {                    window.PLOTLYENV=window.PLOTLYENV || {};                                    if (document.getElementById(\"ce290ecb-94ce-41ea-85c5-d84fe78e9e24\")) {                    Plotly.newPlot(                        \"ce290ecb-94ce-41ea-85c5-d84fe78e9e24\",                        [{\"fillpattern\":{\"shape\":\"\"},\"hovertemplate\":\"category_name=Cloud services<br>start_time=%{x}<br>credits=%{y}<extra></extra>\",\"legendgroup\":\"Cloud services\",\"line\":{\"color\":\"red\"},\"marker\":{\"symbol\":\"circle\"},\"mode\":\"lines\",\"name\":\"Cloud services\",\"orientation\":\"v\",\"showlegend\":true,\"stackgroup\":\"1\",\"x\":[\"2022-10-01T00:00:00\",\"2022-10-01T01:00:00\",\"2022-10-01T02:00:00\",\"2022-10-01T03:00:00\",\"2022-10-01T04:00:00\",\"2022-10-01T05:00:00\",\"2022-10-01T06:00:00\",\"2022-10-01T07:00:00\",\"2022-10-01T08:00:00\",\"2022-10-01T09:00:00\",\"2022-10-01T10:00:00\",\"2022-10-01T11:00:00\",\"2022-10-01T12:00:00\",\"2022-10-01T13:00:00\",\"2022-10-01T14:00:00\",\"2022-10-01T15:00:00\",\"2022-10-01T16:00:00\",\"2022-10-01T17:00:00\",\"2022-10-01T18:00:00\",\"2022-10-01T19:00:00\",\"2022-10-01T20:00:00\",\"2022-10-01T21:00:00\",\"2022-10-01T22:00:00\",\"2022-10-01T23:00:00\",\"2022-10-02T00:00:00\",\"2022-10-02T01:00:00\",\"2022-10-02T02:00:00\",\"2022-10-02T03:00:00\",\"2022-10-02T04:00:00\",\"2022-10-02T05:00:00\",\"2022-10-02T06:00:00\",\"2022-10-02T07:00:00\",\"2022-10-02T08:00:00\",\"2022-10-02T09:00:00\",\"2022-10-02T10:00:00\",\"2022-10-02T11:00:00\",\"2022-10-02T12:00:00\",\"2022-10-02T13:00:00\",\"2022-10-02T14:00:00\",\"2022-10-02T15:00:00\",\"2022-10-02T16:00:00\",\"2022-10-02T17:00:00\",\"2022-10-02T18:00:00\",\"2022-10-02T19:00:00\",\"2022-10-02T20:00:00\",\"2022-10-02T21:00:00\",\"2022-10-02T22:00:00\",\"2022-10-02T23:00:00\",\"2022-10-03T00:00:00\",\"2022-10-03T01:00:00\",\"2022-10-03T02:00:00\",\"2022-10-03T03:00:00\",\"2022-10-03T04:00:00\",\"2022-10-03T05:00:00\",\"2022-10-03T06:00:00\",\"2022-10-03T07:00:00\",\"2022-10-03T08:00:00\",\"2022-10-03T09:00:00\",\"2022-10-03T10:00:00\",\"2022-10-03T11:00:00\",\"2022-10-03T12:00:00\",\"2022-10-03T13:00:00\",\"2022-10-03T14:00:00\",\"2022-10-03T15:00:00\",\"2022-10-03T16:00:00\",\"2022-10-03T17:00:00\",\"2022-10-03T18:00:00\",\"2022-10-03T19:00:00\",\"2022-10-03T20:00:00\",\"2022-10-03T21:00:00\",\"2022-10-03T22:00:00\",\"2022-10-03T23:00:00\",\"2022-10-04T00:00:00\",\"2022-10-04T01:00:00\",\"2022-10-04T02:00:00\",\"2022-10-04T03:00:00\",\"2022-10-04T04:00:00\",\"2022-10-04T05:00:00\",\"2022-10-04T06:00:00\",\"2022-10-04T07:00:00\",\"2022-10-04T08:00:00\",\"2022-10-04T09:00:00\",\"2022-10-04T10:00:00\",\"2022-10-04T11:00:00\",\"2022-10-04T12:00:00\",\"2022-10-04T13:00:00\",\"2022-10-04T14:00:00\",\"2022-10-04T15:00:00\",\"2022-10-04T16:00:00\",\"2022-10-04T17:00:00\",\"2022-10-04T18:00:00\",\"2022-10-04T19:00:00\",\"2022-10-04T20:00:00\",\"2022-10-04T21:00:00\",\"2022-10-04T22:00:00\",\"2022-10-04T23:00:00\",\"2022-10-05T00:00:00\",\"2022-10-05T01:00:00\",\"2022-10-05T02:00:00\",\"2022-10-05T03:00:00\",\"2022-10-05T04:00:00\",\"2022-10-05T05:00:00\",\"2022-10-05T06:00:00\",\"2022-10-05T07:00:00\",\"2022-10-05T08:00:00\",\"2022-10-05T09:00:00\",\"2022-10-05T10:00:00\",\"2022-10-05T11:00:00\",\"2022-10-05T12:00:00\",\"2022-10-05T13:00:00\",\"2022-10-05T14:00:00\",\"2022-10-05T15:00:00\",\"2022-10-05T16:00:00\",\"2022-10-05T17:00:00\",\"2022-10-05T18:00:00\",\"2022-10-05T19:00:00\",\"2022-10-05T20:00:00\",\"2022-10-05T21:00:00\",\"2022-10-05T22:00:00\",\"2022-10-05T23:00:00\",\"2022-10-06T00:00:00\",\"2022-10-06T01:00:00\",\"2022-10-06T02:00:00\",\"2022-10-06T03:00:00\",\"2022-10-06T04:00:00\",\"2022-10-06T05:00:00\",\"2022-10-06T06:00:00\",\"2022-10-06T07:00:00\",\"2022-10-06T08:00:00\",\"2022-10-06T09:00:00\",\"2022-10-06T10:00:00\",\"2022-10-06T11:00:00\",\"2022-10-06T12:00:00\",\"2022-10-06T13:00:00\",\"2022-10-06T14:00:00\",\"2022-10-06T15:00:00\",\"2022-10-06T16:00:00\",\"2022-10-06T17:00:00\",\"2022-10-06T18:00:00\",\"2022-10-06T19:00:00\",\"2022-10-06T20:00:00\",\"2022-10-06T21:00:00\",\"2022-10-06T22:00:00\",\"2022-10-06T23:00:00\",\"2022-10-07T00:00:00\",\"2022-10-07T01:00:00\",\"2022-10-07T02:00:00\",\"2022-10-07T03:00:00\",\"2022-10-07T04:00:00\",\"2022-10-07T05:00:00\",\"2022-10-07T06:00:00\",\"2022-10-07T07:00:00\",\"2022-10-07T08:00:00\",\"2022-10-07T09:00:00\",\"2022-10-07T10:00:00\",\"2022-10-07T11:00:00\",\"2022-10-07T12:00:00\",\"2022-10-07T13:00:00\",\"2022-10-07T14:00:00\",\"2022-10-07T15:00:00\",\"2022-10-07T16:00:00\",\"2022-10-07T17:00:00\",\"2022-10-07T18:00:00\",\"2022-10-07T19:00:00\",\"2022-10-07T20:00:00\",\"2022-10-07T21:00:00\",\"2022-10-07T22:00:00\",\"2022-10-07T23:00:00\",\"2022-10-08T00:00:00\",\"2022-10-08T01:00:00\",\"2022-10-08T02:00:00\",\"2022-10-08T03:00:00\",\"2022-10-08T04:00:00\",\"2022-10-08T05:00:00\",\"2022-10-08T06:00:00\",\"2022-10-08T07:00:00\",\"2022-10-08T08:00:00\",\"2022-10-08T09:00:00\",\"2022-10-08T10:00:00\",\"2022-10-08T11:00:00\",\"2022-10-08T12:00:00\",\"2022-10-08T13:00:00\",\"2022-10-08T14:00:00\",\"2022-10-08T15:00:00\",\"2022-10-08T16:00:00\",\"2022-10-08T17:00:00\",\"2022-10-08T18:00:00\",\"2022-10-08T19:00:00\",\"2022-10-08T20:00:00\",\"2022-10-08T21:00:00\",\"2022-10-08T22:00:00\",\"2022-10-08T23:00:00\",\"2022-10-09T00:00:00\",\"2022-10-09T01:00:00\",\"2022-10-09T02:00:00\",\"2022-10-09T03:00:00\",\"2022-10-09T04:00:00\",\"2022-10-09T05:00:00\",\"2022-10-09T06:00:00\",\"2022-10-09T07:00:00\",\"2022-10-09T08:00:00\",\"2022-10-09T09:00:00\",\"2022-10-09T10:00:00\",\"2022-10-09T11:00:00\",\"2022-10-09T12:00:00\",\"2022-10-09T13:00:00\",\"2022-10-09T14:00:00\",\"2022-10-09T15:00:00\",\"2022-10-09T16:00:00\",\"2022-10-09T17:00:00\",\"2022-10-09T18:00:00\",\"2022-10-09T19:00:00\",\"2022-10-09T20:00:00\",\"2022-10-09T21:00:00\",\"2022-10-09T22:00:00\",\"2022-10-09T23:00:00\",\"2022-10-10T00:00:00\",\"2022-10-10T01:00:00\",\"2022-10-10T02:00:00\",\"2022-10-10T03:00:00\",\"2022-10-10T04:00:00\",\"2022-10-10T05:00:00\",\"2022-10-10T06:00:00\",\"2022-10-10T07:00:00\",\"2022-10-10T08:00:00\",\"2022-10-10T09:00:00\",\"2022-10-10T10:00:00\",\"2022-10-10T11:00:00\",\"2022-10-10T12:00:00\",\"2022-10-10T13:00:00\",\"2022-10-10T14:00:00\",\"2022-10-10T15:00:00\",\"2022-10-10T16:00:00\",\"2022-10-10T17:00:00\",\"2022-10-10T18:00:00\",\"2022-10-10T19:00:00\",\"2022-10-10T20:00:00\",\"2022-10-10T21:00:00\",\"2022-10-10T22:00:00\",\"2022-10-10T23:00:00\",\"2022-10-11T00:00:00\",\"2022-10-11T01:00:00\",\"2022-10-11T02:00:00\",\"2022-10-11T03:00:00\",\"2022-10-11T04:00:00\",\"2022-10-11T05:00:00\",\"2022-10-11T06:00:00\",\"2022-10-11T07:00:00\",\"2022-10-11T08:00:00\",\"2022-10-11T09:00:00\",\"2022-10-11T10:00:00\",\"2022-10-11T11:00:00\",\"2022-10-11T12:00:00\",\"2022-10-11T13:00:00\",\"2022-10-11T14:00:00\",\"2022-10-11T15:00:00\",\"2022-10-11T16:00:00\",\"2022-10-11T17:00:00\",\"2022-10-11T18:00:00\",\"2022-10-11T19:00:00\",\"2022-10-11T20:00:00\",\"2022-10-11T21:00:00\",\"2022-10-11T22:00:00\",\"2022-10-11T23:00:00\",\"2022-10-12T00:00:00\",\"2022-10-12T01:00:00\",\"2022-10-12T02:00:00\",\"2022-10-12T03:00:00\",\"2022-10-12T04:00:00\",\"2022-10-12T05:00:00\",\"2022-10-12T06:00:00\",\"2022-10-12T07:00:00\",\"2022-10-12T08:00:00\",\"2022-10-12T09:00:00\",\"2022-10-12T10:00:00\",\"2022-10-12T11:00:00\",\"2022-10-12T12:00:00\",\"2022-10-12T13:00:00\",\"2022-10-12T14:00:00\",\"2022-10-12T15:00:00\",\"2022-10-12T16:00:00\",\"2022-10-12T17:00:00\"],\"xaxis\":\"x\",\"y\":[0.13999999999999999,0.13999999999999999,0.16,0.13999999999999999,0.17,0.13999999999999999,0.15,0.15,0.19999999999999998,0.24,0.24,0.25,0.2,0.22,0.16,0.18000000000000002,0.15,0.16,0.15,0.13999999999999999,0.15,0.13,0.13,0.15,0.13999999999999999,0.13,0.15,0.13,0.13999999999999999,0.13999999999999999,0.13999999999999999,0.16999999999999998,0.19,0.27,0.24000000000000002,0.26,0.2,0.16,0.18,0.16,0.13999999999999999,0.13999999999999999,0.13,0.13,0.13,0.13,0.13,0.16,0.13999999999999999,0.13999999999999999,0.15,0.13,0.15,0.15,0.16,0.22,0.17,0.26,0.26,0.30000000000000004,0.22000000000000003,0.21,0.2,0.21000000000000002,0.19,0.18000000000000002,0.17,0.17,0.16,0.18000000000000002,0.15,0.15,0.15,0.12000000000000001,0.13,0.13,0.12000000000000001,0.12000000000000001,0.12000000000000001,0.13999999999999999,0.15,0.24000000000000002,0.25,0.24,0.17,0.16,0.19,0.15,0.15,0.16,0.15,0.14,0.15,0.17,0.15,0.18,0.16,0.15,0.16,0.13,0.13,0.13,0.13999999999999999,0.15,0.18,0.24,0.24,0.23,0.18000000000000002,0.19,0.2,0.18000000000000002,0.16,0.14,0.15,0.13999999999999999,0.17,0.16,0.15,0.16,0.16,0.13,0.14,0.13,0.13,0.14,0.16,0.15,0.13999999999999999,0.27,0.23,0.25,0.22,0.17,0.21,0.16,0.16,0.17,0.15,0.15,0.13,0.13,0.14,0.12000000000000001,0.14,0.12000000000000001,0.14,0.11,0.12,0.12000000000000001,0.11,0.13999999999999999,0.12000000000000001,0.23000000000000004,0.23,0.22999999999999998,0.18000000000000002,0.17,0.16999999999999998,0.16,0.16,0.15,0.13999999999999999,0.15,0.15,0.13999999999999999,0.13,0.14,0.14,0.12000000000000001,0.13,0.12000000000000001,0.13,0.11,0.12000000000000001,0.15000000000000002,0.13999999999999999,0.23000000000000004,0.22,0.24,0.19,0.17,0.15,0.13999999999999999,0.13,0.13,0.13,0.13,0.13,0.12000000000000001,0.12000000000000001,0.13,0.12000000000000001,0.12000000000000001,0.13,0.12000000000000001,0.12000000000000001,0.13,0.12000000000000001,0.15,0.16,0.26,0.25,0.25,0.17,0.16,0.18,0.13999999999999999,0.13999999999999999,0.13,0.15,0.15,0.13,0.13999999999999999,0.14,0.15,0.14,0.13999999999999999,0.16,0.13999999999999999,0.15,0.13999999999999999,0.13999999999999999,0.13999999999999999,0.15,0.24000000000000002,0.25,0.28,0.18000000000000002,0.18,0.16,0.16,0.16,0.15,0.16,0.16,0.16,0.18000000000000002,0.16,0.16,0.14,0.13999999999999999,0.14,0.13,0.12000000000000001,0.12000000000000001,0.11,0.15000000000000002,0.12000000000000001,0.23000000000000004,0.2,0.25,0.17,0.17,0.21,0.16999999999999998,0.19,0.22,0.17,0.18,0.18000000000000002,0.17,0.17,0.18000000000000002,0.14,0.12000000000000001,0.13,0.11,0.11,0.13,0.13,0.13999999999999999,0.15,0.23000000000000004,0.21000000000000002,0.22,0.16,0.18,0.19,0.18000000000000002,0.19,0.19],\"yaxis\":\"y\",\"type\":\"scatter\"},{\"fillpattern\":{\"shape\":\"\"},\"hovertemplate\":\"category_name=Compute<br>start_time=%{x}<br>credits=%{y}<extra></extra>\",\"legendgroup\":\"Compute\",\"line\":{\"color\":\"blue\"},\"marker\":{\"symbol\":\"circle\"},\"mode\":\"lines\",\"name\":\"Compute\",\"orientation\":\"v\",\"showlegend\":true,\"stackgroup\":\"1\",\"x\":[\"2022-10-01T00:00:00\",\"2022-10-01T01:00:00\",\"2022-10-01T02:00:00\",\"2022-10-01T03:00:00\",\"2022-10-01T04:00:00\",\"2022-10-01T05:00:00\",\"2022-10-01T06:00:00\",\"2022-10-01T07:00:00\",\"2022-10-01T08:00:00\",\"2022-10-01T09:00:00\",\"2022-10-01T10:00:00\",\"2022-10-01T11:00:00\",\"2022-10-01T12:00:00\",\"2022-10-01T13:00:00\",\"2022-10-01T14:00:00\",\"2022-10-01T15:00:00\",\"2022-10-01T16:00:00\",\"2022-10-01T17:00:00\",\"2022-10-01T18:00:00\",\"2022-10-01T19:00:00\",\"2022-10-01T20:00:00\",\"2022-10-01T21:00:00\",\"2022-10-01T22:00:00\",\"2022-10-01T23:00:00\",\"2022-10-02T00:00:00\",\"2022-10-02T01:00:00\",\"2022-10-02T02:00:00\",\"2022-10-02T03:00:00\",\"2022-10-02T04:00:00\",\"2022-10-02T05:00:00\",\"2022-10-02T06:00:00\",\"2022-10-02T07:00:00\",\"2022-10-02T08:00:00\",\"2022-10-02T09:00:00\",\"2022-10-02T10:00:00\",\"2022-10-02T11:00:00\",\"2022-10-02T12:00:00\",\"2022-10-02T13:00:00\",\"2022-10-02T14:00:00\",\"2022-10-02T15:00:00\",\"2022-10-02T16:00:00\",\"2022-10-02T17:00:00\",\"2022-10-02T18:00:00\",\"2022-10-02T19:00:00\",\"2022-10-02T20:00:00\",\"2022-10-02T21:00:00\",\"2022-10-02T22:00:00\",\"2022-10-02T23:00:00\",\"2022-10-03T00:00:00\",\"2022-10-03T01:00:00\",\"2022-10-03T02:00:00\",\"2022-10-03T03:00:00\",\"2022-10-03T04:00:00\",\"2022-10-03T05:00:00\",\"2022-10-03T06:00:00\",\"2022-10-03T07:00:00\",\"2022-10-03T08:00:00\",\"2022-10-03T09:00:00\",\"2022-10-03T10:00:00\",\"2022-10-03T11:00:00\",\"2022-10-03T12:00:00\",\"2022-10-03T13:00:00\",\"2022-10-03T14:00:00\",\"2022-10-03T15:00:00\",\"2022-10-03T16:00:00\",\"2022-10-03T17:00:00\",\"2022-10-03T18:00:00\",\"2022-10-03T19:00:00\",\"2022-10-03T20:00:00\",\"2022-10-03T21:00:00\",\"2022-10-03T22:00:00\",\"2022-10-03T23:00:00\",\"2022-10-04T00:00:00\",\"2022-10-04T01:00:00\",\"2022-10-04T02:00:00\",\"2022-10-04T03:00:00\",\"2022-10-04T04:00:00\",\"2022-10-04T05:00:00\",\"2022-10-04T06:00:00\",\"2022-10-04T07:00:00\",\"2022-10-04T08:00:00\",\"2022-10-04T09:00:00\",\"2022-10-04T10:00:00\",\"2022-10-04T11:00:00\",\"2022-10-04T12:00:00\",\"2022-10-04T13:00:00\",\"2022-10-04T14:00:00\",\"2022-10-04T15:00:00\",\"2022-10-04T16:00:00\",\"2022-10-04T17:00:00\",\"2022-10-04T18:00:00\",\"2022-10-04T19:00:00\",\"2022-10-04T20:00:00\",\"2022-10-04T21:00:00\",\"2022-10-04T22:00:00\",\"2022-10-04T23:00:00\",\"2022-10-05T00:00:00\",\"2022-10-05T01:00:00\",\"2022-10-05T02:00:00\",\"2022-10-05T03:00:00\",\"2022-10-05T04:00:00\",\"2022-10-05T05:00:00\",\"2022-10-05T06:00:00\",\"2022-10-05T07:00:00\",\"2022-10-05T08:00:00\",\"2022-10-05T09:00:00\",\"2022-10-05T10:00:00\",\"2022-10-05T11:00:00\",\"2022-10-05T12:00:00\",\"2022-10-05T13:00:00\",\"2022-10-05T14:00:00\",\"2022-10-05T15:00:00\",\"2022-10-05T16:00:00\",\"2022-10-05T17:00:00\",\"2022-10-05T18:00:00\",\"2022-10-05T19:00:00\",\"2022-10-05T20:00:00\",\"2022-10-05T21:00:00\",\"2022-10-05T22:00:00\",\"2022-10-05T23:00:00\",\"2022-10-06T00:00:00\",\"2022-10-06T01:00:00\",\"2022-10-06T02:00:00\",\"2022-10-06T03:00:00\",\"2022-10-06T04:00:00\",\"2022-10-06T05:00:00\",\"2022-10-06T06:00:00\",\"2022-10-06T07:00:00\",\"2022-10-06T08:00:00\",\"2022-10-06T09:00:00\",\"2022-10-06T10:00:00\",\"2022-10-06T11:00:00\",\"2022-10-06T12:00:00\",\"2022-10-06T13:00:00\",\"2022-10-06T14:00:00\",\"2022-10-06T15:00:00\",\"2022-10-06T16:00:00\",\"2022-10-06T17:00:00\",\"2022-10-06T18:00:00\",\"2022-10-06T19:00:00\",\"2022-10-06T20:00:00\",\"2022-10-06T21:00:00\",\"2022-10-06T22:00:00\",\"2022-10-06T23:00:00\",\"2022-10-07T00:00:00\",\"2022-10-07T01:00:00\",\"2022-10-07T02:00:00\",\"2022-10-07T03:00:00\",\"2022-10-07T04:00:00\",\"2022-10-07T05:00:00\",\"2022-10-07T06:00:00\",\"2022-10-07T07:00:00\",\"2022-10-07T08:00:00\",\"2022-10-07T09:00:00\",\"2022-10-07T10:00:00\",\"2022-10-07T11:00:00\",\"2022-10-07T12:00:00\",\"2022-10-07T13:00:00\",\"2022-10-07T14:00:00\",\"2022-10-07T15:00:00\",\"2022-10-07T16:00:00\",\"2022-10-07T17:00:00\",\"2022-10-07T18:00:00\",\"2022-10-07T19:00:00\",\"2022-10-07T20:00:00\",\"2022-10-07T21:00:00\",\"2022-10-07T22:00:00\",\"2022-10-07T23:00:00\",\"2022-10-08T00:00:00\",\"2022-10-08T01:00:00\",\"2022-10-08T02:00:00\",\"2022-10-08T03:00:00\",\"2022-10-08T04:00:00\",\"2022-10-08T05:00:00\",\"2022-10-08T06:00:00\",\"2022-10-08T07:00:00\",\"2022-10-08T08:00:00\",\"2022-10-08T09:00:00\",\"2022-10-08T10:00:00\",\"2022-10-08T11:00:00\",\"2022-10-08T12:00:00\",\"2022-10-08T13:00:00\",\"2022-10-08T14:00:00\",\"2022-10-08T15:00:00\",\"2022-10-08T16:00:00\",\"2022-10-08T17:00:00\",\"2022-10-08T18:00:00\",\"2022-10-08T19:00:00\",\"2022-10-08T20:00:00\",\"2022-10-08T21:00:00\",\"2022-10-08T22:00:00\",\"2022-10-08T23:00:00\",\"2022-10-09T00:00:00\",\"2022-10-09T01:00:00\",\"2022-10-09T02:00:00\",\"2022-10-09T03:00:00\",\"2022-10-09T04:00:00\",\"2022-10-09T05:00:00\",\"2022-10-09T06:00:00\",\"2022-10-09T07:00:00\",\"2022-10-09T08:00:00\",\"2022-10-09T09:00:00\",\"2022-10-09T10:00:00\",\"2022-10-09T11:00:00\",\"2022-10-09T12:00:00\",\"2022-10-09T13:00:00\",\"2022-10-09T14:00:00\",\"2022-10-09T15:00:00\",\"2022-10-09T16:00:00\",\"2022-10-09T17:00:00\",\"2022-10-09T18:00:00\",\"2022-10-09T19:00:00\",\"2022-10-09T20:00:00\",\"2022-10-09T21:00:00\",\"2022-10-09T22:00:00\",\"2022-10-09T23:00:00\",\"2022-10-10T00:00:00\",\"2022-10-10T01:00:00\",\"2022-10-10T02:00:00\",\"2022-10-10T03:00:00\",\"2022-10-10T04:00:00\",\"2022-10-10T05:00:00\",\"2022-10-10T06:00:00\",\"2022-10-10T07:00:00\",\"2022-10-10T08:00:00\",\"2022-10-10T09:00:00\",\"2022-10-10T10:00:00\",\"2022-10-10T11:00:00\",\"2022-10-10T12:00:00\",\"2022-10-10T13:00:00\",\"2022-10-10T14:00:00\",\"2022-10-10T15:00:00\",\"2022-10-10T16:00:00\",\"2022-10-10T17:00:00\",\"2022-10-10T18:00:00\",\"2022-10-10T19:00:00\",\"2022-10-10T20:00:00\",\"2022-10-10T21:00:00\",\"2022-10-10T22:00:00\",\"2022-10-10T23:00:00\",\"2022-10-11T00:00:00\",\"2022-10-11T01:00:00\",\"2022-10-11T02:00:00\",\"2022-10-11T03:00:00\",\"2022-10-11T04:00:00\",\"2022-10-11T05:00:00\",\"2022-10-11T06:00:00\",\"2022-10-11T07:00:00\",\"2022-10-11T08:00:00\",\"2022-10-11T09:00:00\",\"2022-10-11T10:00:00\",\"2022-10-11T11:00:00\",\"2022-10-11T12:00:00\",\"2022-10-11T13:00:00\",\"2022-10-11T14:00:00\",\"2022-10-11T15:00:00\",\"2022-10-11T16:00:00\",\"2022-10-11T17:00:00\",\"2022-10-11T18:00:00\",\"2022-10-11T19:00:00\",\"2022-10-11T20:00:00\",\"2022-10-11T21:00:00\",\"2022-10-11T22:00:00\",\"2022-10-11T23:00:00\",\"2022-10-12T00:00:00\",\"2022-10-12T01:00:00\",\"2022-10-12T02:00:00\",\"2022-10-12T03:00:00\",\"2022-10-12T04:00:00\",\"2022-10-12T05:00:00\",\"2022-10-12T06:00:00\",\"2022-10-12T07:00:00\",\"2022-10-12T08:00:00\",\"2022-10-12T09:00:00\",\"2022-10-12T10:00:00\",\"2022-10-12T11:00:00\",\"2022-10-12T12:00:00\",\"2022-10-12T13:00:00\",\"2022-10-12T14:00:00\",\"2022-10-12T15:00:00\",\"2022-10-12T16:00:00\",\"2022-10-12T17:00:00\"],\"xaxis\":\"x\",\"y\":[10.5,10.620000000000001,9.33,10.26,9.18,9.36,10.14,9.36,9.36,26.14,25.36,18.85,13.32,19.53,34.269999999999996,21.22,15.3,15.33,16.11,9.36,9.33,10.14,9.33,9.33,10.5,10.469999999999999,9.33,10.32,9.36,9.36,10.11,9.39,9.36,26.11,25.36,21.21,13.23,13.530000000000001,28.27,15.3,9.3,9.3,10.08,9.3,9.3,10.14,9.33,9.33,10.44,10.41,9.33,10.26,9.33,9.33,10.26,9.33,9.36,26.23,25.18,21.93,13.23,13.530000000000001,28.27,16.49,9.3,9.3,10.83,9.33,9.33,12.18,9.33,9.33,10.469999999999999,10.56,9.33,10.23,9.36,9.36,10.26,9.36,9.36,26.86,25.33,18.73,13.41,13.44,28.3,14.79,9.3,9.33,10.23,9.18,9.33,10.14,9.33,9.36,10.35,10.59,9.39,10.17,9.39,9.42,10.26,9.42,9.42,26.810000000000002,25.42,19.22,13.379999999999999,13.620000000000001,16.33,16.12,14.450000000000001,13.33,10.530000000000001,9.39,10.41,13.35,10.53,10.77,11.67,10.17,9.21,10.26,9.39,9.42,10.26,9.42,9.42,26.8,25.42,20.15,13.26,13.620000000000001,28.27,13.56,9.33,11.34,13.17,11.58,10.62,10.17,9.36,9.36,10.41,10.620000000000001,9.36,10.26,9.36,9.36,10.26,9.36,9.36,26.9,25.36,18.32,13.08,13.5,16.27,16.33,13.3,13.3,10.780000000000001,9.36,9.36,10.17,9.36,9.36,10.469999999999999,10.65,9.39,10.17,9.36,9.36,10.26,9.39,9.36,26.87,25.36,18.16,13.379999999999999,13.44,16.27,17.2,16.27,16.27,14.27,12.33,12.33,12.99,12.33,12.33,13.2,13.41,12.33,13.14,12.33,12.36,13.17,12.36,12.36,29.78,28.33,18.97,13.35,13.469999999999999,16.27,17.2,16.27,15.870000000000001,13.23,12.33,12.33,13.05,12.33,12.33,13.23,13.56,12.33,13.17,12.33,12.36,13.17,12.36,12.36,29.740000000000002,28.36,19.88,13.35,13.530000000000001,16.27,17.11,16.27,16.27,10.91,10.32,11.88,12.0,9.33,10.92,10.469999999999999,10.620000000000001,9.33,10.23,9.33,9.33,10.23,9.18,9.36,26.770000000000003,25.36,19.04,13.2,13.56,16.33,16.27,10.56,14.35,16.31,13.38,15.39,10.2,9.42,9.45,10.5,10.68,9.42,10.32,9.42,9.42,10.379999999999999,9.45,9.42,26.990000000000002,25.42,19.21,13.23,13.530000000000001,16.3,15.7,13.85,13.33],\"yaxis\":\"y\",\"type\":\"scatter\"},{\"fillpattern\":{\"shape\":\"\"},\"hovertemplate\":\"category_name=Storage<br>start_time=%{x}<br>credits=%{y}<extra></extra>\",\"legendgroup\":\"Storage\",\"line\":{\"color\":\"green\"},\"marker\":{\"symbol\":\"circle\"},\"mode\":\"lines\",\"name\":\"Storage\",\"orientation\":\"v\",\"showlegend\":true,\"stackgroup\":\"1\",\"x\":[\"2022-10-01T00:00:00\",\"2022-10-01T01:00:00\",\"2022-10-01T02:00:00\",\"2022-10-01T03:00:00\",\"2022-10-01T04:00:00\",\"2022-10-01T05:00:00\",\"2022-10-01T06:00:00\",\"2022-10-01T07:00:00\",\"2022-10-01T08:00:00\",\"2022-10-01T09:00:00\",\"2022-10-01T10:00:00\",\"2022-10-01T11:00:00\",\"2022-10-01T12:00:00\",\"2022-10-01T13:00:00\",\"2022-10-01T14:00:00\",\"2022-10-01T15:00:00\",\"2022-10-01T16:00:00\",\"2022-10-01T17:00:00\",\"2022-10-01T18:00:00\",\"2022-10-01T19:00:00\",\"2022-10-01T20:00:00\",\"2022-10-01T21:00:00\",\"2022-10-01T22:00:00\",\"2022-10-01T23:00:00\",\"2022-10-02T00:00:00\",\"2022-10-02T01:00:00\",\"2022-10-02T02:00:00\",\"2022-10-02T03:00:00\",\"2022-10-02T04:00:00\",\"2022-10-02T05:00:00\",\"2022-10-02T06:00:00\",\"2022-10-02T07:00:00\",\"2022-10-02T08:00:00\",\"2022-10-02T09:00:00\",\"2022-10-02T10:00:00\",\"2022-10-02T11:00:00\",\"2022-10-02T12:00:00\",\"2022-10-02T13:00:00\",\"2022-10-02T14:00:00\",\"2022-10-02T15:00:00\",\"2022-10-02T16:00:00\",\"2022-10-02T17:00:00\",\"2022-10-02T18:00:00\",\"2022-10-02T19:00:00\",\"2022-10-02T20:00:00\",\"2022-10-02T21:00:00\",\"2022-10-02T22:00:00\",\"2022-10-02T23:00:00\",\"2022-10-03T00:00:00\",\"2022-10-03T01:00:00\",\"2022-10-03T02:00:00\",\"2022-10-03T03:00:00\",\"2022-10-03T04:00:00\",\"2022-10-03T05:00:00\",\"2022-10-03T06:00:00\",\"2022-10-03T07:00:00\",\"2022-10-03T08:00:00\",\"2022-10-03T09:00:00\",\"2022-10-03T10:00:00\",\"2022-10-03T11:00:00\",\"2022-10-03T12:00:00\",\"2022-10-03T13:00:00\",\"2022-10-03T14:00:00\",\"2022-10-03T15:00:00\",\"2022-10-03T16:00:00\",\"2022-10-03T17:00:00\",\"2022-10-03T18:00:00\",\"2022-10-03T19:00:00\",\"2022-10-03T20:00:00\",\"2022-10-03T21:00:00\",\"2022-10-03T22:00:00\",\"2022-10-03T23:00:00\",\"2022-10-04T00:00:00\",\"2022-10-04T01:00:00\",\"2022-10-04T02:00:00\",\"2022-10-04T03:00:00\",\"2022-10-04T04:00:00\",\"2022-10-04T05:00:00\",\"2022-10-04T06:00:00\",\"2022-10-04T07:00:00\",\"2022-10-04T08:00:00\",\"2022-10-04T09:00:00\",\"2022-10-04T10:00:00\",\"2022-10-04T11:00:00\",\"2022-10-04T12:00:00\",\"2022-10-04T13:00:00\",\"2022-10-04T14:00:00\",\"2022-10-04T15:00:00\",\"2022-10-04T16:00:00\",\"2022-10-04T17:00:00\",\"2022-10-04T18:00:00\",\"2022-10-04T19:00:00\",\"2022-10-04T20:00:00\",\"2022-10-04T21:00:00\",\"2022-10-04T22:00:00\",\"2022-10-04T23:00:00\",\"2022-10-05T00:00:00\",\"2022-10-05T01:00:00\",\"2022-10-05T02:00:00\",\"2022-10-05T03:00:00\",\"2022-10-05T04:00:00\",\"2022-10-05T05:00:00\",\"2022-10-05T06:00:00\",\"2022-10-05T07:00:00\",\"2022-10-05T08:00:00\",\"2022-10-05T09:00:00\",\"2022-10-05T10:00:00\",\"2022-10-05T11:00:00\",\"2022-10-05T12:00:00\",\"2022-10-05T13:00:00\",\"2022-10-05T14:00:00\",\"2022-10-05T15:00:00\",\"2022-10-05T16:00:00\",\"2022-10-05T17:00:00\",\"2022-10-05T18:00:00\",\"2022-10-05T19:00:00\",\"2022-10-05T20:00:00\",\"2022-10-05T21:00:00\",\"2022-10-05T22:00:00\",\"2022-10-05T23:00:00\",\"2022-10-06T00:00:00\",\"2022-10-06T01:00:00\",\"2022-10-06T02:00:00\",\"2022-10-06T03:00:00\",\"2022-10-06T04:00:00\",\"2022-10-06T05:00:00\",\"2022-10-06T06:00:00\",\"2022-10-06T07:00:00\",\"2022-10-06T08:00:00\",\"2022-10-06T09:00:00\",\"2022-10-06T10:00:00\",\"2022-10-06T11:00:00\",\"2022-10-06T12:00:00\",\"2022-10-06T13:00:00\",\"2022-10-06T14:00:00\",\"2022-10-06T15:00:00\",\"2022-10-06T16:00:00\",\"2022-10-06T17:00:00\",\"2022-10-06T18:00:00\",\"2022-10-06T19:00:00\",\"2022-10-06T20:00:00\",\"2022-10-06T21:00:00\",\"2022-10-06T22:00:00\",\"2022-10-06T23:00:00\",\"2022-10-07T00:00:00\",\"2022-10-07T01:00:00\",\"2022-10-07T02:00:00\",\"2022-10-07T03:00:00\",\"2022-10-07T04:00:00\",\"2022-10-07T05:00:00\",\"2022-10-07T06:00:00\",\"2022-10-07T07:00:00\",\"2022-10-07T08:00:00\",\"2022-10-07T09:00:00\",\"2022-10-07T10:00:00\",\"2022-10-07T11:00:00\",\"2022-10-07T12:00:00\",\"2022-10-07T13:00:00\",\"2022-10-07T14:00:00\",\"2022-10-07T15:00:00\",\"2022-10-07T16:00:00\",\"2022-10-07T17:00:00\",\"2022-10-07T18:00:00\",\"2022-10-07T19:00:00\",\"2022-10-07T20:00:00\",\"2022-10-07T21:00:00\",\"2022-10-07T22:00:00\",\"2022-10-07T23:00:00\",\"2022-10-08T00:00:00\",\"2022-10-08T01:00:00\",\"2022-10-08T02:00:00\",\"2022-10-08T03:00:00\",\"2022-10-08T04:00:00\",\"2022-10-08T05:00:00\",\"2022-10-08T06:00:00\",\"2022-10-08T07:00:00\",\"2022-10-08T08:00:00\",\"2022-10-08T09:00:00\",\"2022-10-08T10:00:00\",\"2022-10-08T11:00:00\",\"2022-10-08T12:00:00\",\"2022-10-08T13:00:00\",\"2022-10-08T14:00:00\",\"2022-10-08T15:00:00\",\"2022-10-08T16:00:00\",\"2022-10-08T17:00:00\",\"2022-10-08T18:00:00\",\"2022-10-08T19:00:00\",\"2022-10-08T20:00:00\",\"2022-10-08T21:00:00\",\"2022-10-08T22:00:00\",\"2022-10-08T23:00:00\",\"2022-10-09T00:00:00\",\"2022-10-09T01:00:00\",\"2022-10-09T02:00:00\",\"2022-10-09T03:00:00\",\"2022-10-09T04:00:00\",\"2022-10-09T05:00:00\",\"2022-10-09T06:00:00\",\"2022-10-09T07:00:00\",\"2022-10-09T08:00:00\",\"2022-10-09T09:00:00\",\"2022-10-09T10:00:00\",\"2022-10-09T11:00:00\",\"2022-10-09T12:00:00\",\"2022-10-09T13:00:00\",\"2022-10-09T14:00:00\",\"2022-10-09T15:00:00\",\"2022-10-09T16:00:00\",\"2022-10-09T17:00:00\",\"2022-10-09T18:00:00\",\"2022-10-09T19:00:00\",\"2022-10-09T20:00:00\",\"2022-10-09T21:00:00\",\"2022-10-09T22:00:00\",\"2022-10-09T23:00:00\",\"2022-10-10T00:00:00\",\"2022-10-10T01:00:00\",\"2022-10-10T02:00:00\",\"2022-10-10T03:00:00\",\"2022-10-10T04:00:00\",\"2022-10-10T05:00:00\",\"2022-10-10T06:00:00\",\"2022-10-10T07:00:00\",\"2022-10-10T08:00:00\",\"2022-10-10T09:00:00\",\"2022-10-10T10:00:00\",\"2022-10-10T11:00:00\",\"2022-10-10T12:00:00\",\"2022-10-10T13:00:00\",\"2022-10-10T14:00:00\",\"2022-10-10T15:00:00\",\"2022-10-10T16:00:00\",\"2022-10-10T17:00:00\",\"2022-10-10T18:00:00\",\"2022-10-10T19:00:00\",\"2022-10-10T20:00:00\",\"2022-10-10T21:00:00\",\"2022-10-10T22:00:00\",\"2022-10-10T23:00:00\",\"2022-10-11T00:00:00\"],\"xaxis\":\"x\",\"y\":[0.0,0.0,0.0,0.0,0.0,0.0,0.0,0.0,0.0,0.0,0.0,0.0,0.0,0.0,0.0,0.0,0.0,0.0,0.0,0.0,0.0,0.0,0.0,0.0,0.0,0.0,0.0,0.0,0.0,0.0,0.0,0.0,0.0,0.0,0.0,0.0,0.0,0.0,0.0,0.0,0.0,0.0,0.0,0.0,0.0,0.0,0.0,0.0,0.0,0.0,0.0,0.0,0.0,0.0,0.0,0.0,0.0,0.0,0.0,0.0,0.0,0.0,0.0,0.0,0.0,0.0,0.0,0.0,0.0,0.0,0.0,0.0,0.0,0.0,0.0,0.0,0.0,0.0,0.0,0.0,0.0,0.0,0.0,0.0,0.0,0.0,0.0,0.0,0.0,0.0,0.0,0.0,0.0,0.0,0.0,0.0,0.0,0.0,0.0,0.0,0.0,0.0,0.0,0.0,0.0,0.0,0.0,0.0,0.0,0.0,0.0,0.0,0.0,0.0,0.0,0.0,0.0,0.0,0.0,0.0,0.0,0.0,0.0,0.0,0.0,0.0,0.0,0.0,0.0,0.0,0.0,0.0,0.0,0.0,0.0,0.0,0.0,0.0,0.0,0.0,0.0,0.0,0.0,0.0,0.0,0.0,0.0,0.0,0.0,0.0,0.0,0.0,0.0,0.0,0.0,0.0,0.0,0.0,0.0,0.0,0.0,0.0,0.0,0.0,0.0,0.0,0.0,0.0,0.0,0.0,0.0,0.0,0.0,0.0,0.0,0.0,0.0,0.0,0.0,0.0,0.0,0.0,0.0,0.0,0.0,0.0,0.0,0.0,0.0,0.0,0.0,0.0,0.0,0.0,0.0,0.0,0.0,0.0,0.0,0.0,0.0,0.0,0.0,0.0,0.0,0.0,0.0,0.0,0.0,0.0,0.0,0.0,0.0,0.0,0.0,0.0,0.0,0.0,0.0,0.0,0.0,0.0,0.0,0.0,0.0,0.0,0.0,0.0,0.0,0.0,0.0,0.0,0.0,0.0,0.0,0.0,0.0,0.0,0.0,0.0,0.0],\"yaxis\":\"y\",\"type\":\"scatter\"}],                        {\"template\":{\"data\":{\"histogram2dcontour\":[{\"type\":\"histogram2dcontour\",\"colorbar\":{\"outlinewidth\":0,\"ticks\":\"\"},\"colorscale\":[[0.0,\"#0d0887\"],[0.1111111111111111,\"#46039f\"],[0.2222222222222222,\"#7201a8\"],[0.3333333333333333,\"#9c179e\"],[0.4444444444444444,\"#bd3786\"],[0.5555555555555556,\"#d8576b\"],[0.6666666666666666,\"#ed7953\"],[0.7777777777777778,\"#fb9f3a\"],[0.8888888888888888,\"#fdca26\"],[1.0,\"#f0f921\"]]}],\"choropleth\":[{\"type\":\"choropleth\",\"colorbar\":{\"outlinewidth\":0,\"ticks\":\"\"}}],\"histogram2d\":[{\"type\":\"histogram2d\",\"colorbar\":{\"outlinewidth\":0,\"ticks\":\"\"},\"colorscale\":[[0.0,\"#0d0887\"],[0.1111111111111111,\"#46039f\"],[0.2222222222222222,\"#7201a8\"],[0.3333333333333333,\"#9c179e\"],[0.4444444444444444,\"#bd3786\"],[0.5555555555555556,\"#d8576b\"],[0.6666666666666666,\"#ed7953\"],[0.7777777777777778,\"#fb9f3a\"],[0.8888888888888888,\"#fdca26\"],[1.0,\"#f0f921\"]]}],\"heatmap\":[{\"type\":\"heatmap\",\"colorbar\":{\"outlinewidth\":0,\"ticks\":\"\"},\"colorscale\":[[0.0,\"#0d0887\"],[0.1111111111111111,\"#46039f\"],[0.2222222222222222,\"#7201a8\"],[0.3333333333333333,\"#9c179e\"],[0.4444444444444444,\"#bd3786\"],[0.5555555555555556,\"#d8576b\"],[0.6666666666666666,\"#ed7953\"],[0.7777777777777778,\"#fb9f3a\"],[0.8888888888888888,\"#fdca26\"],[1.0,\"#f0f921\"]]}],\"heatmapgl\":[{\"type\":\"heatmapgl\",\"colorbar\":{\"outlinewidth\":0,\"ticks\":\"\"},\"colorscale\":[[0.0,\"#0d0887\"],[0.1111111111111111,\"#46039f\"],[0.2222222222222222,\"#7201a8\"],[0.3333333333333333,\"#9c179e\"],[0.4444444444444444,\"#bd3786\"],[0.5555555555555556,\"#d8576b\"],[0.6666666666666666,\"#ed7953\"],[0.7777777777777778,\"#fb9f3a\"],[0.8888888888888888,\"#fdca26\"],[1.0,\"#f0f921\"]]}],\"contourcarpet\":[{\"type\":\"contourcarpet\",\"colorbar\":{\"outlinewidth\":0,\"ticks\":\"\"}}],\"contour\":[{\"type\":\"contour\",\"colorbar\":{\"outlinewidth\":0,\"ticks\":\"\"},\"colorscale\":[[0.0,\"#0d0887\"],[0.1111111111111111,\"#46039f\"],[0.2222222222222222,\"#7201a8\"],[0.3333333333333333,\"#9c179e\"],[0.4444444444444444,\"#bd3786\"],[0.5555555555555556,\"#d8576b\"],[0.6666666666666666,\"#ed7953\"],[0.7777777777777778,\"#fb9f3a\"],[0.8888888888888888,\"#fdca26\"],[1.0,\"#f0f921\"]]}],\"surface\":[{\"type\":\"surface\",\"colorbar\":{\"outlinewidth\":0,\"ticks\":\"\"},\"colorscale\":[[0.0,\"#0d0887\"],[0.1111111111111111,\"#46039f\"],[0.2222222222222222,\"#7201a8\"],[0.3333333333333333,\"#9c179e\"],[0.4444444444444444,\"#bd3786\"],[0.5555555555555556,\"#d8576b\"],[0.6666666666666666,\"#ed7953\"],[0.7777777777777778,\"#fb9f3a\"],[0.8888888888888888,\"#fdca26\"],[1.0,\"#f0f921\"]]}],\"mesh3d\":[{\"type\":\"mesh3d\",\"colorbar\":{\"outlinewidth\":0,\"ticks\":\"\"}}],\"scatter\":[{\"fillpattern\":{\"fillmode\":\"overlay\",\"size\":10,\"solidity\":0.2},\"type\":\"scatter\"}],\"parcoords\":[{\"type\":\"parcoords\",\"line\":{\"colorbar\":{\"outlinewidth\":0,\"ticks\":\"\"}}}],\"scatterpolargl\":[{\"type\":\"scatterpolargl\",\"marker\":{\"colorbar\":{\"outlinewidth\":0,\"ticks\":\"\"}}}],\"bar\":[{\"error_x\":{\"color\":\"#2a3f5f\"},\"error_y\":{\"color\":\"#2a3f5f\"},\"marker\":{\"line\":{\"color\":\"#E5ECF6\",\"width\":0.5},\"pattern\":{\"fillmode\":\"overlay\",\"size\":10,\"solidity\":0.2}},\"type\":\"bar\"}],\"scattergeo\":[{\"type\":\"scattergeo\",\"marker\":{\"colorbar\":{\"outlinewidth\":0,\"ticks\":\"\"}}}],\"scatterpolar\":[{\"type\":\"scatterpolar\",\"marker\":{\"colorbar\":{\"outlinewidth\":0,\"ticks\":\"\"}}}],\"histogram\":[{\"marker\":{\"pattern\":{\"fillmode\":\"overlay\",\"size\":10,\"solidity\":0.2}},\"type\":\"histogram\"}],\"scattergl\":[{\"type\":\"scattergl\",\"marker\":{\"colorbar\":{\"outlinewidth\":0,\"ticks\":\"\"}}}],\"scatter3d\":[{\"type\":\"scatter3d\",\"line\":{\"colorbar\":{\"outlinewidth\":0,\"ticks\":\"\"}},\"marker\":{\"colorbar\":{\"outlinewidth\":0,\"ticks\":\"\"}}}],\"scattermapbox\":[{\"type\":\"scattermapbox\",\"marker\":{\"colorbar\":{\"outlinewidth\":0,\"ticks\":\"\"}}}],\"scatterternary\":[{\"type\":\"scatterternary\",\"marker\":{\"colorbar\":{\"outlinewidth\":0,\"ticks\":\"\"}}}],\"scattercarpet\":[{\"type\":\"scattercarpet\",\"marker\":{\"colorbar\":{\"outlinewidth\":0,\"ticks\":\"\"}}}],\"carpet\":[{\"aaxis\":{\"endlinecolor\":\"#2a3f5f\",\"gridcolor\":\"white\",\"linecolor\":\"white\",\"minorgridcolor\":\"white\",\"startlinecolor\":\"#2a3f5f\"},\"baxis\":{\"endlinecolor\":\"#2a3f5f\",\"gridcolor\":\"white\",\"linecolor\":\"white\",\"minorgridcolor\":\"white\",\"startlinecolor\":\"#2a3f5f\"},\"type\":\"carpet\"}],\"table\":[{\"cells\":{\"fill\":{\"color\":\"#EBF0F8\"},\"line\":{\"color\":\"white\"}},\"header\":{\"fill\":{\"color\":\"#C8D4E3\"},\"line\":{\"color\":\"white\"}},\"type\":\"table\"}],\"barpolar\":[{\"marker\":{\"line\":{\"color\":\"#E5ECF6\",\"width\":0.5},\"pattern\":{\"fillmode\":\"overlay\",\"size\":10,\"solidity\":0.2}},\"type\":\"barpolar\"}],\"pie\":[{\"automargin\":true,\"type\":\"pie\"}]},\"layout\":{\"autotypenumbers\":\"strict\",\"colorway\":[\"#636efa\",\"#EF553B\",\"#00cc96\",\"#ab63fa\",\"#FFA15A\",\"#19d3f3\",\"#FF6692\",\"#B6E880\",\"#FF97FF\",\"#FECB52\"],\"font\":{\"color\":\"#2a3f5f\"},\"hovermode\":\"closest\",\"hoverlabel\":{\"align\":\"left\"},\"paper_bgcolor\":\"white\",\"plot_bgcolor\":\"#E5ECF6\",\"polar\":{\"bgcolor\":\"#E5ECF6\",\"angularaxis\":{\"gridcolor\":\"white\",\"linecolor\":\"white\",\"ticks\":\"\"},\"radialaxis\":{\"gridcolor\":\"white\",\"linecolor\":\"white\",\"ticks\":\"\"}},\"ternary\":{\"bgcolor\":\"#E5ECF6\",\"aaxis\":{\"gridcolor\":\"white\",\"linecolor\":\"white\",\"ticks\":\"\"},\"baxis\":{\"gridcolor\":\"white\",\"linecolor\":\"white\",\"ticks\":\"\"},\"caxis\":{\"gridcolor\":\"white\",\"linecolor\":\"white\",\"ticks\":\"\"}},\"coloraxis\":{\"colorbar\":{\"outlinewidth\":0,\"ticks\":\"\"}},\"colorscale\":{\"sequential\":[[0.0,\"#0d0887\"],[0.1111111111111111,\"#46039f\"],[0.2222222222222222,\"#7201a8\"],[0.3333333333333333,\"#9c179e\"],[0.4444444444444444,\"#bd3786\"],[0.5555555555555556,\"#d8576b\"],[0.6666666666666666,\"#ed7953\"],[0.7777777777777778,\"#fb9f3a\"],[0.8888888888888888,\"#fdca26\"],[1.0,\"#f0f921\"]],\"sequentialminus\":[[0.0,\"#0d0887\"],[0.1111111111111111,\"#46039f\"],[0.2222222222222222,\"#7201a8\"],[0.3333333333333333,\"#9c179e\"],[0.4444444444444444,\"#bd3786\"],[0.5555555555555556,\"#d8576b\"],[0.6666666666666666,\"#ed7953\"],[0.7777777777777778,\"#fb9f3a\"],[0.8888888888888888,\"#fdca26\"],[1.0,\"#f0f921\"]],\"diverging\":[[0,\"#8e0152\"],[0.1,\"#c51b7d\"],[0.2,\"#de77ae\"],[0.3,\"#f1b6da\"],[0.4,\"#fde0ef\"],[0.5,\"#f7f7f7\"],[0.6,\"#e6f5d0\"],[0.7,\"#b8e186\"],[0.8,\"#7fbc41\"],[0.9,\"#4d9221\"],[1,\"#276419\"]]},\"xaxis\":{\"gridcolor\":\"white\",\"linecolor\":\"white\",\"ticks\":\"\",\"title\":{\"standoff\":15},\"zerolinecolor\":\"white\",\"automargin\":true,\"zerolinewidth\":2},\"yaxis\":{\"gridcolor\":\"white\",\"linecolor\":\"white\",\"ticks\":\"\",\"title\":{\"standoff\":15},\"zerolinecolor\":\"white\",\"automargin\":true,\"zerolinewidth\":2},\"scene\":{\"xaxis\":{\"backgroundcolor\":\"#E5ECF6\",\"gridcolor\":\"white\",\"linecolor\":\"white\",\"showbackground\":true,\"ticks\":\"\",\"zerolinecolor\":\"white\",\"gridwidth\":2},\"yaxis\":{\"backgroundcolor\":\"#E5ECF6\",\"gridcolor\":\"white\",\"linecolor\":\"white\",\"showbackground\":true,\"ticks\":\"\",\"zerolinecolor\":\"white\",\"gridwidth\":2},\"zaxis\":{\"backgroundcolor\":\"#E5ECF6\",\"gridcolor\":\"white\",\"linecolor\":\"white\",\"showbackground\":true,\"ticks\":\"\",\"zerolinecolor\":\"white\",\"gridwidth\":2}},\"shapedefaults\":{\"line\":{\"color\":\"#2a3f5f\"}},\"annotationdefaults\":{\"arrowcolor\":\"#2a3f5f\",\"arrowhead\":0,\"arrowwidth\":1},\"geo\":{\"bgcolor\":\"white\",\"landcolor\":\"#E5ECF6\",\"subunitcolor\":\"white\",\"showland\":true,\"showlakes\":true,\"lakecolor\":\"white\"},\"title\":{\"x\":0.05},\"mapbox\":{\"style\":\"light\"}}},\"xaxis\":{\"anchor\":\"y\",\"domain\":[0.0,1.0],\"title\":{\"text\":\"start_time\"}},\"yaxis\":{\"anchor\":\"x\",\"domain\":[0.0,1.0],\"title\":{\"text\":\"credits\"}},\"legend\":{\"title\":{\"text\":\"category_name\"},\"tracegroupgap\":0},\"margin\":{\"t\":60}},                        {\"responsive\": true}                    ).then(function(){\n",
       "                            \n",
       "var gd = document.getElementById('ce290ecb-94ce-41ea-85c5-d84fe78e9e24');\n",
       "var x = new MutationObserver(function (mutations, observer) {{\n",
       "        var display = window.getComputedStyle(gd).display;\n",
       "        if (!display || display === 'none') {{\n",
       "            console.log([gd, 'removed!']);\n",
       "            Plotly.purge(gd);\n",
       "            observer.disconnect();\n",
       "        }}\n",
       "}});\n",
       "\n",
       "// Listen for the removal of the full notebook cells\n",
       "var notebookContainer = gd.closest('#notebook-container');\n",
       "if (notebookContainer) {{\n",
       "    x.observe(notebookContainer, {childList: true});\n",
       "}}\n",
       "\n",
       "// Listen for the clearing of the current output cell\n",
       "var outputEl = gd.closest('.output');\n",
       "if (outputEl) {{\n",
       "    x.observe(outputEl, {childList: true});\n",
       "}}\n",
       "\n",
       "                        })                };                });            </script>        </div>"
      ]
     },
     "metadata": {},
     "output_type": "display_data"
    }
   ],
   "source": [
    "df_by_category_ts = df.groupby(['category_name','start_time','end_time']).sum('numeric_only').reset_index()\n",
    "fig = px.area(df_by_category_ts, x=\"start_time\", y=\"credits\", color=\"category_name\",color_discrete_sequence=color_scheme)\n",
    "fig.show()"
   ]
  },
  {
   "cell_type": "markdown",
   "metadata": {},
   "source": [
    "## Cost by user"
   ]
  },
  {
   "cell_type": "code",
   "execution_count": null,
   "metadata": {},
   "outputs": [],
   "source": [
    "df_by_user = df.groupby(['user_name']).sum('numeric_only').reset_index()\n",
    "print(tabulate(df_by_user, headers='keys', tablefmt='rounded_outline', showindex=False))"
   ]
  },
  {
   "cell_type": "code",
   "execution_count": null,
   "metadata": {},
   "outputs": [],
   "source": [
    "fig = make_subplots(\n",
    "    rows=1, cols=2,\n",
    "    specs=[[{\"type\": \"pie\"},{\"type\": \"pie\"}]],\n",
    "    subplot_titles=(\"Dollars\", \"Credits\")\n",
    ")\n",
    "\n",
    "fig.add_trace(go.Pie(labels=df_by_user['user_name'].tolist(), values=df_by_user['dollars'].tolist(),name=\"Dollars\", rotation=45,marker_colors=color_scheme),row=1,col=1)\n",
    "fig.add_trace(go.Pie(labels=df_by_user['user_name'].tolist(), values=df_by_user['credits'].tolist(),name='Credits', rotation=45,marker_colors=color_scheme),row=1,col=2)\n",
    "\n",
    "fig.update_layout(\n",
    "    title={\n",
    "        'text': \"Breakdown of total cost by user\",\n",
    "        'y':0.1,\n",
    "        'x':0.5,\n",
    "        'xanchor': 'center',\n",
    "        'yanchor': 'bottom'})\n",
    "fig.show()"
   ]
  },
  {
   "cell_type": "code",
   "execution_count": null,
   "metadata": {},
   "outputs": [],
   "source": [
    "df_by_user_ts = df.groupby(['user_name','start_time','end_time']).sum('numeric_only').reset_index()\n",
    "fig = px.area(df_by_user_ts, x=\"start_time\", y=\"credits\", color=\"user_name\",color_discrete_sequence=color_scheme)\n",
    "fig.show()"
   ]
  },
  {
   "cell_type": "markdown",
   "metadata": {},
   "source": [
    "## Cost by warehouse"
   ]
  },
  {
   "cell_type": "code",
   "execution_count": null,
   "metadata": {},
   "outputs": [],
   "source": [
    "df = qlib.cost_by_wh_ts(sdate, edate).round(2)\n",
    "df.head()\n",
    "# df.loc[len(df.index)] = ['Total', df['credits'].sum(), df['dollars'].sum()]\n",
    "# print(tabulate(df, headers='keys', tablefmt='rounded_outline', showindex=False))"
   ]
  },
  {
   "cell_type": "code",
   "execution_count": null,
   "metadata": {},
   "outputs": [],
   "source": [
    "df = df.drop(len(df)-1) ## Remove the last row of totals for the plot\n",
    "\n",
    "fig = make_subplots(\n",
    "    rows=1, cols=1,\n",
    "    specs=[[{\"type\": \"pie\"}]],\n",
    ")\n",
    "\n",
    "fig.add_trace(go.Pie(labels=df['warehouse_name'].tolist(), values=df['dollars'].tolist(),name='dollars',marker_colors=color_scheme),row=1,col=1)\n",
    "\n",
    "fig.update_layout(\n",
    "    title={\n",
    "        'text': \"Breakdown of total cost by warehouse\",\n",
    "        'y':0.1,\n",
    "        'x':0.5,\n",
    "        'xanchor': 'center',\n",
    "        'yanchor': 'top'})\n",
    "fig.show()"
   ]
  },
  {
   "cell_type": "code",
   "execution_count": null,
   "metadata": {},
   "outputs": [],
   "source": [
    "df_by_warehouse_ts=df.groupby(['warehouse_name','start_time','end_time']).sum('numeric_only').reset_index()\n",
    "fig = px.area(df_by_warehouse_ts, x=\"start_time\", y=\"credits\", color=\"warehouse_name\",color_discrete_sequence=color_scheme)\n",
    "fig.show()\n"
   ]
  },
  {
   "cell_type": "markdown",
   "metadata": {},
   "source": [
    "## Analysis\n",
    "- Sum of the compute across all the warehouses is 1255.47 credits which is consistent with total cost of compute above. Sanity check to ensure we are not missing any compute or warehouse"
   ]
  },
  {
   "cell_type": "markdown",
   "metadata": {},
   "source": [
    "## Breakdown of cost by partner tools"
   ]
  },
  {
   "cell_type": "code",
   "execution_count": null,
   "metadata": {},
   "outputs": [],
   "source": [
    "df = qlib.cost_by_partner_tool_ts(sdate, edate).round(2)\n",
    "df = df.drop(len(df)-1).groupby('client_application_name').sum('numeric_only').reset_index()\n",
    "df.loc[len(df.index)] = ['Total', df['approximate_credits_used'].sum()]\n",
    "print(tabulate(df, headers='keys', tablefmt='rounded_outline', showindex=False))"
   ]
  },
  {
   "cell_type": "code",
   "execution_count": null,
   "metadata": {},
   "outputs": [],
   "source": [
    "df = df.drop(len(df)-1) ## Remove the last row of totals for the plot\n",
    "fig = make_subplots(\n",
    "    rows=1, cols=1,\n",
    "    specs=[[{\"type\": \"pie\"}]],\n",
    ")\n",
    "\n",
    "fig.add_trace(go.Pie(labels=df_client_app['client_application_name'].tolist(), values=df_client_app['approximate_credits_used'].tolist(),name='credits'),row=1,col=1)\n",
    "\n",
    "fig.update_layout(\n",
    "    title={\n",
    "        'text': \"Breakdown of credits used by Client Apps\",\n",
    "        'y':0.9,\n",
    "        'x':0.5,\n",
    "        'xanchor': 'center',\n",
    "        'yanchor': 'top'})\n",
    "fig.show()"
   ]
  },
  {
   "cell_type": "markdown",
   "metadata": {},
   "source": [
    "## Warehouse configuration"
   ]
  },
  {
   "cell_type": "code",
   "execution_count": null,
   "metadata": {},
   "outputs": [],
   "source": [
    "df = qlib.warehouse_config()\n",
    "print(tabulate(df, headers='keys', tablefmt='rounded_outline', showindex=False))"
   ]
  },
  {
   "cell_type": "code",
   "execution_count": null,
   "metadata": {},
   "outputs": [],
   "source": [
    "df.columns"
   ]
  },
  {
   "cell_type": "code",
   "execution_count": null,
   "metadata": {},
   "outputs": [],
   "source": [
    "df.name"
   ]
  },
  {
   "cell_type": "markdown",
   "metadata": {},
   "source": [
    "## Analysis\n",
    "- auto suspend times here vary from 60 min to 3600 min - these seem very large assuming auto resuming does not take very long\n",
    "- There are no resource monitors being used - this should be corrected"
   ]
  },
  {
   "cell_type": "markdown",
   "metadata": {},
   "source": [
    "## Cost of queries"
   ]
  },
  {
   "cell_type": "code",
   "execution_count": null,
   "metadata": {},
   "outputs": [],
   "source": [
    "df = qlib.n_expensive_queries(sdate, edate, 10)\n",
    "df"
   ]
  },
  {
   "cell_type": "code",
   "execution_count": null,
   "metadata": {},
   "outputs": [],
   "source": [
    "df['query_text'][0] == df['query_text'][1]"
   ]
  },
  {
   "cell_type": "code",
   "execution_count": null,
   "metadata": {},
   "outputs": [],
   "source": [
    "df['query_text'][0]"
   ]
  },
  {
   "cell_type": "code",
   "execution_count": null,
   "metadata": {},
   "outputs": [],
   "source": [
    "df['query_text'][1]"
   ]
  },
  {
   "cell_type": "code",
   "execution_count": null,
   "metadata": {},
   "outputs": [],
   "source": [
    "df = qlib.cost_by_wh_ts()\n",
    "df.warehouse_name.unique()"
   ]
  },
  {
   "cell_type": "code",
   "execution_count": null,
   "metadata": {},
   "outputs": [],
   "source": [
    "df=qlib.idle_users(start_date=\"2022-01-01\", end_date=\"2022-02-02\")\n",
    "df.head()"
   ]
  },
  {
   "cell_type": "code",
   "execution_count": null,
   "metadata": {},
   "outputs": [],
   "source": [
    "df=qlib.users_full_table_scans(start_date=\"2022-01-01\", end_date=\"2022-02-02\")\n",
    "df.head()"
   ]
  },
  {
   "cell_type": "code",
   "execution_count": null,
   "metadata": {},
   "outputs": [],
   "source": [
    "df=qlib.heavy_users(start_date=\"2022-01-01\", end_date=\"2022-02-02\")\n",
    "df.head()"
   ]
  },
  {
   "cell_type": "code",
   "execution_count": null,
   "metadata": {},
   "outputs": [],
   "source": [
    "df=qlib.users_never_logged_in(start_date=\"2022-01-01\", end_date=\"2022-02-02\")\n",
    "df.head()"
   ]
  },
  {
   "cell_type": "code",
   "execution_count": null,
   "metadata": {},
   "outputs": [],
   "source": [
    "df=qlib.users_never_logged_in(start_date=\"2022-01-01\", end_date=\"2022-02-02\")\n",
    "df.head()"
   ]
  },
  {
   "cell_type": "code",
   "execution_count": null,
   "metadata": {},
   "outputs": [],
   "source": [
    "df=qlib.idle_roles(start_date=\"2022-01-01\", end_date=\"2022-02-02\")\n",
    "df.head()\n"
   ]
  },
  {
   "cell_type": "code",
   "execution_count": null,
   "metadata": {},
   "outputs": [],
   "source": [
    "df=qlib.failed_tasks(start_date=\"2022-01-01\", end_date=\"2022-02-02\")\n",
    "df.head()"
   ]
  },
  {
   "cell_type": "code",
   "execution_count": null,
   "metadata": {},
   "outputs": [],
   "source": [
    "df=qlib.long_running_tasks(start_date=\"2022-01-01\", end_date=\"2022-02-02\")\n",
    "df.head()"
   ]
  },
  {
   "cell_type": "code",
   "execution_count": null,
   "metadata": {},
   "outputs": [],
   "source": []
  }
 ],
 "metadata": {
  "kernelspec": {
   "display_name": "Python 3 (ipykernel)",
   "language": "python",
   "name": "python3"
  },
  "language_info": {
   "codemirror_mode": {
    "name": "ipython",
    "version": 3
   },
   "file_extension": ".py",
   "mimetype": "text/x-python",
   "name": "python",
   "nbconvert_exporter": "python",
   "pygments_lexer": "ipython3",
   "version": "3.8.10"
  },
  "vscode": {
   "interpreter": {
    "hash": "ba286fab723f3beadf2310fa20d811dff5d5606e9e08a95b52f51185bcb3e19b"
   }
  }
 },
 "nbformat": 4,
 "nbformat_minor": 2
}
