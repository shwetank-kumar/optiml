{
 "cells": [
  {
   "cell_type": "code",
   "execution_count": 2,
   "metadata": {},
   "outputs": [],
   "source": [
    "import sys, pathlib\n",
    "sys.path.append(str(pathlib.Path.cwd().parent))\n",
    "# sys.path"
   ]
  },
  {
   "cell_type": "code",
   "execution_count": 3,
   "metadata": {},
   "outputs": [
    {
     "data": {
      "text/html": [
       "<style>.container { width:100% !important; }</style>"
      ],
      "text/plain": [
       "<IPython.core.display.HTML object>"
      ]
     },
     "metadata": {},
     "output_type": "display_data"
    }
   ],
   "source": [
    "from IPython.display import display, HTML\n",
    "display(HTML(\"<style>.container { width:100% !important; }</style>\"))\n",
    "import pandas as pd\n",
    "import plotly.express as px\n",
    "import plotly.graph_objects as go\n",
    "from plotly.subplots import make_subplots\n",
    "from tabulate import tabulate\n"
   ]
  },
  {
   "cell_type": "code",
   "execution_count": 4,
   "metadata": {},
   "outputs": [],
   "source": [
    "%load_ext autoreload\n",
    "%autoreload 2\n",
    "%aimport optiml.queries"
   ]
  },
  {
   "cell_type": "markdown",
   "metadata": {},
   "source": [
    "## Initialization (Done)"
   ]
  },
  {
   "cell_type": "code",
   "execution_count": 5,
   "metadata": {
    "scrolled": true
   },
   "outputs": [
    {
     "name": "stdout",
     "output_type": "stream",
     "text": [
      "/home/manas/.snowsql/config\n",
      "Connecting...\n"
     ]
    }
   ],
   "source": [
    "# Initialize Snowflake connection to Snowflake\n",
    "from optiml.connection import SnowflakeConnConfig\n",
    "connection = SnowflakeConnConfig(accountname='jg84276.us-central1.gcp',warehousename=\"XSMALL_WH\").create_connection()\n",
    "# Initialize local environment\n",
    "import os\n",
    "cache_dir = os.path.expanduser('~/data/kiva')\n",
    "# Initialize query library\n",
    "from optiml.queries import SNFLKQuery\n",
    "qlib = SNFLKQuery(connection, 'KIV', cache_dir)\n",
    "sdate = '2022-10-01'\n",
    "edate = '2022-10-31'\n",
    "color_scheme=[\"red\",\"blue\",\"green\",\"orange\",\"purple\",\"brown\",\"pink\",\"gray\",\"olive\",\"cyan\",\"darkviolet\",\"goldenrod\",\"darkgreen\",\"chocolate\",\"lawngreen\"]"
   ]
  },
  {
   "cell_type": "markdown",
   "metadata": {},
   "source": [
    "# Total cost breakdown "
   ]
  },
  {
   "cell_type": "markdown",
   "metadata": {},
   "source": [
    "## Visualization"
   ]
  },
  {
   "cell_type": "markdown",
   "metadata": {},
   "source": [
    "## Breakdown of total cost by usage type (Done)"
   ]
  },
  {
   "cell_type": "code",
   "execution_count": null,
   "metadata": {},
   "outputs": [],
   "source": [
    "df = qlib.total_cost_breakdown(sdate, edate).round(2)\n",
    "df.loc[len(df.index)] = ['Total', df['credits'].sum(), df['dollars'].sum()]\n",
    "print(tabulate(df, headers='keys', tablefmt='rounded_outline', showindex=False))\n"
   ]
  },
  {
   "cell_type": "code",
   "execution_count": null,
   "metadata": {},
   "outputs": [],
   "source": [
    "df = df.drop(len(df)-1) ## Remove the last row of totals for the plot\n",
    "fig = make_subplots(\n",
    "    rows=1, cols=2,\n",
    "    specs=[[{\"type\": \"pie\"},{\"type\": \"pie\"}]],\n",
    "    subplot_titles=(\"Dollars\", \"Credits\")\n",
    ")\n",
    "\n",
    "fig.add_trace(go.Pie(labels=df['cost_category'].tolist(), values=df['dollars'].tolist(),name=\"Dollars\"),row=1,col=1)\n",
    "fig.add_trace(go.Pie(labels=df['cost_category'].tolist(), values=df['credits'].tolist(),name='Credits'),row=1,col=2)\n",
    "\n",
    "fig.update_layout(\n",
    "    title={\n",
    "        'text': \"Breakdown of total cost by usage category\",\n",
    "        'y':0.1,\n",
    "        'x':0.5,\n",
    "        'xanchor': 'center',\n",
    "        'yanchor': 'bottom'})\n",
    "fig.show()"
   ]
  },
  {
   "cell_type": "markdown",
   "metadata": {},
   "source": [
    "## Analysis\n",
    "- Compute forms overwhelming majority of the cost\n",
    "- Cloud services are in aggregate < 10 % of compute so are not an added expense\n",
    "- Autoclustering used to be on in 2020 but isn't anymore\n",
    "- Should explore if there are any compute efficiencies to be gained by \n",
    "    - Autoclustering\n",
    "    - Materialized views / caching\n",
    "    - Search optimization\n",
    "    - Query optimizations / reducing scans"
   ]
  },
  {
   "cell_type": "markdown",
   "metadata": {},
   "source": [
    "* Largely used by compute\n",
    "* In 2020 auto clustering was on but was turned off - why?\n",
    "* Storage credits at 0 since storage is charged as a flat rate - are numbers consistent?\n",
    "* Definitely did not use $80K worth of credits in October since total bill is $50K - so something is wrong!\n"
   ]
  },
  {
   "cell_type": "markdown",
   "metadata": {},
   "source": [
    "## Breakdown of total cost as a time series"
   ]
  },
  {
   "cell_type": "code",
   "execution_count": null,
   "metadata": {},
   "outputs": [],
   "source": [
    "df = qlib.total_cost_breakdown_ts(sdate, edate)"
   ]
  },
  {
   "cell_type": "code",
   "execution_count": null,
   "metadata": {},
   "outputs": [],
   "source": [
    "df.head()"
   ]
  },
  {
   "cell_type": "code",
   "execution_count": null,
   "metadata": {},
   "outputs": [],
   "source": [
    "df[df['category_name'] == 'Storage']"
   ]
  },
  {
   "cell_type": "code",
   "execution_count": null,
   "metadata": {},
   "outputs": [],
   "source": [
    "df_by_user = df.groupby(['user_name','start_time','end_time']).sum('numeric_only').reset_index()\n",
    "df_by_user.head()"
   ]
  },
  {
   "cell_type": "code",
   "execution_count": null,
   "metadata": {},
   "outputs": [],
   "source": [
    "df_by_category = df.groupby(['category_name','start_time','end_time']).sum('numeric_only').reset_index()\n",
    "fig = px.area(df_by_category, x=\"start_time\", y=\"credits\", color=\"category_name\",color_discrete_sequence=color_scheme )#, line_group=\"country\")\n",
    "fig.show()"
   ]
  },
  {
   "cell_type": "markdown",
   "metadata": {},
   "source": [
    "## Breakdown of total cost by warehouse"
   ]
  },
  {
   "cell_type": "code",
   "execution_count": null,
   "metadata": {},
   "outputs": [],
   "source": [
    "df = qlib.cost_by_wh(sdate, edate).round(2)\n",
    "df.loc[len(df.index)] = ['Total', df['credits'].sum(), df['dollars'].sum()]\n",
    "print(tabulate(df, headers='keys', tablefmt='rounded_outline', showindex=False))"
   ]
  },
  {
   "cell_type": "code",
   "execution_count": null,
   "metadata": {},
   "outputs": [],
   "source": [
    "df = df.drop(len(df)-1) ## Remove the last row of totals for the plot\n",
    "\n",
    "fig = make_subplots(\n",
    "    rows=1, cols=1,\n",
    "    specs=[[{\"type\": \"pie\"}]],\n",
    ")\n",
    "\n",
    "fig.add_trace(go.Pie(labels=df['warehouse_name'].tolist(), values=df['dollars'].tolist(),name='dollars'),row=1,col=1)\n",
    "\n",
    "fig.update_layout(\n",
    "    title={\n",
    "        'text': \"Breakdown of total cost by warehouse\",\n",
    "        'y':0.1,\n",
    "        'x':0.5,\n",
    "        'xanchor': 'center',\n",
    "        'yanchor': 'top'})\n",
    "fig.show()"
   ]
  },
  {
   "cell_type": "markdown",
   "metadata": {},
   "source": [
    "## Analysis\n",
    "- Sum of the compute across all the warehouses is 1255.47 credits which is consistent with total cost of compute above. Sanity check to ensure we are not missing any compute or warehouse"
   ]
  },
  {
   "cell_type": "markdown",
   "metadata": {},
   "source": [
    "## Breakdown of cost by partner tools"
   ]
  },
  {
   "cell_type": "code",
   "execution_count": null,
   "metadata": {},
   "outputs": [],
   "source": [
    "df = qlib.cost_by_partner_tool_ts(sdate, edate).round(2)\n",
    "df = df.drop(len(df)-1).groupby('client_application_name').sum('numeric_only').reset_index()\n",
    "df.loc[len(df.index)] = ['Total', df['approximate_credits_used'].sum()]\n",
    "print(tabulate(df, headers='keys', tablefmt='rounded_outline', showindex=False))"
   ]
  },
  {
   "cell_type": "code",
   "execution_count": null,
   "metadata": {},
   "outputs": [],
   "source": [
    "df = df.drop(len(df)-1) ## Remove the last row of totals for the plot\n",
    "fig = make_subplots(\n",
    "    rows=1, cols=1,\n",
    "    specs=[[{\"type\": \"pie\"}]],\n",
    ")\n",
    "\n",
    "fig.add_trace(go.Pie(labels=df_client_app['client_application_name'].tolist(), values=df_client_app['approximate_credits_used'].tolist(),name='credits'),row=1,col=1)\n",
    "\n",
    "fig.update_layout(\n",
    "    title={\n",
    "        'text': \"Breakdown of credits used by Client Apps\",\n",
    "        'y':0.9,\n",
    "        'x':0.5,\n",
    "        'xanchor': 'center',\n",
    "        'yanchor': 'top'})\n",
    "fig.show()"
   ]
  },
  {
   "cell_type": "markdown",
   "metadata": {},
   "source": [
    "## Breakdown of total cost by user (to do)"
   ]
  },
  {
   "cell_type": "code",
   "execution_count": null,
   "metadata": {},
   "outputs": [],
   "source": [
    "df = qlib.cost_by_user_ts(sdate, edate)\n",
    "df"
   ]
  },
  {
   "cell_type": "markdown",
   "metadata": {},
   "source": [
    "## Warehouse configuration"
   ]
  },
  {
   "cell_type": "code",
   "execution_count": null,
   "metadata": {},
   "outputs": [],
   "source": [
    "df = qlib.warehouse_config()\n",
    "print(tabulate(df, headers='keys', tablefmt='rounded_outline', showindex=False))"
   ]
  },
  {
   "cell_type": "code",
   "execution_count": null,
   "metadata": {},
   "outputs": [],
   "source": [
    "df.columns"
   ]
  },
  {
   "cell_type": "code",
   "execution_count": null,
   "metadata": {},
   "outputs": [],
   "source": [
    "df.name"
   ]
  },
  {
   "cell_type": "markdown",
   "metadata": {},
   "source": [
    "## Analysis\n",
    "- auto suspend times here vary from 60 min to 3600 min - these seem very large assuming auto resuming does not take very long\n",
    "- There are no resource monitors being used - this should be corrected"
   ]
  },
  {
   "cell_type": "markdown",
   "metadata": {},
   "source": [
    "## Cost of queries"
   ]
  },
  {
   "cell_type": "code",
   "execution_count": null,
   "metadata": {},
   "outputs": [],
   "source": [
    "df = qlib.n_expensive_queries(sdate, edate, 10)\n",
    "df"
   ]
  },
  {
   "cell_type": "code",
   "execution_count": null,
   "metadata": {},
   "outputs": [],
   "source": [
    "df['query_text'][0] == df['query_text'][1]"
   ]
  },
  {
   "cell_type": "code",
   "execution_count": null,
   "metadata": {},
   "outputs": [],
   "source": [
    "df['query_text'][0]"
   ]
  },
  {
   "cell_type": "code",
   "execution_count": null,
   "metadata": {},
   "outputs": [],
   "source": [
    "df['query_text'][1]"
   ]
  },
  {
   "cell_type": "code",
   "execution_count": null,
   "metadata": {},
   "outputs": [],
   "source": [
    "df = qlib.cost_by_wh_ts()\n",
    "df.warehouse_name.unique()"
   ]
  },
  {
   "cell_type": "code",
   "execution_count": null,
   "metadata": {},
   "outputs": [],
   "source": [
    "df=qlib.idle_users(start_date=\"2022-01-01\", end_date=\"2022-02-02\")\n",
    "df.head()"
   ]
  },
  {
   "cell_type": "code",
   "execution_count": 12,
   "metadata": {},
   "outputs": [
    {
     "data": {
      "text/html": [
       "<div>\n",
       "<style scoped>\n",
       "    .dataframe tbody tr th:only-of-type {\n",
       "        vertical-align: middle;\n",
       "    }\n",
       "\n",
       "    .dataframe tbody tr th {\n",
       "        vertical-align: top;\n",
       "    }\n",
       "\n",
       "    .dataframe thead th {\n",
       "        text-align: right;\n",
       "    }\n",
       "</style>\n",
       "<table border=\"1\" class=\"dataframe\">\n",
       "  <thead>\n",
       "    <tr style=\"text-align: right;\">\n",
       "      <th></th>\n",
       "      <th>user_name</th>\n",
       "      <th>count_of_queries</th>\n",
       "    </tr>\n",
       "  </thead>\n",
       "  <tbody>\n",
       "  </tbody>\n",
       "</table>\n",
       "</div>"
      ],
      "text/plain": [
       "Empty DataFrame\n",
       "Columns: [user_name, count_of_queries]\n",
       "Index: []"
      ]
     },
     "execution_count": 12,
     "metadata": {},
     "output_type": "execute_result"
    }
   ],
   "source": [
    "df=qlib.users_full_table_scans(start_date=\"2022-01-01\", end_date=\"2022-02-02\")\n",
    "df.head()"
   ]
  },
  {
   "cell_type": "code",
   "execution_count": 14,
   "metadata": {},
   "outputs": [
    {
     "data": {
      "text/html": [
       "<div>\n",
       "<style scoped>\n",
       "    .dataframe tbody tr th:only-of-type {\n",
       "        vertical-align: middle;\n",
       "    }\n",
       "\n",
       "    .dataframe tbody tr th {\n",
       "        vertical-align: top;\n",
       "    }\n",
       "\n",
       "    .dataframe thead th {\n",
       "        text-align: right;\n",
       "    }\n",
       "</style>\n",
       "<table border=\"1\" class=\"dataframe\">\n",
       "  <thead>\n",
       "    <tr style=\"text-align: right;\">\n",
       "      <th></th>\n",
       "      <th>user_name</th>\n",
       "      <th>warehouse_name</th>\n",
       "      <th>avg_pct_scanned</th>\n",
       "    </tr>\n",
       "  </thead>\n",
       "  <tbody>\n",
       "  </tbody>\n",
       "</table>\n",
       "</div>"
      ],
      "text/plain": [
       "Empty DataFrame\n",
       "Columns: [user_name, warehouse_name, avg_pct_scanned]\n",
       "Index: []"
      ]
     },
     "execution_count": 14,
     "metadata": {},
     "output_type": "execute_result"
    }
   ],
   "source": [
    "df=qlib.heavy_users(start_date=\"2022-01-01\", end_date=\"2022-02-02\")\n",
    "df.head()"
   ]
  },
  {
   "cell_type": "code",
   "execution_count": 15,
   "metadata": {},
   "outputs": [
    {
     "data": {
      "text/html": [
       "<div>\n",
       "<style scoped>\n",
       "    .dataframe tbody tr th:only-of-type {\n",
       "        vertical-align: middle;\n",
       "    }\n",
       "\n",
       "    .dataframe tbody tr th {\n",
       "        vertical-align: top;\n",
       "    }\n",
       "\n",
       "    .dataframe thead th {\n",
       "        text-align: right;\n",
       "    }\n",
       "</style>\n",
       "<table border=\"1\" class=\"dataframe\">\n",
       "  <thead>\n",
       "    <tr style=\"text-align: right;\">\n",
       "      <th></th>\n",
       "      <th>name</th>\n",
       "      <th>created_on</th>\n",
       "      <th>deleted_on</th>\n",
       "      <th>login_name</th>\n",
       "      <th>display_name</th>\n",
       "      <th>first_name</th>\n",
       "      <th>last_name</th>\n",
       "      <th>email</th>\n",
       "      <th>must_change_password</th>\n",
       "      <th>has_password</th>\n",
       "      <th>...</th>\n",
       "      <th>ext_authn_duo</th>\n",
       "      <th>ext_authn_uid</th>\n",
       "      <th>bypass_mfa_until</th>\n",
       "      <th>last_success_login</th>\n",
       "      <th>expires_at</th>\n",
       "      <th>locked_until_time</th>\n",
       "      <th>has_rsa_public_key</th>\n",
       "      <th>password_last_set_time</th>\n",
       "      <th>owner</th>\n",
       "      <th>default_secondary_role</th>\n",
       "    </tr>\n",
       "  </thead>\n",
       "  <tbody>\n",
       "    <tr>\n",
       "      <th>0</th>\n",
       "      <td>TEST_EXERCISE_GG</td>\n",
       "      <td>2022-06-15 18:18:31.725000-07:00</td>\n",
       "      <td>2022-06-15 18:18:39.557000-07:00</td>\n",
       "      <td>TEST_EXERCISE_GG</td>\n",
       "      <td>TEST_EXERCISE_GG</td>\n",
       "      <td>&lt;NA&gt;</td>\n",
       "      <td>&lt;NA&gt;</td>\n",
       "      <td>&lt;NA&gt;</td>\n",
       "      <td>False</td>\n",
       "      <td>True</td>\n",
       "      <td>...</td>\n",
       "      <td>\"false\"</td>\n",
       "      <td>&lt;NA&gt;</td>\n",
       "      <td>NaT</td>\n",
       "      <td>NaT</td>\n",
       "      <td>NaT</td>\n",
       "      <td>NaT</td>\n",
       "      <td>False</td>\n",
       "      <td>2022-06-15 18:18:32.368000-07:00</td>\n",
       "      <td>&lt;NA&gt;</td>\n",
       "      <td>&lt;NA&gt;</td>\n",
       "    </tr>\n",
       "    <tr>\n",
       "      <th>1</th>\n",
       "      <td>TEST_EXERCISE_PLASJ</td>\n",
       "      <td>2021-10-05 22:20:53.138000-07:00</td>\n",
       "      <td>2021-11-01 15:59:26.781000-07:00</td>\n",
       "      <td>TEST_EXERCISE_PLASJ</td>\n",
       "      <td>TEST_EXERCISE_PLASJ</td>\n",
       "      <td>&lt;NA&gt;</td>\n",
       "      <td>&lt;NA&gt;</td>\n",
       "      <td>&lt;NA&gt;</td>\n",
       "      <td>False</td>\n",
       "      <td>True</td>\n",
       "      <td>...</td>\n",
       "      <td>\"false\"</td>\n",
       "      <td>&lt;NA&gt;</td>\n",
       "      <td>NaT</td>\n",
       "      <td>NaT</td>\n",
       "      <td>NaT</td>\n",
       "      <td>2021-11-01 16:59:26.632000-07:00</td>\n",
       "      <td>False</td>\n",
       "      <td>2021-10-05 22:20:53.168000-07:00</td>\n",
       "      <td>&lt;NA&gt;</td>\n",
       "      <td>&lt;NA&gt;</td>\n",
       "    </tr>\n",
       "    <tr>\n",
       "      <th>2</th>\n",
       "      <td>SPENCERM_DEV</td>\n",
       "      <td>2022-08-08 16:48:23.119000-07:00</td>\n",
       "      <td>NaT</td>\n",
       "      <td>SPENCERM_DEV</td>\n",
       "      <td>SPENCERM_DEV</td>\n",
       "      <td>&lt;NA&gt;</td>\n",
       "      <td>&lt;NA&gt;</td>\n",
       "      <td>&lt;NA&gt;</td>\n",
       "      <td>False</td>\n",
       "      <td>False</td>\n",
       "      <td>...</td>\n",
       "      <td>\"false\"</td>\n",
       "      <td>&lt;NA&gt;</td>\n",
       "      <td>NaT</td>\n",
       "      <td>NaT</td>\n",
       "      <td>NaT</td>\n",
       "      <td>NaT</td>\n",
       "      <td>False</td>\n",
       "      <td>NaT</td>\n",
       "      <td>SECURITYADMIN</td>\n",
       "      <td>&lt;NA&gt;</td>\n",
       "    </tr>\n",
       "    <tr>\n",
       "      <th>3</th>\n",
       "      <td>YARIELI_DEV</td>\n",
       "      <td>2022-01-10 20:08:17.338000-08:00</td>\n",
       "      <td>NaT</td>\n",
       "      <td>YARIELI_DEV</td>\n",
       "      <td>YARIELI_DEV</td>\n",
       "      <td>&lt;NA&gt;</td>\n",
       "      <td>&lt;NA&gt;</td>\n",
       "      <td>&lt;NA&gt;</td>\n",
       "      <td>True</td>\n",
       "      <td>True</td>\n",
       "      <td>...</td>\n",
       "      <td>\"false\"</td>\n",
       "      <td>&lt;NA&gt;</td>\n",
       "      <td>NaT</td>\n",
       "      <td>NaT</td>\n",
       "      <td>NaT</td>\n",
       "      <td>NaT</td>\n",
       "      <td>False</td>\n",
       "      <td>2022-01-10 20:08:17.360000-08:00</td>\n",
       "      <td>SECURITYADMIN</td>\n",
       "      <td>&lt;NA&gt;</td>\n",
       "    </tr>\n",
       "    <tr>\n",
       "      <th>4</th>\n",
       "      <td>TEST_EXERCISE_DV</td>\n",
       "      <td>2022-10-10 21:35:16.747000-07:00</td>\n",
       "      <td>NaT</td>\n",
       "      <td>TEST_EXERCISE_DV</td>\n",
       "      <td>TEST_EXERCISE_DV</td>\n",
       "      <td>&lt;NA&gt;</td>\n",
       "      <td>&lt;NA&gt;</td>\n",
       "      <td>&lt;NA&gt;</td>\n",
       "      <td>False</td>\n",
       "      <td>True</td>\n",
       "      <td>...</td>\n",
       "      <td>\"false\"</td>\n",
       "      <td>&lt;NA&gt;</td>\n",
       "      <td>NaT</td>\n",
       "      <td>NaT</td>\n",
       "      <td>2022-10-17 21:35:16.916000-07:00</td>\n",
       "      <td>NaT</td>\n",
       "      <td>False</td>\n",
       "      <td>2022-10-10 21:35:16.747000-07:00</td>\n",
       "      <td>SECURITYADMIN</td>\n",
       "      <td>&lt;NA&gt;</td>\n",
       "    </tr>\n",
       "  </tbody>\n",
       "</table>\n",
       "<p>5 rows × 26 columns</p>\n",
       "</div>"
      ],
      "text/plain": [
       "                  name                       created_on  \\\n",
       "0     TEST_EXERCISE_GG 2022-06-15 18:18:31.725000-07:00   \n",
       "1  TEST_EXERCISE_PLASJ 2021-10-05 22:20:53.138000-07:00   \n",
       "2         SPENCERM_DEV 2022-08-08 16:48:23.119000-07:00   \n",
       "3          YARIELI_DEV 2022-01-10 20:08:17.338000-08:00   \n",
       "4     TEST_EXERCISE_DV 2022-10-10 21:35:16.747000-07:00   \n",
       "\n",
       "                        deleted_on           login_name         display_name  \\\n",
       "0 2022-06-15 18:18:39.557000-07:00     TEST_EXERCISE_GG     TEST_EXERCISE_GG   \n",
       "1 2021-11-01 15:59:26.781000-07:00  TEST_EXERCISE_PLASJ  TEST_EXERCISE_PLASJ   \n",
       "2                              NaT         SPENCERM_DEV         SPENCERM_DEV   \n",
       "3                              NaT          YARIELI_DEV          YARIELI_DEV   \n",
       "4                              NaT     TEST_EXERCISE_DV     TEST_EXERCISE_DV   \n",
       "\n",
       "  first_name last_name email  must_change_password  has_password  ...  \\\n",
       "0       <NA>      <NA>  <NA>                 False          True  ...   \n",
       "1       <NA>      <NA>  <NA>                 False          True  ...   \n",
       "2       <NA>      <NA>  <NA>                 False         False  ...   \n",
       "3       <NA>      <NA>  <NA>                  True          True  ...   \n",
       "4       <NA>      <NA>  <NA>                 False          True  ...   \n",
       "\n",
       "  ext_authn_duo ext_authn_uid bypass_mfa_until last_success_login  \\\n",
       "0       \"false\"          <NA>              NaT                NaT   \n",
       "1       \"false\"          <NA>              NaT                NaT   \n",
       "2       \"false\"          <NA>              NaT                NaT   \n",
       "3       \"false\"          <NA>              NaT                NaT   \n",
       "4       \"false\"          <NA>              NaT                NaT   \n",
       "\n",
       "                        expires_at                locked_until_time  \\\n",
       "0                              NaT                              NaT   \n",
       "1                              NaT 2021-11-01 16:59:26.632000-07:00   \n",
       "2                              NaT                              NaT   \n",
       "3                              NaT                              NaT   \n",
       "4 2022-10-17 21:35:16.916000-07:00                              NaT   \n",
       "\n",
       "  has_rsa_public_key           password_last_set_time          owner  \\\n",
       "0              False 2022-06-15 18:18:32.368000-07:00           <NA>   \n",
       "1              False 2021-10-05 22:20:53.168000-07:00           <NA>   \n",
       "2              False                              NaT  SECURITYADMIN   \n",
       "3              False 2022-01-10 20:08:17.360000-08:00  SECURITYADMIN   \n",
       "4              False 2022-10-10 21:35:16.747000-07:00  SECURITYADMIN   \n",
       "\n",
       "  default_secondary_role  \n",
       "0                   <NA>  \n",
       "1                   <NA>  \n",
       "2                   <NA>  \n",
       "3                   <NA>  \n",
       "4                   <NA>  \n",
       "\n",
       "[5 rows x 26 columns]"
      ]
     },
     "execution_count": 15,
     "metadata": {},
     "output_type": "execute_result"
    }
   ],
   "source": [
    "df=qlib.users_never_logged_in(start_date=\"2022-01-01\", end_date=\"2022-02-02\")\n",
    "df.head()"
   ]
  },
  {
   "cell_type": "code",
   "execution_count": 16,
   "metadata": {},
   "outputs": [
    {
     "data": {
      "text/html": [
       "<div>\n",
       "<style scoped>\n",
       "    .dataframe tbody tr th:only-of-type {\n",
       "        vertical-align: middle;\n",
       "    }\n",
       "\n",
       "    .dataframe tbody tr th {\n",
       "        vertical-align: top;\n",
       "    }\n",
       "\n",
       "    .dataframe thead th {\n",
       "        text-align: right;\n",
       "    }\n",
       "</style>\n",
       "<table border=\"1\" class=\"dataframe\">\n",
       "  <thead>\n",
       "    <tr style=\"text-align: right;\">\n",
       "      <th></th>\n",
       "      <th>name</th>\n",
       "      <th>created_on</th>\n",
       "      <th>deleted_on</th>\n",
       "      <th>login_name</th>\n",
       "      <th>display_name</th>\n",
       "      <th>first_name</th>\n",
       "      <th>last_name</th>\n",
       "      <th>email</th>\n",
       "      <th>must_change_password</th>\n",
       "      <th>has_password</th>\n",
       "      <th>...</th>\n",
       "      <th>ext_authn_duo</th>\n",
       "      <th>ext_authn_uid</th>\n",
       "      <th>bypass_mfa_until</th>\n",
       "      <th>last_success_login</th>\n",
       "      <th>expires_at</th>\n",
       "      <th>locked_until_time</th>\n",
       "      <th>has_rsa_public_key</th>\n",
       "      <th>password_last_set_time</th>\n",
       "      <th>owner</th>\n",
       "      <th>default_secondary_role</th>\n",
       "    </tr>\n",
       "  </thead>\n",
       "  <tbody>\n",
       "    <tr>\n",
       "      <th>0</th>\n",
       "      <td>TEST_EXERCISE_GG</td>\n",
       "      <td>2022-06-15 18:18:31.725000-07:00</td>\n",
       "      <td>2022-06-15 18:18:39.557000-07:00</td>\n",
       "      <td>TEST_EXERCISE_GG</td>\n",
       "      <td>TEST_EXERCISE_GG</td>\n",
       "      <td>&lt;NA&gt;</td>\n",
       "      <td>&lt;NA&gt;</td>\n",
       "      <td>&lt;NA&gt;</td>\n",
       "      <td>False</td>\n",
       "      <td>True</td>\n",
       "      <td>...</td>\n",
       "      <td>\"false\"</td>\n",
       "      <td>&lt;NA&gt;</td>\n",
       "      <td>NaT</td>\n",
       "      <td>NaT</td>\n",
       "      <td>NaT</td>\n",
       "      <td>NaT</td>\n",
       "      <td>False</td>\n",
       "      <td>2022-06-15 18:18:32.368000-07:00</td>\n",
       "      <td>&lt;NA&gt;</td>\n",
       "      <td>&lt;NA&gt;</td>\n",
       "    </tr>\n",
       "    <tr>\n",
       "      <th>1</th>\n",
       "      <td>TEST_EXERCISE_PLASJ</td>\n",
       "      <td>2021-10-05 22:20:53.138000-07:00</td>\n",
       "      <td>2021-11-01 15:59:26.781000-07:00</td>\n",
       "      <td>TEST_EXERCISE_PLASJ</td>\n",
       "      <td>TEST_EXERCISE_PLASJ</td>\n",
       "      <td>&lt;NA&gt;</td>\n",
       "      <td>&lt;NA&gt;</td>\n",
       "      <td>&lt;NA&gt;</td>\n",
       "      <td>False</td>\n",
       "      <td>True</td>\n",
       "      <td>...</td>\n",
       "      <td>\"false\"</td>\n",
       "      <td>&lt;NA&gt;</td>\n",
       "      <td>NaT</td>\n",
       "      <td>NaT</td>\n",
       "      <td>NaT</td>\n",
       "      <td>2021-11-01 16:59:26.632000-07:00</td>\n",
       "      <td>False</td>\n",
       "      <td>2021-10-05 22:20:53.168000-07:00</td>\n",
       "      <td>&lt;NA&gt;</td>\n",
       "      <td>&lt;NA&gt;</td>\n",
       "    </tr>\n",
       "    <tr>\n",
       "      <th>2</th>\n",
       "      <td>SPENCERM_DEV</td>\n",
       "      <td>2022-08-08 16:48:23.119000-07:00</td>\n",
       "      <td>NaT</td>\n",
       "      <td>SPENCERM_DEV</td>\n",
       "      <td>SPENCERM_DEV</td>\n",
       "      <td>&lt;NA&gt;</td>\n",
       "      <td>&lt;NA&gt;</td>\n",
       "      <td>&lt;NA&gt;</td>\n",
       "      <td>False</td>\n",
       "      <td>False</td>\n",
       "      <td>...</td>\n",
       "      <td>\"false\"</td>\n",
       "      <td>&lt;NA&gt;</td>\n",
       "      <td>NaT</td>\n",
       "      <td>NaT</td>\n",
       "      <td>NaT</td>\n",
       "      <td>NaT</td>\n",
       "      <td>False</td>\n",
       "      <td>NaT</td>\n",
       "      <td>SECURITYADMIN</td>\n",
       "      <td>&lt;NA&gt;</td>\n",
       "    </tr>\n",
       "    <tr>\n",
       "      <th>3</th>\n",
       "      <td>YARIELI_DEV</td>\n",
       "      <td>2022-01-10 20:08:17.338000-08:00</td>\n",
       "      <td>NaT</td>\n",
       "      <td>YARIELI_DEV</td>\n",
       "      <td>YARIELI_DEV</td>\n",
       "      <td>&lt;NA&gt;</td>\n",
       "      <td>&lt;NA&gt;</td>\n",
       "      <td>&lt;NA&gt;</td>\n",
       "      <td>True</td>\n",
       "      <td>True</td>\n",
       "      <td>...</td>\n",
       "      <td>\"false\"</td>\n",
       "      <td>&lt;NA&gt;</td>\n",
       "      <td>NaT</td>\n",
       "      <td>NaT</td>\n",
       "      <td>NaT</td>\n",
       "      <td>NaT</td>\n",
       "      <td>False</td>\n",
       "      <td>2022-01-10 20:08:17.360000-08:00</td>\n",
       "      <td>SECURITYADMIN</td>\n",
       "      <td>&lt;NA&gt;</td>\n",
       "    </tr>\n",
       "    <tr>\n",
       "      <th>4</th>\n",
       "      <td>TEST_EXERCISE_DV</td>\n",
       "      <td>2022-10-10 21:35:16.747000-07:00</td>\n",
       "      <td>NaT</td>\n",
       "      <td>TEST_EXERCISE_DV</td>\n",
       "      <td>TEST_EXERCISE_DV</td>\n",
       "      <td>&lt;NA&gt;</td>\n",
       "      <td>&lt;NA&gt;</td>\n",
       "      <td>&lt;NA&gt;</td>\n",
       "      <td>False</td>\n",
       "      <td>True</td>\n",
       "      <td>...</td>\n",
       "      <td>\"false\"</td>\n",
       "      <td>&lt;NA&gt;</td>\n",
       "      <td>NaT</td>\n",
       "      <td>NaT</td>\n",
       "      <td>2022-10-17 21:35:16.916000-07:00</td>\n",
       "      <td>NaT</td>\n",
       "      <td>False</td>\n",
       "      <td>2022-10-10 21:35:16.747000-07:00</td>\n",
       "      <td>SECURITYADMIN</td>\n",
       "      <td>&lt;NA&gt;</td>\n",
       "    </tr>\n",
       "  </tbody>\n",
       "</table>\n",
       "<p>5 rows × 26 columns</p>\n",
       "</div>"
      ],
      "text/plain": [
       "                  name                       created_on  \\\n",
       "0     TEST_EXERCISE_GG 2022-06-15 18:18:31.725000-07:00   \n",
       "1  TEST_EXERCISE_PLASJ 2021-10-05 22:20:53.138000-07:00   \n",
       "2         SPENCERM_DEV 2022-08-08 16:48:23.119000-07:00   \n",
       "3          YARIELI_DEV 2022-01-10 20:08:17.338000-08:00   \n",
       "4     TEST_EXERCISE_DV 2022-10-10 21:35:16.747000-07:00   \n",
       "\n",
       "                        deleted_on           login_name         display_name  \\\n",
       "0 2022-06-15 18:18:39.557000-07:00     TEST_EXERCISE_GG     TEST_EXERCISE_GG   \n",
       "1 2021-11-01 15:59:26.781000-07:00  TEST_EXERCISE_PLASJ  TEST_EXERCISE_PLASJ   \n",
       "2                              NaT         SPENCERM_DEV         SPENCERM_DEV   \n",
       "3                              NaT          YARIELI_DEV          YARIELI_DEV   \n",
       "4                              NaT     TEST_EXERCISE_DV     TEST_EXERCISE_DV   \n",
       "\n",
       "  first_name last_name email  must_change_password  has_password  ...  \\\n",
       "0       <NA>      <NA>  <NA>                 False          True  ...   \n",
       "1       <NA>      <NA>  <NA>                 False          True  ...   \n",
       "2       <NA>      <NA>  <NA>                 False         False  ...   \n",
       "3       <NA>      <NA>  <NA>                  True          True  ...   \n",
       "4       <NA>      <NA>  <NA>                 False          True  ...   \n",
       "\n",
       "  ext_authn_duo ext_authn_uid bypass_mfa_until last_success_login  \\\n",
       "0       \"false\"          <NA>              NaT                NaT   \n",
       "1       \"false\"          <NA>              NaT                NaT   \n",
       "2       \"false\"          <NA>              NaT                NaT   \n",
       "3       \"false\"          <NA>              NaT                NaT   \n",
       "4       \"false\"          <NA>              NaT                NaT   \n",
       "\n",
       "                        expires_at                locked_until_time  \\\n",
       "0                              NaT                              NaT   \n",
       "1                              NaT 2021-11-01 16:59:26.632000-07:00   \n",
       "2                              NaT                              NaT   \n",
       "3                              NaT                              NaT   \n",
       "4 2022-10-17 21:35:16.916000-07:00                              NaT   \n",
       "\n",
       "  has_rsa_public_key           password_last_set_time          owner  \\\n",
       "0              False 2022-06-15 18:18:32.368000-07:00           <NA>   \n",
       "1              False 2021-10-05 22:20:53.168000-07:00           <NA>   \n",
       "2              False                              NaT  SECURITYADMIN   \n",
       "3              False 2022-01-10 20:08:17.360000-08:00  SECURITYADMIN   \n",
       "4              False 2022-10-10 21:35:16.747000-07:00  SECURITYADMIN   \n",
       "\n",
       "  default_secondary_role  \n",
       "0                   <NA>  \n",
       "1                   <NA>  \n",
       "2                   <NA>  \n",
       "3                   <NA>  \n",
       "4                   <NA>  \n",
       "\n",
       "[5 rows x 26 columns]"
      ]
     },
     "execution_count": 16,
     "metadata": {},
     "output_type": "execute_result"
    }
   ],
   "source": [
    "df=qlib.users_never_logged_in(start_date=\"2022-01-01\", end_date=\"2022-02-02\")\n",
    "df.head()"
   ]
  },
  {
   "cell_type": "code",
   "execution_count": 21,
   "metadata": {},
   "outputs": [
    {
     "data": {
      "text/html": [
       "<div>\n",
       "<style scoped>\n",
       "    .dataframe tbody tr th:only-of-type {\n",
       "        vertical-align: middle;\n",
       "    }\n",
       "\n",
       "    .dataframe tbody tr th {\n",
       "        vertical-align: top;\n",
       "    }\n",
       "\n",
       "    .dataframe thead th {\n",
       "        text-align: right;\n",
       "    }\n",
       "</style>\n",
       "<table border=\"1\" class=\"dataframe\">\n",
       "  <thead>\n",
       "    <tr style=\"text-align: right;\">\n",
       "      <th></th>\n",
       "      <th>created_on</th>\n",
       "      <th>deleted_on</th>\n",
       "      <th>name</th>\n",
       "      <th>comment</th>\n",
       "      <th>owner</th>\n",
       "    </tr>\n",
       "  </thead>\n",
       "  <tbody>\n",
       "    <tr>\n",
       "      <th>0</th>\n",
       "      <td>2022-11-14 09:28:09.112000-08:00</td>\n",
       "      <td>NaT</td>\n",
       "      <td>KIV_ADMIN</td>\n",
       "      <td>&lt;NA&gt;</td>\n",
       "      <td>ACCOUNTADMIN</td>\n",
       "    </tr>\n",
       "    <tr>\n",
       "      <th>1</th>\n",
       "      <td>2022-09-26 13:24:02.852000-07:00</td>\n",
       "      <td>NaT</td>\n",
       "      <td>USERADMIN</td>\n",
       "      <td>&lt;NA&gt;</td>\n",
       "      <td>&lt;NA&gt;</td>\n",
       "    </tr>\n",
       "    <tr>\n",
       "      <th>2</th>\n",
       "      <td>2022-09-26 13:24:02.772000-07:00</td>\n",
       "      <td>NaT</td>\n",
       "      <td>PUBLIC</td>\n",
       "      <td>Public role is automatically available to ever...</td>\n",
       "      <td>&lt;NA&gt;</td>\n",
       "    </tr>\n",
       "    <tr>\n",
       "      <th>3</th>\n",
       "      <td>2022-09-26 13:24:02.839000-07:00</td>\n",
       "      <td>NaT</td>\n",
       "      <td>SYSADMIN</td>\n",
       "      <td>System administrator can create and manage dat...</td>\n",
       "      <td>&lt;NA&gt;</td>\n",
       "    </tr>\n",
       "    <tr>\n",
       "      <th>4</th>\n",
       "      <td>2022-09-26 13:24:02.795000-07:00</td>\n",
       "      <td>NaT</td>\n",
       "      <td>ACCOUNTADMIN</td>\n",
       "      <td>Account administrator can manage all aspects o...</td>\n",
       "      <td>&lt;NA&gt;</td>\n",
       "    </tr>\n",
       "  </tbody>\n",
       "</table>\n",
       "</div>"
      ],
      "text/plain": [
       "                        created_on deleted_on          name  \\\n",
       "0 2022-11-14 09:28:09.112000-08:00        NaT     KIV_ADMIN   \n",
       "1 2022-09-26 13:24:02.852000-07:00        NaT     USERADMIN   \n",
       "2 2022-09-26 13:24:02.772000-07:00        NaT        PUBLIC   \n",
       "3 2022-09-26 13:24:02.839000-07:00        NaT      SYSADMIN   \n",
       "4 2022-09-26 13:24:02.795000-07:00        NaT  ACCOUNTADMIN   \n",
       "\n",
       "                                             comment         owner  \n",
       "0                                               <NA>  ACCOUNTADMIN  \n",
       "1                                               <NA>          <NA>  \n",
       "2  Public role is automatically available to ever...          <NA>  \n",
       "3  System administrator can create and manage dat...          <NA>  \n",
       "4  Account administrator can manage all aspects o...          <NA>  "
      ]
     },
     "execution_count": 21,
     "metadata": {},
     "output_type": "execute_result"
    }
   ],
   "source": [
    "df=qlib.idle_roles(start_date=\"2022-01-01\", end_date=\"2022-02-02\")\n",
    "df.head()\n"
   ]
  },
  {
   "cell_type": "code",
   "execution_count": 35,
   "metadata": {},
   "outputs": [
    {
     "data": {
      "text/html": [
       "<div>\n",
       "<style scoped>\n",
       "    .dataframe tbody tr th:only-of-type {\n",
       "        vertical-align: middle;\n",
       "    }\n",
       "\n",
       "    .dataframe tbody tr th {\n",
       "        vertical-align: top;\n",
       "    }\n",
       "\n",
       "    .dataframe thead th {\n",
       "        text-align: right;\n",
       "    }\n",
       "</style>\n",
       "<table border=\"1\" class=\"dataframe\">\n",
       "  <thead>\n",
       "    <tr style=\"text-align: right;\">\n",
       "      <th></th>\n",
       "      <th>name</th>\n",
       "      <th>query_text</th>\n",
       "      <th>condition_text</th>\n",
       "      <th>schema_name</th>\n",
       "      <th>task_schema_id</th>\n",
       "      <th>database_name</th>\n",
       "      <th>task_database_id</th>\n",
       "      <th>scheduled_time</th>\n",
       "      <th>completed_time</th>\n",
       "      <th>state</th>\n",
       "      <th>return_value</th>\n",
       "      <th>query_id</th>\n",
       "      <th>query_start_time</th>\n",
       "      <th>error_code</th>\n",
       "      <th>error_message</th>\n",
       "      <th>graph_version</th>\n",
       "      <th>run_id</th>\n",
       "      <th>root_task_id</th>\n",
       "      <th>scheduled_from</th>\n",
       "    </tr>\n",
       "  </thead>\n",
       "  <tbody>\n",
       "  </tbody>\n",
       "</table>\n",
       "</div>"
      ],
      "text/plain": [
       "Empty DataFrame\n",
       "Columns: [name, query_text, condition_text, schema_name, task_schema_id, database_name, task_database_id, scheduled_time, completed_time, state, return_value, query_id, query_start_time, error_code, error_message, graph_version, run_id, root_task_id, scheduled_from]\n",
       "Index: []"
      ]
     },
     "execution_count": 35,
     "metadata": {},
     "output_type": "execute_result"
    }
   ],
   "source": [
    "df=qlib.failed_tasks(start_date=\"2022-01-01\", end_date=\"2022-02-02\")\n",
    "df.head()"
   ]
  },
  {
   "cell_type": "code",
   "execution_count": 9,
   "metadata": {},
   "outputs": [
    {
     "data": {
      "text/html": [
       "<div>\n",
       "<style scoped>\n",
       "    .dataframe tbody tr th:only-of-type {\n",
       "        vertical-align: middle;\n",
       "    }\n",
       "\n",
       "    .dataframe tbody tr th {\n",
       "        vertical-align: top;\n",
       "    }\n",
       "\n",
       "    .dataframe thead th {\n",
       "        text-align: right;\n",
       "    }\n",
       "</style>\n",
       "<table border=\"1\" class=\"dataframe\">\n",
       "  <thead>\n",
       "    <tr style=\"text-align: right;\">\n",
       "      <th></th>\n",
       "      <th>duration_seconds</th>\n",
       "      <th>name</th>\n",
       "      <th>query_text</th>\n",
       "      <th>condition_text</th>\n",
       "      <th>schema_name</th>\n",
       "      <th>task_schema_id</th>\n",
       "      <th>database_name</th>\n",
       "      <th>task_database_id</th>\n",
       "      <th>scheduled_time</th>\n",
       "      <th>completed_time</th>\n",
       "      <th>state</th>\n",
       "      <th>return_value</th>\n",
       "      <th>query_id</th>\n",
       "      <th>query_start_time</th>\n",
       "      <th>error_code</th>\n",
       "      <th>error_message</th>\n",
       "      <th>graph_version</th>\n",
       "      <th>run_id</th>\n",
       "      <th>root_task_id</th>\n",
       "      <th>scheduled_from</th>\n",
       "    </tr>\n",
       "  </thead>\n",
       "  <tbody>\n",
       "  </tbody>\n",
       "</table>\n",
       "</div>"
      ],
      "text/plain": [
       "Empty DataFrame\n",
       "Columns: [duration_seconds, name, query_text, condition_text, schema_name, task_schema_id, database_name, task_database_id, scheduled_time, completed_time, state, return_value, query_id, query_start_time, error_code, error_message, graph_version, run_id, root_task_id, scheduled_from]\n",
       "Index: []"
      ]
     },
     "execution_count": 9,
     "metadata": {},
     "output_type": "execute_result"
    }
   ],
   "source": [
    "df=qlib.long_running_tasks(start_date=\"2022-01-01\", end_date=\"2022-02-02\")\n",
    "df.head()"
   ]
  },
  {
   "cell_type": "code",
   "execution_count": null,
   "metadata": {},
   "outputs": [],
   "source": []
  }
 ],
 "metadata": {
  "kernelspec": {
   "display_name": "Python 3.8.2 ('sf')",
   "language": "python",
   "name": "python3"
  },
  "language_info": {
   "codemirror_mode": {
    "name": "ipython",
    "version": 3
   },
   "file_extension": ".py",
   "mimetype": "text/x-python",
   "name": "python",
   "nbconvert_exporter": "python",
   "pygments_lexer": "ipython3",
   "version": "3.8.2"
  },
  "vscode": {
   "interpreter": {
    "hash": "ba286fab723f3beadf2310fa20d811dff5d5606e9e08a95b52f51185bcb3e19b"
   }
  }
 },
 "nbformat": 4,
 "nbformat_minor": 2
}
